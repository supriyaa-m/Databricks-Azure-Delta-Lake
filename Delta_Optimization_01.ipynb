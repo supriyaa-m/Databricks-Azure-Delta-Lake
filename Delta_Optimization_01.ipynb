{
 "cells": [
  {
   "cell_type": "code",
   "execution_count": 0,
   "metadata": {
    "application/vnd.databricks.v1+cell": {
     "cellMetadata": {
      "byteLimit": 2048000,
      "rowLimit": 10000
     },
     "inputWidgets": {},
     "nuid": "1846e730-7af1-4229-86d4-cc9cf593e393",
     "showTitle": false,
     "title": ""
    }
   },
   "outputs": [
    {
     "output_type": "display_data",
     "data": {
      "text/html": [
       "<style scoped>\n",
       "  .table-result-container {\n",
       "    max-height: 300px;\n",
       "    overflow: auto;\n",
       "  }\n",
       "  table, th, td {\n",
       "    border: 1px solid black;\n",
       "    border-collapse: collapse;\n",
       "  }\n",
       "  th, td {\n",
       "    padding: 5px;\n",
       "  }\n",
       "  th {\n",
       "    text-align: left;\n",
       "  }\n",
       "</style><div class='table-result-container'><table class='table-result'><thead style='background-color: white'><tr><th>path</th><th>name</th><th>size</th><th>modificationTime</th></tr></thead><tbody><tr><td>dbfs:/Volume/</td><td>Volume/</td><td>0</td><td>0</td></tr><tr><td>dbfs:/Volumes/</td><td>Volumes/</td><td>0</td><td>0</td></tr><tr><td>dbfs:/databricks-datasets/</td><td>databricks-datasets/</td><td>0</td><td>0</td></tr><tr><td>dbfs:/databricks-results/</td><td>databricks-results/</td><td>0</td><td>0</td></tr><tr><td>dbfs:/parquet/</td><td>parquet/</td><td>0</td><td>1705152524000</td></tr><tr><td>dbfs:/user/</td><td>user/</td><td>0</td><td>1705212592000</td></tr><tr><td>dbfs:/volume/</td><td>volume/</td><td>0</td><td>0</td></tr><tr><td>dbfs:/volumes/</td><td>volumes/</td><td>0</td><td>0</td></tr></tbody></table></div>"
      ]
     },
     "metadata": {
      "application/vnd.databricks.v1+output": {
       "addedWidgets": {},
       "aggData": [],
       "aggError": "",
       "aggOverflow": false,
       "aggSchema": [],
       "aggSeriesLimitReached": false,
       "aggType": "",
       "arguments": {},
       "columnCustomDisplayInfos": {},
       "data": [
        [
         "dbfs:/Volume/",
         "Volume/",
         0,
         0
        ],
        [
         "dbfs:/Volumes/",
         "Volumes/",
         0,
         0
        ],
        [
         "dbfs:/databricks-datasets/",
         "databricks-datasets/",
         0,
         0
        ],
        [
         "dbfs:/databricks-results/",
         "databricks-results/",
         0,
         0
        ],
        [
         "dbfs:/parquet/",
         "parquet/",
         0,
         1705152524000
        ],
        [
         "dbfs:/user/",
         "user/",
         0,
         1705212592000
        ],
        [
         "dbfs:/volume/",
         "volume/",
         0,
         0
        ],
        [
         "dbfs:/volumes/",
         "volumes/",
         0,
         0
        ]
       ],
       "datasetInfos": [],
       "dbfsResultPath": null,
       "isJsonSchema": true,
       "metadata": {
        "isDbfsCommandResult": false
       },
       "overflow": false,
       "plotOptions": {
        "customPlotOptions": {},
        "displayType": "table",
        "pivotAggregation": null,
        "pivotColumns": null,
        "xColumns": null,
        "yColumns": null
       },
       "removedWidgets": [],
       "schema": [
        {
         "metadata": "{}",
         "name": "path",
         "type": "\"string\""
        },
        {
         "metadata": "{}",
         "name": "name",
         "type": "\"string\""
        },
        {
         "metadata": "{}",
         "name": "size",
         "type": "\"long\""
        },
        {
         "metadata": "{}",
         "name": "modificationTime",
         "type": "\"long\""
        }
       ],
       "type": "table"
      }
     },
     "output_type": "display_data"
    }
   ],
   "source": [
    "%fs\n",
    "ls"
   ]
  },
  {
   "cell_type": "code",
   "execution_count": 0,
   "metadata": {
    "application/vnd.databricks.v1+cell": {
     "cellMetadata": {
      "byteLimit": 2048000,
      "rowLimit": 10000
     },
     "inputWidgets": {},
     "nuid": "c120c38c-83e1-43cb-9abe-950fb86b217b",
     "showTitle": false,
     "title": ""
    }
   },
   "outputs": [
    {
     "output_type": "display_data",
     "data": {
      "text/html": [
       "<style scoped>\n",
       "  .table-result-container {\n",
       "    max-height: 300px;\n",
       "    overflow: auto;\n",
       "  }\n",
       "  table, th, td {\n",
       "    border: 1px solid black;\n",
       "    border-collapse: collapse;\n",
       "  }\n",
       "  th, td {\n",
       "    padding: 5px;\n",
       "  }\n",
       "  th {\n",
       "    text-align: left;\n",
       "  }\n",
       "</style><div class='table-result-container'><table class='table-result'><thead style='background-color: white'><tr><th>path</th><th>name</th><th>size</th><th>modificationTime</th></tr></thead><tbody><tr><td>dbfs:/databricks-datasets/COVID/</td><td>COVID/</td><td>0</td><td>1705329000740</td></tr><tr><td>dbfs:/databricks-datasets/README.md</td><td>README.md</td><td>976</td><td>1532502320000</td></tr><tr><td>dbfs:/databricks-datasets/Rdatasets/</td><td>Rdatasets/</td><td>0</td><td>1705329000740</td></tr><tr><td>dbfs:/databricks-datasets/SPARK_README.md</td><td>SPARK_README.md</td><td>3359</td><td>1516124912000</td></tr><tr><td>dbfs:/databricks-datasets/adult/</td><td>adult/</td><td>0</td><td>1705329000740</td></tr><tr><td>dbfs:/databricks-datasets/airlines/</td><td>airlines/</td><td>0</td><td>1705329000740</td></tr><tr><td>dbfs:/databricks-datasets/amazon/</td><td>amazon/</td><td>0</td><td>1705329000740</td></tr><tr><td>dbfs:/databricks-datasets/asa/</td><td>asa/</td><td>0</td><td>1705329000740</td></tr><tr><td>dbfs:/databricks-datasets/atlas_higgs/</td><td>atlas_higgs/</td><td>0</td><td>1705329000740</td></tr><tr><td>dbfs:/databricks-datasets/bikeSharing/</td><td>bikeSharing/</td><td>0</td><td>1705329000740</td></tr><tr><td>dbfs:/databricks-datasets/cctvVideos/</td><td>cctvVideos/</td><td>0</td><td>1705329000740</td></tr><tr><td>dbfs:/databricks-datasets/credit-card-fraud/</td><td>credit-card-fraud/</td><td>0</td><td>1705329000740</td></tr><tr><td>dbfs:/databricks-datasets/cs100/</td><td>cs100/</td><td>0</td><td>1705329000740</td></tr><tr><td>dbfs:/databricks-datasets/cs110x/</td><td>cs110x/</td><td>0</td><td>1705329000740</td></tr><tr><td>dbfs:/databricks-datasets/cs190/</td><td>cs190/</td><td>0</td><td>1705329000740</td></tr><tr><td>dbfs:/databricks-datasets/data.gov/</td><td>data.gov/</td><td>0</td><td>1705329000740</td></tr><tr><td>dbfs:/databricks-datasets/definitive-guide/</td><td>definitive-guide/</td><td>0</td><td>1705329000740</td></tr><tr><td>dbfs:/databricks-datasets/delta-sharing/</td><td>delta-sharing/</td><td>0</td><td>1705329000740</td></tr><tr><td>dbfs:/databricks-datasets/flights/</td><td>flights/</td><td>0</td><td>1705329000740</td></tr><tr><td>dbfs:/databricks-datasets/flower_photos/</td><td>flower_photos/</td><td>0</td><td>1705329000740</td></tr><tr><td>dbfs:/databricks-datasets/flowers/</td><td>flowers/</td><td>0</td><td>1705329000740</td></tr><tr><td>dbfs:/databricks-datasets/genomics/</td><td>genomics/</td><td>0</td><td>1705329000740</td></tr><tr><td>dbfs:/databricks-datasets/hail/</td><td>hail/</td><td>0</td><td>1705329000740</td></tr><tr><td>dbfs:/databricks-datasets/identifying-campaign-effectiveness/</td><td>identifying-campaign-effectiveness/</td><td>0</td><td>1705329000740</td></tr><tr><td>dbfs:/databricks-datasets/iot/</td><td>iot/</td><td>0</td><td>1705329000740</td></tr><tr><td>dbfs:/databricks-datasets/iot-stream/</td><td>iot-stream/</td><td>0</td><td>1705329000740</td></tr><tr><td>dbfs:/databricks-datasets/learning-spark/</td><td>learning-spark/</td><td>0</td><td>1705329000740</td></tr><tr><td>dbfs:/databricks-datasets/learning-spark-v2/</td><td>learning-spark-v2/</td><td>0</td><td>1705329000740</td></tr><tr><td>dbfs:/databricks-datasets/lending-club-loan-stats/</td><td>lending-club-loan-stats/</td><td>0</td><td>1705329000740</td></tr><tr><td>dbfs:/databricks-datasets/med-images/</td><td>med-images/</td><td>0</td><td>1705329000740</td></tr><tr><td>dbfs:/databricks-datasets/media/</td><td>media/</td><td>0</td><td>1705329000740</td></tr><tr><td>dbfs:/databricks-datasets/mnist-digits/</td><td>mnist-digits/</td><td>0</td><td>1705329000740</td></tr><tr><td>dbfs:/databricks-datasets/news20.binary/</td><td>news20.binary/</td><td>0</td><td>1705329000740</td></tr><tr><td>dbfs:/databricks-datasets/nyctaxi/</td><td>nyctaxi/</td><td>0</td><td>1705329000740</td></tr><tr><td>dbfs:/databricks-datasets/nyctaxi-with-zipcodes/</td><td>nyctaxi-with-zipcodes/</td><td>0</td><td>1705329000740</td></tr><tr><td>dbfs:/databricks-datasets/online_retail/</td><td>online_retail/</td><td>0</td><td>1705329000740</td></tr><tr><td>dbfs:/databricks-datasets/overlap-join/</td><td>overlap-join/</td><td>0</td><td>1705329000740</td></tr><tr><td>dbfs:/databricks-datasets/power-plant/</td><td>power-plant/</td><td>0</td><td>1705329000740</td></tr><tr><td>dbfs:/databricks-datasets/retail-org/</td><td>retail-org/</td><td>0</td><td>1705329000740</td></tr><tr><td>dbfs:/databricks-datasets/rwe/</td><td>rwe/</td><td>0</td><td>1705329000740</td></tr><tr><td>dbfs:/databricks-datasets/sai-summit-2019-sf/</td><td>sai-summit-2019-sf/</td><td>0</td><td>1705329000740</td></tr><tr><td>dbfs:/databricks-datasets/sample_logs/</td><td>sample_logs/</td><td>0</td><td>1705329000740</td></tr><tr><td>dbfs:/databricks-datasets/samples/</td><td>samples/</td><td>0</td><td>1705329000740</td></tr><tr><td>dbfs:/databricks-datasets/sfo_customer_survey/</td><td>sfo_customer_survey/</td><td>0</td><td>1705329000740</td></tr><tr><td>dbfs:/databricks-datasets/sms_spam_collection/</td><td>sms_spam_collection/</td><td>0</td><td>1705329000740</td></tr><tr><td>dbfs:/databricks-datasets/songs/</td><td>songs/</td><td>0</td><td>1705329000740</td></tr><tr><td>dbfs:/databricks-datasets/structured-streaming/</td><td>structured-streaming/</td><td>0</td><td>1705329000740</td></tr><tr><td>dbfs:/databricks-datasets/timeseries/</td><td>timeseries/</td><td>0</td><td>1705329000740</td></tr><tr><td>dbfs:/databricks-datasets/tpch/</td><td>tpch/</td><td>0</td><td>1705329000740</td></tr><tr><td>dbfs:/databricks-datasets/travel_recommendations_realtime/</td><td>travel_recommendations_realtime/</td><td>0</td><td>1705329000740</td></tr><tr><td>dbfs:/databricks-datasets/warmup/</td><td>warmup/</td><td>0</td><td>1705329000740</td></tr><tr><td>dbfs:/databricks-datasets/weather/</td><td>weather/</td><td>0</td><td>1705329000740</td></tr><tr><td>dbfs:/databricks-datasets/wiki/</td><td>wiki/</td><td>0</td><td>1705329000740</td></tr><tr><td>dbfs:/databricks-datasets/wikipedia-datasets/</td><td>wikipedia-datasets/</td><td>0</td><td>1705329000740</td></tr><tr><td>dbfs:/databricks-datasets/wine-quality/</td><td>wine-quality/</td><td>0</td><td>1705329000740</td></tr></tbody></table></div>"
      ]
     },
     "metadata": {
      "application/vnd.databricks.v1+output": {
       "addedWidgets": {},
       "aggData": [],
       "aggError": "",
       "aggOverflow": false,
       "aggSchema": [],
       "aggSeriesLimitReached": false,
       "aggType": "",
       "arguments": {},
       "columnCustomDisplayInfos": {},
       "data": [
        [
         "dbfs:/databricks-datasets/COVID/",
         "COVID/",
         0,
         1705329000740
        ],
        [
         "dbfs:/databricks-datasets/README.md",
         "README.md",
         976,
         1532502320000
        ],
        [
         "dbfs:/databricks-datasets/Rdatasets/",
         "Rdatasets/",
         0,
         1705329000740
        ],
        [
         "dbfs:/databricks-datasets/SPARK_README.md",
         "SPARK_README.md",
         3359,
         1516124912000
        ],
        [
         "dbfs:/databricks-datasets/adult/",
         "adult/",
         0,
         1705329000740
        ],
        [
         "dbfs:/databricks-datasets/airlines/",
         "airlines/",
         0,
         1705329000740
        ],
        [
         "dbfs:/databricks-datasets/amazon/",
         "amazon/",
         0,
         1705329000740
        ],
        [
         "dbfs:/databricks-datasets/asa/",
         "asa/",
         0,
         1705329000740
        ],
        [
         "dbfs:/databricks-datasets/atlas_higgs/",
         "atlas_higgs/",
         0,
         1705329000740
        ],
        [
         "dbfs:/databricks-datasets/bikeSharing/",
         "bikeSharing/",
         0,
         1705329000740
        ],
        [
         "dbfs:/databricks-datasets/cctvVideos/",
         "cctvVideos/",
         0,
         1705329000740
        ],
        [
         "dbfs:/databricks-datasets/credit-card-fraud/",
         "credit-card-fraud/",
         0,
         1705329000740
        ],
        [
         "dbfs:/databricks-datasets/cs100/",
         "cs100/",
         0,
         1705329000740
        ],
        [
         "dbfs:/databricks-datasets/cs110x/",
         "cs110x/",
         0,
         1705329000740
        ],
        [
         "dbfs:/databricks-datasets/cs190/",
         "cs190/",
         0,
         1705329000740
        ],
        [
         "dbfs:/databricks-datasets/data.gov/",
         "data.gov/",
         0,
         1705329000740
        ],
        [
         "dbfs:/databricks-datasets/definitive-guide/",
         "definitive-guide/",
         0,
         1705329000740
        ],
        [
         "dbfs:/databricks-datasets/delta-sharing/",
         "delta-sharing/",
         0,
         1705329000740
        ],
        [
         "dbfs:/databricks-datasets/flights/",
         "flights/",
         0,
         1705329000740
        ],
        [
         "dbfs:/databricks-datasets/flower_photos/",
         "flower_photos/",
         0,
         1705329000740
        ],
        [
         "dbfs:/databricks-datasets/flowers/",
         "flowers/",
         0,
         1705329000740
        ],
        [
         "dbfs:/databricks-datasets/genomics/",
         "genomics/",
         0,
         1705329000740
        ],
        [
         "dbfs:/databricks-datasets/hail/",
         "hail/",
         0,
         1705329000740
        ],
        [
         "dbfs:/databricks-datasets/identifying-campaign-effectiveness/",
         "identifying-campaign-effectiveness/",
         0,
         1705329000740
        ],
        [
         "dbfs:/databricks-datasets/iot/",
         "iot/",
         0,
         1705329000740
        ],
        [
         "dbfs:/databricks-datasets/iot-stream/",
         "iot-stream/",
         0,
         1705329000740
        ],
        [
         "dbfs:/databricks-datasets/learning-spark/",
         "learning-spark/",
         0,
         1705329000740
        ],
        [
         "dbfs:/databricks-datasets/learning-spark-v2/",
         "learning-spark-v2/",
         0,
         1705329000740
        ],
        [
         "dbfs:/databricks-datasets/lending-club-loan-stats/",
         "lending-club-loan-stats/",
         0,
         1705329000740
        ],
        [
         "dbfs:/databricks-datasets/med-images/",
         "med-images/",
         0,
         1705329000740
        ],
        [
         "dbfs:/databricks-datasets/media/",
         "media/",
         0,
         1705329000740
        ],
        [
         "dbfs:/databricks-datasets/mnist-digits/",
         "mnist-digits/",
         0,
         1705329000740
        ],
        [
         "dbfs:/databricks-datasets/news20.binary/",
         "news20.binary/",
         0,
         1705329000740
        ],
        [
         "dbfs:/databricks-datasets/nyctaxi/",
         "nyctaxi/",
         0,
         1705329000740
        ],
        [
         "dbfs:/databricks-datasets/nyctaxi-with-zipcodes/",
         "nyctaxi-with-zipcodes/",
         0,
         1705329000740
        ],
        [
         "dbfs:/databricks-datasets/online_retail/",
         "online_retail/",
         0,
         1705329000740
        ],
        [
         "dbfs:/databricks-datasets/overlap-join/",
         "overlap-join/",
         0,
         1705329000740
        ],
        [
         "dbfs:/databricks-datasets/power-plant/",
         "power-plant/",
         0,
         1705329000740
        ],
        [
         "dbfs:/databricks-datasets/retail-org/",
         "retail-org/",
         0,
         1705329000740
        ],
        [
         "dbfs:/databricks-datasets/rwe/",
         "rwe/",
         0,
         1705329000740
        ],
        [
         "dbfs:/databricks-datasets/sai-summit-2019-sf/",
         "sai-summit-2019-sf/",
         0,
         1705329000740
        ],
        [
         "dbfs:/databricks-datasets/sample_logs/",
         "sample_logs/",
         0,
         1705329000740
        ],
        [
         "dbfs:/databricks-datasets/samples/",
         "samples/",
         0,
         1705329000740
        ],
        [
         "dbfs:/databricks-datasets/sfo_customer_survey/",
         "sfo_customer_survey/",
         0,
         1705329000740
        ],
        [
         "dbfs:/databricks-datasets/sms_spam_collection/",
         "sms_spam_collection/",
         0,
         1705329000740
        ],
        [
         "dbfs:/databricks-datasets/songs/",
         "songs/",
         0,
         1705329000740
        ],
        [
         "dbfs:/databricks-datasets/structured-streaming/",
         "structured-streaming/",
         0,
         1705329000740
        ],
        [
         "dbfs:/databricks-datasets/timeseries/",
         "timeseries/",
         0,
         1705329000740
        ],
        [
         "dbfs:/databricks-datasets/tpch/",
         "tpch/",
         0,
         1705329000740
        ],
        [
         "dbfs:/databricks-datasets/travel_recommendations_realtime/",
         "travel_recommendations_realtime/",
         0,
         1705329000740
        ],
        [
         "dbfs:/databricks-datasets/warmup/",
         "warmup/",
         0,
         1705329000740
        ],
        [
         "dbfs:/databricks-datasets/weather/",
         "weather/",
         0,
         1705329000740
        ],
        [
         "dbfs:/databricks-datasets/wiki/",
         "wiki/",
         0,
         1705329000740
        ],
        [
         "dbfs:/databricks-datasets/wikipedia-datasets/",
         "wikipedia-datasets/",
         0,
         1705329000740
        ],
        [
         "dbfs:/databricks-datasets/wine-quality/",
         "wine-quality/",
         0,
         1705329000740
        ]
       ],
       "datasetInfos": [],
       "dbfsResultPath": null,
       "isJsonSchema": true,
       "metadata": {
        "isDbfsCommandResult": false
       },
       "overflow": false,
       "plotOptions": {
        "customPlotOptions": {},
        "displayType": "table",
        "pivotAggregation": null,
        "pivotColumns": null,
        "xColumns": null,
        "yColumns": null
       },
       "removedWidgets": [],
       "schema": [
        {
         "metadata": "{}",
         "name": "path",
         "type": "\"string\""
        },
        {
         "metadata": "{}",
         "name": "name",
         "type": "\"string\""
        },
        {
         "metadata": "{}",
         "name": "size",
         "type": "\"long\""
        },
        {
         "metadata": "{}",
         "name": "modificationTime",
         "type": "\"long\""
        }
       ],
       "type": "table"
      }
     },
     "output_type": "display_data"
    }
   ],
   "source": [
    "%fs\n",
    "ls /databricks-datasets/"
   ]
  },
  {
   "cell_type": "code",
   "execution_count": 0,
   "metadata": {
    "application/vnd.databricks.v1+cell": {
     "cellMetadata": {
      "byteLimit": 2048000,
      "rowLimit": 10000
     },
     "inputWidgets": {},
     "nuid": "901f0b82-f715-4cc0-a68d-6e386a597506",
     "showTitle": false,
     "title": ""
    }
   },
   "outputs": [
    {
     "output_type": "display_data",
     "data": {
      "text/html": [
       "<style scoped>\n",
       "  .table-result-container {\n",
       "    max-height: 300px;\n",
       "    overflow: auto;\n",
       "  }\n",
       "  table, th, td {\n",
       "    border: 1px solid black;\n",
       "    border-collapse: collapse;\n",
       "  }\n",
       "  th, td {\n",
       "    padding: 5px;\n",
       "  }\n",
       "  th {\n",
       "    text-align: left;\n",
       "  }\n",
       "</style><div class='table-result-container'><table class='table-result'><thead style='background-color: white'><tr><th>path</th><th>name</th><th>size</th><th>modificationTime</th></tr></thead><tbody><tr><td>dbfs:/databricks-datasets/nyctaxi/readme_nyctaxi.txt</td><td>readme_nyctaxi.txt</td><td>916</td><td>1590530037000</td></tr><tr><td>dbfs:/databricks-datasets/nyctaxi/reference/</td><td>reference/</td><td>0</td><td>1705329001023</td></tr><tr><td>dbfs:/databricks-datasets/nyctaxi/sample/</td><td>sample/</td><td>0</td><td>1705329001023</td></tr><tr><td>dbfs:/databricks-datasets/nyctaxi/tables/</td><td>tables/</td><td>0</td><td>1705329001023</td></tr><tr><td>dbfs:/databricks-datasets/nyctaxi/taxizone/</td><td>taxizone/</td><td>0</td><td>1705329001023</td></tr><tr><td>dbfs:/databricks-datasets/nyctaxi/tripdata/</td><td>tripdata/</td><td>0</td><td>1705329001023</td></tr></tbody></table></div>"
      ]
     },
     "metadata": {
      "application/vnd.databricks.v1+output": {
       "addedWidgets": {},
       "aggData": [],
       "aggError": "",
       "aggOverflow": false,
       "aggSchema": [],
       "aggSeriesLimitReached": false,
       "aggType": "",
       "arguments": {},
       "columnCustomDisplayInfos": {},
       "data": [
        [
         "dbfs:/databricks-datasets/nyctaxi/readme_nyctaxi.txt",
         "readme_nyctaxi.txt",
         916,
         1590530037000
        ],
        [
         "dbfs:/databricks-datasets/nyctaxi/reference/",
         "reference/",
         0,
         1705329001023
        ],
        [
         "dbfs:/databricks-datasets/nyctaxi/sample/",
         "sample/",
         0,
         1705329001023
        ],
        [
         "dbfs:/databricks-datasets/nyctaxi/tables/",
         "tables/",
         0,
         1705329001023
        ],
        [
         "dbfs:/databricks-datasets/nyctaxi/taxizone/",
         "taxizone/",
         0,
         1705329001023
        ],
        [
         "dbfs:/databricks-datasets/nyctaxi/tripdata/",
         "tripdata/",
         0,
         1705329001023
        ]
       ],
       "datasetInfos": [],
       "dbfsResultPath": null,
       "isJsonSchema": true,
       "metadata": {
        "isDbfsCommandResult": false
       },
       "overflow": false,
       "plotOptions": {
        "customPlotOptions": {},
        "displayType": "table",
        "pivotAggregation": null,
        "pivotColumns": null,
        "xColumns": null,
        "yColumns": null
       },
       "removedWidgets": [],
       "schema": [
        {
         "metadata": "{}",
         "name": "path",
         "type": "\"string\""
        },
        {
         "metadata": "{}",
         "name": "name",
         "type": "\"string\""
        },
        {
         "metadata": "{}",
         "name": "size",
         "type": "\"long\""
        },
        {
         "metadata": "{}",
         "name": "modificationTime",
         "type": "\"long\""
        }
       ],
       "type": "table"
      }
     },
     "output_type": "display_data"
    }
   ],
   "source": [
    "%fs\n",
    "ls /databricks-datasets/nyctaxi/"
   ]
  },
  {
   "cell_type": "code",
   "execution_count": 0,
   "metadata": {
    "application/vnd.databricks.v1+cell": {
     "cellMetadata": {
      "byteLimit": 2048000,
      "rowLimit": 10000
     },
     "inputWidgets": {},
     "nuid": "f1f59d9a-119b-46b2-a2a9-6bdf9392d9cc",
     "showTitle": false,
     "title": ""
    }
   },
   "outputs": [
    {
     "output_type": "display_data",
     "data": {
      "text/html": [
       "<style scoped>\n",
       "  .table-result-container {\n",
       "    max-height: 300px;\n",
       "    overflow: auto;\n",
       "  }\n",
       "  table, th, td {\n",
       "    border: 1px solid black;\n",
       "    border-collapse: collapse;\n",
       "  }\n",
       "  th, td {\n",
       "    padding: 5px;\n",
       "  }\n",
       "  th {\n",
       "    text-align: left;\n",
       "  }\n",
       "</style><div class='table-result-container'><table class='table-result'><thead style='background-color: white'><tr><th>path</th><th>name</th><th>size</th><th>modificationTime</th></tr></thead><tbody><tr><td>dbfs:/databricks-datasets/nyctaxi/tripdata/yellow/yellow_tripdata_2009-01.csv.gz</td><td>yellow_tripdata_2009-01.csv.gz</td><td>504262564</td><td>1590530537000</td></tr><tr><td>dbfs:/databricks-datasets/nyctaxi/tripdata/yellow/yellow_tripdata_2009-02.csv.gz</td><td>yellow_tripdata_2009-02.csv.gz</td><td>480034681</td><td>1590530537000</td></tr><tr><td>dbfs:/databricks-datasets/nyctaxi/tripdata/yellow/yellow_tripdata_2009-03.csv.gz</td><td>yellow_tripdata_2009-03.csv.gz</td><td>521102719</td><td>1590530537000</td></tr><tr><td>dbfs:/databricks-datasets/nyctaxi/tripdata/yellow/yellow_tripdata_2009-04.csv.gz</td><td>yellow_tripdata_2009-04.csv.gz</td><td>515435466</td><td>1590530538000</td></tr><tr><td>dbfs:/databricks-datasets/nyctaxi/tripdata/yellow/yellow_tripdata_2009-05.csv.gz</td><td>yellow_tripdata_2009-05.csv.gz</td><td>531133739</td><td>1590530538000</td></tr><tr><td>dbfs:/databricks-datasets/nyctaxi/tripdata/yellow/yellow_tripdata_2009-06.csv.gz</td><td>yellow_tripdata_2009-06.csv.gz</td><td>508802995</td><td>1590530633000</td></tr><tr><td>dbfs:/databricks-datasets/nyctaxi/tripdata/yellow/yellow_tripdata_2009-07.csv.gz</td><td>yellow_tripdata_2009-07.csv.gz</td><td>487731497</td><td>1590530637000</td></tr><tr><td>dbfs:/databricks-datasets/nyctaxi/tripdata/yellow/yellow_tripdata_2009-08.csv.gz</td><td>yellow_tripdata_2009-08.csv.gz</td><td>490825210</td><td>1590530641000</td></tr><tr><td>dbfs:/databricks-datasets/nyctaxi/tripdata/yellow/yellow_tripdata_2009-09.csv.gz</td><td>yellow_tripdata_2009-09.csv.gz</td><td>503121179</td><td>1590530641000</td></tr><tr><td>dbfs:/databricks-datasets/nyctaxi/tripdata/yellow/yellow_tripdata_2009-10.csv.gz</td><td>yellow_tripdata_2009-10.csv.gz</td><td>567109604</td><td>1590530643000</td></tr><tr><td>dbfs:/databricks-datasets/nyctaxi/tripdata/yellow/yellow_tripdata_2009-11.csv.gz</td><td>yellow_tripdata_2009-11.csv.gz</td><td>520260634</td><td>1590530742000</td></tr><tr><td>dbfs:/databricks-datasets/nyctaxi/tripdata/yellow/yellow_tripdata_2009-12.csv.gz</td><td>yellow_tripdata_2009-12.csv.gz</td><td>530726595</td><td>1590530742000</td></tr><tr><td>dbfs:/databricks-datasets/nyctaxi/tripdata/yellow/yellow_tripdata_2010-01.csv.gz</td><td>yellow_tripdata_2010-01.csv.gz</td><td>565548417</td><td>1590530745000</td></tr><tr><td>dbfs:/databricks-datasets/nyctaxi/tripdata/yellow/yellow_tripdata_2010-02.csv.gz</td><td>yellow_tripdata_2010-02.csv.gz</td><td>396576504</td><td>1590530748000</td></tr><tr><td>dbfs:/databricks-datasets/nyctaxi/tripdata/yellow/yellow_tripdata_2010-03.csv.gz</td><td>yellow_tripdata_2010-03.csv.gz</td><td>456086101</td><td>1590530764000</td></tr><tr><td>dbfs:/databricks-datasets/nyctaxi/tripdata/yellow/yellow_tripdata_2010-04.csv.gz</td><td>yellow_tripdata_2010-04.csv.gz</td><td>579400917</td><td>1590530833000</td></tr><tr><td>dbfs:/databricks-datasets/nyctaxi/tripdata/yellow/yellow_tripdata_2010-05.csv.gz</td><td>yellow_tripdata_2010-05.csv.gz</td><td>593525883</td><td>1590530853000</td></tr><tr><td>dbfs:/databricks-datasets/nyctaxi/tripdata/yellow/yellow_tripdata_2010-06.csv.gz</td><td>yellow_tripdata_2010-06.csv.gz</td><td>568228308</td><td>1590530856000</td></tr><tr><td>dbfs:/databricks-datasets/nyctaxi/tripdata/yellow/yellow_tripdata_2010-07.csv.gz</td><td>yellow_tripdata_2010-07.csv.gz</td><td>562093150</td><td>1590530860000</td></tr><tr><td>dbfs:/databricks-datasets/nyctaxi/tripdata/yellow/yellow_tripdata_2010-08.csv.gz</td><td>yellow_tripdata_2010-08.csv.gz</td><td>441394152</td><td>1590530862000</td></tr><tr><td>dbfs:/databricks-datasets/nyctaxi/tripdata/yellow/yellow_tripdata_2010-09.csv.gz</td><td>yellow_tripdata_2010-09.csv.gz</td><td>560174405</td><td>1590530954000</td></tr><tr><td>dbfs:/databricks-datasets/nyctaxi/tripdata/yellow/yellow_tripdata_2010-10.csv.gz</td><td>yellow_tripdata_2010-10.csv.gz</td><td>515205924</td><td>1590530955000</td></tr><tr><td>dbfs:/databricks-datasets/nyctaxi/tripdata/yellow/yellow_tripdata_2010-11.csv.gz</td><td>yellow_tripdata_2010-11.csv.gz</td><td>490723375</td><td>1590530970000</td></tr><tr><td>dbfs:/databricks-datasets/nyctaxi/tripdata/yellow/yellow_tripdata_2010-12.csv.gz</td><td>yellow_tripdata_2010-12.csv.gz</td><td>489442107</td><td>1590530971000</td></tr><tr><td>dbfs:/databricks-datasets/nyctaxi/tripdata/yellow/yellow_tripdata_2011-01.csv.gz</td><td>yellow_tripdata_2011-01.csv.gz</td><td>468994648</td><td>1590530975000</td></tr><tr><td>dbfs:/databricks-datasets/nyctaxi/tripdata/yellow/yellow_tripdata_2011-02.csv.gz</td><td>yellow_tripdata_2011-02.csv.gz</td><td>500480531</td><td>1590531060000</td></tr><tr><td>dbfs:/databricks-datasets/nyctaxi/tripdata/yellow/yellow_tripdata_2011-03.csv.gz</td><td>yellow_tripdata_2011-03.csv.gz</td><td>562171945</td><td>1590531066000</td></tr><tr><td>dbfs:/databricks-datasets/nyctaxi/tripdata/yellow/yellow_tripdata_2011-04.csv.gz</td><td>yellow_tripdata_2011-04.csv.gz</td><td>516464131</td><td>1590531072000</td></tr><tr><td>dbfs:/databricks-datasets/nyctaxi/tripdata/yellow/yellow_tripdata_2011-05.csv.gz</td><td>yellow_tripdata_2011-05.csv.gz</td><td>547466370</td><td>1590531072000</td></tr><tr><td>dbfs:/databricks-datasets/nyctaxi/tripdata/yellow/yellow_tripdata_2011-06.csv.gz</td><td>yellow_tripdata_2011-06.csv.gz</td><td>533561250</td><td>1590531073000</td></tr><tr><td>dbfs:/databricks-datasets/nyctaxi/tripdata/yellow/yellow_tripdata_2011-07.csv.gz</td><td>yellow_tripdata_2011-07.csv.gz</td><td>511667361</td><td>1590531172000</td></tr><tr><td>dbfs:/databricks-datasets/nyctaxi/tripdata/yellow/yellow_tripdata_2011-08.csv.gz</td><td>yellow_tripdata_2011-08.csv.gz</td><td>479496009</td><td>1590531187000</td></tr><tr><td>dbfs:/databricks-datasets/nyctaxi/tripdata/yellow/yellow_tripdata_2011-09.csv.gz</td><td>yellow_tripdata_2011-09.csv.gz</td><td>519067867</td><td>1590531190000</td></tr><tr><td>dbfs:/databricks-datasets/nyctaxi/tripdata/yellow/yellow_tripdata_2011-10.csv.gz</td><td>yellow_tripdata_2011-10.csv.gz</td><td>555546037</td><td>1590531191000</td></tr><tr><td>dbfs:/databricks-datasets/nyctaxi/tripdata/yellow/yellow_tripdata_2011-11.csv.gz</td><td>yellow_tripdata_2011-11.csv.gz</td><td>505934258</td><td>1590531193000</td></tr><tr><td>dbfs:/databricks-datasets/nyctaxi/tripdata/yellow/yellow_tripdata_2011-12.csv.gz</td><td>yellow_tripdata_2011-12.csv.gz</td><td>521194284</td><td>1590531282000</td></tr><tr><td>dbfs:/databricks-datasets/nyctaxi/tripdata/yellow/yellow_tripdata_2012-01.csv.gz</td><td>yellow_tripdata_2012-01.csv.gz</td><td>542699629</td><td>1590531289000</td></tr><tr><td>dbfs:/databricks-datasets/nyctaxi/tripdata/yellow/yellow_tripdata_2012-02.csv.gz</td><td>yellow_tripdata_2012-02.csv.gz</td><td>538161783</td><td>1590531300000</td></tr><tr><td>dbfs:/databricks-datasets/nyctaxi/tripdata/yellow/yellow_tripdata_2012-03.csv.gz</td><td>yellow_tripdata_2012-03.csv.gz</td><td>577176001</td><td>1590531301000</td></tr><tr><td>dbfs:/databricks-datasets/nyctaxi/tripdata/yellow/yellow_tripdata_2012-04.csv.gz</td><td>yellow_tripdata_2012-04.csv.gz</td><td>543801972</td><td>1590531311000</td></tr><tr><td>dbfs:/databricks-datasets/nyctaxi/tripdata/yellow/yellow_tripdata_2012-05.csv.gz</td><td>yellow_tripdata_2012-05.csv.gz</td><td>549759424</td><td>1590531385000</td></tr><tr><td>dbfs:/databricks-datasets/nyctaxi/tripdata/yellow/yellow_tripdata_2012-06.csv.gz</td><td>yellow_tripdata_2012-06.csv.gz</td><td>536119707</td><td>1590531397000</td></tr><tr><td>dbfs:/databricks-datasets/nyctaxi/tripdata/yellow/yellow_tripdata_2012-07.csv.gz</td><td>yellow_tripdata_2012-07.csv.gz</td><td>509555120</td><td>1590531409000</td></tr><tr><td>dbfs:/databricks-datasets/nyctaxi/tripdata/yellow/yellow_tripdata_2012-08.csv.gz</td><td>yellow_tripdata_2012-08.csv.gz</td><td>511483352</td><td>1590531417000</td></tr><tr><td>dbfs:/databricks-datasets/nyctaxi/tripdata/yellow/yellow_tripdata_2012-09.csv.gz</td><td>yellow_tripdata_2012-09.csv.gz</td><td>459381547</td><td>1590531417000</td></tr><tr><td>dbfs:/databricks-datasets/nyctaxi/tripdata/yellow/yellow_tripdata_2012-10.csv.gz</td><td>yellow_tripdata_2012-10.csv.gz</td><td>468143217</td><td>1590531503000</td></tr><tr><td>dbfs:/databricks-datasets/nyctaxi/tripdata/yellow/yellow_tripdata_2012-11.csv.gz</td><td>yellow_tripdata_2012-11.csv.gz</td><td>443832708</td><td>1590531512000</td></tr><tr><td>dbfs:/databricks-datasets/nyctaxi/tripdata/yellow/yellow_tripdata_2012-12.csv.gz</td><td>yellow_tripdata_2012-12.csv.gz</td><td>493139441</td><td>1590531517000</td></tr><tr><td>dbfs:/databricks-datasets/nyctaxi/tripdata/yellow/yellow_tripdata_2013-01.csv.gz</td><td>yellow_tripdata_2013-01.csv.gz</td><td>478262343</td><td>1590531517000</td></tr><tr><td>dbfs:/databricks-datasets/nyctaxi/tripdata/yellow/yellow_tripdata_2013-02.csv.gz</td><td>yellow_tripdata_2013-02.csv.gz</td><td>451683985</td><td>1590531524000</td></tr><tr><td>dbfs:/databricks-datasets/nyctaxi/tripdata/yellow/yellow_tripdata_2013-03.csv.gz</td><td>yellow_tripdata_2013-03.csv.gz</td><td>516448368</td><td>1590531594000</td></tr><tr><td>dbfs:/databricks-datasets/nyctaxi/tripdata/yellow/yellow_tripdata_2013-04.csv.gz</td><td>yellow_tripdata_2013-04.csv.gz</td><td>500106589</td><td>1590531599000</td></tr><tr><td>dbfs:/databricks-datasets/nyctaxi/tripdata/yellow/yellow_tripdata_2013-05.csv.gz</td><td>yellow_tripdata_2013-05.csv.gz</td><td>493978775</td><td>1590531614000</td></tr><tr><td>dbfs:/databricks-datasets/nyctaxi/tripdata/yellow/yellow_tripdata_2013-06.csv.gz</td><td>yellow_tripdata_2013-06.csv.gz</td><td>472703135</td><td>1590531614000</td></tr><tr><td>dbfs:/databricks-datasets/nyctaxi/tripdata/yellow/yellow_tripdata_2013-07.csv.gz</td><td>yellow_tripdata_2013-07.csv.gz</td><td>450013796</td><td>1590531614000</td></tr><tr><td>dbfs:/databricks-datasets/nyctaxi/tripdata/yellow/yellow_tripdata_2013-08.csv.gz</td><td>yellow_tripdata_2013-08.csv.gz</td><td>421885789</td><td>1590531697000</td></tr><tr><td>dbfs:/databricks-datasets/nyctaxi/tripdata/yellow/yellow_tripdata_2013-09.csv.gz</td><td>yellow_tripdata_2013-09.csv.gz</td><td>481546619</td><td>1590531698000</td></tr><tr><td>dbfs:/databricks-datasets/nyctaxi/tripdata/yellow/yellow_tripdata_2013-10.csv.gz</td><td>yellow_tripdata_2013-10.csv.gz</td><td>500785608</td><td>1590531703000</td></tr><tr><td>dbfs:/databricks-datasets/nyctaxi/tripdata/yellow/yellow_tripdata_2013-11.csv.gz</td><td>yellow_tripdata_2013-11.csv.gz</td><td>481124327</td><td>1590531708000</td></tr><tr><td>dbfs:/databricks-datasets/nyctaxi/tripdata/yellow/yellow_tripdata_2013-12.csv.gz</td><td>yellow_tripdata_2013-12.csv.gz</td><td>459830158</td><td>1590531711000</td></tr><tr><td>dbfs:/databricks-datasets/nyctaxi/tripdata/yellow/yellow_tripdata_2014-01.csv.gz</td><td>yellow_tripdata_2014-01.csv.gz</td><td>445284946</td><td>1590531785000</td></tr><tr><td>dbfs:/databricks-datasets/nyctaxi/tripdata/yellow/yellow_tripdata_2014-02.csv.gz</td><td>yellow_tripdata_2014-02.csv.gz</td><td>427962052</td><td>1590531795000</td></tr><tr><td>dbfs:/databricks-datasets/nyctaxi/tripdata/yellow/yellow_tripdata_2014-03.csv.gz</td><td>yellow_tripdata_2014-03.csv.gz</td><td>512115757</td><td>1590531803000</td></tr><tr><td>dbfs:/databricks-datasets/nyctaxi/tripdata/yellow/yellow_tripdata_2014-04.csv.gz</td><td>yellow_tripdata_2014-04.csv.gz</td><td>475749569</td><td>1590531804000</td></tr><tr><td>dbfs:/databricks-datasets/nyctaxi/tripdata/yellow/yellow_tripdata_2014-05.csv.gz</td><td>yellow_tripdata_2014-05.csv.gz</td><td>485741383</td><td>1590531805000</td></tr><tr><td>dbfs:/databricks-datasets/nyctaxi/tripdata/yellow/yellow_tripdata_2014-06.csv.gz</td><td>yellow_tripdata_2014-06.csv.gz</td><td>456035000</td><td>1590531881000</td></tr><tr><td>dbfs:/databricks-datasets/nyctaxi/tripdata/yellow/yellow_tripdata_2014-07.csv.gz</td><td>yellow_tripdata_2014-07.csv.gz</td><td>425991155</td><td>1590531891000</td></tr><tr><td>dbfs:/databricks-datasets/nyctaxi/tripdata/yellow/yellow_tripdata_2014-08.csv.gz</td><td>yellow_tripdata_2014-08.csv.gz</td><td>419345164</td><td>1590531910000</td></tr><tr><td>dbfs:/databricks-datasets/nyctaxi/tripdata/yellow/yellow_tripdata_2014-09.csv.gz</td><td>yellow_tripdata_2014-09.csv.gz</td><td>443182114</td><td>1590531913000</td></tr><tr><td>dbfs:/databricks-datasets/nyctaxi/tripdata/yellow/yellow_tripdata_2014-10.csv.gz</td><td>yellow_tripdata_2014-10.csv.gz</td><td>466041865</td><td>1590531917000</td></tr><tr><td>dbfs:/databricks-datasets/nyctaxi/tripdata/yellow/yellow_tripdata_2014-11.csv.gz</td><td>yellow_tripdata_2014-11.csv.gz</td><td>437336437</td><td>1590531982000</td></tr><tr><td>dbfs:/databricks-datasets/nyctaxi/tripdata/yellow/yellow_tripdata_2014-12.csv.gz</td><td>yellow_tripdata_2014-12.csv.gz</td><td>431611778</td><td>1590531985000</td></tr><tr><td>dbfs:/databricks-datasets/nyctaxi/tripdata/yellow/yellow_tripdata_2015-01.csv.gz</td><td>yellow_tripdata_2015-01.csv.gz</td><td>510982711</td><td>1590532004000</td></tr><tr><td>dbfs:/databricks-datasets/nyctaxi/tripdata/yellow/yellow_tripdata_2015-02.csv.gz</td><td>yellow_tripdata_2015-02.csv.gz</td><td>498934977</td><td>1590532011000</td></tr><tr><td>dbfs:/databricks-datasets/nyctaxi/tripdata/yellow/yellow_tripdata_2015-03.csv.gz</td><td>yellow_tripdata_2015-03.csv.gz</td><td>536626429</td><td>1590532021000</td></tr><tr><td>dbfs:/databricks-datasets/nyctaxi/tripdata/yellow/yellow_tripdata_2015-04.csv.gz</td><td>yellow_tripdata_2015-04.csv.gz</td><td>526278868</td><td>1590532080000</td></tr><tr><td>dbfs:/databricks-datasets/nyctaxi/tripdata/yellow/yellow_tripdata_2015-05.csv.gz</td><td>yellow_tripdata_2015-05.csv.gz</td><td>528674128</td><td>1590532081000</td></tr><tr><td>dbfs:/databricks-datasets/nyctaxi/tripdata/yellow/yellow_tripdata_2015-06.csv.gz</td><td>yellow_tripdata_2015-06.csv.gz</td><td>484887977</td><td>1590532114000</td></tr><tr><td>dbfs:/databricks-datasets/nyctaxi/tripdata/yellow/yellow_tripdata_2015-07.csv.gz</td><td>yellow_tripdata_2015-07.csv.gz</td><td>448653527</td><td>1590532119000</td></tr><tr><td>dbfs:/databricks-datasets/nyctaxi/tripdata/yellow/yellow_tripdata_2015-08.csv.gz</td><td>yellow_tripdata_2015-08.csv.gz</td><td>432743918</td><td>1590532137000</td></tr><tr><td>dbfs:/databricks-datasets/nyctaxi/tripdata/yellow/yellow_tripdata_2015-09.csv.gz</td><td>yellow_tripdata_2015-09.csv.gz</td><td>436791892</td><td>1590532190000</td></tr><tr><td>dbfs:/databricks-datasets/nyctaxi/tripdata/yellow/yellow_tripdata_2015-10.csv.gz</td><td>yellow_tripdata_2015-10.csv.gz</td><td>478620813</td><td>1590532191000</td></tr><tr><td>dbfs:/databricks-datasets/nyctaxi/tripdata/yellow/yellow_tripdata_2015-11.csv.gz</td><td>yellow_tripdata_2015-11.csv.gz</td><td>439257795</td><td>1590532210000</td></tr><tr><td>dbfs:/databricks-datasets/nyctaxi/tripdata/yellow/yellow_tripdata_2015-12.csv.gz</td><td>yellow_tripdata_2015-12.csv.gz</td><td>445153178</td><td>1590532210000</td></tr><tr><td>dbfs:/databricks-datasets/nyctaxi/tripdata/yellow/yellow_tripdata_2016-01.csv.gz</td><td>yellow_tripdata_2016-01.csv.gz</td><td>421734912</td><td>1590532225000</td></tr><tr><td>dbfs:/databricks-datasets/nyctaxi/tripdata/yellow/yellow_tripdata_2016-02.csv.gz</td><td>yellow_tripdata_2016-02.csv.gz</td><td>439029046</td><td>1590532283000</td></tr><tr><td>dbfs:/databricks-datasets/nyctaxi/tripdata/yellow/yellow_tripdata_2016-03.csv.gz</td><td>yellow_tripdata_2016-03.csv.gz</td><td>472243929</td><td>1590532293000</td></tr><tr><td>dbfs:/databricks-datasets/nyctaxi/tripdata/yellow/yellow_tripdata_2016-04.csv.gz</td><td>yellow_tripdata_2016-04.csv.gz</td><td>463706594</td><td>1590532307000</td></tr><tr><td>dbfs:/databricks-datasets/nyctaxi/tripdata/yellow/yellow_tripdata_2016-05.csv.gz</td><td>yellow_tripdata_2016-05.csv.gz</td><td>463046642</td><td>1590532308000</td></tr><tr><td>dbfs:/databricks-datasets/nyctaxi/tripdata/yellow/yellow_tripdata_2016-06.csv.gz</td><td>yellow_tripdata_2016-06.csv.gz</td><td>435640067</td><td>1590532317000</td></tr><tr><td>dbfs:/databricks-datasets/nyctaxi/tripdata/yellow/yellow_tripdata_2016-07.csv.gz</td><td>yellow_tripdata_2016-07.csv.gz</td><td>155772486</td><td>1590532379000</td></tr><tr><td>dbfs:/databricks-datasets/nyctaxi/tripdata/yellow/yellow_tripdata_2016-08.csv.gz</td><td>yellow_tripdata_2016-08.csv.gz</td><td>149189301</td><td>1590532398000</td></tr><tr><td>dbfs:/databricks-datasets/nyctaxi/tripdata/yellow/yellow_tripdata_2016-09.csv.gz</td><td>yellow_tripdata_2016-09.csv.gz</td><td>154436403</td><td>1590532410000</td></tr><tr><td>dbfs:/databricks-datasets/nyctaxi/tripdata/yellow/yellow_tripdata_2016-10.csv.gz</td><td>yellow_tripdata_2016-10.csv.gz</td><td>164098675</td><td>1590532412000</td></tr><tr><td>dbfs:/databricks-datasets/nyctaxi/tripdata/yellow/yellow_tripdata_2016-11.csv.gz</td><td>yellow_tripdata_2016-11.csv.gz</td><td>152816358</td><td>1590532412000</td></tr><tr><td>dbfs:/databricks-datasets/nyctaxi/tripdata/yellow/yellow_tripdata_2016-12.csv.gz</td><td>yellow_tripdata_2016-12.csv.gz</td><td>157413907</td><td>1590532417000</td></tr><tr><td>dbfs:/databricks-datasets/nyctaxi/tripdata/yellow/yellow_tripdata_2017-01.csv.gz</td><td>yellow_tripdata_2017-01.csv.gz</td><td>144492027</td><td>1590532431000</td></tr><tr><td>dbfs:/databricks-datasets/nyctaxi/tripdata/yellow/yellow_tripdata_2017-02.csv.gz</td><td>yellow_tripdata_2017-02.csv.gz</td><td>136659107</td><td>1590532443000</td></tr><tr><td>dbfs:/databricks-datasets/nyctaxi/tripdata/yellow/yellow_tripdata_2017-03.csv.gz</td><td>yellow_tripdata_2017-03.csv.gz</td><td>154604320</td><td>1590532446000</td></tr><tr><td>dbfs:/databricks-datasets/nyctaxi/tripdata/yellow/yellow_tripdata_2017-04.csv.gz</td><td>yellow_tripdata_2017-04.csv.gz</td><td>150995632</td><td>1590532447000</td></tr><tr><td>dbfs:/databricks-datasets/nyctaxi/tripdata/yellow/yellow_tripdata_2017-05.csv.gz</td><td>yellow_tripdata_2017-05.csv.gz</td><td>152513179</td><td>1590532449000</td></tr><tr><td>dbfs:/databricks-datasets/nyctaxi/tripdata/yellow/yellow_tripdata_2017-06.csv.gz</td><td>yellow_tripdata_2017-06.csv.gz</td><td>144967379</td><td>1590532468000</td></tr><tr><td>dbfs:/databricks-datasets/nyctaxi/tripdata/yellow/yellow_tripdata_2017-07.csv.gz</td><td>yellow_tripdata_2017-07.csv.gz</td><td>141141934</td><td>1590532477000</td></tr><tr><td>dbfs:/databricks-datasets/nyctaxi/tripdata/yellow/yellow_tripdata_2017-08.csv.gz</td><td>yellow_tripdata_2017-08.csv.gz</td><td>138415411</td><td>1590532485000</td></tr><tr><td>dbfs:/databricks-datasets/nyctaxi/tripdata/yellow/yellow_tripdata_2017-09.csv.gz</td><td>yellow_tripdata_2017-09.csv.gz</td><td>147622574</td><td>1590532486000</td></tr><tr><td>dbfs:/databricks-datasets/nyctaxi/tripdata/yellow/yellow_tripdata_2017-10.csv.gz</td><td>yellow_tripdata_2017-10.csv.gz</td><td>160943166</td><td>1590532490000</td></tr><tr><td>dbfs:/databricks-datasets/nyctaxi/tripdata/yellow/yellow_tripdata_2017-11.csv.gz</td><td>yellow_tripdata_2017-11.csv.gz</td><td>152770049</td><td>1590532503000</td></tr><tr><td>dbfs:/databricks-datasets/nyctaxi/tripdata/yellow/yellow_tripdata_2017-12.csv.gz</td><td>yellow_tripdata_2017-12.csv.gz</td><td>156184671</td><td>1590532513000</td></tr><tr><td>dbfs:/databricks-datasets/nyctaxi/tripdata/yellow/yellow_tripdata_2018-01.csv.gz</td><td>yellow_tripdata_2018-01.csv.gz</td><td>143211519</td><td>1590532521000</td></tr><tr><td>dbfs:/databricks-datasets/nyctaxi/tripdata/yellow/yellow_tripdata_2018-02.csv.gz</td><td>yellow_tripdata_2018-02.csv.gz</td><td>139062994</td><td>1590532523000</td></tr><tr><td>dbfs:/databricks-datasets/nyctaxi/tripdata/yellow/yellow_tripdata_2018-03.csv.gz</td><td>yellow_tripdata_2018-03.csv.gz</td><td>155108281</td><td>1590532530000</td></tr><tr><td>dbfs:/databricks-datasets/nyctaxi/tripdata/yellow/yellow_tripdata_2018-04.csv.gz</td><td>yellow_tripdata_2018-04.csv.gz</td><td>153504004</td><td>1590532539000</td></tr><tr><td>dbfs:/databricks-datasets/nyctaxi/tripdata/yellow/yellow_tripdata_2018-05.csv.gz</td><td>yellow_tripdata_2018-05.csv.gz</td><td>152775398</td><td>1590532547000</td></tr><tr><td>dbfs:/databricks-datasets/nyctaxi/tripdata/yellow/yellow_tripdata_2018-06.csv.gz</td><td>yellow_tripdata_2018-06.csv.gz</td><td>144377468</td><td>1590532551000</td></tr><tr><td>dbfs:/databricks-datasets/nyctaxi/tripdata/yellow/yellow_tripdata_2018-07.csv.gz</td><td>yellow_tripdata_2018-07.csv.gz</td><td>129810520</td><td>1590532552000</td></tr><tr><td>dbfs:/databricks-datasets/nyctaxi/tripdata/yellow/yellow_tripdata_2018-08.csv.gz</td><td>yellow_tripdata_2018-08.csv.gz</td><td>129874126</td><td>1590532560000</td></tr><tr><td>dbfs:/databricks-datasets/nyctaxi/tripdata/yellow/yellow_tripdata_2018-09.csv.gz</td><td>yellow_tripdata_2018-09.csv.gz</td><td>133683366</td><td>1590532573000</td></tr><tr><td>dbfs:/databricks-datasets/nyctaxi/tripdata/yellow/yellow_tripdata_2018-10.csv.gz</td><td>yellow_tripdata_2018-10.csv.gz</td><td>146678859</td><td>1590532581000</td></tr><tr><td>dbfs:/databricks-datasets/nyctaxi/tripdata/yellow/yellow_tripdata_2018-11.csv.gz</td><td>yellow_tripdata_2018-11.csv.gz</td><td>135364951</td><td>1590532581000</td></tr><tr><td>dbfs:/databricks-datasets/nyctaxi/tripdata/yellow/yellow_tripdata_2018-12.csv.gz</td><td>yellow_tripdata_2018-12.csv.gz</td><td>135612832</td><td>1590532583000</td></tr><tr><td>dbfs:/databricks-datasets/nyctaxi/tripdata/yellow/yellow_tripdata_2019-01.csv.gz</td><td>yellow_tripdata_2019-01.csv.gz</td><td>126896536</td><td>1590532589000</td></tr><tr><td>dbfs:/databricks-datasets/nyctaxi/tripdata/yellow/yellow_tripdata_2019-02.csv.gz</td><td>yellow_tripdata_2019-02.csv.gz</td><td>121172953</td><td>1590532602000</td></tr><tr><td>dbfs:/databricks-datasets/nyctaxi/tripdata/yellow/yellow_tripdata_2019-03.csv.gz</td><td>yellow_tripdata_2019-03.csv.gz</td><td>135816827</td><td>1590532613000</td></tr><tr><td>dbfs:/databricks-datasets/nyctaxi/tripdata/yellow/yellow_tripdata_2019-04.csv.gz</td><td>yellow_tripdata_2019-04.csv.gz</td><td>128774049</td><td>1590532614000</td></tr><tr><td>dbfs:/databricks-datasets/nyctaxi/tripdata/yellow/yellow_tripdata_2019-05.csv.gz</td><td>yellow_tripdata_2019-05.csv.gz</td><td>131394988</td><td>1590532614000</td></tr><tr><td>dbfs:/databricks-datasets/nyctaxi/tripdata/yellow/yellow_tripdata_2019-06.csv.gz</td><td>yellow_tripdata_2019-06.csv.gz</td><td>120767491</td><td>1590532619000</td></tr><tr><td>dbfs:/databricks-datasets/nyctaxi/tripdata/yellow/yellow_tripdata_2019-07.csv.gz</td><td>yellow_tripdata_2019-07.csv.gz</td><td>109579693</td><td>1590532628000</td></tr><tr><td>dbfs:/databricks-datasets/nyctaxi/tripdata/yellow/yellow_tripdata_2019-08.csv.gz</td><td>yellow_tripdata_2019-08.csv.gz</td><td>105492899</td><td>1590532641000</td></tr><tr><td>dbfs:/databricks-datasets/nyctaxi/tripdata/yellow/yellow_tripdata_2019-09.csv.gz</td><td>yellow_tripdata_2019-09.csv.gz</td><td>114297190</td><td>1590532641000</td></tr><tr><td>dbfs:/databricks-datasets/nyctaxi/tripdata/yellow/yellow_tripdata_2019-10.csv.gz</td><td>yellow_tripdata_2019-10.csv.gz</td><td>125220156</td><td>1590532642000</td></tr><tr><td>dbfs:/databricks-datasets/nyctaxi/tripdata/yellow/yellow_tripdata_2019-11.csv.gz</td><td>yellow_tripdata_2019-11.csv.gz</td><td>119085913</td><td>1590532645000</td></tr><tr><td>dbfs:/databricks-datasets/nyctaxi/tripdata/yellow/yellow_tripdata_2019-12.csv.gz</td><td>yellow_tripdata_2019-12.csv.gz</td><td>119637211</td><td>1590532654000</td></tr></tbody></table></div>"
      ]
     },
     "metadata": {
      "application/vnd.databricks.v1+output": {
       "addedWidgets": {},
       "aggData": [],
       "aggError": "",
       "aggOverflow": false,
       "aggSchema": [],
       "aggSeriesLimitReached": false,
       "aggType": "",
       "arguments": {},
       "columnCustomDisplayInfos": {},
       "data": [
        [
         "dbfs:/databricks-datasets/nyctaxi/tripdata/yellow/yellow_tripdata_2009-01.csv.gz",
         "yellow_tripdata_2009-01.csv.gz",
         504262564,
         1590530537000
        ],
        [
         "dbfs:/databricks-datasets/nyctaxi/tripdata/yellow/yellow_tripdata_2009-02.csv.gz",
         "yellow_tripdata_2009-02.csv.gz",
         480034681,
         1590530537000
        ],
        [
         "dbfs:/databricks-datasets/nyctaxi/tripdata/yellow/yellow_tripdata_2009-03.csv.gz",
         "yellow_tripdata_2009-03.csv.gz",
         521102719,
         1590530537000
        ],
        [
         "dbfs:/databricks-datasets/nyctaxi/tripdata/yellow/yellow_tripdata_2009-04.csv.gz",
         "yellow_tripdata_2009-04.csv.gz",
         515435466,
         1590530538000
        ],
        [
         "dbfs:/databricks-datasets/nyctaxi/tripdata/yellow/yellow_tripdata_2009-05.csv.gz",
         "yellow_tripdata_2009-05.csv.gz",
         531133739,
         1590530538000
        ],
        [
         "dbfs:/databricks-datasets/nyctaxi/tripdata/yellow/yellow_tripdata_2009-06.csv.gz",
         "yellow_tripdata_2009-06.csv.gz",
         508802995,
         1590530633000
        ],
        [
         "dbfs:/databricks-datasets/nyctaxi/tripdata/yellow/yellow_tripdata_2009-07.csv.gz",
         "yellow_tripdata_2009-07.csv.gz",
         487731497,
         1590530637000
        ],
        [
         "dbfs:/databricks-datasets/nyctaxi/tripdata/yellow/yellow_tripdata_2009-08.csv.gz",
         "yellow_tripdata_2009-08.csv.gz",
         490825210,
         1590530641000
        ],
        [
         "dbfs:/databricks-datasets/nyctaxi/tripdata/yellow/yellow_tripdata_2009-09.csv.gz",
         "yellow_tripdata_2009-09.csv.gz",
         503121179,
         1590530641000
        ],
        [
         "dbfs:/databricks-datasets/nyctaxi/tripdata/yellow/yellow_tripdata_2009-10.csv.gz",
         "yellow_tripdata_2009-10.csv.gz",
         567109604,
         1590530643000
        ],
        [
         "dbfs:/databricks-datasets/nyctaxi/tripdata/yellow/yellow_tripdata_2009-11.csv.gz",
         "yellow_tripdata_2009-11.csv.gz",
         520260634,
         1590530742000
        ],
        [
         "dbfs:/databricks-datasets/nyctaxi/tripdata/yellow/yellow_tripdata_2009-12.csv.gz",
         "yellow_tripdata_2009-12.csv.gz",
         530726595,
         1590530742000
        ],
        [
         "dbfs:/databricks-datasets/nyctaxi/tripdata/yellow/yellow_tripdata_2010-01.csv.gz",
         "yellow_tripdata_2010-01.csv.gz",
         565548417,
         1590530745000
        ],
        [
         "dbfs:/databricks-datasets/nyctaxi/tripdata/yellow/yellow_tripdata_2010-02.csv.gz",
         "yellow_tripdata_2010-02.csv.gz",
         396576504,
         1590530748000
        ],
        [
         "dbfs:/databricks-datasets/nyctaxi/tripdata/yellow/yellow_tripdata_2010-03.csv.gz",
         "yellow_tripdata_2010-03.csv.gz",
         456086101,
         1590530764000
        ],
        [
         "dbfs:/databricks-datasets/nyctaxi/tripdata/yellow/yellow_tripdata_2010-04.csv.gz",
         "yellow_tripdata_2010-04.csv.gz",
         579400917,
         1590530833000
        ],
        [
         "dbfs:/databricks-datasets/nyctaxi/tripdata/yellow/yellow_tripdata_2010-05.csv.gz",
         "yellow_tripdata_2010-05.csv.gz",
         593525883,
         1590530853000
        ],
        [
         "dbfs:/databricks-datasets/nyctaxi/tripdata/yellow/yellow_tripdata_2010-06.csv.gz",
         "yellow_tripdata_2010-06.csv.gz",
         568228308,
         1590530856000
        ],
        [
         "dbfs:/databricks-datasets/nyctaxi/tripdata/yellow/yellow_tripdata_2010-07.csv.gz",
         "yellow_tripdata_2010-07.csv.gz",
         562093150,
         1590530860000
        ],
        [
         "dbfs:/databricks-datasets/nyctaxi/tripdata/yellow/yellow_tripdata_2010-08.csv.gz",
         "yellow_tripdata_2010-08.csv.gz",
         441394152,
         1590530862000
        ],
        [
         "dbfs:/databricks-datasets/nyctaxi/tripdata/yellow/yellow_tripdata_2010-09.csv.gz",
         "yellow_tripdata_2010-09.csv.gz",
         560174405,
         1590530954000
        ],
        [
         "dbfs:/databricks-datasets/nyctaxi/tripdata/yellow/yellow_tripdata_2010-10.csv.gz",
         "yellow_tripdata_2010-10.csv.gz",
         515205924,
         1590530955000
        ],
        [
         "dbfs:/databricks-datasets/nyctaxi/tripdata/yellow/yellow_tripdata_2010-11.csv.gz",
         "yellow_tripdata_2010-11.csv.gz",
         490723375,
         1590530970000
        ],
        [
         "dbfs:/databricks-datasets/nyctaxi/tripdata/yellow/yellow_tripdata_2010-12.csv.gz",
         "yellow_tripdata_2010-12.csv.gz",
         489442107,
         1590530971000
        ],
        [
         "dbfs:/databricks-datasets/nyctaxi/tripdata/yellow/yellow_tripdata_2011-01.csv.gz",
         "yellow_tripdata_2011-01.csv.gz",
         468994648,
         1590530975000
        ],
        [
         "dbfs:/databricks-datasets/nyctaxi/tripdata/yellow/yellow_tripdata_2011-02.csv.gz",
         "yellow_tripdata_2011-02.csv.gz",
         500480531,
         1590531060000
        ],
        [
         "dbfs:/databricks-datasets/nyctaxi/tripdata/yellow/yellow_tripdata_2011-03.csv.gz",
         "yellow_tripdata_2011-03.csv.gz",
         562171945,
         1590531066000
        ],
        [
         "dbfs:/databricks-datasets/nyctaxi/tripdata/yellow/yellow_tripdata_2011-04.csv.gz",
         "yellow_tripdata_2011-04.csv.gz",
         516464131,
         1590531072000
        ],
        [
         "dbfs:/databricks-datasets/nyctaxi/tripdata/yellow/yellow_tripdata_2011-05.csv.gz",
         "yellow_tripdata_2011-05.csv.gz",
         547466370,
         1590531072000
        ],
        [
         "dbfs:/databricks-datasets/nyctaxi/tripdata/yellow/yellow_tripdata_2011-06.csv.gz",
         "yellow_tripdata_2011-06.csv.gz",
         533561250,
         1590531073000
        ],
        [
         "dbfs:/databricks-datasets/nyctaxi/tripdata/yellow/yellow_tripdata_2011-07.csv.gz",
         "yellow_tripdata_2011-07.csv.gz",
         511667361,
         1590531172000
        ],
        [
         "dbfs:/databricks-datasets/nyctaxi/tripdata/yellow/yellow_tripdata_2011-08.csv.gz",
         "yellow_tripdata_2011-08.csv.gz",
         479496009,
         1590531187000
        ],
        [
         "dbfs:/databricks-datasets/nyctaxi/tripdata/yellow/yellow_tripdata_2011-09.csv.gz",
         "yellow_tripdata_2011-09.csv.gz",
         519067867,
         1590531190000
        ],
        [
         "dbfs:/databricks-datasets/nyctaxi/tripdata/yellow/yellow_tripdata_2011-10.csv.gz",
         "yellow_tripdata_2011-10.csv.gz",
         555546037,
         1590531191000
        ],
        [
         "dbfs:/databricks-datasets/nyctaxi/tripdata/yellow/yellow_tripdata_2011-11.csv.gz",
         "yellow_tripdata_2011-11.csv.gz",
         505934258,
         1590531193000
        ],
        [
         "dbfs:/databricks-datasets/nyctaxi/tripdata/yellow/yellow_tripdata_2011-12.csv.gz",
         "yellow_tripdata_2011-12.csv.gz",
         521194284,
         1590531282000
        ],
        [
         "dbfs:/databricks-datasets/nyctaxi/tripdata/yellow/yellow_tripdata_2012-01.csv.gz",
         "yellow_tripdata_2012-01.csv.gz",
         542699629,
         1590531289000
        ],
        [
         "dbfs:/databricks-datasets/nyctaxi/tripdata/yellow/yellow_tripdata_2012-02.csv.gz",
         "yellow_tripdata_2012-02.csv.gz",
         538161783,
         1590531300000
        ],
        [
         "dbfs:/databricks-datasets/nyctaxi/tripdata/yellow/yellow_tripdata_2012-03.csv.gz",
         "yellow_tripdata_2012-03.csv.gz",
         577176001,
         1590531301000
        ],
        [
         "dbfs:/databricks-datasets/nyctaxi/tripdata/yellow/yellow_tripdata_2012-04.csv.gz",
         "yellow_tripdata_2012-04.csv.gz",
         543801972,
         1590531311000
        ],
        [
         "dbfs:/databricks-datasets/nyctaxi/tripdata/yellow/yellow_tripdata_2012-05.csv.gz",
         "yellow_tripdata_2012-05.csv.gz",
         549759424,
         1590531385000
        ],
        [
         "dbfs:/databricks-datasets/nyctaxi/tripdata/yellow/yellow_tripdata_2012-06.csv.gz",
         "yellow_tripdata_2012-06.csv.gz",
         536119707,
         1590531397000
        ],
        [
         "dbfs:/databricks-datasets/nyctaxi/tripdata/yellow/yellow_tripdata_2012-07.csv.gz",
         "yellow_tripdata_2012-07.csv.gz",
         509555120,
         1590531409000
        ],
        [
         "dbfs:/databricks-datasets/nyctaxi/tripdata/yellow/yellow_tripdata_2012-08.csv.gz",
         "yellow_tripdata_2012-08.csv.gz",
         511483352,
         1590531417000
        ],
        [
         "dbfs:/databricks-datasets/nyctaxi/tripdata/yellow/yellow_tripdata_2012-09.csv.gz",
         "yellow_tripdata_2012-09.csv.gz",
         459381547,
         1590531417000
        ],
        [
         "dbfs:/databricks-datasets/nyctaxi/tripdata/yellow/yellow_tripdata_2012-10.csv.gz",
         "yellow_tripdata_2012-10.csv.gz",
         468143217,
         1590531503000
        ],
        [
         "dbfs:/databricks-datasets/nyctaxi/tripdata/yellow/yellow_tripdata_2012-11.csv.gz",
         "yellow_tripdata_2012-11.csv.gz",
         443832708,
         1590531512000
        ],
        [
         "dbfs:/databricks-datasets/nyctaxi/tripdata/yellow/yellow_tripdata_2012-12.csv.gz",
         "yellow_tripdata_2012-12.csv.gz",
         493139441,
         1590531517000
        ],
        [
         "dbfs:/databricks-datasets/nyctaxi/tripdata/yellow/yellow_tripdata_2013-01.csv.gz",
         "yellow_tripdata_2013-01.csv.gz",
         478262343,
         1590531517000
        ],
        [
         "dbfs:/databricks-datasets/nyctaxi/tripdata/yellow/yellow_tripdata_2013-02.csv.gz",
         "yellow_tripdata_2013-02.csv.gz",
         451683985,
         1590531524000
        ],
        [
         "dbfs:/databricks-datasets/nyctaxi/tripdata/yellow/yellow_tripdata_2013-03.csv.gz",
         "yellow_tripdata_2013-03.csv.gz",
         516448368,
         1590531594000
        ],
        [
         "dbfs:/databricks-datasets/nyctaxi/tripdata/yellow/yellow_tripdata_2013-04.csv.gz",
         "yellow_tripdata_2013-04.csv.gz",
         500106589,
         1590531599000
        ],
        [
         "dbfs:/databricks-datasets/nyctaxi/tripdata/yellow/yellow_tripdata_2013-05.csv.gz",
         "yellow_tripdata_2013-05.csv.gz",
         493978775,
         1590531614000
        ],
        [
         "dbfs:/databricks-datasets/nyctaxi/tripdata/yellow/yellow_tripdata_2013-06.csv.gz",
         "yellow_tripdata_2013-06.csv.gz",
         472703135,
         1590531614000
        ],
        [
         "dbfs:/databricks-datasets/nyctaxi/tripdata/yellow/yellow_tripdata_2013-07.csv.gz",
         "yellow_tripdata_2013-07.csv.gz",
         450013796,
         1590531614000
        ],
        [
         "dbfs:/databricks-datasets/nyctaxi/tripdata/yellow/yellow_tripdata_2013-08.csv.gz",
         "yellow_tripdata_2013-08.csv.gz",
         421885789,
         1590531697000
        ],
        [
         "dbfs:/databricks-datasets/nyctaxi/tripdata/yellow/yellow_tripdata_2013-09.csv.gz",
         "yellow_tripdata_2013-09.csv.gz",
         481546619,
         1590531698000
        ],
        [
         "dbfs:/databricks-datasets/nyctaxi/tripdata/yellow/yellow_tripdata_2013-10.csv.gz",
         "yellow_tripdata_2013-10.csv.gz",
         500785608,
         1590531703000
        ],
        [
         "dbfs:/databricks-datasets/nyctaxi/tripdata/yellow/yellow_tripdata_2013-11.csv.gz",
         "yellow_tripdata_2013-11.csv.gz",
         481124327,
         1590531708000
        ],
        [
         "dbfs:/databricks-datasets/nyctaxi/tripdata/yellow/yellow_tripdata_2013-12.csv.gz",
         "yellow_tripdata_2013-12.csv.gz",
         459830158,
         1590531711000
        ],
        [
         "dbfs:/databricks-datasets/nyctaxi/tripdata/yellow/yellow_tripdata_2014-01.csv.gz",
         "yellow_tripdata_2014-01.csv.gz",
         445284946,
         1590531785000
        ],
        [
         "dbfs:/databricks-datasets/nyctaxi/tripdata/yellow/yellow_tripdata_2014-02.csv.gz",
         "yellow_tripdata_2014-02.csv.gz",
         427962052,
         1590531795000
        ],
        [
         "dbfs:/databricks-datasets/nyctaxi/tripdata/yellow/yellow_tripdata_2014-03.csv.gz",
         "yellow_tripdata_2014-03.csv.gz",
         512115757,
         1590531803000
        ],
        [
         "dbfs:/databricks-datasets/nyctaxi/tripdata/yellow/yellow_tripdata_2014-04.csv.gz",
         "yellow_tripdata_2014-04.csv.gz",
         475749569,
         1590531804000
        ],
        [
         "dbfs:/databricks-datasets/nyctaxi/tripdata/yellow/yellow_tripdata_2014-05.csv.gz",
         "yellow_tripdata_2014-05.csv.gz",
         485741383,
         1590531805000
        ],
        [
         "dbfs:/databricks-datasets/nyctaxi/tripdata/yellow/yellow_tripdata_2014-06.csv.gz",
         "yellow_tripdata_2014-06.csv.gz",
         456035000,
         1590531881000
        ],
        [
         "dbfs:/databricks-datasets/nyctaxi/tripdata/yellow/yellow_tripdata_2014-07.csv.gz",
         "yellow_tripdata_2014-07.csv.gz",
         425991155,
         1590531891000
        ],
        [
         "dbfs:/databricks-datasets/nyctaxi/tripdata/yellow/yellow_tripdata_2014-08.csv.gz",
         "yellow_tripdata_2014-08.csv.gz",
         419345164,
         1590531910000
        ],
        [
         "dbfs:/databricks-datasets/nyctaxi/tripdata/yellow/yellow_tripdata_2014-09.csv.gz",
         "yellow_tripdata_2014-09.csv.gz",
         443182114,
         1590531913000
        ],
        [
         "dbfs:/databricks-datasets/nyctaxi/tripdata/yellow/yellow_tripdata_2014-10.csv.gz",
         "yellow_tripdata_2014-10.csv.gz",
         466041865,
         1590531917000
        ],
        [
         "dbfs:/databricks-datasets/nyctaxi/tripdata/yellow/yellow_tripdata_2014-11.csv.gz",
         "yellow_tripdata_2014-11.csv.gz",
         437336437,
         1590531982000
        ],
        [
         "dbfs:/databricks-datasets/nyctaxi/tripdata/yellow/yellow_tripdata_2014-12.csv.gz",
         "yellow_tripdata_2014-12.csv.gz",
         431611778,
         1590531985000
        ],
        [
         "dbfs:/databricks-datasets/nyctaxi/tripdata/yellow/yellow_tripdata_2015-01.csv.gz",
         "yellow_tripdata_2015-01.csv.gz",
         510982711,
         1590532004000
        ],
        [
         "dbfs:/databricks-datasets/nyctaxi/tripdata/yellow/yellow_tripdata_2015-02.csv.gz",
         "yellow_tripdata_2015-02.csv.gz",
         498934977,
         1590532011000
        ],
        [
         "dbfs:/databricks-datasets/nyctaxi/tripdata/yellow/yellow_tripdata_2015-03.csv.gz",
         "yellow_tripdata_2015-03.csv.gz",
         536626429,
         1590532021000
        ],
        [
         "dbfs:/databricks-datasets/nyctaxi/tripdata/yellow/yellow_tripdata_2015-04.csv.gz",
         "yellow_tripdata_2015-04.csv.gz",
         526278868,
         1590532080000
        ],
        [
         "dbfs:/databricks-datasets/nyctaxi/tripdata/yellow/yellow_tripdata_2015-05.csv.gz",
         "yellow_tripdata_2015-05.csv.gz",
         528674128,
         1590532081000
        ],
        [
         "dbfs:/databricks-datasets/nyctaxi/tripdata/yellow/yellow_tripdata_2015-06.csv.gz",
         "yellow_tripdata_2015-06.csv.gz",
         484887977,
         1590532114000
        ],
        [
         "dbfs:/databricks-datasets/nyctaxi/tripdata/yellow/yellow_tripdata_2015-07.csv.gz",
         "yellow_tripdata_2015-07.csv.gz",
         448653527,
         1590532119000
        ],
        [
         "dbfs:/databricks-datasets/nyctaxi/tripdata/yellow/yellow_tripdata_2015-08.csv.gz",
         "yellow_tripdata_2015-08.csv.gz",
         432743918,
         1590532137000
        ],
        [
         "dbfs:/databricks-datasets/nyctaxi/tripdata/yellow/yellow_tripdata_2015-09.csv.gz",
         "yellow_tripdata_2015-09.csv.gz",
         436791892,
         1590532190000
        ],
        [
         "dbfs:/databricks-datasets/nyctaxi/tripdata/yellow/yellow_tripdata_2015-10.csv.gz",
         "yellow_tripdata_2015-10.csv.gz",
         478620813,
         1590532191000
        ],
        [
         "dbfs:/databricks-datasets/nyctaxi/tripdata/yellow/yellow_tripdata_2015-11.csv.gz",
         "yellow_tripdata_2015-11.csv.gz",
         439257795,
         1590532210000
        ],
        [
         "dbfs:/databricks-datasets/nyctaxi/tripdata/yellow/yellow_tripdata_2015-12.csv.gz",
         "yellow_tripdata_2015-12.csv.gz",
         445153178,
         1590532210000
        ],
        [
         "dbfs:/databricks-datasets/nyctaxi/tripdata/yellow/yellow_tripdata_2016-01.csv.gz",
         "yellow_tripdata_2016-01.csv.gz",
         421734912,
         1590532225000
        ],
        [
         "dbfs:/databricks-datasets/nyctaxi/tripdata/yellow/yellow_tripdata_2016-02.csv.gz",
         "yellow_tripdata_2016-02.csv.gz",
         439029046,
         1590532283000
        ],
        [
         "dbfs:/databricks-datasets/nyctaxi/tripdata/yellow/yellow_tripdata_2016-03.csv.gz",
         "yellow_tripdata_2016-03.csv.gz",
         472243929,
         1590532293000
        ],
        [
         "dbfs:/databricks-datasets/nyctaxi/tripdata/yellow/yellow_tripdata_2016-04.csv.gz",
         "yellow_tripdata_2016-04.csv.gz",
         463706594,
         1590532307000
        ],
        [
         "dbfs:/databricks-datasets/nyctaxi/tripdata/yellow/yellow_tripdata_2016-05.csv.gz",
         "yellow_tripdata_2016-05.csv.gz",
         463046642,
         1590532308000
        ],
        [
         "dbfs:/databricks-datasets/nyctaxi/tripdata/yellow/yellow_tripdata_2016-06.csv.gz",
         "yellow_tripdata_2016-06.csv.gz",
         435640067,
         1590532317000
        ],
        [
         "dbfs:/databricks-datasets/nyctaxi/tripdata/yellow/yellow_tripdata_2016-07.csv.gz",
         "yellow_tripdata_2016-07.csv.gz",
         155772486,
         1590532379000
        ],
        [
         "dbfs:/databricks-datasets/nyctaxi/tripdata/yellow/yellow_tripdata_2016-08.csv.gz",
         "yellow_tripdata_2016-08.csv.gz",
         149189301,
         1590532398000
        ],
        [
         "dbfs:/databricks-datasets/nyctaxi/tripdata/yellow/yellow_tripdata_2016-09.csv.gz",
         "yellow_tripdata_2016-09.csv.gz",
         154436403,
         1590532410000
        ],
        [
         "dbfs:/databricks-datasets/nyctaxi/tripdata/yellow/yellow_tripdata_2016-10.csv.gz",
         "yellow_tripdata_2016-10.csv.gz",
         164098675,
         1590532412000
        ],
        [
         "dbfs:/databricks-datasets/nyctaxi/tripdata/yellow/yellow_tripdata_2016-11.csv.gz",
         "yellow_tripdata_2016-11.csv.gz",
         152816358,
         1590532412000
        ],
        [
         "dbfs:/databricks-datasets/nyctaxi/tripdata/yellow/yellow_tripdata_2016-12.csv.gz",
         "yellow_tripdata_2016-12.csv.gz",
         157413907,
         1590532417000
        ],
        [
         "dbfs:/databricks-datasets/nyctaxi/tripdata/yellow/yellow_tripdata_2017-01.csv.gz",
         "yellow_tripdata_2017-01.csv.gz",
         144492027,
         1590532431000
        ],
        [
         "dbfs:/databricks-datasets/nyctaxi/tripdata/yellow/yellow_tripdata_2017-02.csv.gz",
         "yellow_tripdata_2017-02.csv.gz",
         136659107,
         1590532443000
        ],
        [
         "dbfs:/databricks-datasets/nyctaxi/tripdata/yellow/yellow_tripdata_2017-03.csv.gz",
         "yellow_tripdata_2017-03.csv.gz",
         154604320,
         1590532446000
        ],
        [
         "dbfs:/databricks-datasets/nyctaxi/tripdata/yellow/yellow_tripdata_2017-04.csv.gz",
         "yellow_tripdata_2017-04.csv.gz",
         150995632,
         1590532447000
        ],
        [
         "dbfs:/databricks-datasets/nyctaxi/tripdata/yellow/yellow_tripdata_2017-05.csv.gz",
         "yellow_tripdata_2017-05.csv.gz",
         152513179,
         1590532449000
        ],
        [
         "dbfs:/databricks-datasets/nyctaxi/tripdata/yellow/yellow_tripdata_2017-06.csv.gz",
         "yellow_tripdata_2017-06.csv.gz",
         144967379,
         1590532468000
        ],
        [
         "dbfs:/databricks-datasets/nyctaxi/tripdata/yellow/yellow_tripdata_2017-07.csv.gz",
         "yellow_tripdata_2017-07.csv.gz",
         141141934,
         1590532477000
        ],
        [
         "dbfs:/databricks-datasets/nyctaxi/tripdata/yellow/yellow_tripdata_2017-08.csv.gz",
         "yellow_tripdata_2017-08.csv.gz",
         138415411,
         1590532485000
        ],
        [
         "dbfs:/databricks-datasets/nyctaxi/tripdata/yellow/yellow_tripdata_2017-09.csv.gz",
         "yellow_tripdata_2017-09.csv.gz",
         147622574,
         1590532486000
        ],
        [
         "dbfs:/databricks-datasets/nyctaxi/tripdata/yellow/yellow_tripdata_2017-10.csv.gz",
         "yellow_tripdata_2017-10.csv.gz",
         160943166,
         1590532490000
        ],
        [
         "dbfs:/databricks-datasets/nyctaxi/tripdata/yellow/yellow_tripdata_2017-11.csv.gz",
         "yellow_tripdata_2017-11.csv.gz",
         152770049,
         1590532503000
        ],
        [
         "dbfs:/databricks-datasets/nyctaxi/tripdata/yellow/yellow_tripdata_2017-12.csv.gz",
         "yellow_tripdata_2017-12.csv.gz",
         156184671,
         1590532513000
        ],
        [
         "dbfs:/databricks-datasets/nyctaxi/tripdata/yellow/yellow_tripdata_2018-01.csv.gz",
         "yellow_tripdata_2018-01.csv.gz",
         143211519,
         1590532521000
        ],
        [
         "dbfs:/databricks-datasets/nyctaxi/tripdata/yellow/yellow_tripdata_2018-02.csv.gz",
         "yellow_tripdata_2018-02.csv.gz",
         139062994,
         1590532523000
        ],
        [
         "dbfs:/databricks-datasets/nyctaxi/tripdata/yellow/yellow_tripdata_2018-03.csv.gz",
         "yellow_tripdata_2018-03.csv.gz",
         155108281,
         1590532530000
        ],
        [
         "dbfs:/databricks-datasets/nyctaxi/tripdata/yellow/yellow_tripdata_2018-04.csv.gz",
         "yellow_tripdata_2018-04.csv.gz",
         153504004,
         1590532539000
        ],
        [
         "dbfs:/databricks-datasets/nyctaxi/tripdata/yellow/yellow_tripdata_2018-05.csv.gz",
         "yellow_tripdata_2018-05.csv.gz",
         152775398,
         1590532547000
        ],
        [
         "dbfs:/databricks-datasets/nyctaxi/tripdata/yellow/yellow_tripdata_2018-06.csv.gz",
         "yellow_tripdata_2018-06.csv.gz",
         144377468,
         1590532551000
        ],
        [
         "dbfs:/databricks-datasets/nyctaxi/tripdata/yellow/yellow_tripdata_2018-07.csv.gz",
         "yellow_tripdata_2018-07.csv.gz",
         129810520,
         1590532552000
        ],
        [
         "dbfs:/databricks-datasets/nyctaxi/tripdata/yellow/yellow_tripdata_2018-08.csv.gz",
         "yellow_tripdata_2018-08.csv.gz",
         129874126,
         1590532560000
        ],
        [
         "dbfs:/databricks-datasets/nyctaxi/tripdata/yellow/yellow_tripdata_2018-09.csv.gz",
         "yellow_tripdata_2018-09.csv.gz",
         133683366,
         1590532573000
        ],
        [
         "dbfs:/databricks-datasets/nyctaxi/tripdata/yellow/yellow_tripdata_2018-10.csv.gz",
         "yellow_tripdata_2018-10.csv.gz",
         146678859,
         1590532581000
        ],
        [
         "dbfs:/databricks-datasets/nyctaxi/tripdata/yellow/yellow_tripdata_2018-11.csv.gz",
         "yellow_tripdata_2018-11.csv.gz",
         135364951,
         1590532581000
        ],
        [
         "dbfs:/databricks-datasets/nyctaxi/tripdata/yellow/yellow_tripdata_2018-12.csv.gz",
         "yellow_tripdata_2018-12.csv.gz",
         135612832,
         1590532583000
        ],
        [
         "dbfs:/databricks-datasets/nyctaxi/tripdata/yellow/yellow_tripdata_2019-01.csv.gz",
         "yellow_tripdata_2019-01.csv.gz",
         126896536,
         1590532589000
        ],
        [
         "dbfs:/databricks-datasets/nyctaxi/tripdata/yellow/yellow_tripdata_2019-02.csv.gz",
         "yellow_tripdata_2019-02.csv.gz",
         121172953,
         1590532602000
        ],
        [
         "dbfs:/databricks-datasets/nyctaxi/tripdata/yellow/yellow_tripdata_2019-03.csv.gz",
         "yellow_tripdata_2019-03.csv.gz",
         135816827,
         1590532613000
        ],
        [
         "dbfs:/databricks-datasets/nyctaxi/tripdata/yellow/yellow_tripdata_2019-04.csv.gz",
         "yellow_tripdata_2019-04.csv.gz",
         128774049,
         1590532614000
        ],
        [
         "dbfs:/databricks-datasets/nyctaxi/tripdata/yellow/yellow_tripdata_2019-05.csv.gz",
         "yellow_tripdata_2019-05.csv.gz",
         131394988,
         1590532614000
        ],
        [
         "dbfs:/databricks-datasets/nyctaxi/tripdata/yellow/yellow_tripdata_2019-06.csv.gz",
         "yellow_tripdata_2019-06.csv.gz",
         120767491,
         1590532619000
        ],
        [
         "dbfs:/databricks-datasets/nyctaxi/tripdata/yellow/yellow_tripdata_2019-07.csv.gz",
         "yellow_tripdata_2019-07.csv.gz",
         109579693,
         1590532628000
        ],
        [
         "dbfs:/databricks-datasets/nyctaxi/tripdata/yellow/yellow_tripdata_2019-08.csv.gz",
         "yellow_tripdata_2019-08.csv.gz",
         105492899,
         1590532641000
        ],
        [
         "dbfs:/databricks-datasets/nyctaxi/tripdata/yellow/yellow_tripdata_2019-09.csv.gz",
         "yellow_tripdata_2019-09.csv.gz",
         114297190,
         1590532641000
        ],
        [
         "dbfs:/databricks-datasets/nyctaxi/tripdata/yellow/yellow_tripdata_2019-10.csv.gz",
         "yellow_tripdata_2019-10.csv.gz",
         125220156,
         1590532642000
        ],
        [
         "dbfs:/databricks-datasets/nyctaxi/tripdata/yellow/yellow_tripdata_2019-11.csv.gz",
         "yellow_tripdata_2019-11.csv.gz",
         119085913,
         1590532645000
        ],
        [
         "dbfs:/databricks-datasets/nyctaxi/tripdata/yellow/yellow_tripdata_2019-12.csv.gz",
         "yellow_tripdata_2019-12.csv.gz",
         119637211,
         1590532654000
        ]
       ],
       "datasetInfos": [],
       "dbfsResultPath": null,
       "isJsonSchema": true,
       "metadata": {},
       "overflow": false,
       "plotOptions": {
        "customPlotOptions": {},
        "displayType": "table",
        "pivotAggregation": null,
        "pivotColumns": null,
        "xColumns": null,
        "yColumns": null
       },
       "removedWidgets": [],
       "schema": [
        {
         "metadata": "{}",
         "name": "path",
         "type": "\"string\""
        },
        {
         "metadata": "{}",
         "name": "name",
         "type": "\"string\""
        },
        {
         "metadata": "{}",
         "name": "size",
         "type": "\"long\""
        },
        {
         "metadata": "{}",
         "name": "modificationTime",
         "type": "\"long\""
        }
       ],
       "type": "table"
      }
     },
     "output_type": "display_data"
    }
   ],
   "source": [
    "%fs \n",
    "ls /databricks-datasets/nyctaxi/tripdata/yellow"
   ]
  },
  {
   "cell_type": "code",
   "execution_count": 0,
   "metadata": {
    "application/vnd.databricks.v1+cell": {
     "cellMetadata": {
      "byteLimit": 2048000,
      "implicitDf": true,
      "rowLimit": 10000
     },
     "inputWidgets": {},
     "nuid": "cc4e1353-8864-4c0f-9e30-abbaddfcf9a2",
     "showTitle": false,
     "title": ""
    }
   },
   "outputs": [
    {
     "output_type": "display_data",
     "data": {
      "text/html": [
       "<style scoped>\n",
       "  .table-result-container {\n",
       "    max-height: 300px;\n",
       "    overflow: auto;\n",
       "  }\n",
       "  table, th, td {\n",
       "    border: 1px solid black;\n",
       "    border-collapse: collapse;\n",
       "  }\n",
       "  th, td {\n",
       "    padding: 5px;\n",
       "  }\n",
       "  th {\n",
       "    text-align: left;\n",
       "  }\n",
       "</style><div class='table-result-container'><table class='table-result'><thead style='background-color: white'><tr></tr></thead><tbody></tbody></table></div>"
      ]
     },
     "metadata": {
      "application/vnd.databricks.v1+output": {
       "addedWidgets": {},
       "aggData": [],
       "aggError": "",
       "aggOverflow": false,
       "aggSchema": [],
       "aggSeriesLimitReached": false,
       "aggType": "",
       "arguments": {},
       "columnCustomDisplayInfos": {},
       "data": [],
       "datasetInfos": [],
       "dbfsResultPath": null,
       "isJsonSchema": true,
       "metadata": {},
       "overflow": false,
       "plotOptions": {
        "customPlotOptions": {},
        "displayType": "table",
        "pivotAggregation": null,
        "pivotColumns": null,
        "xColumns": null,
        "yColumns": null
       },
       "removedWidgets": [],
       "schema": [],
       "type": "table"
      }
     },
     "output_type": "display_data"
    }
   ],
   "source": [
    "%sql\n",
    "create database if not exists trip_db"
   ]
  },
  {
   "cell_type": "code",
   "execution_count": 0,
   "metadata": {
    "application/vnd.databricks.v1+cell": {
     "cellMetadata": {
      "byteLimit": 2048000,
      "rowLimit": 10000
     },
     "inputWidgets": {},
     "nuid": "b4f45926-36bd-48c0-bbc2-f056eed79325",
     "showTitle": false,
     "title": ""
    }
   },
   "outputs": [
    {
     "output_type": "display_data",
     "data": {
      "text/html": [
       "<style scoped>\n",
       "  .ansiout {\n",
       "    display: block;\n",
       "    unicode-bidi: embed;\n",
       "    white-space: pre-wrap;\n",
       "    word-wrap: break-word;\n",
       "    word-break: break-all;\n",
       "    font-family: \"Menlo\", \"Monaco\", \"Consolas\", \"Ubuntu Mono\", \"Source Code Pro\", monospace;\n",
       "    font-size: 13px;\n",
       "    color: #555;\n",
       "    margin-left: 4px;\n",
       "    line-height: 19px;\n",
       "  }\n",
       "</style>\n",
       "<div class=\"ansiout\"></div>"
      ]
     },
     "metadata": {
      "application/vnd.databricks.v1+output": {
       "addedWidgets": {},
       "arguments": {},
       "data": "<div class=\"ansiout\"></div>",
       "datasetInfos": [],
       "metadata": {},
       "removedWidgets": [],
       "type": "html"
      }
     },
     "output_type": "display_data"
    }
   ],
   "source": [
    "trip_df = spark.read.format('csv').option('header',True).option('inferSchema',True).load('dbfs:/databricks-datasets/nyctaxi/tripdata/yellow/yellow_tripdata_2009-01.csv.gz')"
   ]
  },
  {
   "cell_type": "code",
   "execution_count": 0,
   "metadata": {
    "application/vnd.databricks.v1+cell": {
     "cellMetadata": {
      "byteLimit": 2048000,
      "rowLimit": 10000
     },
     "inputWidgets": {},
     "nuid": "05c0a59d-49dc-4c4f-aa50-dab547ddae25",
     "showTitle": false,
     "title": ""
    }
   },
   "outputs": [
    {
     "output_type": "display_data",
     "data": {
      "text/html": [
       "<style scoped>\n",
       "  .ansiout {\n",
       "    display: block;\n",
       "    unicode-bidi: embed;\n",
       "    white-space: pre-wrap;\n",
       "    word-wrap: break-word;\n",
       "    word-break: break-all;\n",
       "    font-family: \"Menlo\", \"Monaco\", \"Consolas\", \"Ubuntu Mono\", \"Source Code Pro\", monospace;\n",
       "    font-size: 13px;\n",
       "    color: #555;\n",
       "    margin-left: 4px;\n",
       "    line-height: 19px;\n",
       "  }\n",
       "</style>\n",
       "<div class=\"ansiout\">+-----------+--------------------+---------------------+---------------+-------------+----------+---------+---------+-----------------+----------+---------+------------+--------+---------+-------+-------+---------+---------+\n",
       "vendor_name|Trip_Pickup_DateTime|Trip_Dropoff_DateTime|Passenger_Count|Trip_Distance| Start_Lon|Start_Lat|Rate_Code|store_and_forward|   End_Lon|  End_Lat|Payment_Type|Fare_Amt|surcharge|mta_tax|Tip_Amt|Tolls_Amt|Total_Amt|\n",
       "+-----------+--------------------+---------------------+---------------+-------------+----------+---------+---------+-----------------+----------+---------+------------+--------+---------+-------+-------+---------+---------+\n",
       "        VTS| 2009-01-04 02:52:00|  2009-01-04 03:02:00|              1|         2.63|-73.991957|40.721567|     null|             null|-73.993803|40.695922|        CASH|     8.9|      0.5|   null|    0.0|      0.0|      9.4|\n",
       "        VTS| 2009-01-04 03:31:00|  2009-01-04 03:38:00|              3|         4.55|-73.982102| 40.73629|     null|             null| -73.95585| 40.76803|      Credit|    12.1|      0.5|   null|    2.0|      0.0|     14.6|\n",
       "+-----------+--------------------+---------------------+---------------+-------------+----------+---------+---------+-----------------+----------+---------+------------+--------+---------+-------+-------+---------+---------+\n",
       "only showing top 2 rows\n",
       "\n",
       "</div>"
      ]
     },
     "metadata": {
      "application/vnd.databricks.v1+output": {
       "addedWidgets": {},
       "arguments": {},
       "data": "<div class=\"ansiout\">+-----------+--------------------+---------------------+---------------+-------------+----------+---------+---------+-----------------+----------+---------+------------+--------+---------+-------+-------+---------+---------+\n|vendor_name|Trip_Pickup_DateTime|Trip_Dropoff_DateTime|Passenger_Count|Trip_Distance| Start_Lon|Start_Lat|Rate_Code|store_and_forward|   End_Lon|  End_Lat|Payment_Type|Fare_Amt|surcharge|mta_tax|Tip_Amt|Tolls_Amt|Total_Amt|\n+-----------+--------------------+---------------------+---------------+-------------+----------+---------+---------+-----------------+----------+---------+------------+--------+---------+-------+-------+---------+---------+\n|        VTS| 2009-01-04 02:52:00|  2009-01-04 03:02:00|              1|         2.63|-73.991957|40.721567|     null|             null|-73.993803|40.695922|        CASH|     8.9|      0.5|   null|    0.0|      0.0|      9.4|\n|        VTS| 2009-01-04 03:31:00|  2009-01-04 03:38:00|              3|         4.55|-73.982102| 40.73629|     null|             null| -73.95585| 40.76803|      Credit|    12.1|      0.5|   null|    2.0|      0.0|     14.6|\n+-----------+--------------------+---------------------+---------------+-------------+----------+---------+---------+-----------------+----------+---------+------------+--------+---------+-------+-------+---------+---------+\nonly showing top 2 rows\n\n</div>",
       "datasetInfos": [],
       "metadata": {},
       "removedWidgets": [],
       "type": "html"
      }
     },
     "output_type": "display_data"
    }
   ],
   "source": [
    "trip_df.show(2)"
   ]
  },
  {
   "cell_type": "code",
   "execution_count": 0,
   "metadata": {
    "application/vnd.databricks.v1+cell": {
     "cellMetadata": {
      "byteLimit": 2048000,
      "rowLimit": 10000
     },
     "inputWidgets": {},
     "nuid": "1edb1ddf-4778-4555-b2e6-094ee47b3fbb",
     "showTitle": false,
     "title": ""
    }
   },
   "outputs": [
    {
     "output_type": "display_data",
     "data": {
      "text/html": [
       "<style scoped>\n",
       "  .ansiout {\n",
       "    display: block;\n",
       "    unicode-bidi: embed;\n",
       "    white-space: pre-wrap;\n",
       "    word-wrap: break-word;\n",
       "    word-break: break-all;\n",
       "    font-family: \"Menlo\", \"Monaco\", \"Consolas\", \"Ubuntu Mono\", \"Source Code Pro\", monospace;\n",
       "    font-size: 13px;\n",
       "    color: #555;\n",
       "    margin-left: 4px;\n",
       "    line-height: 19px;\n",
       "  }\n",
       "</style>\n",
       "<div class=\"ansiout\">Out[48]: 14092413</div>"
      ]
     },
     "metadata": {
      "application/vnd.databricks.v1+output": {
       "addedWidgets": {},
       "arguments": {},
       "data": "<div class=\"ansiout\">Out[48]: 14092413</div>",
       "datasetInfos": [],
       "metadata": {},
       "removedWidgets": [],
       "type": "html"
      }
     },
     "output_type": "display_data"
    }
   ],
   "source": [
    "trip_df.count()"
   ]
  },
  {
   "cell_type": "code",
   "execution_count": 0,
   "metadata": {
    "application/vnd.databricks.v1+cell": {
     "cellMetadata": {
      "byteLimit": 2048000,
      "rowLimit": 10000
     },
     "inputWidgets": {},
     "nuid": "4df7b88d-625f-413b-9767-d135b3ed0131",
     "showTitle": false,
     "title": ""
    }
   },
   "outputs": [
    {
     "output_type": "display_data",
     "data": {
      "text/html": [
       "<style scoped>\n",
       "  .ansiout {\n",
       "    display: block;\n",
       "    unicode-bidi: embed;\n",
       "    white-space: pre-wrap;\n",
       "    word-wrap: break-word;\n",
       "    word-break: break-all;\n",
       "    font-family: \"Menlo\", \"Monaco\", \"Consolas\", \"Ubuntu Mono\", \"Source Code Pro\", monospace;\n",
       "    font-size: 13px;\n",
       "    color: #555;\n",
       "    margin-left: 4px;\n",
       "    line-height: 19px;\n",
       "  }\n",
       "</style>\n",
       "<div class=\"ansiout\"></div>"
      ]
     },
     "metadata": {
      "application/vnd.databricks.v1+output": {
       "addedWidgets": {},
       "arguments": {},
       "data": "<div class=\"ansiout\"></div>",
       "datasetInfos": [],
       "metadata": {},
       "removedWidgets": [],
       "type": "html"
      }
     },
     "output_type": "display_data"
    }
   ],
   "source": [
    "trip_df.repartition(20).write.format('delta').mode(\"overwrite\").saveAsTable('trip_db.trip_delta')"
   ]
  },
  {
   "cell_type": "code",
   "execution_count": 0,
   "metadata": {
    "application/vnd.databricks.v1+cell": {
     "cellMetadata": {
      "byteLimit": 2048000,
      "rowLimit": 10000
     },
     "inputWidgets": {},
     "nuid": "73592033-78ab-459c-a87f-21118db8e465",
     "showTitle": false,
     "title": ""
    }
   },
   "outputs": [
    {
     "output_type": "display_data",
     "data": {
      "text/html": [
       "<style scoped>\n",
       "  .ansiout {\n",
       "    display: block;\n",
       "    unicode-bidi: embed;\n",
       "    white-space: pre-wrap;\n",
       "    word-wrap: break-word;\n",
       "    word-break: break-all;\n",
       "    font-family: \"Menlo\", \"Monaco\", \"Consolas\", \"Ubuntu Mono\", \"Source Code Pro\", monospace;\n",
       "    font-size: 13px;\n",
       "    color: #555;\n",
       "    margin-left: 4px;\n",
       "    line-height: 19px;\n",
       "  }\n",
       "</style>\n",
       "<div class=\"ansiout\"></div>"
      ]
     },
     "metadata": {
      "application/vnd.databricks.v1+output": {
       "addedWidgets": {},
       "arguments": {},
       "data": "<div class=\"ansiout\"></div>",
       "datasetInfos": [],
       "metadata": {},
       "removedWidgets": [],
       "type": "html"
      }
     },
     "output_type": "display_data"
    }
   ],
   "source": [
    "trip_df.repartition(20).write.format('parquet').mode(\"overwrite\").saveAsTable('trip_db.trip_parquet')"
   ]
  },
  {
   "cell_type": "code",
   "execution_count": 0,
   "metadata": {
    "application/vnd.databricks.v1+cell": {
     "cellMetadata": {
      "byteLimit": 2048000,
      "implicitDf": true,
      "rowLimit": 10000
     },
     "inputWidgets": {},
     "nuid": "db4bf2da-d2ca-4eb9-86c6-354f12276e97",
     "showTitle": false,
     "title": ""
    }
   },
   "outputs": [
    {
     "output_type": "display_data",
     "data": {
      "text/html": [
       "<style scoped>\n",
       "  .table-result-container {\n",
       "    max-height: 300px;\n",
       "    overflow: auto;\n",
       "  }\n",
       "  table, th, td {\n",
       "    border: 1px solid black;\n",
       "    border-collapse: collapse;\n",
       "  }\n",
       "  th, td {\n",
       "    padding: 5px;\n",
       "  }\n",
       "  th {\n",
       "    text-align: left;\n",
       "  }\n",
       "</style><div class='table-result-container'><table class='table-result'><thead style='background-color: white'><tr><th>format</th><th>id</th><th>name</th><th>description</th><th>location</th><th>createdAt</th><th>lastModified</th><th>partitionColumns</th><th>numFiles</th><th>sizeInBytes</th><th>properties</th><th>minReaderVersion</th><th>minWriterVersion</th></tr></thead><tbody><tr><td>delta</td><td>cc2a8ab9-bb0a-4a52-8800-d19ee4560f0b</td><td>trip_db.trip_delta</td><td>null</td><td>dbfs:/user/hive/warehouse/trip_db.db/trip_delta</td><td>2024-01-15T09:10:32.488+0000</td><td>2024-01-15T09:12:34.000+0000</td><td>List()</td><td>20</td><td>487409212</td><td>Map()</td><td>1</td><td>2</td></tr></tbody></table></div>"
      ]
     },
     "metadata": {
      "application/vnd.databricks.v1+output": {
       "addedWidgets": {},
       "aggData": [],
       "aggError": "",
       "aggOverflow": false,
       "aggSchema": [],
       "aggSeriesLimitReached": false,
       "aggType": "",
       "arguments": {},
       "columnCustomDisplayInfos": {},
       "data": [
        [
         "delta",
         "cc2a8ab9-bb0a-4a52-8800-d19ee4560f0b",
         "trip_db.trip_delta",
         null,
         "dbfs:/user/hive/warehouse/trip_db.db/trip_delta",
         "2024-01-15T09:10:32.488+0000",
         "2024-01-15T09:12:34.000+0000",
         [],
         20,
         487409212,
         {},
         1,
         2
        ]
       ],
       "datasetInfos": [],
       "dbfsResultPath": null,
       "isJsonSchema": true,
       "metadata": {},
       "overflow": false,
       "plotOptions": {
        "customPlotOptions": {},
        "displayType": "table",
        "pivotAggregation": null,
        "pivotColumns": null,
        "xColumns": null,
        "yColumns": null
       },
       "removedWidgets": [],
       "schema": [
        {
         "metadata": "{}",
         "name": "format",
         "type": "\"string\""
        },
        {
         "metadata": "{}",
         "name": "id",
         "type": "\"string\""
        },
        {
         "metadata": "{}",
         "name": "name",
         "type": "\"string\""
        },
        {
         "metadata": "{}",
         "name": "description",
         "type": "\"string\""
        },
        {
         "metadata": "{}",
         "name": "location",
         "type": "\"string\""
        },
        {
         "metadata": "{}",
         "name": "createdAt",
         "type": "\"timestamp\""
        },
        {
         "metadata": "{}",
         "name": "lastModified",
         "type": "\"timestamp\""
        },
        {
         "metadata": "{}",
         "name": "partitionColumns",
         "type": "{\"type\":\"array\",\"elementType\":\"string\",\"containsNull\":true}"
        },
        {
         "metadata": "{}",
         "name": "numFiles",
         "type": "\"long\""
        },
        {
         "metadata": "{}",
         "name": "sizeInBytes",
         "type": "\"long\""
        },
        {
         "metadata": "{}",
         "name": "properties",
         "type": "{\"type\":\"map\",\"keyType\":\"string\",\"valueType\":\"string\",\"valueContainsNull\":true}"
        },
        {
         "metadata": "{}",
         "name": "minReaderVersion",
         "type": "\"integer\""
        },
        {
         "metadata": "{}",
         "name": "minWriterVersion",
         "type": "\"integer\""
        }
       ],
       "type": "table"
      }
     },
     "output_type": "display_data"
    }
   ],
   "source": [
    "%sql\n",
    "describe detail trip_db.trip_delta"
   ]
  },
  {
   "cell_type": "code",
   "execution_count": 0,
   "metadata": {
    "application/vnd.databricks.v1+cell": {
     "cellMetadata": {
      "byteLimit": 2048000,
      "implicitDf": true,
      "rowLimit": 10000
     },
     "inputWidgets": {},
     "nuid": "c329a904-5a47-49b1-92e8-4fddd35d1f64",
     "showTitle": false,
     "title": ""
    }
   },
   "outputs": [
    {
     "output_type": "display_data",
     "data": {
      "text/html": [
       "<style scoped>\n",
       "  .table-result-container {\n",
       "    max-height: 300px;\n",
       "    overflow: auto;\n",
       "  }\n",
       "  table, th, td {\n",
       "    border: 1px solid black;\n",
       "    border-collapse: collapse;\n",
       "  }\n",
       "  th, td {\n",
       "    padding: 5px;\n",
       "  }\n",
       "  th {\n",
       "    text-align: left;\n",
       "  }\n",
       "</style><div class='table-result-container'><table class='table-result'><thead style='background-color: white'><tr><th>format</th><th>id</th><th>name</th><th>description</th><th>location</th><th>createdAt</th><th>lastModified</th><th>partitionColumns</th><th>numFiles</th><th>sizeInBytes</th><th>properties</th><th>minReaderVersion</th><th>minWriterVersion</th></tr></thead><tbody><tr><td>parquet</td><td>null</td><td>trip_db.trip_parquet</td><td></td><td>dbfs:/user/hive/warehouse/trip_db.db/trip_parquet</td><td>2024-01-15T09:36:24.000+0000</td><td>null</td><td>List()</td><td>null</td><td>null</td><td>Map()</td><td>null</td><td>null</td></tr></tbody></table></div>"
      ]
     },
     "metadata": {
      "application/vnd.databricks.v1+output": {
       "addedWidgets": {},
       "aggData": [],
       "aggError": "",
       "aggOverflow": false,
       "aggSchema": [],
       "aggSeriesLimitReached": false,
       "aggType": "",
       "arguments": {},
       "columnCustomDisplayInfos": {},
       "data": [
        [
         "parquet",
         null,
         "trip_db.trip_parquet",
         "",
         "dbfs:/user/hive/warehouse/trip_db.db/trip_parquet",
         "2024-01-15T09:36:24.000+0000",
         null,
         [],
         null,
         null,
         {},
         null,
         null
        ]
       ],
       "datasetInfos": [],
       "dbfsResultPath": null,
       "isJsonSchema": true,
       "metadata": {},
       "overflow": false,
       "plotOptions": {
        "customPlotOptions": {},
        "displayType": "table",
        "pivotAggregation": null,
        "pivotColumns": null,
        "xColumns": null,
        "yColumns": null
       },
       "removedWidgets": [],
       "schema": [
        {
         "metadata": "{}",
         "name": "format",
         "type": "\"string\""
        },
        {
         "metadata": "{}",
         "name": "id",
         "type": "\"string\""
        },
        {
         "metadata": "{}",
         "name": "name",
         "type": "\"string\""
        },
        {
         "metadata": "{}",
         "name": "description",
         "type": "\"string\""
        },
        {
         "metadata": "{}",
         "name": "location",
         "type": "\"string\""
        },
        {
         "metadata": "{}",
         "name": "createdAt",
         "type": "\"timestamp\""
        },
        {
         "metadata": "{}",
         "name": "lastModified",
         "type": "\"timestamp\""
        },
        {
         "metadata": "{}",
         "name": "partitionColumns",
         "type": "{\"type\":\"array\",\"elementType\":\"string\",\"containsNull\":true}"
        },
        {
         "metadata": "{}",
         "name": "numFiles",
         "type": "\"long\""
        },
        {
         "metadata": "{}",
         "name": "sizeInBytes",
         "type": "\"long\""
        },
        {
         "metadata": "{}",
         "name": "properties",
         "type": "{\"type\":\"map\",\"keyType\":\"string\",\"valueType\":\"string\",\"valueContainsNull\":true}"
        },
        {
         "metadata": "{}",
         "name": "minReaderVersion",
         "type": "\"integer\""
        },
        {
         "metadata": "{}",
         "name": "minWriterVersion",
         "type": "\"integer\""
        }
       ],
       "type": "table"
      }
     },
     "output_type": "display_data"
    }
   ],
   "source": [
    "%sql\n",
    "describe detail trip_db.trip_parquet"
   ]
  },
  {
   "cell_type": "code",
   "execution_count": 0,
   "metadata": {
    "application/vnd.databricks.v1+cell": {
     "cellMetadata": {
      "byteLimit": 2048000,
      "implicitDf": true,
      "rowLimit": 10000
     },
     "inputWidgets": {},
     "nuid": "18728f1d-0502-4fa5-8dcf-533610886e52",
     "showTitle": false,
     "title": ""
    }
   },
   "outputs": [
    {
     "output_type": "display_data",
     "data": {
      "text/html": [
       "<style scoped>\n",
       "  .table-result-container {\n",
       "    max-height: 300px;\n",
       "    overflow: auto;\n",
       "  }\n",
       "  table, th, td {\n",
       "    border: 1px solid black;\n",
       "    border-collapse: collapse;\n",
       "  }\n",
       "  th, td {\n",
       "    padding: 5px;\n",
       "  }\n",
       "  th {\n",
       "    text-align: left;\n",
       "  }\n",
       "</style><div class='table-result-container'><table class='table-result'><thead style='background-color: white'><tr><th>col_name</th><th>data_type</th><th>comment</th></tr></thead><tbody><tr><td>vendor_name</td><td>string</td><td>null</td></tr><tr><td>Trip_Pickup_DateTime</td><td>timestamp</td><td>null</td></tr><tr><td>Trip_Dropoff_DateTime</td><td>timestamp</td><td>null</td></tr><tr><td>Passenger_Count</td><td>int</td><td>null</td></tr><tr><td>Trip_Distance</td><td>double</td><td>null</td></tr><tr><td>Start_Lon</td><td>double</td><td>null</td></tr><tr><td>Start_Lat</td><td>double</td><td>null</td></tr><tr><td>Rate_Code</td><td>string</td><td>null</td></tr><tr><td>store_and_forward</td><td>int</td><td>null</td></tr><tr><td>End_Lon</td><td>double</td><td>null</td></tr><tr><td>End_Lat</td><td>double</td><td>null</td></tr><tr><td>Payment_Type</td><td>string</td><td>null</td></tr><tr><td>Fare_Amt</td><td>double</td><td>null</td></tr><tr><td>surcharge</td><td>double</td><td>null</td></tr><tr><td>mta_tax</td><td>string</td><td>null</td></tr><tr><td>Tip_Amt</td><td>double</td><td>null</td></tr><tr><td>Tolls_Amt</td><td>double</td><td>null</td></tr><tr><td>Total_Amt</td><td>double</td><td>null</td></tr><tr><td></td><td></td><td></td></tr><tr><td># Detailed Table Information</td><td></td><td></td></tr><tr><td>Database</td><td>trip_db</td><td></td></tr><tr><td>Table</td><td>trip_parquet</td><td></td></tr><tr><td>Owner</td><td>root</td><td></td></tr><tr><td>Created Time</td><td>Mon Jan 15 09:36:24 UTC 2024</td><td></td></tr><tr><td>Last Access</td><td>UNKNOWN</td><td></td></tr><tr><td>Created By</td><td>Spark 3.2.1</td><td></td></tr><tr><td>Type</td><td>MANAGED</td><td></td></tr><tr><td>Provider</td><td>parquet</td><td></td></tr><tr><td>Location</td><td>dbfs:/user/hive/warehouse/trip_db.db/trip_parquet</td><td></td></tr><tr><td>Serde Library</td><td>org.apache.hadoop.hive.serde2.lazy.LazySimpleSerDe</td><td></td></tr><tr><td>InputFormat</td><td>org.apache.hadoop.mapred.SequenceFileInputFormat</td><td></td></tr><tr><td>OutputFormat</td><td>org.apache.hadoop.hive.ql.io.HiveSequenceFileOutputFormat</td><td></td></tr></tbody></table></div>"
      ]
     },
     "metadata": {
      "application/vnd.databricks.v1+output": {
       "addedWidgets": {},
       "aggData": [],
       "aggError": "",
       "aggOverflow": false,
       "aggSchema": [],
       "aggSeriesLimitReached": false,
       "aggType": "",
       "arguments": {},
       "columnCustomDisplayInfos": {},
       "data": [
        [
         "vendor_name",
         "string",
         null
        ],
        [
         "Trip_Pickup_DateTime",
         "timestamp",
         null
        ],
        [
         "Trip_Dropoff_DateTime",
         "timestamp",
         null
        ],
        [
         "Passenger_Count",
         "int",
         null
        ],
        [
         "Trip_Distance",
         "double",
         null
        ],
        [
         "Start_Lon",
         "double",
         null
        ],
        [
         "Start_Lat",
         "double",
         null
        ],
        [
         "Rate_Code",
         "string",
         null
        ],
        [
         "store_and_forward",
         "int",
         null
        ],
        [
         "End_Lon",
         "double",
         null
        ],
        [
         "End_Lat",
         "double",
         null
        ],
        [
         "Payment_Type",
         "string",
         null
        ],
        [
         "Fare_Amt",
         "double",
         null
        ],
        [
         "surcharge",
         "double",
         null
        ],
        [
         "mta_tax",
         "string",
         null
        ],
        [
         "Tip_Amt",
         "double",
         null
        ],
        [
         "Tolls_Amt",
         "double",
         null
        ],
        [
         "Total_Amt",
         "double",
         null
        ],
        [
         "",
         "",
         ""
        ],
        [
         "# Detailed Table Information",
         "",
         ""
        ],
        [
         "Database",
         "trip_db",
         ""
        ],
        [
         "Table",
         "trip_parquet",
         ""
        ],
        [
         "Owner",
         "root",
         ""
        ],
        [
         "Created Time",
         "Mon Jan 15 09:36:24 UTC 2024",
         ""
        ],
        [
         "Last Access",
         "UNKNOWN",
         ""
        ],
        [
         "Created By",
         "Spark 3.2.1",
         ""
        ],
        [
         "Type",
         "MANAGED",
         ""
        ],
        [
         "Provider",
         "parquet",
         ""
        ],
        [
         "Location",
         "dbfs:/user/hive/warehouse/trip_db.db/trip_parquet",
         ""
        ],
        [
         "Serde Library",
         "org.apache.hadoop.hive.serde2.lazy.LazySimpleSerDe",
         ""
        ],
        [
         "InputFormat",
         "org.apache.hadoop.mapred.SequenceFileInputFormat",
         ""
        ],
        [
         "OutputFormat",
         "org.apache.hadoop.hive.ql.io.HiveSequenceFileOutputFormat",
         ""
        ]
       ],
       "datasetInfos": [],
       "dbfsResultPath": null,
       "isJsonSchema": true,
       "metadata": {},
       "overflow": false,
       "plotOptions": {
        "customPlotOptions": {},
        "displayType": "table",
        "pivotAggregation": null,
        "pivotColumns": null,
        "xColumns": null,
        "yColumns": null
       },
       "removedWidgets": [],
       "schema": [
        {
         "metadata": "{\"comment\":\"name of the column\"}",
         "name": "col_name",
         "type": "\"string\""
        },
        {
         "metadata": "{\"comment\":\"data type of the column\"}",
         "name": "data_type",
         "type": "\"string\""
        },
        {
         "metadata": "{\"comment\":\"comment of the column\"}",
         "name": "comment",
         "type": "\"string\""
        }
       ],
       "type": "table"
      }
     },
     "output_type": "display_data"
    }
   ],
   "source": [
    "%sql\n",
    "describe extended trip_db.trip_parquet"
   ]
  },
  {
   "cell_type": "markdown",
   "metadata": {
    "application/vnd.databricks.v1+cell": {
     "cellMetadata": {
      "byteLimit": 2048000,
      "rowLimit": 10000
     },
     "inputWidgets": {},
     "nuid": "ec1800dd-ad34-4c31-afec-53badfb95ac3",
     "showTitle": false,
     "title": ""
    }
   },
   "source": [
    "#Data Skipping"
   ]
  },
  {
   "cell_type": "code",
   "execution_count": 0,
   "metadata": {
    "application/vnd.databricks.v1+cell": {
     "cellMetadata": {
      "byteLimit": 2048000,
      "implicitDf": true,
      "rowLimit": 10000
     },
     "inputWidgets": {},
     "nuid": "bf929349-4ae7-41b6-8341-b12beb2d90d7",
     "showTitle": false,
     "title": ""
    }
   },
   "outputs": [
    {
     "output_type": "display_data",
     "data": {
      "text/html": [
       "<style scoped>\n",
       "  .table-result-container {\n",
       "    max-height: 300px;\n",
       "    overflow: auto;\n",
       "  }\n",
       "  table, th, td {\n",
       "    border: 1px solid black;\n",
       "    border-collapse: collapse;\n",
       "  }\n",
       "  th, td {\n",
       "    padding: 5px;\n",
       "  }\n",
       "  th {\n",
       "    text-align: left;\n",
       "  }\n",
       "</style><div class='table-result-container'><table class='table-result'><thead style='background-color: white'><tr><th>min(Fare_Amt)</th><th>max(Fare_Amt)</th></tr></thead><tbody><tr><td>2.5</td><td>200.0</td></tr></tbody></table></div>"
      ]
     },
     "metadata": {
      "application/vnd.databricks.v1+output": {
       "addedWidgets": {},
       "aggData": [],
       "aggError": "",
       "aggOverflow": false,
       "aggSchema": [],
       "aggSeriesLimitReached": false,
       "aggType": "",
       "arguments": {},
       "columnCustomDisplayInfos": {},
       "data": [
        [
         2.5,
         200.0
        ]
       ],
       "datasetInfos": [],
       "dbfsResultPath": null,
       "isJsonSchema": true,
       "metadata": {},
       "overflow": false,
       "plotOptions": {
        "customPlotOptions": {},
        "displayType": "table",
        "pivotAggregation": null,
        "pivotColumns": null,
        "xColumns": null,
        "yColumns": null
       },
       "removedWidgets": [],
       "schema": [
        {
         "metadata": "{\"__autoGeneratedAlias\":\"true\"}",
         "name": "min(Fare_Amt)",
         "type": "\"double\""
        },
        {
         "metadata": "{\"__autoGeneratedAlias\":\"true\"}",
         "name": "max(Fare_Amt)",
         "type": "\"double\""
        }
       ],
       "type": "table"
      }
     },
     "output_type": "display_data"
    }
   ],
   "source": [
    "%sql\n",
    "select min(Fare_Amt),max(Fare_Amt) from trip_db.trip_delta"
   ]
  },
  {
   "cell_type": "code",
   "execution_count": 0,
   "metadata": {
    "application/vnd.databricks.v1+cell": {
     "cellMetadata": {
      "byteLimit": 2048000,
      "implicitDf": true,
      "rowLimit": 10000
     },
     "inputWidgets": {},
     "nuid": "35720ffc-b177-4f46-9ff4-76d1b2f176ba",
     "showTitle": false,
     "title": ""
    }
   },
   "outputs": [
    {
     "output_type": "display_data",
     "data": {
      "text/html": [
       "<style scoped>\n",
       "  .table-result-container {\n",
       "    max-height: 300px;\n",
       "    overflow: auto;\n",
       "  }\n",
       "  table, th, td {\n",
       "    border: 1px solid black;\n",
       "    border-collapse: collapse;\n",
       "  }\n",
       "  th, td {\n",
       "    padding: 5px;\n",
       "  }\n",
       "  th {\n",
       "    text-align: left;\n",
       "  }\n",
       "</style><div class='table-result-container'><table class='table-result'><thead style='background-color: white'><tr><th>min(Fare_Amt)</th><th>max(Fare_Amt)</th></tr></thead><tbody><tr><td>2.5</td><td>200.0</td></tr></tbody></table></div>"
      ]
     },
     "metadata": {
      "application/vnd.databricks.v1+output": {
       "addedWidgets": {},
       "aggData": [],
       "aggError": "",
       "aggOverflow": false,
       "aggSchema": [],
       "aggSeriesLimitReached": false,
       "aggType": "",
       "arguments": {},
       "columnCustomDisplayInfos": {},
       "data": [
        [
         2.5,
         200.0
        ]
       ],
       "datasetInfos": [],
       "dbfsResultPath": null,
       "isJsonSchema": true,
       "metadata": {},
       "overflow": false,
       "plotOptions": {
        "customPlotOptions": {},
        "displayType": "table",
        "pivotAggregation": null,
        "pivotColumns": null,
        "xColumns": null,
        "yColumns": null
       },
       "removedWidgets": [],
       "schema": [
        {
         "metadata": "{\"__autoGeneratedAlias\":\"true\"}",
         "name": "min(Fare_Amt)",
         "type": "\"double\""
        },
        {
         "metadata": "{\"__autoGeneratedAlias\":\"true\"}",
         "name": "max(Fare_Amt)",
         "type": "\"double\""
        }
       ],
       "type": "table"
      }
     },
     "output_type": "display_data"
    }
   ],
   "source": [
    "%sql\n",
    "select min(Fare_Amt),max(Fare_Amt) from trip_db.trip_parquet"
   ]
  },
  {
   "cell_type": "code",
   "execution_count": 0,
   "metadata": {
    "application/vnd.databricks.v1+cell": {
     "cellMetadata": {
      "byteLimit": 2048000,
      "implicitDf": true,
      "rowLimit": 10000
     },
     "inputWidgets": {},
     "nuid": "e435bbc3-fd25-4034-a3ad-0213fe4ad7a9",
     "showTitle": false,
     "title": ""
    }
   },
   "outputs": [
    {
     "output_type": "display_data",
     "data": {
      "text/html": [
       "<style scoped>\n",
       "  .table-result-container {\n",
       "    max-height: 300px;\n",
       "    overflow: auto;\n",
       "  }\n",
       "  table, th, td {\n",
       "    border: 1px solid black;\n",
       "    border-collapse: collapse;\n",
       "  }\n",
       "  th, td {\n",
       "    padding: 5px;\n",
       "  }\n",
       "  th {\n",
       "    text-align: left;\n",
       "  }\n",
       "</style><div class='table-result-container'><table class='table-result'><thead style='background-color: white'><tr><th>count(1)</th></tr></thead><tbody><tr><td>14092413</td></tr></tbody></table></div>"
      ]
     },
     "metadata": {
      "application/vnd.databricks.v1+output": {
       "addedWidgets": {},
       "aggData": [],
       "aggError": "",
       "aggOverflow": false,
       "aggSchema": [],
       "aggSeriesLimitReached": false,
       "aggType": "",
       "arguments": {},
       "columnCustomDisplayInfos": {},
       "data": [
        [
         14092413
        ]
       ],
       "datasetInfos": [],
       "dbfsResultPath": null,
       "isJsonSchema": true,
       "metadata": {},
       "overflow": false,
       "plotOptions": {
        "customPlotOptions": {},
        "displayType": "table",
        "pivotAggregation": null,
        "pivotColumns": null,
        "xColumns": null,
        "yColumns": null
       },
       "removedWidgets": [],
       "schema": [
        {
         "metadata": "{\"__autoGeneratedAlias\":\"true\"}",
         "name": "count(1)",
         "type": "\"long\""
        }
       ],
       "type": "table"
      }
     },
     "output_type": "display_data"
    }
   ],
   "source": [
    "%sql\n",
    "select count(*) from trip_db.trip_delta"
   ]
  },
  {
   "cell_type": "code",
   "execution_count": 0,
   "metadata": {
    "application/vnd.databricks.v1+cell": {
     "cellMetadata": {
      "byteLimit": 2048000,
      "implicitDf": true,
      "rowLimit": 10000
     },
     "inputWidgets": {},
     "nuid": "0046b265-bf6e-45e4-a0c3-84a5f4ad96eb",
     "showTitle": false,
     "title": ""
    }
   },
   "outputs": [
    {
     "output_type": "display_data",
     "data": {
      "text/html": [
       "<style scoped>\n",
       "  .table-result-container {\n",
       "    max-height: 300px;\n",
       "    overflow: auto;\n",
       "  }\n",
       "  table, th, td {\n",
       "    border: 1px solid black;\n",
       "    border-collapse: collapse;\n",
       "  }\n",
       "  th, td {\n",
       "    padding: 5px;\n",
       "  }\n",
       "  th {\n",
       "    text-align: left;\n",
       "  }\n",
       "</style><div class='table-result-container'><table class='table-result'><thead style='background-color: white'><tr><th>count(1)</th></tr></thead><tbody><tr><td>14092413</td></tr></tbody></table></div>"
      ]
     },
     "metadata": {
      "application/vnd.databricks.v1+output": {
       "addedWidgets": {},
       "aggData": [],
       "aggError": "",
       "aggOverflow": false,
       "aggSchema": [],
       "aggSeriesLimitReached": false,
       "aggType": "",
       "arguments": {},
       "columnCustomDisplayInfos": {},
       "data": [
        [
         14092413
        ]
       ],
       "datasetInfos": [],
       "dbfsResultPath": null,
       "isJsonSchema": true,
       "metadata": {},
       "overflow": false,
       "plotOptions": {
        "customPlotOptions": {},
        "displayType": "table",
        "pivotAggregation": null,
        "pivotColumns": null,
        "xColumns": null,
        "yColumns": null
       },
       "removedWidgets": [],
       "schema": [
        {
         "metadata": "{\"__autoGeneratedAlias\":\"true\"}",
         "name": "count(1)",
         "type": "\"long\""
        }
       ],
       "type": "table"
      }
     },
     "output_type": "display_data"
    }
   ],
   "source": [
    "%sql\n",
    "select count(*) from trip_db.trip_parquet"
   ]
  },
  {
   "cell_type": "code",
   "execution_count": 0,
   "metadata": {
    "application/vnd.databricks.v1+cell": {
     "cellMetadata": {
      "byteLimit": 2048000,
      "implicitDf": true,
      "rowLimit": 10000
     },
     "inputWidgets": {},
     "nuid": "e5a310f2-d629-4c60-be50-452ce60e0d8c",
     "showTitle": false,
     "title": ""
    }
   },
   "outputs": [
    {
     "output_type": "display_data",
     "data": {
      "text/html": [
       "<style scoped>\n",
       "  .table-result-container {\n",
       "    max-height: 300px;\n",
       "    overflow: auto;\n",
       "  }\n",
       "  table, th, td {\n",
       "    border: 1px solid black;\n",
       "    border-collapse: collapse;\n",
       "  }\n",
       "  th, td {\n",
       "    padding: 5px;\n",
       "  }\n",
       "  th {\n",
       "    text-align: left;\n",
       "  }\n",
       "</style><div class='table-result-container'><table class='table-result'><thead style='background-color: white'><tr><th>vendor_name</th><th>Trip_Pickup_DateTime</th><th>Trip_Dropoff_DateTime</th><th>Passenger_Count</th><th>Trip_Distance</th><th>Start_Lon</th><th>Start_Lat</th><th>Rate_Code</th><th>store_and_forward</th><th>End_Lon</th><th>End_Lat</th><th>Payment_Type</th><th>Fare_Amt</th><th>surcharge</th><th>mta_tax</th><th>Tip_Amt</th><th>Tolls_Amt</th><th>Total_Amt</th></tr></thead><tbody><tr><td>CMT</td><td>2009-01-10T08:25:39.000+0000</td><td>2009-01-10T08:35:23.000+0000</td><td>1</td><td>6.5</td><td>-73.168504</td><td>40.737621</td><td>null</td><td>null</td><td>-73.097516</td><td>40.782174</td><td>Credit</td><td>195.0</td><td>0.0</td><td>null</td><td>39.0</td><td>0.0</td><td>234.0</td></tr></tbody></table></div>"
      ]
     },
     "metadata": {
      "application/vnd.databricks.v1+output": {
       "addedWidgets": {},
       "aggData": [],
       "aggError": "",
       "aggOverflow": false,
       "aggSchema": [],
       "aggSeriesLimitReached": false,
       "aggType": "",
       "arguments": {},
       "columnCustomDisplayInfos": {},
       "data": [
        [
         "CMT",
         "2009-01-10T08:25:39.000+0000",
         "2009-01-10T08:35:23.000+0000",
         1,
         6.5,
         -73.168504,
         40.737621,
         null,
         null,
         -73.097516,
         40.782174,
         "Credit",
         195.0,
         0.0,
         null,
         39.0,
         0.0,
         234.0
        ]
       ],
       "datasetInfos": [],
       "dbfsResultPath": null,
       "isJsonSchema": true,
       "metadata": {},
       "overflow": false,
       "plotOptions": {
        "customPlotOptions": {},
        "displayType": "table",
        "pivotAggregation": null,
        "pivotColumns": null,
        "xColumns": null,
        "yColumns": null
       },
       "removedWidgets": [],
       "schema": [
        {
         "metadata": "{}",
         "name": "vendor_name",
         "type": "\"string\""
        },
        {
         "metadata": "{}",
         "name": "Trip_Pickup_DateTime",
         "type": "\"timestamp\""
        },
        {
         "metadata": "{}",
         "name": "Trip_Dropoff_DateTime",
         "type": "\"timestamp\""
        },
        {
         "metadata": "{}",
         "name": "Passenger_Count",
         "type": "\"integer\""
        },
        {
         "metadata": "{}",
         "name": "Trip_Distance",
         "type": "\"double\""
        },
        {
         "metadata": "{}",
         "name": "Start_Lon",
         "type": "\"double\""
        },
        {
         "metadata": "{}",
         "name": "Start_Lat",
         "type": "\"double\""
        },
        {
         "metadata": "{}",
         "name": "Rate_Code",
         "type": "\"string\""
        },
        {
         "metadata": "{}",
         "name": "store_and_forward",
         "type": "\"integer\""
        },
        {
         "metadata": "{}",
         "name": "End_Lon",
         "type": "\"double\""
        },
        {
         "metadata": "{}",
         "name": "End_Lat",
         "type": "\"double\""
        },
        {
         "metadata": "{}",
         "name": "Payment_Type",
         "type": "\"string\""
        },
        {
         "metadata": "{}",
         "name": "Fare_Amt",
         "type": "\"double\""
        },
        {
         "metadata": "{}",
         "name": "surcharge",
         "type": "\"double\""
        },
        {
         "metadata": "{}",
         "name": "mta_tax",
         "type": "\"string\""
        },
        {
         "metadata": "{}",
         "name": "Tip_Amt",
         "type": "\"double\""
        },
        {
         "metadata": "{}",
         "name": "Tolls_Amt",
         "type": "\"double\""
        },
        {
         "metadata": "{}",
         "name": "Total_Amt",
         "type": "\"double\""
        }
       ],
       "type": "table"
      }
     },
     "output_type": "display_data"
    }
   ],
   "source": [
    "%sql\n",
    "select * from trip_db.trip_delta where Total_Amt=234"
   ]
  },
  {
   "cell_type": "code",
   "execution_count": 0,
   "metadata": {
    "application/vnd.databricks.v1+cell": {
     "cellMetadata": {
      "byteLimit": 2048000,
      "implicitDf": true,
      "rowLimit": 10000
     },
     "inputWidgets": {},
     "nuid": "483b9182-32b5-4a92-addc-c7495d5b3287",
     "showTitle": false,
     "title": ""
    }
   },
   "outputs": [
    {
     "output_type": "display_data",
     "data": {
      "text/html": [
       "<style scoped>\n",
       "  .table-result-container {\n",
       "    max-height: 300px;\n",
       "    overflow: auto;\n",
       "  }\n",
       "  table, th, td {\n",
       "    border: 1px solid black;\n",
       "    border-collapse: collapse;\n",
       "  }\n",
       "  th, td {\n",
       "    padding: 5px;\n",
       "  }\n",
       "  th {\n",
       "    text-align: left;\n",
       "  }\n",
       "</style><div class='table-result-container'><table class='table-result'><thead style='background-color: white'><tr><th>vendor_name</th><th>Trip_Pickup_DateTime</th><th>Trip_Dropoff_DateTime</th><th>Passenger_Count</th><th>Trip_Distance</th><th>Start_Lon</th><th>Start_Lat</th><th>Rate_Code</th><th>store_and_forward</th><th>End_Lon</th><th>End_Lat</th><th>Payment_Type</th><th>Fare_Amt</th><th>surcharge</th><th>mta_tax</th><th>Tip_Amt</th><th>Tolls_Amt</th><th>Total_Amt</th></tr></thead><tbody><tr><td>CMT</td><td>2009-01-10T08:25:39.000+0000</td><td>2009-01-10T08:35:23.000+0000</td><td>1</td><td>6.5</td><td>-73.168504</td><td>40.737621</td><td>null</td><td>null</td><td>-73.097516</td><td>40.782174</td><td>Credit</td><td>195.0</td><td>0.0</td><td>null</td><td>39.0</td><td>0.0</td><td>234.0</td></tr></tbody></table></div>"
      ]
     },
     "metadata": {
      "application/vnd.databricks.v1+output": {
       "addedWidgets": {},
       "aggData": [],
       "aggError": "",
       "aggOverflow": false,
       "aggSchema": [],
       "aggSeriesLimitReached": false,
       "aggType": "",
       "arguments": {},
       "columnCustomDisplayInfos": {},
       "data": [
        [
         "CMT",
         "2009-01-10T08:25:39.000+0000",
         "2009-01-10T08:35:23.000+0000",
         1,
         6.5,
         -73.168504,
         40.737621,
         null,
         null,
         -73.097516,
         40.782174,
         "Credit",
         195.0,
         0.0,
         null,
         39.0,
         0.0,
         234.0
        ]
       ],
       "datasetInfos": [],
       "dbfsResultPath": null,
       "isJsonSchema": true,
       "metadata": {},
       "overflow": false,
       "plotOptions": {
        "customPlotOptions": {},
        "displayType": "table",
        "pivotAggregation": null,
        "pivotColumns": null,
        "xColumns": null,
        "yColumns": null
       },
       "removedWidgets": [],
       "schema": [
        {
         "metadata": "{}",
         "name": "vendor_name",
         "type": "\"string\""
        },
        {
         "metadata": "{}",
         "name": "Trip_Pickup_DateTime",
         "type": "\"timestamp\""
        },
        {
         "metadata": "{}",
         "name": "Trip_Dropoff_DateTime",
         "type": "\"timestamp\""
        },
        {
         "metadata": "{}",
         "name": "Passenger_Count",
         "type": "\"integer\""
        },
        {
         "metadata": "{}",
         "name": "Trip_Distance",
         "type": "\"double\""
        },
        {
         "metadata": "{}",
         "name": "Start_Lon",
         "type": "\"double\""
        },
        {
         "metadata": "{}",
         "name": "Start_Lat",
         "type": "\"double\""
        },
        {
         "metadata": "{}",
         "name": "Rate_Code",
         "type": "\"string\""
        },
        {
         "metadata": "{}",
         "name": "store_and_forward",
         "type": "\"integer\""
        },
        {
         "metadata": "{}",
         "name": "End_Lon",
         "type": "\"double\""
        },
        {
         "metadata": "{}",
         "name": "End_Lat",
         "type": "\"double\""
        },
        {
         "metadata": "{}",
         "name": "Payment_Type",
         "type": "\"string\""
        },
        {
         "metadata": "{}",
         "name": "Fare_Amt",
         "type": "\"double\""
        },
        {
         "metadata": "{}",
         "name": "surcharge",
         "type": "\"double\""
        },
        {
         "metadata": "{}",
         "name": "mta_tax",
         "type": "\"string\""
        },
        {
         "metadata": "{}",
         "name": "Tip_Amt",
         "type": "\"double\""
        },
        {
         "metadata": "{}",
         "name": "Tolls_Amt",
         "type": "\"double\""
        },
        {
         "metadata": "{}",
         "name": "Total_Amt",
         "type": "\"double\""
        }
       ],
       "type": "table"
      }
     },
     "output_type": "display_data"
    }
   ],
   "source": [
    "%sql\n",
    "select * from trip_db.trip_parquet where Total_Amt=234"
   ]
  },
  {
   "cell_type": "code",
   "execution_count": 0,
   "metadata": {
    "application/vnd.databricks.v1+cell": {
     "cellMetadata": {
      "byteLimit": 2048000,
      "implicitDf": true,
      "rowLimit": 10000
     },
     "inputWidgets": {},
     "nuid": "8f2ca03d-b243-4628-93a9-0a09be297748",
     "showTitle": false,
     "title": ""
    }
   },
   "outputs": [
    {
     "output_type": "display_data",
     "data": {
      "text/html": [
       "<style scoped>\n",
       "  .table-result-container {\n",
       "    max-height: 300px;\n",
       "    overflow: auto;\n",
       "  }\n",
       "  table, th, td {\n",
       "    border: 1px solid black;\n",
       "    border-collapse: collapse;\n",
       "  }\n",
       "  th, td {\n",
       "    padding: 5px;\n",
       "  }\n",
       "  th {\n",
       "    text-align: left;\n",
       "  }\n",
       "</style><div class='table-result-container'><table class='table-result'><thead style='background-color: white'><tr><th>vendor_name</th><th>Trip_Pickup_DateTime</th><th>Trip_Dropoff_DateTime</th><th>Passenger_Count</th><th>Trip_Distance</th><th>Start_Lon</th><th>Start_Lat</th><th>Rate_Code</th><th>store_and_forward</th><th>End_Lon</th><th>End_Lat</th><th>Payment_Type</th><th>Fare_Amt</th><th>surcharge</th><th>mta_tax</th><th>Tip_Amt</th><th>Tolls_Amt</th><th>Total_Amt</th></tr></thead><tbody><tr><td>VTS</td><td>2009-01-12T15:34:00.000+0000</td><td>2009-01-12T17:16:00.000+0000</td><td>1</td><td>0.0</td><td>-73.785995</td><td>40.639635</td><td>null</td><td>null</td><td>-74.45885</td><td>40.79776</td><td>Credit</td><td>180.0</td><td>0.0</td><td>null</td><td>36.0</td><td>16.15</td><td>232.15</td></tr><tr><td>VTS</td><td>2009-01-05T22:10:00.000+0000</td><td>2009-01-05T23:10:00.000+0000</td><td>1</td><td>47.91</td><td>-73.797958</td><td>40.644933</td><td>null</td><td>null</td><td>-74.458885</td><td>40.79773</td><td>Credit</td><td>178.0</td><td>0.0</td><td>null</td><td>44.5</td><td>8.0</td><td>230.5</td></tr><tr><td>VTS</td><td>2009-01-15T21:02:00.000+0000</td><td>2009-01-15T22:04:00.000+0000</td><td>1</td><td>5.878</td><td>-74.005172</td><td>40.720432</td><td>null</td><td>null</td><td>-74.077292</td><td>40.374572</td><td>Credit</td><td>180.0</td><td>0.0</td><td>null</td><td>45.0</td><td>8.0</td><td>233.0</td></tr><tr><td>VTS</td><td>2009-01-12T17:56:00.000+0000</td><td>2009-01-12T17:55:00.000+0000</td><td>1</td><td>0.0</td><td>-74.458877</td><td>40.797612</td><td>null</td><td>null</td><td>-74.458877</td><td>40.797612</td><td>Credit</td><td>178.0</td><td>0.0</td><td>null</td><td>40.0</td><td>12.15</td><td>230.15</td></tr><tr><td>VTS</td><td>2009-01-04T01:42:00.000+0000</td><td>2009-01-04T02:04:00.000+0000</td><td>5</td><td>12.74</td><td>-73.993795</td><td>40.719858</td><td>null</td><td>null</td><td>-73.832625</td><td>40.754367</td><td>Credit</td><td>30.5</td><td>0.5</td><td>null</td><td>0.0</td><td>0.0</td><td>232.0</td></tr><tr><td>CMT</td><td>2009-01-10T08:25:39.000+0000</td><td>2009-01-10T08:35:23.000+0000</td><td>1</td><td>6.5</td><td>-73.168504</td><td>40.737621</td><td>null</td><td>null</td><td>-73.097516</td><td>40.782174</td><td>Credit</td><td>195.0</td><td>0.0</td><td>null</td><td>39.0</td><td>0.0</td><td>234.0</td></tr></tbody></table></div>"
      ]
     },
     "metadata": {
      "application/vnd.databricks.v1+output": {
       "addedWidgets": {},
       "aggData": [],
       "aggError": "",
       "aggOverflow": false,
       "aggSchema": [],
       "aggSeriesLimitReached": false,
       "aggType": "",
       "arguments": {},
       "columnCustomDisplayInfos": {},
       "data": [
        [
         "VTS",
         "2009-01-12T15:34:00.000+0000",
         "2009-01-12T17:16:00.000+0000",
         1,
         0.0,
         -73.785995,
         40.639635,
         null,
         null,
         -74.45885,
         40.79776,
         "Credit",
         180.0,
         0.0,
         null,
         36.0,
         16.15,
         232.15
        ],
        [
         "VTS",
         "2009-01-05T22:10:00.000+0000",
         "2009-01-05T23:10:00.000+0000",
         1,
         47.91,
         -73.797958,
         40.644933,
         null,
         null,
         -74.458885,
         40.79773,
         "Credit",
         178.0,
         0.0,
         null,
         44.5,
         8.0,
         230.5
        ],
        [
         "VTS",
         "2009-01-15T21:02:00.000+0000",
         "2009-01-15T22:04:00.000+0000",
         1,
         5.878,
         -74.005172,
         40.720432,
         null,
         null,
         -74.077292,
         40.374572,
         "Credit",
         180.0,
         0.0,
         null,
         45.0,
         8.0,
         233.0
        ],
        [
         "VTS",
         "2009-01-12T17:56:00.000+0000",
         "2009-01-12T17:55:00.000+0000",
         1,
         0.0,
         -74.458877,
         40.797612,
         null,
         null,
         -74.458877,
         40.797612,
         "Credit",
         178.0,
         0.0,
         null,
         40.0,
         12.15,
         230.15
        ],
        [
         "VTS",
         "2009-01-04T01:42:00.000+0000",
         "2009-01-04T02:04:00.000+0000",
         5,
         12.74,
         -73.993795,
         40.719858,
         null,
         null,
         -73.832625,
         40.754367,
         "Credit",
         30.5,
         0.5,
         null,
         0.0,
         0.0,
         232.0
        ],
        [
         "CMT",
         "2009-01-10T08:25:39.000+0000",
         "2009-01-10T08:35:23.000+0000",
         1,
         6.5,
         -73.168504,
         40.737621,
         null,
         null,
         -73.097516,
         40.782174,
         "Credit",
         195.0,
         0.0,
         null,
         39.0,
         0.0,
         234.0
        ]
       ],
       "datasetInfos": [],
       "dbfsResultPath": null,
       "isJsonSchema": true,
       "metadata": {},
       "overflow": false,
       "plotOptions": {
        "customPlotOptions": {},
        "displayType": "table",
        "pivotAggregation": null,
        "pivotColumns": null,
        "xColumns": null,
        "yColumns": null
       },
       "removedWidgets": [],
       "schema": [
        {
         "metadata": "{}",
         "name": "vendor_name",
         "type": "\"string\""
        },
        {
         "metadata": "{}",
         "name": "Trip_Pickup_DateTime",
         "type": "\"timestamp\""
        },
        {
         "metadata": "{}",
         "name": "Trip_Dropoff_DateTime",
         "type": "\"timestamp\""
        },
        {
         "metadata": "{}",
         "name": "Passenger_Count",
         "type": "\"integer\""
        },
        {
         "metadata": "{}",
         "name": "Trip_Distance",
         "type": "\"double\""
        },
        {
         "metadata": "{}",
         "name": "Start_Lon",
         "type": "\"double\""
        },
        {
         "metadata": "{}",
         "name": "Start_Lat",
         "type": "\"double\""
        },
        {
         "metadata": "{}",
         "name": "Rate_Code",
         "type": "\"string\""
        },
        {
         "metadata": "{}",
         "name": "store_and_forward",
         "type": "\"integer\""
        },
        {
         "metadata": "{}",
         "name": "End_Lon",
         "type": "\"double\""
        },
        {
         "metadata": "{}",
         "name": "End_Lat",
         "type": "\"double\""
        },
        {
         "metadata": "{}",
         "name": "Payment_Type",
         "type": "\"string\""
        },
        {
         "metadata": "{}",
         "name": "Fare_Amt",
         "type": "\"double\""
        },
        {
         "metadata": "{}",
         "name": "surcharge",
         "type": "\"double\""
        },
        {
         "metadata": "{}",
         "name": "mta_tax",
         "type": "\"string\""
        },
        {
         "metadata": "{}",
         "name": "Tip_Amt",
         "type": "\"double\""
        },
        {
         "metadata": "{}",
         "name": "Tolls_Amt",
         "type": "\"double\""
        },
        {
         "metadata": "{}",
         "name": "Total_Amt",
         "type": "\"double\""
        }
       ],
       "type": "table"
      }
     },
     "output_type": "display_data"
    }
   ],
   "source": [
    "%sql\n",
    "select * from trip_db.trip_delta where Total_Amt > 230"
   ]
  },
  {
   "cell_type": "code",
   "execution_count": 0,
   "metadata": {
    "application/vnd.databricks.v1+cell": {
     "cellMetadata": {
      "byteLimit": 2048000,
      "implicitDf": true,
      "rowLimit": 10000
     },
     "inputWidgets": {},
     "nuid": "ac6690a0-fc79-4a24-9010-0ca0b470eb1d",
     "showTitle": false,
     "title": ""
    }
   },
   "outputs": [
    {
     "output_type": "display_data",
     "data": {
      "text/html": [
       "<style scoped>\n",
       "  .table-result-container {\n",
       "    max-height: 300px;\n",
       "    overflow: auto;\n",
       "  }\n",
       "  table, th, td {\n",
       "    border: 1px solid black;\n",
       "    border-collapse: collapse;\n",
       "  }\n",
       "  th, td {\n",
       "    padding: 5px;\n",
       "  }\n",
       "  th {\n",
       "    text-align: left;\n",
       "  }\n",
       "</style><div class='table-result-container'><table class='table-result'><thead style='background-color: white'><tr><th>vendor_name</th><th>Trip_Pickup_DateTime</th><th>Trip_Dropoff_DateTime</th><th>Passenger_Count</th><th>Trip_Distance</th><th>Start_Lon</th><th>Start_Lat</th><th>Rate_Code</th><th>store_and_forward</th><th>End_Lon</th><th>End_Lat</th><th>Payment_Type</th><th>Fare_Amt</th><th>surcharge</th><th>mta_tax</th><th>Tip_Amt</th><th>Tolls_Amt</th><th>Total_Amt</th></tr></thead><tbody><tr><td>VTS</td><td>2009-01-12T15:34:00.000+0000</td><td>2009-01-12T17:16:00.000+0000</td><td>1</td><td>0.0</td><td>-73.785995</td><td>40.639635</td><td>null</td><td>null</td><td>-74.45885</td><td>40.79776</td><td>Credit</td><td>180.0</td><td>0.0</td><td>null</td><td>36.0</td><td>16.15</td><td>232.15</td></tr><tr><td>VTS</td><td>2009-01-05T22:10:00.000+0000</td><td>2009-01-05T23:10:00.000+0000</td><td>1</td><td>47.91</td><td>-73.797958</td><td>40.644933</td><td>null</td><td>null</td><td>-74.458885</td><td>40.79773</td><td>Credit</td><td>178.0</td><td>0.0</td><td>null</td><td>44.5</td><td>8.0</td><td>230.5</td></tr><tr><td>VTS</td><td>2009-01-15T21:02:00.000+0000</td><td>2009-01-15T22:04:00.000+0000</td><td>1</td><td>5.878</td><td>-74.005172</td><td>40.720432</td><td>null</td><td>null</td><td>-74.077292</td><td>40.374572</td><td>Credit</td><td>180.0</td><td>0.0</td><td>null</td><td>45.0</td><td>8.0</td><td>233.0</td></tr><tr><td>VTS</td><td>2009-01-12T17:56:00.000+0000</td><td>2009-01-12T17:55:00.000+0000</td><td>1</td><td>0.0</td><td>-74.458877</td><td>40.797612</td><td>null</td><td>null</td><td>-74.458877</td><td>40.797612</td><td>Credit</td><td>178.0</td><td>0.0</td><td>null</td><td>40.0</td><td>12.15</td><td>230.15</td></tr><tr><td>VTS</td><td>2009-01-04T01:42:00.000+0000</td><td>2009-01-04T02:04:00.000+0000</td><td>5</td><td>12.74</td><td>-73.993795</td><td>40.719858</td><td>null</td><td>null</td><td>-73.832625</td><td>40.754367</td><td>Credit</td><td>30.5</td><td>0.5</td><td>null</td><td>0.0</td><td>0.0</td><td>232.0</td></tr><tr><td>CMT</td><td>2009-01-10T08:25:39.000+0000</td><td>2009-01-10T08:35:23.000+0000</td><td>1</td><td>6.5</td><td>-73.168504</td><td>40.737621</td><td>null</td><td>null</td><td>-73.097516</td><td>40.782174</td><td>Credit</td><td>195.0</td><td>0.0</td><td>null</td><td>39.0</td><td>0.0</td><td>234.0</td></tr></tbody></table></div>"
      ]
     },
     "metadata": {
      "application/vnd.databricks.v1+output": {
       "addedWidgets": {},
       "aggData": [],
       "aggError": "",
       "aggOverflow": false,
       "aggSchema": [],
       "aggSeriesLimitReached": false,
       "aggType": "",
       "arguments": {},
       "columnCustomDisplayInfos": {},
       "data": [
        [
         "VTS",
         "2009-01-12T15:34:00.000+0000",
         "2009-01-12T17:16:00.000+0000",
         1,
         0.0,
         -73.785995,
         40.639635,
         null,
         null,
         -74.45885,
         40.79776,
         "Credit",
         180.0,
         0.0,
         null,
         36.0,
         16.15,
         232.15
        ],
        [
         "VTS",
         "2009-01-05T22:10:00.000+0000",
         "2009-01-05T23:10:00.000+0000",
         1,
         47.91,
         -73.797958,
         40.644933,
         null,
         null,
         -74.458885,
         40.79773,
         "Credit",
         178.0,
         0.0,
         null,
         44.5,
         8.0,
         230.5
        ],
        [
         "VTS",
         "2009-01-15T21:02:00.000+0000",
         "2009-01-15T22:04:00.000+0000",
         1,
         5.878,
         -74.005172,
         40.720432,
         null,
         null,
         -74.077292,
         40.374572,
         "Credit",
         180.0,
         0.0,
         null,
         45.0,
         8.0,
         233.0
        ],
        [
         "VTS",
         "2009-01-12T17:56:00.000+0000",
         "2009-01-12T17:55:00.000+0000",
         1,
         0.0,
         -74.458877,
         40.797612,
         null,
         null,
         -74.458877,
         40.797612,
         "Credit",
         178.0,
         0.0,
         null,
         40.0,
         12.15,
         230.15
        ],
        [
         "VTS",
         "2009-01-04T01:42:00.000+0000",
         "2009-01-04T02:04:00.000+0000",
         5,
         12.74,
         -73.993795,
         40.719858,
         null,
         null,
         -73.832625,
         40.754367,
         "Credit",
         30.5,
         0.5,
         null,
         0.0,
         0.0,
         232.0
        ],
        [
         "CMT",
         "2009-01-10T08:25:39.000+0000",
         "2009-01-10T08:35:23.000+0000",
         1,
         6.5,
         -73.168504,
         40.737621,
         null,
         null,
         -73.097516,
         40.782174,
         "Credit",
         195.0,
         0.0,
         null,
         39.0,
         0.0,
         234.0
        ]
       ],
       "datasetInfos": [],
       "dbfsResultPath": null,
       "isJsonSchema": true,
       "metadata": {},
       "overflow": false,
       "plotOptions": {
        "customPlotOptions": {},
        "displayType": "table",
        "pivotAggregation": null,
        "pivotColumns": null,
        "xColumns": null,
        "yColumns": null
       },
       "removedWidgets": [],
       "schema": [
        {
         "metadata": "{}",
         "name": "vendor_name",
         "type": "\"string\""
        },
        {
         "metadata": "{}",
         "name": "Trip_Pickup_DateTime",
         "type": "\"timestamp\""
        },
        {
         "metadata": "{}",
         "name": "Trip_Dropoff_DateTime",
         "type": "\"timestamp\""
        },
        {
         "metadata": "{}",
         "name": "Passenger_Count",
         "type": "\"integer\""
        },
        {
         "metadata": "{}",
         "name": "Trip_Distance",
         "type": "\"double\""
        },
        {
         "metadata": "{}",
         "name": "Start_Lon",
         "type": "\"double\""
        },
        {
         "metadata": "{}",
         "name": "Start_Lat",
         "type": "\"double\""
        },
        {
         "metadata": "{}",
         "name": "Rate_Code",
         "type": "\"string\""
        },
        {
         "metadata": "{}",
         "name": "store_and_forward",
         "type": "\"integer\""
        },
        {
         "metadata": "{}",
         "name": "End_Lon",
         "type": "\"double\""
        },
        {
         "metadata": "{}",
         "name": "End_Lat",
         "type": "\"double\""
        },
        {
         "metadata": "{}",
         "name": "Payment_Type",
         "type": "\"string\""
        },
        {
         "metadata": "{}",
         "name": "Fare_Amt",
         "type": "\"double\""
        },
        {
         "metadata": "{}",
         "name": "surcharge",
         "type": "\"double\""
        },
        {
         "metadata": "{}",
         "name": "mta_tax",
         "type": "\"string\""
        },
        {
         "metadata": "{}",
         "name": "Tip_Amt",
         "type": "\"double\""
        },
        {
         "metadata": "{}",
         "name": "Tolls_Amt",
         "type": "\"double\""
        },
        {
         "metadata": "{}",
         "name": "Total_Amt",
         "type": "\"double\""
        }
       ],
       "type": "table"
      }
     },
     "output_type": "display_data"
    }
   ],
   "source": [
    "%sql\n",
    "select * from trip_db.trip_parquet where Total_Amt > 230"
   ]
  },
  {
   "cell_type": "markdown",
   "metadata": {
    "application/vnd.databricks.v1+cell": {
     "cellMetadata": {
      "byteLimit": 2048000,
      "rowLimit": 10000
     },
     "inputWidgets": {},
     "nuid": "8ea76236-b5f8-48af-b4db-37b80ca2a7e6",
     "showTitle": false,
     "title": ""
    }
   },
   "source": [
    "In case of delta, since it maintains metadata (log in json format) with all stats, the engine will know out of 20 files which file would contain the given data based on min and max hence instead of scanning all 20 files, it would just scan files having the given data resulting in decreased execution time.\n",
    "In case of parquet, it has to scan through all 20 files in order to search the given data and hence comparatively takes more time."
   ]
  },
  {
   "cell_type": "markdown",
   "metadata": {
    "application/vnd.databricks.v1+cell": {
     "cellMetadata": {
      "byteLimit": 2048000,
      "rowLimit": 10000
     },
     "inputWidgets": {},
     "nuid": "84890c55-1690-4cdd-ab8c-545aa61477c9",
     "showTitle": false,
     "title": ""
    }
   },
   "source": [
    "#Delta cache"
   ]
  },
  {
   "cell_type": "code",
   "execution_count": 0,
   "metadata": {
    "application/vnd.databricks.v1+cell": {
     "cellMetadata": {
      "byteLimit": 2048000,
      "rowLimit": 10000
     },
     "inputWidgets": {},
     "nuid": "838661d4-9db7-41e6-80b1-8216ee083530",
     "showTitle": false,
     "title": ""
    }
   },
   "outputs": [
    {
     "output_type": "display_data",
     "data": {
      "text/html": [
       "<style scoped>\n",
       "  .ansiout {\n",
       "    display: block;\n",
       "    unicode-bidi: embed;\n",
       "    white-space: pre-wrap;\n",
       "    word-wrap: break-word;\n",
       "    word-break: break-all;\n",
       "    font-family: \"Menlo\", \"Monaco\", \"Consolas\", \"Ubuntu Mono\", \"Source Code Pro\", monospace;\n",
       "    font-size: 13px;\n",
       "    color: #555;\n",
       "    margin-left: 4px;\n",
       "    line-height: 19px;\n",
       "  }\n",
       "</style>\n",
       "<div class=\"ansiout\"></div>"
      ]
     },
     "metadata": {
      "application/vnd.databricks.v1+output": {
       "addedWidgets": {},
       "arguments": {},
       "data": "<div class=\"ansiout\"></div>",
       "datasetInfos": [],
       "metadata": {},
       "removedWidgets": [],
       "type": "html"
      }
     },
     "output_type": "display_data"
    }
   ],
   "source": [
    "spark.conf.set(\"spark.databricks.io.cache.enabled\", True)"
   ]
  },
  {
   "cell_type": "code",
   "execution_count": 0,
   "metadata": {
    "application/vnd.databricks.v1+cell": {
     "cellMetadata": {
      "byteLimit": 2048000,
      "rowLimit": 10000
     },
     "inputWidgets": {},
     "nuid": "7be6e387-0acc-40e7-9407-04e0eede5a0d",
     "showTitle": false,
     "title": ""
    }
   },
   "outputs": [
    {
     "output_type": "display_data",
     "data": {
      "text/html": [
       "<style scoped>\n",
       "  .ansiout {\n",
       "    display: block;\n",
       "    unicode-bidi: embed;\n",
       "    white-space: pre-wrap;\n",
       "    word-wrap: break-word;\n",
       "    word-break: break-all;\n",
       "    font-family: \"Menlo\", \"Monaco\", \"Consolas\", \"Ubuntu Mono\", \"Source Code Pro\", monospace;\n",
       "    font-size: 13px;\n",
       "    color: #555;\n",
       "    margin-left: 4px;\n",
       "    line-height: 19px;\n",
       "  }\n",
       "</style>\n",
       "<div class=\"ansiout\">Out[63]: &#39;true&#39;</div>"
      ]
     },
     "metadata": {
      "application/vnd.databricks.v1+output": {
       "addedWidgets": {},
       "arguments": {},
       "data": "<div class=\"ansiout\">Out[63]: &#39;true&#39;</div>",
       "datasetInfos": [],
       "metadata": {},
       "removedWidgets": [],
       "type": "html"
      }
     },
     "output_type": "display_data"
    }
   ],
   "source": [
    "spark.conf.get(\"spark.databricks.io.cache.enabled\")"
   ]
  },
  {
   "cell_type": "code",
   "execution_count": 0,
   "metadata": {
    "application/vnd.databricks.v1+cell": {
     "cellMetadata": {
      "byteLimit": 2048000,
      "implicitDf": true,
      "rowLimit": 10000
     },
     "inputWidgets": {},
     "nuid": "ac262f45-3ca1-4e38-8235-3623180de7f9",
     "showTitle": false,
     "title": ""
    }
   },
   "outputs": [
    {
     "output_type": "display_data",
     "data": {
      "text/html": [
       "<style scoped>\n",
       "  .table-result-container {\n",
       "    max-height: 300px;\n",
       "    overflow: auto;\n",
       "  }\n",
       "  table, th, td {\n",
       "    border: 1px solid black;\n",
       "    border-collapse: collapse;\n",
       "  }\n",
       "  th, td {\n",
       "    padding: 5px;\n",
       "  }\n",
       "  th {\n",
       "    text-align: left;\n",
       "  }\n",
       "</style><div class='table-result-container'><table class='table-result'><thead style='background-color: white'><tr><th>sum(trip_distance)</th><th>sum(total_amt)</th></tr></thead><tbody><tr><td>1.6090522284000695E7</td><td>6.43276302199849E7</td></tr><tr><td>1.760530018899947E7</td><td>7.11239355199942E7</td></tr><tr><td>2349413.3999999575</td><td>9183933.370000118</td></tr></tbody></table></div>"
      ]
     },
     "metadata": {
      "application/vnd.databricks.v1+output": {
       "addedWidgets": {},
       "aggData": [],
       "aggError": "",
       "aggOverflow": false,
       "aggSchema": [],
       "aggSeriesLimitReached": false,
       "aggType": "",
       "arguments": {},
       "columnCustomDisplayInfos": {},
       "data": [
        [
         1.6090522284000695E7,
         6.43276302199849E7
        ],
        [
         1.760530018899947E7,
         7.11239355199942E7
        ],
        [
         2349413.3999999575,
         9183933.370000118
        ]
       ],
       "datasetInfos": [],
       "dbfsResultPath": null,
       "isJsonSchema": true,
       "metadata": {},
       "overflow": false,
       "plotOptions": {
        "customPlotOptions": {},
        "displayType": "table",
        "pivotAggregation": null,
        "pivotColumns": null,
        "xColumns": null,
        "yColumns": null
       },
       "removedWidgets": [],
       "schema": [
        {
         "metadata": "{\"__autoGeneratedAlias\":\"true\"}",
         "name": "sum(trip_distance)",
         "type": "\"double\""
        },
        {
         "metadata": "{\"__autoGeneratedAlias\":\"true\"}",
         "name": "sum(total_amt)",
         "type": "\"double\""
        }
       ],
       "type": "table"
      }
     },
     "output_type": "display_data"
    }
   ],
   "source": [
    "%sql \n",
    "select sum(trip_distance),sum(total_amt) from trip_db.trip_delta group by vendor_name --data will be read from file since its first time and then will be cached"
   ]
  },
  {
   "cell_type": "code",
   "execution_count": 0,
   "metadata": {
    "application/vnd.databricks.v1+cell": {
     "cellMetadata": {
      "byteLimit": 2048000,
      "implicitDf": true,
      "rowLimit": 10000
     },
     "inputWidgets": {},
     "nuid": "78e1a4a4-ae82-42e8-8d41-a8ee4d2a21f2",
     "showTitle": false,
     "title": ""
    }
   },
   "outputs": [
    {
     "output_type": "display_data",
     "data": {
      "text/html": [
       "<style scoped>\n",
       "  .table-result-container {\n",
       "    max-height: 300px;\n",
       "    overflow: auto;\n",
       "  }\n",
       "  table, th, td {\n",
       "    border: 1px solid black;\n",
       "    border-collapse: collapse;\n",
       "  }\n",
       "  th, td {\n",
       "    padding: 5px;\n",
       "  }\n",
       "  th {\n",
       "    text-align: left;\n",
       "  }\n",
       "</style><div class='table-result-container'><table class='table-result'><thead style='background-color: white'><tr><th>sum(trip_distance)</th><th>sum(total_amt)</th></tr></thead><tbody><tr><td>1.6090522284000695E7</td><td>6.43276302199849E7</td></tr><tr><td>1.760530018899947E7</td><td>7.11239355199942E7</td></tr><tr><td>2349413.3999999575</td><td>9183933.370000118</td></tr></tbody></table></div>"
      ]
     },
     "metadata": {
      "application/vnd.databricks.v1+output": {
       "addedWidgets": {},
       "aggData": [],
       "aggError": "",
       "aggOverflow": false,
       "aggSchema": [],
       "aggSeriesLimitReached": false,
       "aggType": "",
       "arguments": {},
       "columnCustomDisplayInfos": {},
       "data": [
        [
         1.6090522284000695E7,
         6.43276302199849E7
        ],
        [
         1.760530018899947E7,
         7.11239355199942E7
        ],
        [
         2349413.3999999575,
         9183933.370000118
        ]
       ],
       "datasetInfos": [],
       "dbfsResultPath": null,
       "isJsonSchema": true,
       "metadata": {},
       "overflow": false,
       "plotOptions": {
        "customPlotOptions": {},
        "displayType": "table",
        "pivotAggregation": null,
        "pivotColumns": null,
        "xColumns": null,
        "yColumns": null
       },
       "removedWidgets": [],
       "schema": [
        {
         "metadata": "{\"__autoGeneratedAlias\":\"true\"}",
         "name": "sum(trip_distance)",
         "type": "\"double\""
        },
        {
         "metadata": "{\"__autoGeneratedAlias\":\"true\"}",
         "name": "sum(total_amt)",
         "type": "\"double\""
        }
       ],
       "type": "table"
      }
     },
     "output_type": "display_data"
    }
   ],
   "source": [
    "%sql \n",
    "select sum(trip_distance),sum(total_amt) from trip_db.trip_delta group by vendor_name --this time data will be read from cache"
   ]
  },
  {
   "cell_type": "code",
   "execution_count": 0,
   "metadata": {
    "application/vnd.databricks.v1+cell": {
     "cellMetadata": {
      "byteLimit": 2048000,
      "implicitDf": true,
      "rowLimit": 10000
     },
     "inputWidgets": {},
     "nuid": "64784295-2184-4d20-b05e-6662fc2262cc",
     "showTitle": false,
     "title": ""
    }
   },
   "outputs": [
    {
     "output_type": "display_data",
     "data": {
      "text/html": [
       "<style scoped>\n",
       "  .table-result-container {\n",
       "    max-height: 300px;\n",
       "    overflow: auto;\n",
       "  }\n",
       "  table, th, td {\n",
       "    border: 1px solid black;\n",
       "    border-collapse: collapse;\n",
       "  }\n",
       "  th, td {\n",
       "    padding: 5px;\n",
       "  }\n",
       "  th {\n",
       "    text-align: left;\n",
       "  }\n",
       "</style><div class='table-result-container'><table class='table-result'><thead style='background-color: white'><tr><th>sum(trip_distance)</th><th>sum(Fare_Amt)</th></tr></thead><tbody><tr><td>1.6090522284000695E7</td><td>6.090961414998949E7</td></tr><tr><td>1.760530018899947E7</td><td>6.459468650998886E7</td></tr><tr><td>2349413.3999999575</td><td>8408232.559999993</td></tr></tbody></table></div>"
      ]
     },
     "metadata": {
      "application/vnd.databricks.v1+output": {
       "addedWidgets": {},
       "aggData": [],
       "aggError": "",
       "aggOverflow": false,
       "aggSchema": [],
       "aggSeriesLimitReached": false,
       "aggType": "",
       "arguments": {},
       "columnCustomDisplayInfos": {},
       "data": [
        [
         1.6090522284000695E7,
         6.090961414998949E7
        ],
        [
         1.760530018899947E7,
         6.459468650998886E7
        ],
        [
         2349413.3999999575,
         8408232.559999993
        ]
       ],
       "datasetInfos": [],
       "dbfsResultPath": null,
       "isJsonSchema": true,
       "metadata": {},
       "overflow": false,
       "plotOptions": {
        "customPlotOptions": {},
        "displayType": "table",
        "pivotAggregation": null,
        "pivotColumns": null,
        "xColumns": null,
        "yColumns": null
       },
       "removedWidgets": [],
       "schema": [
        {
         "metadata": "{\"__autoGeneratedAlias\":\"true\"}",
         "name": "sum(trip_distance)",
         "type": "\"double\""
        },
        {
         "metadata": "{\"__autoGeneratedAlias\":\"true\"}",
         "name": "sum(Fare_Amt)",
         "type": "\"double\""
        }
       ],
       "type": "table"
      }
     },
     "output_type": "display_data"
    }
   ],
   "source": [
    "%sql \n",
    "select sum(trip_distance),sum(Fare_Amt) from trip_db.trip_delta group by vendor_name --this time whatever data available in cache would be read from cache and rest would be read from file and then will be written to cache so that if we execute same query again all the data will be read from cache instead of file."
   ]
  },
  {
   "cell_type": "code",
   "execution_count": 0,
   "metadata": {
    "application/vnd.databricks.v1+cell": {
     "cellMetadata": {
      "byteLimit": 2048000,
      "implicitDf": true,
      "rowLimit": 10000
     },
     "inputWidgets": {},
     "nuid": "93c19d9e-e577-4a84-8733-a92be9754970",
     "showTitle": false,
     "title": ""
    }
   },
   "outputs": [
    {
     "output_type": "display_data",
     "data": {
      "text/html": [
       "<style scoped>\n",
       "  .table-result-container {\n",
       "    max-height: 300px;\n",
       "    overflow: auto;\n",
       "  }\n",
       "  table, th, td {\n",
       "    border: 1px solid black;\n",
       "    border-collapse: collapse;\n",
       "  }\n",
       "  th, td {\n",
       "    padding: 5px;\n",
       "  }\n",
       "  th {\n",
       "    text-align: left;\n",
       "  }\n",
       "</style><div class='table-result-container'><table class='table-result'><thead style='background-color: white'><tr><th>sum(trip_distance)</th><th>sum(Fare_Amt)</th></tr></thead><tbody><tr><td>1.6090522284000695E7</td><td>6.090961414998949E7</td></tr><tr><td>1.760530018899947E7</td><td>6.459468650998886E7</td></tr><tr><td>2349413.3999999575</td><td>8408232.559999993</td></tr></tbody></table></div>"
      ]
     },
     "metadata": {
      "application/vnd.databricks.v1+output": {
       "addedWidgets": {},
       "aggData": [],
       "aggError": "",
       "aggOverflow": false,
       "aggSchema": [],
       "aggSeriesLimitReached": false,
       "aggType": "",
       "arguments": {},
       "columnCustomDisplayInfos": {},
       "data": [
        [
         1.6090522284000695E7,
         6.090961414998949E7
        ],
        [
         1.760530018899947E7,
         6.459468650998886E7
        ],
        [
         2349413.3999999575,
         8408232.559999993
        ]
       ],
       "datasetInfos": [],
       "dbfsResultPath": null,
       "isJsonSchema": true,
       "metadata": {},
       "overflow": false,
       "plotOptions": {
        "customPlotOptions": {},
        "displayType": "table",
        "pivotAggregation": null,
        "pivotColumns": null,
        "xColumns": null,
        "yColumns": null
       },
       "removedWidgets": [],
       "schema": [
        {
         "metadata": "{\"__autoGeneratedAlias\":\"true\"}",
         "name": "sum(trip_distance)",
         "type": "\"double\""
        },
        {
         "metadata": "{\"__autoGeneratedAlias\":\"true\"}",
         "name": "sum(Fare_Amt)",
         "type": "\"double\""
        }
       ],
       "type": "table"
      }
     },
     "output_type": "display_data"
    }
   ],
   "source": [
    "%sql \n",
    "select sum(trip_distance),sum(Fare_Amt) from trip_db.trip_delta group by vendor_name ---everything will be read from cache"
   ]
  },
  {
   "cell_type": "code",
   "execution_count": 0,
   "metadata": {
    "application/vnd.databricks.v1+cell": {
     "cellMetadata": {
      "byteLimit": 2048000,
      "implicitDf": true,
      "rowLimit": 10000
     },
     "inputWidgets": {},
     "nuid": "eb5bc9c7-4757-4b5d-bc13-775365a8e5fb",
     "showTitle": false,
     "title": ""
    }
   },
   "outputs": [
    {
     "output_type": "display_data",
     "data": {
      "text/html": [
       "<style scoped>\n",
       "  .table-result-container {\n",
       "    max-height: 300px;\n",
       "    overflow: auto;\n",
       "  }\n",
       "  table, th, td {\n",
       "    border: 1px solid black;\n",
       "    border-collapse: collapse;\n",
       "  }\n",
       "  th, td {\n",
       "    padding: 5px;\n",
       "  }\n",
       "  th {\n",
       "    text-align: left;\n",
       "  }\n",
       "</style><div class='table-result-container'><table class='table-result'><thead style='background-color: white'><tr></tr></thead><tbody></tbody></table></div>"
      ]
     },
     "metadata": {
      "application/vnd.databricks.v1+output": {
       "addedWidgets": {},
       "aggData": [],
       "aggError": "",
       "aggOverflow": false,
       "aggSchema": [],
       "aggSeriesLimitReached": false,
       "aggType": "",
       "arguments": {},
       "columnCustomDisplayInfos": {},
       "data": [],
       "datasetInfos": [],
       "dbfsResultPath": null,
       "isJsonSchema": true,
       "metadata": {},
       "overflow": false,
       "plotOptions": {
        "customPlotOptions": {},
        "displayType": "table",
        "pivotAggregation": null,
        "pivotColumns": null,
        "xColumns": null,
        "yColumns": null
       },
       "removedWidgets": [],
       "schema": [],
       "type": "table"
      }
     },
     "output_type": "display_data"
    }
   ],
   "source": [
    "%sql\n",
    "Cache\n",
    "select * from trip_db.trip_delta  ---manual caching of data"
   ]
  },
  {
   "cell_type": "markdown",
   "metadata": {
    "application/vnd.databricks.v1+cell": {
     "cellMetadata": {
      "byteLimit": 2048000,
      "rowLimit": 10000
     },
     "inputWidgets": {},
     "nuid": "2a141cc3-1ef1-4175-86f1-8ccbc0ee9939",
     "showTitle": false,
     "title": ""
    }
   },
   "source": [
    "#Small File Problem - OPTIMIZE"
   ]
  },
  {
   "cell_type": "code",
   "execution_count": 0,
   "metadata": {
    "application/vnd.databricks.v1+cell": {
     "cellMetadata": {
      "byteLimit": 2048000,
      "rowLimit": 10000
     },
     "inputWidgets": {},
     "nuid": "50ccc1a5-28d7-4f57-a180-5d617d550112",
     "showTitle": false,
     "title": ""
    }
   },
   "outputs": [
    {
     "output_type": "display_data",
     "data": {
      "text/html": [
       "<style scoped>\n",
       "  .ansiout {\n",
       "    display: block;\n",
       "    unicode-bidi: embed;\n",
       "    white-space: pre-wrap;\n",
       "    word-wrap: break-word;\n",
       "    word-break: break-all;\n",
       "    font-family: \"Menlo\", \"Monaco\", \"Consolas\", \"Ubuntu Mono\", \"Source Code Pro\", monospace;\n",
       "    font-size: 13px;\n",
       "    color: #555;\n",
       "    margin-left: 4px;\n",
       "    line-height: 19px;\n",
       "  }\n",
       "</style>\n",
       "<div class=\"ansiout\"></div>"
      ]
     },
     "metadata": {
      "application/vnd.databricks.v1+output": {
       "addedWidgets": {},
       "arguments": {},
       "data": "<div class=\"ansiout\"></div>",
       "datasetInfos": [],
       "metadata": {},
       "removedWidgets": [],
       "type": "html"
      }
     },
     "output_type": "display_data"
    }
   ],
   "source": [
    "trip_df.repartition(500).write.format(\"delta\").mode('overwrite').partitionBy(\"vendor_name\").mode(\"overwrite\").saveAsTable(\"trip_db.trip_small_delta\")"
   ]
  },
  {
   "cell_type": "code",
   "execution_count": 0,
   "metadata": {
    "application/vnd.databricks.v1+cell": {
     "cellMetadata": {
      "byteLimit": 2048000,
      "implicitDf": true,
      "rowLimit": 10000
     },
     "inputWidgets": {},
     "nuid": "5a1b949a-fda0-402f-9991-900e8b84977a",
     "showTitle": false,
     "title": ""
    }
   },
   "outputs": [
    {
     "output_type": "display_data",
     "data": {
      "text/html": [
       "<style scoped>\n",
       "  .table-result-container {\n",
       "    max-height: 300px;\n",
       "    overflow: auto;\n",
       "  }\n",
       "  table, th, td {\n",
       "    border: 1px solid black;\n",
       "    border-collapse: collapse;\n",
       "  }\n",
       "  th, td {\n",
       "    padding: 5px;\n",
       "  }\n",
       "  th {\n",
       "    text-align: left;\n",
       "  }\n",
       "</style><div class='table-result-container'><table class='table-result'><thead style='background-color: white'><tr><th>format</th><th>id</th><th>name</th><th>description</th><th>location</th><th>createdAt</th><th>lastModified</th><th>partitionColumns</th><th>numFiles</th><th>sizeInBytes</th><th>properties</th><th>minReaderVersion</th><th>minWriterVersion</th></tr></thead><tbody><tr><td>delta</td><td>c1086c6f-8bc4-4850-bc67-bb9deb23a38c</td><td>trip_db.trip_small_delta</td><td>null</td><td>dbfs:/user/hive/warehouse/trip_db.db/trip_small_delta</td><td>2024-01-15T13:46:56.869+0000</td><td>2024-01-15T14:00:43.000+0000</td><td>List(vendor_name)</td><td>5</td><td>432670640</td><td>Map()</td><td>1</td><td>2</td></tr></tbody></table></div>"
      ]
     },
     "metadata": {
      "application/vnd.databricks.v1+output": {
       "addedWidgets": {},
       "aggData": [],
       "aggError": "",
       "aggOverflow": false,
       "aggSchema": [],
       "aggSeriesLimitReached": false,
       "aggType": "",
       "arguments": {},
       "columnCustomDisplayInfos": {},
       "data": [
        [
         "delta",
         "c1086c6f-8bc4-4850-bc67-bb9deb23a38c",
         "trip_db.trip_small_delta",
         null,
         "dbfs:/user/hive/warehouse/trip_db.db/trip_small_delta",
         "2024-01-15T13:46:56.869+0000",
         "2024-01-15T14:00:43.000+0000",
         [
          "vendor_name"
         ],
         5,
         432670640,
         {},
         1,
         2
        ]
       ],
       "datasetInfos": [],
       "dbfsResultPath": null,
       "isJsonSchema": true,
       "metadata": {},
       "overflow": false,
       "plotOptions": {
        "customPlotOptions": {},
        "displayType": "table",
        "pivotAggregation": null,
        "pivotColumns": null,
        "xColumns": null,
        "yColumns": null
       },
       "removedWidgets": [],
       "schema": [
        {
         "metadata": "{}",
         "name": "format",
         "type": "\"string\""
        },
        {
         "metadata": "{}",
         "name": "id",
         "type": "\"string\""
        },
        {
         "metadata": "{}",
         "name": "name",
         "type": "\"string\""
        },
        {
         "metadata": "{}",
         "name": "description",
         "type": "\"string\""
        },
        {
         "metadata": "{}",
         "name": "location",
         "type": "\"string\""
        },
        {
         "metadata": "{}",
         "name": "createdAt",
         "type": "\"timestamp\""
        },
        {
         "metadata": "{}",
         "name": "lastModified",
         "type": "\"timestamp\""
        },
        {
         "metadata": "{}",
         "name": "partitionColumns",
         "type": "{\"type\":\"array\",\"elementType\":\"string\",\"containsNull\":true}"
        },
        {
         "metadata": "{}",
         "name": "numFiles",
         "type": "\"long\""
        },
        {
         "metadata": "{}",
         "name": "sizeInBytes",
         "type": "\"long\""
        },
        {
         "metadata": "{}",
         "name": "properties",
         "type": "{\"type\":\"map\",\"keyType\":\"string\",\"valueType\":\"string\",\"valueContainsNull\":true}"
        },
        {
         "metadata": "{}",
         "name": "minReaderVersion",
         "type": "\"integer\""
        },
        {
         "metadata": "{}",
         "name": "minWriterVersion",
         "type": "\"integer\""
        }
       ],
       "type": "table"
      }
     },
     "output_type": "display_data"
    }
   ],
   "source": [
    "%sql\n",
    "DESCRIBE DETAIL trip_db.trip_small_delta"
   ]
  },
  {
   "cell_type": "code",
   "execution_count": 0,
   "metadata": {
    "application/vnd.databricks.v1+cell": {
     "cellMetadata": {
      "byteLimit": 2048000,
      "rowLimit": 10000
     },
     "inputWidgets": {},
     "nuid": "b95bc8b8-2145-45dc-964e-d3d47b750ed7",
     "showTitle": false,
     "title": ""
    }
   },
   "outputs": [
    {
     "output_type": "display_data",
     "data": {
      "text/html": [
       "<style scoped>\n",
       "  .ansiout {\n",
       "    display: block;\n",
       "    unicode-bidi: embed;\n",
       "    white-space: pre-wrap;\n",
       "    word-wrap: break-word;\n",
       "    word-break: break-all;\n",
       "    font-family: \"Menlo\", \"Monaco\", \"Consolas\", \"Ubuntu Mono\", \"Source Code Pro\", monospace;\n",
       "    font-size: 13px;\n",
       "    color: #555;\n",
       "    margin-left: 4px;\n",
       "    line-height: 19px;\n",
       "  }\n",
       "</style>\n",
       "<div class=\"ansiout\">[Truncated to first 65536 bytes]\n",
       "{&quot;commitInfo&quot;:{&quot;timestamp&quot;:1705326617933,&quot;userId&quot;:&quot;2035466439901047&quot;,&quot;userName&quot;:&quot;supriyaamshenoy@outlook.com&quot;,&quot;operation&quot;:&quot;CREATE TABLE AS SELECT&quot;,&quot;operationParameters&quot;:{&quot;isManaged&quot;:&quot;true&quot;,&quot;description&quot;:null,&quot;partitionBy&quot;:&quot;[\\&quot;vendor_name\\&quot;]&quot;,&quot;properties&quot;:&quot;{}&quot;},&quot;notebook&quot;:{&quot;notebookId&quot;:&quot;2121621502026997&quot;},&quot;clusterId&quot;:&quot;0113-120816-1eptehi9&quot;,&quot;isolationLevel&quot;:&quot;WriteSerializable&quot;,&quot;isBlindAppend&quot;:true,&quot;operationMetrics&quot;:{&quot;numFiles&quot;:&quot;1500&quot;,&quot;numOutputRows&quot;:&quot;14092413&quot;,&quot;numOutputBytes&quot;:&quot;716480913&quot;},&quot;engineInfo&quot;:&quot;Databricks-Runtime/10.4.x-photon-scala2.12&quot;,&quot;txnId&quot;:&quot;4dc9a04b-e8ba-4c75-b7c1-8baff58e4ea6&quot;}}\n",
       "{&quot;protocol&quot;:{&quot;minReaderVersion&quot;:1,&quot;minWriterVersion&quot;:2}}\n",
       "{&quot;metaData&quot;:{&quot;id&quot;:&quot;c1086c6f-8bc4-4850-bc67-bb9deb23a38c&quot;,&quot;format&quot;:{&quot;provider&quot;:&quot;parquet&quot;,&quot;options&quot;:{}},&quot;schemaString&quot;:&quot;{\\&quot;type\\&quot;:\\&quot;struct\\&quot;,\\&quot;fields\\&quot;:[{\\&quot;name\\&quot;:\\&quot;vendor_name\\&quot;,\\&quot;type\\&quot;:\\&quot;string\\&quot;,\\&quot;nullable\\&quot;:true,\\&quot;metadata\\&quot;:{}},{\\&quot;name\\&quot;:\\&quot;Trip_Pickup_DateTime\\&quot;,\\&quot;type\\&quot;:\\&quot;timestamp\\&quot;,\\&quot;nullable\\&quot;:true,\\&quot;metadata\\&quot;:{}},{\\&quot;name\\&quot;:\\&quot;Trip_Dropoff_DateTime\\&quot;,\\&quot;type\\&quot;:\\&quot;timestamp\\&quot;,\\&quot;nullable\\&quot;:true,\\&quot;metadata\\&quot;:{}},{\\&quot;name\\&quot;:\\&quot;Passenger_Count\\&quot;,\\&quot;type\\&quot;:\\&quot;integer\\&quot;,\\&quot;nullable\\&quot;:true,\\&quot;metadata\\&quot;:{}},{\\&quot;name\\&quot;:\\&quot;Trip_Distance\\&quot;,\\&quot;type\\&quot;:\\&quot;double\\&quot;,\\&quot;nullable\\&quot;:true,\\&quot;metadata\\&quot;:{}},{\\&quot;name\\&quot;:\\&quot;Start_Lon\\&quot;,\\&quot;type\\&quot;:\\&quot;double\\&quot;,\\&quot;nullable\\&quot;:true,\\&quot;metadata\\&quot;:{}},{\\&quot;name\\&quot;:\\&quot;Start_Lat\\&quot;,\\&quot;type\\&quot;:\\&quot;double\\&quot;,\\&quot;nullable\\&quot;:true,\\&quot;metadata\\&quot;:{}},{\\&quot;name\\&quot;:\\&quot;Rate_Code\\&quot;,\\&quot;type\\&quot;:\\&quot;string\\&quot;,\\&quot;nullable\\&quot;:true,\\&quot;metadata\\&quot;:{}},{\\&quot;name\\&quot;:\\&quot;store_and_forward\\&quot;,\\&quot;type\\&quot;:\\&quot;integer\\&quot;,\\&quot;nullable\\&quot;:true,\\&quot;metadata\\&quot;:{}},{\\&quot;name\\&quot;:\\&quot;End_Lon\\&quot;,\\&quot;type\\&quot;:\\&quot;double\\&quot;,\\&quot;nullable\\&quot;:true,\\&quot;metadata\\&quot;:{}},{\\&quot;name\\&quot;:\\&quot;End_Lat\\&quot;,\\&quot;type\\&quot;:\\&quot;double\\&quot;,\\&quot;nullable\\&quot;:true,\\&quot;metadata\\&quot;:{}},{\\&quot;name\\&quot;:\\&quot;Payment_Type\\&quot;,\\&quot;type\\&quot;:\\&quot;string\\&quot;,\\&quot;nullable\\&quot;:true,\\&quot;metadata\\&quot;:{}},{\\&quot;name\\&quot;:\\&quot;Fare_Amt\\&quot;,\\&quot;type\\&quot;:\\&quot;double\\&quot;,\\&quot;nullable\\&quot;:true,\\&quot;metadata\\&quot;:{}},{\\&quot;name\\&quot;:\\&quot;surcharge\\&quot;,\\&quot;type\\&quot;:\\&quot;double\\&quot;,\\&quot;nullable\\&quot;:true,\\&quot;metadata\\&quot;:{}},{\\&quot;name\\&quot;:\\&quot;mta_tax\\&quot;,\\&quot;type\\&quot;:\\&quot;string\\&quot;,\\&quot;nullable\\&quot;:true,\\&quot;metadata\\&quot;:{}},{\\&quot;name\\&quot;:\\&quot;Tip_Amt\\&quot;,\\&quot;type\\&quot;:\\&quot;double\\&quot;,\\&quot;nullable\\&quot;:true,\\&quot;metadata\\&quot;:{}},{\\&quot;name\\&quot;:\\&quot;Tolls_Amt\\&quot;,\\&quot;type\\&quot;:\\&quot;double\\&quot;,\\&quot;nullable\\&quot;:true,\\&quot;metadata\\&quot;:{}},{\\&quot;name\\&quot;:\\&quot;Total_Amt\\&quot;,\\&quot;type\\&quot;:\\&quot;double\\&quot;,\\&quot;nullable\\&quot;:true,\\&quot;metadata\\&quot;:{}}]}&quot;,&quot;partitionColumns&quot;:[&quot;vendor_name&quot;],&quot;configuration&quot;:{},&quot;createdTime&quot;:1705326416869}}\n",
       "{&quot;add&quot;:{&quot;path&quot;:&quot;vendor_name=CMT/part-00000-37ac7b88-e1e0-40b8-a6c4-87cf9f8542d5.c000.snappy.parquet&quot;,&quot;partitionValues&quot;:{&quot;vendor_name&quot;:&quot;CMT&quot;},&quot;size&quot;:655940,&quot;modificationTime&quot;:1705326548000,&quot;dataChange&quot;:true,&quot;stats&quot;:&quot;{\\&quot;numRecords\\&quot;:12759,\\&quot;minValues\\&quot;:{\\&quot;Trip_Pickup_DateTime\\&quot;:\\&quot;2009-01-01T00:15:00.000Z\\&quot;,\\&quot;Trip_Dropoff_DateTime\\&quot;:\\&quot;2009-01-01T00:26:19.000Z\\&quot;,\\&quot;Passenger_Count\\&quot;:1,\\&quot;Trip_Distance\\&quot;:0.0,\\&quot;Start_Lon\\&quot;:-74.734748,\\&quot;Start_Lat\\&quot;:0.0,\\&quot;store_and_forward\\&quot;:0,\\&quot;End_Lon\\&quot;:-74.734109,\\&quot;End_Lat\\&quot;:0.0,\\&quot;Payment_Type\\&quot;:\\&quot;Cash\\&quot;,\\&quot;Fare_Amt\\&quot;:2.5,\\&quot;surcharge\\&quot;:0.0,\\&quot;Tip_Amt\\&quot;:0.0,\\&quot;Tolls_Amt\\&quot;:0.0,\\&quot;Total_Amt\\&quot;:2.5},\\&quot;maxValues\\&quot;:{\\&quot;Trip_Pickup_DateTime\\&quot;:\\&quot;2009-01-31T23:59:41.000Z\\&quot;,\\&quot;Trip_Dropoff_DateTime\\&quot;:\\&quot;2009-02-01T00:23:03.000Z\\&quot;,\\&quot;Passenger_Count\\&quot;:5,\\&quot;Trip_Distance\\&quot;:42.2,\\&quot;Start_Lon\\&quot;:0.0,\\&quot;Start_Lat\\&quot;:45.058149,\\&quot;store_and_forward\\&quot;:0,\\&quot;End_Lon\\&quot;:0.0,\\&quot;End_Lat\\&quot;:45.057724,\\&quot;Payment_Type\\&quot;:\\&quot;No Charge\\&quot;,\\&quot;Fare_Amt\\&quot;:165.0,\\&quot;surcharge\\&quot;:0.0,\\&quot;Tip_Amt\\&quot;:34.0,\\&quot;Tolls_Amt\\&quot;:11.0,\\&quot;Total_Amt\\&quot;:165.0},\\&quot;nullCount\\&quot;:{\\&quot;Trip_Pickup_DateTime\\&quot;:0,\\&quot;Trip_Dropoff_DateTime\\&quot;:0,\\&quot;Passenger_Count\\&quot;:0,\\&quot;Trip_Distance\\&quot;:0,\\&quot;Start_Lon\\&quot;:0,\\&quot;Start_Lat\\&quot;:0,\\&quot;Rate_Code\\&quot;:12759,\\&quot;store_and_forward\\&quot;:12756,\\&quot;End_Lon\\&quot;:0,\\&quot;End_Lat\\&quot;:0,\\&quot;Payment_Type\\&quot;:0,\\&quot;Fare_Amt\\&quot;:0,\\&quot;surcharge\\&quot;:0,\\&quot;mta_tax\\&quot;:12759,\\&quot;Tip_Amt\\&quot;:0,\\&quot;Tolls_Amt\\&quot;:0,\\&quot;Total_Amt\\&quot;:0}}&quot;,&quot;tags&quot;:{&quot;INSERTION_TIME&quot;:&quot;1705326548000000&quot;,&quot;OPTIMIZE_TARGET_SIZE&quot;:&quot;268435456&quot;}}}\n",
       "{&quot;add&quot;:{&quot;path&quot;:&quot;vendor_name=DDS/part-00000-3286d8b8-e7bb-47f9-8e98-aa451d0b3bdd.c000.snappy.parquet&quot;,&quot;partitionValues&quot;:{&quot;vendor_name&quot;:&quot;DDS&quot;},&quot;size&quot;:94018,&quot;modificationTime&quot;:1705326549000,&quot;dataChange&quot;:true,&quot;stats&quot;:&quot;{\\&quot;numRecords\\&quot;:1731,\\&quot;minValues\\&quot;:{\\&quot;Trip_Pickup_DateTime\\&quot;:\\&quot;2009-01-01T00:05:23.000Z\\&quot;,\\&quot;Trip_Dropoff_DateTime\\&quot;:\\&quot;2009-01-01T00:24:14.000Z\\&quot;,\\&quot;Passenger_Count\\&quot;:0,\\&quot;Trip_Distance\\&quot;:0.0,\\&quot;Start_Lon\\&quot;:-74.050307,\\&quot;Start_Lat\\&quot;:40.639916,\\&quot;End_Lon\\&quot;:-74.177184,\\&quot;End_Lat\\&quot;:40.581402,\\&quot;Payment_Type\\&quot;:\\&quot;CASH\\&quot;,\\&quot;Fare_Amt\\&quot;:2.5,\\&quot;surcharge\\&quot;:0.0,\\&quot;Tip_Amt\\&quot;:0.0,\\&quot;Tolls_Amt\\&quot;:0.0,\\&quot;Total_Amt\\&quot;:2.5},\\&quot;maxValues\\&quot;:{\\&quot;Trip_Pickup_DateTime\\&quot;:\\&quot;2009-01-31T23:58:34.000Z\\&quot;,\\&quot;Trip_Dropoff_DateTime\\&quot;:\\&quot;2009-02-01T00:03:16.000Z\\&quot;,\\&quot;Passenger_Count\\&quot;:5,\\&quot;Trip_Distance\\&quot;:23.3,\\&quot;Start_Lon\\&quot;:-73.137393,\\&quot;Start_Lat\\&quot;:41.366138,\\&quot;End_Lon\\&quot;:-73.137393,\\&quot;End_Lat\\&quot;:41.366138,\\&quot;Payment_Type\\&quot;:\\&quot;CREDIT\\&quot;,\\&quot;Fare_Amt\\&quot;:56.3,\\&quot;surcharge\\&quot;:1.0,\\&quot;Tip_Amt\\&quot;:11.0,\\&quot;Tolls_Amt\\&quot;:12.0,\\&quot;Total_Amt\\&quot;:76.3},\\&quot;nullCount\\&quot;:{\\&quot;Trip_Pickup_DateTime\\&quot;:0,\\&quot;Trip_Dropoff_DateTime\\&quot;:0,\\&quot;Passenger_Count\\&quot;:0,\\&quot;Trip_Distance\\&quot;:0,\\&quot;Start_Lon\\&quot;:0,\\&quot;Start_Lat\\&quot;:0,\\&quot;Rate_Code\\&quot;:1731,\\&quot;store_and_forward\\&quot;:1731,\\&quot;End_Lon\\&quot;:0,\\&quot;End_Lat\\&quot;:0,\\&quot;Payment_Type\\&quot;:0,\\&quot;Fare_Amt\\&quot;:0,\\&quot;surcharge\\&quot;:0,\\&quot;mta_tax\\&quot;:1731,\\&quot;Tip_Amt\\&quot;:0,\\&quot;Tolls_Amt\\&quot;:0,\\&quot;Total_Amt\\&quot;:0}}&quot;,&quot;tags&quot;:{&quot;INSERTION_TIME&quot;:&quot;1705326548000001&quot;,&quot;OPTIMIZE_TARGET_SIZE&quot;:&quot;268435456&quot;}}}\n",
       "{&quot;add&quot;:{&quot;path&quot;:&quot;vendor_name=VTS/part-00000-2b29ab4f-9d13-4055-b56e-591c8804646f.c000.snappy.parquet&quot;,&quot;partitionValues&quot;:{&quot;vendor_name&quot;:&quot;VTS&quot;},&quot;size&quot;:676406,&quot;modificationTime&quot;:1705326549000,&quot;dataChange&quot;:true,&quot;stats&quot;:&quot;{\\&quot;numRecords\\&quot;:13695,\\&quot;minValues\\&quot;:{\\&quot;Trip_Pickup_DateTime\\&quot;:\\&quot;2009-01-01T10:00:00.000Z\\&quot;,\\&quot;Trip_Dropoff_DateTime\\&quot;:\\&quot;2009-01-01T10:23:00.000Z\\&quot;,\\&quot;Passenger_Count\\&quot;:1,\\&quot;Trip_Distance\\&quot;:0.0,\\&quot;Start_Lon\\&quot;:-76.27722,\\&quot;Start_Lat\\&quot;:0.0,\\&quot;End_Lon\\&quot;:-76.20183,\\&quot;End_Lat\\&quot;:0.0,\\&quot;Payment_Type\\&quot;:\\&quot;CASH\\&quot;,\\&quot;Fare_Amt\\&quot;:2.5,\\&quot;surcharge\\&quot;:0.0,\\&quot;Tip_Amt\\&quot;:0.0,\\&quot;Tolls_Amt\\&quot;:0.0,\\&quot;Total_Amt\\&quot;:2.5},\\&quot;maxValues\\&quot;:{\\&quot;Trip_Pickup_DateTime\\&quot;:\\&quot;2009-01-31T23:59:00.000Z\\&quot;,\\&quot;Trip_Dropoff_DateTime\\&quot;:\\&quot;2009-02-01T13:46:00.000Z\\&quot;,\\&quot;Passenger_Count\\&quot;:6,\\&quot;Trip_Distance\\&quot;:36.75,\\&quot;Start_Lon\\&quot;:0.0,\\&quot;Start_Lat\\&quot;:42.006515,\\&quot;End_Lon\\&quot;:0.0,\\&quot;End_Lat\\&quot;:42.020745,\\&quot;Payment_Type\\&quot;:\\&quot;Credit\\&quot;,\\&quot;Fare_Amt\\&quot;:189.7,\\&quot;surcharge\\&quot;:1.0,\\&quot;Tip_Amt\\&quot;:48.0,\\&quot;Tolls_Amt\\&quot;:10.15,\\&quot;Total_Amt\\&quot;:189.7},\\&quot;nullCount\\&quot;:{\\&quot;Trip_Pickup_DateTime\\&quot;:0,\\&quot;Trip_Dropoff_DateTime\\&quot;:0,\\&quot;Passenger_Count\\&quot;:0,\\&quot;Trip_Distance\\&quot;:0,\\&quot;Start_Lon\\&quot;:0,\\&quot;Start_Lat\\&quot;:0,\\&quot;Rate_Code\\&quot;:13695,\\&quot;store_and_forward\\&quot;:13695,\\&quot;End_Lon\\&quot;:0,\\&quot;End_Lat\\&quot;:0,\\&quot;Payment_Type\\&quot;:0,\\&quot;Fare_Amt\\&quot;:0,\\&quot;surcharge\\&quot;:0,\\&quot;mta_tax\\&quot;:13695,\\&quot;Tip_Amt\\&quot;:0,\\&quot;Tolls_Amt\\&quot;:0,\\&quot;Total_Amt\\&quot;:0}}&quot;,&quot;tags&quot;:{&quot;INSERTION_TIME&quot;:&quot;1705326548000002&quot;,&quot;OPTIMIZE_TARGET_SIZE&quot;:&quot;268435456&quot;}}}\n",
       "{&quot;add&quot;:{&quot;path&quot;:&quot;vendor_name=CMT/part-00001-1c95e7f6-1e79-45cf-bdb4-ac0cb85b4fe8.c000.snappy.parquet&quot;,&quot;partitionValues&quot;:{&quot;vendor_name&quot;:&quot;CMT&quot;},&quot;size&quot;:655146,&quot;modificationTime&quot;:1705326548000,&quot;dataChange&quot;:true,&quot;stats&quot;:&quot;{\\&quot;numRecords\\&quot;:12762,\\&quot;minValues\\&quot;:{\\&quot;Trip_Pickup_DateTime\\&quot;:\\&quot;2009-01-01T00:03:55.000Z\\&quot;,\\&quot;Trip_Dropoff_DateTime\\&quot;:\\&quot;2009-01-01T00:11:10.000Z\\&quot;,\\&quot;Passenger_Count\\&quot;:1,\\&quot;Trip_Distance\\&quot;:0.0,\\&quot;Start_Lon\\&quot;:-74.73032,\\&quot;Start_Lat\\&quot;:0.0,\\&quot;store_and_forward\\&quot;:0,\\&quot;End_Lon\\&quot;:-74.729554,\\&quot;End_Lat\\&quot;:0.0,\\&quot;Payment_Type\\&quot;:\\&quot;Cash\\&quot;,\\&quot;Fare_Amt\\&quot;:2.5,\\&quot;surcharge\\&quot;:0.0,\\&quot;Tip_Amt\\&quot;:0.0,\\&quot;Tolls_Amt\\&quot;:0.0,\\&quot;Total_Amt\\&quot;:2.5},\\&quot;maxValues\\&quot;:{\\&quot;Trip_Pickup_DateTime\\&quot;:\\&quot;2009-01-31T23:57:56.000Z\\&quot;,\\&quot;Trip_Dropoff_DateTime\\&quot;:\\&quot;2009-02-01T00:25:03.000Z\\&quot;,\\&quot;Passenger_Count\\&quot;:5,\\&quot;Trip_Distance\\&quot;:33.6,\\&quot;Start_Lon\\&quot;:0.0,\\&quot;Start_Lat\\&quot;:45.034471,\\&quot;store_and_forward\\&quot;:0,\\&quot;End_Lon\\&quot;:0.0,\\&quot;End_Lat\\&quot;:45.034546,\\&quot;Payment_Type\\&quot;:\\&quot;No Charge\\&quot;,\\&quot;Fare_Amt\\&quot;:130.0,\\&quot;surcharge\\&quot;:0.0,\\&quot;Tip_Amt\\&quot;:51.12,\\&quot;Tolls_Amt\\&quot;:15.6,\\&quot;Total_Amt\\&quot;:131.0},\\&quot;nullCount\\&quot;:{\\&quot;Trip_Pickup_DateTime\\&quot;:0,\\&quot;Trip_Dropoff_DateTime\\&quot;:0,\\&quot;Passenger_Count\\&quot;:0,\\&quot;Trip_Distance\\&quot;:0,\\&quot;Start_Lon\\&quot;:0,\\&quot;Start_Lat\\&quot;:0,\\&quot;Rate_Code\\&quot;:12762,\\&quot;store_and_forward\\&quot;:12761,\\&quot;End_Lon\\&quot;:0,\\&quot;End_Lat\\&quot;:0,\\&quot;Payment_Type\\&quot;:0,\\&quot;Fare_Amt\\&quot;:0,\\&quot;surcharge\\&quot;:0,\\&quot;mta_tax\\&quot;:12762,\\&quot;Tip_Amt\\&quot;:0,\\&quot;Tolls_Amt\\&quot;:0,\\&quot;Total_Amt\\&quot;:0}}&quot;,&quot;tags&quot;:{&quot;INSERTION_TIME&quot;:&quot;1705326548000003&quot;,&quot;OPTIMIZE_TARGET_SIZE&quot;:&quot;268435456&quot;}}}\n",
       "{&quot;add&quot;:{&quot;path&quot;:&quot;vendor_name=DDS/part-00001-7fdf9541-f900-49aa-8c1e-857acc0e0c39.c000.snappy.parquet&quot;,&quot;partitionValues&quot;:{&quot;vendor_name&quot;:&quot;DDS&quot;},&quot;size&quot;:90222,&quot;modificationTime&quot;:1705326549000,&quot;dataChange&quot;:true,&quot;stats&quot;:&quot;{\\&quot;numRecords\\&quot;:1648,\\&quot;minValues\\&quot;:{\\&quot;Trip_Pickup_DateTime\\&quot;:\\&quot;2009-01-01T00:31:28.000Z\\&quot;,\\&quot;Trip_Dropoff_DateTime\\&quot;:\\&quot;2009-01-01T00:47:14.000Z\\&quot;,\\&quot;Passenger_Count\\&quot;:0,\\&quot;Trip_Distance\\&quot;:0.0,\\&quot;Start_Lon\\&quot;:-74.038771,\\&quot;Start_Lat\\&quot;:40.639217,\\&quot;End_Lon\\&quot;:-74.185238,\\&quot;End_Lat\\&quot;:40.580434,\\&quot;Payment_Type\\&quot;:\\&quot;CASH\\&quot;,\\&quot;Fare_Amt\\&quot;:2.5,\\&quot;surcharge\\&quot;:0.0,\\&quot;Tip_Amt\\&quot;:0.0,\\&quot;Tolls_Amt\\&quot;:0.0,\\&quot;Total_Amt\\&quot;:2.5},\\&quot;maxValues\\&quot;:{\\&quot;Trip_Pickup_DateTime\\&quot;:\\&quot;2009-01-31T23:39:25.000Z\\&quot;,\\&quot;Trip_Dropoff_DateTime\\&quot;:\\&quot;2009-02-01T00:02:33.000Z\\&quot;,\\&quot;Passenger_Count\\&quot;:5,\\&quot;Trip_Distance\\&quot;:27.1,\\&quot;Start_Lon\\&quot;:-73.137393,\\&quot;Start_Lat\\&quot;:41.366138,\\&quot;End_Lon\\&quot;:-73.137393,\\&quot;End_Lat\\&quot;:41.366138,\\&quot;Payment_Type\\&quot;:\\&quot;CREDIT\\&quot;,\\&quot;Fare_Amt\\&quot;:68.9,\\&quot;surcharge\\&quot;:1.0,\\&quot;Tip_Amt\\&quot;:32.0,\\&quot;Tolls_Amt\\&quot;:8.0,\\&quot;Total_Amt\\&quot;:94.35},\\&quot;nullCount\\&quot;:{\\&quot;Trip_Pickup_DateTime\\&quot;:0,\\&quot;Trip_Dropoff_DateTime\\&quot;:0,\\&quot;Passenger_Count\\&quot;:0,\\&quot;Trip_Distance\\&quot;:0,\\&quot;Start_Lon\\&quot;:0,\\&quot;Start_Lat\\&quot;:0,\\&quot;Rate_Code\\&quot;:1648,\\&quot;store_and_forward\\&quot;:1648,\\&quot;End_Lon\\&quot;:0,\\&quot;End_Lat\\&quot;:0,\\&quot;Payment_Type\\&quot;:0,\\&quot;Fare_Amt\\&quot;:0,\\&quot;surcharge\\&quot;:0,\\&quot;mta_tax\\&quot;:1648,\\&quot;Tip_Amt\\&quot;:0,\\&quot;Tolls_Amt\\&quot;:0,\\&quot;Total_Amt\\&quot;:0}}&quot;,&quot;tags&quot;:{&quot;INSERTION_TIME&quot;:&quot;1705326548000004&quot;,&quot;OPTIMIZE_TARGET_SIZE&quot;:&quot;268435456&quot;}}}\n",
       "{&quot;add&quot;:{&quot;path&quot;:&quot;vendor_name=VTS/part-00001-08bb90d7-fe03-4f5b-a0a1-d6ed9cd38dc9.c000.snappy.parquet&quot;,&quot;partitionValues&quot;:{&quot;vendor_name&quot;:&quot;VTS&quot;},&quot;size&quot;:672939,&quot;modificationTime&quot;:1705326549000,&quot;dataChange&quot;:true,&quot;stats&quot;:&quot;{\\&quot;numRecords\\&quot;:13775,\\&quot;minValues\\&quot;:{\\&quot;Trip_Pickup_DateTime\\&quot;:\\&quot;2009-01-01T10:16:00.000Z\\&quot;,\\&quot;Trip_Dropoff_DateTime\\&quot;:\\&quot;2009-01-01T10:34:00.000Z\\&quot;,\\&quot;Passenger_Count\\&quot;:1,\\&quot;Trip_Distance\\&quot;:0.0,\\&quot;Start_Lon\\&quot;:-75.159542,\\&quot;Start_Lat\\&quot;:0.0,\\&quot;End_Lon\\&quot;:-75.137305,\\&quot;End_Lat\\&quot;:0.0,\\&quot;Payment_Type\\&quot;:\\&quot;CASH\\&quot;,\\&quot;Fare_Amt\\&quot;:2.5,\\&quot;surcharge\\&quot;:0.0,\\&quot;Tip_Amt\\&quot;:0.0,\\&quot;Tolls_Amt\\&quot;:0.0,\\&quot;Total_Amt\\&quot;:2.5},\\&quot;maxValues\\&quot;:{\\&quot;Trip_Pickup_DateTime\\&quot;:\\&quot;2009-01-31T23:57:00.000Z\\&quot;,\\&quot;Trip_Dropoff_DateTime\\&quot;:\\&quot;2009-02-01T00:15:00.000Z\\&quot;,\\&quot;Passenger_Count\\&quot;:6,\\&quot;Trip_Distance\\&quot;:38.17,\\&quot;Start_Lon\\&quot;:0.0,\\&quot;Start_Lat\\&quot;:41.048937,\\&quot;End_Lon\\&quot;:0.0,\\&quot;End_Lat\\&quot;:41.138012,\\&quot;Payment_Type\\&quot;:\\&quot;Credit\\&quot;,\\&quot;Fare_Amt\\&quot;:170.0,\\&quot;surcharge\\&quot;:1.0,\\&quot;Tip_Amt\\&quot;:20.0,\\&quot;Tolls_Amt\\&quot;:12.5,\\&quot;Total_Amt\\&quot;:185.0},\\&quot;nullCount\\&quot;:{\\&quot;Trip_Pickup_DateTime\\&quot;:0,\\&quot;Trip_Dropoff_DateTime\\&quot;:0,\\&quot;Passenger_Count\\&quot;:0,\\&quot;Trip_Distance\\&quot;:0,\\&quot;Start_Lon\\&quot;:0,\\&quot;Start_Lat\\&quot;:0,\\&quot;Rate_Code\\&quot;:13775,\\&quot;store_and_forward\\&quot;:13775,\\&quot;End_Lon\\&quot;:0,\\&quot;End_Lat\\&quot;:0,\\&quot;Payment_Type\\&quot;:0,\\&quot;Fare_Amt\\&quot;:0,\\&quot;surcharge\\&quot;:0,\\&quot;mta_tax\\&quot;:13775,\\&quot;Tip_Amt\\&quot;:0,\\&quot;Tolls_Amt\\&quot;:0,\\&quot;Total_Amt\\&quot;:0}}&quot;,&quot;tags&quot;:{&quot;INSERTION_TIME&quot;:&quot;1705326548000005&quot;,&quot;OPTIMIZE_TARGET_SIZE&quot;:&quot;268435456&quot;}}}\n",
       "{&quot;add&quot;:{&quot;path&quot;:&quot;vendor_name=CMT/part-00002-80cae795-43ca-4c85-83c5-f743dcd304e6.c000.snappy.parquet&quot;,&quot;partitionValues&quot;:{&quot;vendor_name&quot;:&quot;CMT&quot;},&quot;size&quot;:654268,&quot;modificationTime&quot;:1705326548000,&quot;dataChange&quot;:true,&quot;stats&quot;:&quot;{\\&quot;numRecords\\&quot;:12711,\\&quot;minValues\\&quot;:{\\&quot;Trip_Pickup_DateTime\\&quot;:\\&quot;2009-01-01T00:09:26.000Z\\&quot;,\\&quot;Trip_Dropoff_DateTime\\&quot;:\\&quot;2009-01-01T00:17:30.000Z\\&quot;,\\&quot;Passenger_Count\\&quot;:1,\\&quot;Trip_Distance\\&quot;:0.0,\\&quot;Start_Lon\\&quot;:-94.101733,\\&quot;Start_Lat\\&quot;:0.0,\\&quot;store_and_forward\\&quot;:0,\\&quot;End_Lon\\&quot;:-94.201854,\\&quot;End_Lat\\&quot;:0.0,\\&quot;Payment_Type\\&quot;:\\&quot;Cash\\&quot;,\\&quot;Fare_Amt\\&quot;:2.5,\\&quot;surcharge\\&quot;:0.0,\\&quot;Tip_Amt\\&quot;:0.0,\\&quot;Tolls_Amt\\&quot;:0.0,\\&quot;Total_Amt\\&quot;:2.5},\\&quot;maxValues\\&quot;:{\\&quot;Trip_Pickup_DateTime\\&quot;:\\&quot;2009-01-31T23:59:38.000Z\\&quot;,\\&quot;Trip_Dropoff_DateTime\\&quot;:\\&quot;2009-02-01T00:12:32.000Z\\&quot;,\\&quot;Passenger_Count\\&quot;:5,\\&quot;Trip_Distance\\&quot;:28.9,\\&quot;Start_Lon\\&quot;:0.0,\\&quot;Start_Lat\\&quot;:45.051814,\\&quot;store_and_forward\\&quot;:0,\\&quot;End_Lon\\&quot;:0.0,\\&quot;End_Lat\\&quot;:45.051479,\\&quot;Payment_Type\\&quot;:\\&quot;No Charge\\&quot;,\\&quot;Fare_Amt\\&quot;:100.0,\\&quot;surcharge\\&quot;:0.0,\\&quot;Tip_Amt\\&quot;:32.0,\\&quot;Tolls_Amt\\&quot;:12.45,\\&quot;Total_Amt\\&quot;:100.0},\\&quot;nullCount\\&quot;:{\\&quot;Trip_Pickup_DateTime\\&quot;:0,\\&quot;Trip_Dropoff_DateTime\\&quot;:0,\\&quot;Passenger_Count\\&quot;:0,\\&quot;Trip_Distance\\&quot;:0,\\&quot;Start_Lon\\&quot;:0,\\&quot;Start_Lat\\&quot;:0,\\&quot;Rate_Code\\&quot;:12711,\\&quot;store_and_forward\\&quot;:12707,\\&quot;End_Lon\\&quot;:0,\\&quot;End_Lat\\&quot;:0,\\&quot;Payment_Type\\&quot;:0,\\&quot;Fare_Amt\\&quot;:0,\\&quot;surcharge\\&quot;:0,\\&quot;mta_tax\\&quot;:12711,\\&quot;Tip_Amt\\&quot;:0,\\&quot;Tolls_Amt\\&quot;:0,\\&quot;Total_Amt\\&quot;:0}}&quot;,&quot;tags&quot;:{&quot;INSERTION_TIME&quot;:&quot;1705326548000006&quot;,&quot;OPTIMIZE_TARGET_SIZE&quot;:&quot;268435456&quot;}}}\n",
       "{&quot;add&quot;:{&quot;path&quot;:&quot;vendor_name=DDS/part-00002-4eaa573c-5b8d-43c4-8594-ac2e40e9e51f.c000.snappy.parquet&quot;,&quot;partitionValues&quot;:{&quot;vendor_name&quot;:&quot;DDS&quot;},&quot;size&quot;:95388,&quot;modificationTime&quot;:1705326548000,&quot;dataChange&quot;:true,&quot;stats&quot;:&quot;{\\&quot;numRecords\\&quot;:1762,\\&quot;minValues\\&quot;:{\\&quot;Trip_Pickup_DateTime\\&quot;:\\&quot;2009-01-01T00:14:24.000Z\\&quot;,\\&quot;Trip_Dropoff_DateTime\\&quot;:\\&quot;2009-01-01T00:25:55.000Z\\&quot;,\\&quot;Passenger_Count\\&quot;:0,\\&quot;Trip_Distance\\&quot;:0.0,\\&quot;Start_Lon\\&quot;:-74.19848,\\&quot;Start_Lat\\&quot;:40.621799,\\&quot;End_Lon\\&quot;:-74.19848,\\&quot;End_Lat\\&quot;:40.581169,\\&quot;Payment_Type\\&quot;:\\&quot;CASH\\&quot;,\\&quot;Fare_Amt\\&quot;:2.5,\\&quot;surcharge\\&quot;:0.0,\\&quot;Tip_Amt\\&quot;:0.0,\\&quot;Tolls_Amt\\&quot;:0.0,\\&quot;Total_Amt\\&quot;:2.5},\\&quot;maxValues\\&quot;:{\\&quot;Trip_Pickup_DateTime\\&quot;:\\&quot;2009-01-31T23:46:03.000Z\\&quot;,\\&quot;Trip_Dropoff_DateTime\\&quot;:\\&quot;2009-02-01T00:02:38.000Z\\&quot;,\\&quot;Passenger_Count\\&quot;:5,\\&quot;Trip_Distance\\&quot;:23.0,\\&quot;Start_Lon\\&quot;:-73.137393,\\&quot;Start_Lat\\&quot;:41.366138,\\&quot;End_Lon\\&quot;:-73.137393,\\&quot;End_Lat\\&quot;:41.366138,\\&quot;Payment_Type\\&quot;:\\&quot;CREDIT\\&quot;,\\&quot;Fare_Amt\\&quot;:116.1,\\&quot;surcharge\\&quot;:1.0,\\&quot;Tip_Amt\\&quot;:11.45,\\&quot;Tolls_Amt\\&quot;:10.0,\\&quot;Total_Amt\\&quot;:116.1},\\&quot;nullCount\\&quot;:{\\&quot;Trip_Pickup_DateTime\\&quot;:0,\\&quot;Trip_Dropoff_DateTime\\&quot;:0,\\&quot;Passenger_Count\\&quot;:0,\\&quot;Trip_Distance\\&quot;:0,\\&quot;Start_Lon\\&quot;:0,\\&quot;Start_Lat\\&quot;:0,\\&quot;Rate_Code\\&quot;:1762,\\&quot;store_and_forward\\&quot;:1762,\\&quot;End_Lon\\&quot;:0,\\&quot;End_Lat\\&quot;:0,\\&quot;Payment_Type\\&quot;:0,\\&quot;Fare_Amt\\&quot;:0,\\&quot;surcharge\\&quot;:0,\\&quot;mta_tax\\&quot;:1762,\\&quot;Tip_Amt\\&quot;:0,\\&quot;Tolls_Amt\\&quot;:0,\\&quot;Total_Amt\\&quot;:0}}&quot;,&quot;tags&quot;:{&quot;INSERTION_TIME&quot;:&quot;1705326548000007&quot;,&quot;OPTIMIZE_TARGET_SIZE&quot;:&quot;268435456&quot;}}}\n",
       "{&quot;add&quot;:{&quot;path&quot;:&quot;vendor_name=VTS/part-00002-5829bf93-c83e-4a78-8c30-de428b354b24.c000.snappy.parquet&quot;,&quot;partitionValues&quot;:{&quot;vendor_name&quot;:&quot;VTS&quot;},&quot;size&quot;:697129,&quot;modificationTime&quot;:1705326549000,&quot;dataChange&quot;:true,&quot;stats&quot;:&quot;{\\&quot;numRecords\\&quot;:13712,\\&quot;minValues\\&quot;:{\\&quot;Trip_Pickup_DateTime\\&quot;:\\&quot;2009-01-01T09:58:00.000Z\\&quot;,\\&quot;Trip_Dropoff_DateTime\\&quot;:\\&quot;2009-01-01T10:01:00.000Z\\&quot;,\\&quot;Passenger_Count\\&quot;:1,\\&quot;Trip_Distance\\&quot;:0.0,\\&quot;Start_Lon\\&quot;:-76.116608,\\&quot;Start_Lat\\&quot;:0.0,\\&quot;End_Lon\\&quot;:-76.107017,\\&quot;End_Lat\\&quot;:0.0,\\&quot;Payment_Type\\&quot;:\\&quot;CASH\\&quot;,\\&quot;Fare_Amt\\&quot;:2.5,\\&quot;surcharge\\&quot;:0.0,\\&quot;Tip_Amt\\&quot;:0.0,\\&quot;Tolls_Amt\\&quot;:0.0,\\&quot;Total_Amt\\&quot;:2.5},\\&quot;maxValues\\&quot;:{\\&quot;Trip_Pickup_DateTime\\&quot;:\\&quot;2009-01-31T23:55:00.000Z\\&quot;,\\&quot;Trip_Dropoff_DateTime\\&quot;:\\&quot;2009-02-01T00:10:00.000Z\\&quot;,\\&quot;Passenger_Count\\&quot;:6,\\&quot;Trip_Distance\\&quot;:42.21,\\&quot;Start_Lon\\&quot;:0.0,\\&quot;Start_Lat\\&quot;:41.252758,\\&quot;End_Lon\\&quot;:0.0,\\&quot;End_Lat\\&quot;:41.019863,\\&quot;Payment_Type\\&quot;:\\&quot;Credit\\&quot;,\\&quot;Fare_Amt\\&quot;:140.1,\\&quot;surcharge\\&quot;:1.0,\\&quot;Tip_Amt\\&quot;:30.0,\\&quot;Tolls_Amt\\&quot;:13.0,\\&quot;Total_Amt\\&quot;:140.1},\\&quot;nullCount\\&quot;:{\\&quot;Trip_Pickup_DateTime\\&quot;:0,\\&quot;Trip_Dropoff_DateTime\\&quot;:0,\\&quot;Passenger_Count\\&quot;:0,\\&quot;Trip_Distance\\&quot;:0,\\&quot;Start_Lon\\&quot;:0,\\&quot;Start_Lat\\&quot;:0,\\&quot;Rate_Code\\&quot;:13712,\\&quot;store_and_forward\\&quot;:13712,\\&quot;End_Lon\\&quot;:0,\\&quot;End_Lat\\&quot;:0,\\&quot;Payment_Type\\&quot;:0,\\&quot;Fare_Amt\\&quot;:0,\\&quot;surcharge\\&quot;:0,\\&quot;mta_tax\\&quot;:13712,\\&quot;Tip_Amt\\&quot;:0,\\&quot;Tolls_Amt\\&quot;:0,\\&quot;Total_Amt\\&quot;:0}}&quot;,&quot;tags&quot;:{&quot;INSERTION_TIME&quot;:&quot;1705326548000008&quot;,&quot;OPTIMIZE_TARGET_SIZE&quot;:&quot;268435456&quot;}}}\n",
       "{&quot;add&quot;:{&quot;path&quot;:&quot;vendor_name=CMT/part-00003-601a0c92-8f47-4641-ab27-22c1ecaef033.c000.snappy.parquet&quot;,&quot;partitionValues&quot;:{&quot;vendor_name&quot;:&quot;CMT&quot;},&quot;size&quot;:652391,&quot;modificationTime&quot;:1705326548000,&quot;dataChange&quot;:true,&quot;stats&quot;:&quot;{\\&quot;numRecords\\&quot;:12741,\\&quot;minValues\\&quot;:{\\&quot;Trip_Pickup_DateTime\\&quot;:\\&quot;2009-01-01T00:05:46.000Z\\&quot;,\\&quot;Trip_Dropoff_DateTime\\&quot;:\\&quot;2009-01-01T00:14:30.000Z\\&quot;,\\&quot;Passenger_Count\\&quot;:1,\\&quot;Trip_Distance\\&quot;:0.0,\\&quot;Start_Lon\\&quot;:-74.182533,\\&quot;Start_Lat\\&quot;:0.0,\\&quot;store_and_forward\\&quot;:0,\\&quot;End_Lon\\&quot;:-74.288917,\\&quot;End_Lat\\&quot;:0.0,\\&quot;Payment_Type\\&quot;:\\&quot;Cash\\&quot;,\\&quot;Fare_Amt\\&quot;:2.5,\\&quot;surcharge\\&quot;:0.0,\\&quot;Tip_Amt\\&quot;:0.0,\\&quot;Tolls_Amt\\&quot;:0.0,\\&quot;Total_Amt\\&quot;:2.5},\\&quot;maxValues\\&quot;:{\\&quot;Trip_Pickup_DateTime\\&quot;:\\&quot;2009-01-31T23:57:49.000Z\\&quot;,\\&quot;Trip_Dropoff_DateTime\\&quot;:\\&quot;2009-02-01T00:10:16.000Z\\&quot;,\\&quot;Passenger_Count\\&quot;:5,\\&quot;Trip_Distance\\&quot;:28.1,\\&quot;Start_Lon\\&quot;:0.0,\\&quot;Start_Lat\\&quot;:41.137919,\\&quot;store_and_forward\\&quot;:0,\\&quot;End_Lon\\&quot;:0.0,\\&quot;End_Lat\\&quot;:41.138161,\\&quot;Payment_Type\\&quot;:\\&quot;No Charge\\&quot;,\\&quot;Fare_Amt\\&quot;:150.0,\\&quot;surcharge\\&quot;:0.0,\\&quot;Tip_Amt\\&quot;:35.0,\\&quot;Tolls_Amt\\&quot;:12.45,\\&quot;Total_Amt\\&quot;:150.0},\\&quot;nullCount\\&quot;:{\\&quot;Trip_Pickup_DateTime\\&quot;:0,\\&quot;Trip_Dropoff_DateTime\\&quot;:0,\\&quot;Passenger_Count\\&quot;:0,\\&quot;Trip_Distance\\&quot;:0,\\&quot;Start_Lon\\&quot;:0,\\&quot;Start_Lat\\&quot;:0,\\&quot;Rate_Code\\&quot;:12741,\\&quot;store_and_forward\\&quot;:12737,\\&quot;End_Lon\\&quot;:0,\\&quot;End_Lat\\&quot;:0,\\&quot;Payment_Type\\&quot;:0,\\&quot;Fare_Amt\\&quot;:0,\\&quot;surcharge\\&quot;:0,\\&quot;mta_tax\\&quot;:12741,\\&quot;Tip_Amt\\&quot;:0,\\&quot;Tolls_Amt\\&quot;:0,\\&quot;Total_Amt\\&quot;:0}}&quot;,&quot;tags&quot;:{&quot;INSERTION_TIME&quot;:&quot;1705326548000009&quot;,&quot;OPTIMIZE_TARGET_SIZE&quot;:&quot;268435456&quot;}}}\n",
       "{&quot;add&quot;:{&quot;path&quot;:&quot;vendor_name=DDS/part-00003-981da864-7f9e-4ed3-87c2-6859e9245c2e.c000.snappy.parquet&quot;,&quot;partitionValues&quot;:{&quot;vendor_name&quot;:&quot;DDS&quot;},&quot;size&quot;:93206,&quot;modificationTime&quot;:1705326549000,&quot;dataChange&quot;:true,&quot;stats&quot;:&quot;{\\&quot;numRecords\\&quot;:1714,\\&quot;minValues\\&quot;:{\\&quot;Trip_Pickup_DateTime\\&quot;:\\&quot;2009-01-01T00:04:41.000Z\\&quot;,\\&quot;Trip_Dropoff_DateTime\\&quot;:\\&quot;2009-01-01T00:21:08.000Z\\&quot;,\\&quot;Passenger_Count\\&quot;:0,\\&quot;Trip_Distance\\&quot;:0.0,\\&quot;Start_Lon\\&quot;:-74.196277,\\&quot;Start_Lat\\&quot;:40.641423,\\&quot;End_Lon\\&quot;:-74.196277,\\&quot;End_Lat\\&quot;:40.602641,\\&quot;Payment_Type\\&quot;:\\&quot;CASH\\&quot;,\\&quot;Fare_Amt\\&quot;:2.5,\\&quot;surcharge\\&quot;:0.0,\\&quot;Tip_Amt\\&quot;:0.0,\\&quot;Tolls_Amt\\&quot;:0.0,\\&quot;Total_Amt\\&quot;:2.5},\\&quot;maxValues\\&quot;:{\\&quot;Trip_Pickup_DateTime\\&quot;:\\&quot;2009-01-31T23:54:56.000Z\\&quot;,\\&quot;Trip_Dropoff_DateTime\\&quot;:\\&quot;2009-02-01T00:15:05.000Z\\&quot;,\\&quot;Passenger_Count\\&quot;:4,\\&quot;Trip_Distance\\&quot;:23.1,\\&quot;Start_Lon\\&quot;:-73.137393,\\&quot;Start_Lat\\&quot;:41.366138,\\&quot;End_Lon\\&quot;:-73.137393,\\&quot;End_Lat\\&quot;:41.366138,\\&quot;Payment_Type\\&quot;:\\&quot;CREDIT\\&quot;,\\&quot;Fare_Amt\\&quot;:63.1,\\&quot;surcharge\\&quot;:1.0,\\&quot;Tip_Amt\\&quot;:11.25,\\&quot;Tolls_Amt\\&quot;:11.75,\\&quot;Total_Amt\\&quot;:74.85},\\&quot;nullCount\\&quot;:{\\&quot;Trip_Pickup_DateTime\\&quot;:0,\\&quot;Trip_Dropoff_DateTime\\&quot;:0,\\&quot;Passenger_Count\\&quot;:0,\\&quot;Trip_Distance\\&quot;:0,\\&quot;Start_Lon\\&quot;:0,\\&quot;Start_Lat\\&quot;:0,\\&quot;Rate_Code\\&quot;:1714,\\&quot;store_and_forward\\&quot;:1714,\\&quot;End_Lon\\&quot;:0,\\&quot;End_Lat\\&quot;:0,\\&quot;Payment_Type\\&quot;:0,\\&quot;Fare_Amt\\&quot;:0,\\&quot;surcharge\\&quot;:0,\\&quot;mta_tax\\&quot;:1714,\\&quot;Tip_Amt\\&quot;:0,\\&quot;Tolls_Amt\\&quot;:0,\\&quot;Total_Amt\\&quot;:0}}&quot;,&quot;tags&quot;:{&quot;INSERTION_TIME&quot;:&quot;1705326548000010&quot;,&quot;OPTIMIZE_TARGET_SIZE&quot;:&quot;268435456&quot;}}}\n",
       "{&quot;add&quot;:{&quot;path&quot;:&quot;vendor_name=VTS/part-00003-5f1f3346-f873-49ce-834b-aa4b332c2104.c000.snappy.parquet&quot;,&quot;partitionValues&quot;:{&quot;vendor_name&quot;:&quot;VTS&quot;},&quot;size&quot;:677418,&quot;modificationTime&quot;:1705326549000,&quot;dataChange&quot;:true,&quot;stats&quot;:&quot;{\\&quot;numRecords\\&quot;:13730,\\&quot;minValues\\&quot;:{\\&quot;Trip_Pickup_DateTime\\&quot;:\\&quot;2009-01-01T09:59:00.000Z\\&quot;,\\&quot;Trip_Dropoff_DateTime\\&quot;:\\&quot;2009-01-01T10:05:00.000Z\\&quot;,\\&quot;Passenger_Count\\&quot;:1,\\&quot;Trip_Distance\\&quot;:0.0,\\&quot;Start_Lon\\&quot;:-75.031815,\\&quot;Start_Lat\\&quot;:0.0,\\&quot;End_Lon\\&quot;:-75.07446,\\&quot;End_Lat\\&quot;:0.0,\\&quot;Payment_Type\\&quot;:\\&quot;CASH\\&quot;,\\&quot;Fare_Amt\\&quot;:2.5,\\&quot;surcharge\\&quot;:0.0,\\&quot;Tip_Amt\\&quot;:0.0,\\&quot;Tolls_Amt\\&quot;:0.0,\\&quot;Total_Amt\\&quot;:2.5},\\&quot;maxValues\\&quot;:{\\&quot;Trip_Pickup_DateTime\\&quot;:\\&quot;2009-01-31T23:59:00.000Z\\&quot;,\\&quot;Trip_Dropoff_DateTime\\&quot;:\\&quot;2009-02-01T00:24:00.000Z\\&quot;,\\&quot;Passenger_Count\\&quot;:6,\\&quot;Trip_Distance\\&quot;:28.81,\\&quot;Start_Lon\\&quot;:0.0,\\&quot;Start_Lat\\&quot;:41.44755,\\&quot;End_Lon\\&quot;:0.0,\\&quot;End_Lat\\&quot;:41.463425,\\&quot;Payment_Type\\&quot;:\\&quot;Credit\\&quot;,\\&quot;Fare_Amt\\&quot;:200.0,\\&quot;surcharge\\&quot;:1.0,\\&quot;Tip_Amt\\&quot;:50.0,\\&quot;Tolls_Amt\\&quot;:16.0,\\&quot;Total_Amt\\&quot;:200.0},\\&quot;nullCount\\&quot;:{\\&quot;Trip_Pickup_DateTime\\&quot;:0,\\&quot;Trip_Dropoff_DateTime\\&quot;:0,\\&quot;Passenger_Count\\&quot;:0,\\&quot;Trip_Distance\\&quot;:0,\\&quot;Start_Lon\\&quot;:0,\\&quot;Start_Lat\\&quot;:0,\\&quot;Rate_Code\\&quot;:13730,\\&quot;store_and_forward\\&quot;:13730,\\&quot;End_Lon\\&quot;:0,\\&quot;End_Lat\\&quot;:0,\\&quot;Payment_Type\\&quot;:0,\\&quot;Fare_Amt\\&quot;:0,\\&quot;surcharge\\&quot;:0,\\&quot;mta_tax\\&quot;:13730,\\&quot;Tip_Amt\\&quot;:0,\\&quot;Tolls_Amt\\&quot;:0,\\&quot;Total_Amt\\&quot;:0}}&quot;,&quot;tags&quot;:{&quot;INSERTION_TIME&quot;:&quot;1705326548000011&quot;,&quot;OPTIMIZE_TARGET_SIZE&quot;:&quot;268435456&quot;}}}\n",
       "{&quot;add&quot;:{&quot;path&quot;:&quot;vendor_name=CMT/part-00004-0bdd8fa3-dcae-4a6d-aa5a-17aa9a6eb331.c000.snappy.parquet&quot;,&quot;partitionValues&quot;:{&quot;vendor_name&quot;:&quot;CMT&quot;},&quot;size&quot;:667548,&quot;modificationTime&quot;:1705326551000,&quot;dataChange&quot;:true,&quot;stats&quot;:&quot;{\\&quot;numRecords\\&quot;:12872,\\&quot;minValues\\&quot;:{\\&quot;Trip_Pickup_DateTime\\&quot;:\\&quot;2009-01-01T00:07:28.000Z\\&quot;,\\&quot;Trip_Dropoff_DateTime\\&quot;:\\&quot;2009-01-01T00:13:03.000Z\\&quot;,\\&quot;Passenger_Count\\&quot;:1,\\&quot;Trip_Distance\\&quot;:0.0,\\&quot;Start_Lon\\&quot;:-77.439452,\\&quot;Start_Lat\\&quot;:0.0,\\&quot;store_and_forward\\&quot;:0,\\&quot;End_Lon\\&quot;:-74.748006,\\&quot;End_Lat\\&quot;:0.0,\\&quot;Payment_Type\\&quot;:\\&quot;Cash\\&quot;,\\&quot;Fare_Amt\\&quot;:2.5,\\&quot;surcharge\\&quot;:0.0,\\&quot;Tip_Amt\\&quot;:0.0,\\&quot;Tolls_Amt\\&quot;:0.0,\\&quot;Total_Amt\\&quot;:2.5},\\&quot;maxValues\\&quot;:{\\&quot;Trip_Pickup_DateTime\\&quot;:\\&quot;2009-01-31T23:59:11.000Z\\&quot;,\\&quot;Trip_Dropoff_DateTime\\&quot;:\\&quot;2009-02-01T00:27:50.000Z\\&quot;,\\&quot;Passenger_Count\\&quot;:5,\\&quot;Trip_Distance\\&quot;:37.4,\\&quot;Start_Lon\\&quot;:0.0,\\&quot;Start_Lat\\&quot;:45.064598,\\&quot;store_and_forward\\&quot;:0,\\&quot;End_Lon\\&quot;:0.0,\\&quot;End_Lat\\&quot;:45.06445,\\&quot;Payment_Type\\&quot;:\\&quot;No Charge\\&quot;,\\&quot;Fare_Amt\\&quot;:85.0,\\&quot;surcharge\\&quot;:0.0,\\&quot;Tip_Amt\\&quot;:24.1,\\&quot;Tolls_Amt\\&quot;:15.0,\\&quot;Total_Amt\\&quot;:102.0},\\&quot;nullCount\\&quot;:{\\&quot;Trip_Pickup_DateTime\\&quot;:0,\\&quot;Trip_Dropoff_DateTime\\&quot;:0,\\&quot;Passenger_Count\\&quot;:0,\\&quot;Trip_Distance\\&quot;:0,\\&quot;Start_Lon\\&quot;:0,\\&quot;Start_Lat\\&quot;:0,\\&quot;Rate_Code\\&quot;:12872,\\&quot;store_and_forward\\&quot;:12868,\\&quot;End_Lon\\&quot;:0,\\&quot;End_Lat\\&quot;:0,\\&quot;Payment_Type\\&quot;:0,\\&quot;Fare_Amt\\&quot;:0,\\&quot;surcharge\\&quot;:0,\\&quot;mta_tax\\&quot;:12872,\\&quot;Tip_Amt\\&quot;:0,\\&quot;Tolls_Amt\\&quot;:0,\\&quot;Total_Amt\\&quot;:0}}&quot;,&quot;tags&quot;:{&quot;INSERTION_TIME&quot;:&quot;1705326548000012&quot;,&quot;OPTIMIZE_TARGET_SIZE&quot;:&quot;268435456&quot;}}}\n",
       "{&quot;add&quot;:{&quot;path&quot;:&quot;vendor_name=DDS/part-00004-bf14f4dd-5341-4b12-983d-34ca51240ed8.c000.snappy.parquet&quot;,&quot;partitionValues&quot;:{&quot;vendor_name&quot;:&quot;DDS&quot;},&quot;size&quot;:90597,&quot;modificationTime&quot;:1705326551000,&quot;dataChange&quot;:true,&quot;stats&quot;:&quot;{\\&quot;numRecords\\&quot;:1661,\\&quot;minValues\\&quot;:{\\&quot;Trip_Pickup_DateTime\\&quot;:\\&quot;2009-01-01T01:29:31.000Z\\&quot;,\\&quot;Trip_Dropoff_DateTime\\&quot;:\\&quot;2009-01-01T01:43:29.000Z\\&quot;,\\&quot;Passenger_Count\\&quot;:0,\\&quot;Trip_Distance\\&quot;:0.0,\\&quot;Start_Lon\\&quot;:-74.557719,\\&quot;Start_Lat\\&quot;:40.301874,\\&quot;End_Lon\\&quot;:-74.177184,\\&quot;End_Lat\\&quot;:40.577474,\\&quot;Payment_Type\\&quot;:\\&quot;CASH\\&quot;,\\&quot;Fare_Amt\\&quot;:2.5,\\&quot;surcharge\\&quot;:0.0,\\&quot;Tip_Amt\\&quot;:0.0,\\&quot;Tolls_Amt\\&quot;:0.0,\\&quot;Total_Amt\\&quot;:2.5},\\&quot;maxValues\\&quot;:{\\&quot;Trip_Pickup_DateTime\\&quot;:\\&quot;2009-01-31T23:33:26.000Z\\&quot;,\\&quot;Trip_Dropoff_DateTime\\&quot;:\\&quot;2009-01-31T23:50:35.000Z\\&quot;,\\&quot;Passenger_Count\\&quot;:6,\\&quot;Trip_Distance\\&quot;:42.8,\\&quot;Start_Lon\\&quot;:-73.137393,\\&quot;Start_Lat\\&quot;:41.366138,\\&quot;End_Lon\\&quot;:-73.137393,\\&quot;End_Lat\\&quot;:41.366138,\\&quot;Payment_Type\\&quot;:\\&quot;CREDIT\\&quot;,\\&quot;Fare_Amt\\&quot;:53.5,\\&quot;surcharge\\&quot;:1.0,\\&quot;Tip_Amt\\&quot;:11.25,\\&quot;Tolls_Amt\\&quot;:8.3,\\&quot;Total_Amt\\&quot;:72.2},\\&quot;nullCount\\&quot;:{\\&quot;Trip_Pickup_DateTime\\&quot;:0,\\&quot;Trip_Dropoff_DateTime\\&quot;:0,\\&quot;Passenger_Count\\&quot;:0,\\&quot;Trip_Distance\\&quot;:0,\\&quot;Start_Lon\\&quot;:0,\\&quot;Start_Lat\\&quot;:0,\\&quot;Rate_Code\\&quot;:1661,\\&quot;store_and_forward\\&quot;:1661,\\&quot;End_Lon\\&quot;:0,\\&quot;End_Lat\\&quot;:0,\\&quot;Payment_Type\\&quot;:0,\\&quot;Fare_Amt\\&quot;:0,\\&quot;surcharge\\&quot;:0,\\&quot;mta_tax\\&quot;:1661,\\&quot;Tip_Amt\\&quot;:0,\\&quot;Tolls_Amt\\&quot;:0,\\&quot;Total_Amt\\&quot;:0}}&quot;,&quot;tags&quot;:{&quot;INSERTION_TIME&quot;:&quot;1705326548000013&quot;,&quot;OPTIMIZE_TARGET_SIZE&quot;:&quot;268435456&quot;}}}\n",
       "{&quot;add&quot;:{&quot;path&quot;:&quot;vendor_name=VTS/part-00004-fdbca0f8-83f0-4be9-adc5-cad115810313.c000.snappy.parquet&quot;,&quot;partitionValues&quot;:{&quot;vendor_name&quot;:&quot;VTS&quot;},&quot;size&quot;:684311,&quot;modificationTime&quot;:1705326552000,&quot;dataChange&quot;:true,&quot;stats&quot;:&quot;{\\&quot;numRecords\\&quot;:13652,\\&quot;minValues\\&quot;:{\\&quot;Trip_Pickup_DateTime\\&quot;:\\&quot;2009-01-01T10:07:00.000Z\\&quot;,\\&quot;Trip_Dropoff_DateTime\\&quot;:\\&quot;2009-01-01T10:15:00.000Z\\&quot;,\\&quot;Passenger_Count\\&quot;:1,\\&quot;Trip_Distance\\&quot;:0.0,\\&quot;Start_Lon\\&quot;:-75.102673,\\&quot;Start_Lat\\&quot;:0.0,\\&quot;End_Lon\\&quot;:-75.085738,\\&quot;End_Lat\\&quot;:0.0,\\&quot;Payment_Type\\&quot;:\\&quot;CASH\\&quot;,\\&quot;Fare_Amt\\&quot;:2.5,\\&quot;surcharge\\&quot;:0.0,\\&quot;Tip_Amt\\&quot;:0.0,\\&quot;Tolls_Amt\\&quot;:0.0,\\&quot;Total_Amt\\&quot;:2.5},\\&quot;maxValues\\&quot;:{\\&quot;Trip_Pickup_DateTime\\&quot;:\\&quot;2009-01-31T23:59:00.000Z\\&quot;,\\&quot;Trip_Dropoff_DateTime\\&quot;:\\&quot;2009-02-01T05:10:00.000Z\\&quot;,\\&quot;Passenger_Count\\&quot;:6,\\&quot;Trip_Distance\\&quot;:28.21,\\&quot;Start_Lon\\&quot;:0.0,\\&quot;Start_Lat\\&quot;:42.07957,\\&quot;End_Lon\\&quot;:0.0,\\&quot;End_Lat\\&quot;:42.08057,\\&quot;Payment_Type\\&quot;:\\&quot;Credit\\&quot;,\\&quot;Fare_Amt\\&quot;:150.0,\\&quot;surcharge\\&quot;:1.0,\\&quot;Tip_Amt\\&quot;:57.0,\\&quot;Tolls_Amt\\&quot;:12.45,\\&quot;Total_Amt\\&quot;:165.0},\\&quot;nullCount\\&quot;:{\\&quot;Trip_Pickup_DateTime\\&quot;:0,\\&quot;Trip_Dropoff_DateTime\\&quot;:0,\\&quot;Passenger_Count\\&quot;:0,\\&quot;Trip_Distance\\&quot;:0,\\&quot;Start_Lon\\&quot;:0,\\&quot;Start_Lat\\&quot;:0,\\&quot;Rate_Code\\&quot;:13652,\\&quot;store_and_forward\\&quot;:13652,\\&quot;End_Lon\\&quot;:0,\\&quot;End_Lat\\&quot;:0,\\&quot;Payment_Type\\&quot;:0,\\&quot;Fare_Amt\\&quot;:0,\\&quot;surcharge\\&quot;:0,\\&quot;mta_tax\\&quot;:13652,\\&quot;Tip_Amt\\&quot;:0,\\&quot;Tolls_Amt\\&quot;:0,\\&quot;Total_Amt\\&quot;:0}}&quot;,&quot;tags&quot;:{&quot;INSERTION_TIME&quot;:&quot;1705326548000014&quot;,&quot;OPTIMIZE_TARGET_SIZE&quot;:&quot;268435456&quot;}}}\n",
       "{&quot;add&quot;:{&quot;path&quot;:&quot;vendor_name=CMT/part-00005-d6018e79-2c75-481d-ad3e-7e6ba150fef6.c000.snappy.parquet&quot;,&quot;partitionValues&quot;:{&quot;vendor_name&quot;:&quot;CMT&quot;},&quot;size&quot;:659253,&quot;modificationTime&quot;:1705326551000,&quot;dataChange&quot;:true,&quot;stats&quot;:&quot;{\\&quot;numRecords\\&quot;:12743,\\&quot;minValues\\&quot;:{\\&quot;Trip_Pickup_DateTime\\&quot;:\\&quot;2009-01-01T00:05:06.000Z\\&quot;,\\&quot;Trip_Dropoff_DateTime\\&quot;:\\&quot;2009-01-01T00:11:01.000Z\\&quot;,\\&quot;Passenger_Count\\&quot;:1,\\&quot;Trip_Distance\\&quot;:0.0,\\&quot;Start_Lon\\&quot;:-74.690401,\\&quot;Start_Lat\\&quot;:0.0,\\&quot;End_Lon\\&quot;:-74.690472,\\&quot;End_Lat\\&quot;:0.0,\\&quot;Payment_Type\\&quot;:\\&quot;Cash\\&quot;,\\&quot;Fare_Amt\\&quot;:2.5,\\&quot;surcharge\\&quot;:0.0,\\&quot;Tip_Amt\\&quot;:0.0,\\&quot;Tolls_Amt\\&quot;:0.0,\\&quot;Total_Amt\\&quot;:2.5},\\&quot;maxValues\\&quot;:{\\&quot;Trip_Pickup_DateTime\\&quot;:\\&quot;2009-01-31T23:58:56.000Z\\&quot;,\\&quot;Trip_Dropoff_DateTime\\&quot;:\\&quot;2009-02-01T00:27:01.000Z\\&quot;,\\&quot;Passenger_Count\\&quot;:5,\\&quot;Trip_Distance\\&quot;:41.5,\\&quot;Start_Lon\\&quot;:0.0,\\&quot;Start_Lat\\&quot;:45.035669,\\&quot;End_Lon\\&quot;:0.0,\\&quot;End_Lat\\&quot;:45.035608,\\&quot;Payment_Type\\&quot;:\\&quot;No Charge\\&quot;,\\&quot;Fare_Amt\\&quot;:185.0,\\&quot;surcharge\\&quot;:0.0,\\&quot;Tip_Amt\\&quot;:38.2,\\&quot;Tolls_Amt\\&quot;:13.0,\\&quot;Total_Amt\\&quot;:229.2},\\&quot;nullCount\\&quot;:{\\&quot;Trip_Pickup_DateTime\\&quot;:0,\\&quot;Trip_Dropoff_DateTime\\&quot;:0,\\&quot;Passenger_Count\\&quot;:0,\\&quot;Trip_Distance\\&quot;:0,\\&quot;Start_Lon\\&quot;:0,\\&quot;Start_Lat\\&quot;:0,\\&quot;Rate_Code\\&quot;:12743,\\&quot;store_and_forward\\&quot;:12743,\\&quot;End_Lon\\&quot;:0,\\&quot;End_Lat\\&quot;:0,\\&quot;Payment_Type\\&quot;:0,\\&quot;Fare_Amt\\&quot;:0,\\&quot;surcharge\\&quot;:0,\\&quot;mta_tax\\&quot;:12743,\\&quot;Tip_Amt\\&quot;:0,\\&quot;Tolls_Amt\\&quot;:0,\\&quot;Total_Amt\\&quot;:0}}&quot;,&quot;tags&quot;:{&quot;INSERTION_TIME&quot;:&quot;1705326548000015&quot;,&quot;OPTIMIZE_TARGET_SIZE&quot;:&quot;268435456&quot;}}}\n",
       "\n",
       "*** WARNING: skipped 16997 bytes of output ***\n",
       "\n",
       "{&quot;add&quot;:{&quot;path&quot;:&quot;vendor_name=DDS/part-00009-c5646a61-38c8-4546-a189-cd3ac2b67b58.c000.snappy.parquet&quot;,&quot;partitionValues&quot;:{&quot;vendor_name&quot;:&quot;DDS&quot;},&quot;size&quot;:94288,&quot;modificationTime&quot;:1705326552000,&quot;dataChange&quot;:true,&quot;stats&quot;:&quot;{\\&quot;numRecords\\&quot;:1739,\\&quot;minValues\\&quot;:{\\&quot;Trip_Pickup_DateTime\\&quot;:\\&quot;2009-01-01T00:21:21.000Z\\&quot;,\\&quot;Trip_Dropoff_DateTime\\&quot;:\\&quot;2009-01-01T00:24:25.000Z\\&quot;,\\&quot;Passenger_Count\\&quot;:0,\\&quot;Trip_Distance\\&quot;:0.0,\\&quot;Start_Lon\\&quot;:-74.518609,\\&quot;Start_Lat\\&quot;:40.639252,\\&quot;End_Lon\\&quot;:-74.518609,\\&quot;End_Lat\\&quot;:40.619861,\\&quot;Payment_Type\\&quot;:\\&quot;CASH\\&quot;,\\&quot;Fare_Amt\\&quot;:2.5,\\&quot;surcharge\\&quot;:0.0,\\&quot;Tip_Amt\\&quot;:0.0,\\&quot;Tolls_Amt\\&quot;:0.0,\\&quot;Total_Amt\\&quot;:2.5},\\&quot;maxValues\\&quot;:{\\&quot;Trip_Pickup_DateTime\\&quot;:\\&quot;2009-01-31T23:54:16.000Z\\&quot;,\\&quot;Trip_Dropoff_DateTime\\&quot;:\\&quot;2009-02-01T00:03:28.000Z\\&quot;,\\&quot;Passenger_Count\\&quot;:6,\\&quot;Trip_Distance\\&quot;:26.1,\\&quot;Start_Lon\\&quot;:-73.137393,\\&quot;Start_Lat\\&quot;:41.366138,\\&quot;End_Lon\\&quot;:-73.137393,\\&quot;End_Lat\\&quot;:41.366138,\\&quot;Payment_Type\\&quot;:\\&quot;CREDIT\\&quot;,\\&quot;Fare_Amt\\&quot;:75.0,\\&quot;surcharge\\&quot;:1.0,\\&quot;Tip_Amt\\&quot;:15.0,\\&quot;Tolls_Amt\\&quot;:8.3,\\&quot;Total_Amt\\&quot;:85.0},\\&quot;nullCount\\&quot;:{\\&quot;Trip_Pickup_DateTime\\&quot;:0,\\&quot;Trip_Dropoff_DateTime\\&quot;:0,\\&quot;Passenger_Count\\&quot;:0,\\&quot;Trip_Distance\\&quot;:0,\\&quot;Start_Lon\\&quot;:0,\\&quot;Start_Lat\\&quot;:0,\\&quot;Rate_Code\\&quot;:1739,\\&quot;store_and_forward\\&quot;:1739,\\&quot;End_Lon\\&quot;:0,\\&quot;End_Lat\\&quot;:0,\\&quot;Payment_Type\\&quot;:0,\\&quot;Fare_Amt\\&quot;:0,\\&quot;surcharge\\&quot;:0,\\&quot;mta_tax\\&quot;:1739,\\&quot;Tip_Amt\\&quot;:0,\\&quot;Tolls_Amt\\&quot;:0,\\&quot;Total_Amt\\&quot;:0}}&quot;,&quot;tags&quot;:{&quot;INSERTION_TIME&quot;:&quot;1705326548000028&quot;,&quot;OPTIMIZE_TARGET_SIZE&quot;:&quot;268435456&quot;}}}\n",
       "{&quot;add&quot;:{&quot;path&quot;:&quot;vendor_name=VTS/part-00009-2f5f60d0-d7c9-40b7-afa9-681ab2504ec2.c000.snappy.parquet&quot;,&quot;partitionValues&quot;:{&quot;vendor_name&quot;:&quot;VTS&quot;},&quot;size&quot;:665080,&quot;modificationTime&quot;:1705326552000,&quot;dataChange&quot;:true,&quot;stats&quot;:&quot;{\\&quot;numRecords\\&quot;:13655,\\&quot;minValues\\&quot;:{\\&quot;Trip_Pickup_DateTime\\&quot;:\\&quot;2009-01-01T09:58:00.000Z\\&quot;,\\&quot;Trip_Dropoff_DateTime\\&quot;:\\&quot;2009-01-01T10:03:00.000Z\\&quot;,\\&quot;Passenger_Count\\&quot;:1,\\&quot;Trip_Distance\\&quot;:0.0,\\&quot;Start_Lon\\&quot;:-75.211358,\\&quot;Start_Lat\\&quot;:0.0,\\&quot;End_Lon\\&quot;:-75.238745,\\&quot;End_Lat\\&quot;:0.0,\\&quot;Payment_Type\\&quot;:\\&quot;CASH\\&quot;,\\&quot;Fare_Amt\\&quot;:2.5,\\&quot;surcharge\\&quot;:0.0,\\&quot;Tip_Amt\\&quot;:0.0,\\&quot;Tolls_Amt\\&quot;:0.0,\\&quot;Total_Amt\\&quot;:2.5},\\&quot;maxValues\\&quot;:{\\&quot;Trip_Pickup_DateTime\\&quot;:\\&quot;2009-01-31T23:57:00.000Z\\&quot;,\\&quot;Trip_Dropoff_DateTime\\&quot;:\\&quot;2009-02-01T00:13:00.000Z\\&quot;,\\&quot;Passenger_Count\\&quot;:6,\\&quot;Trip_Distance\\&quot;:33.75,\\&quot;Start_Lon\\&quot;:0.0,\\&quot;Start_Lat\\&quot;:42.29382,\\&quot;End_Lon\\&quot;:0.0,\\&quot;End_Lat\\&quot;:42.31645,\\&quot;Payment_Type\\&quot;:\\&quot;Credit\\&quot;,\\&quot;Fare_Amt\\&quot;:90.3,\\&quot;surcharge\\&quot;:1.0,\\&quot;Tip_Amt\\&quot;:47.0,\\&quot;Tolls_Amt\\&quot;:16.0,\\&quot;Total_Amt\\&quot;:100.6},\\&quot;nullCount\\&quot;:{\\&quot;Trip_Pickup_DateTime\\&quot;:0,\\&quot;Trip_Dropoff_DateTime\\&quot;:0,\\&quot;Passenger_Count\\&quot;:0,\\&quot;Trip_Distance\\&quot;:0,\\&quot;Start_Lon\\&quot;:0,\\&quot;Start_Lat\\&quot;:0,\\&quot;Rate_Code\\&quot;:13655,\\&quot;store_and_forward\\&quot;:13655,\\&quot;End_Lon\\&quot;:0,\\&quot;End_Lat\\&quot;:0,\\&quot;Payment_Type\\&quot;:0,\\&quot;Fare_Amt\\&quot;:0,\\&quot;surcharge\\&quot;:0,\\&quot;mta_tax\\&quot;:13655,\\&quot;Tip_Amt\\&quot;:0,\\&quot;Tolls_Amt\\&quot;:0,\\&quot;Total_Amt\\&quot;:0}}&quot;,&quot;tags&quot;:{&quot;INSERTION_TIME&quot;:&quot;1705326548000029&quot;,&quot;OPTIMIZE_TARGET_SIZE&quot;:&quot;268435456&quot;}}}\n",
       "{&quot;add&quot;:{&quot;path&quot;:&quot;vendor_name=CMT/part-00010-4303a3c2-db98-4b7b-909b-3cdd5e804322.c000.snappy.parquet&quot;,&quot;partitionValues&quot;:{&quot;vendor_name&quot;:&quot;CMT&quot;},&quot;size&quot;:660986,&quot;modificationTime&quot;:1705326552000,&quot;dataChange&quot;:true,&quot;stats&quot;:&quot;{\\&quot;numRecords\\&quot;:12836,\\&quot;minValues\\&quot;:{\\&quot;Trip_Pickup_DateTime\\&quot;:\\&quot;2009-01-01T00:03:40.000Z\\&quot;,\\&quot;Trip_Dropoff_DateTime\\&quot;:\\&quot;2009-01-01T00:12:48.000Z\\&quot;,\\&quot;Passenger_Count\\&quot;:1,\\&quot;Trip_Distance\\&quot;:0.0,\\&quot;Start_Lon\\&quot;:-75.162239,\\&quot;Start_Lat\\&quot;:0.0,\\&quot;store_and_forward\\&quot;:0,\\&quot;End_Lon\\&quot;:-74.183384,\\&quot;End_Lat\\&quot;:0.0,\\&quot;Payment_Type\\&quot;:\\&quot;Cash\\&quot;,\\&quot;Fare_Amt\\&quot;:2.5,\\&quot;surcharge\\&quot;:0.0,\\&quot;Tip_Amt\\&quot;:0.0,\\&quot;Tolls_Amt\\&quot;:0.0,\\&quot;Total_Amt\\&quot;:2.5},\\&quot;maxValues\\&quot;:{\\&quot;Trip_Pickup_DateTime\\&quot;:\\&quot;2009-01-31T23:57:40.000Z\\&quot;,\\&quot;Trip_Dropoff_DateTime\\&quot;:\\&quot;2009-02-01T00:13:25.000Z\\&quot;,\\&quot;Passenger_Count\\&quot;:5,\\&quot;Trip_Distance\\&quot;:35.8,\\&quot;Start_Lon\\&quot;:0.0,\\&quot;Start_Lat\\&quot;:40.976882,\\&quot;store_and_forward\\&quot;:0,\\&quot;End_Lon\\&quot;:0.0,\\&quot;End_Lat\\&quot;:41.033528,\\&quot;Payment_Type\\&quot;:\\&quot;No Charge\\&quot;,\\&quot;Fare_Amt\\&quot;:120.0,\\&quot;surcharge\\&quot;:0.0,\\&quot;Tip_Amt\\&quot;:23.0,\\&quot;Tolls_Amt\\&quot;:18.3,\\&quot;Total_Amt\\&quot;:130.32},\\&quot;nullCount\\&quot;:{\\&quot;Trip_Pickup_DateTime\\&quot;:0,\\&quot;Trip_Dropoff_DateTime\\&quot;:0,\\&quot;Passenger_Count\\&quot;:0,\\&quot;Trip_Distance\\&quot;:0,\\&quot;Start_Lon\\&quot;:0,\\&quot;Start_Lat\\&quot;:0,\\&quot;Rate_Code\\&quot;:12836,\\&quot;store_and_forward\\&quot;:12834,\\&quot;End_Lon\\&quot;:0,\\&quot;End_Lat\\&quot;:0,\\&quot;Payment_Type\\&quot;:0,\\&quot;Fare_Amt\\&quot;:0,\\&quot;surcharge\\&quot;:0,\\&quot;mta_tax\\&quot;:12836,\\&quot;Tip_Amt\\&quot;:0,\\&quot;Tolls_Amt\\&quot;:0,\\&quot;Total_Amt\\&quot;:0}}&quot;,&quot;tags&quot;:{&quot;INSERTION_TIME&quot;:&quot;1705326548000030&quot;,&quot;OPTIMIZE_TARGET_SIZE&quot;:&quot;268435456&quot;}}}\n",
       "{&quot;add&quot;:{&quot;path&quot;:&quot;vendor_name=DDS/part-00010-1ee1e6e0-1957-49b2-9d0d-7c5e3a493cbd.c000.snappy.parquet&quot;,&quot;partitionValues&quot;:{&quot;vendor_name&quot;:&quot;DDS&quot;},&quot;size&quot;:94129,&quot;modificationTime&quot;:1705326553000,&quot;dataChange&quot;:true,&quot;stats&quot;:&quot;{\\&quot;numRecords\\&quot;:1736,\\&quot;minValues\\&quot;:{\\&quot;Trip_Pickup_DateTime\\&quot;:\\&quot;2009-01-01T00:17:20.000Z\\&quot;,\\&quot;Trip_Dropoff_DateTime\\&quot;:\\&quot;2009-01-01T00:22:21.000Z\\&quot;,\\&quot;Passenger_Count\\&quot;:0,\\&quot;Trip_Distance\\&quot;:0.0,\\&quot;Start_Lon\\&quot;:-74.036686,\\&quot;Start_Lat\\&quot;:40.452661,\\&quot;End_Lon\\&quot;:-74.178534,\\&quot;End_Lat\\&quot;:40.594712,\\&quot;Payment_Type\\&quot;:\\&quot;CASH\\&quot;,\\&quot;Fare_Amt\\&quot;:2.5,\\&quot;surcharge\\&quot;:0.0,\\&quot;Tip_Amt\\&quot;:0.0,\\&quot;Tolls_Amt\\&quot;:0.0,\\&quot;Total_Amt\\&quot;:2.5},\\&quot;maxValues\\&quot;:{\\&quot;Trip_Pickup_DateTime\\&quot;:\\&quot;2009-01-31T23:08:37.000Z\\&quot;,\\&quot;Trip_Dropoff_DateTime\\&quot;:\\&quot;2009-01-31T23:18:22.000Z\\&quot;,\\&quot;Passenger_Count\\&quot;:5,\\&quot;Trip_Distance\\&quot;:35.8,\\&quot;Start_Lon\\&quot;:-73.137393,\\&quot;Start_Lat\\&quot;:41.366138,\\&quot;End_Lon\\&quot;:-73.137393,\\&quot;End_Lat\\&quot;:41.366138,\\&quot;Payment_Type\\&quot;:\\&quot;CREDIT\\&quot;,\\&quot;Fare_Amt\\&quot;:79.7,\\&quot;surcharge\\&quot;:1.0,\\&quot;Tip_Amt\\&quot;:60.0,\\&quot;Tolls_Amt\\&quot;:8.0,\\&quot;Total_Amt\\&quot;:80.7},\\&quot;nullCount\\&quot;:{\\&quot;Trip_Pickup_DateTime\\&quot;:0,\\&quot;Trip_Dropoff_DateTime\\&quot;:0,\\&quot;Passenger_Count\\&quot;:0,\\&quot;Trip_Distance\\&quot;:0,\\&quot;Start_Lon\\&quot;:0,\\&quot;Start_Lat\\&quot;:0,\\&quot;Rate_Code\\&quot;:1736,\\&quot;store_and_forward\\&quot;:1736,\\&quot;End_Lon\\&quot;:0,\\&quot;End_Lat\\&quot;:0,\\&quot;Payment_Type\\&quot;:0,\\&quot;Fare_Amt\\&quot;:0,\\&quot;surcharge\\&quot;:0,\\&quot;mta_tax\\&quot;:1736,\\&quot;Tip_Amt\\&quot;:0,\\&quot;Tolls_Amt\\&quot;:0,\\&quot;Total_Amt\\&quot;:0}}&quot;,&quot;tags&quot;:{&quot;INSERTION_TIME&quot;:&quot;1705326548000031&quot;,&quot;OPTIMIZE_TARGET_SIZE&quot;:&quot;268435456&quot;}}}\n",
       "{&quot;add&quot;:{&quot;path&quot;:&quot;vendor_name=VTS/part-00010-497734f4-6181-43a4-a0c8-cd032e8b5d5e.c000.snappy.parquet&quot;,&quot;partitionValues&quot;:{&quot;vendor_name&quot;:&quot;VTS&quot;},&quot;size&quot;:672633,&quot;modificationTime&quot;:1705326553000,&quot;dataChange&quot;:true,&quot;stats&quot;:&quot;{\\&quot;numRecords\\&quot;:13613,\\&quot;minValues\\&quot;:{\\&quot;Trip_Pickup_DateTime\\&quot;:\\&quot;2009-01-01T10:02:00.000Z\\&quot;,\\&quot;Trip_Dropoff_DateTime\\&quot;:\\&quot;2009-01-01T10:09:00.000Z\\&quot;,\\&quot;Passenger_Count\\&quot;:1,\\&quot;Trip_Distance\\&quot;:0.0,\\&quot;Start_Lon\\&quot;:-75.954268,\\&quot;Start_Lat\\&quot;:-0.0177,\\&quot;End_Lon\\&quot;:-75.958612,\\&quot;End_Lat\\&quot;:-0.01931,\\&quot;Payment_Type\\&quot;:\\&quot;CASH\\&quot;,\\&quot;Fare_Amt\\&quot;:2.5,\\&quot;surcharge\\&quot;:0.0,\\&quot;Tip_Amt\\&quot;:0.0,\\&quot;Tolls_Amt\\&quot;:0.0,\\&quot;Total_Amt\\&quot;:2.5},\\&quot;maxValues\\&quot;:{\\&quot;Trip_Pickup_DateTime\\&quot;:\\&quot;2009-01-31T23:59:00.000Z\\&quot;,\\&quot;Trip_Dropoff_DateTime\\&quot;:\\&quot;2009-02-01T10:32:00.000Z\\&quot;,\\&quot;Passenger_Count\\&quot;:6,\\&quot;Trip_Distance\\&quot;:42.8,\\&quot;Start_Lon\\&quot;:0.00242,\\&quot;Start_Lat\\&quot;:41.031372,\\&quot;End_Lon\\&quot;:0.00321,\\&quot;End_Lat\\&quot;:41.099868,\\&quot;Payment_Type\\&quot;:\\&quot;Credit\\&quot;,\\&quot;Fare_Amt\\&quot;:144.1,\\&quot;surcharge\\&quot;:1.0,\\&quot;Tip_Amt\\&quot;:67.34,\\&quot;Tolls_Amt\\&quot;:16.6,\\&quot;Total_Amt\\&quot;:163.75},\\&quot;nullCount\\&quot;:{\\&quot;Trip_Pickup_DateTime\\&quot;:0,\\&quot;Trip_Dropoff_DateTime\\&quot;:0,\\&quot;Passenger_Count\\&quot;:0,\\&quot;Trip_Distance\\&quot;:0,\\&quot;Start_Lon\\&quot;:0,\\&quot;Start_Lat\\&quot;:0,\\&quot;Rate_Code\\&quot;:13613,\\&quot;store_and_forward\\&quot;:13613,\\&quot;End_Lon\\&quot;:0,\\&quot;End_Lat\\&quot;:0,\\&quot;Payment_Type\\&quot;:0,\\&quot;Fare_Amt\\&quot;:0,\\&quot;surcharge\\&quot;:0,\\&quot;mta_tax\\&quot;:13613,\\&quot;Tip_Amt\\&quot;:0,\\&quot;Tolls_Amt\\&quot;:0,\\&quot;Total_Amt\\&quot;:0}}&quot;,&quot;tags&quot;:{&quot;INSERTION_TIME&quot;:&quot;1705326548000032&quot;,&quot;OPTIMIZE_TARGET_SIZE&quot;:&quot;268435456&quot;}}}\n",
       "{&quot;add&quot;:{&quot;path&quot;:&quot;vendor_name=CMT/part-00011-245a45a1-af36-489b-865f-d17ab08e0cf9.c000.snappy.parquet&quot;,&quot;partitionValues&quot;:{&quot;vendor_name&quot;:&quot;CMT&quot;},&quot;size&quot;:658731,&quot;modificationTime&quot;:1705326552000,&quot;dataChange&quot;:true,&quot;stats&quot;:&quot;{\\&quot;numRecords\\&quot;:12791,\\&quot;minValues\\&quot;:{\\&quot;Trip_Pickup_DateTime\\&quot;:\\&quot;2009-01-01T00:00:37.000Z\\&quot;,\\&quot;Trip_Dropoff_DateTime\\&quot;:\\&quot;2009-01-01T00:07:31.000Z\\&quot;,\\&quot;Passenger_Count\\&quot;:1,\\&quot;Trip_Distance\\&quot;:0.0,\\&quot;Start_Lon\\&quot;:-74.732935,\\&quot;Start_Lat\\&quot;:0.0,\\&quot;store_and_forward\\&quot;:0,\\&quot;End_Lon\\&quot;:-74.731494,\\&quot;End_Lat\\&quot;:0.0,\\&quot;Payment_Type\\&quot;:\\&quot;Cash\\&quot;,\\&quot;Fare_Amt\\&quot;:2.5,\\&quot;surcharge\\&quot;:0.0,\\&quot;Tip_Amt\\&quot;:0.0,\\&quot;Tolls_Amt\\&quot;:0.0,\\&quot;Total_Amt\\&quot;:2.5},\\&quot;maxValues\\&quot;:{\\&quot;Trip_Pickup_DateTime\\&quot;:\\&quot;2009-01-31T23:59:55.000Z\\&quot;,\\&quot;Trip_Dropoff_DateTime\\&quot;:\\&quot;2009-02-01T00:25:37.000Z\\&quot;,\\&quot;Passenger_Count\\&quot;:5,\\&quot;Trip_Distance\\&quot;:27.2,\\&quot;Start_Lon\\&quot;:0.0,\\&quot;Start_Lat\\&quot;:45.066038,\\&quot;store_and_forward\\&quot;:0,\\&quot;End_Lon\\&quot;:0.0,\\&quot;End_Lat\\&quot;:45.066119,\\&quot;Payment_Type\\&quot;:\\&quot;No Charge\\&quot;,\\&quot;Fare_Amt\\&quot;:120.0,\\&quot;surcharge\\&quot;:0.0,\\&quot;Tip_Amt\\&quot;:51.55,\\&quot;Tolls_Amt\\&quot;:15.0,\\&quot;Total_Amt\\&quot;:124.15},\\&quot;nullCount\\&quot;:{\\&quot;Trip_Pickup_DateTime\\&quot;:0,\\&quot;Trip_Dropoff_DateTime\\&quot;:0,\\&quot;Passenger_Count\\&quot;:0,\\&quot;Trip_Distance\\&quot;:0,\\&quot;Start_Lon\\&quot;:0,\\&quot;Start_Lat\\&quot;:0,\\&quot;Rate_Code\\&quot;:12791,\\&quot;store_and_forward\\&quot;:12788,\\&quot;End_Lon\\&quot;:0,\\&quot;End_Lat\\&quot;:0,\\&quot;Payment_Type\\&quot;:0,\\&quot;Fare_Amt\\&quot;:0,\\&quot;surcharge\\&quot;:0,\\&quot;mta_tax\\&quot;:12791,\\&quot;Tip_Amt\\&quot;:0,\\&quot;Tolls_Amt\\&quot;:0,\\&quot;Total_Amt\\&quot;:0}}&quot;,&quot;tags&quot;:{&quot;INSERTION_TIME&quot;:&quot;1705326548000033&quot;,&quot;OPTIMIZE_TARGET_SIZE&quot;:&quot;268435456&quot;}}}\n",
       "{&quot;add&quot;:{&quot;path&quot;:&quot;vendor_name=DDS/part-00011-381565ad-5cc0-406e-9884-2cbe48fd2ad3.c000.snappy.parquet&quot;,&quot;partitionValues&quot;:{&quot;vendor_name&quot;:&quot;DDS&quot;},&quot;size&quot;:94227,&quot;modificationTime&quot;:1705326552000,&quot;dataChange&quot;:true,&quot;stats&quot;:&quot;{\\&quot;numRecords\\&quot;:1748,\\&quot;minValues\\&quot;:{\\&quot;Trip_Pickup_DateTime\\&quot;:\\&quot;2009-01-01T00:13:26.000Z\\&quot;,\\&quot;Trip_Dropoff_DateTime\\&quot;:\\&quot;2009-01-01T00:23:18.000Z\\&quot;,\\&quot;Passenger_Count\\&quot;:0,\\&quot;Trip_Distance\\&quot;:0.0,\\&quot;Start_Lon\\&quot;:-74.246616,\\&quot;Start_Lat\\&quot;:40.363312,\\&quot;End_Lon\\&quot;:-74.180311,\\&quot;End_Lat\\&quot;:40.581779,\\&quot;Payment_Type\\&quot;:\\&quot;CASH\\&quot;,\\&quot;Fare_Amt\\&quot;:2.5,\\&quot;surcharge\\&quot;:0.0,\\&quot;Tip_Amt\\&quot;:0.0,\\&quot;Tolls_Amt\\&quot;:0.0,\\&quot;Total_Amt\\&quot;:2.5},\\&quot;maxValues\\&quot;:{\\&quot;Trip_Pickup_DateTime\\&quot;:\\&quot;2009-01-31T23:39:46.000Z\\&quot;,\\&quot;Trip_Dropoff_DateTime\\&quot;:\\&quot;2009-01-31T23:49:27.000Z\\&quot;,\\&quot;Passenger_Count\\&quot;:4,\\&quot;Trip_Distance\\&quot;:33.0,\\&quot;Start_Lon\\&quot;:-73.137393,\\&quot;Start_Lat\\&quot;:41.366138,\\&quot;End_Lon\\&quot;:-73.137393,\\&quot;End_Lat\\&quot;:41.366138,\\&quot;Payment_Type\\&quot;:\\&quot;CREDIT\\&quot;,\\&quot;Fare_Amt\\&quot;:164.0,\\&quot;surcharge\\&quot;:1.0,\\&quot;Tip_Amt\\&quot;:32.8,\\&quot;Tolls_Amt\\&quot;:5.0,\\&quot;Total_Amt\\&quot;:196.8},\\&quot;nullCount\\&quot;:{\\&quot;Trip_Pickup_DateTime\\&quot;:0,\\&quot;Trip_Dropoff_DateTime\\&quot;:0,\\&quot;Passenger_Count\\&quot;:0,\\&quot;Trip_Distance\\&quot;:0,\\&quot;Start_Lon\\&quot;:0,\\&quot;Start_Lat\\&quot;:0,\\&quot;Rate_Code\\&quot;:1748,\\&quot;store_and_forward\\&quot;:1748,\\&quot;End_Lon\\&quot;:0,\\&quot;End_Lat\\&quot;:0,\\&quot;Payment_Type\\&quot;:0,\\&quot;Fare_Amt\\&quot;:0,\\&quot;surcharge\\&quot;:0,\\&quot;mta_tax\\&quot;:1748,\\&quot;Tip_Amt\\&quot;:0,\\&quot;Tolls_Amt\\&quot;:0,\\&quot;Total_Amt\\&quot;:0}}&quot;,&quot;tags&quot;:{&quot;INSERTION_TIME&quot;:&quot;1705326548000034&quot;,&quot;OPTIMIZE_TARGET_SIZE&quot;:&quot;268435456&quot;}}}\n",
       "{&quot;add&quot;:{&quot;path&quot;:&quot;vendor_name=VTS/part-00011-16775806-6a4d-427e-9dbd-e5090cf5739d.c000.snappy.parquet&quot;,&quot;partitionValues&quot;:{&quot;vendor_name&quot;:&quot;VTS&quot;},&quot;size&quot;:673315,&quot;modificationTime&quot;:1705326552000,&quot;dataChange&quot;:true,&quot;stats&quot;:&quot;{\\&quot;numRecords\\&quot;:13646,\\&quot;minValues\\&quot;:{\\&quot;Trip_Pickup_DateTime\\&quot;:\\&quot;2009-01-01T09:57:00.000Z\\&quot;,\\&quot;Trip_Dropoff_DateTime\\&quot;:\\&quot;2009-01-01T10:00:00.000Z\\&quot;,\\&quot;Passenger_Count\\&quot;:1,\\&quot;Trip_Distance\\&quot;:0.0,\\&quot;Start_Lon\\&quot;:-75.133413,\\&quot;Start_Lat\\&quot;:0.0,\\&quot;End_Lon\\&quot;:-74.991725,\\&quot;End_Lat\\&quot;:0.0,\\&quot;Payment_Type\\&quot;:\\&quot;CASH\\&quot;,\\&quot;Fare_Amt\\&quot;:2.5,\\&quot;surcharge\\&quot;:0.0,\\&quot;Tip_Amt\\&quot;:0.0,\\&quot;Tolls_Amt\\&quot;:0.0,\\&quot;Total_Amt\\&quot;:2.5},\\&quot;maxValues\\&quot;:{\\&quot;Trip_Pickup_DateTime\\&quot;:\\&quot;2009-01-31T23:59:00.000Z\\&quot;,\\&quot;Trip_Dropoff_DateTime\\&quot;:\\&quot;2009-02-01T10:10:00.000Z\\&quot;,\\&quot;Passenger_Count\\&quot;:6,\\&quot;Trip_Distance\\&quot;:46.05,\\&quot;Start_Lon\\&quot;:0.0,\\&quot;Start_Lat\\&quot;:41.255595,\\&quot;End_Lon\\&quot;:0.0,\\&quot;End_Lat\\&quot;:41.226317,\\&quot;Payment_Type\\&quot;:\\&quot;Credit\\&quot;,\\&quot;Fare_Amt\\&quot;:157.7,\\&quot;surcharge\\&quot;:1.0,\\&quot;Tip_Amt\\&quot;:50.0,\\&quot;Tolls_Amt\\&quot;:12.45,\\&quot;Total_Amt\\&quot;:157.7},\\&quot;nullCount\\&quot;:{\\&quot;Trip_Pickup_DateTime\\&quot;:0,\\&quot;Trip_Dropoff_DateTime\\&quot;:0,\\&quot;Passenger_Count\\&quot;:0,\\&quot;Trip_Distance\\&quot;:0,\\&quot;Start_Lon\\&quot;:0,\\&quot;Start_Lat\\&quot;:0,\\&quot;Rate_Code\\&quot;:13646,\\&quot;store_and_forward\\&quot;:13646,\\&quot;End_Lon\\&quot;:0,\\&quot;End_Lat\\&quot;:0,\\&quot;Payment_Type\\&quot;:0,\\&quot;Fare_Amt\\&quot;:0,\\&quot;surcharge\\&quot;:0,\\&quot;mta_tax\\&quot;:13646,\\&quot;Tip_Amt\\&quot;:0,\\&quot;Tolls_Amt\\&quot;:0,\\&quot;Total_Amt\\&quot;:0}}&quot;,&quot;tags&quot;:{&quot;INSERTION_TIME&quot;:&quot;1705326548000035&quot;,&quot;OPTIMIZE_TARGET_SIZE&quot;:&quot;268435456&quot;}}}\n",
       "{&quot;add&quot;:{&quot;path&quot;:&quot;vendor_name=CMT/part-00012-8990eecd-ebe6-470c-9aba-f46eec5f9e5b.c000.snappy.parquet&quot;,&quot;partitionValues&quot;:{&quot;vendor_name&quot;:&quot;CMT&quot;},&quot;size&quot;:656238,&quot;modificationTime&quot;:1705326553000,&quot;dataChange&quot;:true,&quot;stats&quot;:&quot;{\\&quot;numRecords\\&quot;:12819,\\&quot;minValues\\&quot;:{\\&quot;Trip_Pickup_DateTime\\&quot;:\\&quot;2009-01-01T00:11:58.000Z\\&quot;,\\&quot;Trip_Dropoff_DateTime\\&quot;:\\&quot;2009-01-01T00:19:32.000Z\\&quot;,\\&quot;Passenger_Count\\&quot;:1,\\&quot;Trip_Distance\\&quot;:0.0,\\&quot;Start_Lon\\&quot;:-74.707724,\\&quot;Start_Lat\\&quot;:0.0,\\&quot;store_and_forward\\&quot;:0,\\&quot;End_Lon\\&quot;:-74.707713,\\&quot;End_Lat\\&quot;:0.0,\\&quot;Payment_Type\\&quot;:\\&quot;Cash\\&quot;,\\&quot;Fare_Amt\\&quot;:2.5,\\&quot;surcharge\\&quot;:0.0,\\&quot;Tip_Amt\\&quot;:0.0,\\&quot;Tolls_Amt\\&quot;:0.0,\\&quot;Total_Amt\\&quot;:2.5},\\&quot;maxValues\\&quot;:{\\&quot;Trip_Pickup_DateTime\\&quot;:\\&quot;2009-01-31T23:55:42.000Z\\&quot;,\\&quot;Trip_Dropoff_DateTime\\&quot;:\\&quot;2009-02-01T00:04:46.000Z\\&quot;,\\&quot;Passenger_Count\\&quot;:5,\\&quot;Trip_Distance\\&quot;:37.4,\\&quot;Start_Lon\\&quot;:0.0,\\&quot;Start_Lat\\&quot;:45.067803,\\&quot;store_and_forward\\&quot;:0,\\&quot;End_Lon\\&quot;:0.0,\\&quot;End_Lat\\&quot;:45.068271,\\&quot;Payment_Type\\&quot;:\\&quot;No Charge\\&quot;,\\&quot;Fare_Amt\\&quot;:130.0,\\&quot;surcharge\\&quot;:0.0,\\&quot;Tip_Amt\\&quot;:40.0,\\&quot;Tolls_Amt\\&quot;:18.0,\\&quot;Total_Amt\\&quot;:130.0},\\&quot;nullCount\\&quot;:{\\&quot;Trip_Pickup_DateTime\\&quot;:0,\\&quot;Trip_Dropoff_DateTime\\&quot;:0,\\&quot;Passenger_Count\\&quot;:0,\\&quot;Trip_Distance\\&quot;:0,\\&quot;Start_Lon\\&quot;:0,\\&quot;Start_Lat\\&quot;:0,\\&quot;Rate_Code\\&quot;:12819,\\&quot;store_and_forward\\&quot;:12815,\\&quot;End_Lon\\&quot;:0,\\&quot;End_Lat\\&quot;:0,\\&quot;Payment_Type\\&quot;:0,\\&quot;Fare_Amt\\&quot;:0,\\&quot;surcharge\\&quot;:0,\\&quot;mta_tax\\&quot;:12819,\\&quot;Tip_Amt\\&quot;:0,\\&quot;Tolls_Amt\\&quot;:0,\\&quot;Total_Amt\\&quot;:0}}&quot;,&quot;tags&quot;:{&quot;INSERTION_TIME&quot;:&quot;1705326548000036&quot;,&quot;OPTIMIZE_TARGET_SIZE&quot;:&quot;268435456&quot;}}}\n",
       "{&quot;add&quot;:{&quot;path&quot;:&quot;vendor_name=DDS/part-00012-558554e5-b743-4e70-a8b5-0dc6489717f2.c000.snappy.parquet&quot;,&quot;partitionValues&quot;:{&quot;vendor_name&quot;:&quot;DDS&quot;},&quot;size&quot;:93739,&quot;modificationTime&quot;:1705326553000,&quot;dataChange&quot;:true,&quot;stats&quot;:&quot;{\\&quot;numRecords\\&quot;:1739,\\&quot;minValues\\&quot;:{\\&quot;Trip_Pickup_DateTime\\&quot;:\\&quot;2009-01-01T00:17:32.000Z\\&quot;,\\&quot;Trip_Dropoff_DateTime\\&quot;:\\&quot;2009-01-01T00:24:11.000Z\\&quot;,\\&quot;Passenger_Count\\&quot;:0,\\&quot;Trip_Distance\\&quot;:0.0,\\&quot;Start_Lon\\&quot;:-74.064023,\\&quot;Start_Lat\\&quot;:40.238427,\\&quot;End_Lon\\&quot;:-74.064023,\\&quot;End_Lat\\&quot;:40.238427,\\&quot;Payment_Type\\&quot;:\\&quot;CASH\\&quot;,\\&quot;Fare_Amt\\&quot;:2.5,\\&quot;surcharge\\&quot;:0.0,\\&quot;Tip_Amt\\&quot;:0.0,\\&quot;Tolls_Amt\\&quot;:0.0,\\&quot;Total_Amt\\&quot;:2.5},\\&quot;maxValues\\&quot;:{\\&quot;Trip_Pickup_DateTime\\&quot;:\\&quot;2009-01-31T23:41:38.000Z\\&quot;,\\&quot;Trip_Dropoff_DateTime\\&quot;:\\&quot;2009-02-01T00:04:56.000Z\\&quot;,\\&quot;Passenger_Count\\&quot;:6,\\&quot;Trip_Distance\\&quot;:23.2,\\&quot;Start_Lon\\&quot;:-73.137393,\\&quot;Start_Lat\\&quot;:41.366138,\\&quot;End_Lon\\&quot;:-73.137393,\\&quot;End_Lat\\&quot;:41.366138,\\&quot;Payment_Type\\&quot;:\\&quot;CREDIT\\&quot;,\\&quot;Fare_Amt\\&quot;:72.0,\\&quot;surcharge\\&quot;:1.0,\\&quot;Tip_Amt\\&quot;:14.0,\\&quot;Tolls_Amt\\&quot;:13.0,\\&quot;Total_Amt\\&quot;:72.0},\\&quot;nullCount\\&quot;:{\\&quot;Trip_Pickup_DateTime\\&quot;:0,\\&quot;Trip_Dropoff_DateTime\\&quot;:0,\\&quot;Passenger_Count\\&quot;:0,\\&quot;Trip_Distance\\&quot;:0,\\&quot;Start_Lon\\&quot;:0,\\&quot;Start_Lat\\&quot;:0,\\&quot;Rate_Code\\&quot;:1739,\\&quot;store_and_forward\\&quot;:1739,\\&quot;End_Lon\\&quot;:0,\\&quot;End_Lat\\&quot;:0,\\&quot;Payment_Type\\&quot;:0,\\&quot;Fare_Amt\\&quot;:0,\\&quot;surcharge\\&quot;:0,\\&quot;mta_tax\\&quot;:1739,\\&quot;Tip_Amt\\&quot;:0,\\&quot;Tolls_Amt\\&quot;:0,\\&quot;Total_Amt\\&quot;:0}}&quot;,&quot;tags&quot;:{&quot;INSERTION_TIME&quot;:&quot;1705326548000037&quot;,&quot;OPTIMIZE_TARGET_SIZE&quot;:&quot;268435456&quot;}}}\n",
       "{&quot;add&quot;:{&quot;path&quot;:&quot;vendor_name=VTS/part-00012-38cdb8f0-d0f0-44bc-a30c-89324df0d691.c000.snappy.parquet&quot;,&quot;partitionValues&quot;:{&quot;vendor_name&quot;:&quot;VTS&quot;},&quot;size&quot;:687517,&quot;modificationTime&quot;:1705326553000,&quot;dataChange&quot;:true,&quot;stats&quot;:&quot;{\\&quot;numRecords\\&quot;:13627,\\&quot;minValues\\&quot;:{\\&quot;Trip_Pickup_DateTime\\&quot;:\\&quot;2009-01-01T10:00:00.000Z\\&quot;,\\&quot;Trip_Dropoff_DateTime\\&quot;:\\&quot;2009-01-01T10:16:00.000Z\\&quot;,\\&quot;Passenger_Count\\&quot;:1,\\&quot;Trip_Distance\\&quot;:0.0,\\&quot;Start_Lon\\&quot;:-75.743903,\\&quot;Start_Lat\\&quot;:0.0,\\&quot;End_Lon\\&quot;:-75.743903,\\&quot;End_Lat\\&quot;:0.0,\\&quot;Payment_Type\\&quot;:\\&quot;CASH\\&quot;,\\&quot;Fare_Amt\\&quot;:2.5,\\&quot;surcharge\\&quot;:0.0,\\&quot;Tip_Amt\\&quot;:0.0,\\&quot;Tolls_Amt\\&quot;:0.0,\\&quot;Total_Amt\\&quot;:2.5},\\&quot;maxValues\\&quot;:{\\&quot;Trip_Pickup_DateTime\\&quot;:\\&quot;2009-01-31T23:59:00.000Z\\&quot;,\\&quot;Trip_Dropoff_DateTime\\&quot;:\\&quot;2009-02-01T16:37:00.000Z\\&quot;,\\&quot;Passenger_Count\\&quot;:6,\\&quot;Trip_Distance\\&quot;:28.88,\\&quot;Start_Lon\\&quot;:0.016327,\\&quot;Start_Lat\\&quot;:41.512867,\\&quot;End_Lon\\&quot;:0.017052,\\&quot;End_Lat\\&quot;:41.513265,\\&quot;Payment_Type\\&quot;:\\&quot;Credit\\&quot;,\\&quot;Fare_Amt\\&quot;:200.0,\\&quot;surcharge\\&quot;:1.0,\\&quot;Tip_Amt\\&quot;:100.0,\\&quot;Tolls_Amt\\&quot;:18.0,\\&quot;Total_Amt\\&quot;:200.0},\\&quot;nullCount\\&quot;:{\\&quot;Trip_Pickup_DateTime\\&quot;:0,\\&quot;Trip_Dropoff_DateTime\\&quot;:0,\\&quot;Passenger_Count\\&quot;:0,\\&quot;Trip_Distance\\&quot;:0,\\&quot;Start_Lon\\&quot;:0,\\&quot;Start_Lat\\&quot;:0,\\&quot;Rate_Code\\&quot;:13627,\\&quot;store_and_forward\\&quot;:13627,\\&quot;End_Lon\\&quot;:0,\\&quot;End_Lat\\&quot;:0,\\&quot;Payment_Type\\&quot;:0,\\&quot;Fare_Amt\\&quot;:0,\\&quot;surcharge\\&quot;:0,\\&quot;mta_tax\\&quot;:13627,\\&quot;Tip_Amt\\&quot;:0,\\&quot;Tolls_Amt\\&quot;:0,\\&quot;Total_Amt\\&quot;:0}}&quot;,&quot;tags&quot;:{&quot;INSERTION_TIME&quot;:&quot;1705326548000038&quot;,&quot;OPTIMIZE_TARGET_SIZE&quot;:&quot;268435456&quot;}}}\n",
       "{&quot;add&quot;:{&quot;path&quot;:&quot;vendor_name=CMT/part-00013-5af4d4c9-177c-4082-b3d7-6bc27b68ae05.c000.snappy.parquet&quot;,&quot;partitionValues&quot;:{&quot;vendor_name&quot;:&quot;CMT&quot;},&quot;size&quot;:647826,&quot;modificationTime&quot;:1705326553000,&quot;dataChange&quot;:true,&quot;stats&quot;:&quot;{\\&quot;numRecords\\&quot;:12637,\\&quot;minValues\\&quot;:{\\&quot;Trip_Pickup_DateTime\\&quot;:\\&quot;2009-01-01T00:01:56.000Z\\&quot;,\\&quot;Trip_Dropoff_DateTime\\&quot;:\\&quot;2009-01-01T00:12:30.000Z\\&quot;,\\&quot;Passenger_Count\\&quot;:1,\\&quot;Trip_Distance\\&quot;:0.0,\\&quot;Start_Lon\\&quot;:-74.778082,\\&quot;Start_Lat\\&quot;:0.0,\\&quot;store_and_forward\\&quot;:0,\\&quot;End_Lon\\&quot;:-74.777925,\\&quot;End_Lat\\&quot;:0.0,\\&quot;Payment_Type\\&quot;:\\&quot;Cash\\&quot;,\\&quot;Fare_Amt\\&quot;:2.5,\\&quot;surcharge\\&quot;:0.0,\\&quot;Tip_Amt\\&quot;:0.0,\\&quot;Tolls_Amt\\&quot;:0.0,\\&quot;Total_Amt\\&quot;:2.5},\\&quot;maxValues\\&quot;:{\\&quot;Trip_Pickup_DateTime\\&quot;:\\&quot;2009-01-31T23:59:48.000Z\\&quot;,\\&quot;Trip_Dropoff_DateTime\\&quot;:\\&quot;2009-02-01T00:10:22.000Z\\&quot;,\\&quot;Passenger_Count\\&quot;:5,\\&quot;Trip_Distance\\&quot;:32.8,\\&quot;Start_Lon\\&quot;:0.0,\\&quot;Start_Lat\\&quot;:45.065287,\\&quot;store_and_forward\\&quot;:0,\\&quot;End_Lon\\&quot;:0.0,\\&quot;End_Lat\\&quot;:45.065808,\\&quot;Payment_Type\\&quot;:\\&quot;No Charge\\&quot;,\\&quot;Fare_Amt\\&quot;:150.0,\\&quot;surcharge\\&quot;:0.0,\\&quot;Tip_Amt\\&quot;:75.48,\\&quot;Tolls_Amt\\&quot;:14.3,\\&quot;Total_Amt\\&quot;:180.0},\\&quot;nullCount\\&quot;:{\\&quot;Trip_Pickup_DateTime\\&quot;:0,\\&quot;Trip_Dropoff_DateTime\\&quot;:0,\\&quot;Passenger_Count\\&quot;:0,\\&quot;Trip_Distance\\&quot;:0,\\&quot;Start_Lon\\&quot;:0,\\&quot;Start_Lat\\&quot;:0,\\&quot;Rate_Code\\&quot;:12637,\\&quot;store_and_forward\\&quot;:12635,\\&quot;End_Lon\\&quot;:0,\\&quot;End_Lat\\&quot;:0,\\&quot;Payment_Type\\&quot;:0,\\&quot;Fare_Amt\\&quot;:0,\\&quot;surcharge\\&quot;:0,\\&quot;mta_tax\\&quot;:12637,\\&quot;Tip_Amt\\&quot;:0,\\&quot;Tolls_Amt\\&quot;:0,\\&quot;Total_Amt\\&quot;:0}}&quot;,&quot;tags&quot;:{&quot;INSERTION_TIME&quot;:&quot;1705326548000039&quot;,&quot;OPTIMIZE_TARGET_SIZE&quot;:&quot;268435456&quot;}}}\n",
       "{&quot;add&quot;:{&quot;path&quot;:&quot;vendor_name=DDS/part-00013-50a9043e-510f-4365-ba2f-162b2c5a84ca.c000.snappy.parquet&quot;,&quot;partitionValues&quot;:{&quot;vendor_name&quot;:&quot;DDS&quot;},&quot;size&quot;:94049,&quot;modificationTime&quot;:1705326553000,&quot;dataChange&quot;:true,&quot;stats&quot;:&quot;{\\&quot;numRecords\\&quot;:1735,\\&quot;minValues\\&quot;:{\\&quot;Trip_Pickup_DateTime\\&quot;:\\&quot;2009-01-01T00:13:40.000Z\\&quot;,\\&quot;Trip_Dropoff_DateTime\\&quot;:\\&quot;2009-01-01T00:17:40.000Z\\&quot;,\\&quot;Passenger_Count\\&quot;:0,\\&quot;Trip_Distance\\&quot;:0.0,\\&quot;Start_Lon\\&quot;:-74.549641,\\&quot;Start_Lat\\&quot;:40.238427,\\&quot;End_Lon\\&quot;:-74.177847,\\&quot;End_Lat\\&quot;:40.238427,\\&quot;Payment_Type\\&quot;:\\&quot;CASH\\&quot;,\\&quot;Fare_Amt\\&quot;:2.5,\\&quot;surcharge\\&quot;:0.0,\\&quot;Tip_Amt\\&quot;:0.0,\\&quot;Tolls_Amt\\&quot;:0.0,\\&quot;Total_Amt\\&quot;:2.5},\\&quot;maxValues\\&quot;:{\\&quot;Trip_Pickup_DateTime\\&quot;:\\&quot;2009-01-31T23:54:24.000Z\\&quot;,\\&quot;Trip_Dropoff_DateTime\\&quot;:\\&quot;2009-02-01T00:06:16.000Z\\&quot;,\\&quot;Passenger_Count\\&quot;:5,\\&quot;Trip_Distance\\&quot;:21.8,\\&quot;Start_Lon\\&quot;:-73.137393,\\&quot;Start_Lat\\&quot;:41.366138,\\&quot;End_Lon\\&quot;:-73.137393,\\&quot;End_Lat\\&quot;:41.366138,\\&quot;Payment_Type\\&quot;:\\&quot;CREDIT\\&quot;,\\&quot;Fare_Amt\\&quot;:79.7,\\&quot;surcharge\\&quot;:1.0,\\&quot;Tip_Amt\\&quot;:20.0,\\&quot;Tolls_Amt\\&quot;:18.15,\\&quot;Total_Amt\\&quot;:85.0},\\&quot;nullCount\\&quot;:{\\&quot;Trip_Pickup_DateTime\\&quot;:0,\\&quot;Trip_Dropoff_DateTime\\&quot;:0,\\&quot;Passenger_Count\\&quot;:0,\\&quot;Trip_Distance\\&quot;:0,\\&quot;Start_Lon\\&quot;:0,\\&quot;Start_Lat\\&quot;:0,\\&quot;Rate_Code\\&quot;:1735,\\&quot;store_and_forward\\&quot;:1735,\\&quot;End_Lon\\&quot;:0,\\&quot;End_Lat\\&quot;:0,\\&quot;Payment_Type\\&quot;:0,\\&quot;Fare_Amt\\&quot;:0,\\&quot;surcharge\\&quot;:0,\\&quot;mta_tax\\&quot;:1735,\\&quot;Tip_Amt\\&quot;:0,\\&quot;Tolls_Amt\\&quot;:0,\\&quot;Total_Amt\\&quot;:0}}&quot;,&quot;tags&quot;:{&quot;INSERTION_TIME&quot;:&quot;1705326548000040&quot;,&quot;OPTIMIZE_TARGET_SIZE&quot;:&quot;268435456&quot;}}}\n",
       "{&quot;add&quot;:{&quot;path&quot;:&quot;vendor_name=VTS/part-00013-2722e77c-614c-4458-ba1f-ca94ab6ed5ba.c000.snappy.parquet&quot;,&quot;partitionValues&quot;:{&quot;vendor_name&quot;:&quot;VTS&quot;},&quot;size&quot;:672711,&quot;modificationTime&quot;:1705326553000,&quot;dataChange&quot;:true,&quot;stats&quot;:&quot;{\\&quot;numRecords\\&quot;:13813,\\&quot;minValues\\&quot;:{\\&quot;Trip_Pickup_DateTime\\&quot;:\\&quot;2009-01-01T09:58:00.000Z\\&quot;,\\&quot;Trip_Dropoff_DateTime\\&quot;:\\&quot;2009-01-01T10:02:00.000Z\\&quot;,\\&quot;Passenger_Count\\&quot;:1,\\&quot;Trip_Distance\\&quot;:0.0,\\&quot;Start_Lon\\&quot;:-76.127368,\\&quot;Start_Lat\\&quot;:0.0,\\&quot;End_Lon\\&quot;:-76.147307,\\&quot;End_Lat\\&quot;:0.0,\\&quot;Payment_Type\\&quot;:\\&quot;CASH\\&quot;,\\&quot;Fare_Amt\\&quot;:2.5,\\&quot;surcharge\\&quot;:0.0,\\&quot;Tip_Amt\\&quot;:0.0,\\&quot;Tolls_Amt\\&quot;:0.0,\\&quot;Total_Amt\\&quot;:2.5},\\&quot;maxValues\\&quot;:{\\&quot;Trip_Pickup_DateTime\\&quot;:\\&quot;2009-01-31T23:53:00.000Z\\&quot;,\\&quot;Trip_Dropoff_DateTime\\&quot;:\\&quot;2009-02-01T00:12:00.000Z\\&quot;,\\&quot;Passenger_Count\\&quot;:6,\\&quot;Trip_Distance\\&quot;:31.13,\\&quot;Start_Lon\\&quot;:0.0,\\&quot;Start_Lat\\&quot;:40.920328,\\&quot;End_Lon\\&quot;:0.0,\\&quot;End_Lat\\&quot;:40.98862,\\&quot;Payment_Type\\&quot;:\\&quot;Credit\\&quot;,\\&quot;Fare_Amt\\&quot;:88.9,\\&quot;surcharge\\&quot;:1.0,\\&quot;Tip_Amt\\&quot;:54.0,\\&quot;Tolls_Amt\\&quot;:12.0,\\&quot;Total_Amt\\&quot;:116.75},\\&quot;nullCount\\&quot;:{\\&quot;Trip_Pickup_DateTime\\&quot;:0,\\&quot;Trip_Dropoff_DateTime\\&quot;:0,\\&quot;Passenger_Count\\&quot;:0,\\&quot;Trip_Distance\\&quot;:0,\\&quot;Start_Lon\\&quot;:0,\\&quot;Start_Lat\\&quot;:0,\\&quot;Rate_Code\\&quot;:13813,\\&quot;store_and_forward\\&quot;:13813,\\&quot;End_Lon\\&quot;:0,\\&quot;End_Lat\\&quot;:0,\\&quot;Payment_Type\\&quot;:0,\\&quot;Fare_Amt\\&quot;:0,\\&quot;surcharge\\&quot;:0,\\&quot;mta_tax\\&quot;:13813,\\&quot;Tip_Amt\\&quot;:0,\\&quot;Tolls_Amt\\&quot;:0,\\&quot;Total_Amt\\&quot;:0}}&quot;,&quot;tags&quot;:{&quot;INSERTION_TIME&quot;:&quot;1705326548000041&quot;,&quot;OPTIMIZE_TARGET_SIZE&quot;:&quot;268435456&quot;}}}\n",
       "{&quot;add&quot;:{&quot;path&quot;:&quot;vendor_name=CMT/part-00014-b6b5b4d2-c055-4d95-9ba8-c3c06cb4faf2.c000.snappy.parquet&quot;,&quot;partitionValues&quot;:{&quot;vendor_name&quot;:&quot;CMT&quot;},&quot;size&quot;:661528,&quot;modificationTime&quot;:1705326553000,&quot;dataChange&quot;:true,&quot;stats&quot;:&quot;{\\&quot;numRecords\\&quot;:12721,\\&quot;minValues\\&quot;:{\\&quot;Trip_Pickup_DateTime\\&quot;:\\&quot;2009-01-01T00:01:14.000Z\\&quot;,\\&quot;Trip_Dropoff_DateTime\\&quot;:\\&quot;2009-01-01T00:18:21.000Z\\&quot;,\\&quot;Passenger_Count\\&quot;:1,\\&quot;Trip_Distance\\&quot;:0.0,\\&quot;Start_Lon\\&quot;:-74.748345,\\&quot;Start_Lat\\&quot;:0.0,\\&quot;store_and_forward\\&quot;:0,\\&quot;End_Lon\\&quot;:-74.748578,\\&quot;End_Lat\\&quot;:0.0,\\&quot;Payment_Type\\&quot;:\\&quot;Cash\\&quot;,\\&quot;Fare_Amt\\&quot;:2.5,\\&quot;surcharge\\&quot;:0.0,\\&quot;Tip_Amt\\&quot;:0.0,\\&quot;Tolls_Amt\\&quot;:0.0,\\&quot;Total_Amt\\&quot;:2.5},\\&quot;maxValues\\&quot;:{\\&quot;Trip_Pickup_DateTime\\&quot;:\\&quot;2009-01-31T23:56:54.000Z\\&quot;,\\&quot;Trip_Dropoff_DateTime\\&quot;:\\&quot;2009-02-01T00:14:20.000Z\\&quot;,\\&quot;Passenger_Count\\&quot;:5,\\&quot;Trip_Distance\\&quot;:46.8,\\&quot;Start_Lon\\&quot;:0.0,\\&quot;Start_Lat\\&quot;:45.07738,\\&quot;store_and_forward\\&quot;:0,\\&quot;End_Lon\\&quot;:0.0,\\&quot;End_Lat\\&quot;:45.077258,\\&quot;Payment_Type\\&quot;:\\&quot;No Charge\\&quot;,\\&quot;Fare_Amt\\&quot;:92.0,\\&quot;surcharge\\&quot;:0.0,\\&quot;Tip_Amt\\&quot;:40.0,\\&quot;Tolls_Amt\\&quot;:14.5,\\&quot;Total_Amt\\&quot;:112.0},\\&quot;nullCount\\&quot;:{\\&quot;Trip_Pickup_DateTime\\&quot;:0,\\&quot;Trip_Dropoff_DateTime\\&quot;:0,\\&quot;Passenger_Count\\&quot;:0,\\&quot;Trip_Distance\\&quot;:0,\\&quot;Start_Lon\\&quot;:0,\\&quot;Start_Lat\\&quot;:0,\\&quot;Rate_Code\\&quot;:12721,\\&quot;store_and_forward\\&quot;:12720,\\&quot;End_Lon\\&quot;:0,\\&quot;End_Lat\\&quot;:0,\\&quot;Payment_Type\\&quot;:0,\\&quot;Fare_Amt\\&quot;:0,\\&quot;surcharge\\&quot;:0,\\&quot;mta_tax\\&quot;:12721,\\&quot;Tip_Amt\\&quot;:0,\\&quot;Tolls_Amt\\&quot;:0,\\&quot;Total_Amt\\&quot;:0}}&quot;,&quot;tags&quot;:{&quot;INSERTION_TIME&quot;:&quot;1705326548000042&quot;,&quot;OPTIMIZE_TARGET_SIZE&quot;:&quot;268435456&quot;}}}\n",
       "{&quot;add&quot;:{&quot;path&quot;:&quot;vendor_name=DDS/part-00014-e2074040-b24f-4a24-96e8-0b3be6054814.c000.snappy.parquet&quot;,&quot;partitionValues&quot;:{&quot;vendor_name&quot;:&quot;DDS&quot;},&quot;size&quot;:93459,&quot;modificationTime&quot;:1705326553000,&quot;dataChange&quot;:true,&quot;stats&quot;:&quot;{\\&quot;numRecords\\&quot;:1720,\\&quot;minValues\\&quot;:{\\&quot;Trip_Pickup_DateTime\\&quot;:\\&quot;2009-01-01T00:04:41.000Z\\&quot;,\\&quot;Trip_Dropoff_DateTime\\&quot;:\\&quot;2009-01-01T00:13:40.000Z\\&quot;,\\&quot;Passenger_Count\\&quot;:0,\\&quot;Trip_Distance\\&quot;:0.0,\\&quot;Start_Lon\\&quot;:-74.181401,\\&quot;Start_Lat\\&quot;:40.63432,\\&quot;End_Lon\\&quot;:-74.177942,\\&quot;End_Lat\\&quot;:40.238427,\\&quot;Payment_Type\\&quot;:\\&quot;CASH\\&quot;,\\&quot;Fare_Amt\\&quot;:2.5,\\&quot;surcharge\\&quot;:0.0,\\&quot;Tip_Amt\\&quot;:0.0,\\&quot;Tolls_Amt\\&quot;:0.0,\\&quot;Total_Amt\\&quot;:2.5},\\&quot;maxValues\\&quot;:{\\&quot;Trip_Pickup_DateTime\\&quot;:\\&quot;2009-01-31T23:53:09.000Z\\&quot;,\\&quot;Trip_Dropoff_DateTime\\&quot;:\\&quot;2009-01-31T23:58:48.000Z\\&quot;,\\&quot;Passenger_Count\\&quot;:4,\\&quot;Trip_Distance\\&quot;:43.8,\\&quot;Start_Lon\\&quot;:-73.137393,\\&quot;Start_Lat\\&quot;:41.366138,\\&quot;End_Lon\\&quot;:-73.137393,\\&quot;End_Lat\\&quot;:41.366138,\\&quot;Payment_Type\\&quot;:\\&quot;CREDIT\\&quot;,\\&quot;Fare_Amt\\&quot;:88.0,\\&quot;surcharge\\&quot;:1.0,\\&quot;Tip_Amt\\&quot;:17.6,\\&quot;Tolls_Amt\\&quot;:11.0,\\&quot;Total_Amt\\&quot;:110.6},\\&quot;nullCount\\&quot;:{\\&quot;Trip_Pickup_DateTime\\&quot;:0,\\&quot;Trip_Dropoff_DateTime\\&quot;:0,\\&quot;Passenger_Count\\&quot;:0,\\&quot;Trip_Distance\\&quot;:0,\\&quot;Start_Lon\\&quot;:0,\\&quot;Start_Lat\\&quot;:0,\\&quot;Rate_Code\\&quot;:1720,\\&quot;store_and_forward\\&quot;:1720,\\&quot;End_Lon\\&quot;:0,\\&quot;End_Lat\\&quot;:0,\\&quot;Payment_Type\\&quot;:0,\\&quot;Fare_Amt\\&quot;:0,\\&quot;surcharge\\&quot;:0,\\&quot;mta_tax\\&quot;:1720,\\&quot;Tip_Amt\\&quot;:0,\\&quot;Tolls_Amt\\&quot;:0,\\&quot;Total_Amt\\&quot;:0}}&quot;,&quot;tags&quot;:{&quot;INSERTION_TIME&quot;:&quot;1705326548000043&quot;,&quot;OPTIMIZE_TARGET_SIZE&quot;:&quot;268435456&quot;}}}\n",
       "{&quot;add&quot;:{&quot;path&quot;:&quot;vendor_name=VTS/part-00014-e35f8165-6989-4f76-a120-bbdc7bb6a3b4.c000.snappy.parquet&quot;,&quot;partitionValues&quot;:{&quot;vendor_name&quot;:&quot;VTS&quot;},&quot;size&quot;:675223,&quot;modificationTime&quot;:1705326553000,&quot;dataChange&quot;:true,&quot;stats&quot;:&quot;{\\&quot;numRecords\\&quot;:13744,\\&quot;minValues\\&quot;:{\\&quot;Trip_Pickup_DateTime\\&quot;:\\&quot;2009-01-01T09:57:00.000Z\\&quot;,\\&quot;Trip_Dropoff_DateTime\\&quot;:\\&quot;2009-01-01T10:01:00.000Z\\&quot;,\\&quot;Passenger_Count\\&quot;:0,\\&quot;Trip_Distance\\&quot;:0.0,\\&quot;Start_Lon\\&quot;:-75.149223,\\&quot;Start_Lat\\&quot;:0.0,\\&quot;End_Lon\\&quot;:-75.221015,\\&quot;End_Lat\\&quot;:0.0,\\&quot;Payment_Type\\&quot;:\\&quot;CASH\\&quot;,\\&quot;Fare_Amt\\&quot;:2.5,\\&quot;surcharge\\&quot;:0.0,\\&quot;Tip_Amt\\&quot;:0.0,\\&quot;Tolls_Amt\\&quot;:0.0,\\&quot;Total_Amt\\&quot;:2.5},\\&quot;maxValues\\&quot;:{\\&quot;Trip_Pickup_DateTime\\&quot;:\\&quot;2009-01-31T23:58:00.000Z\\&quot;,\\&quot;Trip_Dropoff_DateTime\\&quot;:\\&quot;2009-02-01T09:11:00.000Z\\&quot;,\\&quot;Passenger_Count\\&quot;:6,\\&quot;Trip_Distance\\&quot;:38.23,\\&quot;Start_Lon\\&quot;:0.0,\\&quot;Start_Lat\\&quot;:41.445327,\\&quot;End_Lon\\&quot;:0.0,\\&quot;End_Lat\\&quot;:41.44538,\\&quot;Payment_Type\\&quot;:\\&quot;Credit\\&quot;,\\&quot;Fare_Amt\\&quot;:175.0,\\&quot;surch\n",
       "</div>"
      ]
     },
     "metadata": {
      "application/vnd.databricks.v1+output": {
       "addedWidgets": {},
       "arguments": {},
       "data": "<div class=\"ansiout\">[Truncated to first 65536 bytes]\n{&quot;commitInfo&quot;:{&quot;timestamp&quot;:1705326617933,&quot;userId&quot;:&quot;2035466439901047&quot;,&quot;userName&quot;:&quot;supriyaamshenoy@outlook.com&quot;,&quot;operation&quot;:&quot;CREATE TABLE AS SELECT&quot;,&quot;operationParameters&quot;:{&quot;isManaged&quot;:&quot;true&quot;,&quot;description&quot;:null,&quot;partitionBy&quot;:&quot;[\\&quot;vendor_name\\&quot;]&quot;,&quot;properties&quot;:&quot;{}&quot;},&quot;notebook&quot;:{&quot;notebookId&quot;:&quot;2121621502026997&quot;},&quot;clusterId&quot;:&quot;0113-120816-1eptehi9&quot;,&quot;isolationLevel&quot;:&quot;WriteSerializable&quot;,&quot;isBlindAppend&quot;:true,&quot;operationMetrics&quot;:{&quot;numFiles&quot;:&quot;1500&quot;,&quot;numOutputRows&quot;:&quot;14092413&quot;,&quot;numOutputBytes&quot;:&quot;716480913&quot;},&quot;engineInfo&quot;:&quot;Databricks-Runtime/10.4.x-photon-scala2.12&quot;,&quot;txnId&quot;:&quot;4dc9a04b-e8ba-4c75-b7c1-8baff58e4ea6&quot;}}\n{&quot;protocol&quot;:{&quot;minReaderVersion&quot;:1,&quot;minWriterVersion&quot;:2}}\n{&quot;metaData&quot;:{&quot;id&quot;:&quot;c1086c6f-8bc4-4850-bc67-bb9deb23a38c&quot;,&quot;format&quot;:{&quot;provider&quot;:&quot;parquet&quot;,&quot;options&quot;:{}},&quot;schemaString&quot;:&quot;{\\&quot;type\\&quot;:\\&quot;struct\\&quot;,\\&quot;fields\\&quot;:[{\\&quot;name\\&quot;:\\&quot;vendor_name\\&quot;,\\&quot;type\\&quot;:\\&quot;string\\&quot;,\\&quot;nullable\\&quot;:true,\\&quot;metadata\\&quot;:{}},{\\&quot;name\\&quot;:\\&quot;Trip_Pickup_DateTime\\&quot;,\\&quot;type\\&quot;:\\&quot;timestamp\\&quot;,\\&quot;nullable\\&quot;:true,\\&quot;metadata\\&quot;:{}},{\\&quot;name\\&quot;:\\&quot;Trip_Dropoff_DateTime\\&quot;,\\&quot;type\\&quot;:\\&quot;timestamp\\&quot;,\\&quot;nullable\\&quot;:true,\\&quot;metadata\\&quot;:{}},{\\&quot;name\\&quot;:\\&quot;Passenger_Count\\&quot;,\\&quot;type\\&quot;:\\&quot;integer\\&quot;,\\&quot;nullable\\&quot;:true,\\&quot;metadata\\&quot;:{}},{\\&quot;name\\&quot;:\\&quot;Trip_Distance\\&quot;,\\&quot;type\\&quot;:\\&quot;double\\&quot;,\\&quot;nullable\\&quot;:true,\\&quot;metadata\\&quot;:{}},{\\&quot;name\\&quot;:\\&quot;Start_Lon\\&quot;,\\&quot;type\\&quot;:\\&quot;double\\&quot;,\\&quot;nullable\\&quot;:true,\\&quot;metadata\\&quot;:{}},{\\&quot;name\\&quot;:\\&quot;Start_Lat\\&quot;,\\&quot;type\\&quot;:\\&quot;double\\&quot;,\\&quot;nullable\\&quot;:true,\\&quot;metadata\\&quot;:{}},{\\&quot;name\\&quot;:\\&quot;Rate_Code\\&quot;,\\&quot;type\\&quot;:\\&quot;string\\&quot;,\\&quot;nullable\\&quot;:true,\\&quot;metadata\\&quot;:{}},{\\&quot;name\\&quot;:\\&quot;store_and_forward\\&quot;,\\&quot;type\\&quot;:\\&quot;integer\\&quot;,\\&quot;nullable\\&quot;:true,\\&quot;metadata\\&quot;:{}},{\\&quot;name\\&quot;:\\&quot;End_Lon\\&quot;,\\&quot;type\\&quot;:\\&quot;double\\&quot;,\\&quot;nullable\\&quot;:true,\\&quot;metadata\\&quot;:{}},{\\&quot;name\\&quot;:\\&quot;End_Lat\\&quot;,\\&quot;type\\&quot;:\\&quot;double\\&quot;,\\&quot;nullable\\&quot;:true,\\&quot;metadata\\&quot;:{}},{\\&quot;name\\&quot;:\\&quot;Payment_Type\\&quot;,\\&quot;type\\&quot;:\\&quot;string\\&quot;,\\&quot;nullable\\&quot;:true,\\&quot;metadata\\&quot;:{}},{\\&quot;name\\&quot;:\\&quot;Fare_Amt\\&quot;,\\&quot;type\\&quot;:\\&quot;double\\&quot;,\\&quot;nullable\\&quot;:true,\\&quot;metadata\\&quot;:{}},{\\&quot;name\\&quot;:\\&quot;surcharge\\&quot;,\\&quot;type\\&quot;:\\&quot;double\\&quot;,\\&quot;nullable\\&quot;:true,\\&quot;metadata\\&quot;:{}},{\\&quot;name\\&quot;:\\&quot;mta_tax\\&quot;,\\&quot;type\\&quot;:\\&quot;string\\&quot;,\\&quot;nullable\\&quot;:true,\\&quot;metadata\\&quot;:{}},{\\&quot;name\\&quot;:\\&quot;Tip_Amt\\&quot;,\\&quot;type\\&quot;:\\&quot;double\\&quot;,\\&quot;nullable\\&quot;:true,\\&quot;metadata\\&quot;:{}},{\\&quot;name\\&quot;:\\&quot;Tolls_Amt\\&quot;,\\&quot;type\\&quot;:\\&quot;double\\&quot;,\\&quot;nullable\\&quot;:true,\\&quot;metadata\\&quot;:{}},{\\&quot;name\\&quot;:\\&quot;Total_Amt\\&quot;,\\&quot;type\\&quot;:\\&quot;double\\&quot;,\\&quot;nullable\\&quot;:true,\\&quot;metadata\\&quot;:{}}]}&quot;,&quot;partitionColumns&quot;:[&quot;vendor_name&quot;],&quot;configuration&quot;:{},&quot;createdTime&quot;:1705326416869}}\n{&quot;add&quot;:{&quot;path&quot;:&quot;vendor_name=CMT/part-00000-37ac7b88-e1e0-40b8-a6c4-87cf9f8542d5.c000.snappy.parquet&quot;,&quot;partitionValues&quot;:{&quot;vendor_name&quot;:&quot;CMT&quot;},&quot;size&quot;:655940,&quot;modificationTime&quot;:1705326548000,&quot;dataChange&quot;:true,&quot;stats&quot;:&quot;{\\&quot;numRecords\\&quot;:12759,\\&quot;minValues\\&quot;:{\\&quot;Trip_Pickup_DateTime\\&quot;:\\&quot;2009-01-01T00:15:00.000Z\\&quot;,\\&quot;Trip_Dropoff_DateTime\\&quot;:\\&quot;2009-01-01T00:26:19.000Z\\&quot;,\\&quot;Passenger_Count\\&quot;:1,\\&quot;Trip_Distance\\&quot;:0.0,\\&quot;Start_Lon\\&quot;:-74.734748,\\&quot;Start_Lat\\&quot;:0.0,\\&quot;store_and_forward\\&quot;:0,\\&quot;End_Lon\\&quot;:-74.734109,\\&quot;End_Lat\\&quot;:0.0,\\&quot;Payment_Type\\&quot;:\\&quot;Cash\\&quot;,\\&quot;Fare_Amt\\&quot;:2.5,\\&quot;surcharge\\&quot;:0.0,\\&quot;Tip_Amt\\&quot;:0.0,\\&quot;Tolls_Amt\\&quot;:0.0,\\&quot;Total_Amt\\&quot;:2.5},\\&quot;maxValues\\&quot;:{\\&quot;Trip_Pickup_DateTime\\&quot;:\\&quot;2009-01-31T23:59:41.000Z\\&quot;,\\&quot;Trip_Dropoff_DateTime\\&quot;:\\&quot;2009-02-01T00:23:03.000Z\\&quot;,\\&quot;Passenger_Count\\&quot;:5,\\&quot;Trip_Distance\\&quot;:42.2,\\&quot;Start_Lon\\&quot;:0.0,\\&quot;Start_Lat\\&quot;:45.058149,\\&quot;store_and_forward\\&quot;:0,\\&quot;End_Lon\\&quot;:0.0,\\&quot;End_Lat\\&quot;:45.057724,\\&quot;Payment_Type\\&quot;:\\&quot;No Charge\\&quot;,\\&quot;Fare_Amt\\&quot;:165.0,\\&quot;surcharge\\&quot;:0.0,\\&quot;Tip_Amt\\&quot;:34.0,\\&quot;Tolls_Amt\\&quot;:11.0,\\&quot;Total_Amt\\&quot;:165.0},\\&quot;nullCount\\&quot;:{\\&quot;Trip_Pickup_DateTime\\&quot;:0,\\&quot;Trip_Dropoff_DateTime\\&quot;:0,\\&quot;Passenger_Count\\&quot;:0,\\&quot;Trip_Distance\\&quot;:0,\\&quot;Start_Lon\\&quot;:0,\\&quot;Start_Lat\\&quot;:0,\\&quot;Rate_Code\\&quot;:12759,\\&quot;store_and_forward\\&quot;:12756,\\&quot;End_Lon\\&quot;:0,\\&quot;End_Lat\\&quot;:0,\\&quot;Payment_Type\\&quot;:0,\\&quot;Fare_Amt\\&quot;:0,\\&quot;surcharge\\&quot;:0,\\&quot;mta_tax\\&quot;:12759,\\&quot;Tip_Amt\\&quot;:0,\\&quot;Tolls_Amt\\&quot;:0,\\&quot;Total_Amt\\&quot;:0}}&quot;,&quot;tags&quot;:{&quot;INSERTION_TIME&quot;:&quot;1705326548000000&quot;,&quot;OPTIMIZE_TARGET_SIZE&quot;:&quot;268435456&quot;}}}\n{&quot;add&quot;:{&quot;path&quot;:&quot;vendor_name=DDS/part-00000-3286d8b8-e7bb-47f9-8e98-aa451d0b3bdd.c000.snappy.parquet&quot;,&quot;partitionValues&quot;:{&quot;vendor_name&quot;:&quot;DDS&quot;},&quot;size&quot;:94018,&quot;modificationTime&quot;:1705326549000,&quot;dataChange&quot;:true,&quot;stats&quot;:&quot;{\\&quot;numRecords\\&quot;:1731,\\&quot;minValues\\&quot;:{\\&quot;Trip_Pickup_DateTime\\&quot;:\\&quot;2009-01-01T00:05:23.000Z\\&quot;,\\&quot;Trip_Dropoff_DateTime\\&quot;:\\&quot;2009-01-01T00:24:14.000Z\\&quot;,\\&quot;Passenger_Count\\&quot;:0,\\&quot;Trip_Distance\\&quot;:0.0,\\&quot;Start_Lon\\&quot;:-74.050307,\\&quot;Start_Lat\\&quot;:40.639916,\\&quot;End_Lon\\&quot;:-74.177184,\\&quot;End_Lat\\&quot;:40.581402,\\&quot;Payment_Type\\&quot;:\\&quot;CASH\\&quot;,\\&quot;Fare_Amt\\&quot;:2.5,\\&quot;surcharge\\&quot;:0.0,\\&quot;Tip_Amt\\&quot;:0.0,\\&quot;Tolls_Amt\\&quot;:0.0,\\&quot;Total_Amt\\&quot;:2.5},\\&quot;maxValues\\&quot;:{\\&quot;Trip_Pickup_DateTime\\&quot;:\\&quot;2009-01-31T23:58:34.000Z\\&quot;,\\&quot;Trip_Dropoff_DateTime\\&quot;:\\&quot;2009-02-01T00:03:16.000Z\\&quot;,\\&quot;Passenger_Count\\&quot;:5,\\&quot;Trip_Distance\\&quot;:23.3,\\&quot;Start_Lon\\&quot;:-73.137393,\\&quot;Start_Lat\\&quot;:41.366138,\\&quot;End_Lon\\&quot;:-73.137393,\\&quot;End_Lat\\&quot;:41.366138,\\&quot;Payment_Type\\&quot;:\\&quot;CREDIT\\&quot;,\\&quot;Fare_Amt\\&quot;:56.3,\\&quot;surcharge\\&quot;:1.0,\\&quot;Tip_Amt\\&quot;:11.0,\\&quot;Tolls_Amt\\&quot;:12.0,\\&quot;Total_Amt\\&quot;:76.3},\\&quot;nullCount\\&quot;:{\\&quot;Trip_Pickup_DateTime\\&quot;:0,\\&quot;Trip_Dropoff_DateTime\\&quot;:0,\\&quot;Passenger_Count\\&quot;:0,\\&quot;Trip_Distance\\&quot;:0,\\&quot;Start_Lon\\&quot;:0,\\&quot;Start_Lat\\&quot;:0,\\&quot;Rate_Code\\&quot;:1731,\\&quot;store_and_forward\\&quot;:1731,\\&quot;End_Lon\\&quot;:0,\\&quot;End_Lat\\&quot;:0,\\&quot;Payment_Type\\&quot;:0,\\&quot;Fare_Amt\\&quot;:0,\\&quot;surcharge\\&quot;:0,\\&quot;mta_tax\\&quot;:1731,\\&quot;Tip_Amt\\&quot;:0,\\&quot;Tolls_Amt\\&quot;:0,\\&quot;Total_Amt\\&quot;:0}}&quot;,&quot;tags&quot;:{&quot;INSERTION_TIME&quot;:&quot;1705326548000001&quot;,&quot;OPTIMIZE_TARGET_SIZE&quot;:&quot;268435456&quot;}}}\n{&quot;add&quot;:{&quot;path&quot;:&quot;vendor_name=VTS/part-00000-2b29ab4f-9d13-4055-b56e-591c8804646f.c000.snappy.parquet&quot;,&quot;partitionValues&quot;:{&quot;vendor_name&quot;:&quot;VTS&quot;},&quot;size&quot;:676406,&quot;modificationTime&quot;:1705326549000,&quot;dataChange&quot;:true,&quot;stats&quot;:&quot;{\\&quot;numRecords\\&quot;:13695,\\&quot;minValues\\&quot;:{\\&quot;Trip_Pickup_DateTime\\&quot;:\\&quot;2009-01-01T10:00:00.000Z\\&quot;,\\&quot;Trip_Dropoff_DateTime\\&quot;:\\&quot;2009-01-01T10:23:00.000Z\\&quot;,\\&quot;Passenger_Count\\&quot;:1,\\&quot;Trip_Distance\\&quot;:0.0,\\&quot;Start_Lon\\&quot;:-76.27722,\\&quot;Start_Lat\\&quot;:0.0,\\&quot;End_Lon\\&quot;:-76.20183,\\&quot;End_Lat\\&quot;:0.0,\\&quot;Payment_Type\\&quot;:\\&quot;CASH\\&quot;,\\&quot;Fare_Amt\\&quot;:2.5,\\&quot;surcharge\\&quot;:0.0,\\&quot;Tip_Amt\\&quot;:0.0,\\&quot;Tolls_Amt\\&quot;:0.0,\\&quot;Total_Amt\\&quot;:2.5},\\&quot;maxValues\\&quot;:{\\&quot;Trip_Pickup_DateTime\\&quot;:\\&quot;2009-01-31T23:59:00.000Z\\&quot;,\\&quot;Trip_Dropoff_DateTime\\&quot;:\\&quot;2009-02-01T13:46:00.000Z\\&quot;,\\&quot;Passenger_Count\\&quot;:6,\\&quot;Trip_Distance\\&quot;:36.75,\\&quot;Start_Lon\\&quot;:0.0,\\&quot;Start_Lat\\&quot;:42.006515,\\&quot;End_Lon\\&quot;:0.0,\\&quot;End_Lat\\&quot;:42.020745,\\&quot;Payment_Type\\&quot;:\\&quot;Credit\\&quot;,\\&quot;Fare_Amt\\&quot;:189.7,\\&quot;surcharge\\&quot;:1.0,\\&quot;Tip_Amt\\&quot;:48.0,\\&quot;Tolls_Amt\\&quot;:10.15,\\&quot;Total_Amt\\&quot;:189.7},\\&quot;nullCount\\&quot;:{\\&quot;Trip_Pickup_DateTime\\&quot;:0,\\&quot;Trip_Dropoff_DateTime\\&quot;:0,\\&quot;Passenger_Count\\&quot;:0,\\&quot;Trip_Distance\\&quot;:0,\\&quot;Start_Lon\\&quot;:0,\\&quot;Start_Lat\\&quot;:0,\\&quot;Rate_Code\\&quot;:13695,\\&quot;store_and_forward\\&quot;:13695,\\&quot;End_Lon\\&quot;:0,\\&quot;End_Lat\\&quot;:0,\\&quot;Payment_Type\\&quot;:0,\\&quot;Fare_Amt\\&quot;:0,\\&quot;surcharge\\&quot;:0,\\&quot;mta_tax\\&quot;:13695,\\&quot;Tip_Amt\\&quot;:0,\\&quot;Tolls_Amt\\&quot;:0,\\&quot;Total_Amt\\&quot;:0}}&quot;,&quot;tags&quot;:{&quot;INSERTION_TIME&quot;:&quot;1705326548000002&quot;,&quot;OPTIMIZE_TARGET_SIZE&quot;:&quot;268435456&quot;}}}\n{&quot;add&quot;:{&quot;path&quot;:&quot;vendor_name=CMT/part-00001-1c95e7f6-1e79-45cf-bdb4-ac0cb85b4fe8.c000.snappy.parquet&quot;,&quot;partitionValues&quot;:{&quot;vendor_name&quot;:&quot;CMT&quot;},&quot;size&quot;:655146,&quot;modificationTime&quot;:1705326548000,&quot;dataChange&quot;:true,&quot;stats&quot;:&quot;{\\&quot;numRecords\\&quot;:12762,\\&quot;minValues\\&quot;:{\\&quot;Trip_Pickup_DateTime\\&quot;:\\&quot;2009-01-01T00:03:55.000Z\\&quot;,\\&quot;Trip_Dropoff_DateTime\\&quot;:\\&quot;2009-01-01T00:11:10.000Z\\&quot;,\\&quot;Passenger_Count\\&quot;:1,\\&quot;Trip_Distance\\&quot;:0.0,\\&quot;Start_Lon\\&quot;:-74.73032,\\&quot;Start_Lat\\&quot;:0.0,\\&quot;store_and_forward\\&quot;:0,\\&quot;End_Lon\\&quot;:-74.729554,\\&quot;End_Lat\\&quot;:0.0,\\&quot;Payment_Type\\&quot;:\\&quot;Cash\\&quot;,\\&quot;Fare_Amt\\&quot;:2.5,\\&quot;surcharge\\&quot;:0.0,\\&quot;Tip_Amt\\&quot;:0.0,\\&quot;Tolls_Amt\\&quot;:0.0,\\&quot;Total_Amt\\&quot;:2.5},\\&quot;maxValues\\&quot;:{\\&quot;Trip_Pickup_DateTime\\&quot;:\\&quot;2009-01-31T23:57:56.000Z\\&quot;,\\&quot;Trip_Dropoff_DateTime\\&quot;:\\&quot;2009-02-01T00:25:03.000Z\\&quot;,\\&quot;Passenger_Count\\&quot;:5,\\&quot;Trip_Distance\\&quot;:33.6,\\&quot;Start_Lon\\&quot;:0.0,\\&quot;Start_Lat\\&quot;:45.034471,\\&quot;store_and_forward\\&quot;:0,\\&quot;End_Lon\\&quot;:0.0,\\&quot;End_Lat\\&quot;:45.034546,\\&quot;Payment_Type\\&quot;:\\&quot;No Charge\\&quot;,\\&quot;Fare_Amt\\&quot;:130.0,\\&quot;surcharge\\&quot;:0.0,\\&quot;Tip_Amt\\&quot;:51.12,\\&quot;Tolls_Amt\\&quot;:15.6,\\&quot;Total_Amt\\&quot;:131.0},\\&quot;nullCount\\&quot;:{\\&quot;Trip_Pickup_DateTime\\&quot;:0,\\&quot;Trip_Dropoff_DateTime\\&quot;:0,\\&quot;Passenger_Count\\&quot;:0,\\&quot;Trip_Distance\\&quot;:0,\\&quot;Start_Lon\\&quot;:0,\\&quot;Start_Lat\\&quot;:0,\\&quot;Rate_Code\\&quot;:12762,\\&quot;store_and_forward\\&quot;:12761,\\&quot;End_Lon\\&quot;:0,\\&quot;End_Lat\\&quot;:0,\\&quot;Payment_Type\\&quot;:0,\\&quot;Fare_Amt\\&quot;:0,\\&quot;surcharge\\&quot;:0,\\&quot;mta_tax\\&quot;:12762,\\&quot;Tip_Amt\\&quot;:0,\\&quot;Tolls_Amt\\&quot;:0,\\&quot;Total_Amt\\&quot;:0}}&quot;,&quot;tags&quot;:{&quot;INSERTION_TIME&quot;:&quot;1705326548000003&quot;,&quot;OPTIMIZE_TARGET_SIZE&quot;:&quot;268435456&quot;}}}\n{&quot;add&quot;:{&quot;path&quot;:&quot;vendor_name=DDS/part-00001-7fdf9541-f900-49aa-8c1e-857acc0e0c39.c000.snappy.parquet&quot;,&quot;partitionValues&quot;:{&quot;vendor_name&quot;:&quot;DDS&quot;},&quot;size&quot;:90222,&quot;modificationTime&quot;:1705326549000,&quot;dataChange&quot;:true,&quot;stats&quot;:&quot;{\\&quot;numRecords\\&quot;:1648,\\&quot;minValues\\&quot;:{\\&quot;Trip_Pickup_DateTime\\&quot;:\\&quot;2009-01-01T00:31:28.000Z\\&quot;,\\&quot;Trip_Dropoff_DateTime\\&quot;:\\&quot;2009-01-01T00:47:14.000Z\\&quot;,\\&quot;Passenger_Count\\&quot;:0,\\&quot;Trip_Distance\\&quot;:0.0,\\&quot;Start_Lon\\&quot;:-74.038771,\\&quot;Start_Lat\\&quot;:40.639217,\\&quot;End_Lon\\&quot;:-74.185238,\\&quot;End_Lat\\&quot;:40.580434,\\&quot;Payment_Type\\&quot;:\\&quot;CASH\\&quot;,\\&quot;Fare_Amt\\&quot;:2.5,\\&quot;surcharge\\&quot;:0.0,\\&quot;Tip_Amt\\&quot;:0.0,\\&quot;Tolls_Amt\\&quot;:0.0,\\&quot;Total_Amt\\&quot;:2.5},\\&quot;maxValues\\&quot;:{\\&quot;Trip_Pickup_DateTime\\&quot;:\\&quot;2009-01-31T23:39:25.000Z\\&quot;,\\&quot;Trip_Dropoff_DateTime\\&quot;:\\&quot;2009-02-01T00:02:33.000Z\\&quot;,\\&quot;Passenger_Count\\&quot;:5,\\&quot;Trip_Distance\\&quot;:27.1,\\&quot;Start_Lon\\&quot;:-73.137393,\\&quot;Start_Lat\\&quot;:41.366138,\\&quot;End_Lon\\&quot;:-73.137393,\\&quot;End_Lat\\&quot;:41.366138,\\&quot;Payment_Type\\&quot;:\\&quot;CREDIT\\&quot;,\\&quot;Fare_Amt\\&quot;:68.9,\\&quot;surcharge\\&quot;:1.0,\\&quot;Tip_Amt\\&quot;:32.0,\\&quot;Tolls_Amt\\&quot;:8.0,\\&quot;Total_Amt\\&quot;:94.35},\\&quot;nullCount\\&quot;:{\\&quot;Trip_Pickup_DateTime\\&quot;:0,\\&quot;Trip_Dropoff_DateTime\\&quot;:0,\\&quot;Passenger_Count\\&quot;:0,\\&quot;Trip_Distance\\&quot;:0,\\&quot;Start_Lon\\&quot;:0,\\&quot;Start_Lat\\&quot;:0,\\&quot;Rate_Code\\&quot;:1648,\\&quot;store_and_forward\\&quot;:1648,\\&quot;End_Lon\\&quot;:0,\\&quot;End_Lat\\&quot;:0,\\&quot;Payment_Type\\&quot;:0,\\&quot;Fare_Amt\\&quot;:0,\\&quot;surcharge\\&quot;:0,\\&quot;mta_tax\\&quot;:1648,\\&quot;Tip_Amt\\&quot;:0,\\&quot;Tolls_Amt\\&quot;:0,\\&quot;Total_Amt\\&quot;:0}}&quot;,&quot;tags&quot;:{&quot;INSERTION_TIME&quot;:&quot;1705326548000004&quot;,&quot;OPTIMIZE_TARGET_SIZE&quot;:&quot;268435456&quot;}}}\n{&quot;add&quot;:{&quot;path&quot;:&quot;vendor_name=VTS/part-00001-08bb90d7-fe03-4f5b-a0a1-d6ed9cd38dc9.c000.snappy.parquet&quot;,&quot;partitionValues&quot;:{&quot;vendor_name&quot;:&quot;VTS&quot;},&quot;size&quot;:672939,&quot;modificationTime&quot;:1705326549000,&quot;dataChange&quot;:true,&quot;stats&quot;:&quot;{\\&quot;numRecords\\&quot;:13775,\\&quot;minValues\\&quot;:{\\&quot;Trip_Pickup_DateTime\\&quot;:\\&quot;2009-01-01T10:16:00.000Z\\&quot;,\\&quot;Trip_Dropoff_DateTime\\&quot;:\\&quot;2009-01-01T10:34:00.000Z\\&quot;,\\&quot;Passenger_Count\\&quot;:1,\\&quot;Trip_Distance\\&quot;:0.0,\\&quot;Start_Lon\\&quot;:-75.159542,\\&quot;Start_Lat\\&quot;:0.0,\\&quot;End_Lon\\&quot;:-75.137305,\\&quot;End_Lat\\&quot;:0.0,\\&quot;Payment_Type\\&quot;:\\&quot;CASH\\&quot;,\\&quot;Fare_Amt\\&quot;:2.5,\\&quot;surcharge\\&quot;:0.0,\\&quot;Tip_Amt\\&quot;:0.0,\\&quot;Tolls_Amt\\&quot;:0.0,\\&quot;Total_Amt\\&quot;:2.5},\\&quot;maxValues\\&quot;:{\\&quot;Trip_Pickup_DateTime\\&quot;:\\&quot;2009-01-31T23:57:00.000Z\\&quot;,\\&quot;Trip_Dropoff_DateTime\\&quot;:\\&quot;2009-02-01T00:15:00.000Z\\&quot;,\\&quot;Passenger_Count\\&quot;:6,\\&quot;Trip_Distance\\&quot;:38.17,\\&quot;Start_Lon\\&quot;:0.0,\\&quot;Start_Lat\\&quot;:41.048937,\\&quot;End_Lon\\&quot;:0.0,\\&quot;End_Lat\\&quot;:41.138012,\\&quot;Payment_Type\\&quot;:\\&quot;Credit\\&quot;,\\&quot;Fare_Amt\\&quot;:170.0,\\&quot;surcharge\\&quot;:1.0,\\&quot;Tip_Amt\\&quot;:20.0,\\&quot;Tolls_Amt\\&quot;:12.5,\\&quot;Total_Amt\\&quot;:185.0},\\&quot;nullCount\\&quot;:{\\&quot;Trip_Pickup_DateTime\\&quot;:0,\\&quot;Trip_Dropoff_DateTime\\&quot;:0,\\&quot;Passenger_Count\\&quot;:0,\\&quot;Trip_Distance\\&quot;:0,\\&quot;Start_Lon\\&quot;:0,\\&quot;Start_Lat\\&quot;:0,\\&quot;Rate_Code\\&quot;:13775,\\&quot;store_and_forward\\&quot;:13775,\\&quot;End_Lon\\&quot;:0,\\&quot;End_Lat\\&quot;:0,\\&quot;Payment_Type\\&quot;:0,\\&quot;Fare_Amt\\&quot;:0,\\&quot;surcharge\\&quot;:0,\\&quot;mta_tax\\&quot;:13775,\\&quot;Tip_Amt\\&quot;:0,\\&quot;Tolls_Amt\\&quot;:0,\\&quot;Total_Amt\\&quot;:0}}&quot;,&quot;tags&quot;:{&quot;INSERTION_TIME&quot;:&quot;1705326548000005&quot;,&quot;OPTIMIZE_TARGET_SIZE&quot;:&quot;268435456&quot;}}}\n{&quot;add&quot;:{&quot;path&quot;:&quot;vendor_name=CMT/part-00002-80cae795-43ca-4c85-83c5-f743dcd304e6.c000.snappy.parquet&quot;,&quot;partitionValues&quot;:{&quot;vendor_name&quot;:&quot;CMT&quot;},&quot;size&quot;:654268,&quot;modificationTime&quot;:1705326548000,&quot;dataChange&quot;:true,&quot;stats&quot;:&quot;{\\&quot;numRecords\\&quot;:12711,\\&quot;minValues\\&quot;:{\\&quot;Trip_Pickup_DateTime\\&quot;:\\&quot;2009-01-01T00:09:26.000Z\\&quot;,\\&quot;Trip_Dropoff_DateTime\\&quot;:\\&quot;2009-01-01T00:17:30.000Z\\&quot;,\\&quot;Passenger_Count\\&quot;:1,\\&quot;Trip_Distance\\&quot;:0.0,\\&quot;Start_Lon\\&quot;:-94.101733,\\&quot;Start_Lat\\&quot;:0.0,\\&quot;store_and_forward\\&quot;:0,\\&quot;End_Lon\\&quot;:-94.201854,\\&quot;End_Lat\\&quot;:0.0,\\&quot;Payment_Type\\&quot;:\\&quot;Cash\\&quot;,\\&quot;Fare_Amt\\&quot;:2.5,\\&quot;surcharge\\&quot;:0.0,\\&quot;Tip_Amt\\&quot;:0.0,\\&quot;Tolls_Amt\\&quot;:0.0,\\&quot;Total_Amt\\&quot;:2.5},\\&quot;maxValues\\&quot;:{\\&quot;Trip_Pickup_DateTime\\&quot;:\\&quot;2009-01-31T23:59:38.000Z\\&quot;,\\&quot;Trip_Dropoff_DateTime\\&quot;:\\&quot;2009-02-01T00:12:32.000Z\\&quot;,\\&quot;Passenger_Count\\&quot;:5,\\&quot;Trip_Distance\\&quot;:28.9,\\&quot;Start_Lon\\&quot;:0.0,\\&quot;Start_Lat\\&quot;:45.051814,\\&quot;store_and_forward\\&quot;:0,\\&quot;End_Lon\\&quot;:0.0,\\&quot;End_Lat\\&quot;:45.051479,\\&quot;Payment_Type\\&quot;:\\&quot;No Charge\\&quot;,\\&quot;Fare_Amt\\&quot;:100.0,\\&quot;surcharge\\&quot;:0.0,\\&quot;Tip_Amt\\&quot;:32.0,\\&quot;Tolls_Amt\\&quot;:12.45,\\&quot;Total_Amt\\&quot;:100.0},\\&quot;nullCount\\&quot;:{\\&quot;Trip_Pickup_DateTime\\&quot;:0,\\&quot;Trip_Dropoff_DateTime\\&quot;:0,\\&quot;Passenger_Count\\&quot;:0,\\&quot;Trip_Distance\\&quot;:0,\\&quot;Start_Lon\\&quot;:0,\\&quot;Start_Lat\\&quot;:0,\\&quot;Rate_Code\\&quot;:12711,\\&quot;store_and_forward\\&quot;:12707,\\&quot;End_Lon\\&quot;:0,\\&quot;End_Lat\\&quot;:0,\\&quot;Payment_Type\\&quot;:0,\\&quot;Fare_Amt\\&quot;:0,\\&quot;surcharge\\&quot;:0,\\&quot;mta_tax\\&quot;:12711,\\&quot;Tip_Amt\\&quot;:0,\\&quot;Tolls_Amt\\&quot;:0,\\&quot;Total_Amt\\&quot;:0}}&quot;,&quot;tags&quot;:{&quot;INSERTION_TIME&quot;:&quot;1705326548000006&quot;,&quot;OPTIMIZE_TARGET_SIZE&quot;:&quot;268435456&quot;}}}\n{&quot;add&quot;:{&quot;path&quot;:&quot;vendor_name=DDS/part-00002-4eaa573c-5b8d-43c4-8594-ac2e40e9e51f.c000.snappy.parquet&quot;,&quot;partitionValues&quot;:{&quot;vendor_name&quot;:&quot;DDS&quot;},&quot;size&quot;:95388,&quot;modificationTime&quot;:1705326548000,&quot;dataChange&quot;:true,&quot;stats&quot;:&quot;{\\&quot;numRecords\\&quot;:1762,\\&quot;minValues\\&quot;:{\\&quot;Trip_Pickup_DateTime\\&quot;:\\&quot;2009-01-01T00:14:24.000Z\\&quot;,\\&quot;Trip_Dropoff_DateTime\\&quot;:\\&quot;2009-01-01T00:25:55.000Z\\&quot;,\\&quot;Passenger_Count\\&quot;:0,\\&quot;Trip_Distance\\&quot;:0.0,\\&quot;Start_Lon\\&quot;:-74.19848,\\&quot;Start_Lat\\&quot;:40.621799,\\&quot;End_Lon\\&quot;:-74.19848,\\&quot;End_Lat\\&quot;:40.581169,\\&quot;Payment_Type\\&quot;:\\&quot;CASH\\&quot;,\\&quot;Fare_Amt\\&quot;:2.5,\\&quot;surcharge\\&quot;:0.0,\\&quot;Tip_Amt\\&quot;:0.0,\\&quot;Tolls_Amt\\&quot;:0.0,\\&quot;Total_Amt\\&quot;:2.5},\\&quot;maxValues\\&quot;:{\\&quot;Trip_Pickup_DateTime\\&quot;:\\&quot;2009-01-31T23:46:03.000Z\\&quot;,\\&quot;Trip_Dropoff_DateTime\\&quot;:\\&quot;2009-02-01T00:02:38.000Z\\&quot;,\\&quot;Passenger_Count\\&quot;:5,\\&quot;Trip_Distance\\&quot;:23.0,\\&quot;Start_Lon\\&quot;:-73.137393,\\&quot;Start_Lat\\&quot;:41.366138,\\&quot;End_Lon\\&quot;:-73.137393,\\&quot;End_Lat\\&quot;:41.366138,\\&quot;Payment_Type\\&quot;:\\&quot;CREDIT\\&quot;,\\&quot;Fare_Amt\\&quot;:116.1,\\&quot;surcharge\\&quot;:1.0,\\&quot;Tip_Amt\\&quot;:11.45,\\&quot;Tolls_Amt\\&quot;:10.0,\\&quot;Total_Amt\\&quot;:116.1},\\&quot;nullCount\\&quot;:{\\&quot;Trip_Pickup_DateTime\\&quot;:0,\\&quot;Trip_Dropoff_DateTime\\&quot;:0,\\&quot;Passenger_Count\\&quot;:0,\\&quot;Trip_Distance\\&quot;:0,\\&quot;Start_Lon\\&quot;:0,\\&quot;Start_Lat\\&quot;:0,\\&quot;Rate_Code\\&quot;:1762,\\&quot;store_and_forward\\&quot;:1762,\\&quot;End_Lon\\&quot;:0,\\&quot;End_Lat\\&quot;:0,\\&quot;Payment_Type\\&quot;:0,\\&quot;Fare_Amt\\&quot;:0,\\&quot;surcharge\\&quot;:0,\\&quot;mta_tax\\&quot;:1762,\\&quot;Tip_Amt\\&quot;:0,\\&quot;Tolls_Amt\\&quot;:0,\\&quot;Total_Amt\\&quot;:0}}&quot;,&quot;tags&quot;:{&quot;INSERTION_TIME&quot;:&quot;1705326548000007&quot;,&quot;OPTIMIZE_TARGET_SIZE&quot;:&quot;268435456&quot;}}}\n{&quot;add&quot;:{&quot;path&quot;:&quot;vendor_name=VTS/part-00002-5829bf93-c83e-4a78-8c30-de428b354b24.c000.snappy.parquet&quot;,&quot;partitionValues&quot;:{&quot;vendor_name&quot;:&quot;VTS&quot;},&quot;size&quot;:697129,&quot;modificationTime&quot;:1705326549000,&quot;dataChange&quot;:true,&quot;stats&quot;:&quot;{\\&quot;numRecords\\&quot;:13712,\\&quot;minValues\\&quot;:{\\&quot;Trip_Pickup_DateTime\\&quot;:\\&quot;2009-01-01T09:58:00.000Z\\&quot;,\\&quot;Trip_Dropoff_DateTime\\&quot;:\\&quot;2009-01-01T10:01:00.000Z\\&quot;,\\&quot;Passenger_Count\\&quot;:1,\\&quot;Trip_Distance\\&quot;:0.0,\\&quot;Start_Lon\\&quot;:-76.116608,\\&quot;Start_Lat\\&quot;:0.0,\\&quot;End_Lon\\&quot;:-76.107017,\\&quot;End_Lat\\&quot;:0.0,\\&quot;Payment_Type\\&quot;:\\&quot;CASH\\&quot;,\\&quot;Fare_Amt\\&quot;:2.5,\\&quot;surcharge\\&quot;:0.0,\\&quot;Tip_Amt\\&quot;:0.0,\\&quot;Tolls_Amt\\&quot;:0.0,\\&quot;Total_Amt\\&quot;:2.5},\\&quot;maxValues\\&quot;:{\\&quot;Trip_Pickup_DateTime\\&quot;:\\&quot;2009-01-31T23:55:00.000Z\\&quot;,\\&quot;Trip_Dropoff_DateTime\\&quot;:\\&quot;2009-02-01T00:10:00.000Z\\&quot;,\\&quot;Passenger_Count\\&quot;:6,\\&quot;Trip_Distance\\&quot;:42.21,\\&quot;Start_Lon\\&quot;:0.0,\\&quot;Start_Lat\\&quot;:41.252758,\\&quot;End_Lon\\&quot;:0.0,\\&quot;End_Lat\\&quot;:41.019863,\\&quot;Payment_Type\\&quot;:\\&quot;Credit\\&quot;,\\&quot;Fare_Amt\\&quot;:140.1,\\&quot;surcharge\\&quot;:1.0,\\&quot;Tip_Amt\\&quot;:30.0,\\&quot;Tolls_Amt\\&quot;:13.0,\\&quot;Total_Amt\\&quot;:140.1},\\&quot;nullCount\\&quot;:{\\&quot;Trip_Pickup_DateTime\\&quot;:0,\\&quot;Trip_Dropoff_DateTime\\&quot;:0,\\&quot;Passenger_Count\\&quot;:0,\\&quot;Trip_Distance\\&quot;:0,\\&quot;Start_Lon\\&quot;:0,\\&quot;Start_Lat\\&quot;:0,\\&quot;Rate_Code\\&quot;:13712,\\&quot;store_and_forward\\&quot;:13712,\\&quot;End_Lon\\&quot;:0,\\&quot;End_Lat\\&quot;:0,\\&quot;Payment_Type\\&quot;:0,\\&quot;Fare_Amt\\&quot;:0,\\&quot;surcharge\\&quot;:0,\\&quot;mta_tax\\&quot;:13712,\\&quot;Tip_Amt\\&quot;:0,\\&quot;Tolls_Amt\\&quot;:0,\\&quot;Total_Amt\\&quot;:0}}&quot;,&quot;tags&quot;:{&quot;INSERTION_TIME&quot;:&quot;1705326548000008&quot;,&quot;OPTIMIZE_TARGET_SIZE&quot;:&quot;268435456&quot;}}}\n{&quot;add&quot;:{&quot;path&quot;:&quot;vendor_name=CMT/part-00003-601a0c92-8f47-4641-ab27-22c1ecaef033.c000.snappy.parquet&quot;,&quot;partitionValues&quot;:{&quot;vendor_name&quot;:&quot;CMT&quot;},&quot;size&quot;:652391,&quot;modificationTime&quot;:1705326548000,&quot;dataChange&quot;:true,&quot;stats&quot;:&quot;{\\&quot;numRecords\\&quot;:12741,\\&quot;minValues\\&quot;:{\\&quot;Trip_Pickup_DateTime\\&quot;:\\&quot;2009-01-01T00:05:46.000Z\\&quot;,\\&quot;Trip_Dropoff_DateTime\\&quot;:\\&quot;2009-01-01T00:14:30.000Z\\&quot;,\\&quot;Passenger_Count\\&quot;:1,\\&quot;Trip_Distance\\&quot;:0.0,\\&quot;Start_Lon\\&quot;:-74.182533,\\&quot;Start_Lat\\&quot;:0.0,\\&quot;store_and_forward\\&quot;:0,\\&quot;End_Lon\\&quot;:-74.288917,\\&quot;End_Lat\\&quot;:0.0,\\&quot;Payment_Type\\&quot;:\\&quot;Cash\\&quot;,\\&quot;Fare_Amt\\&quot;:2.5,\\&quot;surcharge\\&quot;:0.0,\\&quot;Tip_Amt\\&quot;:0.0,\\&quot;Tolls_Amt\\&quot;:0.0,\\&quot;Total_Amt\\&quot;:2.5},\\&quot;maxValues\\&quot;:{\\&quot;Trip_Pickup_DateTime\\&quot;:\\&quot;2009-01-31T23:57:49.000Z\\&quot;,\\&quot;Trip_Dropoff_DateTime\\&quot;:\\&quot;2009-02-01T00:10:16.000Z\\&quot;,\\&quot;Passenger_Count\\&quot;:5,\\&quot;Trip_Distance\\&quot;:28.1,\\&quot;Start_Lon\\&quot;:0.0,\\&quot;Start_Lat\\&quot;:41.137919,\\&quot;store_and_forward\\&quot;:0,\\&quot;End_Lon\\&quot;:0.0,\\&quot;End_Lat\\&quot;:41.138161,\\&quot;Payment_Type\\&quot;:\\&quot;No Charge\\&quot;,\\&quot;Fare_Amt\\&quot;:150.0,\\&quot;surcharge\\&quot;:0.0,\\&quot;Tip_Amt\\&quot;:35.0,\\&quot;Tolls_Amt\\&quot;:12.45,\\&quot;Total_Amt\\&quot;:150.0},\\&quot;nullCount\\&quot;:{\\&quot;Trip_Pickup_DateTime\\&quot;:0,\\&quot;Trip_Dropoff_DateTime\\&quot;:0,\\&quot;Passenger_Count\\&quot;:0,\\&quot;Trip_Distance\\&quot;:0,\\&quot;Start_Lon\\&quot;:0,\\&quot;Start_Lat\\&quot;:0,\\&quot;Rate_Code\\&quot;:12741,\\&quot;store_and_forward\\&quot;:12737,\\&quot;End_Lon\\&quot;:0,\\&quot;End_Lat\\&quot;:0,\\&quot;Payment_Type\\&quot;:0,\\&quot;Fare_Amt\\&quot;:0,\\&quot;surcharge\\&quot;:0,\\&quot;mta_tax\\&quot;:12741,\\&quot;Tip_Amt\\&quot;:0,\\&quot;Tolls_Amt\\&quot;:0,\\&quot;Total_Amt\\&quot;:0}}&quot;,&quot;tags&quot;:{&quot;INSERTION_TIME&quot;:&quot;1705326548000009&quot;,&quot;OPTIMIZE_TARGET_SIZE&quot;:&quot;268435456&quot;}}}\n{&quot;add&quot;:{&quot;path&quot;:&quot;vendor_name=DDS/part-00003-981da864-7f9e-4ed3-87c2-6859e9245c2e.c000.snappy.parquet&quot;,&quot;partitionValues&quot;:{&quot;vendor_name&quot;:&quot;DDS&quot;},&quot;size&quot;:93206,&quot;modificationTime&quot;:1705326549000,&quot;dataChange&quot;:true,&quot;stats&quot;:&quot;{\\&quot;numRecords\\&quot;:1714,\\&quot;minValues\\&quot;:{\\&quot;Trip_Pickup_DateTime\\&quot;:\\&quot;2009-01-01T00:04:41.000Z\\&quot;,\\&quot;Trip_Dropoff_DateTime\\&quot;:\\&quot;2009-01-01T00:21:08.000Z\\&quot;,\\&quot;Passenger_Count\\&quot;:0,\\&quot;Trip_Distance\\&quot;:0.0,\\&quot;Start_Lon\\&quot;:-74.196277,\\&quot;Start_Lat\\&quot;:40.641423,\\&quot;End_Lon\\&quot;:-74.196277,\\&quot;End_Lat\\&quot;:40.602641,\\&quot;Payment_Type\\&quot;:\\&quot;CASH\\&quot;,\\&quot;Fare_Amt\\&quot;:2.5,\\&quot;surcharge\\&quot;:0.0,\\&quot;Tip_Amt\\&quot;:0.0,\\&quot;Tolls_Amt\\&quot;:0.0,\\&quot;Total_Amt\\&quot;:2.5},\\&quot;maxValues\\&quot;:{\\&quot;Trip_Pickup_DateTime\\&quot;:\\&quot;2009-01-31T23:54:56.000Z\\&quot;,\\&quot;Trip_Dropoff_DateTime\\&quot;:\\&quot;2009-02-01T00:15:05.000Z\\&quot;,\\&quot;Passenger_Count\\&quot;:4,\\&quot;Trip_Distance\\&quot;:23.1,\\&quot;Start_Lon\\&quot;:-73.137393,\\&quot;Start_Lat\\&quot;:41.366138,\\&quot;End_Lon\\&quot;:-73.137393,\\&quot;End_Lat\\&quot;:41.366138,\\&quot;Payment_Type\\&quot;:\\&quot;CREDIT\\&quot;,\\&quot;Fare_Amt\\&quot;:63.1,\\&quot;surcharge\\&quot;:1.0,\\&quot;Tip_Amt\\&quot;:11.25,\\&quot;Tolls_Amt\\&quot;:11.75,\\&quot;Total_Amt\\&quot;:74.85},\\&quot;nullCount\\&quot;:{\\&quot;Trip_Pickup_DateTime\\&quot;:0,\\&quot;Trip_Dropoff_DateTime\\&quot;:0,\\&quot;Passenger_Count\\&quot;:0,\\&quot;Trip_Distance\\&quot;:0,\\&quot;Start_Lon\\&quot;:0,\\&quot;Start_Lat\\&quot;:0,\\&quot;Rate_Code\\&quot;:1714,\\&quot;store_and_forward\\&quot;:1714,\\&quot;End_Lon\\&quot;:0,\\&quot;End_Lat\\&quot;:0,\\&quot;Payment_Type\\&quot;:0,\\&quot;Fare_Amt\\&quot;:0,\\&quot;surcharge\\&quot;:0,\\&quot;mta_tax\\&quot;:1714,\\&quot;Tip_Amt\\&quot;:0,\\&quot;Tolls_Amt\\&quot;:0,\\&quot;Total_Amt\\&quot;:0}}&quot;,&quot;tags&quot;:{&quot;INSERTION_TIME&quot;:&quot;1705326548000010&quot;,&quot;OPTIMIZE_TARGET_SIZE&quot;:&quot;268435456&quot;}}}\n{&quot;add&quot;:{&quot;path&quot;:&quot;vendor_name=VTS/part-00003-5f1f3346-f873-49ce-834b-aa4b332c2104.c000.snappy.parquet&quot;,&quot;partitionValues&quot;:{&quot;vendor_name&quot;:&quot;VTS&quot;},&quot;size&quot;:677418,&quot;modificationTime&quot;:1705326549000,&quot;dataChange&quot;:true,&quot;stats&quot;:&quot;{\\&quot;numRecords\\&quot;:13730,\\&quot;minValues\\&quot;:{\\&quot;Trip_Pickup_DateTime\\&quot;:\\&quot;2009-01-01T09:59:00.000Z\\&quot;,\\&quot;Trip_Dropoff_DateTime\\&quot;:\\&quot;2009-01-01T10:05:00.000Z\\&quot;,\\&quot;Passenger_Count\\&quot;:1,\\&quot;Trip_Distance\\&quot;:0.0,\\&quot;Start_Lon\\&quot;:-75.031815,\\&quot;Start_Lat\\&quot;:0.0,\\&quot;End_Lon\\&quot;:-75.07446,\\&quot;End_Lat\\&quot;:0.0,\\&quot;Payment_Type\\&quot;:\\&quot;CASH\\&quot;,\\&quot;Fare_Amt\\&quot;:2.5,\\&quot;surcharge\\&quot;:0.0,\\&quot;Tip_Amt\\&quot;:0.0,\\&quot;Tolls_Amt\\&quot;:0.0,\\&quot;Total_Amt\\&quot;:2.5},\\&quot;maxValues\\&quot;:{\\&quot;Trip_Pickup_DateTime\\&quot;:\\&quot;2009-01-31T23:59:00.000Z\\&quot;,\\&quot;Trip_Dropoff_DateTime\\&quot;:\\&quot;2009-02-01T00:24:00.000Z\\&quot;,\\&quot;Passenger_Count\\&quot;:6,\\&quot;Trip_Distance\\&quot;:28.81,\\&quot;Start_Lon\\&quot;:0.0,\\&quot;Start_Lat\\&quot;:41.44755,\\&quot;End_Lon\\&quot;:0.0,\\&quot;End_Lat\\&quot;:41.463425,\\&quot;Payment_Type\\&quot;:\\&quot;Credit\\&quot;,\\&quot;Fare_Amt\\&quot;:200.0,\\&quot;surcharge\\&quot;:1.0,\\&quot;Tip_Amt\\&quot;:50.0,\\&quot;Tolls_Amt\\&quot;:16.0,\\&quot;Total_Amt\\&quot;:200.0},\\&quot;nullCount\\&quot;:{\\&quot;Trip_Pickup_DateTime\\&quot;:0,\\&quot;Trip_Dropoff_DateTime\\&quot;:0,\\&quot;Passenger_Count\\&quot;:0,\\&quot;Trip_Distance\\&quot;:0,\\&quot;Start_Lon\\&quot;:0,\\&quot;Start_Lat\\&quot;:0,\\&quot;Rate_Code\\&quot;:13730,\\&quot;store_and_forward\\&quot;:13730,\\&quot;End_Lon\\&quot;:0,\\&quot;End_Lat\\&quot;:0,\\&quot;Payment_Type\\&quot;:0,\\&quot;Fare_Amt\\&quot;:0,\\&quot;surcharge\\&quot;:0,\\&quot;mta_tax\\&quot;:13730,\\&quot;Tip_Amt\\&quot;:0,\\&quot;Tolls_Amt\\&quot;:0,\\&quot;Total_Amt\\&quot;:0}}&quot;,&quot;tags&quot;:{&quot;INSERTION_TIME&quot;:&quot;1705326548000011&quot;,&quot;OPTIMIZE_TARGET_SIZE&quot;:&quot;268435456&quot;}}}\n{&quot;add&quot;:{&quot;path&quot;:&quot;vendor_name=CMT/part-00004-0bdd8fa3-dcae-4a6d-aa5a-17aa9a6eb331.c000.snappy.parquet&quot;,&quot;partitionValues&quot;:{&quot;vendor_name&quot;:&quot;CMT&quot;},&quot;size&quot;:667548,&quot;modificationTime&quot;:1705326551000,&quot;dataChange&quot;:true,&quot;stats&quot;:&quot;{\\&quot;numRecords\\&quot;:12872,\\&quot;minValues\\&quot;:{\\&quot;Trip_Pickup_DateTime\\&quot;:\\&quot;2009-01-01T00:07:28.000Z\\&quot;,\\&quot;Trip_Dropoff_DateTime\\&quot;:\\&quot;2009-01-01T00:13:03.000Z\\&quot;,\\&quot;Passenger_Count\\&quot;:1,\\&quot;Trip_Distance\\&quot;:0.0,\\&quot;Start_Lon\\&quot;:-77.439452,\\&quot;Start_Lat\\&quot;:0.0,\\&quot;store_and_forward\\&quot;:0,\\&quot;End_Lon\\&quot;:-74.748006,\\&quot;End_Lat\\&quot;:0.0,\\&quot;Payment_Type\\&quot;:\\&quot;Cash\\&quot;,\\&quot;Fare_Amt\\&quot;:2.5,\\&quot;surcharge\\&quot;:0.0,\\&quot;Tip_Amt\\&quot;:0.0,\\&quot;Tolls_Amt\\&quot;:0.0,\\&quot;Total_Amt\\&quot;:2.5},\\&quot;maxValues\\&quot;:{\\&quot;Trip_Pickup_DateTime\\&quot;:\\&quot;2009-01-31T23:59:11.000Z\\&quot;,\\&quot;Trip_Dropoff_DateTime\\&quot;:\\&quot;2009-02-01T00:27:50.000Z\\&quot;,\\&quot;Passenger_Count\\&quot;:5,\\&quot;Trip_Distance\\&quot;:37.4,\\&quot;Start_Lon\\&quot;:0.0,\\&quot;Start_Lat\\&quot;:45.064598,\\&quot;store_and_forward\\&quot;:0,\\&quot;End_Lon\\&quot;:0.0,\\&quot;End_Lat\\&quot;:45.06445,\\&quot;Payment_Type\\&quot;:\\&quot;No Charge\\&quot;,\\&quot;Fare_Amt\\&quot;:85.0,\\&quot;surcharge\\&quot;:0.0,\\&quot;Tip_Amt\\&quot;:24.1,\\&quot;Tolls_Amt\\&quot;:15.0,\\&quot;Total_Amt\\&quot;:102.0},\\&quot;nullCount\\&quot;:{\\&quot;Trip_Pickup_DateTime\\&quot;:0,\\&quot;Trip_Dropoff_DateTime\\&quot;:0,\\&quot;Passenger_Count\\&quot;:0,\\&quot;Trip_Distance\\&quot;:0,\\&quot;Start_Lon\\&quot;:0,\\&quot;Start_Lat\\&quot;:0,\\&quot;Rate_Code\\&quot;:12872,\\&quot;store_and_forward\\&quot;:12868,\\&quot;End_Lon\\&quot;:0,\\&quot;End_Lat\\&quot;:0,\\&quot;Payment_Type\\&quot;:0,\\&quot;Fare_Amt\\&quot;:0,\\&quot;surcharge\\&quot;:0,\\&quot;mta_tax\\&quot;:12872,\\&quot;Tip_Amt\\&quot;:0,\\&quot;Tolls_Amt\\&quot;:0,\\&quot;Total_Amt\\&quot;:0}}&quot;,&quot;tags&quot;:{&quot;INSERTION_TIME&quot;:&quot;1705326548000012&quot;,&quot;OPTIMIZE_TARGET_SIZE&quot;:&quot;268435456&quot;}}}\n{&quot;add&quot;:{&quot;path&quot;:&quot;vendor_name=DDS/part-00004-bf14f4dd-5341-4b12-983d-34ca51240ed8.c000.snappy.parquet&quot;,&quot;partitionValues&quot;:{&quot;vendor_name&quot;:&quot;DDS&quot;},&quot;size&quot;:90597,&quot;modificationTime&quot;:1705326551000,&quot;dataChange&quot;:true,&quot;stats&quot;:&quot;{\\&quot;numRecords\\&quot;:1661,\\&quot;minValues\\&quot;:{\\&quot;Trip_Pickup_DateTime\\&quot;:\\&quot;2009-01-01T01:29:31.000Z\\&quot;,\\&quot;Trip_Dropoff_DateTime\\&quot;:\\&quot;2009-01-01T01:43:29.000Z\\&quot;,\\&quot;Passenger_Count\\&quot;:0,\\&quot;Trip_Distance\\&quot;:0.0,\\&quot;Start_Lon\\&quot;:-74.557719,\\&quot;Start_Lat\\&quot;:40.301874,\\&quot;End_Lon\\&quot;:-74.177184,\\&quot;End_Lat\\&quot;:40.577474,\\&quot;Payment_Type\\&quot;:\\&quot;CASH\\&quot;,\\&quot;Fare_Amt\\&quot;:2.5,\\&quot;surcharge\\&quot;:0.0,\\&quot;Tip_Amt\\&quot;:0.0,\\&quot;Tolls_Amt\\&quot;:0.0,\\&quot;Total_Amt\\&quot;:2.5},\\&quot;maxValues\\&quot;:{\\&quot;Trip_Pickup_DateTime\\&quot;:\\&quot;2009-01-31T23:33:26.000Z\\&quot;,\\&quot;Trip_Dropoff_DateTime\\&quot;:\\&quot;2009-01-31T23:50:35.000Z\\&quot;,\\&quot;Passenger_Count\\&quot;:6,\\&quot;Trip_Distance\\&quot;:42.8,\\&quot;Start_Lon\\&quot;:-73.137393,\\&quot;Start_Lat\\&quot;:41.366138,\\&quot;End_Lon\\&quot;:-73.137393,\\&quot;End_Lat\\&quot;:41.366138,\\&quot;Payment_Type\\&quot;:\\&quot;CREDIT\\&quot;,\\&quot;Fare_Amt\\&quot;:53.5,\\&quot;surcharge\\&quot;:1.0,\\&quot;Tip_Amt\\&quot;:11.25,\\&quot;Tolls_Amt\\&quot;:8.3,\\&quot;Total_Amt\\&quot;:72.2},\\&quot;nullCount\\&quot;:{\\&quot;Trip_Pickup_DateTime\\&quot;:0,\\&quot;Trip_Dropoff_DateTime\\&quot;:0,\\&quot;Passenger_Count\\&quot;:0,\\&quot;Trip_Distance\\&quot;:0,\\&quot;Start_Lon\\&quot;:0,\\&quot;Start_Lat\\&quot;:0,\\&quot;Rate_Code\\&quot;:1661,\\&quot;store_and_forward\\&quot;:1661,\\&quot;End_Lon\\&quot;:0,\\&quot;End_Lat\\&quot;:0,\\&quot;Payment_Type\\&quot;:0,\\&quot;Fare_Amt\\&quot;:0,\\&quot;surcharge\\&quot;:0,\\&quot;mta_tax\\&quot;:1661,\\&quot;Tip_Amt\\&quot;:0,\\&quot;Tolls_Amt\\&quot;:0,\\&quot;Total_Amt\\&quot;:0}}&quot;,&quot;tags&quot;:{&quot;INSERTION_TIME&quot;:&quot;1705326548000013&quot;,&quot;OPTIMIZE_TARGET_SIZE&quot;:&quot;268435456&quot;}}}\n{&quot;add&quot;:{&quot;path&quot;:&quot;vendor_name=VTS/part-00004-fdbca0f8-83f0-4be9-adc5-cad115810313.c000.snappy.parquet&quot;,&quot;partitionValues&quot;:{&quot;vendor_name&quot;:&quot;VTS&quot;},&quot;size&quot;:684311,&quot;modificationTime&quot;:1705326552000,&quot;dataChange&quot;:true,&quot;stats&quot;:&quot;{\\&quot;numRecords\\&quot;:13652,\\&quot;minValues\\&quot;:{\\&quot;Trip_Pickup_DateTime\\&quot;:\\&quot;2009-01-01T10:07:00.000Z\\&quot;,\\&quot;Trip_Dropoff_DateTime\\&quot;:\\&quot;2009-01-01T10:15:00.000Z\\&quot;,\\&quot;Passenger_Count\\&quot;:1,\\&quot;Trip_Distance\\&quot;:0.0,\\&quot;Start_Lon\\&quot;:-75.102673,\\&quot;Start_Lat\\&quot;:0.0,\\&quot;End_Lon\\&quot;:-75.085738,\\&quot;End_Lat\\&quot;:0.0,\\&quot;Payment_Type\\&quot;:\\&quot;CASH\\&quot;,\\&quot;Fare_Amt\\&quot;:2.5,\\&quot;surcharge\\&quot;:0.0,\\&quot;Tip_Amt\\&quot;:0.0,\\&quot;Tolls_Amt\\&quot;:0.0,\\&quot;Total_Amt\\&quot;:2.5},\\&quot;maxValues\\&quot;:{\\&quot;Trip_Pickup_DateTime\\&quot;:\\&quot;2009-01-31T23:59:00.000Z\\&quot;,\\&quot;Trip_Dropoff_DateTime\\&quot;:\\&quot;2009-02-01T05:10:00.000Z\\&quot;,\\&quot;Passenger_Count\\&quot;:6,\\&quot;Trip_Distance\\&quot;:28.21,\\&quot;Start_Lon\\&quot;:0.0,\\&quot;Start_Lat\\&quot;:42.07957,\\&quot;End_Lon\\&quot;:0.0,\\&quot;End_Lat\\&quot;:42.08057,\\&quot;Payment_Type\\&quot;:\\&quot;Credit\\&quot;,\\&quot;Fare_Amt\\&quot;:150.0,\\&quot;surcharge\\&quot;:1.0,\\&quot;Tip_Amt\\&quot;:57.0,\\&quot;Tolls_Amt\\&quot;:12.45,\\&quot;Total_Amt\\&quot;:165.0},\\&quot;nullCount\\&quot;:{\\&quot;Trip_Pickup_DateTime\\&quot;:0,\\&quot;Trip_Dropoff_DateTime\\&quot;:0,\\&quot;Passenger_Count\\&quot;:0,\\&quot;Trip_Distance\\&quot;:0,\\&quot;Start_Lon\\&quot;:0,\\&quot;Start_Lat\\&quot;:0,\\&quot;Rate_Code\\&quot;:13652,\\&quot;store_and_forward\\&quot;:13652,\\&quot;End_Lon\\&quot;:0,\\&quot;End_Lat\\&quot;:0,\\&quot;Payment_Type\\&quot;:0,\\&quot;Fare_Amt\\&quot;:0,\\&quot;surcharge\\&quot;:0,\\&quot;mta_tax\\&quot;:13652,\\&quot;Tip_Amt\\&quot;:0,\\&quot;Tolls_Amt\\&quot;:0,\\&quot;Total_Amt\\&quot;:0}}&quot;,&quot;tags&quot;:{&quot;INSERTION_TIME&quot;:&quot;1705326548000014&quot;,&quot;OPTIMIZE_TARGET_SIZE&quot;:&quot;268435456&quot;}}}\n{&quot;add&quot;:{&quot;path&quot;:&quot;vendor_name=CMT/part-00005-d6018e79-2c75-481d-ad3e-7e6ba150fef6.c000.snappy.parquet&quot;,&quot;partitionValues&quot;:{&quot;vendor_name&quot;:&quot;CMT&quot;},&quot;size&quot;:659253,&quot;modificationTime&quot;:1705326551000,&quot;dataChange&quot;:true,&quot;stats&quot;:&quot;{\\&quot;numRecords\\&quot;:12743,\\&quot;minValues\\&quot;:{\\&quot;Trip_Pickup_DateTime\\&quot;:\\&quot;2009-01-01T00:05:06.000Z\\&quot;,\\&quot;Trip_Dropoff_DateTime\\&quot;:\\&quot;2009-01-01T00:11:01.000Z\\&quot;,\\&quot;Passenger_Count\\&quot;:1,\\&quot;Trip_Distance\\&quot;:0.0,\\&quot;Start_Lon\\&quot;:-74.690401,\\&quot;Start_Lat\\&quot;:0.0,\\&quot;End_Lon\\&quot;:-74.690472,\\&quot;End_Lat\\&quot;:0.0,\\&quot;Payment_Type\\&quot;:\\&quot;Cash\\&quot;,\\&quot;Fare_Amt\\&quot;:2.5,\\&quot;surcharge\\&quot;:0.0,\\&quot;Tip_Amt\\&quot;:0.0,\\&quot;Tolls_Amt\\&quot;:0.0,\\&quot;Total_Amt\\&quot;:2.5},\\&quot;maxValues\\&quot;:{\\&quot;Trip_Pickup_DateTime\\&quot;:\\&quot;2009-01-31T23:58:56.000Z\\&quot;,\\&quot;Trip_Dropoff_DateTime\\&quot;:\\&quot;2009-02-01T00:27:01.000Z\\&quot;,\\&quot;Passenger_Count\\&quot;:5,\\&quot;Trip_Distance\\&quot;:41.5,\\&quot;Start_Lon\\&quot;:0.0,\\&quot;Start_Lat\\&quot;:45.035669,\\&quot;End_Lon\\&quot;:0.0,\\&quot;End_Lat\\&quot;:45.035608,\\&quot;Payment_Type\\&quot;:\\&quot;No Charge\\&quot;,\\&quot;Fare_Amt\\&quot;:185.0,\\&quot;surcharge\\&quot;:0.0,\\&quot;Tip_Amt\\&quot;:38.2,\\&quot;Tolls_Amt\\&quot;:13.0,\\&quot;Total_Amt\\&quot;:229.2},\\&quot;nullCount\\&quot;:{\\&quot;Trip_Pickup_DateTime\\&quot;:0,\\&quot;Trip_Dropoff_DateTime\\&quot;:0,\\&quot;Passenger_Count\\&quot;:0,\\&quot;Trip_Distance\\&quot;:0,\\&quot;Start_Lon\\&quot;:0,\\&quot;Start_Lat\\&quot;:0,\\&quot;Rate_Code\\&quot;:12743,\\&quot;store_and_forward\\&quot;:12743,\\&quot;End_Lon\\&quot;:0,\\&quot;End_Lat\\&quot;:0,\\&quot;Payment_Type\\&quot;:0,\\&quot;Fare_Amt\\&quot;:0,\\&quot;surcharge\\&quot;:0,\\&quot;mta_tax\\&quot;:12743,\\&quot;Tip_Amt\\&quot;:0,\\&quot;Tolls_Amt\\&quot;:0,\\&quot;Total_Amt\\&quot;:0}}&quot;,&quot;tags&quot;:{&quot;INSERTION_TIME&quot;:&quot;1705326548000015&quot;,&quot;OPTIMIZE_TARGET_SIZE&quot;:&quot;268435456&quot;}}}\n\n*** WARNING: skipped 16997 bytes of output ***\n\n{&quot;add&quot;:{&quot;path&quot;:&quot;vendor_name=DDS/part-00009-c5646a61-38c8-4546-a189-cd3ac2b67b58.c000.snappy.parquet&quot;,&quot;partitionValues&quot;:{&quot;vendor_name&quot;:&quot;DDS&quot;},&quot;size&quot;:94288,&quot;modificationTime&quot;:1705326552000,&quot;dataChange&quot;:true,&quot;stats&quot;:&quot;{\\&quot;numRecords\\&quot;:1739,\\&quot;minValues\\&quot;:{\\&quot;Trip_Pickup_DateTime\\&quot;:\\&quot;2009-01-01T00:21:21.000Z\\&quot;,\\&quot;Trip_Dropoff_DateTime\\&quot;:\\&quot;2009-01-01T00:24:25.000Z\\&quot;,\\&quot;Passenger_Count\\&quot;:0,\\&quot;Trip_Distance\\&quot;:0.0,\\&quot;Start_Lon\\&quot;:-74.518609,\\&quot;Start_Lat\\&quot;:40.639252,\\&quot;End_Lon\\&quot;:-74.518609,\\&quot;End_Lat\\&quot;:40.619861,\\&quot;Payment_Type\\&quot;:\\&quot;CASH\\&quot;,\\&quot;Fare_Amt\\&quot;:2.5,\\&quot;surcharge\\&quot;:0.0,\\&quot;Tip_Amt\\&quot;:0.0,\\&quot;Tolls_Amt\\&quot;:0.0,\\&quot;Total_Amt\\&quot;:2.5},\\&quot;maxValues\\&quot;:{\\&quot;Trip_Pickup_DateTime\\&quot;:\\&quot;2009-01-31T23:54:16.000Z\\&quot;,\\&quot;Trip_Dropoff_DateTime\\&quot;:\\&quot;2009-02-01T00:03:28.000Z\\&quot;,\\&quot;Passenger_Count\\&quot;:6,\\&quot;Trip_Distance\\&quot;:26.1,\\&quot;Start_Lon\\&quot;:-73.137393,\\&quot;Start_Lat\\&quot;:41.366138,\\&quot;End_Lon\\&quot;:-73.137393,\\&quot;End_Lat\\&quot;:41.366138,\\&quot;Payment_Type\\&quot;:\\&quot;CREDIT\\&quot;,\\&quot;Fare_Amt\\&quot;:75.0,\\&quot;surcharge\\&quot;:1.0,\\&quot;Tip_Amt\\&quot;:15.0,\\&quot;Tolls_Amt\\&quot;:8.3,\\&quot;Total_Amt\\&quot;:85.0},\\&quot;nullCount\\&quot;:{\\&quot;Trip_Pickup_DateTime\\&quot;:0,\\&quot;Trip_Dropoff_DateTime\\&quot;:0,\\&quot;Passenger_Count\\&quot;:0,\\&quot;Trip_Distance\\&quot;:0,\\&quot;Start_Lon\\&quot;:0,\\&quot;Start_Lat\\&quot;:0,\\&quot;Rate_Code\\&quot;:1739,\\&quot;store_and_forward\\&quot;:1739,\\&quot;End_Lon\\&quot;:0,\\&quot;End_Lat\\&quot;:0,\\&quot;Payment_Type\\&quot;:0,\\&quot;Fare_Amt\\&quot;:0,\\&quot;surcharge\\&quot;:0,\\&quot;mta_tax\\&quot;:1739,\\&quot;Tip_Amt\\&quot;:0,\\&quot;Tolls_Amt\\&quot;:0,\\&quot;Total_Amt\\&quot;:0}}&quot;,&quot;tags&quot;:{&quot;INSERTION_TIME&quot;:&quot;1705326548000028&quot;,&quot;OPTIMIZE_TARGET_SIZE&quot;:&quot;268435456&quot;}}}\n{&quot;add&quot;:{&quot;path&quot;:&quot;vendor_name=VTS/part-00009-2f5f60d0-d7c9-40b7-afa9-681ab2504ec2.c000.snappy.parquet&quot;,&quot;partitionValues&quot;:{&quot;vendor_name&quot;:&quot;VTS&quot;},&quot;size&quot;:665080,&quot;modificationTime&quot;:1705326552000,&quot;dataChange&quot;:true,&quot;stats&quot;:&quot;{\\&quot;numRecords\\&quot;:13655,\\&quot;minValues\\&quot;:{\\&quot;Trip_Pickup_DateTime\\&quot;:\\&quot;2009-01-01T09:58:00.000Z\\&quot;,\\&quot;Trip_Dropoff_DateTime\\&quot;:\\&quot;2009-01-01T10:03:00.000Z\\&quot;,\\&quot;Passenger_Count\\&quot;:1,\\&quot;Trip_Distance\\&quot;:0.0,\\&quot;Start_Lon\\&quot;:-75.211358,\\&quot;Start_Lat\\&quot;:0.0,\\&quot;End_Lon\\&quot;:-75.238745,\\&quot;End_Lat\\&quot;:0.0,\\&quot;Payment_Type\\&quot;:\\&quot;CASH\\&quot;,\\&quot;Fare_Amt\\&quot;:2.5,\\&quot;surcharge\\&quot;:0.0,\\&quot;Tip_Amt\\&quot;:0.0,\\&quot;Tolls_Amt\\&quot;:0.0,\\&quot;Total_Amt\\&quot;:2.5},\\&quot;maxValues\\&quot;:{\\&quot;Trip_Pickup_DateTime\\&quot;:\\&quot;2009-01-31T23:57:00.000Z\\&quot;,\\&quot;Trip_Dropoff_DateTime\\&quot;:\\&quot;2009-02-01T00:13:00.000Z\\&quot;,\\&quot;Passenger_Count\\&quot;:6,\\&quot;Trip_Distance\\&quot;:33.75,\\&quot;Start_Lon\\&quot;:0.0,\\&quot;Start_Lat\\&quot;:42.29382,\\&quot;End_Lon\\&quot;:0.0,\\&quot;End_Lat\\&quot;:42.31645,\\&quot;Payment_Type\\&quot;:\\&quot;Credit\\&quot;,\\&quot;Fare_Amt\\&quot;:90.3,\\&quot;surcharge\\&quot;:1.0,\\&quot;Tip_Amt\\&quot;:47.0,\\&quot;Tolls_Amt\\&quot;:16.0,\\&quot;Total_Amt\\&quot;:100.6},\\&quot;nullCount\\&quot;:{\\&quot;Trip_Pickup_DateTime\\&quot;:0,\\&quot;Trip_Dropoff_DateTime\\&quot;:0,\\&quot;Passenger_Count\\&quot;:0,\\&quot;Trip_Distance\\&quot;:0,\\&quot;Start_Lon\\&quot;:0,\\&quot;Start_Lat\\&quot;:0,\\&quot;Rate_Code\\&quot;:13655,\\&quot;store_and_forward\\&quot;:13655,\\&quot;End_Lon\\&quot;:0,\\&quot;End_Lat\\&quot;:0,\\&quot;Payment_Type\\&quot;:0,\\&quot;Fare_Amt\\&quot;:0,\\&quot;surcharge\\&quot;:0,\\&quot;mta_tax\\&quot;:13655,\\&quot;Tip_Amt\\&quot;:0,\\&quot;Tolls_Amt\\&quot;:0,\\&quot;Total_Amt\\&quot;:0}}&quot;,&quot;tags&quot;:{&quot;INSERTION_TIME&quot;:&quot;1705326548000029&quot;,&quot;OPTIMIZE_TARGET_SIZE&quot;:&quot;268435456&quot;}}}\n{&quot;add&quot;:{&quot;path&quot;:&quot;vendor_name=CMT/part-00010-4303a3c2-db98-4b7b-909b-3cdd5e804322.c000.snappy.parquet&quot;,&quot;partitionValues&quot;:{&quot;vendor_name&quot;:&quot;CMT&quot;},&quot;size&quot;:660986,&quot;modificationTime&quot;:1705326552000,&quot;dataChange&quot;:true,&quot;stats&quot;:&quot;{\\&quot;numRecords\\&quot;:12836,\\&quot;minValues\\&quot;:{\\&quot;Trip_Pickup_DateTime\\&quot;:\\&quot;2009-01-01T00:03:40.000Z\\&quot;,\\&quot;Trip_Dropoff_DateTime\\&quot;:\\&quot;2009-01-01T00:12:48.000Z\\&quot;,\\&quot;Passenger_Count\\&quot;:1,\\&quot;Trip_Distance\\&quot;:0.0,\\&quot;Start_Lon\\&quot;:-75.162239,\\&quot;Start_Lat\\&quot;:0.0,\\&quot;store_and_forward\\&quot;:0,\\&quot;End_Lon\\&quot;:-74.183384,\\&quot;End_Lat\\&quot;:0.0,\\&quot;Payment_Type\\&quot;:\\&quot;Cash\\&quot;,\\&quot;Fare_Amt\\&quot;:2.5,\\&quot;surcharge\\&quot;:0.0,\\&quot;Tip_Amt\\&quot;:0.0,\\&quot;Tolls_Amt\\&quot;:0.0,\\&quot;Total_Amt\\&quot;:2.5},\\&quot;maxValues\\&quot;:{\\&quot;Trip_Pickup_DateTime\\&quot;:\\&quot;2009-01-31T23:57:40.000Z\\&quot;,\\&quot;Trip_Dropoff_DateTime\\&quot;:\\&quot;2009-02-01T00:13:25.000Z\\&quot;,\\&quot;Passenger_Count\\&quot;:5,\\&quot;Trip_Distance\\&quot;:35.8,\\&quot;Start_Lon\\&quot;:0.0,\\&quot;Start_Lat\\&quot;:40.976882,\\&quot;store_and_forward\\&quot;:0,\\&quot;End_Lon\\&quot;:0.0,\\&quot;End_Lat\\&quot;:41.033528,\\&quot;Payment_Type\\&quot;:\\&quot;No Charge\\&quot;,\\&quot;Fare_Amt\\&quot;:120.0,\\&quot;surcharge\\&quot;:0.0,\\&quot;Tip_Amt\\&quot;:23.0,\\&quot;Tolls_Amt\\&quot;:18.3,\\&quot;Total_Amt\\&quot;:130.32},\\&quot;nullCount\\&quot;:{\\&quot;Trip_Pickup_DateTime\\&quot;:0,\\&quot;Trip_Dropoff_DateTime\\&quot;:0,\\&quot;Passenger_Count\\&quot;:0,\\&quot;Trip_Distance\\&quot;:0,\\&quot;Start_Lon\\&quot;:0,\\&quot;Start_Lat\\&quot;:0,\\&quot;Rate_Code\\&quot;:12836,\\&quot;store_and_forward\\&quot;:12834,\\&quot;End_Lon\\&quot;:0,\\&quot;End_Lat\\&quot;:0,\\&quot;Payment_Type\\&quot;:0,\\&quot;Fare_Amt\\&quot;:0,\\&quot;surcharge\\&quot;:0,\\&quot;mta_tax\\&quot;:12836,\\&quot;Tip_Amt\\&quot;:0,\\&quot;Tolls_Amt\\&quot;:0,\\&quot;Total_Amt\\&quot;:0}}&quot;,&quot;tags&quot;:{&quot;INSERTION_TIME&quot;:&quot;1705326548000030&quot;,&quot;OPTIMIZE_TARGET_SIZE&quot;:&quot;268435456&quot;}}}\n{&quot;add&quot;:{&quot;path&quot;:&quot;vendor_name=DDS/part-00010-1ee1e6e0-1957-49b2-9d0d-7c5e3a493cbd.c000.snappy.parquet&quot;,&quot;partitionValues&quot;:{&quot;vendor_name&quot;:&quot;DDS&quot;},&quot;size&quot;:94129,&quot;modificationTime&quot;:1705326553000,&quot;dataChange&quot;:true,&quot;stats&quot;:&quot;{\\&quot;numRecords\\&quot;:1736,\\&quot;minValues\\&quot;:{\\&quot;Trip_Pickup_DateTime\\&quot;:\\&quot;2009-01-01T00:17:20.000Z\\&quot;,\\&quot;Trip_Dropoff_DateTime\\&quot;:\\&quot;2009-01-01T00:22:21.000Z\\&quot;,\\&quot;Passenger_Count\\&quot;:0,\\&quot;Trip_Distance\\&quot;:0.0,\\&quot;Start_Lon\\&quot;:-74.036686,\\&quot;Start_Lat\\&quot;:40.452661,\\&quot;End_Lon\\&quot;:-74.178534,\\&quot;End_Lat\\&quot;:40.594712,\\&quot;Payment_Type\\&quot;:\\&quot;CASH\\&quot;,\\&quot;Fare_Amt\\&quot;:2.5,\\&quot;surcharge\\&quot;:0.0,\\&quot;Tip_Amt\\&quot;:0.0,\\&quot;Tolls_Amt\\&quot;:0.0,\\&quot;Total_Amt\\&quot;:2.5},\\&quot;maxValues\\&quot;:{\\&quot;Trip_Pickup_DateTime\\&quot;:\\&quot;2009-01-31T23:08:37.000Z\\&quot;,\\&quot;Trip_Dropoff_DateTime\\&quot;:\\&quot;2009-01-31T23:18:22.000Z\\&quot;,\\&quot;Passenger_Count\\&quot;:5,\\&quot;Trip_Distance\\&quot;:35.8,\\&quot;Start_Lon\\&quot;:-73.137393,\\&quot;Start_Lat\\&quot;:41.366138,\\&quot;End_Lon\\&quot;:-73.137393,\\&quot;End_Lat\\&quot;:41.366138,\\&quot;Payment_Type\\&quot;:\\&quot;CREDIT\\&quot;,\\&quot;Fare_Amt\\&quot;:79.7,\\&quot;surcharge\\&quot;:1.0,\\&quot;Tip_Amt\\&quot;:60.0,\\&quot;Tolls_Amt\\&quot;:8.0,\\&quot;Total_Amt\\&quot;:80.7},\\&quot;nullCount\\&quot;:{\\&quot;Trip_Pickup_DateTime\\&quot;:0,\\&quot;Trip_Dropoff_DateTime\\&quot;:0,\\&quot;Passenger_Count\\&quot;:0,\\&quot;Trip_Distance\\&quot;:0,\\&quot;Start_Lon\\&quot;:0,\\&quot;Start_Lat\\&quot;:0,\\&quot;Rate_Code\\&quot;:1736,\\&quot;store_and_forward\\&quot;:1736,\\&quot;End_Lon\\&quot;:0,\\&quot;End_Lat\\&quot;:0,\\&quot;Payment_Type\\&quot;:0,\\&quot;Fare_Amt\\&quot;:0,\\&quot;surcharge\\&quot;:0,\\&quot;mta_tax\\&quot;:1736,\\&quot;Tip_Amt\\&quot;:0,\\&quot;Tolls_Amt\\&quot;:0,\\&quot;Total_Amt\\&quot;:0}}&quot;,&quot;tags&quot;:{&quot;INSERTION_TIME&quot;:&quot;1705326548000031&quot;,&quot;OPTIMIZE_TARGET_SIZE&quot;:&quot;268435456&quot;}}}\n{&quot;add&quot;:{&quot;path&quot;:&quot;vendor_name=VTS/part-00010-497734f4-6181-43a4-a0c8-cd032e8b5d5e.c000.snappy.parquet&quot;,&quot;partitionValues&quot;:{&quot;vendor_name&quot;:&quot;VTS&quot;},&quot;size&quot;:672633,&quot;modificationTime&quot;:1705326553000,&quot;dataChange&quot;:true,&quot;stats&quot;:&quot;{\\&quot;numRecords\\&quot;:13613,\\&quot;minValues\\&quot;:{\\&quot;Trip_Pickup_DateTime\\&quot;:\\&quot;2009-01-01T10:02:00.000Z\\&quot;,\\&quot;Trip_Dropoff_DateTime\\&quot;:\\&quot;2009-01-01T10:09:00.000Z\\&quot;,\\&quot;Passenger_Count\\&quot;:1,\\&quot;Trip_Distance\\&quot;:0.0,\\&quot;Start_Lon\\&quot;:-75.954268,\\&quot;Start_Lat\\&quot;:-0.0177,\\&quot;End_Lon\\&quot;:-75.958612,\\&quot;End_Lat\\&quot;:-0.01931,\\&quot;Payment_Type\\&quot;:\\&quot;CASH\\&quot;,\\&quot;Fare_Amt\\&quot;:2.5,\\&quot;surcharge\\&quot;:0.0,\\&quot;Tip_Amt\\&quot;:0.0,\\&quot;Tolls_Amt\\&quot;:0.0,\\&quot;Total_Amt\\&quot;:2.5},\\&quot;maxValues\\&quot;:{\\&quot;Trip_Pickup_DateTime\\&quot;:\\&quot;2009-01-31T23:59:00.000Z\\&quot;,\\&quot;Trip_Dropoff_DateTime\\&quot;:\\&quot;2009-02-01T10:32:00.000Z\\&quot;,\\&quot;Passenger_Count\\&quot;:6,\\&quot;Trip_Distance\\&quot;:42.8,\\&quot;Start_Lon\\&quot;:0.00242,\\&quot;Start_Lat\\&quot;:41.031372,\\&quot;End_Lon\\&quot;:0.00321,\\&quot;End_Lat\\&quot;:41.099868,\\&quot;Payment_Type\\&quot;:\\&quot;Credit\\&quot;,\\&quot;Fare_Amt\\&quot;:144.1,\\&quot;surcharge\\&quot;:1.0,\\&quot;Tip_Amt\\&quot;:67.34,\\&quot;Tolls_Amt\\&quot;:16.6,\\&quot;Total_Amt\\&quot;:163.75},\\&quot;nullCount\\&quot;:{\\&quot;Trip_Pickup_DateTime\\&quot;:0,\\&quot;Trip_Dropoff_DateTime\\&quot;:0,\\&quot;Passenger_Count\\&quot;:0,\\&quot;Trip_Distance\\&quot;:0,\\&quot;Start_Lon\\&quot;:0,\\&quot;Start_Lat\\&quot;:0,\\&quot;Rate_Code\\&quot;:13613,\\&quot;store_and_forward\\&quot;:13613,\\&quot;End_Lon\\&quot;:0,\\&quot;End_Lat\\&quot;:0,\\&quot;Payment_Type\\&quot;:0,\\&quot;Fare_Amt\\&quot;:0,\\&quot;surcharge\\&quot;:0,\\&quot;mta_tax\\&quot;:13613,\\&quot;Tip_Amt\\&quot;:0,\\&quot;Tolls_Amt\\&quot;:0,\\&quot;Total_Amt\\&quot;:0}}&quot;,&quot;tags&quot;:{&quot;INSERTION_TIME&quot;:&quot;1705326548000032&quot;,&quot;OPTIMIZE_TARGET_SIZE&quot;:&quot;268435456&quot;}}}\n{&quot;add&quot;:{&quot;path&quot;:&quot;vendor_name=CMT/part-00011-245a45a1-af36-489b-865f-d17ab08e0cf9.c000.snappy.parquet&quot;,&quot;partitionValues&quot;:{&quot;vendor_name&quot;:&quot;CMT&quot;},&quot;size&quot;:658731,&quot;modificationTime&quot;:1705326552000,&quot;dataChange&quot;:true,&quot;stats&quot;:&quot;{\\&quot;numRecords\\&quot;:12791,\\&quot;minValues\\&quot;:{\\&quot;Trip_Pickup_DateTime\\&quot;:\\&quot;2009-01-01T00:00:37.000Z\\&quot;,\\&quot;Trip_Dropoff_DateTime\\&quot;:\\&quot;2009-01-01T00:07:31.000Z\\&quot;,\\&quot;Passenger_Count\\&quot;:1,\\&quot;Trip_Distance\\&quot;:0.0,\\&quot;Start_Lon\\&quot;:-74.732935,\\&quot;Start_Lat\\&quot;:0.0,\\&quot;store_and_forward\\&quot;:0,\\&quot;End_Lon\\&quot;:-74.731494,\\&quot;End_Lat\\&quot;:0.0,\\&quot;Payment_Type\\&quot;:\\&quot;Cash\\&quot;,\\&quot;Fare_Amt\\&quot;:2.5,\\&quot;surcharge\\&quot;:0.0,\\&quot;Tip_Amt\\&quot;:0.0,\\&quot;Tolls_Amt\\&quot;:0.0,\\&quot;Total_Amt\\&quot;:2.5},\\&quot;maxValues\\&quot;:{\\&quot;Trip_Pickup_DateTime\\&quot;:\\&quot;2009-01-31T23:59:55.000Z\\&quot;,\\&quot;Trip_Dropoff_DateTime\\&quot;:\\&quot;2009-02-01T00:25:37.000Z\\&quot;,\\&quot;Passenger_Count\\&quot;:5,\\&quot;Trip_Distance\\&quot;:27.2,\\&quot;Start_Lon\\&quot;:0.0,\\&quot;Start_Lat\\&quot;:45.066038,\\&quot;store_and_forward\\&quot;:0,\\&quot;End_Lon\\&quot;:0.0,\\&quot;End_Lat\\&quot;:45.066119,\\&quot;Payment_Type\\&quot;:\\&quot;No Charge\\&quot;,\\&quot;Fare_Amt\\&quot;:120.0,\\&quot;surcharge\\&quot;:0.0,\\&quot;Tip_Amt\\&quot;:51.55,\\&quot;Tolls_Amt\\&quot;:15.0,\\&quot;Total_Amt\\&quot;:124.15},\\&quot;nullCount\\&quot;:{\\&quot;Trip_Pickup_DateTime\\&quot;:0,\\&quot;Trip_Dropoff_DateTime\\&quot;:0,\\&quot;Passenger_Count\\&quot;:0,\\&quot;Trip_Distance\\&quot;:0,\\&quot;Start_Lon\\&quot;:0,\\&quot;Start_Lat\\&quot;:0,\\&quot;Rate_Code\\&quot;:12791,\\&quot;store_and_forward\\&quot;:12788,\\&quot;End_Lon\\&quot;:0,\\&quot;End_Lat\\&quot;:0,\\&quot;Payment_Type\\&quot;:0,\\&quot;Fare_Amt\\&quot;:0,\\&quot;surcharge\\&quot;:0,\\&quot;mta_tax\\&quot;:12791,\\&quot;Tip_Amt\\&quot;:0,\\&quot;Tolls_Amt\\&quot;:0,\\&quot;Total_Amt\\&quot;:0}}&quot;,&quot;tags&quot;:{&quot;INSERTION_TIME&quot;:&quot;1705326548000033&quot;,&quot;OPTIMIZE_TARGET_SIZE&quot;:&quot;268435456&quot;}}}\n{&quot;add&quot;:{&quot;path&quot;:&quot;vendor_name=DDS/part-00011-381565ad-5cc0-406e-9884-2cbe48fd2ad3.c000.snappy.parquet&quot;,&quot;partitionValues&quot;:{&quot;vendor_name&quot;:&quot;DDS&quot;},&quot;size&quot;:94227,&quot;modificationTime&quot;:1705326552000,&quot;dataChange&quot;:true,&quot;stats&quot;:&quot;{\\&quot;numRecords\\&quot;:1748,\\&quot;minValues\\&quot;:{\\&quot;Trip_Pickup_DateTime\\&quot;:\\&quot;2009-01-01T00:13:26.000Z\\&quot;,\\&quot;Trip_Dropoff_DateTime\\&quot;:\\&quot;2009-01-01T00:23:18.000Z\\&quot;,\\&quot;Passenger_Count\\&quot;:0,\\&quot;Trip_Distance\\&quot;:0.0,\\&quot;Start_Lon\\&quot;:-74.246616,\\&quot;Start_Lat\\&quot;:40.363312,\\&quot;End_Lon\\&quot;:-74.180311,\\&quot;End_Lat\\&quot;:40.581779,\\&quot;Payment_Type\\&quot;:\\&quot;CASH\\&quot;,\\&quot;Fare_Amt\\&quot;:2.5,\\&quot;surcharge\\&quot;:0.0,\\&quot;Tip_Amt\\&quot;:0.0,\\&quot;Tolls_Amt\\&quot;:0.0,\\&quot;Total_Amt\\&quot;:2.5},\\&quot;maxValues\\&quot;:{\\&quot;Trip_Pickup_DateTime\\&quot;:\\&quot;2009-01-31T23:39:46.000Z\\&quot;,\\&quot;Trip_Dropoff_DateTime\\&quot;:\\&quot;2009-01-31T23:49:27.000Z\\&quot;,\\&quot;Passenger_Count\\&quot;:4,\\&quot;Trip_Distance\\&quot;:33.0,\\&quot;Start_Lon\\&quot;:-73.137393,\\&quot;Start_Lat\\&quot;:41.366138,\\&quot;End_Lon\\&quot;:-73.137393,\\&quot;End_Lat\\&quot;:41.366138,\\&quot;Payment_Type\\&quot;:\\&quot;CREDIT\\&quot;,\\&quot;Fare_Amt\\&quot;:164.0,\\&quot;surcharge\\&quot;:1.0,\\&quot;Tip_Amt\\&quot;:32.8,\\&quot;Tolls_Amt\\&quot;:5.0,\\&quot;Total_Amt\\&quot;:196.8},\\&quot;nullCount\\&quot;:{\\&quot;Trip_Pickup_DateTime\\&quot;:0,\\&quot;Trip_Dropoff_DateTime\\&quot;:0,\\&quot;Passenger_Count\\&quot;:0,\\&quot;Trip_Distance\\&quot;:0,\\&quot;Start_Lon\\&quot;:0,\\&quot;Start_Lat\\&quot;:0,\\&quot;Rate_Code\\&quot;:1748,\\&quot;store_and_forward\\&quot;:1748,\\&quot;End_Lon\\&quot;:0,\\&quot;End_Lat\\&quot;:0,\\&quot;Payment_Type\\&quot;:0,\\&quot;Fare_Amt\\&quot;:0,\\&quot;surcharge\\&quot;:0,\\&quot;mta_tax\\&quot;:1748,\\&quot;Tip_Amt\\&quot;:0,\\&quot;Tolls_Amt\\&quot;:0,\\&quot;Total_Amt\\&quot;:0}}&quot;,&quot;tags&quot;:{&quot;INSERTION_TIME&quot;:&quot;1705326548000034&quot;,&quot;OPTIMIZE_TARGET_SIZE&quot;:&quot;268435456&quot;}}}\n{&quot;add&quot;:{&quot;path&quot;:&quot;vendor_name=VTS/part-00011-16775806-6a4d-427e-9dbd-e5090cf5739d.c000.snappy.parquet&quot;,&quot;partitionValues&quot;:{&quot;vendor_name&quot;:&quot;VTS&quot;},&quot;size&quot;:673315,&quot;modificationTime&quot;:1705326552000,&quot;dataChange&quot;:true,&quot;stats&quot;:&quot;{\\&quot;numRecords\\&quot;:13646,\\&quot;minValues\\&quot;:{\\&quot;Trip_Pickup_DateTime\\&quot;:\\&quot;2009-01-01T09:57:00.000Z\\&quot;,\\&quot;Trip_Dropoff_DateTime\\&quot;:\\&quot;2009-01-01T10:00:00.000Z\\&quot;,\\&quot;Passenger_Count\\&quot;:1,\\&quot;Trip_Distance\\&quot;:0.0,\\&quot;Start_Lon\\&quot;:-75.133413,\\&quot;Start_Lat\\&quot;:0.0,\\&quot;End_Lon\\&quot;:-74.991725,\\&quot;End_Lat\\&quot;:0.0,\\&quot;Payment_Type\\&quot;:\\&quot;CASH\\&quot;,\\&quot;Fare_Amt\\&quot;:2.5,\\&quot;surcharge\\&quot;:0.0,\\&quot;Tip_Amt\\&quot;:0.0,\\&quot;Tolls_Amt\\&quot;:0.0,\\&quot;Total_Amt\\&quot;:2.5},\\&quot;maxValues\\&quot;:{\\&quot;Trip_Pickup_DateTime\\&quot;:\\&quot;2009-01-31T23:59:00.000Z\\&quot;,\\&quot;Trip_Dropoff_DateTime\\&quot;:\\&quot;2009-02-01T10:10:00.000Z\\&quot;,\\&quot;Passenger_Count\\&quot;:6,\\&quot;Trip_Distance\\&quot;:46.05,\\&quot;Start_Lon\\&quot;:0.0,\\&quot;Start_Lat\\&quot;:41.255595,\\&quot;End_Lon\\&quot;:0.0,\\&quot;End_Lat\\&quot;:41.226317,\\&quot;Payment_Type\\&quot;:\\&quot;Credit\\&quot;,\\&quot;Fare_Amt\\&quot;:157.7,\\&quot;surcharge\\&quot;:1.0,\\&quot;Tip_Amt\\&quot;:50.0,\\&quot;Tolls_Amt\\&quot;:12.45,\\&quot;Total_Amt\\&quot;:157.7},\\&quot;nullCount\\&quot;:{\\&quot;Trip_Pickup_DateTime\\&quot;:0,\\&quot;Trip_Dropoff_DateTime\\&quot;:0,\\&quot;Passenger_Count\\&quot;:0,\\&quot;Trip_Distance\\&quot;:0,\\&quot;Start_Lon\\&quot;:0,\\&quot;Start_Lat\\&quot;:0,\\&quot;Rate_Code\\&quot;:13646,\\&quot;store_and_forward\\&quot;:13646,\\&quot;End_Lon\\&quot;:0,\\&quot;End_Lat\\&quot;:0,\\&quot;Payment_Type\\&quot;:0,\\&quot;Fare_Amt\\&quot;:0,\\&quot;surcharge\\&quot;:0,\\&quot;mta_tax\\&quot;:13646,\\&quot;Tip_Amt\\&quot;:0,\\&quot;Tolls_Amt\\&quot;:0,\\&quot;Total_Amt\\&quot;:0}}&quot;,&quot;tags&quot;:{&quot;INSERTION_TIME&quot;:&quot;1705326548000035&quot;,&quot;OPTIMIZE_TARGET_SIZE&quot;:&quot;268435456&quot;}}}\n{&quot;add&quot;:{&quot;path&quot;:&quot;vendor_name=CMT/part-00012-8990eecd-ebe6-470c-9aba-f46eec5f9e5b.c000.snappy.parquet&quot;,&quot;partitionValues&quot;:{&quot;vendor_name&quot;:&quot;CMT&quot;},&quot;size&quot;:656238,&quot;modificationTime&quot;:1705326553000,&quot;dataChange&quot;:true,&quot;stats&quot;:&quot;{\\&quot;numRecords\\&quot;:12819,\\&quot;minValues\\&quot;:{\\&quot;Trip_Pickup_DateTime\\&quot;:\\&quot;2009-01-01T00:11:58.000Z\\&quot;,\\&quot;Trip_Dropoff_DateTime\\&quot;:\\&quot;2009-01-01T00:19:32.000Z\\&quot;,\\&quot;Passenger_Count\\&quot;:1,\\&quot;Trip_Distance\\&quot;:0.0,\\&quot;Start_Lon\\&quot;:-74.707724,\\&quot;Start_Lat\\&quot;:0.0,\\&quot;store_and_forward\\&quot;:0,\\&quot;End_Lon\\&quot;:-74.707713,\\&quot;End_Lat\\&quot;:0.0,\\&quot;Payment_Type\\&quot;:\\&quot;Cash\\&quot;,\\&quot;Fare_Amt\\&quot;:2.5,\\&quot;surcharge\\&quot;:0.0,\\&quot;Tip_Amt\\&quot;:0.0,\\&quot;Tolls_Amt\\&quot;:0.0,\\&quot;Total_Amt\\&quot;:2.5},\\&quot;maxValues\\&quot;:{\\&quot;Trip_Pickup_DateTime\\&quot;:\\&quot;2009-01-31T23:55:42.000Z\\&quot;,\\&quot;Trip_Dropoff_DateTime\\&quot;:\\&quot;2009-02-01T00:04:46.000Z\\&quot;,\\&quot;Passenger_Count\\&quot;:5,\\&quot;Trip_Distance\\&quot;:37.4,\\&quot;Start_Lon\\&quot;:0.0,\\&quot;Start_Lat\\&quot;:45.067803,\\&quot;store_and_forward\\&quot;:0,\\&quot;End_Lon\\&quot;:0.0,\\&quot;End_Lat\\&quot;:45.068271,\\&quot;Payment_Type\\&quot;:\\&quot;No Charge\\&quot;,\\&quot;Fare_Amt\\&quot;:130.0,\\&quot;surcharge\\&quot;:0.0,\\&quot;Tip_Amt\\&quot;:40.0,\\&quot;Tolls_Amt\\&quot;:18.0,\\&quot;Total_Amt\\&quot;:130.0},\\&quot;nullCount\\&quot;:{\\&quot;Trip_Pickup_DateTime\\&quot;:0,\\&quot;Trip_Dropoff_DateTime\\&quot;:0,\\&quot;Passenger_Count\\&quot;:0,\\&quot;Trip_Distance\\&quot;:0,\\&quot;Start_Lon\\&quot;:0,\\&quot;Start_Lat\\&quot;:0,\\&quot;Rate_Code\\&quot;:12819,\\&quot;store_and_forward\\&quot;:12815,\\&quot;End_Lon\\&quot;:0,\\&quot;End_Lat\\&quot;:0,\\&quot;Payment_Type\\&quot;:0,\\&quot;Fare_Amt\\&quot;:0,\\&quot;surcharge\\&quot;:0,\\&quot;mta_tax\\&quot;:12819,\\&quot;Tip_Amt\\&quot;:0,\\&quot;Tolls_Amt\\&quot;:0,\\&quot;Total_Amt\\&quot;:0}}&quot;,&quot;tags&quot;:{&quot;INSERTION_TIME&quot;:&quot;1705326548000036&quot;,&quot;OPTIMIZE_TARGET_SIZE&quot;:&quot;268435456&quot;}}}\n{&quot;add&quot;:{&quot;path&quot;:&quot;vendor_name=DDS/part-00012-558554e5-b743-4e70-a8b5-0dc6489717f2.c000.snappy.parquet&quot;,&quot;partitionValues&quot;:{&quot;vendor_name&quot;:&quot;DDS&quot;},&quot;size&quot;:93739,&quot;modificationTime&quot;:1705326553000,&quot;dataChange&quot;:true,&quot;stats&quot;:&quot;{\\&quot;numRecords\\&quot;:1739,\\&quot;minValues\\&quot;:{\\&quot;Trip_Pickup_DateTime\\&quot;:\\&quot;2009-01-01T00:17:32.000Z\\&quot;,\\&quot;Trip_Dropoff_DateTime\\&quot;:\\&quot;2009-01-01T00:24:11.000Z\\&quot;,\\&quot;Passenger_Count\\&quot;:0,\\&quot;Trip_Distance\\&quot;:0.0,\\&quot;Start_Lon\\&quot;:-74.064023,\\&quot;Start_Lat\\&quot;:40.238427,\\&quot;End_Lon\\&quot;:-74.064023,\\&quot;End_Lat\\&quot;:40.238427,\\&quot;Payment_Type\\&quot;:\\&quot;CASH\\&quot;,\\&quot;Fare_Amt\\&quot;:2.5,\\&quot;surcharge\\&quot;:0.0,\\&quot;Tip_Amt\\&quot;:0.0,\\&quot;Tolls_Amt\\&quot;:0.0,\\&quot;Total_Amt\\&quot;:2.5},\\&quot;maxValues\\&quot;:{\\&quot;Trip_Pickup_DateTime\\&quot;:\\&quot;2009-01-31T23:41:38.000Z\\&quot;,\\&quot;Trip_Dropoff_DateTime\\&quot;:\\&quot;2009-02-01T00:04:56.000Z\\&quot;,\\&quot;Passenger_Count\\&quot;:6,\\&quot;Trip_Distance\\&quot;:23.2,\\&quot;Start_Lon\\&quot;:-73.137393,\\&quot;Start_Lat\\&quot;:41.366138,\\&quot;End_Lon\\&quot;:-73.137393,\\&quot;End_Lat\\&quot;:41.366138,\\&quot;Payment_Type\\&quot;:\\&quot;CREDIT\\&quot;,\\&quot;Fare_Amt\\&quot;:72.0,\\&quot;surcharge\\&quot;:1.0,\\&quot;Tip_Amt\\&quot;:14.0,\\&quot;Tolls_Amt\\&quot;:13.0,\\&quot;Total_Amt\\&quot;:72.0},\\&quot;nullCount\\&quot;:{\\&quot;Trip_Pickup_DateTime\\&quot;:0,\\&quot;Trip_Dropoff_DateTime\\&quot;:0,\\&quot;Passenger_Count\\&quot;:0,\\&quot;Trip_Distance\\&quot;:0,\\&quot;Start_Lon\\&quot;:0,\\&quot;Start_Lat\\&quot;:0,\\&quot;Rate_Code\\&quot;:1739,\\&quot;store_and_forward\\&quot;:1739,\\&quot;End_Lon\\&quot;:0,\\&quot;End_Lat\\&quot;:0,\\&quot;Payment_Type\\&quot;:0,\\&quot;Fare_Amt\\&quot;:0,\\&quot;surcharge\\&quot;:0,\\&quot;mta_tax\\&quot;:1739,\\&quot;Tip_Amt\\&quot;:0,\\&quot;Tolls_Amt\\&quot;:0,\\&quot;Total_Amt\\&quot;:0}}&quot;,&quot;tags&quot;:{&quot;INSERTION_TIME&quot;:&quot;1705326548000037&quot;,&quot;OPTIMIZE_TARGET_SIZE&quot;:&quot;268435456&quot;}}}\n{&quot;add&quot;:{&quot;path&quot;:&quot;vendor_name=VTS/part-00012-38cdb8f0-d0f0-44bc-a30c-89324df0d691.c000.snappy.parquet&quot;,&quot;partitionValues&quot;:{&quot;vendor_name&quot;:&quot;VTS&quot;},&quot;size&quot;:687517,&quot;modificationTime&quot;:1705326553000,&quot;dataChange&quot;:true,&quot;stats&quot;:&quot;{\\&quot;numRecords\\&quot;:13627,\\&quot;minValues\\&quot;:{\\&quot;Trip_Pickup_DateTime\\&quot;:\\&quot;2009-01-01T10:00:00.000Z\\&quot;,\\&quot;Trip_Dropoff_DateTime\\&quot;:\\&quot;2009-01-01T10:16:00.000Z\\&quot;,\\&quot;Passenger_Count\\&quot;:1,\\&quot;Trip_Distance\\&quot;:0.0,\\&quot;Start_Lon\\&quot;:-75.743903,\\&quot;Start_Lat\\&quot;:0.0,\\&quot;End_Lon\\&quot;:-75.743903,\\&quot;End_Lat\\&quot;:0.0,\\&quot;Payment_Type\\&quot;:\\&quot;CASH\\&quot;,\\&quot;Fare_Amt\\&quot;:2.5,\\&quot;surcharge\\&quot;:0.0,\\&quot;Tip_Amt\\&quot;:0.0,\\&quot;Tolls_Amt\\&quot;:0.0,\\&quot;Total_Amt\\&quot;:2.5},\\&quot;maxValues\\&quot;:{\\&quot;Trip_Pickup_DateTime\\&quot;:\\&quot;2009-01-31T23:59:00.000Z\\&quot;,\\&quot;Trip_Dropoff_DateTime\\&quot;:\\&quot;2009-02-01T16:37:00.000Z\\&quot;,\\&quot;Passenger_Count\\&quot;:6,\\&quot;Trip_Distance\\&quot;:28.88,\\&quot;Start_Lon\\&quot;:0.016327,\\&quot;Start_Lat\\&quot;:41.512867,\\&quot;End_Lon\\&quot;:0.017052,\\&quot;End_Lat\\&quot;:41.513265,\\&quot;Payment_Type\\&quot;:\\&quot;Credit\\&quot;,\\&quot;Fare_Amt\\&quot;:200.0,\\&quot;surcharge\\&quot;:1.0,\\&quot;Tip_Amt\\&quot;:100.0,\\&quot;Tolls_Amt\\&quot;:18.0,\\&quot;Total_Amt\\&quot;:200.0},\\&quot;nullCount\\&quot;:{\\&quot;Trip_Pickup_DateTime\\&quot;:0,\\&quot;Trip_Dropoff_DateTime\\&quot;:0,\\&quot;Passenger_Count\\&quot;:0,\\&quot;Trip_Distance\\&quot;:0,\\&quot;Start_Lon\\&quot;:0,\\&quot;Start_Lat\\&quot;:0,\\&quot;Rate_Code\\&quot;:13627,\\&quot;store_and_forward\\&quot;:13627,\\&quot;End_Lon\\&quot;:0,\\&quot;End_Lat\\&quot;:0,\\&quot;Payment_Type\\&quot;:0,\\&quot;Fare_Amt\\&quot;:0,\\&quot;surcharge\\&quot;:0,\\&quot;mta_tax\\&quot;:13627,\\&quot;Tip_Amt\\&quot;:0,\\&quot;Tolls_Amt\\&quot;:0,\\&quot;Total_Amt\\&quot;:0}}&quot;,&quot;tags&quot;:{&quot;INSERTION_TIME&quot;:&quot;1705326548000038&quot;,&quot;OPTIMIZE_TARGET_SIZE&quot;:&quot;268435456&quot;}}}\n{&quot;add&quot;:{&quot;path&quot;:&quot;vendor_name=CMT/part-00013-5af4d4c9-177c-4082-b3d7-6bc27b68ae05.c000.snappy.parquet&quot;,&quot;partitionValues&quot;:{&quot;vendor_name&quot;:&quot;CMT&quot;},&quot;size&quot;:647826,&quot;modificationTime&quot;:1705326553000,&quot;dataChange&quot;:true,&quot;stats&quot;:&quot;{\\&quot;numRecords\\&quot;:12637,\\&quot;minValues\\&quot;:{\\&quot;Trip_Pickup_DateTime\\&quot;:\\&quot;2009-01-01T00:01:56.000Z\\&quot;,\\&quot;Trip_Dropoff_DateTime\\&quot;:\\&quot;2009-01-01T00:12:30.000Z\\&quot;,\\&quot;Passenger_Count\\&quot;:1,\\&quot;Trip_Distance\\&quot;:0.0,\\&quot;Start_Lon\\&quot;:-74.778082,\\&quot;Start_Lat\\&quot;:0.0,\\&quot;store_and_forward\\&quot;:0,\\&quot;End_Lon\\&quot;:-74.777925,\\&quot;End_Lat\\&quot;:0.0,\\&quot;Payment_Type\\&quot;:\\&quot;Cash\\&quot;,\\&quot;Fare_Amt\\&quot;:2.5,\\&quot;surcharge\\&quot;:0.0,\\&quot;Tip_Amt\\&quot;:0.0,\\&quot;Tolls_Amt\\&quot;:0.0,\\&quot;Total_Amt\\&quot;:2.5},\\&quot;maxValues\\&quot;:{\\&quot;Trip_Pickup_DateTime\\&quot;:\\&quot;2009-01-31T23:59:48.000Z\\&quot;,\\&quot;Trip_Dropoff_DateTime\\&quot;:\\&quot;2009-02-01T00:10:22.000Z\\&quot;,\\&quot;Passenger_Count\\&quot;:5,\\&quot;Trip_Distance\\&quot;:32.8,\\&quot;Start_Lon\\&quot;:0.0,\\&quot;Start_Lat\\&quot;:45.065287,\\&quot;store_and_forward\\&quot;:0,\\&quot;End_Lon\\&quot;:0.0,\\&quot;End_Lat\\&quot;:45.065808,\\&quot;Payment_Type\\&quot;:\\&quot;No Charge\\&quot;,\\&quot;Fare_Amt\\&quot;:150.0,\\&quot;surcharge\\&quot;:0.0,\\&quot;Tip_Amt\\&quot;:75.48,\\&quot;Tolls_Amt\\&quot;:14.3,\\&quot;Total_Amt\\&quot;:180.0},\\&quot;nullCount\\&quot;:{\\&quot;Trip_Pickup_DateTime\\&quot;:0,\\&quot;Trip_Dropoff_DateTime\\&quot;:0,\\&quot;Passenger_Count\\&quot;:0,\\&quot;Trip_Distance\\&quot;:0,\\&quot;Start_Lon\\&quot;:0,\\&quot;Start_Lat\\&quot;:0,\\&quot;Rate_Code\\&quot;:12637,\\&quot;store_and_forward\\&quot;:12635,\\&quot;End_Lon\\&quot;:0,\\&quot;End_Lat\\&quot;:0,\\&quot;Payment_Type\\&quot;:0,\\&quot;Fare_Amt\\&quot;:0,\\&quot;surcharge\\&quot;:0,\\&quot;mta_tax\\&quot;:12637,\\&quot;Tip_Amt\\&quot;:0,\\&quot;Tolls_Amt\\&quot;:0,\\&quot;Total_Amt\\&quot;:0}}&quot;,&quot;tags&quot;:{&quot;INSERTION_TIME&quot;:&quot;1705326548000039&quot;,&quot;OPTIMIZE_TARGET_SIZE&quot;:&quot;268435456&quot;}}}\n{&quot;add&quot;:{&quot;path&quot;:&quot;vendor_name=DDS/part-00013-50a9043e-510f-4365-ba2f-162b2c5a84ca.c000.snappy.parquet&quot;,&quot;partitionValues&quot;:{&quot;vendor_name&quot;:&quot;DDS&quot;},&quot;size&quot;:94049,&quot;modificationTime&quot;:1705326553000,&quot;dataChange&quot;:true,&quot;stats&quot;:&quot;{\\&quot;numRecords\\&quot;:1735,\\&quot;minValues\\&quot;:{\\&quot;Trip_Pickup_DateTime\\&quot;:\\&quot;2009-01-01T00:13:40.000Z\\&quot;,\\&quot;Trip_Dropoff_DateTime\\&quot;:\\&quot;2009-01-01T00:17:40.000Z\\&quot;,\\&quot;Passenger_Count\\&quot;:0,\\&quot;Trip_Distance\\&quot;:0.0,\\&quot;Start_Lon\\&quot;:-74.549641,\\&quot;Start_Lat\\&quot;:40.238427,\\&quot;End_Lon\\&quot;:-74.177847,\\&quot;End_Lat\\&quot;:40.238427,\\&quot;Payment_Type\\&quot;:\\&quot;CASH\\&quot;,\\&quot;Fare_Amt\\&quot;:2.5,\\&quot;surcharge\\&quot;:0.0,\\&quot;Tip_Amt\\&quot;:0.0,\\&quot;Tolls_Amt\\&quot;:0.0,\\&quot;Total_Amt\\&quot;:2.5},\\&quot;maxValues\\&quot;:{\\&quot;Trip_Pickup_DateTime\\&quot;:\\&quot;2009-01-31T23:54:24.000Z\\&quot;,\\&quot;Trip_Dropoff_DateTime\\&quot;:\\&quot;2009-02-01T00:06:16.000Z\\&quot;,\\&quot;Passenger_Count\\&quot;:5,\\&quot;Trip_Distance\\&quot;:21.8,\\&quot;Start_Lon\\&quot;:-73.137393,\\&quot;Start_Lat\\&quot;:41.366138,\\&quot;End_Lon\\&quot;:-73.137393,\\&quot;End_Lat\\&quot;:41.366138,\\&quot;Payment_Type\\&quot;:\\&quot;CREDIT\\&quot;,\\&quot;Fare_Amt\\&quot;:79.7,\\&quot;surcharge\\&quot;:1.0,\\&quot;Tip_Amt\\&quot;:20.0,\\&quot;Tolls_Amt\\&quot;:18.15,\\&quot;Total_Amt\\&quot;:85.0},\\&quot;nullCount\\&quot;:{\\&quot;Trip_Pickup_DateTime\\&quot;:0,\\&quot;Trip_Dropoff_DateTime\\&quot;:0,\\&quot;Passenger_Count\\&quot;:0,\\&quot;Trip_Distance\\&quot;:0,\\&quot;Start_Lon\\&quot;:0,\\&quot;Start_Lat\\&quot;:0,\\&quot;Rate_Code\\&quot;:1735,\\&quot;store_and_forward\\&quot;:1735,\\&quot;End_Lon\\&quot;:0,\\&quot;End_Lat\\&quot;:0,\\&quot;Payment_Type\\&quot;:0,\\&quot;Fare_Amt\\&quot;:0,\\&quot;surcharge\\&quot;:0,\\&quot;mta_tax\\&quot;:1735,\\&quot;Tip_Amt\\&quot;:0,\\&quot;Tolls_Amt\\&quot;:0,\\&quot;Total_Amt\\&quot;:0}}&quot;,&quot;tags&quot;:{&quot;INSERTION_TIME&quot;:&quot;1705326548000040&quot;,&quot;OPTIMIZE_TARGET_SIZE&quot;:&quot;268435456&quot;}}}\n{&quot;add&quot;:{&quot;path&quot;:&quot;vendor_name=VTS/part-00013-2722e77c-614c-4458-ba1f-ca94ab6ed5ba.c000.snappy.parquet&quot;,&quot;partitionValues&quot;:{&quot;vendor_name&quot;:&quot;VTS&quot;},&quot;size&quot;:672711,&quot;modificationTime&quot;:1705326553000,&quot;dataChange&quot;:true,&quot;stats&quot;:&quot;{\\&quot;numRecords\\&quot;:13813,\\&quot;minValues\\&quot;:{\\&quot;Trip_Pickup_DateTime\\&quot;:\\&quot;2009-01-01T09:58:00.000Z\\&quot;,\\&quot;Trip_Dropoff_DateTime\\&quot;:\\&quot;2009-01-01T10:02:00.000Z\\&quot;,\\&quot;Passenger_Count\\&quot;:1,\\&quot;Trip_Distance\\&quot;:0.0,\\&quot;Start_Lon\\&quot;:-76.127368,\\&quot;Start_Lat\\&quot;:0.0,\\&quot;End_Lon\\&quot;:-76.147307,\\&quot;End_Lat\\&quot;:0.0,\\&quot;Payment_Type\\&quot;:\\&quot;CASH\\&quot;,\\&quot;Fare_Amt\\&quot;:2.5,\\&quot;surcharge\\&quot;:0.0,\\&quot;Tip_Amt\\&quot;:0.0,\\&quot;Tolls_Amt\\&quot;:0.0,\\&quot;Total_Amt\\&quot;:2.5},\\&quot;maxValues\\&quot;:{\\&quot;Trip_Pickup_DateTime\\&quot;:\\&quot;2009-01-31T23:53:00.000Z\\&quot;,\\&quot;Trip_Dropoff_DateTime\\&quot;:\\&quot;2009-02-01T00:12:00.000Z\\&quot;,\\&quot;Passenger_Count\\&quot;:6,\\&quot;Trip_Distance\\&quot;:31.13,\\&quot;Start_Lon\\&quot;:0.0,\\&quot;Start_Lat\\&quot;:40.920328,\\&quot;End_Lon\\&quot;:0.0,\\&quot;End_Lat\\&quot;:40.98862,\\&quot;Payment_Type\\&quot;:\\&quot;Credit\\&quot;,\\&quot;Fare_Amt\\&quot;:88.9,\\&quot;surcharge\\&quot;:1.0,\\&quot;Tip_Amt\\&quot;:54.0,\\&quot;Tolls_Amt\\&quot;:12.0,\\&quot;Total_Amt\\&quot;:116.75},\\&quot;nullCount\\&quot;:{\\&quot;Trip_Pickup_DateTime\\&quot;:0,\\&quot;Trip_Dropoff_DateTime\\&quot;:0,\\&quot;Passenger_Count\\&quot;:0,\\&quot;Trip_Distance\\&quot;:0,\\&quot;Start_Lon\\&quot;:0,\\&quot;Start_Lat\\&quot;:0,\\&quot;Rate_Code\\&quot;:13813,\\&quot;store_and_forward\\&quot;:13813,\\&quot;End_Lon\\&quot;:0,\\&quot;End_Lat\\&quot;:0,\\&quot;Payment_Type\\&quot;:0,\\&quot;Fare_Amt\\&quot;:0,\\&quot;surcharge\\&quot;:0,\\&quot;mta_tax\\&quot;:13813,\\&quot;Tip_Amt\\&quot;:0,\\&quot;Tolls_Amt\\&quot;:0,\\&quot;Total_Amt\\&quot;:0}}&quot;,&quot;tags&quot;:{&quot;INSERTION_TIME&quot;:&quot;1705326548000041&quot;,&quot;OPTIMIZE_TARGET_SIZE&quot;:&quot;268435456&quot;}}}\n{&quot;add&quot;:{&quot;path&quot;:&quot;vendor_name=CMT/part-00014-b6b5b4d2-c055-4d95-9ba8-c3c06cb4faf2.c000.snappy.parquet&quot;,&quot;partitionValues&quot;:{&quot;vendor_name&quot;:&quot;CMT&quot;},&quot;size&quot;:661528,&quot;modificationTime&quot;:1705326553000,&quot;dataChange&quot;:true,&quot;stats&quot;:&quot;{\\&quot;numRecords\\&quot;:12721,\\&quot;minValues\\&quot;:{\\&quot;Trip_Pickup_DateTime\\&quot;:\\&quot;2009-01-01T00:01:14.000Z\\&quot;,\\&quot;Trip_Dropoff_DateTime\\&quot;:\\&quot;2009-01-01T00:18:21.000Z\\&quot;,\\&quot;Passenger_Count\\&quot;:1,\\&quot;Trip_Distance\\&quot;:0.0,\\&quot;Start_Lon\\&quot;:-74.748345,\\&quot;Start_Lat\\&quot;:0.0,\\&quot;store_and_forward\\&quot;:0,\\&quot;End_Lon\\&quot;:-74.748578,\\&quot;End_Lat\\&quot;:0.0,\\&quot;Payment_Type\\&quot;:\\&quot;Cash\\&quot;,\\&quot;Fare_Amt\\&quot;:2.5,\\&quot;surcharge\\&quot;:0.0,\\&quot;Tip_Amt\\&quot;:0.0,\\&quot;Tolls_Amt\\&quot;:0.0,\\&quot;Total_Amt\\&quot;:2.5},\\&quot;maxValues\\&quot;:{\\&quot;Trip_Pickup_DateTime\\&quot;:\\&quot;2009-01-31T23:56:54.000Z\\&quot;,\\&quot;Trip_Dropoff_DateTime\\&quot;:\\&quot;2009-02-01T00:14:20.000Z\\&quot;,\\&quot;Passenger_Count\\&quot;:5,\\&quot;Trip_Distance\\&quot;:46.8,\\&quot;Start_Lon\\&quot;:0.0,\\&quot;Start_Lat\\&quot;:45.07738,\\&quot;store_and_forward\\&quot;:0,\\&quot;End_Lon\\&quot;:0.0,\\&quot;End_Lat\\&quot;:45.077258,\\&quot;Payment_Type\\&quot;:\\&quot;No Charge\\&quot;,\\&quot;Fare_Amt\\&quot;:92.0,\\&quot;surcharge\\&quot;:0.0,\\&quot;Tip_Amt\\&quot;:40.0,\\&quot;Tolls_Amt\\&quot;:14.5,\\&quot;Total_Amt\\&quot;:112.0},\\&quot;nullCount\\&quot;:{\\&quot;Trip_Pickup_DateTime\\&quot;:0,\\&quot;Trip_Dropoff_DateTime\\&quot;:0,\\&quot;Passenger_Count\\&quot;:0,\\&quot;Trip_Distance\\&quot;:0,\\&quot;Start_Lon\\&quot;:0,\\&quot;Start_Lat\\&quot;:0,\\&quot;Rate_Code\\&quot;:12721,\\&quot;store_and_forward\\&quot;:12720,\\&quot;End_Lon\\&quot;:0,\\&quot;End_Lat\\&quot;:0,\\&quot;Payment_Type\\&quot;:0,\\&quot;Fare_Amt\\&quot;:0,\\&quot;surcharge\\&quot;:0,\\&quot;mta_tax\\&quot;:12721,\\&quot;Tip_Amt\\&quot;:0,\\&quot;Tolls_Amt\\&quot;:0,\\&quot;Total_Amt\\&quot;:0}}&quot;,&quot;tags&quot;:{&quot;INSERTION_TIME&quot;:&quot;1705326548000042&quot;,&quot;OPTIMIZE_TARGET_SIZE&quot;:&quot;268435456&quot;}}}\n{&quot;add&quot;:{&quot;path&quot;:&quot;vendor_name=DDS/part-00014-e2074040-b24f-4a24-96e8-0b3be6054814.c000.snappy.parquet&quot;,&quot;partitionValues&quot;:{&quot;vendor_name&quot;:&quot;DDS&quot;},&quot;size&quot;:93459,&quot;modificationTime&quot;:1705326553000,&quot;dataChange&quot;:true,&quot;stats&quot;:&quot;{\\&quot;numRecords\\&quot;:1720,\\&quot;minValues\\&quot;:{\\&quot;Trip_Pickup_DateTime\\&quot;:\\&quot;2009-01-01T00:04:41.000Z\\&quot;,\\&quot;Trip_Dropoff_DateTime\\&quot;:\\&quot;2009-01-01T00:13:40.000Z\\&quot;,\\&quot;Passenger_Count\\&quot;:0,\\&quot;Trip_Distance\\&quot;:0.0,\\&quot;Start_Lon\\&quot;:-74.181401,\\&quot;Start_Lat\\&quot;:40.63432,\\&quot;End_Lon\\&quot;:-74.177942,\\&quot;End_Lat\\&quot;:40.238427,\\&quot;Payment_Type\\&quot;:\\&quot;CASH\\&quot;,\\&quot;Fare_Amt\\&quot;:2.5,\\&quot;surcharge\\&quot;:0.0,\\&quot;Tip_Amt\\&quot;:0.0,\\&quot;Tolls_Amt\\&quot;:0.0,\\&quot;Total_Amt\\&quot;:2.5},\\&quot;maxValues\\&quot;:{\\&quot;Trip_Pickup_DateTime\\&quot;:\\&quot;2009-01-31T23:53:09.000Z\\&quot;,\\&quot;Trip_Dropoff_DateTime\\&quot;:\\&quot;2009-01-31T23:58:48.000Z\\&quot;,\\&quot;Passenger_Count\\&quot;:4,\\&quot;Trip_Distance\\&quot;:43.8,\\&quot;Start_Lon\\&quot;:-73.137393,\\&quot;Start_Lat\\&quot;:41.366138,\\&quot;End_Lon\\&quot;:-73.137393,\\&quot;End_Lat\\&quot;:41.366138,\\&quot;Payment_Type\\&quot;:\\&quot;CREDIT\\&quot;,\\&quot;Fare_Amt\\&quot;:88.0,\\&quot;surcharge\\&quot;:1.0,\\&quot;Tip_Amt\\&quot;:17.6,\\&quot;Tolls_Amt\\&quot;:11.0,\\&quot;Total_Amt\\&quot;:110.6},\\&quot;nullCount\\&quot;:{\\&quot;Trip_Pickup_DateTime\\&quot;:0,\\&quot;Trip_Dropoff_DateTime\\&quot;:0,\\&quot;Passenger_Count\\&quot;:0,\\&quot;Trip_Distance\\&quot;:0,\\&quot;Start_Lon\\&quot;:0,\\&quot;Start_Lat\\&quot;:0,\\&quot;Rate_Code\\&quot;:1720,\\&quot;store_and_forward\\&quot;:1720,\\&quot;End_Lon\\&quot;:0,\\&quot;End_Lat\\&quot;:0,\\&quot;Payment_Type\\&quot;:0,\\&quot;Fare_Amt\\&quot;:0,\\&quot;surcharge\\&quot;:0,\\&quot;mta_tax\\&quot;:1720,\\&quot;Tip_Amt\\&quot;:0,\\&quot;Tolls_Amt\\&quot;:0,\\&quot;Total_Amt\\&quot;:0}}&quot;,&quot;tags&quot;:{&quot;INSERTION_TIME&quot;:&quot;1705326548000043&quot;,&quot;OPTIMIZE_TARGET_SIZE&quot;:&quot;268435456&quot;}}}\n{&quot;add&quot;:{&quot;path&quot;:&quot;vendor_name=VTS/part-00014-e35f8165-6989-4f76-a120-bbdc7bb6a3b4.c000.snappy.parquet&quot;,&quot;partitionValues&quot;:{&quot;vendor_name&quot;:&quot;VTS&quot;},&quot;size&quot;:675223,&quot;modificationTime&quot;:1705326553000,&quot;dataChange&quot;:true,&quot;stats&quot;:&quot;{\\&quot;numRecords\\&quot;:13744,\\&quot;minValues\\&quot;:{\\&quot;Trip_Pickup_DateTime\\&quot;:\\&quot;2009-01-01T09:57:00.000Z\\&quot;,\\&quot;Trip_Dropoff_DateTime\\&quot;:\\&quot;2009-01-01T10:01:00.000Z\\&quot;,\\&quot;Passenger_Count\\&quot;:0,\\&quot;Trip_Distance\\&quot;:0.0,\\&quot;Start_Lon\\&quot;:-75.149223,\\&quot;Start_Lat\\&quot;:0.0,\\&quot;End_Lon\\&quot;:-75.221015,\\&quot;End_Lat\\&quot;:0.0,\\&quot;Payment_Type\\&quot;:\\&quot;CASH\\&quot;,\\&quot;Fare_Amt\\&quot;:2.5,\\&quot;surcharge\\&quot;:0.0,\\&quot;Tip_Amt\\&quot;:0.0,\\&quot;Tolls_Amt\\&quot;:0.0,\\&quot;Total_Amt\\&quot;:2.5},\\&quot;maxValues\\&quot;:{\\&quot;Trip_Pickup_DateTime\\&quot;:\\&quot;2009-01-31T23:58:00.000Z\\&quot;,\\&quot;Trip_Dropoff_DateTime\\&quot;:\\&quot;2009-02-01T09:11:00.000Z\\&quot;,\\&quot;Passenger_Count\\&quot;:6,\\&quot;Trip_Distance\\&quot;:38.23,\\&quot;Start_Lon\\&quot;:0.0,\\&quot;Start_Lat\\&quot;:41.445327,\\&quot;End_Lon\\&quot;:0.0,\\&quot;End_Lat\\&quot;:41.44538,\\&quot;Payment_Type\\&quot;:\\&quot;Credit\\&quot;,\\&quot;Fare_Amt\\&quot;:175.0,\\&quot;surch\n</div>",
       "datasetInfos": [],
       "metadata": {},
       "removedWidgets": [],
       "type": "html"
      }
     },
     "output_type": "display_data"
    }
   ],
   "source": [
    "%fs\n",
    "head dbfs:/user/hive/warehouse/trip_db.db/trip_small_delta/_delta_log/00000000000000000000.json"
   ]
  },
  {
   "cell_type": "code",
   "execution_count": 0,
   "metadata": {
    "application/vnd.databricks.v1+cell": {
     "cellMetadata": {
      "byteLimit": 2048000,
      "implicitDf": true,
      "rowLimit": 10000
     },
     "inputWidgets": {},
     "nuid": "8abd3a8e-6359-48aa-a053-acdf6952cf0d",
     "showTitle": false,
     "title": ""
    }
   },
   "outputs": [
    {
     "output_type": "display_data",
     "data": {
      "text/html": [
       "<style scoped>\n",
       "  .table-result-container {\n",
       "    max-height: 300px;\n",
       "    overflow: auto;\n",
       "  }\n",
       "  table, th, td {\n",
       "    border: 1px solid black;\n",
       "    border-collapse: collapse;\n",
       "  }\n",
       "  th, td {\n",
       "    padding: 5px;\n",
       "  }\n",
       "  th {\n",
       "    text-align: left;\n",
       "  }\n",
       "</style><div class='table-result-container'><table class='table-result'><thead style='background-color: white'><tr><th>vendor_name</th><th>Trip_Pickup_DateTime</th><th>Trip_Dropoff_DateTime</th><th>Passenger_Count</th><th>Trip_Distance</th><th>Start_Lon</th><th>Start_Lat</th><th>Rate_Code</th><th>store_and_forward</th><th>End_Lon</th><th>End_Lat</th><th>Payment_Type</th><th>Fare_Amt</th><th>surcharge</th><th>mta_tax</th><th>Tip_Amt</th><th>Tolls_Amt</th><th>Total_Amt</th></tr></thead><tbody><tr><td>CMT</td><td>2009-01-07T09:10:59.000+0000</td><td>2009-01-07T09:30:43.000+0000</td><td>1</td><td>6.0</td><td>-73.985903</td><td>40.7664</td><td>null</td><td>null</td><td>-74.005545</td><td>40.705708</td><td>Credit</td><td>16.5</td><td>0.0</td><td>null</td><td>3.5</td><td>0.0</td><td>20.0</td></tr><tr><td>CMT</td><td>2009-01-16T19:00:43.000+0000</td><td>2009-01-16T19:33:34.000+0000</td><td>2</td><td>1.7</td><td>-73.986375</td><td>40.715911</td><td>null</td><td>null</td><td>-74.008613</td><td>40.723331</td><td>Credit</td><td>17.5</td><td>0.0</td><td>null</td><td>2.5</td><td>0.0</td><td>20.0</td></tr><tr><td>CMT</td><td>2009-01-08T09:11:20.000+0000</td><td>2009-01-08T09:29:01.000+0000</td><td>1</td><td>6.2</td><td>-73.968537</td><td>40.758823</td><td>null</td><td>null</td><td>-74.001278</td><td>40.715617</td><td>Credit</td><td>17.3</td><td>0.0</td><td>null</td><td>2.7</td><td>0.0</td><td>20.0</td></tr></tbody></table></div>"
      ]
     },
     "metadata": {
      "application/vnd.databricks.v1+output": {
       "addedWidgets": {},
       "aggData": [],
       "aggError": "",
       "aggOverflow": false,
       "aggSchema": [],
       "aggSeriesLimitReached": false,
       "aggType": "",
       "arguments": {},
       "columnCustomDisplayInfos": {},
       "data": [
        [
         "CMT",
         "2009-01-07T09:10:59.000+0000",
         "2009-01-07T09:30:43.000+0000",
         1,
         6.0,
         -73.985903,
         40.7664,
         null,
         null,
         -74.005545,
         40.705708,
         "Credit",
         16.5,
         0.0,
         null,
         3.5,
         0.0,
         20.0
        ],
        [
         "CMT",
         "2009-01-16T19:00:43.000+0000",
         "2009-01-16T19:33:34.000+0000",
         2,
         1.7,
         -73.986375,
         40.715911,
         null,
         null,
         -74.008613,
         40.723331,
         "Credit",
         17.5,
         0.0,
         null,
         2.5,
         0.0,
         20.0
        ],
        [
         "CMT",
         "2009-01-08T09:11:20.000+0000",
         "2009-01-08T09:29:01.000+0000",
         1,
         6.2,
         -73.968537,
         40.758823,
         null,
         null,
         -74.001278,
         40.715617,
         "Credit",
         17.3,
         0.0,
         null,
         2.7,
         0.0,
         20.0
        ]
       ],
       "datasetInfos": [],
       "dbfsResultPath": null,
       "isJsonSchema": true,
       "metadata": {},
       "overflow": false,
       "plotOptions": {
        "customPlotOptions": {},
        "displayType": "table",
        "pivotAggregation": null,
        "pivotColumns": null,
        "xColumns": null,
        "yColumns": null
       },
       "removedWidgets": [],
       "schema": [
        {
         "metadata": "{}",
         "name": "vendor_name",
         "type": "\"string\""
        },
        {
         "metadata": "{}",
         "name": "Trip_Pickup_DateTime",
         "type": "\"timestamp\""
        },
        {
         "metadata": "{}",
         "name": "Trip_Dropoff_DateTime",
         "type": "\"timestamp\""
        },
        {
         "metadata": "{}",
         "name": "Passenger_Count",
         "type": "\"integer\""
        },
        {
         "metadata": "{}",
         "name": "Trip_Distance",
         "type": "\"double\""
        },
        {
         "metadata": "{}",
         "name": "Start_Lon",
         "type": "\"double\""
        },
        {
         "metadata": "{}",
         "name": "Start_Lat",
         "type": "\"double\""
        },
        {
         "metadata": "{}",
         "name": "Rate_Code",
         "type": "\"string\""
        },
        {
         "metadata": "{}",
         "name": "store_and_forward",
         "type": "\"integer\""
        },
        {
         "metadata": "{}",
         "name": "End_Lon",
         "type": "\"double\""
        },
        {
         "metadata": "{}",
         "name": "End_Lat",
         "type": "\"double\""
        },
        {
         "metadata": "{}",
         "name": "Payment_Type",
         "type": "\"string\""
        },
        {
         "metadata": "{}",
         "name": "Fare_Amt",
         "type": "\"double\""
        },
        {
         "metadata": "{}",
         "name": "surcharge",
         "type": "\"double\""
        },
        {
         "metadata": "{}",
         "name": "mta_tax",
         "type": "\"string\""
        },
        {
         "metadata": "{}",
         "name": "Tip_Amt",
         "type": "\"double\""
        },
        {
         "metadata": "{}",
         "name": "Tolls_Amt",
         "type": "\"double\""
        },
        {
         "metadata": "{}",
         "name": "Total_Amt",
         "type": "\"double\""
        }
       ],
       "type": "table"
      }
     },
     "output_type": "display_data"
    }
   ],
   "source": [
    "%sql\n",
    "select * from trip_db.trip_small_delta where total_amt=20 limit 3"
   ]
  },
  {
   "cell_type": "code",
   "execution_count": 0,
   "metadata": {
    "application/vnd.databricks.v1+cell": {
     "cellMetadata": {
      "byteLimit": 2048000,
      "implicitDf": true,
      "rowLimit": 10000
     },
     "inputWidgets": {},
     "nuid": "b7ce3759-bf35-4c4b-8954-924f05d9e204",
     "showTitle": false,
     "title": ""
    }
   },
   "outputs": [
    {
     "output_type": "display_data",
     "data": {
      "text/html": [
       "<style scoped>\n",
       "  .table-result-container {\n",
       "    max-height: 300px;\n",
       "    overflow: auto;\n",
       "  }\n",
       "  table, th, td {\n",
       "    border: 1px solid black;\n",
       "    border-collapse: collapse;\n",
       "  }\n",
       "  th, td {\n",
       "    padding: 5px;\n",
       "  }\n",
       "  th {\n",
       "    text-align: left;\n",
       "  }\n",
       "</style><div class='table-result-container'><table class='table-result'><thead style='background-color: white'><tr><th>path</th><th>metrics</th></tr></thead><tbody><tr><td>dbfs:/user/hive/warehouse/trip_db.db/trip_small_delta</td><td>List(1, 2, List(158813070, 158813070, 1.5881307E8, 1, 158813070), List(29852953, 128670400, 7.92616765E7, 2, 158523353), 3, null, 1, 5, 3, true)</td></tr></tbody></table></div>"
      ]
     },
     "metadata": {
      "application/vnd.databricks.v1+output": {
       "addedWidgets": {},
       "aggData": [],
       "aggError": "",
       "aggOverflow": false,
       "aggSchema": [],
       "aggSeriesLimitReached": false,
       "aggType": "",
       "arguments": {},
       "columnCustomDisplayInfos": {},
       "data": [
        [
         "dbfs:/user/hive/warehouse/trip_db.db/trip_small_delta",
         [
          1,
          2,
          [
           158813070,
           158813070,
           1.5881307E8,
           1,
           158813070
          ],
          [
           29852953,
           128670400,
           7.92616765E7,
           2,
           158523353
          ],
          3,
          null,
          1,
          5,
          3,
          true
         ]
        ]
       ],
       "datasetInfos": [],
       "dbfsResultPath": null,
       "isJsonSchema": true,
       "metadata": {},
       "overflow": false,
       "plotOptions": {
        "customPlotOptions": {},
        "displayType": "table",
        "pivotAggregation": null,
        "pivotColumns": null,
        "xColumns": null,
        "yColumns": null
       },
       "removedWidgets": [],
       "schema": [
        {
         "metadata": "{}",
         "name": "path",
         "type": "\"string\""
        },
        {
         "metadata": "{}",
         "name": "metrics",
         "type": "{\"type\":\"struct\",\"fields\":[{\"name\":\"numFilesAdded\",\"type\":\"long\",\"nullable\":false,\"metadata\":{}},{\"name\":\"numFilesRemoved\",\"type\":\"long\",\"nullable\":false,\"metadata\":{}},{\"name\":\"filesAdded\",\"type\":{\"type\":\"struct\",\"fields\":[{\"name\":\"min\",\"type\":\"long\",\"nullable\":true,\"metadata\":{}},{\"name\":\"max\",\"type\":\"long\",\"nullable\":true,\"metadata\":{}},{\"name\":\"avg\",\"type\":\"double\",\"nullable\":false,\"metadata\":{}},{\"name\":\"totalFiles\",\"type\":\"long\",\"nullable\":false,\"metadata\":{}},{\"name\":\"totalSize\",\"type\":\"long\",\"nullable\":false,\"metadata\":{}}]},\"nullable\":true,\"metadata\":{}},{\"name\":\"filesRemoved\",\"type\":{\"type\":\"struct\",\"fields\":[{\"name\":\"min\",\"type\":\"long\",\"nullable\":true,\"metadata\":{}},{\"name\":\"max\",\"type\":\"long\",\"nullable\":true,\"metadata\":{}},{\"name\":\"avg\",\"type\":\"double\",\"nullable\":false,\"metadata\":{}},{\"name\":\"totalFiles\",\"type\":\"long\",\"nullable\":false,\"metadata\":{}},{\"name\":\"totalSize\",\"type\":\"long\",\"nullable\":false,\"metadata\":{}}]},\"nullable\":true,\"metadata\":{}},{\"name\":\"partitionsOptimized\",\"type\":\"long\",\"nullable\":false,\"metadata\":{}},{\"name\":\"zOrderStats\",\"type\":{\"type\":\"struct\",\"fields\":[{\"name\":\"strategyName\",\"type\":\"string\",\"nullable\":true,\"metadata\":{}},{\"name\":\"inputCubeFiles\",\"type\":{\"type\":\"struct\",\"fields\":[{\"name\":\"num\",\"type\":\"long\",\"nullable\":false,\"metadata\":{}},{\"name\":\"size\",\"type\":\"long\",\"nullable\":false,\"metadata\":{}}]},\"nullable\":true,\"metadata\":{}},{\"name\":\"inputOtherFiles\",\"type\":{\"type\":\"struct\",\"fields\":[{\"name\":\"num\",\"type\":\"long\",\"nullable\":false,\"metadata\":{}},{\"name\":\"size\",\"type\":\"long\",\"nullable\":false,\"metadata\":{}}]},\"nullable\":true,\"metadata\":{}},{\"name\":\"inputNumCubes\",\"type\":\"long\",\"nullable\":false,\"metadata\":{}},{\"name\":\"mergedFiles\",\"type\":{\"type\":\"struct\",\"fields\":[{\"name\":\"num\",\"type\":\"long\",\"nullable\":false,\"metadata\":{}},{\"name\":\"size\",\"type\":\"long\",\"nullable\":false,\"metadata\":{}}]},\"nullable\":true,\"metadata\":{}},{\"name\":\"numOutputCubes\",\"type\":\"long\",\"nullable\":false,\"metadata\":{}},{\"name\":\"mergedNumCubes\",\"type\":\"long\",\"nullable\":true,\"metadata\":{}}]},\"nullable\":true,\"metadata\":{}},{\"name\":\"numBatches\",\"type\":\"long\",\"nullable\":false,\"metadata\":{}},{\"name\":\"totalConsideredFiles\",\"type\":\"long\",\"nullable\":false,\"metadata\":{}},{\"name\":\"totalFilesSkipped\",\"type\":\"long\",\"nullable\":false,\"metadata\":{}},{\"name\":\"preserveInsertionOrder\",\"type\":\"boolean\",\"nullable\":false,\"metadata\":{}}]}"
        }
       ],
       "type": "table"
      }
     },
     "output_type": "display_data"
    }
   ],
   "source": [
    "%sql\n",
    "OPTIMIZE trip_db.trip_small_delta  ---1500 files are clubbed to 5 files (1500 files will be retained, additionally 5 large part files will be created along with one log file saying 5 part files added and 1500 part files removed)"
   ]
  },
  {
   "cell_type": "code",
   "execution_count": 0,
   "metadata": {
    "application/vnd.databricks.v1+cell": {
     "cellMetadata": {
      "byteLimit": 2048000,
      "implicitDf": true,
      "rowLimit": 10000
     },
     "inputWidgets": {},
     "nuid": "9a5e477f-3f84-43b7-812d-8d16b36787e6",
     "showTitle": false,
     "title": ""
    }
   },
   "outputs": [
    {
     "output_type": "display_data",
     "data": {
      "text/html": [
       "<style scoped>\n",
       "  .table-result-container {\n",
       "    max-height: 300px;\n",
       "    overflow: auto;\n",
       "  }\n",
       "  table, th, td {\n",
       "    border: 1px solid black;\n",
       "    border-collapse: collapse;\n",
       "  }\n",
       "  th, td {\n",
       "    padding: 5px;\n",
       "  }\n",
       "  th {\n",
       "    text-align: left;\n",
       "  }\n",
       "</style><div class='table-result-container'><table class='table-result'><thead style='background-color: white'><tr><th>vendor_name</th><th>Trip_Pickup_DateTime</th><th>Trip_Dropoff_DateTime</th><th>Passenger_Count</th><th>Trip_Distance</th><th>Start_Lon</th><th>Start_Lat</th><th>Rate_Code</th><th>store_and_forward</th><th>End_Lon</th><th>End_Lat</th><th>Payment_Type</th><th>Fare_Amt</th><th>surcharge</th><th>mta_tax</th><th>Tip_Amt</th><th>Tolls_Amt</th><th>Total_Amt</th></tr></thead><tbody><tr><td>CMT</td><td>2009-01-07T09:10:59.000+0000</td><td>2009-01-07T09:30:43.000+0000</td><td>1</td><td>6.0</td><td>-73.985903</td><td>40.7664</td><td>null</td><td>null</td><td>-74.005545</td><td>40.705708</td><td>Credit</td><td>16.5</td><td>0.0</td><td>null</td><td>3.5</td><td>0.0</td><td>20.0</td></tr><tr><td>CMT</td><td>2009-01-16T19:00:43.000+0000</td><td>2009-01-16T19:33:34.000+0000</td><td>2</td><td>1.7</td><td>-73.986375</td><td>40.715911</td><td>null</td><td>null</td><td>-74.008613</td><td>40.723331</td><td>Credit</td><td>17.5</td><td>0.0</td><td>null</td><td>2.5</td><td>0.0</td><td>20.0</td></tr><tr><td>CMT</td><td>2009-01-08T09:11:20.000+0000</td><td>2009-01-08T09:29:01.000+0000</td><td>1</td><td>6.2</td><td>-73.968537</td><td>40.758823</td><td>null</td><td>null</td><td>-74.001278</td><td>40.715617</td><td>Credit</td><td>17.3</td><td>0.0</td><td>null</td><td>2.7</td><td>0.0</td><td>20.0</td></tr></tbody></table></div>"
      ]
     },
     "metadata": {
      "application/vnd.databricks.v1+output": {
       "addedWidgets": {},
       "aggData": [],
       "aggError": "",
       "aggOverflow": false,
       "aggSchema": [],
       "aggSeriesLimitReached": false,
       "aggType": "",
       "arguments": {},
       "columnCustomDisplayInfos": {},
       "data": [
        [
         "CMT",
         "2009-01-07T09:10:59.000+0000",
         "2009-01-07T09:30:43.000+0000",
         1,
         6.0,
         -73.985903,
         40.7664,
         null,
         null,
         -74.005545,
         40.705708,
         "Credit",
         16.5,
         0.0,
         null,
         3.5,
         0.0,
         20.0
        ],
        [
         "CMT",
         "2009-01-16T19:00:43.000+0000",
         "2009-01-16T19:33:34.000+0000",
         2,
         1.7,
         -73.986375,
         40.715911,
         null,
         null,
         -74.008613,
         40.723331,
         "Credit",
         17.5,
         0.0,
         null,
         2.5,
         0.0,
         20.0
        ],
        [
         "CMT",
         "2009-01-08T09:11:20.000+0000",
         "2009-01-08T09:29:01.000+0000",
         1,
         6.2,
         -73.968537,
         40.758823,
         null,
         null,
         -74.001278,
         40.715617,
         "Credit",
         17.3,
         0.0,
         null,
         2.7,
         0.0,
         20.0
        ]
       ],
       "datasetInfos": [],
       "dbfsResultPath": null,
       "isJsonSchema": true,
       "metadata": {},
       "overflow": false,
       "plotOptions": {
        "customPlotOptions": {},
        "displayType": "table",
        "pivotAggregation": null,
        "pivotColumns": null,
        "xColumns": null,
        "yColumns": null
       },
       "removedWidgets": [],
       "schema": [
        {
         "metadata": "{}",
         "name": "vendor_name",
         "type": "\"string\""
        },
        {
         "metadata": "{}",
         "name": "Trip_Pickup_DateTime",
         "type": "\"timestamp\""
        },
        {
         "metadata": "{}",
         "name": "Trip_Dropoff_DateTime",
         "type": "\"timestamp\""
        },
        {
         "metadata": "{}",
         "name": "Passenger_Count",
         "type": "\"integer\""
        },
        {
         "metadata": "{}",
         "name": "Trip_Distance",
         "type": "\"double\""
        },
        {
         "metadata": "{}",
         "name": "Start_Lon",
         "type": "\"double\""
        },
        {
         "metadata": "{}",
         "name": "Start_Lat",
         "type": "\"double\""
        },
        {
         "metadata": "{}",
         "name": "Rate_Code",
         "type": "\"string\""
        },
        {
         "metadata": "{}",
         "name": "store_and_forward",
         "type": "\"integer\""
        },
        {
         "metadata": "{}",
         "name": "End_Lon",
         "type": "\"double\""
        },
        {
         "metadata": "{}",
         "name": "End_Lat",
         "type": "\"double\""
        },
        {
         "metadata": "{}",
         "name": "Payment_Type",
         "type": "\"string\""
        },
        {
         "metadata": "{}",
         "name": "Fare_Amt",
         "type": "\"double\""
        },
        {
         "metadata": "{}",
         "name": "surcharge",
         "type": "\"double\""
        },
        {
         "metadata": "{}",
         "name": "mta_tax",
         "type": "\"string\""
        },
        {
         "metadata": "{}",
         "name": "Tip_Amt",
         "type": "\"double\""
        },
        {
         "metadata": "{}",
         "name": "Tolls_Amt",
         "type": "\"double\""
        },
        {
         "metadata": "{}",
         "name": "Total_Amt",
         "type": "\"double\""
        }
       ],
       "type": "table"
      }
     },
     "output_type": "display_data"
    }
   ],
   "source": [
    "%sql\n",
    "select * from trip_db.trip_small_delta where total_amt=20 limit 3  ---will scan through all 5 files instead of 1500 files however we will not get data skipping here"
   ]
  },
  {
   "cell_type": "code",
   "execution_count": 0,
   "metadata": {
    "application/vnd.databricks.v1+cell": {
     "cellMetadata": {
      "byteLimit": 2048000,
      "implicitDf": true,
      "rowLimit": 10000
     },
     "inputWidgets": {},
     "nuid": "f1478f75-8da7-418b-8a35-f5afedeb2b48",
     "showTitle": false,
     "title": ""
    }
   },
   "outputs": [
    {
     "output_type": "display_data",
     "data": {
      "text/html": [
       "<style scoped>\n",
       "  .table-result-container {\n",
       "    max-height: 300px;\n",
       "    overflow: auto;\n",
       "  }\n",
       "  table, th, td {\n",
       "    border: 1px solid black;\n",
       "    border-collapse: collapse;\n",
       "  }\n",
       "  th, td {\n",
       "    padding: 5px;\n",
       "  }\n",
       "  th {\n",
       "    text-align: left;\n",
       "  }\n",
       "</style><div class='table-result-container'><table class='table-result'><thead style='background-color: white'><tr><th>version</th><th>timestamp</th><th>userId</th><th>userName</th><th>operation</th><th>operationParameters</th><th>job</th><th>notebook</th><th>clusterId</th><th>readVersion</th><th>isolationLevel</th><th>isBlindAppend</th><th>operationMetrics</th><th>userMetadata</th><th>engineInfo</th></tr></thead><tbody><tr><td>2</td><td>2024-01-15T14:32:23.000+0000</td><td>2035466439901047</td><td>supriyaamshenoy@outlook.com</td><td>OPTIMIZE</td><td>Map(zOrderBy -> [], batchId -> 0, auto -> false, predicate -> [])</td><td>null</td><td>List(2121621502026997)</td><td>0113-120816-1eptehi9</td><td>1</td><td>SnapshotIsolation</td><td>false</td><td>Map(numRemovedFiles -> 2, numRemovedBytes -> 158523353, p25FileSize -> 158813070, minFileSize -> 158813070, numAddedFiles -> 1, maxFileSize -> 158813070, p75FileSize -> 158813070, p50FileSize -> 158813070, numAddedBytes -> 158813070)</td><td>null</td><td>Databricks-Runtime/10.4.x-photon-scala2.12</td></tr><tr><td>1</td><td>2024-01-15T14:00:43.000+0000</td><td>2035466439901047</td><td>supriyaamshenoy@outlook.com</td><td>OPTIMIZE</td><td>Map(zOrderBy -> [], batchId -> 0, auto -> false, predicate -> [])</td><td>null</td><td>List(2121621502026997)</td><td>0113-120816-1eptehi9</td><td>0</td><td>SnapshotIsolation</td><td>false</td><td>Map(numRemovedFiles -> 1500, numRemovedBytes -> 716480913, p25FileSize -> 29852953, minFileSize -> 24706033, numAddedFiles -> 5, maxFileSize -> 207593273, p75FileSize -> 128670400, p50FileSize -> 41847981, numAddedBytes -> 432670640)</td><td>null</td><td>Databricks-Runtime/10.4.x-photon-scala2.12</td></tr><tr><td>0</td><td>2024-01-15T13:50:18.000+0000</td><td>2035466439901047</td><td>supriyaamshenoy@outlook.com</td><td>CREATE TABLE AS SELECT</td><td>Map(isManaged -> true, description -> null, partitionBy -> [\"vendor_name\"], properties -> {})</td><td>null</td><td>List(2121621502026997)</td><td>0113-120816-1eptehi9</td><td>null</td><td>WriteSerializable</td><td>true</td><td>Map(numFiles -> 1500, numOutputRows -> 14092413, numOutputBytes -> 716480913)</td><td>null</td><td>Databricks-Runtime/10.4.x-photon-scala2.12</td></tr></tbody></table></div>"
      ]
     },
     "metadata": {
      "application/vnd.databricks.v1+output": {
       "addedWidgets": {},
       "aggData": [],
       "aggError": "",
       "aggOverflow": false,
       "aggSchema": [],
       "aggSeriesLimitReached": false,
       "aggType": "",
       "arguments": {},
       "columnCustomDisplayInfos": {},
       "data": [
        [
         2,
         "2024-01-15T14:32:23.000+0000",
         "2035466439901047",
         "supriyaamshenoy@outlook.com",
         "OPTIMIZE",
         {
          "auto": "false",
          "batchId": "0",
          "predicate": "[]",
          "zOrderBy": "[]"
         },
         null,
         [
          "2121621502026997"
         ],
         "0113-120816-1eptehi9",
         1,
         "SnapshotIsolation",
         false,
         {
          "maxFileSize": "158813070",
          "minFileSize": "158813070",
          "numAddedBytes": "158813070",
          "numAddedFiles": "1",
          "numRemovedBytes": "158523353",
          "numRemovedFiles": "2",
          "p25FileSize": "158813070",
          "p50FileSize": "158813070",
          "p75FileSize": "158813070"
         },
         null,
         "Databricks-Runtime/10.4.x-photon-scala2.12"
        ],
        [
         1,
         "2024-01-15T14:00:43.000+0000",
         "2035466439901047",
         "supriyaamshenoy@outlook.com",
         "OPTIMIZE",
         {
          "auto": "false",
          "batchId": "0",
          "predicate": "[]",
          "zOrderBy": "[]"
         },
         null,
         [
          "2121621502026997"
         ],
         "0113-120816-1eptehi9",
         0,
         "SnapshotIsolation",
         false,
         {
          "maxFileSize": "207593273",
          "minFileSize": "24706033",
          "numAddedBytes": "432670640",
          "numAddedFiles": "5",
          "numRemovedBytes": "716480913",
          "numRemovedFiles": "1500",
          "p25FileSize": "29852953",
          "p50FileSize": "41847981",
          "p75FileSize": "128670400"
         },
         null,
         "Databricks-Runtime/10.4.x-photon-scala2.12"
        ],
        [
         0,
         "2024-01-15T13:50:18.000+0000",
         "2035466439901047",
         "supriyaamshenoy@outlook.com",
         "CREATE TABLE AS SELECT",
         {
          "description": null,
          "isManaged": "true",
          "partitionBy": "[\"vendor_name\"]",
          "properties": "{}"
         },
         null,
         [
          "2121621502026997"
         ],
         "0113-120816-1eptehi9",
         null,
         "WriteSerializable",
         true,
         {
          "numFiles": "1500",
          "numOutputBytes": "716480913",
          "numOutputRows": "14092413"
         },
         null,
         "Databricks-Runtime/10.4.x-photon-scala2.12"
        ]
       ],
       "datasetInfos": [],
       "dbfsResultPath": null,
       "isJsonSchema": true,
       "metadata": {},
       "overflow": false,
       "plotOptions": {
        "customPlotOptions": {},
        "displayType": "table",
        "pivotAggregation": null,
        "pivotColumns": null,
        "xColumns": null,
        "yColumns": null
       },
       "removedWidgets": [],
       "schema": [
        {
         "metadata": "{}",
         "name": "version",
         "type": "\"long\""
        },
        {
         "metadata": "{}",
         "name": "timestamp",
         "type": "\"timestamp\""
        },
        {
         "metadata": "{}",
         "name": "userId",
         "type": "\"string\""
        },
        {
         "metadata": "{}",
         "name": "userName",
         "type": "\"string\""
        },
        {
         "metadata": "{}",
         "name": "operation",
         "type": "\"string\""
        },
        {
         "metadata": "{}",
         "name": "operationParameters",
         "type": "{\"type\":\"map\",\"keyType\":\"string\",\"valueType\":\"string\",\"valueContainsNull\":true}"
        },
        {
         "metadata": "{}",
         "name": "job",
         "type": "{\"type\":\"struct\",\"fields\":[{\"name\":\"jobId\",\"type\":\"string\",\"nullable\":true,\"metadata\":{}},{\"name\":\"jobName\",\"type\":\"string\",\"nullable\":true,\"metadata\":{}},{\"name\":\"runId\",\"type\":\"string\",\"nullable\":true,\"metadata\":{}},{\"name\":\"jobOwnerId\",\"type\":\"string\",\"nullable\":true,\"metadata\":{}},{\"name\":\"triggerType\",\"type\":\"string\",\"nullable\":true,\"metadata\":{}}]}"
        },
        {
         "metadata": "{}",
         "name": "notebook",
         "type": "{\"type\":\"struct\",\"fields\":[{\"name\":\"notebookId\",\"type\":\"string\",\"nullable\":true,\"metadata\":{}}]}"
        },
        {
         "metadata": "{}",
         "name": "clusterId",
         "type": "\"string\""
        },
        {
         "metadata": "{}",
         "name": "readVersion",
         "type": "\"long\""
        },
        {
         "metadata": "{}",
         "name": "isolationLevel",
         "type": "\"string\""
        },
        {
         "metadata": "{}",
         "name": "isBlindAppend",
         "type": "\"boolean\""
        },
        {
         "metadata": "{}",
         "name": "operationMetrics",
         "type": "{\"type\":\"map\",\"keyType\":\"string\",\"valueType\":\"string\",\"valueContainsNull\":true}"
        },
        {
         "metadata": "{}",
         "name": "userMetadata",
         "type": "\"string\""
        },
        {
         "metadata": "{}",
         "name": "engineInfo",
         "type": "\"string\""
        }
       ],
       "type": "table"
      }
     },
     "output_type": "display_data"
    }
   ],
   "source": [
    "%sql\n",
    "describe history trip_db.trip_small_delta"
   ]
  },
  {
   "cell_type": "code",
   "execution_count": 0,
   "metadata": {
    "application/vnd.databricks.v1+cell": {
     "cellMetadata": {
      "byteLimit": 2048000,
      "implicitDf": true,
      "rowLimit": 10000
     },
     "inputWidgets": {},
     "nuid": "aaa2c647-86da-4cc4-8b33-9c67e3eeb8e7",
     "showTitle": false,
     "title": ""
    }
   },
   "outputs": [
    {
     "output_type": "display_data",
     "data": {
      "text/html": [
       "<style scoped>\n",
       "  .ansiout {\n",
       "    display: block;\n",
       "    unicode-bidi: embed;\n",
       "    white-space: pre-wrap;\n",
       "    word-wrap: break-word;\n",
       "    word-break: break-all;\n",
       "    font-family: \"Menlo\", \"Monaco\", \"Consolas\", \"Ubuntu Mono\", \"Source Code Pro\", monospace;\n",
       "    font-size: 13px;\n",
       "    color: #555;\n",
       "    margin-left: 4px;\n",
       "    line-height: 19px;\n",
       "  }\n",
       "</style>\n",
       "org.apache.spark.SparkException: Job aborted due to stage failure: Task 0 in stage 6.0 failed 4 times, most recent failure: Lost task 0.3 in stage 6.0 (TID 9) (10.139.64.4 executor driver): com.databricks.sql.io.FileReadException: Error while reading file dbfs:/user/hive/warehouse/trip_db.db/trip_small_delta/vendor_name=VTS/part-00448-cd9d4779-16c0-44b9-af42-b45f7bb0491e.c000.snappy.parquet. A file referenced in the transaction log cannot be found. This occurs when data has been manually deleted from the file system rather than using the table `DELETE` statement. For more information, see https://docs.microsoft.com/azure/databricks/delta/delta-intro#frequently-asked-questions\n",
       "\tat org.apache.spark.sql.execution.datasources.FileScanRDD$$anon$1$$anon$2.logFileNameAndThrow(FileScanRDD.scala:605)\n",
       "\tat org.apache.spark.sql.execution.datasources.FileScanRDD$$anon$1$$anon$2.getNext(FileScanRDD.scala:557)\n",
       "\tat org.apache.spark.util.NextIterator.hasNext(NextIterator.scala:73)\n",
       "\tat org.apache.spark.sql.execution.datasources.FileScanRDD$$anon$1.nextIterator(FileScanRDD.scala:698)\n",
       "\tat org.apache.spark.sql.execution.datasources.FileScanRDD$$anon$1.$anonfun$hasNext$1(FileScanRDD.scala:431)\n",
       "\tat scala.runtime.java8.JFunction0$mcZ$sp.apply(JFunction0$mcZ$sp.java:23)\n",
       "\tat com.databricks.spark.util.ExecutorFrameProfiler$.record(ExecutorFrameProfiler.scala:110)\n",
       "\tat org.apache.spark.sql.execution.datasources.FileScanRDD$$anon$1.hasNext(FileScanRDD.scala:426)\n",
       "\tat org.apache.spark.sql.execution.FileSourceScanExec$$anon$1.hasNext(DataSourceScanExec.scala:1017)\n",
       "\tat org.apache.spark.sql.catalyst.expressions.GeneratedClass$GeneratedIteratorForCodegenStage1.columnartorow_nextBatch_0$(Unknown Source)\n",
       "\tat org.apache.spark.sql.catalyst.expressions.GeneratedClass$GeneratedIteratorForCodegenStage1.processNext(Unknown Source)\n",
       "\tat org.apache.spark.sql.execution.BufferedRowIterator.hasNext(BufferedRowIterator.java:43)\n",
       "\tat org.apache.spark.sql.execution.WholeStageCodegenExec$$anon$1.hasNext(WholeStageCodegenExec.scala:759)\n",
       "\tat org.apache.spark.sql.execution.collect.UnsafeRowBatchUtils$.encodeUnsafeRows(UnsafeRowBatchUtils.scala:80)\n",
       "\tat org.apache.spark.sql.execution.collect.Collector.$anonfun$processFunc$1(Collector.scala:155)\n",
       "\tat org.apache.spark.scheduler.ResultTask.$anonfun$runTask$3(ResultTask.scala:75)\n",
       "\tat com.databricks.spark.util.ExecutorFrameProfiler$.record(ExecutorFrameProfiler.scala:110)\n",
       "\tat org.apache.spark.scheduler.ResultTask.$anonfun$runTask$1(ResultTask.scala:75)\n",
       "\tat com.databricks.spark.util.ExecutorFrameProfiler$.record(ExecutorFrameProfiler.scala:110)\n",
       "\tat org.apache.spark.scheduler.ResultTask.runTask(ResultTask.scala:55)\n",
       "\tat org.apache.spark.scheduler.Task.doRunTask(Task.scala:161)\n",
       "\tat org.apache.spark.scheduler.Task.$anonfun$run$1(Task.scala:125)\n",
       "\tat com.databricks.spark.util.ExecutorFrameProfiler$.record(ExecutorFrameProfiler.scala:110)\n",
       "\tat org.apache.spark.scheduler.Task.run(Task.scala:95)\n",
       "\tat org.apache.spark.executor.Executor$TaskRunner.$anonfun$run$13(Executor.scala:832)\n",
       "\tat org.apache.spark.util.Utils$.tryWithSafeFinally(Utils.scala:1681)\n",
       "\tat org.apache.spark.executor.Executor$TaskRunner.$anonfun$run$4(Executor.scala:835)\n",
       "\tat scala.runtime.java8.JFunction0$mcV$sp.apply(JFunction0$mcV$sp.java:23)\n",
       "\tat com.databricks.spark.util.ExecutorFrameProfiler$.record(ExecutorFrameProfiler.scala:110)\n",
       "\tat org.apache.spark.executor.Executor$TaskRunner.run(Executor.scala:690)\n",
       "\tat java.util.concurrent.ThreadPoolExecutor.runWorker(ThreadPoolExecutor.java:1149)\n",
       "\tat java.util.concurrent.ThreadPoolExecutor$Worker.run(ThreadPoolExecutor.java:624)\n",
       "\tat java.lang.Thread.run(Thread.java:750)\n",
       "Caused by: java.io.FileNotFoundException: dbfs:/user/hive/warehouse/trip_db.db/trip_small_delta/vendor_name=VTS/part-00448-cd9d4779-16c0-44b9-af42-b45f7bb0491e.c000.snappy.parquet\n",
       "\tat com.databricks.backend.daemon.data.client.DatabricksFileSystemV2.$anonfun$getFileStatus$2(DatabricksFileSystemV2.scala:879)\n",
       "\tat com.databricks.s3a.S3AExceptionUtils$.convertAWSExceptionToJavaIOException(DatabricksStreamUtils.scala:70)\n",
       "\tat com.databricks.backend.daemon.data.client.DatabricksFileSystemV2.$anonfun$getFileStatus$1(DatabricksFileSystemV2.scala:865)\n",
       "\tat com.databricks.logging.UsageLogging.$anonfun$recordOperation$1(UsageLogging.scala:330)\n",
       "\tat com.databricks.logging.UsageLogging.executeThunkAndCaptureResultTags$1(UsageLogging.scala:424)\n",
       "\tat com.databricks.logging.UsageLogging.$anonfun$recordOperationWithResultTags$4(UsageLogging.scala:444)\n",
       "\tat com.databricks.logging.Log4jUsageLoggingShim$.$anonfun$withAttributionContext$1(Log4jUsageLoggingShim.scala:33)\n",
       "\tat scala.util.DynamicVariable.withValue(DynamicVariable.scala:62)\n",
       "\tat com.databricks.logging.AttributionContext$.withValue(AttributionContext.scala:94)\n",
       "\tat com.databricks.logging.Log4jUsageLoggingShim$.withAttributionContext(Log4jUsageLoggingShim.scala:31)\n",
       "\tat com.databricks.logging.UsageLogging.withAttributionContext(UsageLogging.scala:205)\n",
       "\tat com.databricks.logging.UsageLogging.withAttributionContext$(UsageLogging.scala:204)\n",
       "\tat com.databricks.backend.daemon.data.client.DatabricksFileSystemV2.withAttributionContext(DatabricksFileSystemV2.scala:510)\n",
       "\tat com.databricks.logging.UsageLogging.withAttributionTags(UsageLogging.scala:240)\n",
       "\tat com.databricks.logging.UsageLogging.withAttributionTags$(UsageLogging.scala:225)\n",
       "\tat com.databricks.backend.daemon.data.client.DatabricksFileSystemV2.withAttributionTags(DatabricksFileSystemV2.scala:510)\n",
       "\tat com.databricks.logging.UsageLogging.recordOperationWithResultTags(UsageLogging.scala:419)\n",
       "\tat com.databricks.logging.UsageLogging.recordOperationWithResultTags$(UsageLogging.scala:339)\n",
       "\tat com.databricks.backend.daemon.data.client.DatabricksFileSystemV2.recordOperationWithResultTags(DatabricksFileSystemV2.scala:510)\n",
       "\tat com.databricks.logging.UsageLogging.recordOperation(UsageLogging.scala:330)\n",
       "\tat com.databricks.logging.UsageLogging.recordOperation$(UsageLogging.scala:302)\n",
       "\tat com.databricks.backend.daemon.data.client.DatabricksFileSystemV2.recordOperation(DatabricksFileSystemV2.scala:510)\n",
       "\tat com.databricks.backend.daemon.data.client.DatabricksFileSystemV2.getFileStatus(DatabricksFileSystemV2.scala:865)\n",
       "\tat com.databricks.backend.daemon.data.client.DatabricksFileSystem.getFileStatus(DatabricksFileSystem.scala:215)\n",
       "\tat com.databricks.spark.metrics.FileSystemWithMetrics.getFileStatus(FileSystemWithMetrics.scala:375)\n",
       "\tat com.databricks.sql.io.parquet.CachingParquetFooterReader.readFooter(CachingParquetFooterReader.java:208)\n",
       "\tat com.databricks.sql.io.parquet.CachingParquetFileReader.readFooter(CachingParquetFileReader.java:350)\n",
       "\tat org.apache.spark.sql.execution.datasources.parquet.SpecificParquetRecordReaderBase.prepare(SpecificParquetRecordReaderBase.java:123)\n",
       "\tat org.apache.spark.sql.execution.datasources.parquet.ParquetFileFormat$$anon$2.apply(ParquetFileFormat.scala:540)\n",
       "\tat org.apache.spark.sql.execution.datasources.parquet.ParquetFileFormat$$anon$2.apply(ParquetFileFormat.scala:425)\n",
       "\tat org.apache.spark.sql.execution.datasources.FileScanRDD$$anon$1$$anon$2.getNext(FileScanRDD.scala:532)\n",
       "\t... 31 more\n",
       "\n",
       "Driver stacktrace:\n",
       "\tat org.apache.spark.scheduler.DAGScheduler.failJobAndIndependentStages(DAGScheduler.scala:3093)\n",
       "\tat org.apache.spark.scheduler.DAGScheduler.$anonfun$abortStage$2(DAGScheduler.scala:3040)\n",
       "\tat org.apache.spark.scheduler.DAGScheduler.$anonfun$abortStage$2$adapted(DAGScheduler.scala:3034)\n",
       "\tat scala.collection.mutable.ResizableArray.foreach(ResizableArray.scala:62)\n",
       "\tat scala.collection.mutable.ResizableArray.foreach$(ResizableArray.scala:55)\n",
       "\tat scala.collection.mutable.ArrayBuffer.foreach(ArrayBuffer.scala:49)\n",
       "\tat org.apache.spark.scheduler.DAGScheduler.abortStage(DAGScheduler.scala:3034)\n",
       "\tat org.apache.spark.scheduler.DAGScheduler.$anonfun$handleTaskSetFailed$1(DAGScheduler.scala:1391)\n",
       "\tat org.apache.spark.scheduler.DAGScheduler.$anonfun$handleTaskSetFailed$1$adapted(DAGScheduler.scala:1391)\n",
       "\tat scala.Option.foreach(Option.scala:407)\n",
       "\tat org.apache.spark.scheduler.DAGScheduler.handleTaskSetFailed(DAGScheduler.scala:1391)\n",
       "\tat org.apache.spark.scheduler.DAGSchedulerEventProcessLoop.doOnReceive(DAGScheduler.scala:3302)\n",
       "\tat org.apache.spark.scheduler.DAGSchedulerEventProcessLoop.onReceive(DAGScheduler.scala:3243)\n",
       "\tat org.apache.spark.scheduler.DAGSchedulerEventProcessLoop.onReceive(DAGScheduler.scala:3231)\n",
       "\tat org.apache.spark.util.EventLoop$$anon$1.run(EventLoop.scala:49)\n",
       "\tat org.apache.spark.scheduler.DAGScheduler.runJob(DAGScheduler.scala:1157)\n",
       "\tat org.apache.spark.SparkContext.runJobInternal(SparkContext.scala:2657)\n",
       "\tat org.apache.spark.sql.execution.collect.Collector.runSparkJobs(Collector.scala:266)\n",
       "\tat org.apache.spark.sql.execution.collect.Collector.collect(Collector.scala:276)\n",
       "\tat org.apache.spark.sql.execution.collect.Collector$.collect(Collector.scala:81)\n",
       "\tat org.apache.spark.sql.execution.collect.Collector$.collect(Collector.scala:87)\n",
       "\tat org.apache.spark.sql.execution.collect.InternalRowFormat$.collect(cachedSparkResults.scala:75)\n",
       "\tat org.apache.spark.sql.execution.collect.InternalRowFormat$.collect(cachedSparkResults.scala:62)\n",
       "\tat org.apache.spark.sql.execution.ResultCacheManager.collectResult$1(ResultCacheManager.scala:573)\n",
       "\tat org.apache.spark.sql.execution.ResultCacheManager.computeResult(ResultCacheManager.scala:582)\n",
       "\tat org.apache.spark.sql.execution.ResultCacheManager.$anonfun$getOrComputeResultInternal$1(ResultCacheManager.scala:528)\n",
       "\tat scala.Option.getOrElse(Option.scala:189)\n",
       "\tat org.apache.spark.sql.execution.ResultCacheManager.getOrComputeResultInternal(ResultCacheManager.scala:527)\n",
       "\tat org.apache.spark.sql.execution.ResultCacheManager.getOrComputeResult(ResultCacheManager.scala:424)\n",
       "\tat org.apache.spark.sql.execution.ResultCacheManager.getOrComputeResult(ResultCacheManager.scala:403)\n",
       "\tat org.apache.spark.sql.execution.SparkPlan.executeCollectResult(SparkPlan.scala:424)\n",
       "\tat org.apache.spark.sql.Dataset.collectResult(Dataset.scala:3153)\n",
       "\tat org.apache.spark.sql.Dataset.$anonfun$collectResult$1(Dataset.scala:3144)\n",
       "\tat org.apache.spark.sql.Dataset.$anonfun$withAction$1(Dataset.scala:3951)\n",
       "\tat org.apache.spark.sql.execution.SQLExecution$.$anonfun$withCustomExecutionEnv$8(SQLExecution.scala:245)\n",
       "\tat org.apache.spark.sql.execution.SQLExecution$.withSQLConfPropagated(SQLExecution.scala:393)\n",
       "\tat org.apache.spark.sql.execution.SQLExecution$.$anonfun$withCustomExecutionEnv$1(SQLExecution.scala:192)\n",
       "\tat org.apache.spark.sql.SparkSession.withActive(SparkSession.scala:968)\n",
       "\tat org.apache.spark.sql.execution.SQLExecution$.withCustomExecutionEnv(SQLExecution.scala:147)\n",
       "\tat org.apache.spark.sql.execution.SQLExecution$.withNewExecutionId(SQLExecution.scala:343)\n",
       "\tat org.apache.spark.sql.Dataset.withAction(Dataset.scala:3949)\n",
       "\tat org.apache.spark.sql.Dataset.collectResult(Dataset.scala:3143)\n",
       "\tat com.databricks.backend.daemon.driver.OutputAggregator$.withOutputAggregation0(OutputAggregator.scala:266)\n",
       "\tat com.databricks.backend.daemon.driver.OutputAggregator$.withOutputAggregation(OutputAggregator.scala:100)\n",
       "\tat com.databricks.backend.daemon.driver.PythonDriverLocalBase.generateTableResult(PythonDriverLocalBase.scala:723)\n",
       "\tat com.databricks.backend.daemon.driver.PythonDriverLocal.computeListResultsItem(PythonDriverLocal.scala:627)\n",
       "\tat com.databricks.backend.daemon.driver.PythonDriverLocalBase.genListResults(PythonDriverLocalBase.scala:630)\n",
       "\tat com.databricks.backend.daemon.driver.PythonDriverLocal.$anonfun$getResultBufferInternal$1(PythonDriverLocal.scala:682)\n",
       "\tat com.databricks.backend.daemon.driver.PythonDriverLocal.withInterpLock(PythonDriverLocal.scala:563)\n",
       "\tat com.databricks.backend.daemon.driver.PythonDriverLocal.getResultBufferInternal(PythonDriverLocal.scala:642)\n",
       "\tat com.databricks.backend.daemon.driver.DriverLocal.getResultBuffer(DriverLocal.scala:758)\n",
       "\tat com.databricks.backend.daemon.driver.PythonDriverLocal.outputSuccess(PythonDriverLocal.scala:605)\n",
       "\tat com.databricks.backend.daemon.driver.PythonDriverLocal.$anonfun$repl$6(PythonDriverLocal.scala:223)\n",
       "\tat com.databricks.backend.daemon.driver.PythonDriverLocal.withInterpLock(PythonDriverLocal.scala:563)\n",
       "\tat com.databricks.backend.daemon.driver.PythonDriverLocal.repl(PythonDriverLocal.scala:210)\n",
       "\tat com.databricks.backend.daemon.driver.DriverLocal.$anonfun$execute$13(DriverLocal.scala:644)\n",
       "\tat com.databricks.logging.Log4jUsageLoggingShim$.$anonfun$withAttributionContext$1(Log4jUsageLoggingShim.scala:33)\n",
       "\tat scala.util.DynamicVariable.withValue(DynamicVariable.scala:62)\n",
       "\tat com.databricks.logging.AttributionContext$.withValue(AttributionContext.scala:94)\n",
       "\tat com.databricks.logging.Log4jUsageLoggingShim$.withAttributionContext(Log4jUsageLoggingShim.scala:31)\n",
       "\tat com.databricks.logging.UsageLogging.withAttributionContext(UsageLogging.scala:205)\n",
       "\tat com.databricks.logging.UsageLogging.withAttributionContext$(UsageLogging.scala:204)\n",
       "\tat com.databricks.backend.daemon.driver.DriverLocal.withAttributionContext(DriverLocal.scala:59)\n",
       "\tat com.databricks.logging.UsageLogging.withAttributionTags(UsageLogging.scala:240)\n",
       "\tat com.databricks.logging.UsageLogging.withAttributionTags$(UsageLogging.scala:225)\n",
       "\tat com.databricks.backend.daemon.driver.DriverLocal.withAttributionTags(DriverLocal.scala:59)\n",
       "\tat com.databricks.backend.daemon.driver.DriverLocal.execute(DriverLocal.scala:621)\n",
       "\tat com.databricks.backend.daemon.driver.DriverWrapper.$anonfun$tryExecutingCommand$1(DriverWrapper.scala:615)\n",
       "\tat scala.util.Try$.apply(Try.scala:213)\n",
       "\tat com.databricks.backend.daemon.driver.DriverWrapper.tryExecutingCommand(DriverWrapper.scala:607)\n",
       "\tat com.databricks.backend.daemon.driver.DriverWrapper.executeCommandAndGetError(DriverWrapper.scala:526)\n",
       "\tat com.databricks.backend.daemon.driver.DriverWrapper.executeCommand(DriverWrapper.scala:561)\n",
       "\tat com.databricks.backend.daemon.driver.DriverWrapper.runInnerLoop(DriverWrapper.scala:431)\n",
       "\tat com.databricks.backend.daemon.driver.DriverWrapper.runInner(DriverWrapper.scala:374)\n",
       "\tat com.databricks.backend.daemon.driver.DriverWrapper.run(DriverWrapper.scala:225)\n",
       "\tat java.lang.Thread.run(Thread.java:750)\n",
       "Caused by: com.databricks.sql.io.FileReadException: Error while reading file dbfs:/user/hive/warehouse/trip_db.db/trip_small_delta/vendor_name=VTS/part-00448-cd9d4779-16c0-44b9-af42-b45f7bb0491e.c000.snappy.parquet. A file referenced in the transaction log cannot be found. This occurs when data has been manually deleted from the file system rather than using the table `DELETE` statement. For more information, see https://docs.microsoft.com/azure/databricks/delta/delta-intro#frequently-asked-questions\n",
       "\tat org.apache.spark.sql.execution.datasources.FileScanRDD$$anon$1$$anon$2.logFileNameAndThrow(FileScanRDD.scala:605)\n",
       "\tat org.apache.spark.sql.execution.datasources.FileScanRDD$$anon$1$$anon$2.getNext(FileScanRDD.scala:557)\n",
       "\tat org.apache.spark.util.NextIterator.hasNext(NextIterator.scala:73)\n",
       "\tat org.apache.spark.sql.execution.datasources.FileScanRDD$$anon$1.nextIterator(FileScanRDD.scala:698)\n",
       "\tat org.apache.spark.sql.execution.datasources.FileScanRDD$$anon$1.$anonfun$hasNext$1(FileScanRDD.scala:431)\n",
       "\tat scala.runtime.java8.JFunction0$mcZ$sp.apply(JFunction0$mcZ$sp.java:23)\n",
       "\tat com.databricks.spark.util.ExecutorFrameProfiler$.record(ExecutorFrameProfiler.scala:110)\n",
       "\tat org.apache.spark.sql.execution.datasources.FileScanRDD$$anon$1.hasNext(FileScanRDD.scala:426)\n",
       "\tat org.apache.spark.sql.execution.FileSourceScanExec$$anon$1.hasNext(DataSourceScanExec.scala:1017)\n",
       "\tat org.apache.spark.sql.catalyst.expressions.GeneratedClass$GeneratedIteratorForCodegenStage1.columnartorow_nextBatch_0$(Unknown Source)\n",
       "\tat org.apache.spark.sql.catalyst.expressions.GeneratedClass$GeneratedIteratorForCodegenStage1.processNext(Unknown Source)\n",
       "\tat org.apache.spark.sql.execution.BufferedRowIterator.hasNext(BufferedRowIterator.java:43)\n",
       "\tat org.apache.spark.sql.execution.WholeStageCodegenExec$$anon$1.hasNext(WholeStageCodegenExec.scala:759)\n",
       "\tat org.apache.spark.sql.execution.collect.UnsafeRowBatchUtils$.encodeUnsafeRows(UnsafeRowBatchUtils.scala:80)\n",
       "\tat org.apache.spark.sql.execution.collect.Collector.$anonfun$processFunc$1(Collector.scala:155)\n",
       "\tat org.apache.spark.scheduler.ResultTask.$anonfun$runTask$3(ResultTask.scala:75)\n",
       "\tat com.databricks.spark.util.ExecutorFrameProfiler$.record(ExecutorFrameProfiler.scala:110)\n",
       "\tat org.apache.spark.scheduler.ResultTask.$anonfun$runTask$1(ResultTask.scala:75)\n",
       "\tat com.databricks.spark.util.ExecutorFrameProfiler$.record(ExecutorFrameProfiler.scala:110)\n",
       "\tat org.apache.spark.scheduler.ResultTask.runTask(ResultTask.scala:55)\n",
       "\tat org.apache.spark.scheduler.Task.doRunTask(Task.scala:161)\n",
       "\tat org.apache.spark.scheduler.Task.$anonfun$run$1(Task.scala:125)\n",
       "\tat com.databricks.spark.util.ExecutorFrameProfiler$.record(ExecutorFrameProfiler.scala:110)\n",
       "\tat org.apache.spark.scheduler.Task.run(Task.scala:95)\n",
       "\tat org.apache.spark.executor.Executor$TaskRunner.$anonfun$run$13(Executor.scala:832)\n",
       "\tat org.apache.spark.util.Utils$.tryWithSafeFinally(Utils.scala:1681)\n",
       "\tat org.apache.spark.executor.Executor$TaskRunner.$anonfun$run$4(Executor.scala:835)\n",
       "\tat scala.runtime.java8.JFunction0$mcV$sp.apply(JFunction0$mcV$sp.java:23)\n",
       "\tat com.databricks.spark.util.ExecutorFrameProfiler$.record(ExecutorFrameProfiler.scala:110)\n",
       "\tat org.apache.spark.executor.Executor$TaskRunner.run(Executor.scala:690)\n",
       "\tat java.util.concurrent.ThreadPoolExecutor.runWorker(ThreadPoolExecutor.java:1149)\n",
       "\tat java.util.concurrent.ThreadPoolExecutor$Worker.run(ThreadPoolExecutor.java:624)\n",
       "\t... 1 more\n",
       "Caused by: java.io.FileNotFoundException: dbfs:/user/hive/warehouse/trip_db.db/trip_small_delta/vendor_name=VTS/part-00448-cd9d4779-16c0-44b9-af42-b45f7bb0491e.c000.snappy.parquet\n",
       "\tat com.databricks.backend.daemon.data.client.DatabricksFileSystemV2.$anonfun$getFileStatus$2(DatabricksFileSystemV2.scala:879)\n",
       "\tat com.databricks.s3a.S3AExceptionUtils$.convertAWSExceptionToJavaIOException(DatabricksStreamUtils.scala:70)\n",
       "\tat com.databricks.backend.daemon.data.client.DatabricksFileSystemV2.$anonfun$getFileStatus$1(DatabricksFileSystemV2.scala:865)\n",
       "\tat com.databricks.logging.UsageLogging.$anonfun$recordOperation$1(UsageLogging.scala:330)\n",
       "\tat com.databricks.logging.UsageLogging.executeThunkAndCaptureResultTags$1(UsageLogging.scala:424)\n",
       "\tat com.databricks.logging.UsageLogging.$anonfun$recordOperationWithResultTags$4(UsageLogging.scala:444)\n",
       "\tat com.databricks.logging.Log4jUsageLoggingShim$.$anonfun$withAttributionContext$1(Log4jUsageLoggingShim.scala:33)\n",
       "\tat scala.util.DynamicVariable.withValue(DynamicVariable.scala:62)\n",
       "\tat com.databricks.logging.AttributionContext$.withValue(AttributionContext.scala:94)\n",
       "\tat com.databricks.logging.Log4jUsageLoggingShim$.withAttributionContext(Log4jUsageLoggingShim.scala:31)\n",
       "\tat com.databricks.logging.UsageLogging.withAttributionContext(UsageLogging.scala:205)\n",
       "\tat com.databricks.logging.UsageLogging.withAttributionContext$(UsageLogging.scala:204)\n",
       "\tat com.databricks.backend.daemon.data.client.DatabricksFileSystemV2.withAttributionContext(DatabricksFileSystemV2.scala:510)\n",
       "\tat com.databricks.logging.UsageLogging.withAttributionTags(UsageLogging.scala:240)\n",
       "\tat com.databricks.logging.UsageLogging.withAttributionTags$(UsageLogging.scala:225)\n",
       "\tat com.databricks.backend.daemon.data.client.DatabricksFileSystemV2.withAttributionTags(DatabricksFileSystemV2.scala:510)\n",
       "\tat com.databricks.logging.UsageLogging.recordOperationWithResultTags(UsageLogging.scala:419)\n",
       "\tat com.databricks.logging.UsageLogging.recordOperationWithResultTags$(UsageLogging.scala:339)\n",
       "\tat com.databricks.backend.daemon.data.client.DatabricksFileSystemV2.recordOperationWithResultTags(DatabricksFileSystemV2.scala:510)\n",
       "\tat com.databricks.logging.UsageLogging.recordOperation(UsageLogging.scala:330)\n",
       "\tat com.databricks.logging.UsageLogging.recordOperation$(UsageLogging.scala:302)\n",
       "\tat com.databricks.backend.daemon.data.client.DatabricksFileSystemV2.recordOperation(DatabricksFileSystemV2.scala:510)\n",
       "\tat com.databricks.backend.daemon.data.client.DatabricksFileSystemV2.getFileStatus(DatabricksFileSystemV2.scala:865)\n",
       "\tat com.databricks.backend.daemon.data.client.DatabricksFileSystem.getFileStatus(DatabricksFileSystem.scala:215)\n",
       "\tat com.databricks.spark.metrics.FileSystemWithMetrics.getFileStatus(FileSystemWithMetrics.scala:375)\n",
       "\tat com.databricks.sql.io.parquet.CachingParquetFooterReader.readFooter(CachingParquetFooterReader.java:208)\n",
       "\tat com.databricks.sql.io.parquet.CachingParquetFileReader.readFooter(CachingParquetFileReader.java:350)\n",
       "\tat org.apache.spark.sql.execution.datasources.parquet.SpecificParquetRecordReaderBase.prepare(SpecificParquetRecordReaderBase.java:123)\n",
       "\tat org.apache.spark.sql.execution.datasources.parquet.ParquetFileFormat$$anon$2.apply(ParquetFileFormat.scala:540)\n",
       "\tat org.apache.spark.sql.execution.datasources.parquet.ParquetFileFormat$$anon$2.apply(ParquetFileFormat.scala:425)\n",
       "\tat org.apache.spark.sql.execution.datasources.FileScanRDD$$anon$1$$anon$2.getNext(FileScanRDD.scala:532)\n",
       "\t... 31 more"
      ]
     },
     "metadata": {
      "application/vnd.databricks.v1+output": {
       "arguments": {},
       "data": "org.apache.spark.SparkException: Job aborted due to stage failure: Task 0 in stage 6.0 failed 4 times, most recent failure: Lost task 0.3 in stage 6.0 (TID 9) (10.139.64.4 executor driver): com.databricks.sql.io.FileReadException: Error while reading file dbfs:/user/hive/warehouse/trip_db.db/trip_small_delta/vendor_name=VTS/part-00448-cd9d4779-16c0-44b9-af42-b45f7bb0491e.c000.snappy.parquet. A file referenced in the transaction log cannot be found. This occurs when data has been manually deleted from the file system rather than using the table `DELETE` statement. For more information, see https://docs.microsoft.com/azure/databricks/delta/delta-intro#frequently-asked-questions\n\tat org.apache.spark.sql.execution.datasources.FileScanRDD$$anon$1$$anon$2.logFileNameAndThrow(FileScanRDD.scala:605)\n\tat org.apache.spark.sql.execution.datasources.FileScanRDD$$anon$1$$anon$2.getNext(FileScanRDD.scala:557)\n\tat org.apache.spark.util.NextIterator.hasNext(NextIterator.scala:73)\n\tat org.apache.spark.sql.execution.datasources.FileScanRDD$$anon$1.nextIterator(FileScanRDD.scala:698)\n\tat org.apache.spark.sql.execution.datasources.FileScanRDD$$anon$1.$anonfun$hasNext$1(FileScanRDD.scala:431)\n\tat scala.runtime.java8.JFunction0$mcZ$sp.apply(JFunction0$mcZ$sp.java:23)\n\tat com.databricks.spark.util.ExecutorFrameProfiler$.record(ExecutorFrameProfiler.scala:110)\n\tat org.apache.spark.sql.execution.datasources.FileScanRDD$$anon$1.hasNext(FileScanRDD.scala:426)\n\tat org.apache.spark.sql.execution.FileSourceScanExec$$anon$1.hasNext(DataSourceScanExec.scala:1017)\n\tat org.apache.spark.sql.catalyst.expressions.GeneratedClass$GeneratedIteratorForCodegenStage1.columnartorow_nextBatch_0$(Unknown Source)\n\tat org.apache.spark.sql.catalyst.expressions.GeneratedClass$GeneratedIteratorForCodegenStage1.processNext(Unknown Source)\n\tat org.apache.spark.sql.execution.BufferedRowIterator.hasNext(BufferedRowIterator.java:43)\n\tat org.apache.spark.sql.execution.WholeStageCodegenExec$$anon$1.hasNext(WholeStageCodegenExec.scala:759)\n\tat org.apache.spark.sql.execution.collect.UnsafeRowBatchUtils$.encodeUnsafeRows(UnsafeRowBatchUtils.scala:80)\n\tat org.apache.spark.sql.execution.collect.Collector.$anonfun$processFunc$1(Collector.scala:155)\n\tat org.apache.spark.scheduler.ResultTask.$anonfun$runTask$3(ResultTask.scala:75)\n\tat com.databricks.spark.util.ExecutorFrameProfiler$.record(ExecutorFrameProfiler.scala:110)\n\tat org.apache.spark.scheduler.ResultTask.$anonfun$runTask$1(ResultTask.scala:75)\n\tat com.databricks.spark.util.ExecutorFrameProfiler$.record(ExecutorFrameProfiler.scala:110)\n\tat org.apache.spark.scheduler.ResultTask.runTask(ResultTask.scala:55)\n\tat org.apache.spark.scheduler.Task.doRunTask(Task.scala:161)\n\tat org.apache.spark.scheduler.Task.$anonfun$run$1(Task.scala:125)\n\tat com.databricks.spark.util.ExecutorFrameProfiler$.record(ExecutorFrameProfiler.scala:110)\n\tat org.apache.spark.scheduler.Task.run(Task.scala:95)\n\tat org.apache.spark.executor.Executor$TaskRunner.$anonfun$run$13(Executor.scala:832)\n\tat org.apache.spark.util.Utils$.tryWithSafeFinally(Utils.scala:1681)\n\tat org.apache.spark.executor.Executor$TaskRunner.$anonfun$run$4(Executor.scala:835)\n\tat scala.runtime.java8.JFunction0$mcV$sp.apply(JFunction0$mcV$sp.java:23)\n\tat com.databricks.spark.util.ExecutorFrameProfiler$.record(ExecutorFrameProfiler.scala:110)\n\tat org.apache.spark.executor.Executor$TaskRunner.run(Executor.scala:690)\n\tat java.util.concurrent.ThreadPoolExecutor.runWorker(ThreadPoolExecutor.java:1149)\n\tat java.util.concurrent.ThreadPoolExecutor$Worker.run(ThreadPoolExecutor.java:624)\n\tat java.lang.Thread.run(Thread.java:750)\nCaused by: java.io.FileNotFoundException: dbfs:/user/hive/warehouse/trip_db.db/trip_small_delta/vendor_name=VTS/part-00448-cd9d4779-16c0-44b9-af42-b45f7bb0491e.c000.snappy.parquet\n\tat com.databricks.backend.daemon.data.client.DatabricksFileSystemV2.$anonfun$getFileStatus$2(DatabricksFileSystemV2.scala:879)\n\tat com.databricks.s3a.S3AExceptionUtils$.convertAWSExceptionToJavaIOException(DatabricksStreamUtils.scala:70)\n\tat com.databricks.backend.daemon.data.client.DatabricksFileSystemV2.$anonfun$getFileStatus$1(DatabricksFileSystemV2.scala:865)\n\tat com.databricks.logging.UsageLogging.$anonfun$recordOperation$1(UsageLogging.scala:330)\n\tat com.databricks.logging.UsageLogging.executeThunkAndCaptureResultTags$1(UsageLogging.scala:424)\n\tat com.databricks.logging.UsageLogging.$anonfun$recordOperationWithResultTags$4(UsageLogging.scala:444)\n\tat com.databricks.logging.Log4jUsageLoggingShim$.$anonfun$withAttributionContext$1(Log4jUsageLoggingShim.scala:33)\n\tat scala.util.DynamicVariable.withValue(DynamicVariable.scala:62)\n\tat com.databricks.logging.AttributionContext$.withValue(AttributionContext.scala:94)\n\tat com.databricks.logging.Log4jUsageLoggingShim$.withAttributionContext(Log4jUsageLoggingShim.scala:31)\n\tat com.databricks.logging.UsageLogging.withAttributionContext(UsageLogging.scala:205)\n\tat com.databricks.logging.UsageLogging.withAttributionContext$(UsageLogging.scala:204)\n\tat com.databricks.backend.daemon.data.client.DatabricksFileSystemV2.withAttributionContext(DatabricksFileSystemV2.scala:510)\n\tat com.databricks.logging.UsageLogging.withAttributionTags(UsageLogging.scala:240)\n\tat com.databricks.logging.UsageLogging.withAttributionTags$(UsageLogging.scala:225)\n\tat com.databricks.backend.daemon.data.client.DatabricksFileSystemV2.withAttributionTags(DatabricksFileSystemV2.scala:510)\n\tat com.databricks.logging.UsageLogging.recordOperationWithResultTags(UsageLogging.scala:419)\n\tat com.databricks.logging.UsageLogging.recordOperationWithResultTags$(UsageLogging.scala:339)\n\tat com.databricks.backend.daemon.data.client.DatabricksFileSystemV2.recordOperationWithResultTags(DatabricksFileSystemV2.scala:510)\n\tat com.databricks.logging.UsageLogging.recordOperation(UsageLogging.scala:330)\n\tat com.databricks.logging.UsageLogging.recordOperation$(UsageLogging.scala:302)\n\tat com.databricks.backend.daemon.data.client.DatabricksFileSystemV2.recordOperation(DatabricksFileSystemV2.scala:510)\n\tat com.databricks.backend.daemon.data.client.DatabricksFileSystemV2.getFileStatus(DatabricksFileSystemV2.scala:865)\n\tat com.databricks.backend.daemon.data.client.DatabricksFileSystem.getFileStatus(DatabricksFileSystem.scala:215)\n\tat com.databricks.spark.metrics.FileSystemWithMetrics.getFileStatus(FileSystemWithMetrics.scala:375)\n\tat com.databricks.sql.io.parquet.CachingParquetFooterReader.readFooter(CachingParquetFooterReader.java:208)\n\tat com.databricks.sql.io.parquet.CachingParquetFileReader.readFooter(CachingParquetFileReader.java:350)\n\tat org.apache.spark.sql.execution.datasources.parquet.SpecificParquetRecordReaderBase.prepare(SpecificParquetRecordReaderBase.java:123)\n\tat org.apache.spark.sql.execution.datasources.parquet.ParquetFileFormat$$anon$2.apply(ParquetFileFormat.scala:540)\n\tat org.apache.spark.sql.execution.datasources.parquet.ParquetFileFormat$$anon$2.apply(ParquetFileFormat.scala:425)\n\tat org.apache.spark.sql.execution.datasources.FileScanRDD$$anon$1$$anon$2.getNext(FileScanRDD.scala:532)\n\t... 31 more\n\nDriver stacktrace:\n\tat org.apache.spark.scheduler.DAGScheduler.failJobAndIndependentStages(DAGScheduler.scala:3093)\n\tat org.apache.spark.scheduler.DAGScheduler.$anonfun$abortStage$2(DAGScheduler.scala:3040)\n\tat org.apache.spark.scheduler.DAGScheduler.$anonfun$abortStage$2$adapted(DAGScheduler.scala:3034)\n\tat scala.collection.mutable.ResizableArray.foreach(ResizableArray.scala:62)\n\tat scala.collection.mutable.ResizableArray.foreach$(ResizableArray.scala:55)\n\tat scala.collection.mutable.ArrayBuffer.foreach(ArrayBuffer.scala:49)\n\tat org.apache.spark.scheduler.DAGScheduler.abortStage(DAGScheduler.scala:3034)\n\tat org.apache.spark.scheduler.DAGScheduler.$anonfun$handleTaskSetFailed$1(DAGScheduler.scala:1391)\n\tat org.apache.spark.scheduler.DAGScheduler.$anonfun$handleTaskSetFailed$1$adapted(DAGScheduler.scala:1391)\n\tat scala.Option.foreach(Option.scala:407)\n\tat org.apache.spark.scheduler.DAGScheduler.handleTaskSetFailed(DAGScheduler.scala:1391)\n\tat org.apache.spark.scheduler.DAGSchedulerEventProcessLoop.doOnReceive(DAGScheduler.scala:3302)\n\tat org.apache.spark.scheduler.DAGSchedulerEventProcessLoop.onReceive(DAGScheduler.scala:3243)\n\tat org.apache.spark.scheduler.DAGSchedulerEventProcessLoop.onReceive(DAGScheduler.scala:3231)\n\tat org.apache.spark.util.EventLoop$$anon$1.run(EventLoop.scala:49)\n\tat org.apache.spark.scheduler.DAGScheduler.runJob(DAGScheduler.scala:1157)\n\tat org.apache.spark.SparkContext.runJobInternal(SparkContext.scala:2657)\n\tat org.apache.spark.sql.execution.collect.Collector.runSparkJobs(Collector.scala:266)\n\tat org.apache.spark.sql.execution.collect.Collector.collect(Collector.scala:276)\n\tat org.apache.spark.sql.execution.collect.Collector$.collect(Collector.scala:81)\n\tat org.apache.spark.sql.execution.collect.Collector$.collect(Collector.scala:87)\n\tat org.apache.spark.sql.execution.collect.InternalRowFormat$.collect(cachedSparkResults.scala:75)\n\tat org.apache.spark.sql.execution.collect.InternalRowFormat$.collect(cachedSparkResults.scala:62)\n\tat org.apache.spark.sql.execution.ResultCacheManager.collectResult$1(ResultCacheManager.scala:573)\n\tat org.apache.spark.sql.execution.ResultCacheManager.computeResult(ResultCacheManager.scala:582)\n\tat org.apache.spark.sql.execution.ResultCacheManager.$anonfun$getOrComputeResultInternal$1(ResultCacheManager.scala:528)\n\tat scala.Option.getOrElse(Option.scala:189)\n\tat org.apache.spark.sql.execution.ResultCacheManager.getOrComputeResultInternal(ResultCacheManager.scala:527)\n\tat org.apache.spark.sql.execution.ResultCacheManager.getOrComputeResult(ResultCacheManager.scala:424)\n\tat org.apache.spark.sql.execution.ResultCacheManager.getOrComputeResult(ResultCacheManager.scala:403)\n\tat org.apache.spark.sql.execution.SparkPlan.executeCollectResult(SparkPlan.scala:424)\n\tat org.apache.spark.sql.Dataset.collectResult(Dataset.scala:3153)\n\tat org.apache.spark.sql.Dataset.$anonfun$collectResult$1(Dataset.scala:3144)\n\tat org.apache.spark.sql.Dataset.$anonfun$withAction$1(Dataset.scala:3951)\n\tat org.apache.spark.sql.execution.SQLExecution$.$anonfun$withCustomExecutionEnv$8(SQLExecution.scala:245)\n\tat org.apache.spark.sql.execution.SQLExecution$.withSQLConfPropagated(SQLExecution.scala:393)\n\tat org.apache.spark.sql.execution.SQLExecution$.$anonfun$withCustomExecutionEnv$1(SQLExecution.scala:192)\n\tat org.apache.spark.sql.SparkSession.withActive(SparkSession.scala:968)\n\tat org.apache.spark.sql.execution.SQLExecution$.withCustomExecutionEnv(SQLExecution.scala:147)\n\tat org.apache.spark.sql.execution.SQLExecution$.withNewExecutionId(SQLExecution.scala:343)\n\tat org.apache.spark.sql.Dataset.withAction(Dataset.scala:3949)\n\tat org.apache.spark.sql.Dataset.collectResult(Dataset.scala:3143)\n\tat com.databricks.backend.daemon.driver.OutputAggregator$.withOutputAggregation0(OutputAggregator.scala:266)\n\tat com.databricks.backend.daemon.driver.OutputAggregator$.withOutputAggregation(OutputAggregator.scala:100)\n\tat com.databricks.backend.daemon.driver.PythonDriverLocalBase.generateTableResult(PythonDriverLocalBase.scala:723)\n\tat com.databricks.backend.daemon.driver.PythonDriverLocal.computeListResultsItem(PythonDriverLocal.scala:627)\n\tat com.databricks.backend.daemon.driver.PythonDriverLocalBase.genListResults(PythonDriverLocalBase.scala:630)\n\tat com.databricks.backend.daemon.driver.PythonDriverLocal.$anonfun$getResultBufferInternal$1(PythonDriverLocal.scala:682)\n\tat com.databricks.backend.daemon.driver.PythonDriverLocal.withInterpLock(PythonDriverLocal.scala:563)\n\tat com.databricks.backend.daemon.driver.PythonDriverLocal.getResultBufferInternal(PythonDriverLocal.scala:642)\n\tat com.databricks.backend.daemon.driver.DriverLocal.getResultBuffer(DriverLocal.scala:758)\n\tat com.databricks.backend.daemon.driver.PythonDriverLocal.outputSuccess(PythonDriverLocal.scala:605)\n\tat com.databricks.backend.daemon.driver.PythonDriverLocal.$anonfun$repl$6(PythonDriverLocal.scala:223)\n\tat com.databricks.backend.daemon.driver.PythonDriverLocal.withInterpLock(PythonDriverLocal.scala:563)\n\tat com.databricks.backend.daemon.driver.PythonDriverLocal.repl(PythonDriverLocal.scala:210)\n\tat com.databricks.backend.daemon.driver.DriverLocal.$anonfun$execute$13(DriverLocal.scala:644)\n\tat com.databricks.logging.Log4jUsageLoggingShim$.$anonfun$withAttributionContext$1(Log4jUsageLoggingShim.scala:33)\n\tat scala.util.DynamicVariable.withValue(DynamicVariable.scala:62)\n\tat com.databricks.logging.AttributionContext$.withValue(AttributionContext.scala:94)\n\tat com.databricks.logging.Log4jUsageLoggingShim$.withAttributionContext(Log4jUsageLoggingShim.scala:31)\n\tat com.databricks.logging.UsageLogging.withAttributionContext(UsageLogging.scala:205)\n\tat com.databricks.logging.UsageLogging.withAttributionContext$(UsageLogging.scala:204)\n\tat com.databricks.backend.daemon.driver.DriverLocal.withAttributionContext(DriverLocal.scala:59)\n\tat com.databricks.logging.UsageLogging.withAttributionTags(UsageLogging.scala:240)\n\tat com.databricks.logging.UsageLogging.withAttributionTags$(UsageLogging.scala:225)\n\tat com.databricks.backend.daemon.driver.DriverLocal.withAttributionTags(DriverLocal.scala:59)\n\tat com.databricks.backend.daemon.driver.DriverLocal.execute(DriverLocal.scala:621)\n\tat com.databricks.backend.daemon.driver.DriverWrapper.$anonfun$tryExecutingCommand$1(DriverWrapper.scala:615)\n\tat scala.util.Try$.apply(Try.scala:213)\n\tat com.databricks.backend.daemon.driver.DriverWrapper.tryExecutingCommand(DriverWrapper.scala:607)\n\tat com.databricks.backend.daemon.driver.DriverWrapper.executeCommandAndGetError(DriverWrapper.scala:526)\n\tat com.databricks.backend.daemon.driver.DriverWrapper.executeCommand(DriverWrapper.scala:561)\n\tat com.databricks.backend.daemon.driver.DriverWrapper.runInnerLoop(DriverWrapper.scala:431)\n\tat com.databricks.backend.daemon.driver.DriverWrapper.runInner(DriverWrapper.scala:374)\n\tat com.databricks.backend.daemon.driver.DriverWrapper.run(DriverWrapper.scala:225)\n\tat java.lang.Thread.run(Thread.java:750)\nCaused by: com.databricks.sql.io.FileReadException: Error while reading file dbfs:/user/hive/warehouse/trip_db.db/trip_small_delta/vendor_name=VTS/part-00448-cd9d4779-16c0-44b9-af42-b45f7bb0491e.c000.snappy.parquet. A file referenced in the transaction log cannot be found. This occurs when data has been manually deleted from the file system rather than using the table `DELETE` statement. For more information, see https://docs.microsoft.com/azure/databricks/delta/delta-intro#frequently-asked-questions\n\tat org.apache.spark.sql.execution.datasources.FileScanRDD$$anon$1$$anon$2.logFileNameAndThrow(FileScanRDD.scala:605)\n\tat org.apache.spark.sql.execution.datasources.FileScanRDD$$anon$1$$anon$2.getNext(FileScanRDD.scala:557)\n\tat org.apache.spark.util.NextIterator.hasNext(NextIterator.scala:73)\n\tat org.apache.spark.sql.execution.datasources.FileScanRDD$$anon$1.nextIterator(FileScanRDD.scala:698)\n\tat org.apache.spark.sql.execution.datasources.FileScanRDD$$anon$1.$anonfun$hasNext$1(FileScanRDD.scala:431)\n\tat scala.runtime.java8.JFunction0$mcZ$sp.apply(JFunction0$mcZ$sp.java:23)\n\tat com.databricks.spark.util.ExecutorFrameProfiler$.record(ExecutorFrameProfiler.scala:110)\n\tat org.apache.spark.sql.execution.datasources.FileScanRDD$$anon$1.hasNext(FileScanRDD.scala:426)\n\tat org.apache.spark.sql.execution.FileSourceScanExec$$anon$1.hasNext(DataSourceScanExec.scala:1017)\n\tat org.apache.spark.sql.catalyst.expressions.GeneratedClass$GeneratedIteratorForCodegenStage1.columnartorow_nextBatch_0$(Unknown Source)\n\tat org.apache.spark.sql.catalyst.expressions.GeneratedClass$GeneratedIteratorForCodegenStage1.processNext(Unknown Source)\n\tat org.apache.spark.sql.execution.BufferedRowIterator.hasNext(BufferedRowIterator.java:43)\n\tat org.apache.spark.sql.execution.WholeStageCodegenExec$$anon$1.hasNext(WholeStageCodegenExec.scala:759)\n\tat org.apache.spark.sql.execution.collect.UnsafeRowBatchUtils$.encodeUnsafeRows(UnsafeRowBatchUtils.scala:80)\n\tat org.apache.spark.sql.execution.collect.Collector.$anonfun$processFunc$1(Collector.scala:155)\n\tat org.apache.spark.scheduler.ResultTask.$anonfun$runTask$3(ResultTask.scala:75)\n\tat com.databricks.spark.util.ExecutorFrameProfiler$.record(ExecutorFrameProfiler.scala:110)\n\tat org.apache.spark.scheduler.ResultTask.$anonfun$runTask$1(ResultTask.scala:75)\n\tat com.databricks.spark.util.ExecutorFrameProfiler$.record(ExecutorFrameProfiler.scala:110)\n\tat org.apache.spark.scheduler.ResultTask.runTask(ResultTask.scala:55)\n\tat org.apache.spark.scheduler.Task.doRunTask(Task.scala:161)\n\tat org.apache.spark.scheduler.Task.$anonfun$run$1(Task.scala:125)\n\tat com.databricks.spark.util.ExecutorFrameProfiler$.record(ExecutorFrameProfiler.scala:110)\n\tat org.apache.spark.scheduler.Task.run(Task.scala:95)\n\tat org.apache.spark.executor.Executor$TaskRunner.$anonfun$run$13(Executor.scala:832)\n\tat org.apache.spark.util.Utils$.tryWithSafeFinally(Utils.scala:1681)\n\tat org.apache.spark.executor.Executor$TaskRunner.$anonfun$run$4(Executor.scala:835)\n\tat scala.runtime.java8.JFunction0$mcV$sp.apply(JFunction0$mcV$sp.java:23)\n\tat com.databricks.spark.util.ExecutorFrameProfiler$.record(ExecutorFrameProfiler.scala:110)\n\tat org.apache.spark.executor.Executor$TaskRunner.run(Executor.scala:690)\n\tat java.util.concurrent.ThreadPoolExecutor.runWorker(ThreadPoolExecutor.java:1149)\n\tat java.util.concurrent.ThreadPoolExecutor$Worker.run(ThreadPoolExecutor.java:624)\n\t... 1 more\nCaused by: java.io.FileNotFoundException: dbfs:/user/hive/warehouse/trip_db.db/trip_small_delta/vendor_name=VTS/part-00448-cd9d4779-16c0-44b9-af42-b45f7bb0491e.c000.snappy.parquet\n\tat com.databricks.backend.daemon.data.client.DatabricksFileSystemV2.$anonfun$getFileStatus$2(DatabricksFileSystemV2.scala:879)\n\tat com.databricks.s3a.S3AExceptionUtils$.convertAWSExceptionToJavaIOException(DatabricksStreamUtils.scala:70)\n\tat com.databricks.backend.daemon.data.client.DatabricksFileSystemV2.$anonfun$getFileStatus$1(DatabricksFileSystemV2.scala:865)\n\tat com.databricks.logging.UsageLogging.$anonfun$recordOperation$1(UsageLogging.scala:330)\n\tat com.databricks.logging.UsageLogging.executeThunkAndCaptureResultTags$1(UsageLogging.scala:424)\n\tat com.databricks.logging.UsageLogging.$anonfun$recordOperationWithResultTags$4(UsageLogging.scala:444)\n\tat com.databricks.logging.Log4jUsageLoggingShim$.$anonfun$withAttributionContext$1(Log4jUsageLoggingShim.scala:33)\n\tat scala.util.DynamicVariable.withValue(DynamicVariable.scala:62)\n\tat com.databricks.logging.AttributionContext$.withValue(AttributionContext.scala:94)\n\tat com.databricks.logging.Log4jUsageLoggingShim$.withAttributionContext(Log4jUsageLoggingShim.scala:31)\n\tat com.databricks.logging.UsageLogging.withAttributionContext(UsageLogging.scala:205)\n\tat com.databricks.logging.UsageLogging.withAttributionContext$(UsageLogging.scala:204)\n\tat com.databricks.backend.daemon.data.client.DatabricksFileSystemV2.withAttributionContext(DatabricksFileSystemV2.scala:510)\n\tat com.databricks.logging.UsageLogging.withAttributionTags(UsageLogging.scala:240)\n\tat com.databricks.logging.UsageLogging.withAttributionTags$(UsageLogging.scala:225)\n\tat com.databricks.backend.daemon.data.client.DatabricksFileSystemV2.withAttributionTags(DatabricksFileSystemV2.scala:510)\n\tat com.databricks.logging.UsageLogging.recordOperationWithResultTags(UsageLogging.scala:419)\n\tat com.databricks.logging.UsageLogging.recordOperationWithResultTags$(UsageLogging.scala:339)\n\tat com.databricks.backend.daemon.data.client.DatabricksFileSystemV2.recordOperationWithResultTags(DatabricksFileSystemV2.scala:510)\n\tat com.databricks.logging.UsageLogging.recordOperation(UsageLogging.scala:330)\n\tat com.databricks.logging.UsageLogging.recordOperation$(UsageLogging.scala:302)\n\tat com.databricks.backend.daemon.data.client.DatabricksFileSystemV2.recordOperation(DatabricksFileSystemV2.scala:510)\n\tat com.databricks.backend.daemon.data.client.DatabricksFileSystemV2.getFileStatus(DatabricksFileSystemV2.scala:865)\n\tat com.databricks.backend.daemon.data.client.DatabricksFileSystem.getFileStatus(DatabricksFileSystem.scala:215)\n\tat com.databricks.spark.metrics.FileSystemWithMetrics.getFileStatus(FileSystemWithMetrics.scala:375)\n\tat com.databricks.sql.io.parquet.CachingParquetFooterReader.readFooter(CachingParquetFooterReader.java:208)\n\tat com.databricks.sql.io.parquet.CachingParquetFileReader.readFooter(CachingParquetFileReader.java:350)\n\tat org.apache.spark.sql.execution.datasources.parquet.SpecificParquetRecordReaderBase.prepare(SpecificParquetRecordReaderBase.java:123)\n\tat org.apache.spark.sql.execution.datasources.parquet.ParquetFileFormat$$anon$2.apply(ParquetFileFormat.scala:540)\n\tat org.apache.spark.sql.execution.datasources.parquet.ParquetFileFormat$$anon$2.apply(ParquetFileFormat.scala:425)\n\tat org.apache.spark.sql.execution.datasources.FileScanRDD$$anon$1$$anon$2.getNext(FileScanRDD.scala:532)\n\t... 31 more\n",
       "errorSummary": "FileReadException: Error while reading file dbfs:/user/hive/warehouse/trip_db.db/trip_small_delta/vendor_name=VTS/part-00448-cd9d4779-16c0-44b9-af42-b45f7bb0491e.c000.snappy.parquet. A file referenced in the transaction log cannot be found. This occurs when data has been manually deleted from the file system rather than using the table `DELETE` statement. For more information, see https://docs.microsoft.com/azure/databricks/delta/delta-intro#frequently-asked-questions\nCaused by: FileNotFoundException: dbfs:/user/hive/warehouse/trip_db.db/trip_small_delta/vendor_name=VTS/part-00448-cd9d4779-16c0-44b9-af42-b45f7bb0491e.c000.snappy.parquet",
       "errorTraceType": "html",
       "metadata": {},
       "type": "ipynbError"
      }
     },
     "output_type": "display_data"
    }
   ],
   "source": [
    "%sql\n",
    "select * from trip_db.trip_small_delta version as of 0 where total_amt=20 limit 3"
   ]
  },
  {
   "cell_type": "markdown",
   "metadata": {
    "application/vnd.databricks.v1+cell": {
     "cellMetadata": {},
     "inputWidgets": {},
     "nuid": "bda130a8-1281-426a-adbb-9699a893db0f",
     "showTitle": false,
     "title": ""
    }
   },
   "source": [
    "# Z-ORDERING"
   ]
  },
  {
   "cell_type": "code",
   "execution_count": 0,
   "metadata": {
    "application/vnd.databricks.v1+cell": {
     "cellMetadata": {
      "byteLimit": 2048000,
      "rowLimit": 10000
     },
     "inputWidgets": {},
     "nuid": "1e233f69-8501-43bc-b51c-2e52822381f2",
     "showTitle": false,
     "title": ""
    }
   },
   "outputs": [
    {
     "output_type": "display_data",
     "data": {
      "text/html": [
       "<style scoped>\n",
       "  .ansiout {\n",
       "    display: block;\n",
       "    unicode-bidi: embed;\n",
       "    white-space: pre-wrap;\n",
       "    word-wrap: break-word;\n",
       "    word-break: break-all;\n",
       "    font-family: \"Menlo\", \"Monaco\", \"Consolas\", \"Ubuntu Mono\", \"Source Code Pro\", monospace;\n",
       "    font-size: 13px;\n",
       "    color: #555;\n",
       "    margin-left: 4px;\n",
       "    line-height: 19px;\n",
       "  }\n",
       "</style>\n",
       "<div class=\"ansiout\"></div>"
      ]
     },
     "metadata": {
      "application/vnd.databricks.v1+output": {
       "addedWidgets": {},
       "arguments": {},
       "data": "<div class=\"ansiout\"></div>",
       "datasetInfos": [],
       "metadata": {},
       "removedWidgets": [],
       "type": "html"
      }
     },
     "output_type": "display_data"
    }
   ],
   "source": [
    "trip_df.repartition(200).write.format(\"delta\").mode('append').mode(\"overwrite\").saveAsTable(\"trip_db.trip_small_delta_new\")"
   ]
  },
  {
   "cell_type": "code",
   "execution_count": 0,
   "metadata": {
    "application/vnd.databricks.v1+cell": {
     "cellMetadata": {
      "byteLimit": 2048000,
      "implicitDf": true,
      "rowLimit": 10000
     },
     "inputWidgets": {},
     "nuid": "b4b8af80-e69c-429b-a309-21642e865364",
     "showTitle": false,
     "title": ""
    }
   },
   "outputs": [
    {
     "output_type": "display_data",
     "data": {
      "text/html": [
       "<style scoped>\n",
       "  .table-result-container {\n",
       "    max-height: 300px;\n",
       "    overflow: auto;\n",
       "  }\n",
       "  table, th, td {\n",
       "    border: 1px solid black;\n",
       "    border-collapse: collapse;\n",
       "  }\n",
       "  th, td {\n",
       "    padding: 5px;\n",
       "  }\n",
       "  th {\n",
       "    text-align: left;\n",
       "  }\n",
       "</style><div class='table-result-container'><table class='table-result'><thead style='background-color: white'><tr><th>version</th><th>timestamp</th><th>userId</th><th>userName</th><th>operation</th><th>operationParameters</th><th>job</th><th>notebook</th><th>clusterId</th><th>readVersion</th><th>isolationLevel</th><th>isBlindAppend</th><th>operationMetrics</th><th>userMetadata</th><th>engineInfo</th></tr></thead><tbody><tr><td>1</td><td>2024-01-20T07:23:55.000+0000</td><td>2035466439901047</td><td>supriyaamshenoy@outlook.com</td><td>CREATE OR REPLACE TABLE AS SELECT</td><td>Map(isManaged -> true, description -> null, partitionBy -> [], properties -> {})</td><td>null</td><td>List(2121621502026997)</td><td>0113-120816-1eptehi9</td><td>0</td><td>WriteSerializable</td><td>false</td><td>Map(numFiles -> 200, numOutputRows -> 14092413, numOutputBytes -> 706685113)</td><td>null</td><td>Databricks-Runtime/10.4.x-photon-scala2.12</td></tr><tr><td>0</td><td>2024-01-20T07:21:12.000+0000</td><td>2035466439901047</td><td>supriyaamshenoy@outlook.com</td><td>CREATE OR REPLACE TABLE AS SELECT</td><td>Map(isManaged -> true, description -> null, partitionBy -> [], properties -> {})</td><td>null</td><td>List(2121621502026997)</td><td>0113-120816-1eptehi9</td><td>null</td><td>WriteSerializable</td><td>false</td><td>Map(numFiles -> 200, numOutputRows -> 14092413, numOutputBytes -> 706685113)</td><td>null</td><td>Databricks-Runtime/10.4.x-photon-scala2.12</td></tr></tbody></table></div>"
      ]
     },
     "metadata": {
      "application/vnd.databricks.v1+output": {
       "addedWidgets": {},
       "aggData": [],
       "aggError": "",
       "aggOverflow": false,
       "aggSchema": [],
       "aggSeriesLimitReached": false,
       "aggType": "",
       "arguments": {},
       "columnCustomDisplayInfos": {},
       "data": [
        [
         1,
         "2024-01-20T07:23:55.000+0000",
         "2035466439901047",
         "supriyaamshenoy@outlook.com",
         "CREATE OR REPLACE TABLE AS SELECT",
         {
          "description": null,
          "isManaged": "true",
          "partitionBy": "[]",
          "properties": "{}"
         },
         null,
         [
          "2121621502026997"
         ],
         "0113-120816-1eptehi9",
         0,
         "WriteSerializable",
         false,
         {
          "numFiles": "200",
          "numOutputBytes": "706685113",
          "numOutputRows": "14092413"
         },
         null,
         "Databricks-Runtime/10.4.x-photon-scala2.12"
        ],
        [
         0,
         "2024-01-20T07:21:12.000+0000",
         "2035466439901047",
         "supriyaamshenoy@outlook.com",
         "CREATE OR REPLACE TABLE AS SELECT",
         {
          "description": null,
          "isManaged": "true",
          "partitionBy": "[]",
          "properties": "{}"
         },
         null,
         [
          "2121621502026997"
         ],
         "0113-120816-1eptehi9",
         null,
         "WriteSerializable",
         false,
         {
          "numFiles": "200",
          "numOutputBytes": "706685113",
          "numOutputRows": "14092413"
         },
         null,
         "Databricks-Runtime/10.4.x-photon-scala2.12"
        ]
       ],
       "datasetInfos": [],
       "dbfsResultPath": null,
       "isJsonSchema": true,
       "metadata": {},
       "overflow": false,
       "plotOptions": {
        "customPlotOptions": {},
        "displayType": "table",
        "pivotAggregation": null,
        "pivotColumns": null,
        "xColumns": null,
        "yColumns": null
       },
       "removedWidgets": [],
       "schema": [
        {
         "metadata": "{}",
         "name": "version",
         "type": "\"long\""
        },
        {
         "metadata": "{}",
         "name": "timestamp",
         "type": "\"timestamp\""
        },
        {
         "metadata": "{}",
         "name": "userId",
         "type": "\"string\""
        },
        {
         "metadata": "{}",
         "name": "userName",
         "type": "\"string\""
        },
        {
         "metadata": "{}",
         "name": "operation",
         "type": "\"string\""
        },
        {
         "metadata": "{}",
         "name": "operationParameters",
         "type": "{\"type\":\"map\",\"keyType\":\"string\",\"valueType\":\"string\",\"valueContainsNull\":true}"
        },
        {
         "metadata": "{}",
         "name": "job",
         "type": "{\"type\":\"struct\",\"fields\":[{\"name\":\"jobId\",\"type\":\"string\",\"nullable\":true,\"metadata\":{}},{\"name\":\"jobName\",\"type\":\"string\",\"nullable\":true,\"metadata\":{}},{\"name\":\"runId\",\"type\":\"string\",\"nullable\":true,\"metadata\":{}},{\"name\":\"jobOwnerId\",\"type\":\"string\",\"nullable\":true,\"metadata\":{}},{\"name\":\"triggerType\",\"type\":\"string\",\"nullable\":true,\"metadata\":{}}]}"
        },
        {
         "metadata": "{}",
         "name": "notebook",
         "type": "{\"type\":\"struct\",\"fields\":[{\"name\":\"notebookId\",\"type\":\"string\",\"nullable\":true,\"metadata\":{}}]}"
        },
        {
         "metadata": "{}",
         "name": "clusterId",
         "type": "\"string\""
        },
        {
         "metadata": "{}",
         "name": "readVersion",
         "type": "\"long\""
        },
        {
         "metadata": "{}",
         "name": "isolationLevel",
         "type": "\"string\""
        },
        {
         "metadata": "{}",
         "name": "isBlindAppend",
         "type": "\"boolean\""
        },
        {
         "metadata": "{}",
         "name": "operationMetrics",
         "type": "{\"type\":\"map\",\"keyType\":\"string\",\"valueType\":\"string\",\"valueContainsNull\":true}"
        },
        {
         "metadata": "{}",
         "name": "userMetadata",
         "type": "\"string\""
        },
        {
         "metadata": "{}",
         "name": "engineInfo",
         "type": "\"string\""
        }
       ],
       "type": "table"
      }
     },
     "output_type": "display_data"
    }
   ],
   "source": [
    "%sql\n",
    "describe history trip_db.trip_small_delta_new"
   ]
  },
  {
   "cell_type": "code",
   "execution_count": 0,
   "metadata": {
    "application/vnd.databricks.v1+cell": {
     "cellMetadata": {
      "byteLimit": 2048000,
      "implicitDf": true,
      "rowLimit": 10000
     },
     "inputWidgets": {},
     "nuid": "7e881d90-d32a-4ba9-ac26-bf80d24fced9",
     "showTitle": false,
     "title": ""
    }
   },
   "outputs": [
    {
     "output_type": "display_data",
     "data": {
      "text/html": [
       "<style scoped>\n",
       "  .table-result-container {\n",
       "    max-height: 300px;\n",
       "    overflow: auto;\n",
       "  }\n",
       "  table, th, td {\n",
       "    border: 1px solid black;\n",
       "    border-collapse: collapse;\n",
       "  }\n",
       "  th, td {\n",
       "    padding: 5px;\n",
       "  }\n",
       "  th {\n",
       "    text-align: left;\n",
       "  }\n",
       "</style><div class='table-result-container'><table class='table-result'><thead style='background-color: white'><tr><th>format</th><th>id</th><th>name</th><th>description</th><th>location</th><th>createdAt</th><th>lastModified</th><th>partitionColumns</th><th>numFiles</th><th>sizeInBytes</th><th>properties</th><th>minReaderVersion</th><th>minWriterVersion</th></tr></thead><tbody><tr><td>delta</td><td>0618271e-328c-46b7-b13e-b303a834e697</td><td>trip_db.trip_small_delta_new</td><td>null</td><td>dbfs:/user/hive/warehouse/trip_db.db/trip_small_delta_new</td><td>2024-01-20T07:18:54.819+0000</td><td>2024-01-20T07:23:55.000+0000</td><td>List()</td><td>200</td><td>706685113</td><td>Map()</td><td>1</td><td>2</td></tr></tbody></table></div>"
      ]
     },
     "metadata": {
      "application/vnd.databricks.v1+output": {
       "addedWidgets": {},
       "aggData": [],
       "aggError": "",
       "aggOverflow": false,
       "aggSchema": [],
       "aggSeriesLimitReached": false,
       "aggType": "",
       "arguments": {},
       "columnCustomDisplayInfos": {},
       "data": [
        [
         "delta",
         "0618271e-328c-46b7-b13e-b303a834e697",
         "trip_db.trip_small_delta_new",
         null,
         "dbfs:/user/hive/warehouse/trip_db.db/trip_small_delta_new",
         "2024-01-20T07:18:54.819+0000",
         "2024-01-20T07:23:55.000+0000",
         [],
         200,
         706685113,
         {},
         1,
         2
        ]
       ],
       "datasetInfos": [],
       "dbfsResultPath": null,
       "isJsonSchema": true,
       "metadata": {},
       "overflow": false,
       "plotOptions": {
        "customPlotOptions": {},
        "displayType": "table",
        "pivotAggregation": null,
        "pivotColumns": null,
        "xColumns": null,
        "yColumns": null
       },
       "removedWidgets": [],
       "schema": [
        {
         "metadata": "{}",
         "name": "format",
         "type": "\"string\""
        },
        {
         "metadata": "{}",
         "name": "id",
         "type": "\"string\""
        },
        {
         "metadata": "{}",
         "name": "name",
         "type": "\"string\""
        },
        {
         "metadata": "{}",
         "name": "description",
         "type": "\"string\""
        },
        {
         "metadata": "{}",
         "name": "location",
         "type": "\"string\""
        },
        {
         "metadata": "{}",
         "name": "createdAt",
         "type": "\"timestamp\""
        },
        {
         "metadata": "{}",
         "name": "lastModified",
         "type": "\"timestamp\""
        },
        {
         "metadata": "{}",
         "name": "partitionColumns",
         "type": "{\"type\":\"array\",\"elementType\":\"string\",\"containsNull\":true}"
        },
        {
         "metadata": "{}",
         "name": "numFiles",
         "type": "\"long\""
        },
        {
         "metadata": "{}",
         "name": "sizeInBytes",
         "type": "\"long\""
        },
        {
         "metadata": "{}",
         "name": "properties",
         "type": "{\"type\":\"map\",\"keyType\":\"string\",\"valueType\":\"string\",\"valueContainsNull\":true}"
        },
        {
         "metadata": "{}",
         "name": "minReaderVersion",
         "type": "\"integer\""
        },
        {
         "metadata": "{}",
         "name": "minWriterVersion",
         "type": "\"integer\""
        }
       ],
       "type": "table"
      }
     },
     "output_type": "display_data"
    }
   ],
   "source": [
    "%sql\n",
    "DESCRIBE DETAIL trip_db.trip_small_delta_new"
   ]
  },
  {
   "cell_type": "code",
   "execution_count": 0,
   "metadata": {
    "application/vnd.databricks.v1+cell": {
     "cellMetadata": {
      "byteLimit": 2048000,
      "implicitDf": true,
      "rowLimit": 10000
     },
     "inputWidgets": {},
     "nuid": "39c465e7-5877-4a54-b012-a87a44fca4bf",
     "showTitle": false,
     "title": ""
    }
   },
   "outputs": [
    {
     "output_type": "display_data",
     "data": {
      "text/html": [
       "<style scoped>\n",
       "  .table-result-container {\n",
       "    max-height: 300px;\n",
       "    overflow: auto;\n",
       "  }\n",
       "  table, th, td {\n",
       "    border: 1px solid black;\n",
       "    border-collapse: collapse;\n",
       "  }\n",
       "  th, td {\n",
       "    padding: 5px;\n",
       "  }\n",
       "  th {\n",
       "    text-align: left;\n",
       "  }\n",
       "</style><div class='table-result-container'><table class='table-result'><thead style='background-color: white'><tr><th>vendor_name</th><th>Trip_Pickup_DateTime</th><th>Trip_Dropoff_DateTime</th><th>Passenger_Count</th><th>Trip_Distance</th><th>Start_Lon</th><th>Start_Lat</th><th>Rate_Code</th><th>store_and_forward</th><th>End_Lon</th><th>End_Lat</th><th>Payment_Type</th><th>Fare_Amt</th><th>surcharge</th><th>mta_tax</th><th>Tip_Amt</th><th>Tolls_Amt</th><th>Total_Amt</th></tr></thead><tbody><tr><td>CMT</td><td>2009-01-09T23:14:32.000+0000</td><td>2009-01-09T23:31:01.000+0000</td><td>4</td><td>2.1</td><td>-73.983673</td><td>40.738022</td><td>null</td><td>null</td><td>-74.009881</td><td>40.735529</td><td>Cash</td><td>10.6</td><td>0.0</td><td>null</td><td>0.0</td><td>0.0</td><td>10.6</td></tr><tr><td>VTS</td><td>2009-01-24T00:17:00.000+0000</td><td>2009-01-24T00:41:00.000+0000</td><td>4</td><td>2.86</td><td>-73.983415</td><td>40.738452</td><td>null</td><td>null</td><td>-74.0005</td><td>40.735672</td><td>CASH</td><td>14.1</td><td>0.5</td><td>null</td><td>0.0</td><td>0.0</td><td>14.6</td></tr><tr><td>VTS</td><td>2009-01-02T12:32:00.000+0000</td><td>2009-01-02T12:40:00.000+0000</td><td>4</td><td>1.33</td><td>-74.00721</td><td>40.72693</td><td>null</td><td>null</td><td>-73.985903</td><td>40.727947</td><td>CASH</td><td>6.5</td><td>0.0</td><td>null</td><td>0.0</td><td>0.0</td><td>6.5</td></tr></tbody></table></div>"
      ]
     },
     "metadata": {
      "application/vnd.databricks.v1+output": {
       "addedWidgets": {},
       "aggData": [],
       "aggError": "",
       "aggOverflow": false,
       "aggSchema": [],
       "aggSeriesLimitReached": false,
       "aggType": "",
       "arguments": {},
       "columnCustomDisplayInfos": {},
       "data": [
        [
         "CMT",
         "2009-01-09T23:14:32.000+0000",
         "2009-01-09T23:31:01.000+0000",
         4,
         2.1,
         -73.983673,
         40.738022,
         null,
         null,
         -74.009881,
         40.735529,
         "Cash",
         10.6,
         0.0,
         null,
         0.0,
         0.0,
         10.6
        ],
        [
         "VTS",
         "2009-01-24T00:17:00.000+0000",
         "2009-01-24T00:41:00.000+0000",
         4,
         2.86,
         -73.983415,
         40.738452,
         null,
         null,
         -74.0005,
         40.735672,
         "CASH",
         14.1,
         0.5,
         null,
         0.0,
         0.0,
         14.6
        ],
        [
         "VTS",
         "2009-01-02T12:32:00.000+0000",
         "2009-01-02T12:40:00.000+0000",
         4,
         1.33,
         -74.00721,
         40.72693,
         null,
         null,
         -73.985903,
         40.727947,
         "CASH",
         6.5,
         0.0,
         null,
         0.0,
         0.0,
         6.5
        ]
       ],
       "datasetInfos": [],
       "dbfsResultPath": null,
       "isJsonSchema": true,
       "metadata": {},
       "overflow": false,
       "plotOptions": {
        "customPlotOptions": {},
        "displayType": "table",
        "pivotAggregation": null,
        "pivotColumns": null,
        "xColumns": null,
        "yColumns": null
       },
       "removedWidgets": [],
       "schema": [
        {
         "metadata": "{}",
         "name": "vendor_name",
         "type": "\"string\""
        },
        {
         "metadata": "{}",
         "name": "Trip_Pickup_DateTime",
         "type": "\"timestamp\""
        },
        {
         "metadata": "{}",
         "name": "Trip_Dropoff_DateTime",
         "type": "\"timestamp\""
        },
        {
         "metadata": "{}",
         "name": "Passenger_Count",
         "type": "\"integer\""
        },
        {
         "metadata": "{}",
         "name": "Trip_Distance",
         "type": "\"double\""
        },
        {
         "metadata": "{}",
         "name": "Start_Lon",
         "type": "\"double\""
        },
        {
         "metadata": "{}",
         "name": "Start_Lat",
         "type": "\"double\""
        },
        {
         "metadata": "{}",
         "name": "Rate_Code",
         "type": "\"string\""
        },
        {
         "metadata": "{}",
         "name": "store_and_forward",
         "type": "\"integer\""
        },
        {
         "metadata": "{}",
         "name": "End_Lon",
         "type": "\"double\""
        },
        {
         "metadata": "{}",
         "name": "End_Lat",
         "type": "\"double\""
        },
        {
         "metadata": "{}",
         "name": "Payment_Type",
         "type": "\"string\""
        },
        {
         "metadata": "{}",
         "name": "Fare_Amt",
         "type": "\"double\""
        },
        {
         "metadata": "{}",
         "name": "surcharge",
         "type": "\"double\""
        },
        {
         "metadata": "{}",
         "name": "mta_tax",
         "type": "\"string\""
        },
        {
         "metadata": "{}",
         "name": "Tip_Amt",
         "type": "\"double\""
        },
        {
         "metadata": "{}",
         "name": "Tolls_Amt",
         "type": "\"double\""
        },
        {
         "metadata": "{}",
         "name": "Total_Amt",
         "type": "\"double\""
        }
       ],
       "type": "table"
      }
     },
     "output_type": "display_data"
    }
   ],
   "source": [
    "%sql\n",
    "select * from trip_db.trip_small_delta_new where passenger_count=4 limit 3"
   ]
  },
  {
   "cell_type": "code",
   "execution_count": 0,
   "metadata": {
    "application/vnd.databricks.v1+cell": {
     "cellMetadata": {
      "byteLimit": 2048000,
      "implicitDf": true,
      "rowLimit": 10000
     },
     "inputWidgets": {},
     "nuid": "6d814dc0-7a25-4fc3-b90d-ee14ce5ddd8a",
     "showTitle": false,
     "title": ""
    }
   },
   "outputs": [
    {
     "output_type": "display_data",
     "data": {
      "text/html": [
       "<style scoped>\n",
       "  .table-result-container {\n",
       "    max-height: 300px;\n",
       "    overflow: auto;\n",
       "  }\n",
       "  table, th, td {\n",
       "    border: 1px solid black;\n",
       "    border-collapse: collapse;\n",
       "  }\n",
       "  th, td {\n",
       "    padding: 5px;\n",
       "  }\n",
       "  th {\n",
       "    text-align: left;\n",
       "  }\n",
       "</style><div class='table-result-container'><table class='table-result'><thead style='background-color: white'><tr><th>path</th><th>metrics</th></tr></thead><tbody><tr><td>dbfs:/user/hive/warehouse/trip_db.db/trip_small_delta_new</td><td>List(2, 200, List(287773841, 288359019, 2.8806643E8, 2, 576132860), List(3515898, 3547106, 3533425.565, 200, 706685113), 0, List(minCubeSize(107374182400), List(0, 0), List(200, 706685113), 0, List(200, 706685113), 1, null), 1, 200, 0, false)</td></tr></tbody></table></div>"
      ]
     },
     "metadata": {
      "application/vnd.databricks.v1+output": {
       "addedWidgets": {},
       "aggData": [],
       "aggError": "",
       "aggOverflow": false,
       "aggSchema": [],
       "aggSeriesLimitReached": false,
       "aggType": "",
       "arguments": {},
       "columnCustomDisplayInfos": {},
       "data": [
        [
         "dbfs:/user/hive/warehouse/trip_db.db/trip_small_delta_new",
         [
          2,
          200,
          [
           287773841,
           288359019,
           2.8806643E8,
           2,
           576132860
          ],
          [
           3515898,
           3547106,
           3533425.565,
           200,
           706685113
          ],
          0,
          [
           "minCubeSize(107374182400)",
           [
            0,
            0
           ],
           [
            200,
            706685113
           ],
           0,
           [
            200,
            706685113
           ],
           1,
           null
          ],
          1,
          200,
          0,
          false
         ]
        ]
       ],
       "datasetInfos": [],
       "dbfsResultPath": null,
       "isJsonSchema": true,
       "metadata": {},
       "overflow": false,
       "plotOptions": {
        "customPlotOptions": {},
        "displayType": "table",
        "pivotAggregation": null,
        "pivotColumns": null,
        "xColumns": null,
        "yColumns": null
       },
       "removedWidgets": [],
       "schema": [
        {
         "metadata": "{}",
         "name": "path",
         "type": "\"string\""
        },
        {
         "metadata": "{}",
         "name": "metrics",
         "type": "{\"type\":\"struct\",\"fields\":[{\"name\":\"numFilesAdded\",\"type\":\"long\",\"nullable\":false,\"metadata\":{}},{\"name\":\"numFilesRemoved\",\"type\":\"long\",\"nullable\":false,\"metadata\":{}},{\"name\":\"filesAdded\",\"type\":{\"type\":\"struct\",\"fields\":[{\"name\":\"min\",\"type\":\"long\",\"nullable\":true,\"metadata\":{}},{\"name\":\"max\",\"type\":\"long\",\"nullable\":true,\"metadata\":{}},{\"name\":\"avg\",\"type\":\"double\",\"nullable\":false,\"metadata\":{}},{\"name\":\"totalFiles\",\"type\":\"long\",\"nullable\":false,\"metadata\":{}},{\"name\":\"totalSize\",\"type\":\"long\",\"nullable\":false,\"metadata\":{}}]},\"nullable\":true,\"metadata\":{}},{\"name\":\"filesRemoved\",\"type\":{\"type\":\"struct\",\"fields\":[{\"name\":\"min\",\"type\":\"long\",\"nullable\":true,\"metadata\":{}},{\"name\":\"max\",\"type\":\"long\",\"nullable\":true,\"metadata\":{}},{\"name\":\"avg\",\"type\":\"double\",\"nullable\":false,\"metadata\":{}},{\"name\":\"totalFiles\",\"type\":\"long\",\"nullable\":false,\"metadata\":{}},{\"name\":\"totalSize\",\"type\":\"long\",\"nullable\":false,\"metadata\":{}}]},\"nullable\":true,\"metadata\":{}},{\"name\":\"partitionsOptimized\",\"type\":\"long\",\"nullable\":false,\"metadata\":{}},{\"name\":\"zOrderStats\",\"type\":{\"type\":\"struct\",\"fields\":[{\"name\":\"strategyName\",\"type\":\"string\",\"nullable\":true,\"metadata\":{}},{\"name\":\"inputCubeFiles\",\"type\":{\"type\":\"struct\",\"fields\":[{\"name\":\"num\",\"type\":\"long\",\"nullable\":false,\"metadata\":{}},{\"name\":\"size\",\"type\":\"long\",\"nullable\":false,\"metadata\":{}}]},\"nullable\":true,\"metadata\":{}},{\"name\":\"inputOtherFiles\",\"type\":{\"type\":\"struct\",\"fields\":[{\"name\":\"num\",\"type\":\"long\",\"nullable\":false,\"metadata\":{}},{\"name\":\"size\",\"type\":\"long\",\"nullable\":false,\"metadata\":{}}]},\"nullable\":true,\"metadata\":{}},{\"name\":\"inputNumCubes\",\"type\":\"long\",\"nullable\":false,\"metadata\":{}},{\"name\":\"mergedFiles\",\"type\":{\"type\":\"struct\",\"fields\":[{\"name\":\"num\",\"type\":\"long\",\"nullable\":false,\"metadata\":{}},{\"name\":\"size\",\"type\":\"long\",\"nullable\":false,\"metadata\":{}}]},\"nullable\":true,\"metadata\":{}},{\"name\":\"numOutputCubes\",\"type\":\"long\",\"nullable\":false,\"metadata\":{}},{\"name\":\"mergedNumCubes\",\"type\":\"long\",\"nullable\":true,\"metadata\":{}}]},\"nullable\":true,\"metadata\":{}},{\"name\":\"numBatches\",\"type\":\"long\",\"nullable\":false,\"metadata\":{}},{\"name\":\"totalConsideredFiles\",\"type\":\"long\",\"nullable\":false,\"metadata\":{}},{\"name\":\"totalFilesSkipped\",\"type\":\"long\",\"nullable\":false,\"metadata\":{}},{\"name\":\"preserveInsertionOrder\",\"type\":\"boolean\",\"nullable\":false,\"metadata\":{}}]}"
        }
       ],
       "type": "table"
      }
     },
     "output_type": "display_data"
    }
   ],
   "source": [
    "%sql\n",
    "optimize trip_db.trip_small_delta_new zorder by (Passenger_Count)"
   ]
  },
  {
   "cell_type": "code",
   "execution_count": 0,
   "metadata": {
    "application/vnd.databricks.v1+cell": {
     "cellMetadata": {
      "byteLimit": 2048000,
      "implicitDf": true,
      "rowLimit": 10000
     },
     "inputWidgets": {},
     "nuid": "e0c62e1f-02ec-4b9e-80e8-7212d3adba34",
     "showTitle": false,
     "title": ""
    }
   },
   "outputs": [
    {
     "output_type": "display_data",
     "data": {
      "text/html": [
       "<style scoped>\n",
       "  .table-result-container {\n",
       "    max-height: 300px;\n",
       "    overflow: auto;\n",
       "  }\n",
       "  table, th, td {\n",
       "    border: 1px solid black;\n",
       "    border-collapse: collapse;\n",
       "  }\n",
       "  th, td {\n",
       "    padding: 5px;\n",
       "  }\n",
       "  th {\n",
       "    text-align: left;\n",
       "  }\n",
       "</style><div class='table-result-container'><table class='table-result'><thead style='background-color: white'><tr><th>format</th><th>id</th><th>name</th><th>description</th><th>location</th><th>createdAt</th><th>lastModified</th><th>partitionColumns</th><th>numFiles</th><th>sizeInBytes</th><th>properties</th><th>minReaderVersion</th><th>minWriterVersion</th></tr></thead><tbody><tr><td>delta</td><td>0618271e-328c-46b7-b13e-b303a834e697</td><td>trip_db.trip_small_delta_new</td><td>null</td><td>dbfs:/user/hive/warehouse/trip_db.db/trip_small_delta_new</td><td>2024-01-20T07:18:54.819+0000</td><td>2024-01-20T07:26:00.000+0000</td><td>List()</td><td>2</td><td>576132860</td><td>Map()</td><td>1</td><td>2</td></tr></tbody></table></div>"
      ]
     },
     "metadata": {
      "application/vnd.databricks.v1+output": {
       "addedWidgets": {},
       "aggData": [],
       "aggError": "",
       "aggOverflow": false,
       "aggSchema": [],
       "aggSeriesLimitReached": false,
       "aggType": "",
       "arguments": {},
       "columnCustomDisplayInfos": {},
       "data": [
        [
         "delta",
         "0618271e-328c-46b7-b13e-b303a834e697",
         "trip_db.trip_small_delta_new",
         null,
         "dbfs:/user/hive/warehouse/trip_db.db/trip_small_delta_new",
         "2024-01-20T07:18:54.819+0000",
         "2024-01-20T07:26:00.000+0000",
         [],
         2,
         576132860,
         {},
         1,
         2
        ]
       ],
       "datasetInfos": [],
       "dbfsResultPath": null,
       "isJsonSchema": true,
       "metadata": {},
       "overflow": false,
       "plotOptions": {
        "customPlotOptions": {},
        "displayType": "table",
        "pivotAggregation": null,
        "pivotColumns": null,
        "xColumns": null,
        "yColumns": null
       },
       "removedWidgets": [],
       "schema": [
        {
         "metadata": "{}",
         "name": "format",
         "type": "\"string\""
        },
        {
         "metadata": "{}",
         "name": "id",
         "type": "\"string\""
        },
        {
         "metadata": "{}",
         "name": "name",
         "type": "\"string\""
        },
        {
         "metadata": "{}",
         "name": "description",
         "type": "\"string\""
        },
        {
         "metadata": "{}",
         "name": "location",
         "type": "\"string\""
        },
        {
         "metadata": "{}",
         "name": "createdAt",
         "type": "\"timestamp\""
        },
        {
         "metadata": "{}",
         "name": "lastModified",
         "type": "\"timestamp\""
        },
        {
         "metadata": "{}",
         "name": "partitionColumns",
         "type": "{\"type\":\"array\",\"elementType\":\"string\",\"containsNull\":true}"
        },
        {
         "metadata": "{}",
         "name": "numFiles",
         "type": "\"long\""
        },
        {
         "metadata": "{}",
         "name": "sizeInBytes",
         "type": "\"long\""
        },
        {
         "metadata": "{}",
         "name": "properties",
         "type": "{\"type\":\"map\",\"keyType\":\"string\",\"valueType\":\"string\",\"valueContainsNull\":true}"
        },
        {
         "metadata": "{}",
         "name": "minReaderVersion",
         "type": "\"integer\""
        },
        {
         "metadata": "{}",
         "name": "minWriterVersion",
         "type": "\"integer\""
        }
       ],
       "type": "table"
      }
     },
     "output_type": "display_data"
    }
   ],
   "source": [
    "%sql\n",
    "DESCRIBE DETAIL trip_db.trip_small_delta_new"
   ]
  },
  {
   "cell_type": "code",
   "execution_count": 0,
   "metadata": {
    "application/vnd.databricks.v1+cell": {
     "cellMetadata": {
      "byteLimit": 2048000,
      "implicitDf": true,
      "rowLimit": 10000
     },
     "inputWidgets": {},
     "nuid": "feda2fcd-1c11-4780-bb34-be026dfdeed9",
     "showTitle": false,
     "title": ""
    }
   },
   "outputs": [
    {
     "output_type": "display_data",
     "data": {
      "text/html": [
       "<style scoped>\n",
       "  .table-result-container {\n",
       "    max-height: 300px;\n",
       "    overflow: auto;\n",
       "  }\n",
       "  table, th, td {\n",
       "    border: 1px solid black;\n",
       "    border-collapse: collapse;\n",
       "  }\n",
       "  th, td {\n",
       "    padding: 5px;\n",
       "  }\n",
       "  th {\n",
       "    text-align: left;\n",
       "  }\n",
       "</style><div class='table-result-container'><table class='table-result'><thead style='background-color: white'><tr><th>vendor_name</th><th>Trip_Pickup_DateTime</th><th>Trip_Dropoff_DateTime</th><th>Passenger_Count</th><th>Trip_Distance</th><th>Start_Lon</th><th>Start_Lat</th><th>Rate_Code</th><th>store_and_forward</th><th>End_Lon</th><th>End_Lat</th><th>Payment_Type</th><th>Fare_Amt</th><th>surcharge</th><th>mta_tax</th><th>Tip_Amt</th><th>Tolls_Amt</th><th>Total_Amt</th></tr></thead><tbody><tr><td>CMT</td><td>2009-01-09T23:14:32.000+0000</td><td>2009-01-09T23:31:01.000+0000</td><td>4</td><td>2.1</td><td>-73.983673</td><td>40.738022</td><td>null</td><td>null</td><td>-74.009881</td><td>40.735529</td><td>Cash</td><td>10.6</td><td>0.0</td><td>null</td><td>0.0</td><td>0.0</td><td>10.6</td></tr><tr><td>VTS</td><td>2009-01-24T00:17:00.000+0000</td><td>2009-01-24T00:41:00.000+0000</td><td>4</td><td>2.86</td><td>-73.983415</td><td>40.738452</td><td>null</td><td>null</td><td>-74.0005</td><td>40.735672</td><td>CASH</td><td>14.1</td><td>0.5</td><td>null</td><td>0.0</td><td>0.0</td><td>14.6</td></tr><tr><td>VTS</td><td>2009-01-02T12:32:00.000+0000</td><td>2009-01-02T12:40:00.000+0000</td><td>4</td><td>1.33</td><td>-74.00721</td><td>40.72693</td><td>null</td><td>null</td><td>-73.985903</td><td>40.727947</td><td>CASH</td><td>6.5</td><td>0.0</td><td>null</td><td>0.0</td><td>0.0</td><td>6.5</td></tr></tbody></table></div>"
      ]
     },
     "metadata": {
      "application/vnd.databricks.v1+output": {
       "addedWidgets": {},
       "aggData": [],
       "aggError": "",
       "aggOverflow": false,
       "aggSchema": [],
       "aggSeriesLimitReached": false,
       "aggType": "",
       "arguments": {},
       "columnCustomDisplayInfos": {},
       "data": [
        [
         "CMT",
         "2009-01-09T23:14:32.000+0000",
         "2009-01-09T23:31:01.000+0000",
         4,
         2.1,
         -73.983673,
         40.738022,
         null,
         null,
         -74.009881,
         40.735529,
         "Cash",
         10.6,
         0.0,
         null,
         0.0,
         0.0,
         10.6
        ],
        [
         "VTS",
         "2009-01-24T00:17:00.000+0000",
         "2009-01-24T00:41:00.000+0000",
         4,
         2.86,
         -73.983415,
         40.738452,
         null,
         null,
         -74.0005,
         40.735672,
         "CASH",
         14.1,
         0.5,
         null,
         0.0,
         0.0,
         14.6
        ],
        [
         "VTS",
         "2009-01-02T12:32:00.000+0000",
         "2009-01-02T12:40:00.000+0000",
         4,
         1.33,
         -74.00721,
         40.72693,
         null,
         null,
         -73.985903,
         40.727947,
         "CASH",
         6.5,
         0.0,
         null,
         0.0,
         0.0,
         6.5
        ]
       ],
       "datasetInfos": [],
       "dbfsResultPath": null,
       "isJsonSchema": true,
       "metadata": {},
       "overflow": false,
       "plotOptions": {
        "customPlotOptions": {},
        "displayType": "table",
        "pivotAggregation": null,
        "pivotColumns": null,
        "xColumns": null,
        "yColumns": null
       },
       "removedWidgets": [],
       "schema": [
        {
         "metadata": "{}",
         "name": "vendor_name",
         "type": "\"string\""
        },
        {
         "metadata": "{}",
         "name": "Trip_Pickup_DateTime",
         "type": "\"timestamp\""
        },
        {
         "metadata": "{}",
         "name": "Trip_Dropoff_DateTime",
         "type": "\"timestamp\""
        },
        {
         "metadata": "{}",
         "name": "Passenger_Count",
         "type": "\"integer\""
        },
        {
         "metadata": "{}",
         "name": "Trip_Distance",
         "type": "\"double\""
        },
        {
         "metadata": "{}",
         "name": "Start_Lon",
         "type": "\"double\""
        },
        {
         "metadata": "{}",
         "name": "Start_Lat",
         "type": "\"double\""
        },
        {
         "metadata": "{}",
         "name": "Rate_Code",
         "type": "\"string\""
        },
        {
         "metadata": "{}",
         "name": "store_and_forward",
         "type": "\"integer\""
        },
        {
         "metadata": "{}",
         "name": "End_Lon",
         "type": "\"double\""
        },
        {
         "metadata": "{}",
         "name": "End_Lat",
         "type": "\"double\""
        },
        {
         "metadata": "{}",
         "name": "Payment_Type",
         "type": "\"string\""
        },
        {
         "metadata": "{}",
         "name": "Fare_Amt",
         "type": "\"double\""
        },
        {
         "metadata": "{}",
         "name": "surcharge",
         "type": "\"double\""
        },
        {
         "metadata": "{}",
         "name": "mta_tax",
         "type": "\"string\""
        },
        {
         "metadata": "{}",
         "name": "Tip_Amt",
         "type": "\"double\""
        },
        {
         "metadata": "{}",
         "name": "Tolls_Amt",
         "type": "\"double\""
        },
        {
         "metadata": "{}",
         "name": "Total_Amt",
         "type": "\"double\""
        }
       ],
       "type": "table"
      }
     },
     "output_type": "display_data"
    }
   ],
   "source": [
    "%sql\n",
    "select * from trip_db.trip_small_delta_new where passenger_count=4 limit 3  ---this time it will only scan 1 file and ignore the other file thereby exhibiting data skipping."
   ]
  },
  {
   "cell_type": "markdown",
   "metadata": {
    "application/vnd.databricks.v1+cell": {
     "cellMetadata": {},
     "inputWidgets": {},
     "nuid": "bf1fde99-3002-4b3a-85c2-d9e60da4b7e2",
     "showTitle": false,
     "title": ""
    }
   },
   "source": [
    "# VACUUM"
   ]
  },
  {
   "cell_type": "code",
   "execution_count": 0,
   "metadata": {
    "application/vnd.databricks.v1+cell": {
     "cellMetadata": {
      "byteLimit": 2048000,
      "implicitDf": true,
      "rowLimit": 10000
     },
     "inputWidgets": {},
     "nuid": "53030484-487a-4a88-a2b9-147e884fb316",
     "showTitle": false,
     "title": ""
    }
   },
   "outputs": [
    {
     "output_type": "display_data",
     "data": {
      "text/html": [
       "<style scoped>\n",
       "  .table-result-container {\n",
       "    max-height: 300px;\n",
       "    overflow: auto;\n",
       "  }\n",
       "  table, th, td {\n",
       "    border: 1px solid black;\n",
       "    border-collapse: collapse;\n",
       "  }\n",
       "  th, td {\n",
       "    padding: 5px;\n",
       "  }\n",
       "  th {\n",
       "    text-align: left;\n",
       "  }\n",
       "</style><div class='table-result-container'><table class='table-result'><thead style='background-color: white'><tr><th>key</th><th>value</th></tr></thead><tbody><tr><td>spark.databricks.delta.retentionDurationCheck.enabled</td><td>False</td></tr></tbody></table></div>"
      ]
     },
     "metadata": {
      "application/vnd.databricks.v1+output": {
       "addedWidgets": {},
       "aggData": [],
       "aggError": "",
       "aggOverflow": false,
       "aggSchema": [],
       "aggSeriesLimitReached": false,
       "aggType": "",
       "arguments": {},
       "columnCustomDisplayInfos": {},
       "data": [
        [
         "spark.databricks.delta.retentionDurationCheck.enabled",
         "False"
        ]
       ],
       "datasetInfos": [],
       "dbfsResultPath": null,
       "isJsonSchema": true,
       "metadata": {},
       "overflow": false,
       "plotOptions": {
        "customPlotOptions": {},
        "displayType": "table",
        "pivotAggregation": null,
        "pivotColumns": null,
        "xColumns": null,
        "yColumns": null
       },
       "removedWidgets": [],
       "schema": [
        {
         "metadata": "{}",
         "name": "key",
         "type": "\"string\""
        },
        {
         "metadata": "{}",
         "name": "value",
         "type": "\"string\""
        }
       ],
       "type": "table"
      }
     },
     "output_type": "display_data"
    }
   ],
   "source": [
    "%sql\n",
    "set spark.databricks.delta.retentionDurationCheck.enabled=False"
   ]
  },
  {
   "cell_type": "code",
   "execution_count": 0,
   "metadata": {
    "application/vnd.databricks.v1+cell": {
     "cellMetadata": {
      "byteLimit": 2048000,
      "implicitDf": true,
      "rowLimit": 10000
     },
     "inputWidgets": {},
     "nuid": "95084931-7446-4c0d-acff-a6ab3f4dea64",
     "showTitle": false,
     "title": ""
    }
   },
   "outputs": [
    {
     "output_type": "display_data",
     "data": {
      "text/html": [
       "<style scoped>\n",
       "  .table-result-container {\n",
       "    max-height: 300px;\n",
       "    overflow: auto;\n",
       "  }\n",
       "  table, th, td {\n",
       "    border: 1px solid black;\n",
       "    border-collapse: collapse;\n",
       "  }\n",
       "  th, td {\n",
       "    padding: 5px;\n",
       "  }\n",
       "  th {\n",
       "    text-align: left;\n",
       "  }\n",
       "</style><div class='table-result-container'><table class='table-result'><thead style='background-color: white'><tr><th>path</th></tr></thead><tbody><tr><td>dbfs:/user/hive/warehouse/trip_db.db/trip_small_delta/vendor_name=CMT/part-00000-3044dc0c-a40a-4dfe-ac91-b237da7974b1.c000.snappy.parquet</td></tr><tr><td>dbfs:/user/hive/warehouse/trip_db.db/trip_small_delta/vendor_name=CMT/part-00000-37ac7b88-e1e0-40b8-a6c4-87cf9f8542d5.c000.snappy.parquet</td></tr><tr><td>dbfs:/user/hive/warehouse/trip_db.db/trip_small_delta/vendor_name=CMT/part-00000-7b74d20e-927b-4d97-8e4a-669f3f731237.c000.snappy.parquet</td></tr><tr><td>dbfs:/user/hive/warehouse/trip_db.db/trip_small_delta/vendor_name=CMT/part-00001-1c95e7f6-1e79-45cf-bdb4-ac0cb85b4fe8.c000.snappy.parquet</td></tr><tr><td>dbfs:/user/hive/warehouse/trip_db.db/trip_small_delta/vendor_name=CMT/part-00001-25c0da1e-ca4c-41a9-9efc-9b24708db462.c000.snappy.parquet</td></tr><tr><td>dbfs:/user/hive/warehouse/trip_db.db/trip_small_delta/vendor_name=CMT/part-00001-e8667c53-9daa-4d21-8fb1-5e7b625f22ba.c000.snappy.parquet</td></tr><tr><td>dbfs:/user/hive/warehouse/trip_db.db/trip_small_delta/vendor_name=CMT/part-00002-22ac9d9d-82e2-44e3-8e3e-36d8858463b9.c000.snappy.parquet</td></tr><tr><td>dbfs:/user/hive/warehouse/trip_db.db/trip_small_delta/vendor_name=CMT/part-00002-80cae795-43ca-4c85-83c5-f743dcd304e6.c000.snappy.parquet</td></tr><tr><td>dbfs:/user/hive/warehouse/trip_db.db/trip_small_delta/vendor_name=CMT/part-00003-601a0c92-8f47-4641-ab27-22c1ecaef033.c000.snappy.parquet</td></tr><tr><td>dbfs:/user/hive/warehouse/trip_db.db/trip_small_delta/vendor_name=CMT/part-00003-bc769f52-84ff-4bf6-8779-302237664f75.c000.snappy.parquet</td></tr><tr><td>dbfs:/user/hive/warehouse/trip_db.db/trip_small_delta/vendor_name=CMT/part-00004-0bdd8fa3-dcae-4a6d-aa5a-17aa9a6eb331.c000.snappy.parquet</td></tr><tr><td>dbfs:/user/hive/warehouse/trip_db.db/trip_small_delta/vendor_name=CMT/part-00004-aa8c8dc2-0b3d-4260-9085-9c6eec37db8f.c000.snappy.parquet</td></tr><tr><td>dbfs:/user/hive/warehouse/trip_db.db/trip_small_delta/vendor_name=CMT/part-00005-98384291-a135-4e7e-a957-9b29c94b560c.c000.snappy.parquet</td></tr><tr><td>dbfs:/user/hive/warehouse/trip_db.db/trip_small_delta/vendor_name=CMT/part-00005-d6018e79-2c75-481d-ad3e-7e6ba150fef6.c000.snappy.parquet</td></tr><tr><td>dbfs:/user/hive/warehouse/trip_db.db/trip_small_delta/vendor_name=CMT/part-00006-15f59fac-5b10-439a-81f8-8305857ec097.c000.snappy.parquet</td></tr><tr><td>dbfs:/user/hive/warehouse/trip_db.db/trip_small_delta/vendor_name=CMT/part-00006-b95798b0-4f0c-49b6-9396-0502c8a603da.c000.snappy.parquet</td></tr><tr><td>dbfs:/user/hive/warehouse/trip_db.db/trip_small_delta/vendor_name=CMT/part-00007-490207e8-f7b7-4e7e-9208-83ff50b103fb.c000.snappy.parquet</td></tr><tr><td>dbfs:/user/hive/warehouse/trip_db.db/trip_small_delta/vendor_name=CMT/part-00007-54ccd493-772a-4798-8ed2-f3dc02547647.c000.snappy.parquet</td></tr><tr><td>dbfs:/user/hive/warehouse/trip_db.db/trip_small_delta/vendor_name=CMT/part-00008-68ad7745-a3ff-4f95-bd7d-5668d104730d.c000.snappy.parquet</td></tr><tr><td>dbfs:/user/hive/warehouse/trip_db.db/trip_small_delta/vendor_name=CMT/part-00008-f70fcb4a-6774-4aca-b947-fcdf5243d518.c000.snappy.parquet</td></tr><tr><td>dbfs:/user/hive/warehouse/trip_db.db/trip_small_delta/vendor_name=CMT/part-00009-13bc3e0a-1a48-4c04-a97b-965ddc33d28f.c000.snappy.parquet</td></tr><tr><td>dbfs:/user/hive/warehouse/trip_db.db/trip_small_delta/vendor_name=CMT/part-00009-a779c3f4-f9b5-437f-ab10-94f5c5999589.c000.snappy.parquet</td></tr><tr><td>dbfs:/user/hive/warehouse/trip_db.db/trip_small_delta/vendor_name=CMT/part-00010-4303a3c2-db98-4b7b-909b-3cdd5e804322.c000.snappy.parquet</td></tr><tr><td>dbfs:/user/hive/warehouse/trip_db.db/trip_small_delta/vendor_name=CMT/part-00010-9c7a0e40-2a48-4c13-ab5d-b615e8ccefd2.c000.snappy.parquet</td></tr><tr><td>dbfs:/user/hive/warehouse/trip_db.db/trip_small_delta/vendor_name=CMT/part-00011-245a45a1-af36-489b-865f-d17ab08e0cf9.c000.snappy.parquet</td></tr><tr><td>dbfs:/user/hive/warehouse/trip_db.db/trip_small_delta/vendor_name=CMT/part-00011-24a6306b-4a9f-4118-8fd2-b791ff0a9598.c000.snappy.parquet</td></tr><tr><td>dbfs:/user/hive/warehouse/trip_db.db/trip_small_delta/vendor_name=CMT/part-00012-8990eecd-ebe6-470c-9aba-f46eec5f9e5b.c000.snappy.parquet</td></tr><tr><td>dbfs:/user/hive/warehouse/trip_db.db/trip_small_delta/vendor_name=CMT/part-00012-be848754-9adc-4f3f-84a3-8ace912fced4.c000.snappy.parquet</td></tr><tr><td>dbfs:/user/hive/warehouse/trip_db.db/trip_small_delta/vendor_name=CMT/part-00013-5af4d4c9-177c-4082-b3d7-6bc27b68ae05.c000.snappy.parquet</td></tr><tr><td>dbfs:/user/hive/warehouse/trip_db.db/trip_small_delta/vendor_name=CMT/part-00013-959af072-5786-49ed-8360-7b4fc33fc69e.c000.snappy.parquet</td></tr><tr><td>dbfs:/user/hive/warehouse/trip_db.db/trip_small_delta/vendor_name=CMT/part-00014-873eada8-3396-4503-84aa-896421afefdd.c000.snappy.parquet</td></tr><tr><td>dbfs:/user/hive/warehouse/trip_db.db/trip_small_delta/vendor_name=CMT/part-00014-b6b5b4d2-c055-4d95-9ba8-c3c06cb4faf2.c000.snappy.parquet</td></tr><tr><td>dbfs:/user/hive/warehouse/trip_db.db/trip_small_delta/vendor_name=CMT/part-00015-1d6c0b97-d55c-4b9d-be59-c7a606a51621.c000.snappy.parquet</td></tr><tr><td>dbfs:/user/hive/warehouse/trip_db.db/trip_small_delta/vendor_name=CMT/part-00015-b313d2dd-e817-4609-ba54-1d59356e6d37.c000.snappy.parquet</td></tr><tr><td>dbfs:/user/hive/warehouse/trip_db.db/trip_small_delta/vendor_name=CMT/part-00016-55aebaac-360c-4dd5-9078-578ae8df72c2.c000.snappy.parquet</td></tr><tr><td>dbfs:/user/hive/warehouse/trip_db.db/trip_small_delta/vendor_name=CMT/part-00016-70a1eb97-e1e2-484f-bd71-686df5a3a867.c000.snappy.parquet</td></tr><tr><td>dbfs:/user/hive/warehouse/trip_db.db/trip_small_delta/vendor_name=CMT/part-00017-4040ddb5-a8ae-442c-b237-bda4a8d8f3b5.c000.snappy.parquet</td></tr><tr><td>dbfs:/user/hive/warehouse/trip_db.db/trip_small_delta/vendor_name=CMT/part-00017-7593890e-5f18-4e51-b656-eae6bddb22a0.c000.snappy.parquet</td></tr><tr><td>dbfs:/user/hive/warehouse/trip_db.db/trip_small_delta/vendor_name=CMT/part-00018-2c47bc50-5b9e-4d44-b2c4-3fdd1dc5b766.c000.snappy.parquet</td></tr><tr><td>dbfs:/user/hive/warehouse/trip_db.db/trip_small_delta/vendor_name=CMT/part-00018-fb52682b-73d1-4340-9b9c-933e9080a61d.c000.snappy.parquet</td></tr><tr><td>dbfs:/user/hive/warehouse/trip_db.db/trip_small_delta/vendor_name=CMT/part-00019-97706a8f-b92c-449d-96af-0101fac57a69.c000.snappy.parquet</td></tr><tr><td>dbfs:/user/hive/warehouse/trip_db.db/trip_small_delta/vendor_name=CMT/part-00019-ecc267a3-0962-489c-8acb-96005c4e9887.c000.snappy.parquet</td></tr><tr><td>dbfs:/user/hive/warehouse/trip_db.db/trip_small_delta/vendor_name=CMT/part-00020-57fc4e07-a421-44a1-8f72-709c3d2013a1.c000.snappy.parquet</td></tr><tr><td>dbfs:/user/hive/warehouse/trip_db.db/trip_small_delta/vendor_name=CMT/part-00020-f79a1d27-43cd-4c6f-aa06-0f8d495c74a5.c000.snappy.parquet</td></tr><tr><td>dbfs:/user/hive/warehouse/trip_db.db/trip_small_delta/vendor_name=CMT/part-00021-13e96070-d052-4d93-928f-53db3202b942.c000.snappy.parquet</td></tr><tr><td>dbfs:/user/hive/warehouse/trip_db.db/trip_small_delta/vendor_name=CMT/part-00021-77842198-17f8-4f55-8366-6e4a2421ceb5.c000.snappy.parquet</td></tr><tr><td>dbfs:/user/hive/warehouse/trip_db.db/trip_small_delta/vendor_name=CMT/part-00022-1226acee-cd9d-4405-8556-7bc340092bc2.c000.snappy.parquet</td></tr><tr><td>dbfs:/user/hive/warehouse/trip_db.db/trip_small_delta/vendor_name=CMT/part-00022-3f7881e7-8de1-4443-bf5f-a0dea394180e.c000.snappy.parquet</td></tr><tr><td>dbfs:/user/hive/warehouse/trip_db.db/trip_small_delta/vendor_name=CMT/part-00023-0c01e66f-ca99-431e-9979-6f15ab254c9b.c000.snappy.parquet</td></tr><tr><td>dbfs:/user/hive/warehouse/trip_db.db/trip_small_delta/vendor_name=CMT/part-00023-e03df0fa-af10-484e-8405-fae3461e27eb.c000.snappy.parquet</td></tr><tr><td>dbfs:/user/hive/warehouse/trip_db.db/trip_small_delta/vendor_name=CMT/part-00024-e80a8e44-d69e-45d5-8a0e-51bc6577ad6a.c000.snappy.parquet</td></tr><tr><td>dbfs:/user/hive/warehouse/trip_db.db/trip_small_delta/vendor_name=CMT/part-00024-fd12ce8b-c399-439e-8a75-284b5bc6ffc4.c000.snappy.parquet</td></tr><tr><td>dbfs:/user/hive/warehouse/trip_db.db/trip_small_delta/vendor_name=CMT/part-00025-979ac859-b1bb-459a-8976-3bc94f659156.c000.snappy.parquet</td></tr><tr><td>dbfs:/user/hive/warehouse/trip_db.db/trip_small_delta/vendor_name=CMT/part-00025-d994399f-347b-4ffc-bd78-7af7eca5935e.c000.snappy.parquet</td></tr><tr><td>dbfs:/user/hive/warehouse/trip_db.db/trip_small_delta/vendor_name=CMT/part-00026-4707e3cd-8750-4b45-aa6b-a40f5a35bbc7.c000.snappy.parquet</td></tr><tr><td>dbfs:/user/hive/warehouse/trip_db.db/trip_small_delta/vendor_name=CMT/part-00026-d492feb2-9d2b-48e4-8db1-3bb396e45c19.c000.snappy.parquet</td></tr><tr><td>dbfs:/user/hive/warehouse/trip_db.db/trip_small_delta/vendor_name=CMT/part-00027-1110973d-fafd-4cdb-ab16-c7eb5ee0990e.c000.snappy.parquet</td></tr><tr><td>dbfs:/user/hive/warehouse/trip_db.db/trip_small_delta/vendor_name=CMT/part-00027-c42618c6-df83-45fa-aab5-c1ecdf4d98bf.c000.snappy.parquet</td></tr><tr><td>dbfs:/user/hive/warehouse/trip_db.db/trip_small_delta/vendor_name=CMT/part-00028-278b3b1d-386a-4232-95ad-1626060d660f.c000.snappy.parquet</td></tr><tr><td>dbfs:/user/hive/warehouse/trip_db.db/trip_small_delta/vendor_name=CMT/part-00028-cc42bab4-1f58-4b61-9e38-e5f6ee323591.c000.snappy.parquet</td></tr><tr><td>dbfs:/user/hive/warehouse/trip_db.db/trip_small_delta/vendor_name=CMT/part-00029-79854135-2aca-48a8-8314-36905d4b8576.c000.snappy.parquet</td></tr><tr><td>dbfs:/user/hive/warehouse/trip_db.db/trip_small_delta/vendor_name=CMT/part-00029-edfb5268-2f94-4212-9013-cab8a7f72547.c000.snappy.parquet</td></tr><tr><td>dbfs:/user/hive/warehouse/trip_db.db/trip_small_delta/vendor_name=CMT/part-00030-6ed424ae-3e29-42ca-ada3-5e22660af29b.c000.snappy.parquet</td></tr><tr><td>dbfs:/user/hive/warehouse/trip_db.db/trip_small_delta/vendor_name=CMT/part-00030-c8c3d611-e70c-4a24-a3db-13a91a028c25.c000.snappy.parquet</td></tr><tr><td>dbfs:/user/hive/warehouse/trip_db.db/trip_small_delta/vendor_name=CMT/part-00031-66db2ae4-e7b5-49f2-a58d-2adf3f6165e6.c000.snappy.parquet</td></tr><tr><td>dbfs:/user/hive/warehouse/trip_db.db/trip_small_delta/vendor_name=CMT/part-00031-cd363c22-816b-43e7-bdca-e62b8b6e9dfe.c000.snappy.parquet</td></tr><tr><td>dbfs:/user/hive/warehouse/trip_db.db/trip_small_delta/vendor_name=CMT/part-00032-0b16aa56-9221-4e98-9d93-18142ebee69d.c000.snappy.parquet</td></tr><tr><td>dbfs:/user/hive/warehouse/trip_db.db/trip_small_delta/vendor_name=CMT/part-00032-5a87e584-5cbe-4965-ad6f-220256f5e1c1.c000.snappy.parquet</td></tr><tr><td>dbfs:/user/hive/warehouse/trip_db.db/trip_small_delta/vendor_name=CMT/part-00033-b1426e95-c096-41a3-9f46-876fb72959dd.c000.snappy.parquet</td></tr><tr><td>dbfs:/user/hive/warehouse/trip_db.db/trip_small_delta/vendor_name=CMT/part-00033-d1dd6a45-8991-4842-a1ad-7961f991a224.c000.snappy.parquet</td></tr><tr><td>dbfs:/user/hive/warehouse/trip_db.db/trip_small_delta/vendor_name=CMT/part-00034-35b74be1-a9b6-4283-b89d-ba1721799818.c000.snappy.parquet</td></tr><tr><td>dbfs:/user/hive/warehouse/trip_db.db/trip_small_delta/vendor_name=CMT/part-00034-b28257b0-540a-49ff-9499-abf45f1342f2.c000.snappy.parquet</td></tr><tr><td>dbfs:/user/hive/warehouse/trip_db.db/trip_small_delta/vendor_name=CMT/part-00035-09843c60-edd5-4a62-a5e0-f2999f0e0e6e.c000.snappy.parquet</td></tr><tr><td>dbfs:/user/hive/warehouse/trip_db.db/trip_small_delta/vendor_name=CMT/part-00035-4684f394-d8ef-41ed-bda8-1f17a8994255.c000.snappy.parquet</td></tr><tr><td>dbfs:/user/hive/warehouse/trip_db.db/trip_small_delta/vendor_name=CMT/part-00036-9bb111c8-b387-4adf-a6f1-31cc11cf74d5.c000.snappy.parquet</td></tr><tr><td>dbfs:/user/hive/warehouse/trip_db.db/trip_small_delta/vendor_name=CMT/part-00036-aa1ec200-0ae0-48f9-b218-a42bb8b04b08.c000.snappy.parquet</td></tr><tr><td>dbfs:/user/hive/warehouse/trip_db.db/trip_small_delta/vendor_name=CMT/part-00037-97c71563-da38-4bee-8964-d389d3601e1c.c000.snappy.parquet</td></tr><tr><td>dbfs:/user/hive/warehouse/trip_db.db/trip_small_delta/vendor_name=CMT/part-00037-e90d6d45-a076-4644-a403-a430871b39e1.c000.snappy.parquet</td></tr><tr><td>dbfs:/user/hive/warehouse/trip_db.db/trip_small_delta/vendor_name=CMT/part-00038-7b680925-591b-469e-ab58-77ff1c31c9b5.c000.snappy.parquet</td></tr><tr><td>dbfs:/user/hive/warehouse/trip_db.db/trip_small_delta/vendor_name=CMT/part-00038-d9f3b7d6-c777-4b70-a31e-fa67f362ed37.c000.snappy.parquet</td></tr><tr><td>dbfs:/user/hive/warehouse/trip_db.db/trip_small_delta/vendor_name=CMT/part-00039-a8d9a777-dc57-4e23-b26f-7a651f4393d1.c000.snappy.parquet</td></tr><tr><td>dbfs:/user/hive/warehouse/trip_db.db/trip_small_delta/vendor_name=CMT/part-00039-ec11db85-6ccd-4329-a3d8-776ee98998c0.c000.snappy.parquet</td></tr><tr><td>dbfs:/user/hive/warehouse/trip_db.db/trip_small_delta/vendor_name=CMT/part-00040-01e928ce-135a-45c9-9335-cbfa11c37347.c000.snappy.parquet</td></tr><tr><td>dbfs:/user/hive/warehouse/trip_db.db/trip_small_delta/vendor_name=CMT/part-00040-8283d80d-a471-4782-8eec-1f1bcae4e4c9.c000.snappy.parquet</td></tr><tr><td>dbfs:/user/hive/warehouse/trip_db.db/trip_small_delta/vendor_name=CMT/part-00041-810e4ae3-d4ea-44b0-97a3-6fa8f1b147fb.c000.snappy.parquet</td></tr><tr><td>dbfs:/user/hive/warehouse/trip_db.db/trip_small_delta/vendor_name=CMT/part-00041-fb2e6091-3197-42eb-8bb6-3853611118de.c000.snappy.parquet</td></tr><tr><td>dbfs:/user/hive/warehouse/trip_db.db/trip_small_delta/vendor_name=CMT/part-00042-46922b50-9ee9-4b63-90d3-ba3383cf18a5.c000.snappy.parquet</td></tr><tr><td>dbfs:/user/hive/warehouse/trip_db.db/trip_small_delta/vendor_name=CMT/part-00042-90a810ec-e17c-4ce8-84ad-f66594a4f1b7.c000.snappy.parquet</td></tr><tr><td>dbfs:/user/hive/warehouse/trip_db.db/trip_small_delta/vendor_name=CMT/part-00043-11d0a232-4671-431f-8ac0-cf0706184446.c000.snappy.parquet</td></tr><tr><td>dbfs:/user/hive/warehouse/trip_db.db/trip_small_delta/vendor_name=CMT/part-00043-1fe0a654-2542-4e7f-8156-8ea3c26cd047.c000.snappy.parquet</td></tr><tr><td>dbfs:/user/hive/warehouse/trip_db.db/trip_small_delta/vendor_name=CMT/part-00044-a57ba6ac-549c-4a1b-a0ba-76b6cfbb0e2c.c000.snappy.parquet</td></tr><tr><td>dbfs:/user/hive/warehouse/trip_db.db/trip_small_delta/vendor_name=CMT/part-00044-d9cd0e35-75b9-4d18-8385-93155ae04880.c000.snappy.parquet</td></tr><tr><td>dbfs:/user/hive/warehouse/trip_db.db/trip_small_delta/vendor_name=CMT/part-00045-6c4974c3-c339-49bc-b833-4d1c6f808a6d.c000.snappy.parquet</td></tr><tr><td>dbfs:/user/hive/warehouse/trip_db.db/trip_small_delta/vendor_name=CMT/part-00045-96c9b8b4-dab4-4b5a-a97a-ef816996edc4.c000.snappy.parquet</td></tr><tr><td>dbfs:/user/hive/warehouse/trip_db.db/trip_small_delta/vendor_name=CMT/part-00046-5d1bad2d-5757-4ea4-8303-5ea3ef859e05.c000.snappy.parquet</td></tr><tr><td>dbfs:/user/hive/warehouse/trip_db.db/trip_small_delta/vendor_name=CMT/part-00046-74fd8f48-67bc-4a3e-89f7-38d07416f110.c000.snappy.parquet</td></tr><tr><td>dbfs:/user/hive/warehouse/trip_db.db/trip_small_delta/vendor_name=CMT/part-00047-1933c445-0e19-4289-b7dd-3d389c63004b.c000.snappy.parquet</td></tr><tr><td>dbfs:/user/hive/warehouse/trip_db.db/trip_small_delta/vendor_name=CMT/part-00047-e4ccf0d5-e4b0-4367-bf1e-0a8585195f12.c000.snappy.parquet</td></tr><tr><td>dbfs:/user/hive/warehouse/trip_db.db/trip_small_delta/vendor_name=CMT/part-00048-050152dc-1c87-4602-8f82-c8b4415941c3.c000.snappy.parquet</td></tr><tr><td>dbfs:/user/hive/warehouse/trip_db.db/trip_small_delta/vendor_name=CMT/part-00048-c5a6ad82-8967-4bcd-b103-f64a1642b862.c000.snappy.parquet</td></tr><tr><td>dbfs:/user/hive/warehouse/trip_db.db/trip_small_delta/vendor_name=CMT/part-00049-1ef7850e-d8cf-490c-98cc-fd83887bc95a.c000.snappy.parquet</td></tr><tr><td>dbfs:/user/hive/warehouse/trip_db.db/trip_small_delta/vendor_name=CMT/part-00049-5c888b43-4d1c-4e7d-9630-5b4ef36cb0ec.c000.snappy.parquet</td></tr><tr><td>dbfs:/user/hive/warehouse/trip_db.db/trip_small_delta/vendor_name=CMT/part-00050-6a67ae6d-0437-4078-8c0e-1e6820c281f4.c000.snappy.parquet</td></tr><tr><td>dbfs:/user/hive/warehouse/trip_db.db/trip_small_delta/vendor_name=CMT/part-00050-fca143bf-6e7c-4b1e-9d7a-4c67191c03e6.c000.snappy.parquet</td></tr><tr><td>dbfs:/user/hive/warehouse/trip_db.db/trip_small_delta/vendor_name=CMT/part-00051-3216156e-7ed5-4f92-99e9-e99be21d558d.c000.snappy.parquet</td></tr><tr><td>dbfs:/user/hive/warehouse/trip_db.db/trip_small_delta/vendor_name=CMT/part-00051-f0ab226e-582c-46df-8a9a-b7cabba56fba.c000.snappy.parquet</td></tr><tr><td>dbfs:/user/hive/warehouse/trip_db.db/trip_small_delta/vendor_name=CMT/part-00052-24d81fb2-e41f-4ad9-a0bc-2c7602c2a9f9.c000.snappy.parquet</td></tr><tr><td>dbfs:/user/hive/warehouse/trip_db.db/trip_small_delta/vendor_name=CMT/part-00052-7d3ecc65-34ad-45d3-a7d5-751dbe178665.c000.snappy.parquet</td></tr><tr><td>dbfs:/user/hive/warehouse/trip_db.db/trip_small_delta/vendor_name=CMT/part-00053-3f0a258a-e8f3-471e-b8d6-3bc786520153.c000.snappy.parquet</td></tr><tr><td>dbfs:/user/hive/warehouse/trip_db.db/trip_small_delta/vendor_name=CMT/part-00053-7f9225f2-4638-4578-86c2-9603e9668a05.c000.snappy.parquet</td></tr><tr><td>dbfs:/user/hive/warehouse/trip_db.db/trip_small_delta/vendor_name=CMT/part-00054-061f738c-34e3-4089-a43e-ca1df090fe34.c000.snappy.parquet</td></tr><tr><td>dbfs:/user/hive/warehouse/trip_db.db/trip_small_delta/vendor_name=CMT/part-00054-22c4e699-5f35-493b-a60c-6d2e1e5502fa.c000.snappy.parquet</td></tr><tr><td>dbfs:/user/hive/warehouse/trip_db.db/trip_small_delta/vendor_name=CMT/part-00055-b5964341-3cf6-4029-8e39-a640688e9d64.c000.snappy.parquet</td></tr><tr><td>dbfs:/user/hive/warehouse/trip_db.db/trip_small_delta/vendor_name=CMT/part-00055-e36f84a6-ada4-425c-89b0-9c2d1629736b.c000.snappy.parquet</td></tr><tr><td>dbfs:/user/hive/warehouse/trip_db.db/trip_small_delta/vendor_name=CMT/part-00056-1e270203-004d-4c39-a16d-81803fdbb3ef.c000.snappy.parquet</td></tr><tr><td>dbfs:/user/hive/warehouse/trip_db.db/trip_small_delta/vendor_name=CMT/part-00056-f4e15b0c-4077-4d65-9929-bdec5dca3e3c.c000.snappy.parquet</td></tr><tr><td>dbfs:/user/hive/warehouse/trip_db.db/trip_small_delta/vendor_name=CMT/part-00057-a217737c-c472-4ecb-ac85-6ddd973c02fb.c000.snappy.parquet</td></tr><tr><td>dbfs:/user/hive/warehouse/trip_db.db/trip_small_delta/vendor_name=CMT/part-00057-a7c007a0-e179-4518-bca0-f46bb9fdd132.c000.snappy.parquet</td></tr><tr><td>dbfs:/user/hive/warehouse/trip_db.db/trip_small_delta/vendor_name=CMT/part-00058-294eddab-c58f-4634-b940-e1cee17f2fb3.c000.snappy.parquet</td></tr><tr><td>dbfs:/user/hive/warehouse/trip_db.db/trip_small_delta/vendor_name=CMT/part-00058-d5d32edc-7561-46e6-85c8-967abf6cfb0f.c000.snappy.parquet</td></tr><tr><td>dbfs:/user/hive/warehouse/trip_db.db/trip_small_delta/vendor_name=CMT/part-00059-97ccb97e-a343-4341-874a-6c3c57e0c4ef.c000.snappy.parquet</td></tr><tr><td>dbfs:/user/hive/warehouse/trip_db.db/trip_small_delta/vendor_name=CMT/part-00059-f128fbfb-6fc6-4b4f-b22c-f15213eaefd2.c000.snappy.parquet</td></tr><tr><td>dbfs:/user/hive/warehouse/trip_db.db/trip_small_delta/vendor_name=CMT/part-00060-126fbd4a-c4a5-437e-9b53-da45b1c801ab.c000.snappy.parquet</td></tr><tr><td>dbfs:/user/hive/warehouse/trip_db.db/trip_small_delta/vendor_name=CMT/part-00060-b2ecdebd-7940-49dd-bd7f-32ad1c1925a4.c000.snappy.parquet</td></tr><tr><td>dbfs:/user/hive/warehouse/trip_db.db/trip_small_delta/vendor_name=CMT/part-00061-d70b81c5-6151-4cdd-a3e7-02438d06f967.c000.snappy.parquet</td></tr><tr><td>dbfs:/user/hive/warehouse/trip_db.db/trip_small_delta/vendor_name=CMT/part-00061-f68a874c-52cc-4e48-b07b-1e6779e6a317.c000.snappy.parquet</td></tr><tr><td>dbfs:/user/hive/warehouse/trip_db.db/trip_small_delta/vendor_name=CMT/part-00062-40f129e5-3216-403a-93cd-0e924f6700a9.c000.snappy.parquet</td></tr><tr><td>dbfs:/user/hive/warehouse/trip_db.db/trip_small_delta/vendor_name=CMT/part-00062-dd3bd0f2-8acf-4670-826f-8f43e57ec99e.c000.snappy.parquet</td></tr><tr><td>dbfs:/user/hive/warehouse/trip_db.db/trip_small_delta/vendor_name=CMT/part-00063-2ac3a7c6-200f-480f-b4d5-1eeae0aa98c4.c000.snappy.parquet</td></tr><tr><td>dbfs:/user/hive/warehouse/trip_db.db/trip_small_delta/vendor_name=CMT/part-00063-d4c23361-9b33-456d-a782-aa6098a1a86b.c000.snappy.parquet</td></tr><tr><td>dbfs:/user/hive/warehouse/trip_db.db/trip_small_delta/vendor_name=CMT/part-00064-477c3e81-ff18-452e-a19c-9cd8e90e4d59.c000.snappy.parquet</td></tr><tr><td>dbfs:/user/hive/warehouse/trip_db.db/trip_small_delta/vendor_name=CMT/part-00064-ecdcadc1-bfcc-4f8c-a66d-723633ad364e.c000.snappy.parquet</td></tr><tr><td>dbfs:/user/hive/warehouse/trip_db.db/trip_small_delta/vendor_name=CMT/part-00065-84f2b3e1-50c4-4d87-8f13-09505dbcc091.c000.snappy.parquet</td></tr><tr><td>dbfs:/user/hive/warehouse/trip_db.db/trip_small_delta/vendor_name=CMT/part-00065-ecb426ef-7ad4-41a2-96cb-624b65fed089.c000.snappy.parquet</td></tr><tr><td>dbfs:/user/hive/warehouse/trip_db.db/trip_small_delta/vendor_name=CMT/part-00066-4d06e46b-0e2a-41f8-a10d-d5a9bb505bdb.c000.snappy.parquet</td></tr><tr><td>dbfs:/user/hive/warehouse/trip_db.db/trip_small_delta/vendor_name=CMT/part-00066-6d1f47bc-4aba-4ce2-9b00-e4f65bc9578c.c000.snappy.parquet</td></tr><tr><td>dbfs:/user/hive/warehouse/trip_db.db/trip_small_delta/vendor_name=CMT/part-00067-acf027ac-0b8b-4fcd-b6c7-cd2ed274c892.c000.snappy.parquet</td></tr><tr><td>dbfs:/user/hive/warehouse/trip_db.db/trip_small_delta/vendor_name=CMT/part-00067-fdb6b1a7-068a-47d7-ada2-1e715a5a0274.c000.snappy.parquet</td></tr><tr><td>dbfs:/user/hive/warehouse/trip_db.db/trip_small_delta/vendor_name=CMT/part-00068-518fba8b-b786-4e5b-88c1-0649dd6b835c.c000.snappy.parquet</td></tr><tr><td>dbfs:/user/hive/warehouse/trip_db.db/trip_small_delta/vendor_name=CMT/part-00068-792089e5-ad31-40a0-8aa9-839aaac74c08.c000.snappy.parquet</td></tr><tr><td>dbfs:/user/hive/warehouse/trip_db.db/trip_small_delta/vendor_name=CMT/part-00069-2b48804c-82c3-4f80-8a0c-f2afd6df6e54.c000.snappy.parquet</td></tr><tr><td>dbfs:/user/hive/warehouse/trip_db.db/trip_small_delta/vendor_name=CMT/part-00069-7b240814-28fa-488a-8b6e-d55d0458f7fb.c000.snappy.parquet</td></tr><tr><td>dbfs:/user/hive/warehouse/trip_db.db/trip_small_delta/vendor_name=CMT/part-00070-66cf109b-1851-4b29-92d9-c116e9845fa2.c000.snappy.parquet</td></tr><tr><td>dbfs:/user/hive/warehouse/trip_db.db/trip_small_delta/vendor_name=CMT/part-00070-97a975f6-aa93-4828-b728-6a112e0fe618.c000.snappy.parquet</td></tr><tr><td>dbfs:/user/hive/warehouse/trip_db.db/trip_small_delta/vendor_name=CMT/part-00071-31975d87-9ccb-452a-9cd7-6ac34ca74554.c000.snappy.parquet</td></tr><tr><td>dbfs:/user/hive/warehouse/trip_db.db/trip_small_delta/vendor_name=CMT/part-00071-bab282f3-d759-4560-918d-b32df7f82c09.c000.snappy.parquet</td></tr><tr><td>dbfs:/user/hive/warehouse/trip_db.db/trip_small_delta/vendor_name=CMT/part-00072-1ea9572b-940b-4ad5-950e-33e928487c7e.c000.snappy.parquet</td></tr><tr><td>dbfs:/user/hive/warehouse/trip_db.db/trip_small_delta/vendor_name=CMT/part-00072-5898cfea-fb6e-47ea-b46b-b29c9a48b580.c000.snappy.parquet</td></tr><tr><td>dbfs:/user/hive/warehouse/trip_db.db/trip_small_delta/vendor_name=CMT/part-00073-71a601b9-fac0-48a7-b73d-9269ee92f3a1.c000.snappy.parquet</td></tr><tr><td>dbfs:/user/hive/warehouse/trip_db.db/trip_small_delta/vendor_name=CMT/part-00073-cbdb637b-85c2-4d2c-b1b4-053b95f21bbb.c000.snappy.parquet</td></tr><tr><td>dbfs:/user/hive/warehouse/trip_db.db/trip_small_delta/vendor_name=CMT/part-00074-255dc74a-b8d9-44f7-959a-44de098b67f8.c000.snappy.parquet</td></tr><tr><td>dbfs:/user/hive/warehouse/trip_db.db/trip_small_delta/vendor_name=CMT/part-00074-47e5df0f-a2f0-432c-b942-bc3bd2adb059.c000.snappy.parquet</td></tr><tr><td>dbfs:/user/hive/warehouse/trip_db.db/trip_small_delta/vendor_name=CMT/part-00075-215f79e1-470e-4c3d-adbe-19301f19fb4c.c000.snappy.parquet</td></tr><tr><td>dbfs:/user/hive/warehouse/trip_db.db/trip_small_delta/vendor_name=CMT/part-00075-c75a6e3d-dd21-4e67-821c-8132fd221166.c000.snappy.parquet</td></tr><tr><td>dbfs:/user/hive/warehouse/trip_db.db/trip_small_delta/vendor_name=CMT/part-00076-3360610b-f7c2-42f0-9592-a02511562697.c000.snappy.parquet</td></tr><tr><td>dbfs:/user/hive/warehouse/trip_db.db/trip_small_delta/vendor_name=CMT/part-00076-58c81315-49b9-4db8-a21e-e2b84fd7e654.c000.snappy.parquet</td></tr><tr><td>dbfs:/user/hive/warehouse/trip_db.db/trip_small_delta/vendor_name=CMT/part-00077-0b9bfe6a-76a8-48da-91a5-d1f0a3f51cca.c000.snappy.parquet</td></tr><tr><td>dbfs:/user/hive/warehouse/trip_db.db/trip_small_delta/vendor_name=CMT/part-00077-62741410-0cd8-411e-a766-afbbe8629716.c000.snappy.parquet</td></tr><tr><td>dbfs:/user/hive/warehouse/trip_db.db/trip_small_delta/vendor_name=CMT/part-00078-b51ab8a5-bcf3-4f2f-aae7-47cb7ca20401.c000.snappy.parquet</td></tr><tr><td>dbfs:/user/hive/warehouse/trip_db.db/trip_small_delta/vendor_name=CMT/part-00078-f057be68-686b-469d-a26b-e48d194fabeb.c000.snappy.parquet</td></tr><tr><td>dbfs:/user/hive/warehouse/trip_db.db/trip_small_delta/vendor_name=CMT/part-00079-d74881cd-4028-402f-ad04-a5d5b398a216.c000.snappy.parquet</td></tr><tr><td>dbfs:/user/hive/warehouse/trip_db.db/trip_small_delta/vendor_name=CMT/part-00079-f0584f1c-97a2-431d-b24b-e3efa46a5960.c000.snappy.parquet</td></tr><tr><td>dbfs:/user/hive/warehouse/trip_db.db/trip_small_delta/vendor_name=CMT/part-00080-2b579fa4-bf76-47e9-9f03-8de1749462f9.c000.snappy.parquet</td></tr><tr><td>dbfs:/user/hive/warehouse/trip_db.db/trip_small_delta/vendor_name=CMT/part-00080-40232af9-77eb-4f62-96cb-4208110ed3c3.c000.snappy.parquet</td></tr><tr><td>dbfs:/user/hive/warehouse/trip_db.db/trip_small_delta/vendor_name=CMT/part-00081-1569f310-fc08-46ab-957b-b12d975d3dce.c000.snappy.parquet</td></tr><tr><td>dbfs:/user/hive/warehouse/trip_db.db/trip_small_delta/vendor_name=CMT/part-00081-8267b8a4-5732-4dca-83aa-88c1737559c0.c000.snappy.parquet</td></tr><tr><td>dbfs:/user/hive/warehouse/trip_db.db/trip_small_delta/vendor_name=CMT/part-00082-60cddc53-77b7-4b0d-9551-c73317399af0.c000.snappy.parquet</td></tr><tr><td>dbfs:/user/hive/warehouse/trip_db.db/trip_small_delta/vendor_name=CMT/part-00082-ae4f0a99-60c4-480b-90ef-d6d84422861c.c000.snappy.parquet</td></tr><tr><td>dbfs:/user/hive/warehouse/trip_db.db/trip_small_delta/vendor_name=CMT/part-00083-022a3106-70b4-4b3e-a6a4-e4953a92e094.c000.snappy.parquet</td></tr><tr><td>dbfs:/user/hive/warehouse/trip_db.db/trip_small_delta/vendor_name=CMT/part-00083-e61882b8-385a-4c70-9506-3f4649befa44.c000.snappy.parquet</td></tr><tr><td>dbfs:/user/hive/warehouse/trip_db.db/trip_small_delta/vendor_name=CMT/part-00084-8cf0a467-4052-4571-8099-938466410fbe.c000.snappy.parquet</td></tr><tr><td>dbfs:/user/hive/warehouse/trip_db.db/trip_small_delta/vendor_name=CMT/part-00084-f2ef30bd-e4ce-4a3a-bed2-637e216e9640.c000.snappy.parquet</td></tr><tr><td>dbfs:/user/hive/warehouse/trip_db.db/trip_small_delta/vendor_name=CMT/part-00085-5a12da29-fe34-4165-a44e-281f22b5d919.c000.snappy.parquet</td></tr><tr><td>dbfs:/user/hive/warehouse/trip_db.db/trip_small_delta/vendor_name=CMT/part-00085-aa501742-4b07-44ce-8e00-4d775350c6b2.c000.snappy.parquet</td></tr><tr><td>dbfs:/user/hive/warehouse/trip_db.db/trip_small_delta/vendor_name=CMT/part-00086-3380d165-c70d-4895-8e25-820381fa2341.c000.snappy.parquet</td></tr><tr><td>dbfs:/user/hive/warehouse/trip_db.db/trip_small_delta/vendor_name=CMT/part-00086-80568ca2-97d6-4e8d-b10d-91633d3fde6d.c000.snappy.parquet</td></tr><tr><td>dbfs:/user/hive/warehouse/trip_db.db/trip_small_delta/vendor_name=CMT/part-00087-5fd37aa3-030f-430c-a236-0e0af1dfc7f4.c000.snappy.parquet</td></tr><tr><td>dbfs:/user/hive/warehouse/trip_db.db/trip_small_delta/vendor_name=CMT/part-00087-76dbc782-b901-42db-b85f-5ef7a2db6e2a.c000.snappy.parquet</td></tr><tr><td>dbfs:/user/hive/warehouse/trip_db.db/trip_small_delta/vendor_name=CMT/part-00088-20488149-cb41-47ee-af2d-3360f2b0d16a.c000.snappy.parquet</td></tr><tr><td>dbfs:/user/hive/warehouse/trip_db.db/trip_small_delta/vendor_name=CMT/part-00088-b9efd22b-e065-4cbc-862e-36b0a14cb9a4.c000.snappy.parquet</td></tr><tr><td>dbfs:/user/hive/warehouse/trip_db.db/trip_small_delta/vendor_name=CMT/part-00089-23546adb-1840-44f7-9623-0c779670fd8d.c000.snappy.parquet</td></tr><tr><td>dbfs:/user/hive/warehouse/trip_db.db/trip_small_delta/vendor_name=CMT/part-00089-31767fb5-5346-4e5c-b3b5-53766a3c74fb.c000.snappy.parquet</td></tr><tr><td>dbfs:/user/hive/warehouse/trip_db.db/trip_small_delta/vendor_name=CMT/part-00090-96c30d2e-70a6-4dab-bbd6-e0e2dbeb41d5.c000.snappy.parquet</td></tr><tr><td>dbfs:/user/hive/warehouse/trip_db.db/trip_small_delta/vendor_name=CMT/part-00090-e803b896-31a6-4630-9844-388a3b759d6b.c000.snappy.parquet</td></tr><tr><td>dbfs:/user/hive/warehouse/trip_db.db/trip_small_delta/vendor_name=CMT/part-00091-8ed59c5f-8685-4daf-aeff-c18db9ad551a.c000.snappy.parquet</td></tr><tr><td>dbfs:/user/hive/warehouse/trip_db.db/trip_small_delta/vendor_name=CMT/part-00091-cb437b6a-eb25-4ae1-8d7a-b59cc5213d91.c000.snappy.parquet</td></tr><tr><td>dbfs:/user/hive/warehouse/trip_db.db/trip_small_delta/vendor_name=CMT/part-00092-931f91d0-9019-4088-80ac-18e694cff1ae.c000.snappy.parquet</td></tr><tr><td>dbfs:/user/hive/warehouse/trip_db.db/trip_small_delta/vendor_name=CMT/part-00092-a555d512-43f7-44c8-83d6-fe4ac75a4aa5.c000.snappy.parquet</td></tr><tr><td>dbfs:/user/hive/warehouse/trip_db.db/trip_small_delta/vendor_name=CMT/part-00093-12a27b0f-b9e6-474e-854b-47c9323e9bcd.c000.snappy.parquet</td></tr><tr><td>dbfs:/user/hive/warehouse/trip_db.db/trip_small_delta/vendor_name=CMT/part-00093-dabfdbd8-6eef-474a-a8c4-a5ff59238dd7.c000.snappy.parquet</td></tr><tr><td>dbfs:/user/hive/warehouse/trip_db.db/trip_small_delta/vendor_name=CMT/part-00094-673eac44-0363-4e35-9666-243b1baf44d5.c000.snappy.parquet</td></tr><tr><td>dbfs:/user/hive/warehouse/trip_db.db/trip_small_delta/vendor_name=CMT/part-00094-818f8655-8d0d-46d1-9709-180a45f94d8a.c000.snappy.parquet</td></tr><tr><td>dbfs:/user/hive/warehouse/trip_db.db/trip_small_delta/vendor_name=CMT/part-00095-263d67df-9d5d-4527-8e67-d95c0f774bd8.c000.snappy.parquet</td></tr><tr><td>dbfs:/user/hive/warehouse/trip_db.db/trip_small_delta/vendor_name=CMT/part-00095-6f86c47c-c9ea-490e-96a8-1eb9c7d5d27c.c000.snappy.parquet</td></tr><tr><td>dbfs:/user/hive/warehouse/trip_db.db/trip_small_delta/vendor_name=CMT/part-00096-38aa1b9c-b99e-4ae3-900d-a712eb6a22c8.c000.snappy.parquet</td></tr><tr><td>dbfs:/user/hive/warehouse/trip_db.db/trip_small_delta/vendor_name=CMT/part-00096-71c918ba-5f7a-43ca-8ba8-7bf539de7837.c000.snappy.parquet</td></tr><tr><td>dbfs:/user/hive/warehouse/trip_db.db/trip_small_delta/vendor_name=CMT/part-00097-7f2607b4-f9ae-4a68-9213-e929c8a004a5.c000.snappy.parquet</td></tr><tr><td>dbfs:/user/hive/warehouse/trip_db.db/trip_small_delta/vendor_name=CMT/part-00097-c2988e75-1ea5-4364-ba38-f962da5755b7.c000.snappy.parquet</td></tr><tr><td>dbfs:/user/hive/warehouse/trip_db.db/trip_small_delta/vendor_name=CMT/part-00098-78c59b7c-4399-4cbe-8aa4-871addfc2f57.c000.snappy.parquet</td></tr><tr><td>dbfs:/user/hive/warehouse/trip_db.db/trip_small_delta/vendor_name=CMT/part-00098-7b42ce19-83c5-43e3-a9ff-c110f0225496.c000.snappy.parquet</td></tr><tr><td>dbfs:/user/hive/warehouse/trip_db.db/trip_small_delta/vendor_name=CMT/part-00099-b15eea71-fe91-43d1-8e0e-5f07ef6eb291.c000.snappy.parquet</td></tr><tr><td>dbfs:/user/hive/warehouse/trip_db.db/trip_small_delta/vendor_name=CMT/part-00099-ce047368-00a8-4041-abc9-73184edef963.c000.snappy.parquet</td></tr><tr><td>dbfs:/user/hive/warehouse/trip_db.db/trip_small_delta/vendor_name=CMT/part-00100-e83aaa8e-0ea5-4ad9-92de-c7475ab7e2f4.c000.snappy.parquet</td></tr><tr><td>dbfs:/user/hive/warehouse/trip_db.db/trip_small_delta/vendor_name=CMT/part-00100-f00a2fc7-ecfa-4053-b711-6fed45826271.c000.snappy.parquet</td></tr><tr><td>dbfs:/user/hive/warehouse/trip_db.db/trip_small_delta/vendor_name=CMT/part-00101-0e089078-f653-4451-a85b-d21736851e89.c000.snappy.parquet</td></tr><tr><td>dbfs:/user/hive/warehouse/trip_db.db/trip_small_delta/vendor_name=CMT/part-00101-609f9157-2a4e-4fc6-85cd-1831031d3ead.c000.snappy.parquet</td></tr><tr><td>dbfs:/user/hive/warehouse/trip_db.db/trip_small_delta/vendor_name=CMT/part-00102-739e0136-e2fd-4d48-b3a6-bf9af081ed07.c000.snappy.parquet</td></tr><tr><td>dbfs:/user/hive/warehouse/trip_db.db/trip_small_delta/vendor_name=CMT/part-00102-a14a775e-7565-4ebb-94ed-45f4fdfd876d.c000.snappy.parquet</td></tr><tr><td>dbfs:/user/hive/warehouse/trip_db.db/trip_small_delta/vendor_name=CMT/part-00103-8d457cea-6279-4abb-843e-402b6730c693.c000.snappy.parquet</td></tr><tr><td>dbfs:/user/hive/warehouse/trip_db.db/trip_small_delta/vendor_name=CMT/part-00103-fe09037a-6640-425a-bed0-57a1590c3428.c000.snappy.parquet</td></tr><tr><td>dbfs:/user/hive/warehouse/trip_db.db/trip_small_delta/vendor_name=CMT/part-00104-795dc7b0-8362-48ca-b6a6-51e0b9786b06.c000.snappy.parquet</td></tr><tr><td>dbfs:/user/hive/warehouse/trip_db.db/trip_small_delta/vendor_name=CMT/part-00104-fde189c8-b86e-4afc-8a02-a3f7893a370a.c000.snappy.parquet</td></tr><tr><td>dbfs:/user/hive/warehouse/trip_db.db/trip_small_delta/vendor_name=CMT/part-00105-206f39cb-0abb-46fe-9ac3-ca4123181406.c000.snappy.parquet</td></tr><tr><td>dbfs:/user/hive/warehouse/trip_db.db/trip_small_delta/vendor_name=CMT/part-00105-8514d492-f9f9-4cde-86ab-4f47309b652a.c000.snappy.parquet</td></tr><tr><td>dbfs:/user/hive/warehouse/trip_db.db/trip_small_delta/vendor_name=CMT/part-00106-9a3bc72c-0c93-4202-b2a1-fd9292f75cb8.c000.snappy.parquet</td></tr><tr><td>dbfs:/user/hive/warehouse/trip_db.db/trip_small_delta/vendor_name=CMT/part-00106-b0c583d9-6a82-4086-b760-b419e731401e.c000.snappy.parquet</td></tr><tr><td>dbfs:/user/hive/warehouse/trip_db.db/trip_small_delta/vendor_name=CMT/part-00107-4c9f9489-0aed-4fa8-b3e2-b04e14dc039a.c000.snappy.parquet</td></tr><tr><td>dbfs:/user/hive/warehouse/trip_db.db/trip_small_delta/vendor_name=CMT/part-00107-f84e2218-a9af-4c93-ac27-4a9a2ed8fdb6.c000.snappy.parquet</td></tr><tr><td>dbfs:/user/hive/warehouse/trip_db.db/trip_small_delta/vendor_name=CMT/part-00108-85cf68f5-8f16-4bf3-948f-12505a0f7d46.c000.snappy.parquet</td></tr><tr><td>dbfs:/user/hive/warehouse/trip_db.db/trip_small_delta/vendor_name=CMT/part-00108-a45b3e3c-c41b-409d-964f-ed7ff69808de.c000.snappy.parquet</td></tr><tr><td>dbfs:/user/hive/warehouse/trip_db.db/trip_small_delta/vendor_name=CMT/part-00109-64a82147-fdee-4c35-9310-6d47a3c5a57c.c000.snappy.parquet</td></tr><tr><td>dbfs:/user/hive/warehouse/trip_db.db/trip_small_delta/vendor_name=CMT/part-00109-bbdb0650-38f6-42fd-acdb-312fd135b30c.c000.snappy.parquet</td></tr><tr><td>dbfs:/user/hive/warehouse/trip_db.db/trip_small_delta/vendor_name=CMT/part-00110-364b758e-5b48-4200-b05f-1039018c11c5.c000.snappy.parquet</td></tr><tr><td>dbfs:/user/hive/warehouse/trip_db.db/trip_small_delta/vendor_name=CMT/part-00110-c815f276-1bf0-4c7f-9024-54345d117e37.c000.snappy.parquet</td></tr><tr><td>dbfs:/user/hive/warehouse/trip_db.db/trip_small_delta/vendor_name=CMT/part-00111-03ecb818-cd0b-41be-91be-484f5e4a2dfb.c000.snappy.parquet</td></tr><tr><td>dbfs:/user/hive/warehouse/trip_db.db/trip_small_delta/vendor_name=CMT/part-00111-b827ef79-67c9-4b73-96fd-a1c387cdd4a2.c000.snappy.parquet</td></tr><tr><td>dbfs:/user/hive/warehouse/trip_db.db/trip_small_delta/vendor_name=CMT/part-00112-12efa488-e35d-47a1-b000-39038caed90c.c000.snappy.parquet</td></tr><tr><td>dbfs:/user/hive/warehouse/trip_db.db/trip_small_delta/vendor_name=CMT/part-00112-9efaaec0-82ad-4719-9868-744613c3f855.c000.snappy.parquet</td></tr><tr><td>dbfs:/user/hive/warehouse/trip_db.db/trip_small_delta/vendor_name=CMT/part-00113-413a4d6d-997e-4f57-b0a4-f51b499cc269.c000.snappy.parquet</td></tr><tr><td>dbfs:/user/hive/warehouse/trip_db.db/trip_small_delta/vendor_name=CMT/part-00113-d33fddb5-3e7c-4bdf-8235-9424aba5f71c.c000.snappy.parquet</td></tr><tr><td>dbfs:/user/hive/warehouse/trip_db.db/trip_small_delta/vendor_name=CMT/part-00114-5a182504-e926-47ff-967a-761b09c0d791.c000.snappy.parquet</td></tr><tr><td>dbfs:/user/hive/warehouse/trip_db.db/trip_small_delta/vendor_name=CMT/part-00114-e0f32fda-d7ae-4379-8587-ed918f63c3c5.c000.snappy.parquet</td></tr><tr><td>dbfs:/user/hive/warehouse/trip_db.db/trip_small_delta/vendor_name=CMT/part-00115-43ea6b8f-6b28-4dd3-9678-3353edadd5fa.c000.snappy.parquet</td></tr><tr><td>dbfs:/user/hive/warehouse/trip_db.db/trip_small_delta/vendor_name=CMT/part-00115-7c7ad4e1-0a42-43e7-b8c6-af58333adf32.c000.snappy.parquet</td></tr><tr><td>dbfs:/user/hive/warehouse/trip_db.db/trip_small_delta/vendor_name=CMT/part-00116-24babb12-2048-4bb7-9fc2-cf3924ea4e6b.c000.snappy.parquet</td></tr><tr><td>dbfs:/user/hive/warehouse/trip_db.db/trip_small_delta/vendor_name=CMT/part-00116-4bc4361e-21bd-4680-9923-e40a5655b4aa.c000.snappy.parquet</td></tr><tr><td>dbfs:/user/hive/warehouse/trip_db.db/trip_small_delta/vendor_name=CMT/part-00117-80e718b9-f6c3-4894-8b95-4491af883f14.c000.snappy.parquet</td></tr><tr><td>dbfs:/user/hive/warehouse/trip_db.db/trip_small_delta/vendor_name=CMT/part-00117-916f4501-dba6-4d97-9fca-2756081bed68.c000.snappy.parquet</td></tr><tr><td>dbfs:/user/hive/warehouse/trip_db.db/trip_small_delta/vendor_name=CMT/part-00118-07d35c21-7be7-4904-8661-cb879f0ae095.c000.snappy.parquet</td></tr><tr><td>dbfs:/user/hive/warehouse/trip_db.db/trip_small_delta/vendor_name=CMT/part-00118-7ff546a8-5eeb-45f1-a2c8-2ec5a717f009.c000.snappy.parquet</td></tr><tr><td>dbfs:/user/hive/warehouse/trip_db.db/trip_small_delta/vendor_name=CMT/part-00119-11d44045-8958-4a0b-b911-5236f16d5898.c000.snappy.parquet</td></tr><tr><td>dbfs:/user/hive/warehouse/trip_db.db/trip_small_delta/vendor_name=CMT/part-00119-fb055868-8708-42f3-a68f-bb77a0c1c0ac.c000.snappy.parquet</td></tr><tr><td>dbfs:/user/hive/warehouse/trip_db.db/trip_small_delta/vendor_name=CMT/part-00120-638a9001-957a-4697-9963-ac5e9128b448.c000.snappy.parquet</td></tr><tr><td>dbfs:/user/hive/warehouse/trip_db.db/trip_small_delta/vendor_name=CMT/part-00120-a7b8b69a-d780-4a98-bb62-fedad2502eed.c000.snappy.parquet</td></tr><tr><td>dbfs:/user/hive/warehouse/trip_db.db/trip_small_delta/vendor_name=CMT/part-00121-c0c1bb5b-a40f-496b-b76b-8f7e8348211f.c000.snappy.parquet</td></tr><tr><td>dbfs:/user/hive/warehouse/trip_db.db/trip_small_delta/vendor_name=CMT/part-00121-cf55ca31-f23f-4824-83cc-ac8eadae9fe2.c000.snappy.parquet</td></tr><tr><td>dbfs:/user/hive/warehouse/trip_db.db/trip_small_delta/vendor_name=CMT/part-00122-46b435a1-74a3-40ec-87f5-00ccd835868d.c000.snappy.parquet</td></tr><tr><td>dbfs:/user/hive/warehouse/trip_db.db/trip_small_delta/vendor_name=CMT/part-00122-dbdef392-93ed-4b15-afa3-b2d628685b49.c000.snappy.parquet</td></tr><tr><td>dbfs:/user/hive/warehouse/trip_db.db/trip_small_delta/vendor_name=CMT/part-00123-0e3f53f9-eb03-4cc1-8848-fef90e2e1e2f.c000.snappy.parquet</td></tr><tr><td>dbfs:/user/hive/warehouse/trip_db.db/trip_small_delta/vendor_name=CMT/part-00123-bf8b5d1d-ddc4-451b-8b7f-f91d718b19c8.c000.snappy.parquet</td></tr><tr><td>dbfs:/user/hive/warehouse/trip_db.db/trip_small_delta/vendor_name=CMT/part-00124-46b5a50f-94cc-4f61-8c35-5f0c1cd71385.c000.snappy.parquet</td></tr><tr><td>dbfs:/user/hive/warehouse/trip_db.db/trip_small_delta/vendor_name=CMT/part-00124-85de580a-129d-4636-b6f6-f824275c914f.c000.snappy.parquet</td></tr><tr><td>dbfs:/user/hive/warehouse/trip_db.db/trip_small_delta/vendor_name=CMT/part-00125-a66c4b7f-35b9-4d90-9ef5-e59679a6b6aa.c000.snappy.parquet</td></tr><tr><td>dbfs:/user/hive/warehouse/trip_db.db/trip_small_delta/vendor_name=CMT/part-00125-c7963aa4-1dc1-4a9b-a009-331e720d11ed.c000.snappy.parquet</td></tr><tr><td>dbfs:/user/hive/warehouse/trip_db.db/trip_small_delta/vendor_name=CMT/part-00126-17f6bb1b-4d1a-4e9f-9612-f1fce03bfeef.c000.snappy.parquet</td></tr><tr><td>dbfs:/user/hive/warehouse/trip_db.db/trip_small_delta/vendor_name=CMT/part-00126-984d93b1-091c-44d2-9d34-7f7ab98fd7dd.c000.snappy.parquet</td></tr><tr><td>dbfs:/user/hive/warehouse/trip_db.db/trip_small_delta/vendor_name=CMT/part-00127-10033cea-e89d-45d3-807c-c743d508b2cd.c000.snappy.parquet</td></tr><tr><td>dbfs:/user/hive/warehouse/trip_db.db/trip_small_delta/vendor_name=CMT/part-00127-80f9d7b0-f99c-4792-996e-74e7d54a8e4f.c000.snappy.parquet</td></tr><tr><td>dbfs:/user/hive/warehouse/trip_db.db/trip_small_delta/vendor_name=CMT/part-00128-6be1dafa-b942-4c56-98fc-b46d2d616fea.c000.snappy.parquet</td></tr><tr><td>dbfs:/user/hive/warehouse/trip_db.db/trip_small_delta/vendor_name=CMT/part-00128-fd9a96aa-208d-4f59-9385-a5b412f60d1f.c000.snappy.parquet</td></tr><tr><td>dbfs:/user/hive/warehouse/trip_db.db/trip_small_delta/vendor_name=CMT/part-00129-748889d4-f3f9-40c9-a72f-4223ad124c01.c000.snappy.parquet</td></tr><tr><td>dbfs:/user/hive/warehouse/trip_db.db/trip_small_delta/vendor_name=CMT/part-00129-75572f11-2208-44cb-944a-d7083f8ad9b2.c000.snappy.parquet</td></tr><tr><td>dbfs:/user/hive/warehouse/trip_db.db/trip_small_delta/vendor_name=CMT/part-00130-15b59dfa-37ad-4899-96f2-d7b074d0b4ec.c000.snappy.parquet</td></tr><tr><td>dbfs:/user/hive/warehouse/trip_db.db/trip_small_delta/vendor_name=CMT/part-00130-a0dded22-e317-44ca-a814-4b03701c982d.c000.snappy.parquet</td></tr><tr><td>dbfs:/user/hive/warehouse/trip_db.db/trip_small_delta/vendor_name=CMT/part-00131-47570354-d459-42c2-87bf-b06d715a48e6.c000.snappy.parquet</td></tr><tr><td>dbfs:/user/hive/warehouse/trip_db.db/trip_small_delta/vendor_name=CMT/part-00131-9f9e61bb-579f-4dba-b64a-2f350259218d.c000.snappy.parquet</td></tr><tr><td>dbfs:/user/hive/warehouse/trip_db.db/trip_small_delta/vendor_name=CMT/part-00132-0cb84e04-50f1-44fc-8f4a-b638a65f50b8.c000.snappy.parquet</td></tr><tr><td>dbfs:/user/hive/warehouse/trip_db.db/trip_small_delta/vendor_name=CMT/part-00132-11a3ab46-c24c-48d3-8324-1e3efc0f0b9c.c000.snappy.parquet</td></tr><tr><td>dbfs:/user/hive/warehouse/trip_db.db/trip_small_delta/vendor_name=CMT/part-00133-972f4505-c3f9-4095-bde8-1889c35bf1a9.c000.snappy.parquet</td></tr><tr><td>dbfs:/user/hive/warehouse/trip_db.db/trip_small_delta/vendor_name=CMT/part-00133-a891b3bc-e2d2-4619-bc1d-480e54341b90.c000.snappy.parquet</td></tr><tr><td>dbfs:/user/hive/warehouse/trip_db.db/trip_small_delta/vendor_name=CMT/part-00134-956d1f4a-1e74-4104-ae08-2ac52fcf81b1.c000.snappy.parquet</td></tr><tr><td>dbfs:/user/hive/warehouse/trip_db.db/trip_small_delta/vendor_name=CMT/part-00134-be030e62-561e-4738-bc1b-c46c34086ff1.c000.snappy.parquet</td></tr><tr><td>dbfs:/user/hive/warehouse/trip_db.db/trip_small_delta/vendor_name=CMT/part-00135-193358be-4d52-48ba-9ace-146b761d2d67.c000.snappy.parquet</td></tr><tr><td>dbfs:/user/hive/warehouse/trip_db.db/trip_small_delta/vendor_name=CMT/part-00135-5f761b24-1c5a-4e8a-83fb-ce934c4053d8.c000.snappy.parquet</td></tr><tr><td>dbfs:/user/hive/warehouse/trip_db.db/trip_small_delta/vendor_name=CMT/part-00136-dd81ccc1-8adf-42b9-ae10-d5fc58d80d2f.c000.snappy.parquet</td></tr><tr><td>dbfs:/user/hive/warehouse/trip_db.db/trip_small_delta/vendor_name=CMT/part-00136-ea92f6e7-c1e1-4f52-8d60-c57fb557c327.c000.snappy.parquet</td></tr><tr><td>dbfs:/user/hive/warehouse/trip_db.db/trip_small_delta/vendor_name=CMT/part-00137-1f4547e0-cefc-4550-9013-b6f1cdc411e6.c000.snappy.parquet</td></tr><tr><td>dbfs:/user/hive/warehouse/trip_db.db/trip_small_delta/vendor_name=CMT/part-00137-481a8496-2e5f-4f79-8fe1-4106f0651c4e.c000.snappy.parquet</td></tr><tr><td>dbfs:/user/hive/warehouse/trip_db.db/trip_small_delta/vendor_name=CMT/part-00138-40051f60-d941-443d-9fcd-7e8918023b92.c000.snappy.parquet</td></tr><tr><td>dbfs:/user/hive/warehouse/trip_db.db/trip_small_delta/vendor_name=CMT/part-00138-817e73a3-d53a-4b2b-b61d-7e8786b1e970.c000.snappy.parquet</td></tr><tr><td>dbfs:/user/hive/warehouse/trip_db.db/trip_small_delta/vendor_name=CMT/part-00139-5a977442-3239-4e6d-8baa-a87d917b3182.c000.snappy.parquet</td></tr><tr><td>dbfs:/user/hive/warehouse/trip_db.db/trip_small_delta/vendor_name=CMT/part-00139-9054b44b-a04c-41cd-8168-edec6254d654.c000.snappy.parquet</td></tr><tr><td>dbfs:/user/hive/warehouse/trip_db.db/trip_small_delta/vendor_name=CMT/part-00140-bd5bda21-9aa8-4939-8a9e-6cb7060ee2a0.c000.snappy.parquet</td></tr><tr><td>dbfs:/user/hive/warehouse/trip_db.db/trip_small_delta/vendor_name=CMT/part-00140-f45647bf-f2ca-445d-aaa1-19fada1c646d.c000.snappy.parquet</td></tr><tr><td>dbfs:/user/hive/warehouse/trip_db.db/trip_small_delta/vendor_name=CMT/part-00141-07b3a72c-1634-4bce-9c23-33b5644b599d.c000.snappy.parquet</td></tr><tr><td>dbfs:/user/hive/warehouse/trip_db.db/trip_small_delta/vendor_name=CMT/part-00141-3722f83c-d223-40a0-af4a-b6f18ec8615a.c000.snappy.parquet</td></tr><tr><td>dbfs:/user/hive/warehouse/trip_db.db/trip_small_delta/vendor_name=CMT/part-00142-31c1b182-ec34-4e8b-b156-b14d4070864d.c000.snappy.parquet</td></tr><tr><td>dbfs:/user/hive/warehouse/trip_db.db/trip_small_delta/vendor_name=CMT/part-00142-4a908637-a75b-432d-bf0e-f0e248a85e46.c000.snappy.parquet</td></tr><tr><td>dbfs:/user/hive/warehouse/trip_db.db/trip_small_delta/vendor_name=CMT/part-00143-0dcd90d7-45e1-420d-add9-e3b5b24e0336.c000.snappy.parquet</td></tr><tr><td>dbfs:/user/hive/warehouse/trip_db.db/trip_small_delta/vendor_name=CMT/part-00143-d1af9e71-9a29-4cfa-ad76-d4cb2e7e8541.c000.snappy.parquet</td></tr><tr><td>dbfs:/user/hive/warehouse/trip_db.db/trip_small_delta/vendor_name=CMT/part-00144-77146814-ca67-410b-9442-866fc8218392.c000.snappy.parquet</td></tr><tr><td>dbfs:/user/hive/warehouse/trip_db.db/trip_small_delta/vendor_name=CMT/part-00144-adf33356-a71a-425c-aa11-402826eb9b87.c000.snappy.parquet</td></tr><tr><td>dbfs:/user/hive/warehouse/trip_db.db/trip_small_delta/vendor_name=CMT/part-00145-73f4055e-ac03-4e12-b7cd-69fff4f2b1a3.c000.snappy.parquet</td></tr><tr><td>dbfs:/user/hive/warehouse/trip_db.db/trip_small_delta/vendor_name=CMT/part-00145-9c4fda91-cde3-4293-b2a4-fc51a5322afd.c000.snappy.parquet</td></tr><tr><td>dbfs:/user/hive/warehouse/trip_db.db/trip_small_delta/vendor_name=CMT/part-00146-2d416079-65c6-4740-953a-43199a967c75.c000.snappy.parquet</td></tr><tr><td>dbfs:/user/hive/warehouse/trip_db.db/trip_small_delta/vendor_name=CMT/part-00146-2e6ab44e-3c40-446c-8328-e96ae28813d3.c000.snappy.parquet</td></tr><tr><td>dbfs:/user/hive/warehouse/trip_db.db/trip_small_delta/vendor_name=CMT/part-00147-0a01a797-c923-4986-b016-2e0bd418602e.c000.snappy.parquet</td></tr><tr><td>dbfs:/user/hive/warehouse/trip_db.db/trip_small_delta/vendor_name=CMT/part-00147-e85b8a77-8c37-4a16-8988-d8607ae286a6.c000.snappy.parquet</td></tr><tr><td>dbfs:/user/hive/warehouse/trip_db.db/trip_small_delta/vendor_name=CMT/part-00148-62e4f11a-ece0-48f9-ac16-e355a9429e7b.c000.snappy.parquet</td></tr><tr><td>dbfs:/user/hive/warehouse/trip_db.db/trip_small_delta/vendor_name=CMT/part-00148-b77c3242-c532-4fbc-bf1a-936e5e3f813b.c000.snappy.parquet</td></tr><tr><td>dbfs:/user/hive/warehouse/trip_db.db/trip_small_delta/vendor_name=CMT/part-00149-18d36e00-7e78-40bc-9739-a3b130803ad5.c000.snappy.parquet</td></tr><tr><td>dbfs:/user/hive/warehouse/trip_db.db/trip_small_delta/vendor_name=CMT/part-00149-509206f7-2cd5-4fa1-9690-670fd920ef9e.c000.snappy.parquet</td></tr><tr><td>dbfs:/user/hive/warehouse/trip_db.db/trip_small_delta/vendor_name=CMT/part-00150-2e737d41-f812-48af-ab2f-11766aa41d38.c000.snappy.parquet</td></tr><tr><td>dbfs:/user/hive/warehouse/trip_db.db/trip_small_delta/vendor_name=CMT/part-00150-f1e5c9aa-6333-44de-8e9f-3a555ab9b52b.c000.snappy.parquet</td></tr><tr><td>dbfs:/user/hive/warehouse/trip_db.db/trip_small_delta/vendor_name=CMT/part-00151-6511fcce-a9bb-413c-8d2e-1f2a4d0c4faa.c000.snappy.parquet</td></tr><tr><td>dbfs:/user/hive/warehouse/trip_db.db/trip_small_delta/vendor_name=CMT/part-00151-c11b4727-6e96-46f0-a2d1-cbe6147a6e69.c000.snappy.parquet</td></tr><tr><td>dbfs:/user/hive/warehouse/trip_db.db/trip_small_delta/vendor_name=CMT/part-00152-2a242075-3be6-4efd-857c-c04ea08b3c83.c000.snappy.parquet</td></tr><tr><td>dbfs:/user/hive/warehouse/trip_db.db/trip_small_delta/vendor_name=CMT/part-00152-75b0133a-6049-4630-bbd1-16e6a93a4f5d.c000.snappy.parquet</td></tr><tr><td>dbfs:/user/hive/warehouse/trip_db.db/trip_small_delta/vendor_name=CMT/part-00153-b9365472-681c-409f-a9dd-dfa978d3738d.c000.snappy.parquet</td></tr><tr><td>dbfs:/user/hive/warehouse/trip_db.db/trip_small_delta/vendor_name=CMT/part-00153-f649a258-2eec-40d3-828f-156d060381c4.c000.snappy.parquet</td></tr><tr><td>dbfs:/user/hive/warehouse/trip_db.db/trip_small_delta/vendor_name=CMT/part-00154-309840e2-18d3-4c7a-bdb8-58662eed8c4f.c000.snappy.parquet</td></tr><tr><td>dbfs:/user/hive/warehouse/trip_db.db/trip_small_delta/vendor_name=CMT/part-00154-5ba10017-b3c4-4e2a-b6af-9139addada0b.c000.snappy.parquet</td></tr><tr><td>dbfs:/user/hive/warehouse/trip_db.db/trip_small_delta/vendor_name=CMT/part-00155-c4341158-93d6-43b7-b3a1-891aa3d9b0bf.c000.snappy.parquet</td></tr><tr><td>dbfs:/user/hive/warehouse/trip_db.db/trip_small_delta/vendor_name=CMT/part-00155-c8a19291-5577-497b-9895-7ee9e20e6473.c000.snappy.parquet</td></tr><tr><td>dbfs:/user/hive/warehouse/trip_db.db/trip_small_delta/vendor_name=CMT/part-00156-b4ee11d4-5498-4329-b10b-909b4c41f69e.c000.snappy.parquet</td></tr><tr><td>dbfs:/user/hive/warehouse/trip_db.db/trip_small_delta/vendor_name=CMT/part-00156-dd84ddae-ba0e-4289-8a2c-67faba96d29a.c000.snappy.parquet</td></tr><tr><td>dbfs:/user/hive/warehouse/trip_db.db/trip_small_delta/vendor_name=CMT/part-00157-8e9c0ea7-86e3-4f8c-b483-0791aa11aab4.c000.snappy.parquet</td></tr><tr><td>dbfs:/user/hive/warehouse/trip_db.db/trip_small_delta/vendor_name=CMT/part-00157-abd8167f-ee9c-4ee9-82b9-175a782fe51c.c000.snappy.parquet</td></tr><tr><td>dbfs:/user/hive/warehouse/trip_db.db/trip_small_delta/vendor_name=CMT/part-00158-7acf00b5-ef03-4f8e-a9e9-d1ccd4c71499.c000.snappy.parquet</td></tr><tr><td>dbfs:/user/hive/warehouse/trip_db.db/trip_small_delta/vendor_name=CMT/part-00158-aae7cc8b-313a-46aa-951f-be3665004609.c000.snappy.parquet</td></tr><tr><td>dbfs:/user/hive/warehouse/trip_db.db/trip_small_delta/vendor_name=CMT/part-00159-1b7b350e-08b6-40cf-8b9f-12c21b3642f2.c000.snappy.parquet</td></tr><tr><td>dbfs:/user/hive/warehouse/trip_db.db/trip_small_delta/vendor_name=CMT/part-00159-32c9245c-4f39-4d46-be37-06dc2c9a8a0d.c000.snappy.parquet</td></tr><tr><td>dbfs:/user/hive/warehouse/trip_db.db/trip_small_delta/vendor_name=CMT/part-00160-2d69993d-bda7-4f81-81eb-f0241deeae79.c000.snappy.parquet</td></tr><tr><td>dbfs:/user/hive/warehouse/trip_db.db/trip_small_delta/vendor_name=CMT/part-00160-3a958f21-ad50-41e5-9360-81de5d30f3fc.c000.snappy.parquet</td></tr><tr><td>dbfs:/user/hive/warehouse/trip_db.db/trip_small_delta/vendor_name=CMT/part-00161-38ca9870-5f41-48d5-b553-bba5e5b09d26.c000.snappy.parquet</td></tr><tr><td>dbfs:/user/hive/warehouse/trip_db.db/trip_small_delta/vendor_name=CMT/part-00161-ddecb7cc-b051-45d4-bd42-ea8e649adda8.c000.snappy.parquet</td></tr><tr><td>dbfs:/user/hive/warehouse/trip_db.db/trip_small_delta/vendor_name=CMT/part-00162-08f5e3eb-01d1-4d58-97dc-4298e8bae7a4.c000.snappy.parquet</td></tr><tr><td>dbfs:/user/hive/warehouse/trip_db.db/trip_small_delta/vendor_name=CMT/part-00162-5b7b41b5-55a2-451f-ad3b-64c6cc5170d4.c000.snappy.parquet</td></tr><tr><td>dbfs:/user/hive/warehouse/trip_db.db/trip_small_delta/vendor_name=CMT/part-00163-a3eca39f-f542-4940-bf13-ee20ced94387.c000.snappy.parquet</td></tr><tr><td>dbfs:/user/hive/warehouse/trip_db.db/trip_small_delta/vendor_name=CMT/part-00163-aa8c0f7a-4bfb-4417-a43e-353efd9beb1f.c000.snappy.parquet</td></tr><tr><td>dbfs:/user/hive/warehouse/trip_db.db/trip_small_delta/vendor_name=CMT/part-00164-0b35565c-c6fc-4ffa-92af-4453cb37a954.c000.snappy.parquet</td></tr><tr><td>dbfs:/user/hive/warehouse/trip_db.db/trip_small_delta/vendor_name=CMT/part-00164-3a38f643-b2bd-4e63-9fcf-6a7192527ba6.c000.snappy.parquet</td></tr><tr><td>dbfs:/user/hive/warehouse/trip_db.db/trip_small_delta/vendor_name=CMT/part-00165-20daa067-7f7e-43e5-a466-f44a08c977c9.c000.snappy.parquet</td></tr><tr><td>dbfs:/user/hive/warehouse/trip_db.db/trip_small_delta/vendor_name=CMT/part-00165-b39a830b-b56e-4e2e-80e4-6e0ca322f256.c000.snappy.parquet</td></tr><tr><td>dbfs:/user/hive/warehouse/trip_db.db/trip_small_delta/vendor_name=CMT/part-00166-b3c198d5-32e6-424e-ba74-caa23e98f4d4.c000.snappy.parquet</td></tr><tr><td>dbfs:/user/hive/warehouse/trip_db.db/trip_small_delta/vendor_name=CMT/part-00166-bac92487-733d-4767-a5a6-d881db5182b0.c000.snappy.parquet</td></tr><tr><td>dbfs:/user/hive/warehouse/trip_db.db/trip_small_delta/vendor_name=CMT/part-00167-404cdc24-3be7-4ca6-a094-1aceda659d21.c000.snappy.parquet</td></tr><tr><td>dbfs:/user/hive/warehouse/trip_db.db/trip_small_delta/vendor_name=CMT/part-00167-559ec476-fe64-47ee-a8f9-f1c125e1c673.c000.snappy.parquet</td></tr><tr><td>dbfs:/user/hive/warehouse/trip_db.db/trip_small_delta/vendor_name=CMT/part-00168-d2d3275f-8eae-48d9-8f85-49b12d483f25.c000.snappy.parquet</td></tr><tr><td>dbfs:/user/hive/warehouse/trip_db.db/trip_small_delta/vendor_name=CMT/part-00168-efb7a9ac-fead-4bcc-98a8-12d7f58b0a34.c000.snappy.parquet</td></tr><tr><td>dbfs:/user/hive/warehouse/trip_db.db/trip_small_delta/vendor_name=CMT/part-00169-372364c7-0e14-4b35-b04e-3fccaab6112f.c000.snappy.parquet</td></tr><tr><td>dbfs:/user/hive/warehouse/trip_db.db/trip_small_delta/vendor_name=CMT/part-00169-f659a016-1aff-4d82-a945-caf30fb1e2ed.c000.snappy.parquet</td></tr><tr><td>dbfs:/user/hive/warehouse/trip_db.db/trip_small_delta/vendor_name=CMT/part-00170-92a4926d-e49a-46fe-8b42-2da93c2736aa.c000.snappy.parquet</td></tr><tr><td>dbfs:/user/hive/warehouse/trip_db.db/trip_small_delta/vendor_name=CMT/part-00170-a838d766-a358-4734-a099-101e7fb4f308.c000.snappy.parquet</td></tr><tr><td>dbfs:/user/hive/warehouse/trip_db.db/trip_small_delta/vendor_name=CMT/part-00171-4504ae99-86df-4afe-8c77-8eaa8dee5642.c000.snappy.parquet</td></tr><tr><td>dbfs:/user/hive/warehouse/trip_db.db/trip_small_delta/vendor_name=CMT/part-00171-554af90f-28d0-43cb-a73c-31d8442d1ab0.c000.snappy.parquet</td></tr><tr><td>dbfs:/user/hive/warehouse/trip_db.db/trip_small_delta/vendor_name=CMT/part-00172-97c5aa87-b20e-40e7-903a-104275e5a57b.c000.snappy.parquet</td></tr><tr><td>dbfs:/user/hive/warehouse/trip_db.db/trip_small_delta/vendor_name=CMT/part-00172-b90b4f97-ce50-4faa-ab90-4b37a88af13e.c000.snappy.parquet</td></tr><tr><td>dbfs:/user/hive/warehouse/trip_db.db/trip_small_delta/vendor_name=CMT/part-00173-1c595633-63c7-4d38-a3be-fc754367baa8.c000.snappy.parquet</td></tr><tr><td>dbfs:/user/hive/warehouse/trip_db.db/trip_small_delta/vendor_name=CMT/part-00173-d11df256-11a7-4ce0-bce7-21f0e77a58ce.c000.snappy.parquet</td></tr><tr><td>dbfs:/user/hive/warehouse/trip_db.db/trip_small_delta/vendor_name=CMT/part-00174-f5459132-cde5-417e-986d-d0d7aaf10b88.c000.snappy.parquet</td></tr><tr><td>dbfs:/user/hive/warehouse/trip_db.db/trip_small_delta/vendor_name=CMT/part-00174-f9ebbcd5-8677-482c-bebd-6432617afe00.c000.snappy.parquet</td></tr><tr><td>dbfs:/user/hive/warehouse/trip_db.db/trip_small_delta/vendor_name=CMT/part-00175-249f6802-5e4c-491e-b7de-00262f700c80.c000.snappy.parquet</td></tr><tr><td>dbfs:/user/hive/warehouse/trip_db.db/trip_small_delta/vendor_name=CMT/part-00175-5153b48c-75c6-47bb-9172-d81dd61a4d89.c000.snappy.parquet</td></tr><tr><td>dbfs:/user/hive/warehouse/trip_db.db/trip_small_delta/vendor_name=CMT/part-00176-07120b52-cfa4-44dd-9b51-6c5eb5322da6.c000.snappy.parquet</td></tr><tr><td>dbfs:/user/hive/warehouse/trip_db.db/trip_small_delta/vendor_name=CMT/part-00176-a39df856-d1a4-415b-b4ae-2a32e917ecd7.c000.snappy.parquet</td></tr><tr><td>dbfs:/user/hive/warehouse/trip_db.db/trip_small_delta/vendor_name=CMT/part-00177-7354b085-60a4-4043-b32d-c90341671070.c000.snappy.parquet</td></tr><tr><td>dbfs:/user/hive/warehouse/trip_db.db/trip_small_delta/vendor_name=CMT/part-00177-d603afce-a8a8-4037-a984-4c21800de38d.c000.snappy.parquet</td></tr><tr><td>dbfs:/user/hive/warehouse/trip_db.db/trip_small_delta/vendor_name=CMT/part-00178-8a8eb4c4-753d-47fe-acf3-2eababdca2d8.c000.snappy.parquet</td></tr><tr><td>dbfs:/user/hive/warehouse/trip_db.db/trip_small_delta/vendor_name=CMT/part-00178-97cce205-cffa-448d-bf2b-e3b185e80318.c000.snappy.parquet</td></tr><tr><td>dbfs:/user/hive/warehouse/trip_db.db/trip_small_delta/vendor_name=CMT/part-00179-17665268-ca1e-46e4-a139-447263127bec.c000.snappy.parquet</td></tr><tr><td>dbfs:/user/hive/warehouse/trip_db.db/trip_small_delta/vendor_name=CMT/part-00179-36ee2dd7-cf5f-4dc4-88cb-10f81bbb5489.c000.snappy.parquet</td></tr><tr><td>dbfs:/user/hive/warehouse/trip_db.db/trip_small_delta/vendor_name=CMT/part-00180-c2b7c145-cecd-4a01-a910-4b1d41ced45d.c000.snappy.parquet</td></tr><tr><td>dbfs:/user/hive/warehouse/trip_db.db/trip_small_delta/vendor_name=CMT/part-00180-c92aacfe-0300-4181-b686-a0b67b1a8304.c000.snappy.parquet</td></tr><tr><td>dbfs:/user/hive/warehouse/trip_db.db/trip_small_delta/vendor_name=CMT/part-00181-7ef54bc8-3a2b-4c10-991a-adf7e02be8cd.c000.snappy.parquet</td></tr><tr><td>dbfs:/user/hive/warehouse/trip_db.db/trip_small_delta/vendor_name=CMT/part-00181-aceb057d-fd5e-4712-b83c-21bc7ed510db.c000.snappy.parquet</td></tr><tr><td>dbfs:/user/hive/warehouse/trip_db.db/trip_small_delta/vendor_name=CMT/part-00182-ca5c2bd0-8af8-4d3d-8578-68c0fe25b948.c000.snappy.parquet</td></tr><tr><td>dbfs:/user/hive/warehouse/trip_db.db/trip_small_delta/vendor_name=CMT/part-00182-d50f19a2-a975-405e-9faf-be30cb83782a.c000.snappy.parquet</td></tr><tr><td>dbfs:/user/hive/warehouse/trip_db.db/trip_small_delta/vendor_name=CMT/part-00183-b004e1d7-1d89-4646-b90d-2585c14b6f7f.c000.snappy.parquet</td></tr><tr><td>dbfs:/user/hive/warehouse/trip_db.db/trip_small_delta/vendor_name=CMT/part-00183-f97b899c-5e4d-4d91-af5f-2046ea2a7dbb.c000.snappy.parquet</td></tr><tr><td>dbfs:/user/hive/warehouse/trip_db.db/trip_small_delta/vendor_name=CMT/part-00184-10043354-4e53-49ff-b833-d7276d4ca964.c000.snappy.parquet</td></tr><tr><td>dbfs:/user/hive/warehouse/trip_db.db/trip_small_delta/vendor_name=CMT/part-00184-f38e44a7-6b3d-4568-87bc-86e4dd2151f7.c000.snappy.parquet</td></tr><tr><td>dbfs:/user/hive/warehouse/trip_db.db/trip_small_delta/vendor_name=CMT/part-00185-1fb7ca86-1e98-42e9-9b8f-7554252cfef4.c000.snappy.parquet</td></tr><tr><td>dbfs:/user/hive/warehouse/trip_db.db/trip_small_delta/vendor_name=CMT/part-00185-cf4c62ea-ac8d-4cbb-b90a-200e7de49b55.c000.snappy.parquet</td></tr><tr><td>dbfs:/user/hive/warehouse/trip_db.db/trip_small_delta/vendor_name=CMT/part-00186-c7bbbefb-e29f-4137-abb0-f6d5e0a3cdc8.c000.snappy.parquet</td></tr><tr><td>dbfs:/user/hive/warehouse/trip_db.db/trip_small_delta/vendor_name=CMT/part-00186-ca115714-1b9e-432e-a24a-78c3a40a040e.c000.snappy.parquet</td></tr><tr><td>dbfs:/user/hive/warehouse/trip_db.db/trip_small_delta/vendor_name=CMT/part-00187-86d32837-5792-4059-90ee-c2c9614a21d0.c000.snappy.parquet</td></tr><tr><td>dbfs:/user/hive/warehouse/trip_db.db/trip_small_delta/vendor_name=CMT/part-00187-e2c02d36-a8af-4023-a97e-37a7a79ef4ff.c000.snappy.parquet</td></tr><tr><td>dbfs:/user/hive/warehouse/trip_db.db/trip_small_delta/vendor_name=CMT/part-00188-33096b4c-44ce-483b-92ed-48fc6e42f848.c000.snappy.parquet</td></tr><tr><td>dbfs:/user/hive/warehouse/trip_db.db/trip_small_delta/vendor_name=CMT/part-00188-70bda043-046a-4ba8-b0a0-b3910a999f2a.c000.snappy.parquet</td></tr><tr><td>dbfs:/user/hive/warehouse/trip_db.db/trip_small_delta/vendor_name=CMT/part-00189-4e1d32be-5a66-439d-abcf-9906c20c8e1f.c000.snappy.parquet</td></tr><tr><td>dbfs:/user/hive/warehouse/trip_db.db/trip_small_delta/vendor_name=CMT/part-00189-c4bfea1f-5181-42e6-9af5-69ee4f1e280d.c000.snappy.parquet</td></tr><tr><td>dbfs:/user/hive/warehouse/trip_db.db/trip_small_delta/vendor_name=CMT/part-00190-ccc44730-ca49-4331-81c2-0e2bd071dd0c.c000.snappy.parquet</td></tr><tr><td>dbfs:/user/hive/warehouse/trip_db.db/trip_small_delta/vendor_name=CMT/part-00190-f0796a41-a542-4d33-b473-a0ce20e295b7.c000.snappy.parquet</td></tr><tr><td>dbfs:/user/hive/warehouse/trip_db.db/trip_small_delta/vendor_name=CMT/part-00191-62b905cc-7af3-44d9-9a1e-5cca2ce853f3.c000.snappy.parquet</td></tr><tr><td>dbfs:/user/hive/warehouse/trip_db.db/trip_small_delta/vendor_name=CMT/part-00191-822988a6-1717-425f-9953-3c10b584c8a9.c000.snappy.parquet</td></tr><tr><td>dbfs:/user/hive/warehouse/trip_db.db/trip_small_delta/vendor_name=CMT/part-00192-2e045230-48e4-44c6-aeb2-c6fdeab4298e.c000.snappy.parquet</td></tr><tr><td>dbfs:/user/hive/warehouse/trip_db.db/trip_small_delta/vendor_name=CMT/part-00192-80632ad8-1e43-490d-b39d-a5c6734f18a0.c000.snappy.parquet</td></tr><tr><td>dbfs:/user/hive/warehouse/trip_db.db/trip_small_delta/vendor_name=CMT/part-00193-2747c57b-6b39-4190-a855-cbcf820da42c.c000.snappy.parquet</td></tr><tr><td>dbfs:/user/hive/warehouse/trip_db.db/trip_small_delta/vendor_name=CMT/part-00193-dc511861-d8f1-4670-a8c7-122c1aca4361.c000.snappy.parquet</td></tr><tr><td>dbfs:/user/hive/warehouse/trip_db.db/trip_small_delta/vendor_name=CMT/part-00194-d0bd91cd-75d3-458f-9996-317c58409320.c000.snappy.parquet</td></tr><tr><td>dbfs:/user/hive/warehouse/trip_db.db/trip_small_delta/vendor_name=CMT/part-00194-ed0cad85-eb08-4e03-8c84-205def5a900d.c000.snappy.parquet</td></tr><tr><td>dbfs:/user/hive/warehouse/trip_db.db/trip_small_delta/vendor_name=CMT/part-00195-460279bf-a5c4-4a52-8cc1-bc0513d2d23c.c000.snappy.parquet</td></tr><tr><td>dbfs:/user/hive/warehouse/trip_db.db/trip_small_delta/vendor_name=CMT/part-00195-9dd19bbc-ebcf-4cce-9993-3b5946813955.c000.snappy.parquet</td></tr><tr><td>dbfs:/user/hive/warehouse/trip_db.db/trip_small_delta/vendor_name=CMT/part-00196-df830e98-c6ca-46d3-aa31-f641c8bf253c.c000.snappy.parquet</td></tr><tr><td>dbfs:/user/hive/warehouse/trip_db.db/trip_small_delta/vendor_name=CMT/part-00196-f19da2f5-751c-4333-afa9-231881dd52d7.c000.snappy.parquet</td></tr><tr><td>dbfs:/user/hive/warehouse/trip_db.db/trip_small_delta/vendor_name=CMT/part-00197-0e37607d-e712-4778-b424-cd8a07b558b6.c000.snappy.parquet</td></tr><tr><td>dbfs:/user/hive/warehouse/trip_db.db/trip_small_delta/vendor_name=CMT/part-00197-c7013667-e828-4e3a-bbd1-48716b6ceb33.c000.snappy.parquet</td></tr><tr><td>dbfs:/user/hive/warehouse/trip_db.db/trip_small_delta/vendor_name=CMT/part-00198-04c4850f-137c-4be0-b5a3-c3c948f1977c.c000.snappy.parquet</td></tr><tr><td>dbfs:/user/hive/warehouse/trip_db.db/trip_small_delta/vendor_name=CMT/part-00198-8116f974-b8cd-4bdf-88dd-05d2b9a7d38c.c000.snappy.parquet</td></tr><tr><td>dbfs:/user/hive/warehouse/trip_db.db/trip_small_delta/vendor_name=CMT/part-00199-4b4d7016-652a-4d6e-b8ce-099cc3a6d38a.c000.snappy.parquet</td></tr><tr><td>dbfs:/user/hive/warehouse/trip_db.db/trip_small_delta/vendor_name=CMT/part-00199-9f4b44c7-f717-42ad-8827-2f21f45ed4d8.c000.snappy.parquet</td></tr><tr><td>dbfs:/user/hive/warehouse/trip_db.db/trip_small_delta/vendor_name=CMT/part-00200-673abf68-9852-4d7d-8c5d-2cf0f2c9da6a.c000.snappy.parquet</td></tr><tr><td>dbfs:/user/hive/warehouse/trip_db.db/trip_small_delta/vendor_name=CMT/part-00200-b8cf5c1e-d121-4b47-9c25-c0fc3a5065b3.c000.snappy.parquet</td></tr><tr><td>dbfs:/user/hive/warehouse/trip_db.db/trip_small_delta/vendor_name=CMT/part-00201-70611391-b6f3-4c54-aca7-ba547743dd44.c000.snappy.parquet</td></tr><tr><td>dbfs:/user/hive/warehouse/trip_db.db/trip_small_delta/vendor_name=CMT/part-00201-da6c7cc6-90b6-4274-b628-36e3de045f61.c000.snappy.parquet</td></tr><tr><td>dbfs:/user/hive/warehouse/trip_db.db/trip_small_delta/vendor_name=CMT/part-00202-2d1e5d63-7e66-4aea-abdd-ca08f4270c5a.c000.snappy.parquet</td></tr><tr><td>dbfs:/user/hive/warehouse/trip_db.db/trip_small_delta/vendor_name=CMT/part-00202-78c95b94-3b61-4217-ae9e-96e4b54863a3.c000.snappy.parquet</td></tr><tr><td>dbfs:/user/hive/warehouse/trip_db.db/trip_small_delta/vendor_name=CMT/part-00203-978ffe37-c60f-4eb2-b72b-1f1deec4cd76.c000.snappy.parquet</td></tr><tr><td>dbfs:/user/hive/warehouse/trip_db.db/trip_small_delta/vendor_name=CMT/part-00203-da3ecd2b-9f30-46ba-a97e-939dd62025f9.c000.snappy.parquet</td></tr><tr><td>dbfs:/user/hive/warehouse/trip_db.db/trip_small_delta/vendor_name=CMT/part-00204-479c08f7-50d4-48b5-ac0a-1188a380a619.c000.snappy.parquet</td></tr><tr><td>dbfs:/user/hive/warehouse/trip_db.db/trip_small_delta/vendor_name=CMT/part-00204-9902b468-e0a3-4950-8966-c65c131ff061.c000.snappy.parquet</td></tr><tr><td>dbfs:/user/hive/warehouse/trip_db.db/trip_small_delta/vendor_name=CMT/part-00205-097cf985-7167-4ce4-8138-27528ad36e77.c000.snappy.parquet</td></tr><tr><td>dbfs:/user/hive/warehouse/trip_db.db/trip_small_delta/vendor_name=CMT/part-00205-a7604117-891c-4a5c-880d-0c3fc6a9c318.c000.snappy.parquet</td></tr><tr><td>dbfs:/user/hive/warehouse/trip_db.db/trip_small_delta/vendor_name=CMT/part-00206-04ea9930-1cce-42c1-939f-393ae5669dfd.c000.snappy.parquet</td></tr><tr><td>dbfs:/user/hive/warehouse/trip_db.db/trip_small_delta/vendor_name=CMT/part-00206-82ea5abd-9368-4b4a-9d55-af30bc60967b.c000.snappy.parquet</td></tr><tr><td>dbfs:/user/hive/warehouse/trip_db.db/trip_small_delta/vendor_name=CMT/part-00207-a611d29b-88e9-4246-bfa3-c73af1df7990.c000.snappy.parquet</td></tr><tr><td>dbfs:/user/hive/warehouse/trip_db.db/trip_small_delta/vendor_name=CMT/part-00207-ab733205-5616-4f61-8902-f8a66b9dc30a.c000.snappy.parquet</td></tr><tr><td>dbfs:/user/hive/warehouse/trip_db.db/trip_small_delta/vendor_name=CMT/part-00208-1d6d6627-7131-4fbb-ad53-40797cfce7cc.c000.snappy.parquet</td></tr><tr><td>dbfs:/user/hive/warehouse/trip_db.db/trip_small_delta/vendor_name=CMT/part-00208-4ffad34f-1181-47ac-b30b-3b15798397fc.c000.snappy.parquet</td></tr><tr><td>dbfs:/user/hive/warehouse/trip_db.db/trip_small_delta/vendor_name=CMT/part-00209-2c6c0d26-0e8c-452c-b8c9-325dbb9d7446.c000.snappy.parquet</td></tr><tr><td>dbfs:/user/hive/warehouse/trip_db.db/trip_small_delta/vendor_name=CMT/part-00209-32687eff-e9cf-4dde-97c5-9c931de36e3f.c000.snappy.parquet</td></tr><tr><td>dbfs:/user/hive/warehouse/trip_db.db/trip_small_delta/vendor_name=CMT/part-00210-10653ef9-0120-4541-a327-7d48c767b573.c000.snappy.parquet</td></tr><tr><td>dbfs:/user/hive/warehouse/trip_db.db/trip_small_delta/vendor_name=CMT/part-00210-965cedee-8647-4e0f-9384-131d92472d36.c000.snappy.parquet</td></tr><tr><td>dbfs:/user/hive/warehouse/trip_db.db/trip_small_delta/vendor_name=CMT/part-00211-6bec7c8b-95f3-429f-9ae8-d77faf508afa.c000.snappy.parquet</td></tr><tr><td>dbfs:/user/hive/warehouse/trip_db.db/trip_small_delta/vendor_name=CMT/part-00211-84f23c79-9631-4a7f-bd6f-8c97f8ee7f3d.c000.snappy.parquet</td></tr><tr><td>dbfs:/user/hive/warehouse/trip_db.db/trip_small_delta/vendor_name=CMT/part-00212-84fef163-b64d-47a6-8c8d-d71c593fad9c.c000.snappy.parquet</td></tr><tr><td>dbfs:/user/hive/warehouse/trip_db.db/trip_small_delta/vendor_name=CMT/part-00212-d50f96ad-f47a-4faf-8b0c-684226e09b52.c000.snappy.parquet</td></tr><tr><td>dbfs:/user/hive/warehouse/trip_db.db/trip_small_delta/vendor_name=CMT/part-00213-6b0b2b6d-034e-4577-90b0-61ccbf3431bc.c000.snappy.parquet</td></tr><tr><td>dbfs:/user/hive/warehouse/trip_db.db/trip_small_delta/vendor_name=CMT/part-00213-d859736a-5a08-41e4-8fd6-307e4be92a0c.c000.snappy.parquet</td></tr><tr><td>dbfs:/user/hive/warehouse/trip_db.db/trip_small_delta/vendor_name=CMT/part-00214-6cc6e66b-e783-4488-be8e-f5df35ac6832.c000.snappy.parquet</td></tr><tr><td>dbfs:/user/hive/warehouse/trip_db.db/trip_small_delta/vendor_name=CMT/part-00214-a17a6658-07ee-47b9-97f5-f796f64eec0d.c000.snappy.parquet</td></tr><tr><td>dbfs:/user/hive/warehouse/trip_db.db/trip_small_delta/vendor_name=CMT/part-00215-9104cde8-efc7-4a08-9cca-dfc6e41fdbd0.c000.snappy.parquet</td></tr><tr><td>dbfs:/user/hive/warehouse/trip_db.db/trip_small_delta/vendor_name=CMT/part-00215-e6e63d13-e013-49c5-8e76-353cc6211f08.c000.snappy.parquet</td></tr><tr><td>dbfs:/user/hive/warehouse/trip_db.db/trip_small_delta/vendor_name=CMT/part-00216-78f6e7c9-7b92-43bc-9e90-f939ee63e2a1.c000.snappy.parquet</td></tr><tr><td>dbfs:/user/hive/warehouse/trip_db.db/trip_small_delta/vendor_name=CMT/part-00216-e9d17e8a-dd37-4b39-bfc4-1ced99db143f.c000.snappy.parquet</td></tr><tr><td>dbfs:/user/hive/warehouse/trip_db.db/trip_small_delta/vendor_name=CMT/part-00217-ac15a697-9c0d-46e6-a091-adea4f44eded.c000.snappy.parquet</td></tr><tr><td>dbfs:/user/hive/warehouse/trip_db.db/trip_small_delta/vendor_name=CMT/part-00217-ec549c8c-1e98-43e2-8666-0712628350b5.c000.snappy.parquet</td></tr><tr><td>dbfs:/user/hive/warehouse/trip_db.db/trip_small_delta/vendor_name=CMT/part-00218-434605a9-6c45-4b88-b13b-61edc24d9ffc.c000.snappy.parquet</td></tr><tr><td>dbfs:/user/hive/warehouse/trip_db.db/trip_small_delta/vendor_name=CMT/part-00218-d5ef7f90-8c93-4f78-9a64-a23db5a045ae.c000.snappy.parquet</td></tr><tr><td>dbfs:/user/hive/warehouse/trip_db.db/trip_small_delta/vendor_name=CMT/part-00219-0f9363cc-f0ff-42d7-a099-1eb92683b4cd.c000.snappy.parquet</td></tr><tr><td>dbfs:/user/hive/warehouse/trip_db.db/trip_small_delta/vendor_name=CMT/part-00219-8cf90ee7-1142-4072-b218-9095641ac692.c000.snappy.parquet</td></tr><tr><td>dbfs:/user/hive/warehouse/trip_db.db/trip_small_delta/vendor_name=CMT/part-00220-be6cd3f7-9d3f-473d-b0df-a3fd584352c9.c000.snappy.parquet</td></tr><tr><td>dbfs:/user/hive/warehouse/trip_db.db/trip_small_delta/vendor_name=CMT/part-00220-dcccf180-98a9-46f0-98b4-0bdce149e2b7.c000.snappy.parquet</td></tr><tr><td>dbfs:/user/hive/warehouse/trip_db.db/trip_small_delta/vendor_name=CMT/part-00221-0e86a433-1009-4963-b148-2dade59d60c5.c000.snappy.parquet</td></tr><tr><td>dbfs:/user/hive/warehouse/trip_db.db/trip_small_delta/vendor_name=CMT/part-00221-48787ea9-1ceb-4b33-b9d7-f645d8356519.c000.snappy.parquet</td></tr><tr><td>dbfs:/user/hive/warehouse/trip_db.db/trip_small_delta/vendor_name=CMT/part-00222-77f83c59-c7a4-438c-b45a-51a753870f4e.c000.snappy.parquet</td></tr><tr><td>dbfs:/user/hive/warehouse/trip_db.db/trip_small_delta/vendor_name=CMT/part-00222-ebf10d2f-6a8b-4e72-a5fa-e1f24d377453.c000.snappy.parquet</td></tr><tr><td>dbfs:/user/hive/warehouse/trip_db.db/trip_small_delta/vendor_name=CMT/part-00223-35a140fd-613a-405f-ac12-f93dd1d860d2.c000.snappy.parquet</td></tr><tr><td>dbfs:/user/hive/warehouse/trip_db.db/trip_small_delta/vendor_name=CMT/part-00223-87ef54a2-34ae-47da-addb-fae0c41532f7.c000.snappy.parquet</td></tr><tr><td>dbfs:/user/hive/warehouse/trip_db.db/trip_small_delta/vendor_name=CMT/part-00224-6ef39341-fdb4-44e5-8ea3-42a994cbefef.c000.snappy.parquet</td></tr><tr><td>dbfs:/user/hive/warehouse/trip_db.db/trip_small_delta/vendor_name=CMT/part-00224-f3957d11-1835-498c-9b88-ab0e0f56cd6c.c000.snappy.parquet</td></tr><tr><td>dbfs:/user/hive/warehouse/trip_db.db/trip_small_delta/vendor_name=CMT/part-00225-00f694de-7dd6-4511-baaf-d799172d0e06.c000.snappy.parquet</td></tr><tr><td>dbfs:/user/hive/warehouse/trip_db.db/trip_small_delta/vendor_name=CMT/part-00225-6637b366-613d-4291-aabf-8cfa4b0e91bc.c000.snappy.parquet</td></tr><tr><td>dbfs:/user/hive/warehouse/trip_db.db/trip_small_delta/vendor_name=CMT/part-00226-2cc50f5e-4407-4a12-83f2-9e4d5b7ab47e.c000.snappy.parquet</td></tr><tr><td>dbfs:/user/hive/warehouse/trip_db.db/trip_small_delta/vendor_name=CMT/part-00226-6dbd81c5-8c85-47c7-a728-6b427841822b.c000.snappy.parquet</td></tr><tr><td>dbfs:/user/hive/warehouse/trip_db.db/trip_small_delta/vendor_name=CMT/part-00227-38f1c707-2bda-4f1a-8de2-60facdabafda.c000.snappy.parquet</td></tr><tr><td>dbfs:/user/hive/warehouse/trip_db.db/trip_small_delta/vendor_name=CMT/part-00227-e90131fc-4a61-415b-946e-b23363483a05.c000.snappy.parquet</td></tr><tr><td>dbfs:/user/hive/warehouse/trip_db.db/trip_small_delta/vendor_name=CMT/part-00228-22444172-8ece-4083-87c4-6327e6b2597e.c000.snappy.parquet</td></tr><tr><td>dbfs:/user/hive/warehouse/trip_db.db/trip_small_delta/vendor_name=CMT/part-00228-648f3943-bde4-4645-862c-6ce893182483.c000.snappy.parquet</td></tr><tr><td>dbfs:/user/hive/warehouse/trip_db.db/trip_small_delta/vendor_name=CMT/part-00229-7581c54b-2f27-4805-a8fb-8907a209ba49.c000.snappy.parquet</td></tr><tr><td>dbfs:/user/hive/warehouse/trip_db.db/trip_small_delta/vendor_name=CMT/part-00229-79e82f28-bbb2-4ee4-bdc9-f142d2ad2db0.c000.snappy.parquet</td></tr><tr><td>dbfs:/user/hive/warehouse/trip_db.db/trip_small_delta/vendor_name=CMT/part-00230-39b4e13e-8f18-4005-a486-1f96ca82df6b.c000.snappy.parquet</td></tr><tr><td>dbfs:/user/hive/warehouse/trip_db.db/trip_small_delta/vendor_name=CMT/part-00230-c2f675d4-5ac2-44e0-a611-3970dfbff5c6.c000.snappy.parquet</td></tr><tr><td>dbfs:/user/hive/warehouse/trip_db.db/trip_small_delta/vendor_name=CMT/part-00231-54a739ae-7b1a-4b52-b814-cd0d30c58fb0.c000.snappy.parquet</td></tr><tr><td>dbfs:/user/hive/warehouse/trip_db.db/trip_small_delta/vendor_name=CMT/part-00231-cb6c0dd4-2eb2-4d64-bbe2-3106dca392de.c000.snappy.parquet</td></tr><tr><td>dbfs:/user/hive/warehouse/trip_db.db/trip_small_delta/vendor_name=CMT/part-00232-775fc95e-3a41-4cde-b3cc-a90ef76ba72b.c000.snappy.parquet</td></tr><tr><td>dbfs:/user/hive/warehouse/trip_db.db/trip_small_delta/vendor_name=CMT/part-00232-f91a27b8-69f5-4d89-9f10-3662d38d3ea4.c000.snappy.parquet</td></tr><tr><td>dbfs:/user/hive/warehouse/trip_db.db/trip_small_delta/vendor_name=CMT/part-00233-5b262fae-cfde-42be-ab33-5a340fdf8f31.c000.snappy.parquet</td></tr><tr><td>dbfs:/user/hive/warehouse/trip_db.db/trip_small_delta/vendor_name=CMT/part-00233-7abbf91c-8425-41d0-a9c5-223242d06411.c000.snappy.parquet</td></tr><tr><td>dbfs:/user/hive/warehouse/trip_db.db/trip_small_delta/vendor_name=CMT/part-00234-4a074abe-7cab-4d49-bae2-dea613ee66aa.c000.snappy.parquet</td></tr><tr><td>dbfs:/user/hive/warehouse/trip_db.db/trip_small_delta/vendor_name=CMT/part-00234-fb3fd7a3-662d-4d09-bf34-3aa101ac405f.c000.snappy.parquet</td></tr><tr><td>dbfs:/user/hive/warehouse/trip_db.db/trip_small_delta/vendor_name=CMT/part-00235-bb87b182-a34c-40ef-a216-ec77fda31398.c000.snappy.parquet</td></tr><tr><td>dbfs:/user/hive/warehouse/trip_db.db/trip_small_delta/vendor_name=CMT/part-00235-dd3aca7c-53a6-43b7-8bef-13eb7d6dc7cb.c000.snappy.parquet</td></tr><tr><td>dbfs:/user/hive/warehouse/trip_db.db/trip_small_delta/vendor_name=CMT/part-00236-bd476081-af23-4b2d-8034-f5faca07334f.c000.snappy.parquet</td></tr><tr><td>dbfs:/user/hive/warehouse/trip_db.db/trip_small_delta/vendor_name=CMT/part-00236-ebcd9363-c52d-4707-b6a9-d9c42d5ff7dd.c000.snappy.parquet</td></tr><tr><td>dbfs:/user/hive/warehouse/trip_db.db/trip_small_delta/vendor_name=CMT/part-00237-aaac2496-d885-4eaf-ad89-60c139e761c1.c000.snappy.parquet</td></tr><tr><td>dbfs:/user/hive/warehouse/trip_db.db/trip_small_delta/vendor_name=CMT/part-00237-f21b06df-4cfe-4ccd-9ba8-2aaec4e70b8a.c000.snappy.parquet</td></tr><tr><td>dbfs:/user/hive/warehouse/trip_db.db/trip_small_delta/vendor_name=CMT/part-00238-6bc0944f-b635-403e-a102-cf8fbb9975fa.c000.snappy.parquet</td></tr><tr><td>dbfs:/user/hive/warehouse/trip_db.db/trip_small_delta/vendor_name=CMT/part-00238-ad249599-bd47-4a3f-9ef5-0ef110217672.c000.snappy.parquet</td></tr><tr><td>dbfs:/user/hive/warehouse/trip_db.db/trip_small_delta/vendor_name=CMT/part-00239-8c4e462a-d828-4f88-bbfd-0ee5ca2e462f.c000.snappy.parquet</td></tr><tr><td>dbfs:/user/hive/warehouse/trip_db.db/trip_small_delta/vendor_name=CMT/part-00239-c8e524a5-7dd7-48cb-89e8-a03cbbe6c88f.c000.snappy.parquet</td></tr><tr><td>dbfs:/user/hive/warehouse/trip_db.db/trip_small_delta/vendor_name=CMT/part-00240-7de89fb5-1e94-4e0f-827e-61a0cec216dc.c000.snappy.parquet</td></tr><tr><td>dbfs:/user/hive/warehouse/trip_db.db/trip_small_delta/vendor_name=CMT/part-00240-9a591264-643b-4ab8-9680-c703ecfb5b0f.c000.snappy.parquet</td></tr><tr><td>dbfs:/user/hive/warehouse/trip_db.db/trip_small_delta/vendor_name=CMT/part-00241-a72111d9-2f0d-44bb-99b6-0ca2d3475ba3.c000.snappy.parquet</td></tr><tr><td>dbfs:/user/hive/warehouse/trip_db.db/trip_small_delta/vendor_name=CMT/part-00241-d8cb3c3f-6f52-48e8-8710-717bd1bfa884.c000.snappy.parquet</td></tr><tr><td>dbfs:/user/hive/warehouse/trip_db.db/trip_small_delta/vendor_name=CMT/part-00242-42a0cb1b-4c95-47b6-83f6-8cd08fc0e15e.c000.snappy.parquet</td></tr><tr><td>dbfs:/user/hive/warehouse/trip_db.db/trip_small_delta/vendor_name=CMT/part-00242-a613ea59-df74-465d-a2a8-2d0233deda03.c000.snappy.parquet</td></tr><tr><td>dbfs:/user/hive/warehouse/trip_db.db/trip_small_delta/vendor_name=CMT/part-00243-0bffdb97-97d9-4fef-8de8-1668db877ac6.c000.snappy.parquet</td></tr><tr><td>dbfs:/user/hive/warehouse/trip_db.db/trip_small_delta/vendor_name=CMT/part-00243-e8b9b7b7-e39a-4ce9-b913-d9d85786548a.c000.snappy.parquet</td></tr><tr><td>dbfs:/user/hive/warehouse/trip_db.db/trip_small_delta/vendor_name=CMT/part-00244-dcbb40cf-3c1f-40f2-a473-9b12d2935883.c000.snappy.parquet</td></tr><tr><td>dbfs:/user/hive/warehouse/trip_db.db/trip_small_delta/vendor_name=CMT/part-00244-f75d5ade-ff9f-4209-a2a1-4c0ba173aa8f.c000.snappy.parquet</td></tr><tr><td>dbfs:/user/hive/warehouse/trip_db.db/trip_small_delta/vendor_name=CMT/part-00245-74774c7e-5460-452c-9331-23390f45f2c8.c000.snappy.parquet</td></tr><tr><td>dbfs:/user/hive/warehouse/trip_db.db/trip_small_delta/vendor_name=CMT/part-00245-7f55b904-0005-4277-8fe5-8917d257d700.c000.snappy.parquet</td></tr><tr><td>dbfs:/user/hive/warehouse/trip_db.db/trip_small_delta/vendor_name=CMT/part-00246-5d5349cf-491e-4db7-8c71-5c14059e6edb.c000.snappy.parquet</td></tr><tr><td>dbfs:/user/hive/warehouse/trip_db.db/trip_small_delta/vendor_name=CMT/part-00246-78b50b22-8236-48dc-8056-ef8bb58229c0.c000.snappy.parquet</td></tr><tr><td>dbfs:/user/hive/warehouse/trip_db.db/trip_small_delta/vendor_name=CMT/part-00247-842616e3-a4c5-4e4f-8f4a-477123ecef72.c000.snappy.parquet</td></tr><tr><td>dbfs:/user/hive/warehouse/trip_db.db/trip_small_delta/vendor_name=CMT/part-00247-de26eef5-252c-4f5b-b1ab-b3da0f7b009b.c000.snappy.parquet</td></tr><tr><td>dbfs:/user/hive/warehouse/trip_db.db/trip_small_delta/vendor_name=CMT/part-00248-29a814c5-3906-411e-918c-5bf49fa0c1c4.c000.snappy.parquet</td></tr><tr><td>dbfs:/user/hive/warehouse/trip_db.db/trip_small_delta/vendor_name=CMT/part-00248-dcd15a6f-a750-418f-bf96-16c59c3ca6ed.c000.snappy.parquet</td></tr><tr><td>dbfs:/user/hive/warehouse/trip_db.db/trip_small_delta/vendor_name=CMT/part-00249-bb26e2e5-c2bf-49c7-ba99-2caef1d20a26.c000.snappy.parquet</td></tr><tr><td>dbfs:/user/hive/warehouse/trip_db.db/trip_small_delta/vendor_name=CMT/part-00249-e1f7e281-cc20-4ebb-82f5-b39def519042.c000.snappy.parquet</td></tr><tr><td>dbfs:/user/hive/warehouse/trip_db.db/trip_small_delta/vendor_name=CMT/part-00250-1408fdb3-eda5-4d13-a19c-69910abfd356.c000.snappy.parquet</td></tr><tr><td>dbfs:/user/hive/warehouse/trip_db.db/trip_small_delta/vendor_name=CMT/part-00250-4753e70b-a64a-48e6-b045-cb124c4693b5.c000.snappy.parquet</td></tr><tr><td>dbfs:/user/hive/warehouse/trip_db.db/trip_small_delta/vendor_name=CMT/part-00251-206184c7-d664-4838-8012-b659e2f6a91e.c000.snappy.parquet</td></tr><tr><td>dbfs:/user/hive/warehouse/trip_db.db/trip_small_delta/vendor_name=CMT/part-00251-24e52ca1-504e-46b6-9911-015611045ac3.c000.snappy.parquet</td></tr><tr><td>dbfs:/user/hive/warehouse/trip_db.db/trip_small_delta/vendor_name=CMT/part-00252-69adb462-a316-4b0f-aed0-14ec117f141d.c000.snappy.parquet</td></tr><tr><td>dbfs:/user/hive/warehouse/trip_db.db/trip_small_delta/vendor_name=CMT/part-00252-d07132c9-0a28-4b43-a615-af44e724f6af.c000.snappy.parquet</td></tr><tr><td>dbfs:/user/hive/warehouse/trip_db.db/trip_small_delta/vendor_name=CMT/part-00253-5b5b8f3c-f7e6-4e7c-8a14-e46d40fa26bf.c000.snappy.parquet</td></tr><tr><td>dbfs:/user/hive/warehouse/trip_db.db/trip_small_delta/vendor_name=CMT/part-00253-c225efea-f5bc-4fd3-b386-775e22692e42.c000.snappy.parquet</td></tr><tr><td>dbfs:/user/hive/warehouse/trip_db.db/trip_small_delta/vendor_name=CMT/part-00254-8bb0fd8d-7f34-43a8-a5bf-e4d40f1c0487.c000.snappy.parquet</td></tr><tr><td>dbfs:/user/hive/warehouse/trip_db.db/trip_small_delta/vendor_name=CMT/part-00254-b2051832-fab0-4309-ad9e-fa3207d0aee7.c000.snappy.parquet</td></tr><tr><td>dbfs:/user/hive/warehouse/trip_db.db/trip_small_delta/vendor_name=CMT/part-00255-5e782b48-deb7-4280-b196-08bffbc4ef29.c000.snappy.parquet</td></tr><tr><td>dbfs:/user/hive/warehouse/trip_db.db/trip_small_delta/vendor_name=CMT/part-00255-c8361427-60f8-4d5d-a642-b0baa6dde8fc.c000.snappy.parquet</td></tr><tr><td>dbfs:/user/hive/warehouse/trip_db.db/trip_small_delta/vendor_name=CMT/part-00256-330e569b-2e4c-4584-8a3a-3841443219ef.c000.snappy.parquet</td></tr><tr><td>dbfs:/user/hive/warehouse/trip_db.db/trip_small_delta/vendor_name=CMT/part-00256-c3f0dd56-183a-413e-a8cb-d768fc4d9d6b.c000.snappy.parquet</td></tr><tr><td>dbfs:/user/hive/warehouse/trip_db.db/trip_small_delta/vendor_name=CMT/part-00257-caf335b0-6beb-4580-83b5-87f02d6e56f2.c000.snappy.parquet</td></tr><tr><td>dbfs:/user/hive/warehouse/trip_db.db/trip_small_delta/vendor_name=CMT/part-00257-d60c84fc-49a2-46ac-9ca0-27772d91222c.c000.snappy.parquet</td></tr><tr><td>dbfs:/user/hive/warehouse/trip_db.db/trip_small_delta/vendor_name=CMT/part-00258-af06e63d-32d2-4389-99ac-8c3d71b55a9a.c000.snappy.parquet</td></tr><tr><td>dbfs:/user/hive/warehouse/trip_db.db/trip_small_delta/vendor_name=CMT/part-00258-f6320f6b-78ba-4b72-b169-6c29dd22be56.c000.snappy.parquet</td></tr><tr><td>dbfs:/user/hive/warehouse/trip_db.db/trip_small_delta/vendor_name=CMT/part-00259-92ebd0b4-2a4a-4cef-b467-a29fc2c6d8cc.c000.snappy.parquet</td></tr><tr><td>dbfs:/user/hive/warehouse/trip_db.db/trip_small_delta/vendor_name=CMT/part-00259-d872c094-bce8-4333-858a-9186682701fe.c000.snappy.parquet</td></tr><tr><td>dbfs:/user/hive/warehouse/trip_db.db/trip_small_delta/vendor_name=CMT/part-00260-4a5279ae-e653-4485-a602-4159d3950155.c000.snappy.parquet</td></tr><tr><td>dbfs:/user/hive/warehouse/trip_db.db/trip_small_delta/vendor_name=CMT/part-00260-807a0b5f-37d3-454a-a9cb-be89afa42f95.c000.snappy.parquet</td></tr><tr><td>dbfs:/user/hive/warehouse/trip_db.db/trip_small_delta/vendor_name=CMT/part-00261-79bc607e-b40b-4ea8-8414-36a9049a10c0.c000.snappy.parquet</td></tr><tr><td>dbfs:/user/hive/warehouse/trip_db.db/trip_small_delta/vendor_name=CMT/part-00261-d482d49c-760d-4d58-8434-0e204f03b7a6.c000.snappy.parquet</td></tr><tr><td>dbfs:/user/hive/warehouse/trip_db.db/trip_small_delta/vendor_name=CMT/part-00262-62bbe85a-6e79-4e1c-9ecb-92cacf159227.c000.snappy.parquet</td></tr><tr><td>dbfs:/user/hive/warehouse/trip_db.db/trip_small_delta/vendor_name=CMT/part-00262-7fb7cd41-6853-4427-adcf-35cd23f8e862.c000.snappy.parquet</td></tr><tr><td>dbfs:/user/hive/warehouse/trip_db.db/trip_small_delta/vendor_name=CMT/part-00263-35e09347-ded4-4c2d-8ac3-873318080302.c000.snappy.parquet</td></tr><tr><td>dbfs:/user/hive/warehouse/trip_db.db/trip_small_delta/vendor_name=CMT/part-00263-7d53cf9e-7d7c-4a8d-b068-5e2c0d0fed12.c000.snappy.parquet</td></tr><tr><td>dbfs:/user/hive/warehouse/trip_db.db/trip_small_delta/vendor_name=CMT/part-00264-56c84023-2bbe-4fc3-9994-256030f69fe2.c000.snappy.parquet</td></tr><tr><td>dbfs:/user/hive/warehouse/trip_db.db/trip_small_delta/vendor_name=CMT/part-00264-a7642a9b-7339-40aa-b368-f76f02a6276e.c000.snappy.parquet</td></tr><tr><td>dbfs:/user/hive/warehouse/trip_db.db/trip_small_delta/vendor_name=CMT/part-00265-b1e648aa-e632-4ea8-ae7d-36481ad63f43.c000.snappy.parquet</td></tr><tr><td>dbfs:/user/hive/warehouse/trip_db.db/trip_small_delta/vendor_name=CMT/part-00265-ea6cab27-b8e8-49df-ac5d-258698694a11.c000.snappy.parquet</td></tr><tr><td>dbfs:/user/hive/warehouse/trip_db.db/trip_small_delta/vendor_name=CMT/part-00266-3f5554aa-821f-41e5-83ff-4232ce2cde11.c000.snappy.parquet</td></tr><tr><td>dbfs:/user/hive/warehouse/trip_db.db/trip_small_delta/vendor_name=CMT/part-00266-c12391fd-2ebe-4e87-8cb6-3b74996d1b31.c000.snappy.parquet</td></tr><tr><td>dbfs:/user/hive/warehouse/trip_db.db/trip_small_delta/vendor_name=CMT/part-00267-9b416c18-400f-4408-a683-8f93e88c92d4.c000.snappy.parquet</td></tr><tr><td>dbfs:/user/hive/warehouse/trip_db.db/trip_small_delta/vendor_name=CMT/part-00267-c46d4df6-21a2-4096-80cf-43e68dd8eb1f.c000.snappy.parquet</td></tr><tr><td>dbfs:/user/hive/warehouse/trip_db.db/trip_small_delta/vendor_name=CMT/part-00268-a1583443-30d0-4274-a4d0-d4a73b2df642.c000.snappy.parquet</td></tr><tr><td>dbfs:/user/hive/warehouse/trip_db.db/trip_small_delta/vendor_name=CMT/part-00268-da9b620b-0794-4dcb-8f6c-1a46c0dde241.c000.snappy.parquet</td></tr><tr><td>dbfs:/user/hive/warehouse/trip_db.db/trip_small_delta/vendor_name=CMT/part-00269-4b00bc1e-eb81-41ea-9ed1-551bcecfe0cf.c000.snappy.parquet</td></tr><tr><td>dbfs:/user/hive/warehouse/trip_db.db/trip_small_delta/vendor_name=CMT/part-00269-a1908b17-1c65-4052-89a6-d47d8e91b0ca.c000.snappy.parquet</td></tr><tr><td>dbfs:/user/hive/warehouse/trip_db.db/trip_small_delta/vendor_name=CMT/part-00270-5eacad96-2a4d-434e-9f0a-2a27253435ba.c000.snappy.parquet</td></tr><tr><td>dbfs:/user/hive/warehouse/trip_db.db/trip_small_delta/vendor_name=CMT/part-00270-c60401bf-a684-4215-ae6e-0b82fa4f8e07.c000.snappy.parquet</td></tr><tr><td>dbfs:/user/hive/warehouse/trip_db.db/trip_small_delta/vendor_name=CMT/part-00271-0203a78c-562b-4896-8bb6-6d4889a094a3.c000.snappy.parquet</td></tr><tr><td>dbfs:/user/hive/warehouse/trip_db.db/trip_small_delta/vendor_name=CMT/part-00271-2d08084a-e377-476e-9313-8c34ad4d7cfe.c000.snappy.parquet</td></tr><tr><td>dbfs:/user/hive/warehouse/trip_db.db/trip_small_delta/vendor_name=CMT/part-00272-4881de32-6f51-4180-a47f-0e7ee7dfff9f.c000.snappy.parquet</td></tr><tr><td>dbfs:/user/hive/warehouse/trip_db.db/trip_small_delta/vendor_name=CMT/part-00272-f676d2d4-dc35-4c27-85b0-edc9196e36ef.c000.snappy.parquet</td></tr><tr><td>dbfs:/user/hive/warehouse/trip_db.db/trip_small_delta/vendor_name=CMT/part-00273-66350296-d8bb-4b2f-a299-4213bb3587f4.c000.snappy.parquet</td></tr><tr><td>dbfs:/user/hive/warehouse/trip_db.db/trip_small_delta/vendor_name=CMT/part-00273-e2c2b938-7a49-4d68-a155-7bd16adbe193.c000.snappy.parquet</td></tr><tr><td>dbfs:/user/hive/warehouse/trip_db.db/trip_small_delta/vendor_name=CMT/part-00274-b0134ff5-4e34-45bc-b14f-c55490619ba4.c000.snappy.parquet</td></tr><tr><td>dbfs:/user/hive/warehouse/trip_db.db/trip_small_delta/vendor_name=CMT/part-00274-fe944ba7-0a6e-4348-b763-e9c4271f5f07.c000.snappy.parquet</td></tr><tr><td>dbfs:/user/hive/warehouse/trip_db.db/trip_small_delta/vendor_name=CMT/part-00275-bf708ac0-4ad2-4f78-9ac7-e1bc08c84faa.c000.snappy.parquet</td></tr><tr><td>dbfs:/user/hive/warehouse/trip_db.db/trip_small_delta/vendor_name=CMT/part-00275-fe94db22-e693-4ebb-aace-de57fe939652.c000.snappy.parquet</td></tr><tr><td>dbfs:/user/hive/warehouse/trip_db.db/trip_small_delta/vendor_name=CMT/part-00276-18267318-2e1e-4b83-aa4b-9352143133ac.c000.snappy.parquet</td></tr><tr><td>dbfs:/user/hive/warehouse/trip_db.db/trip_small_delta/vendor_name=CMT/part-00276-96dd0717-4128-49a7-bf3e-5bfcf7f5a99e.c000.snappy.parquet</td></tr><tr><td>dbfs:/user/hive/warehouse/trip_db.db/trip_small_delta/vendor_name=CMT/part-00277-30119e8c-c632-438d-b86b-e6ba26aafe34.c000.snappy.parquet</td></tr><tr><td>dbfs:/user/hive/warehouse/trip_db.db/trip_small_delta/vendor_name=CMT/part-00277-aee9e9b0-e1cd-4838-8a58-e1d75f076b13.c000.snappy.parquet</td></tr><tr><td>dbfs:/user/hive/warehouse/trip_db.db/trip_small_delta/vendor_name=CMT/part-00278-74d51dc5-3ee2-49dc-a325-f8c59a466164.c000.snappy.parquet</td></tr><tr><td>dbfs:/user/hive/warehouse/trip_db.db/trip_small_delta/vendor_name=CMT/part-00278-b6a2ad7e-1c41-45dd-ab02-e848a289e1c7.c000.snappy.parquet</td></tr><tr><td>dbfs:/user/hive/warehouse/trip_db.db/trip_small_delta/vendor_name=CMT/part-00279-4ac20d7e-9ee0-4c7a-8001-2624f5d3687e.c000.snappy.parquet</td></tr><tr><td>dbfs:/user/hive/warehouse/trip_db.db/trip_small_delta/vendor_name=CMT/part-00279-d6591346-c729-4265-9194-135ce65c8e37.c000.snappy.parquet</td></tr><tr><td>dbfs:/user/hive/warehouse/trip_db.db/trip_small_delta/vendor_name=CMT/part-00280-b4a21bed-e35f-448b-8413-d9fcb45d40b3.c000.snappy.parquet</td></tr><tr><td>dbfs:/user/hive/warehouse/trip_db.db/trip_small_delta/vendor_name=CMT/part-00280-bed26b9b-8cb6-4dce-9491-c4539ccdcf59.c000.snappy.parquet</td></tr><tr><td>dbfs:/user/hive/warehouse/trip_db.db/trip_small_delta/vendor_name=CMT/part-00281-567bf08e-6c02-4566-b51a-d456fd523e0b.c000.snappy.parquet</td></tr><tr><td>dbfs:/user/hive/warehouse/trip_db.db/trip_small_delta/vendor_name=CMT/part-00281-f0c5bea3-6617-480f-94d1-2f01a63ea4a5.c000.snappy.parquet</td></tr><tr><td>dbfs:/user/hive/warehouse/trip_db.db/trip_small_delta/vendor_name=CMT/part-00282-95a50add-4a12-49c5-bf44-d9a19b49c996.c000.snappy.parquet</td></tr><tr><td>dbfs:/user/hive/warehouse/trip_db.db/trip_small_delta/vendor_name=CMT/part-00282-ef87c665-bb75-46ec-a1f0-23698bd40403.c000.snappy.parquet</td></tr><tr><td>dbfs:/user/hive/warehouse/trip_db.db/trip_small_delta/vendor_name=CMT/part-00283-1f022475-ba84-43c8-adfd-256376ab17a1.c000.snappy.parquet</td></tr><tr><td>dbfs:/user/hive/warehouse/trip_db.db/trip_small_delta/vendor_name=CMT/part-00283-88d1245d-dd85-43ac-ab62-5142d94d70da.c000.snappy.parquet</td></tr><tr><td>dbfs:/user/hive/warehouse/trip_db.db/trip_small_delta/vendor_name=CMT/part-00284-077a0772-ae9b-4e16-bf9e-be39771c0a81.c000.snappy.parquet</td></tr><tr><td>dbfs:/user/hive/warehouse/trip_db.db/trip_small_delta/vendor_name=CMT/part-00284-98ff4962-e715-4c94-88d2-8b081a660b83.c000.snappy.parquet</td></tr><tr><td>dbfs:/user/hive/warehouse/trip_db.db/trip_small_delta/vendor_name=CMT/part-00285-25c0965f-171a-4cc6-97f1-541476cee8b1.c000.snappy.parquet</td></tr><tr><td>dbfs:/user/hive/warehouse/trip_db.db/trip_small_delta/vendor_name=CMT/part-00285-f18b5e48-a157-4ec8-835d-d33025d06cc7.c000.snappy.parquet</td></tr><tr><td>dbfs:/user/hive/warehouse/trip_db.db/trip_small_delta/vendor_name=CMT/part-00286-29b98ed7-4d56-473d-9888-e58724236a1c.c000.snappy.parquet</td></tr><tr><td>dbfs:/user/hive/warehouse/trip_db.db/trip_small_delta/vendor_name=CMT/part-00286-3e5218b8-dc92-4398-83f7-d4f9960d4e75.c000.snappy.parquet</td></tr><tr><td>dbfs:/user/hive/warehouse/trip_db.db/trip_small_delta/vendor_name=CMT/part-00287-0643466f-3390-4dff-ac1d-f067041834b2.c000.snappy.parquet</td></tr><tr><td>dbfs:/user/hive/warehouse/trip_db.db/trip_small_delta/vendor_name=CMT/part-00287-3e217b5a-6728-4c65-8163-aff8bbc5d04a.c000.snappy.parquet</td></tr><tr><td>dbfs:/user/hive/warehouse/trip_db.db/trip_small_delta/vendor_name=CMT/part-00288-559f7bd0-45dd-40ab-97a2-6097bf67feb7.c000.snappy.parquet</td></tr><tr><td>dbfs:/user/hive/warehouse/trip_db.db/trip_small_delta/vendor_name=CMT/part-00288-85eae051-924c-4e8d-ae2c-72214ec0c3e6.c000.snappy.parquet</td></tr><tr><td>dbfs:/user/hive/warehouse/trip_db.db/trip_small_delta/vendor_name=CMT/part-00289-6cf3fdc5-8396-4e94-8bbf-dc2770589406.c000.snappy.parquet</td></tr><tr><td>dbfs:/user/hive/warehouse/trip_db.db/trip_small_delta/vendor_name=CMT/part-00289-c84d12c8-c55c-46e2-9af0-db646df8301f.c000.snappy.parquet</td></tr><tr><td>dbfs:/user/hive/warehouse/trip_db.db/trip_small_delta/vendor_name=CMT/part-00290-8feff8f5-7ac4-44f2-90ff-2b59eb9eb927.c000.snappy.parquet</td></tr><tr><td>dbfs:/user/hive/warehouse/trip_db.db/trip_small_delta/vendor_name=CMT/part-00290-ed611685-b44a-4f5f-aa1f-150146210f3a.c000.snappy.parquet</td></tr><tr><td>dbfs:/user/hive/warehouse/trip_db.db/trip_small_delta/vendor_name=CMT/part-00291-89e7107f-c06f-4593-a330-fdd15389a39e.c000.snappy.parquet</td></tr><tr><td>dbfs:/user/hive/warehouse/trip_db.db/trip_small_delta/vendor_name=CMT/part-00291-a044ae74-a3bb-4093-bfd9-289843c196fb.c000.snappy.parquet</td></tr><tr><td>dbfs:/user/hive/warehouse/trip_db.db/trip_small_delta/vendor_name=CMT/part-00292-4dc2a4bb-f95b-4f73-b64f-44024004b085.c000.snappy.parquet</td></tr><tr><td>dbfs:/user/hive/warehouse/trip_db.db/trip_small_delta/vendor_name=CMT/part-00292-556b3390-ef3d-4aed-9f7c-a319c8492138.c000.snappy.parquet</td></tr><tr><td>dbfs:/user/hive/warehouse/trip_db.db/trip_small_delta/vendor_name=CMT/part-00293-494998ed-ab06-41ab-a5fb-456bb7f4af64.c000.snappy.parquet</td></tr><tr><td>dbfs:/user/hive/warehouse/trip_db.db/trip_small_delta/vendor_name=CMT/part-00293-c736304c-91d7-43b2-9b47-2c66ba15c445.c000.snappy.parquet</td></tr><tr><td>dbfs:/user/hive/warehouse/trip_db.db/trip_small_delta/vendor_name=CMT/part-00294-71155091-a948-44a5-9f90-c1e42d883c22.c000.snappy.parquet</td></tr><tr><td>dbfs:/user/hive/warehouse/trip_db.db/trip_small_delta/vendor_name=CMT/part-00294-b4d5471f-d861-4317-8529-b5896464ab90.c000.snappy.parquet</td></tr><tr><td>dbfs:/user/hive/warehouse/trip_db.db/trip_small_delta/vendor_name=CMT/part-00295-618a86b3-e00b-4925-affd-9f235408d10c.c000.snappy.parquet</td></tr><tr><td>dbfs:/user/hive/warehouse/trip_db.db/trip_small_delta/vendor_name=CMT/part-00295-a0b4b96f-0740-4e4e-8378-99d73459d70c.c000.snappy.parquet</td></tr><tr><td>dbfs:/user/hive/warehouse/trip_db.db/trip_small_delta/vendor_name=CMT/part-00296-1d36c40d-bd56-4a87-88be-f65c88083c5c.c000.snappy.parquet</td></tr><tr><td>dbfs:/user/hive/warehouse/trip_db.db/trip_small_delta/vendor_name=CMT/part-00296-35c54dd3-b67d-41e6-8503-a3499bc0a378.c000.snappy.parquet</td></tr><tr><td>dbfs:/user/hive/warehouse/trip_db.db/trip_small_delta/vendor_name=CMT/part-00297-2d9a04b5-406f-43dd-8d56-89250bfe648b.c000.snappy.parquet</td></tr><tr><td>dbfs:/user/hive/warehouse/trip_db.db/trip_small_delta/vendor_name=CMT/part-00297-e53b39ca-508a-4511-aa95-f29751c2d6de.c000.snappy.parquet</td></tr><tr><td>dbfs:/user/hive/warehouse/trip_db.db/trip_small_delta/vendor_name=CMT/part-00298-ca9040bf-6778-47e6-8123-91c79f513bd5.c000.snappy.parquet</td></tr><tr><td>dbfs:/user/hive/warehouse/trip_db.db/trip_small_delta/vendor_name=CMT/part-00298-d3b0a50d-75ef-4239-ac52-3119fcea9b80.c000.snappy.parquet</td></tr><tr><td>dbfs:/user/hive/warehouse/trip_db.db/trip_small_delta/vendor_name=CMT/part-00299-78045f72-dae6-4b7d-ad4d-01122e1d8481.c000.snappy.parquet</td></tr><tr><td>dbfs:/user/hive/warehouse/trip_db.db/trip_small_delta/vendor_name=CMT/part-00299-d90f0cca-52b4-43fa-bc15-db3dd38859e9.c000.snappy.parquet</td></tr><tr><td>dbfs:/user/hive/warehouse/trip_db.db/trip_small_delta/vendor_name=CMT/part-00300-7e53504b-3334-41d0-910c-0ceda255e483.c000.snappy.parquet</td></tr><tr><td>dbfs:/user/hive/warehouse/trip_db.db/trip_small_delta/vendor_name=CMT/part-00300-eb260561-147e-44b5-beac-8f6f0f6f770b.c000.snappy.parquet</td></tr><tr><td>dbfs:/user/hive/warehouse/trip_db.db/trip_small_delta/vendor_name=CMT/part-00301-0c20a670-a0a2-4539-bb58-4e0beb62394d.c000.snappy.parquet</td></tr><tr><td>dbfs:/user/hive/warehouse/trip_db.db/trip_small_delta/vendor_name=CMT/part-00301-58c40337-4466-4c3c-a19a-163e1c1d30de.c000.snappy.parquet</td></tr><tr><td>dbfs:/user/hive/warehouse/trip_db.db/trip_small_delta/vendor_name=CMT/part-00302-05d5ede8-6214-4c03-8c93-c8bcb613b59a.c000.snappy.parquet</td></tr><tr><td>dbfs:/user/hive/warehouse/trip_db.db/trip_small_delta/vendor_name=CMT/part-00302-9685bc4d-e0e9-43b1-ae36-35bad3a13bf2.c000.snappy.parquet</td></tr><tr><td>dbfs:/user/hive/warehouse/trip_db.db/trip_small_delta/vendor_name=CMT/part-00303-5590a5d6-1d58-43b9-a850-7d75bae90067.c000.snappy.parquet</td></tr><tr><td>dbfs:/user/hive/warehouse/trip_db.db/trip_small_delta/vendor_name=CMT/part-00303-b5f34fdc-0141-446b-b399-65805ade14be.c000.snappy.parquet</td></tr><tr><td>dbfs:/user/hive/warehouse/trip_db.db/trip_small_delta/vendor_name=CMT/part-00304-23929e23-ecdf-47a3-a1b1-5d298e71d3b0.c000.snappy.parquet</td></tr><tr><td>dbfs:/user/hive/warehouse/trip_db.db/trip_small_delta/vendor_name=CMT/part-00304-982cb743-ca24-45b1-a037-ecd0feb2b1ad.c000.snappy.parquet</td></tr><tr><td>dbfs:/user/hive/warehouse/trip_db.db/trip_small_delta/vendor_name=CMT/part-00305-d6150af9-914a-4393-bfb7-4994e21d5bf5.c000.snappy.parquet</td></tr><tr><td>dbfs:/user/hive/warehouse/trip_db.db/trip_small_delta/vendor_name=CMT/part-00305-f4a65d76-463b-4c5f-bd6d-6dd80038162b.c000.snappy.parquet</td></tr><tr><td>dbfs:/user/hive/warehouse/trip_db.db/trip_small_delta/vendor_name=CMT/part-00306-017fcf29-4888-4ce9-bc2e-5d3a8744d3cd.c000.snappy.parquet</td></tr><tr><td>dbfs:/user/hive/warehouse/trip_db.db/trip_small_delta/vendor_name=CMT/part-00306-bfb5f6e6-deb9-4cb2-a9db-ae210c760792.c000.snappy.parquet</td></tr><tr><td>dbfs:/user/hive/warehouse/trip_db.db/trip_small_delta/vendor_name=CMT/part-00307-5b4211f2-583b-4852-b52d-351f54755d17.c000.snappy.parquet</td></tr><tr><td>dbfs:/user/hive/warehouse/trip_db.db/trip_small_delta/vendor_name=CMT/part-00307-6b1f2d50-6017-4b42-b505-25b8f9ade88d.c000.snappy.parquet</td></tr><tr><td>dbfs:/user/hive/warehouse/trip_db.db/trip_small_delta/vendor_name=CMT/part-00308-060f7906-abe6-41b5-bd01-0ebcd0cd4131.c000.snappy.parquet</td></tr><tr><td>dbfs:/user/hive/warehouse/trip_db.db/trip_small_delta/vendor_name=CMT/part-00308-913c1a00-ed53-4681-81c8-725d376ecce9.c000.snappy.parquet</td></tr><tr><td>dbfs:/user/hive/warehouse/trip_db.db/trip_small_delta/vendor_name=CMT/part-00309-4519a574-ac7d-494e-844b-5020899e57a2.c000.snappy.parquet</td></tr><tr><td>dbfs:/user/hive/warehouse/trip_db.db/trip_small_delta/vendor_name=CMT/part-00309-dcb9ef3d-abc7-4188-b879-a032e5eeaf87.c000.snappy.parquet</td></tr><tr><td>dbfs:/user/hive/warehouse/trip_db.db/trip_small_delta/vendor_name=CMT/part-00310-99825764-e1e0-4021-a2d3-b60203e79875.c000.snappy.parquet</td></tr><tr><td>dbfs:/user/hive/warehouse/trip_db.db/trip_small_delta/vendor_name=CMT/part-00310-c54dc14d-7774-498b-8c5a-f142af03a769.c000.snappy.parquet</td></tr><tr><td>dbfs:/user/hive/warehouse/trip_db.db/trip_small_delta/vendor_name=CMT/part-00311-ce895564-3a03-4b00-80cc-7d208e994aa1.c000.snappy.parquet</td></tr><tr><td>dbfs:/user/hive/warehouse/trip_db.db/trip_small_delta/vendor_name=CMT/part-00311-ef975b59-b400-496d-b468-90c2a15cd3d7.c000.snappy.parquet</td></tr><tr><td>dbfs:/user/hive/warehouse/trip_db.db/trip_small_delta/vendor_name=CMT/part-00312-5cb3df05-19f1-449b-acea-7b9258f987f8.c000.snappy.parquet</td></tr><tr><td>dbfs:/user/hive/warehouse/trip_db.db/trip_small_delta/vendor_name=CMT/part-00312-a5268350-4375-482f-86c2-4449f188908e.c000.snappy.parquet</td></tr><tr><td>dbfs:/user/hive/warehouse/trip_db.db/trip_small_delta/vendor_name=CMT/part-00313-124db0ee-6b46-4844-84ef-4a4301a3ed8c.c000.snappy.parquet</td></tr><tr><td>dbfs:/user/hive/warehouse/trip_db.db/trip_small_delta/vendor_name=CMT/part-00313-47b3914b-87e1-4dff-baed-d588044bf0b8.c000.snappy.parquet</td></tr><tr><td>dbfs:/user/hive/warehouse/trip_db.db/trip_small_delta/vendor_name=CMT/part-00314-49eb1dda-1c03-46ad-9cdd-57c03a9e637c.c000.snappy.parquet</td></tr><tr><td>dbfs:/user/hive/warehouse/trip_db.db/trip_small_delta/vendor_name=CMT/part-00314-e9fad0ab-025d-492e-b447-148cf9ca8e36.c000.snappy.parquet</td></tr><tr><td>dbfs:/user/hive/warehouse/trip_db.db/trip_small_delta/vendor_name=CMT/part-00315-957db6f6-0ea0-4377-811a-0cbf85b70569.c000.snappy.parquet</td></tr><tr><td>dbfs:/user/hive/warehouse/trip_db.db/trip_small_delta/vendor_name=CMT/part-00315-ac70eb5c-6a4b-4a44-b228-c21c86b04637.c000.snappy.parquet</td></tr><tr><td>dbfs:/user/hive/warehouse/trip_db.db/trip_small_delta/vendor_name=CMT/part-00316-1b0f4ea3-ddc2-4697-bb63-d6bc239831bc.c000.snappy.parquet</td></tr><tr><td>dbfs:/user/hive/warehouse/trip_db.db/trip_small_delta/vendor_name=CMT/part-00316-97a8b511-f3a2-4845-aac9-3be280e4bc42.c000.snappy.parquet</td></tr><tr><td>dbfs:/user/hive/warehouse/trip_db.db/trip_small_delta/vendor_name=CMT/part-00317-0391e4f7-6bf8-4b2d-85ee-6801775bb005.c000.snappy.parquet</td></tr><tr><td>dbfs:/user/hive/warehouse/trip_db.db/trip_small_delta/vendor_name=CMT/part-00317-045ab222-29e7-463a-8aff-1484b7c59b6c.c000.snappy.parquet</td></tr><tr><td>dbfs:/user/hive/warehouse/trip_db.db/trip_small_delta/vendor_name=CMT/part-00318-176c1a36-2bd8-41d1-b2f9-dde654a2fdf6.c000.snappy.parquet</td></tr><tr><td>dbfs:/user/hive/warehouse/trip_db.db/trip_small_delta/vendor_name=CMT/part-00318-2fc75141-1d7e-4dc0-8f29-cc94b93d27e8.c000.snappy.parquet</td></tr><tr><td>dbfs:/user/hive/warehouse/trip_db.db/trip_small_delta/vendor_name=CMT/part-00319-027a9839-9c61-4882-902f-8cdfcf34b3a7.c000.snappy.parquet</td></tr><tr><td>dbfs:/user/hive/warehouse/trip_db.db/trip_small_delta/vendor_name=CMT/part-00319-949d84dd-dbbd-4e3d-a3f7-6c81ff0d2bba.c000.snappy.parquet</td></tr><tr><td>dbfs:/user/hive/warehouse/trip_db.db/trip_small_delta/vendor_name=CMT/part-00320-2f64771c-868f-4dbd-8efc-e2813cb3d4ae.c000.snappy.parquet</td></tr><tr><td>dbfs:/user/hive/warehouse/trip_db.db/trip_small_delta/vendor_name=CMT/part-00320-e242caba-4bf3-4024-9b05-b824ef68e4e5.c000.snappy.parquet</td></tr><tr><td>dbfs:/user/hive/warehouse/trip_db.db/trip_small_delta/vendor_name=CMT/part-00321-2b65aaa1-5ecd-4ce1-a76c-67a8b03d2a7f.c000.snappy.parquet</td></tr><tr><td>dbfs:/user/hive/warehouse/trip_db.db/trip_small_delta/vendor_name=CMT/part-00321-74d8e298-45cc-4b47-a602-8947b7c710b5.c000.snappy.parquet</td></tr><tr><td>dbfs:/user/hive/warehouse/trip_db.db/trip_small_delta/vendor_name=CMT/part-00322-430a50e2-a18f-410f-b58e-471d40a4d1b5.c000.snappy.parquet</td></tr><tr><td>dbfs:/user/hive/warehouse/trip_db.db/trip_small_delta/vendor_name=CMT/part-00322-7f8a6f81-e07d-4502-b5a4-68738422766c.c000.snappy.parquet</td></tr><tr><td>dbfs:/user/hive/warehouse/trip_db.db/trip_small_delta/vendor_name=CMT/part-00323-2fb12b0c-d85e-4a2a-8041-8a2e4061b5c5.c000.snappy.parquet</td></tr><tr><td>dbfs:/user/hive/warehouse/trip_db.db/trip_small_delta/vendor_name=CMT/part-00323-67c8d738-72a1-478d-a4a5-fb031a2637d1.c000.snappy.parquet</td></tr><tr><td>dbfs:/user/hive/warehouse/trip_db.db/trip_small_delta/vendor_name=CMT/part-00324-8f1e2c53-894f-437a-941f-3d786ae5ab05.c000.snappy.parquet</td></tr><tr><td>dbfs:/user/hive/warehouse/trip_db.db/trip_small_delta/vendor_name=CMT/part-00324-f40b6f5e-524e-4538-80ce-fe260e6aa9fc.c000.snappy.parquet</td></tr><tr><td>dbfs:/user/hive/warehouse/trip_db.db/trip_small_delta/vendor_name=CMT/part-00325-8e853cb2-0a7d-4abb-aec6-4e6985bbf03b.c000.snappy.parquet</td></tr><tr><td>dbfs:/user/hive/warehouse/trip_db.db/trip_small_delta/vendor_name=CMT/part-00325-de619b1e-00b3-4995-9855-d1b5c90c4605.c000.snappy.parquet</td></tr><tr><td>dbfs:/user/hive/warehouse/trip_db.db/trip_small_delta/vendor_name=CMT/part-00326-4c40ef3d-de41-43d8-991f-b4f7e498865b.c000.snappy.parquet</td></tr><tr><td>dbfs:/user/hive/warehouse/trip_db.db/trip_small_delta/vendor_name=CMT/part-00326-9884df23-f3ac-4248-9244-0e5d1da18f05.c000.snappy.parquet</td></tr><tr><td>dbfs:/user/hive/warehouse/trip_db.db/trip_small_delta/vendor_name=CMT/part-00327-1624ca7d-e863-4170-a325-7aec5b91118f.c000.snappy.parquet</td></tr><tr><td>dbfs:/user/hive/warehouse/trip_db.db/trip_small_delta/vendor_name=CMT/part-00327-9e4631fa-721f-4193-ac5b-1b0768f81477.c000.snappy.parquet</td></tr><tr><td>dbfs:/user/hive/warehouse/trip_db.db/trip_small_delta/vendor_name=CMT/part-00328-12337190-dd42-49e0-a686-11192aa5c2b3.c000.snappy.parquet</td></tr><tr><td>dbfs:/user/hive/warehouse/trip_db.db/trip_small_delta/vendor_name=CMT/part-00328-a0f658b1-6826-4299-818d-d1bfaa6e6785.c000.snappy.parquet</td></tr><tr><td>dbfs:/user/hive/warehouse/trip_db.db/trip_small_delta/vendor_name=CMT/part-00329-0c5443c9-4343-4d72-b143-6480b215e985.c000.snappy.parquet</td></tr><tr><td>dbfs:/user/hive/warehouse/trip_db.db/trip_small_delta/vendor_name=CMT/part-00329-a4597007-c643-4f6f-a4aa-237849c2767f.c000.snappy.parquet</td></tr><tr><td>dbfs:/user/hive/warehouse/trip_db.db/trip_small_delta/vendor_name=CMT/part-00330-1b861aac-5608-4662-b763-4c24f9e4fde8.c000.snappy.parquet</td></tr><tr><td>dbfs:/user/hive/warehouse/trip_db.db/trip_small_delta/vendor_name=CMT/part-00330-f152f885-b80e-4b3b-aef4-2fbc313412aa.c000.snappy.parquet</td></tr><tr><td>dbfs:/user/hive/warehouse/trip_db.db/trip_small_delta/vendor_name=CMT/part-00331-00d6b532-01ab-4349-98be-c5d963c69818.c000.snappy.parquet</td></tr><tr><td>dbfs:/user/hive/warehouse/trip_db.db/trip_small_delta/vendor_name=CMT/part-00331-a951d1e9-143a-4c7d-99ea-5fecd610f163.c000.snappy.parquet</td></tr><tr><td>dbfs:/user/hive/warehouse/trip_db.db/trip_small_delta/vendor_name=CMT/part-00332-8a81074d-1a4f-46b7-8ff1-16c515641f03.c000.snappy.parquet</td></tr><tr><td>dbfs:/user/hive/warehouse/trip_db.db/trip_small_delta/vendor_name=CMT/part-00332-d6807945-78cb-43f5-838b-41f4d01fbf2b.c000.snappy.parquet</td></tr><tr><td>dbfs:/user/hive/warehouse/trip_db.db/trip_small_delta/vendor_name=CMT/part-00333-24e89973-aefa-478a-9397-f63319ca8dc7.c000.snappy.parquet</td></tr><tr><td>dbfs:/user/hive/warehouse/trip_db.db/trip_small_delta/vendor_name=CMT/part-00333-2cabad42-5079-456d-9c49-8b7fd64099e7.c000.snappy.parquet</td></tr><tr><td>dbfs:/user/hive/warehouse/trip_db.db/trip_small_delta/vendor_name=CMT/part-00334-cb57dbc6-b658-4372-b562-48041c6cbae9.c000.snappy.parquet</td></tr><tr><td>dbfs:/user/hive/warehouse/trip_db.db/trip_small_delta/vendor_name=CMT/part-00334-cd15ef00-f679-4087-8712-92e8b95ea379.c000.snappy.parquet</td></tr><tr><td>dbfs:/user/hive/warehouse/trip_db.db/trip_small_delta/vendor_name=CMT/part-00335-c1ca5981-3ebf-4cf3-bda9-dea92ca7f103.c000.snappy.parquet</td></tr><tr><td>dbfs:/user/hive/warehouse/trip_db.db/trip_small_delta/vendor_name=CMT/part-00335-e5d355ee-cdbd-46f5-8f8c-893dac162f18.c000.snappy.parquet</td></tr><tr><td>dbfs:/user/hive/warehouse/trip_db.db/trip_small_delta/vendor_name=CMT/part-00336-17fafad6-8f33-4fae-99b4-c4e3cc1f9ba1.c000.snappy.parquet</td></tr><tr><td>dbfs:/user/hive/warehouse/trip_db.db/trip_small_delta/vendor_name=CMT/part-00336-bf35fb40-2949-490d-9c25-b6d37f668015.c000.snappy.parquet</td></tr><tr><td>dbfs:/user/hive/warehouse/trip_db.db/trip_small_delta/vendor_name=CMT/part-00337-8971d502-ba78-47c8-814a-8ed53303eaee.c000.snappy.parquet</td></tr><tr><td>dbfs:/user/hive/warehouse/trip_db.db/trip_small_delta/vendor_name=CMT/part-00337-fc46e134-677d-4956-a36c-9d089af1e519.c000.snappy.parquet</td></tr><tr><td>dbfs:/user/hive/warehouse/trip_db.db/trip_small_delta/vendor_name=CMT/part-00338-3088e446-b14d-4c45-9d53-8732aa772bbe.c000.snappy.parquet</td></tr><tr><td>dbfs:/user/hive/warehouse/trip_db.db/trip_small_delta/vendor_name=CMT/part-00338-e96ee312-13c4-449f-bcc8-79bcb8ca157a.c000.snappy.parquet</td></tr><tr><td>dbfs:/user/hive/warehouse/trip_db.db/trip_small_delta/vendor_name=CMT/part-00339-7ccbe747-1db2-4084-b74f-7b5e78105bb6.c000.snappy.parquet</td></tr><tr><td>dbfs:/user/hive/warehouse/trip_db.db/trip_small_delta/vendor_name=CMT/part-00339-88e4ca4d-5b26-4f78-b563-0665c56b64c8.c000.snappy.parquet</td></tr><tr><td>dbfs:/user/hive/warehouse/trip_db.db/trip_small_delta/vendor_name=CMT/part-00340-31be92fc-9339-4d72-87f0-7821e422a083.c000.snappy.parquet</td></tr><tr><td>dbfs:/user/hive/warehouse/trip_db.db/trip_small_delta/vendor_name=CMT/part-00340-557fffc0-a8e6-4427-8f5a-84b3d8a45ad6.c000.snappy.parquet</td></tr><tr><td>dbfs:/user/hive/warehouse/trip_db.db/trip_small_delta/vendor_name=CMT/part-00341-b5bc5009-696f-4cfb-afa4-35cc5039352c.c000.snappy.parquet</td></tr><tr><td>dbfs:/user/hive/warehouse/trip_db.db/trip_small_delta/vendor_name=CMT/part-00341-c98428a7-1279-441e-8586-f83cf3e300e5.c000.snappy.parquet</td></tr><tr><td>dbfs:/user/hive/warehouse/trip_db.db/trip_small_delta/vendor_name=CMT/part-00342-2a59df64-8ab5-480f-b764-cc07bb2fd6fb.c000.snappy.parquet</td></tr><tr><td>dbfs:/user/hive/warehouse/trip_db.db/trip_small_delta/vendor_name=CMT/part-00342-ba1552ec-abe0-42b4-80dc-aad38c526267.c000.snappy.parquet</td></tr><tr><td>dbfs:/user/hive/warehouse/trip_db.db/trip_small_delta/vendor_name=CMT/part-00343-0464cd2f-fa68-4edf-bd6a-95a3a508f971.c000.snappy.parquet</td></tr><tr><td>dbfs:/user/hive/warehouse/trip_db.db/trip_small_delta/vendor_name=CMT/part-00343-fac5cf4c-723e-436a-86fa-6567f71d4d5d.c000.snappy.parquet</td></tr><tr><td>dbfs:/user/hive/warehouse/trip_db.db/trip_small_delta/vendor_name=CMT/part-00344-30a466f7-d17e-4674-99d7-e5eb6460bd93.c000.snappy.parquet</td></tr><tr><td>dbfs:/user/hive/warehouse/trip_db.db/trip_small_delta/vendor_name=CMT/part-00344-a74dcd29-9bad-48ca-a494-f505debbb9b8.c000.snappy.parquet</td></tr><tr><td>dbfs:/user/hive/warehouse/trip_db.db/trip_small_delta/vendor_name=CMT/part-00345-1af0c000-8b5a-479d-95ef-57eae8f63c58.c000.snappy.parquet</td></tr><tr><td>dbfs:/user/hive/warehouse/trip_db.db/trip_small_delta/vendor_name=CMT/part-00345-7b2bde4a-55d4-4cb1-a2be-76154f3a9ef6.c000.snappy.parquet</td></tr><tr><td>dbfs:/user/hive/warehouse/trip_db.db/trip_small_delta/vendor_name=CMT/part-00346-23a49d46-b763-4be2-9b40-0ab609363edf.c000.snappy.parquet</td></tr><tr><td>dbfs:/user/hive/warehouse/trip_db.db/trip_small_delta/vendor_name=CMT/part-00346-bb59ec0e-caab-4660-be2e-d471108d0faa.c000.snappy.parquet</td></tr><tr><td>dbfs:/user/hive/warehouse/trip_db.db/trip_small_delta/vendor_name=CMT/part-00347-451c5746-253c-4c7b-b3f3-a073277fe314.c000.snappy.parquet</td></tr><tr><td>dbfs:/user/hive/warehouse/trip_db.db/trip_small_delta/vendor_name=CMT/part-00347-51356486-76e7-4db3-ab63-282debdf228c.c000.snappy.parquet</td></tr><tr><td>dbfs:/user/hive/warehouse/trip_db.db/trip_small_delta/vendor_name=CMT/part-00348-5180e379-d2b8-46e6-a3a5-89ca7bedd13f.c000.snappy.parquet</td></tr><tr><td>dbfs:/user/hive/warehouse/trip_db.db/trip_small_delta/vendor_name=CMT/part-00348-598d9d2b-430f-45f8-964d-50fc2f51e264.c000.snappy.parquet</td></tr><tr><td>dbfs:/user/hive/warehouse/trip_db.db/trip_small_delta/vendor_name=CMT/part-00349-07d3d700-78c4-40b1-8b4d-606d0399cb10.c000.snappy.parquet</td></tr><tr><td>dbfs:/user/hive/warehouse/trip_db.db/trip_small_delta/vendor_name=CMT/part-00349-e6c5ba4c-f5d0-40d7-8aff-b2a032a33ac3.c000.snappy.parquet</td></tr><tr><td>dbfs:/user/hive/warehouse/trip_db.db/trip_small_delta/vendor_name=CMT/part-00350-bc097ef0-d260-4cb4-9abe-1c07c98ad2e0.c000.snappy.parquet</td></tr><tr><td>dbfs:/user/hive/warehouse/trip_db.db/trip_small_delta/vendor_name=CMT/part-00350-f4cb0f08-56b9-4588-b1b9-45afb351763a.c000.snappy.parquet</td></tr><tr><td>dbfs:/user/hive/warehouse/trip_db.db/trip_small_delta/vendor_name=CMT/part-00351-262820c1-74fc-488f-bd81-4223918a5574.c000.snappy.parquet</td></tr><tr><td>dbfs:/user/hive/warehouse/trip_db.db/trip_small_delta/vendor_name=CMT/part-00351-7bebefae-6ad1-4a4c-9e04-7e98d8da6aac.c000.snappy.parquet</td></tr><tr><td>dbfs:/user/hive/warehouse/trip_db.db/trip_small_delta/vendor_name=CMT/part-00352-846fbd71-c7a4-4abc-84e9-23c7958075f2.c000.snappy.parquet</td></tr><tr><td>dbfs:/user/hive/warehouse/trip_db.db/trip_small_delta/vendor_name=CMT/part-00352-9840e370-42f5-411b-ae45-8ad3dac2ca93.c000.snappy.parquet</td></tr><tr><td>dbfs:/user/hive/warehouse/trip_db.db/trip_small_delta/vendor_name=CMT/part-00353-0fe2bb45-03a7-459a-bcb6-e33d8a469480.c000.snappy.parquet</td></tr><tr><td>dbfs:/user/hive/warehouse/trip_db.db/trip_small_delta/vendor_name=CMT/part-00353-e5c5e2eb-6a58-4468-bfe3-ec62f1714383.c000.snappy.parquet</td></tr><tr><td>dbfs:/user/hive/warehouse/trip_db.db/trip_small_delta/vendor_name=CMT/part-00354-223fd749-771b-4ef7-b9c9-196b0b51881d.c000.snappy.parquet</td></tr><tr><td>dbfs:/user/hive/warehouse/trip_db.db/trip_small_delta/vendor_name=CMT/part-00354-abaafb69-43b3-4c36-8126-1629409796c9.c000.snappy.parquet</td></tr><tr><td>dbfs:/user/hive/warehouse/trip_db.db/trip_small_delta/vendor_name=CMT/part-00355-0f0ca22e-cd88-40d3-a02c-2c213642542a.c000.snappy.parquet</td></tr><tr><td>dbfs:/user/hive/warehouse/trip_db.db/trip_small_delta/vendor_name=CMT/part-00355-740198f7-92e8-401f-aa10-79f3b5ad8113.c000.snappy.parquet</td></tr><tr><td>dbfs:/user/hive/warehouse/trip_db.db/trip_small_delta/vendor_name=CMT/part-00356-86270b06-5d23-48e4-a1f5-00de94df336e.c000.snappy.parquet</td></tr><tr><td>dbfs:/user/hive/warehouse/trip_db.db/trip_small_delta/vendor_name=CMT/part-00356-bfd03c93-f05e-4c54-b919-74794a4d2714.c000.snappy.parquet</td></tr><tr><td>dbfs:/user/hive/warehouse/trip_db.db/trip_small_delta/vendor_name=CMT/part-00357-8acd548c-23d7-403f-8723-8668012e046a.c000.snappy.parquet</td></tr><tr><td>dbfs:/user/hive/warehouse/trip_db.db/trip_small_delta/vendor_name=CMT/part-00357-b7313542-23b1-46c2-bc52-a676ced8785c.c000.snappy.parquet</td></tr><tr><td>dbfs:/user/hive/warehouse/trip_db.db/trip_small_delta/vendor_name=CMT/part-00358-4900514d-178d-48e2-a1a4-d0f8b4b9c1cb.c000.snappy.parquet</td></tr><tr><td>dbfs:/user/hive/warehouse/trip_db.db/trip_small_delta/vendor_name=CMT/part-00358-a84042f2-cf0c-450e-903a-a7bff8d93730.c000.snappy.parquet</td></tr><tr><td>dbfs:/user/hive/warehouse/trip_db.db/trip_small_delta/vendor_name=CMT/part-00359-b8104907-aa83-4108-a16e-6e50ef640e29.c000.snappy.parquet</td></tr><tr><td>dbfs:/user/hive/warehouse/trip_db.db/trip_small_delta/vendor_name=CMT/part-00359-e21c4c45-f6af-4243-84ec-df01ec3b2961.c000.snappy.parquet</td></tr><tr><td>dbfs:/user/hive/warehouse/trip_db.db/trip_small_delta/vendor_name=CMT/part-00360-7dba8ca6-d772-4959-bf71-202519a4d616.c000.snappy.parquet</td></tr><tr><td>dbfs:/user/hive/warehouse/trip_db.db/trip_small_delta/vendor_name=CMT/part-00360-c93c60cf-944d-42a6-865e-b8a899ab6d93.c000.snappy.parquet</td></tr><tr><td>dbfs:/user/hive/warehouse/trip_db.db/trip_small_delta/vendor_name=CMT/part-00361-2dfd9381-4f20-4341-813d-91017e1e105d.c000.snappy.parquet</td></tr><tr><td>dbfs:/user/hive/warehouse/trip_db.db/trip_small_delta/vendor_name=CMT/part-00361-dcedbca8-7d12-4137-9f16-661949f6e689.c000.snappy.parquet</td></tr><tr><td>dbfs:/user/hive/warehouse/trip_db.db/trip_small_delta/vendor_name=CMT/part-00362-9fe2adbb-566e-4453-b01d-644c79c82446.c000.snappy.parquet</td></tr><tr><td>dbfs:/user/hive/warehouse/trip_db.db/trip_small_delta/vendor_name=CMT/part-00362-f719deb8-f72e-4074-a920-08f160452250.c000.snappy.parquet</td></tr><tr><td>dbfs:/user/hive/warehouse/trip_db.db/trip_small_delta/vendor_name=CMT/part-00363-0acc2382-d76b-45c5-bee6-9d56dad49ffa.c000.snappy.parquet</td></tr><tr><td>dbfs:/user/hive/warehouse/trip_db.db/trip_small_delta/vendor_name=CMT/part-00363-fc424cad-a21c-4a2f-9ae3-b60e32000f48.c000.snappy.parquet</td></tr><tr><td>dbfs:/user/hive/warehouse/trip_db.db/trip_small_delta/vendor_name=CMT/part-00364-6e1663c8-5b2a-4e90-8a19-355960ee9104.c000.snappy.parquet</td></tr><tr><td>dbfs:/user/hive/warehouse/trip_db.db/trip_small_delta/vendor_name=CMT/part-00364-cdbe3d7e-28b9-4746-9b2f-4bffe96f722f.c000.snappy.parquet</td></tr><tr><td>dbfs:/user/hive/warehouse/trip_db.db/trip_small_delta/vendor_name=CMT/part-00365-8c9f6221-d9f3-499c-8cde-7d7a9235d56a.c000.snappy.parquet</td></tr><tr><td>dbfs:/user/hive/warehouse/trip_db.db/trip_small_delta/vendor_name=CMT/part-00365-e761109a-d76f-4fff-9661-bb908a33a67c.c000.snappy.parquet</td></tr><tr><td>dbfs:/user/hive/warehouse/trip_db.db/trip_small_delta/vendor_name=CMT/part-00366-6d0712d9-35ae-44fc-96a4-8b7099eb731c.c000.snappy.parquet</td></tr><tr><td>dbfs:/user/hive/warehouse/trip_db.db/trip_small_delta/vendor_name=CMT/part-00366-ca7e41e9-fe68-4107-8149-fcf01835d652.c000.snappy.parquet</td></tr><tr><td>dbfs:/user/hive/warehouse/trip_db.db/trip_small_delta/vendor_name=CMT/part-00367-aee60867-0e2f-4fd3-8715-ccda393ec8c6.c000.snappy.parquet</td></tr><tr><td>dbfs:/user/hive/warehouse/trip_db.db/trip_small_delta/vendor_name=CMT/part-00367-dcb9a2b6-f348-40c8-b6e0-80b1eee233ec.c000.snappy.parquet</td></tr><tr><td>dbfs:/user/hive/warehouse/trip_db.db/trip_small_delta/vendor_name=CMT/part-00368-b597a452-00e2-41be-a6b0-86d8510074e4.c000.snappy.parquet</td></tr><tr><td>dbfs:/user/hive/warehouse/trip_db.db/trip_small_delta/vendor_name=CMT/part-00368-e4830054-5edd-46b1-af42-336112c48457.c000.snappy.parquet</td></tr><tr><td>dbfs:/user/hive/warehouse/trip_db.db/trip_small_delta/vendor_name=CMT/part-00369-20532e83-f1f7-4b22-9ab3-1e9bcbf89644.c000.snappy.parquet</td></tr><tr><td>dbfs:/user/hive/warehouse/trip_db.db/trip_small_delta/vendor_name=CMT/part-00369-ff1896d9-de62-4c00-8d38-a8fb60ee3ac8.c000.snappy.parquet</td></tr><tr><td>dbfs:/user/hive/warehouse/trip_db.db/trip_small_delta/vendor_name=CMT/part-00370-29c14a1c-dd3c-4038-9b74-c77396911639.c000.snappy.parquet</td></tr><tr><td>dbfs:/user/hive/warehouse/trip_db.db/trip_small_delta/vendor_name=CMT/part-00370-68e1d76f-4100-4b96-9ee5-d7b37093b0a8.c000.snappy.parquet</td></tr><tr><td>dbfs:/user/hive/warehouse/trip_db.db/trip_small_delta/vendor_name=CMT/part-00371-6a31ea5c-fee6-49d5-bab5-dc2c80a41001.c000.snappy.parquet</td></tr><tr><td>dbfs:/user/hive/warehouse/trip_db.db/trip_small_delta/vendor_name=CMT/part-00371-c1368a09-7cea-4f2b-a023-0cfded30f91d.c000.snappy.parquet</td></tr><tr><td>dbfs:/user/hive/warehouse/trip_db.db/trip_small_delta/vendor_name=CMT/part-00372-7f088762-1e0d-426d-99a7-0a94f022640a.c000.snappy.parquet</td></tr><tr><td>dbfs:/user/hive/warehouse/trip_db.db/trip_small_delta/vendor_name=CMT/part-00372-bac7cebf-7976-4806-9ee8-a629b2fff3ef.c000.snappy.parquet</td></tr><tr><td>dbfs:/user/hive/warehouse/trip_db.db/trip_small_delta/vendor_name=CMT/part-00373-9596d688-4f33-49df-a3ed-8ab615b18436.c000.snappy.parquet</td></tr><tr><td>dbfs:/user/hive/warehouse/trip_db.db/trip_small_delta/vendor_name=CMT/part-00373-bdc8acba-8283-4422-bb78-8b0b89b72599.c000.snappy.parquet</td></tr><tr><td>dbfs:/user/hive/warehouse/trip_db.db/trip_small_delta/vendor_name=CMT/part-00374-b69901be-0747-4df8-ba0c-13ad6f14f7db.c000.snappy.parquet</td></tr><tr><td>dbfs:/user/hive/warehouse/trip_db.db/trip_small_delta/vendor_name=CMT/part-00374-ce8150bd-1ec0-4fc3-9c7d-fa2dccf87bee.c000.snappy.parquet</td></tr><tr><td>dbfs:/user/hive/warehouse/trip_db.db/trip_small_delta/vendor_name=CMT/part-00375-2c13578a-9763-4e66-8f53-8e9c7b82bae8.c000.snappy.parquet</td></tr><tr><td>dbfs:/user/hive/warehouse/trip_db.db/trip_small_delta/vendor_name=CMT/part-00375-61aa2235-c62a-450a-ada9-365a06718042.c000.snappy.parquet</td></tr><tr><td>dbfs:/user/hive/warehouse/trip_db.db/trip_small_delta/vendor_name=CMT/part-00376-6233501a-31a1-4729-bffe-f7b1b3b4906b.c000.snappy.parquet</td></tr><tr><td>dbfs:/user/hive/warehouse/trip_db.db/trip_small_delta/vendor_name=CMT/part-00376-bab0b43e-d069-44bd-8b00-b19bb2ed53f5.c000.snappy.parquet</td></tr><tr><td>dbfs:/user/hive/warehouse/trip_db.db/trip_small_delta/vendor_name=CMT/part-00377-34b74ea2-9517-451a-8772-bf95664f43ac.c000.snappy.parquet</td></tr><tr><td>dbfs:/user/hive/warehouse/trip_db.db/trip_small_delta/vendor_name=CMT/part-00377-7def5dc2-7277-4fa9-b4f6-eec01b426102.c000.snappy.parquet</td></tr><tr><td>dbfs:/user/hive/warehouse/trip_db.db/trip_small_delta/vendor_name=CMT/part-00378-c8931ee5-01db-4605-b7c0-f74ebae84aa6.c000.snappy.parquet</td></tr><tr><td>dbfs:/user/hive/warehouse/trip_db.db/trip_small_delta/vendor_name=CMT/part-00378-cfbd8053-35d4-4500-a0e7-0130041ff890.c000.snappy.parquet</td></tr><tr><td>dbfs:/user/hive/warehouse/trip_db.db/trip_small_delta/vendor_name=CMT/part-00379-3777a463-2d22-4520-8190-e6677942a096.c000.snappy.parquet</td></tr><tr><td>dbfs:/user/hive/warehouse/trip_db.db/trip_small_delta/vendor_name=CMT/part-00379-4b871196-c9a7-4817-a348-a046d8d25f81.c000.snappy.parquet</td></tr><tr><td>dbfs:/user/hive/warehouse/trip_db.db/trip_small_delta/vendor_name=CMT/part-00380-74431462-5b82-470a-b143-433c9a38eee7.c000.snappy.parquet</td></tr><tr><td>dbfs:/user/hive/warehouse/trip_db.db/trip_small_delta/vendor_name=CMT/part-00380-ad6aa20e-0d4d-4b22-9344-6ca3044dc763.c000.snappy.parquet</td></tr><tr><td>dbfs:/user/hive/warehouse/trip_db.db/trip_small_delta/vendor_name=CMT/part-00381-79207ab0-cd3e-499f-8448-4ccbf30be7f1.c000.snappy.parquet</td></tr><tr><td>dbfs:/user/hive/warehouse/trip_db.db/trip_small_delta/vendor_name=CMT/part-00381-f9df56fe-a97c-4360-b1a9-b4186f409d97.c000.snappy.parquet</td></tr><tr><td>dbfs:/user/hive/warehouse/trip_db.db/trip_small_delta/vendor_name=CMT/part-00382-01099dab-ad9f-449b-8e82-9d2398b3d727.c000.snappy.parquet</td></tr><tr><td>dbfs:/user/hive/warehouse/trip_db.db/trip_small_delta/vendor_name=CMT/part-00382-16f87516-1b79-4353-87f2-8f29f9a09ff5.c000.snappy.parquet</td></tr><tr><td>dbfs:/user/hive/warehouse/trip_db.db/trip_small_delta/vendor_name=CMT/part-00383-2e4ee2ed-30d9-48a0-a70c-9c6dae6eac13.c000.snappy.parquet</td></tr><tr><td>dbfs:/user/hive/warehouse/trip_db.db/trip_small_delta/vendor_name=CMT/part-00383-e052cef1-6ba3-425e-9b7d-44cecf52db8f.c000.snappy.parquet</td></tr><tr><td>dbfs:/user/hive/warehouse/trip_db.db/trip_small_delta/vendor_name=CMT/part-00384-3ae9352e-f7ed-419b-b850-39fb2d56dce0.c000.snappy.parquet</td></tr><tr><td>dbfs:/user/hive/warehouse/trip_db.db/trip_small_delta/vendor_name=CMT/part-00384-b6bbaa9d-972f-428f-9b78-c519ccaf8cba.c000.snappy.parquet</td></tr><tr><td>dbfs:/user/hive/warehouse/trip_db.db/trip_small_delta/vendor_name=CMT/part-00385-9db96e50-4f66-4012-96ea-7d294db45cf3.c000.snappy.parquet</td></tr><tr><td>dbfs:/user/hive/warehouse/trip_db.db/trip_small_delta/vendor_name=CMT/part-00385-ed0551e7-74ca-4908-9aae-31c12308b0ae.c000.snappy.parquet</td></tr><tr><td>dbfs:/user/hive/warehouse/trip_db.db/trip_small_delta/vendor_name=CMT/part-00386-98f2ea45-086d-44b5-82fc-5b7f63d959fd.c000.snappy.parquet</td></tr><tr><td>dbfs:/user/hive/warehouse/trip_db.db/trip_small_delta/vendor_name=CMT/part-00386-d0e37333-2f34-48dc-b21a-8900f85c2c07.c000.snappy.parquet</td></tr><tr><td>dbfs:/user/hive/warehouse/trip_db.db/trip_small_delta/vendor_name=CMT/part-00387-ad91de68-0fec-4d95-b420-ef7cfd3bd662.c000.snappy.parquet</td></tr><tr><td>dbfs:/user/hive/warehouse/trip_db.db/trip_small_delta/vendor_name=CMT/part-00387-f40e1926-d626-4da4-9bd6-621026ffcfa4.c000.snappy.parquet</td></tr><tr><td>dbfs:/user/hive/warehouse/trip_db.db/trip_small_delta/vendor_name=CMT/part-00388-e3f819c9-b6d7-4f69-9c08-e51758eeed0a.c000.snappy.parquet</td></tr><tr><td>dbfs:/user/hive/warehouse/trip_db.db/trip_small_delta/vendor_name=CMT/part-00388-e8494ffd-c32a-4263-b3b4-57c6203c477e.c000.snappy.parquet</td></tr><tr><td>dbfs:/user/hive/warehouse/trip_db.db/trip_small_delta/vendor_name=CMT/part-00389-7eb87c66-1daa-4909-bd77-0385cef3f8c0.c000.snappy.parquet</td></tr><tr><td>dbfs:/user/hive/warehouse/trip_db.db/trip_small_delta/vendor_name=CMT/part-00389-a20234c8-f745-4250-835e-686530c44e78.c000.snappy.parquet</td></tr><tr><td>dbfs:/user/hive/warehouse/trip_db.db/trip_small_delta/vendor_name=CMT/part-00390-633ad642-fa21-4756-a842-d0bfa0befb94.c000.snappy.parquet</td></tr><tr><td>dbfs:/user/hive/warehouse/trip_db.db/trip_small_delta/vendor_name=CMT/part-00390-78eec371-759f-49cc-b1df-2e4a75fa9566.c000.snappy.parquet</td></tr><tr><td>dbfs:/user/hive/warehouse/trip_db.db/trip_small_delta/vendor_name=CMT/part-00391-640e6490-7a2d-4b73-a322-bc244b49e5ab.c000.snappy.parquet</td></tr><tr><td>dbfs:/user/hive/warehouse/trip_db.db/trip_small_delta/vendor_name=CMT/part-00391-d65c98df-8782-41ba-8d4f-e38ffd6f03f7.c000.snappy.parquet</td></tr><tr><td>dbfs:/user/hive/warehouse/trip_db.db/trip_small_delta/vendor_name=CMT/part-00392-08a4f20a-e17a-4c5f-99d7-dae9e9053348.c000.snappy.parquet</td></tr><tr><td>dbfs:/user/hive/warehouse/trip_db.db/trip_small_delta/vendor_name=CMT/part-00392-377982e4-5737-4b46-b003-fbc062f96767.c000.snappy.parquet</td></tr><tr><td>dbfs:/user/hive/warehouse/trip_db.db/trip_small_delta/vendor_name=CMT/part-00393-87437825-5fd8-4cec-bc7b-77555d7ca44e.c000.snappy.parquet</td></tr><tr><td>dbfs:/user/hive/warehouse/trip_db.db/trip_small_delta/vendor_name=CMT/part-00393-926f7c5d-fbb7-4dc3-b8e6-a82b3a189cca.c000.snappy.parquet</td></tr><tr><td>dbfs:/user/hive/warehouse/trip_db.db/trip_small_delta/vendor_name=CMT/part-00394-3a526ee8-bfaf-44d2-9666-6fe88b9689af.c000.snappy.parquet</td></tr><tr><td>dbfs:/user/hive/warehouse/trip_db.db/trip_small_delta/vendor_name=CMT/part-00394-fd2d2b18-cf81-4191-a2bf-443ec957abb0.c000.snappy.parquet</td></tr><tr><td>dbfs:/user/hive/warehouse/trip_db.db/trip_small_delta/vendor_name=CMT/part-00395-18486931-b772-4e61-9593-85b32a279c65.c000.snappy.parquet</td></tr><tr><td>dbfs:/user/hive/warehouse/trip_db.db/trip_small_delta/vendor_name=CMT/part-00395-2e944b37-7d9c-432a-8499-6251de693303.c000.snappy.parquet</td></tr><tr><td>dbfs:/user/hive/warehouse/trip_db.db/trip_small_delta/vendor_name=CMT/part-00396-2e4de736-3306-4f5a-bfdf-b5feb6e933c5.c000.snappy.parquet</td></tr><tr><td>dbfs:/user/hive/warehouse/trip_db.db/trip_small_delta/vendor_name=CMT/part-00396-aade6dc3-dfad-43db-b39d-b987c57eab3f.c000.snappy.parquet</td></tr><tr><td>dbfs:/user/hive/warehouse/trip_db.db/trip_small_delta/vendor_name=CMT/part-00397-354cf777-2a6b-42ea-b811-f5e30a8c5564.c000.snappy.parquet</td></tr><tr><td>dbfs:/user/hive/warehouse/trip_db.db/trip_small_delta/vendor_name=CMT/part-00397-b9af0176-7263-4ce9-84cb-c10e0b742039.c000.snappy.parquet</td></tr><tr><td>dbfs:/user/hive/warehouse/trip_db.db/trip_small_delta/vendor_name=CMT/part-00398-73bb03bd-54ba-4ab2-932c-def85943c9cf.c000.snappy.parquet</td></tr><tr><td>dbfs:/user/hive/warehouse/trip_db.db/trip_small_delta/vendor_name=CMT/part-00398-a211c64c-884d-4252-ba3c-c3b069f68bc4.c000.snappy.parquet</td></tr><tr><td>dbfs:/user/hive/warehouse/trip_db.db/trip_small_delta/vendor_name=CMT/part-00399-1796936b-f61f-4672-b8b8-9962476e1bf4.c000.snappy.parquet</td></tr><tr><td>dbfs:/user/hive/warehouse/trip_db.db/trip_small_delta/vendor_name=CMT/part-00399-a5fe515b-fbab-410e-9b4b-814b04c91c32.c000.snappy.parquet</td></tr><tr><td>dbfs:/user/hive/warehouse/trip_db.db/trip_small_delta/vendor_name=CMT/part-00400-10d9e4c6-680e-4c16-a08e-7541afb85efc.c000.snappy.parquet</td></tr><tr><td>dbfs:/user/hive/warehouse/trip_db.db/trip_small_delta/vendor_name=CMT/part-00400-a32144fc-b648-45c8-8523-93992db5863a.c000.snappy.parquet</td></tr><tr><td>dbfs:/user/hive/warehouse/trip_db.db/trip_small_delta/vendor_name=CMT/part-00401-4dcae846-04ca-4413-a8f5-fcbbcc7b24e3.c000.snappy.parquet</td></tr><tr><td>dbfs:/user/hive/warehouse/trip_db.db/trip_small_delta/vendor_name=CMT/part-00401-8f663135-c4e7-40cc-83be-f76302209986.c000.snappy.parquet</td></tr><tr><td>dbfs:/user/hive/warehouse/trip_db.db/trip_small_delta/vendor_name=CMT/part-00402-5b6bd7b2-3da3-41d0-b2bf-6efb586ad473.c000.snappy.parquet</td></tr><tr><td>dbfs:/user/hive/warehouse/trip_db.db/trip_small_delta/vendor_name=CMT/part-00402-eaeae116-b619-4f56-a998-248e61ee4cb0.c000.snappy.parquet</td></tr><tr><td>dbfs:/user/hive/warehouse/trip_db.db/trip_small_delta/vendor_name=CMT/part-00403-4d682610-8927-4c44-a546-6227554d09e7.c000.snappy.parquet</td></tr><tr><td>dbfs:/user/hive/warehouse/trip_db.db/trip_small_delta/vendor_name=CMT/part-00403-d8e52b52-a33c-4ea1-a3ec-5fad88b70128.c000.snappy.parquet</td></tr><tr><td>dbfs:/user/hive/warehouse/trip_db.db/trip_small_delta/vendor_name=CMT/part-00404-6c5bef3d-3393-4938-936f-573b3bf4e4d8.c000.snappy.parquet</td></tr><tr><td>dbfs:/user/hive/warehouse/trip_db.db/trip_small_delta/vendor_name=CMT/part-00404-d186a4cd-e3fa-4f49-81df-d4b2e1a46f21.c000.snappy.parquet</td></tr><tr><td>dbfs:/user/hive/warehouse/trip_db.db/trip_small_delta/vendor_name=CMT/part-00405-20021897-c6c0-40cf-8560-c2bdf81fe5c3.c000.snappy.parquet</td></tr><tr><td>dbfs:/user/hive/warehouse/trip_db.db/trip_small_delta/vendor_name=CMT/part-00405-8e91b0d2-dc98-48cd-978f-f4ddea0a5457.c000.snappy.parquet</td></tr><tr><td>dbfs:/user/hive/warehouse/trip_db.db/trip_small_delta/vendor_name=CMT/part-00406-9535b4ff-d948-4880-93a4-78c011409651.c000.snappy.parquet</td></tr><tr><td>dbfs:/user/hive/warehouse/trip_db.db/trip_small_delta/vendor_name=CMT/part-00406-965e744f-11da-40ff-bbcc-8715c4f14039.c000.snappy.parquet</td></tr><tr><td>dbfs:/user/hive/warehouse/trip_db.db/trip_small_delta/vendor_name=CMT/part-00407-35af53e2-0510-41e3-9e5c-3b5eaf7bfc51.c000.snappy.parquet</td></tr><tr><td>dbfs:/user/hive/warehouse/trip_db.db/trip_small_delta/vendor_name=CMT/part-00407-68bc6e03-3572-4621-9e3b-806d3d42a039.c000.snappy.parquet</td></tr><tr><td>dbfs:/user/hive/warehouse/trip_db.db/trip_small_delta/vendor_name=CMT/part-00408-8a2c76b8-7bbe-4402-88b5-02c14018b1d8.c000.snappy.parquet</td></tr><tr><td>dbfs:/user/hive/warehouse/trip_db.db/trip_small_delta/vendor_name=CMT/part-00408-f2593f50-9df4-41dc-8313-46497db228c3.c000.snappy.parquet</td></tr><tr><td>dbfs:/user/hive/warehouse/trip_db.db/trip_small_delta/vendor_name=CMT/part-00409-56dcc124-033d-4959-83a1-7d53ae0bb693.c000.snappy.parquet</td></tr><tr><td>dbfs:/user/hive/warehouse/trip_db.db/trip_small_delta/vendor_name=CMT/part-00409-e292ad3f-8971-4ff5-bc5a-8102377b358b.c000.snappy.parquet</td></tr><tr><td>dbfs:/user/hive/warehouse/trip_db.db/trip_small_delta/vendor_name=CMT/part-00410-18bcc9cf-17fa-4a2a-a040-39ebfb3a717b.c000.snappy.parquet</td></tr><tr><td>dbfs:/user/hive/warehouse/trip_db.db/trip_small_delta/vendor_name=CMT/part-00410-4d2180a5-6c54-4e1f-82ce-3b009f13bf24.c000.snappy.parquet</td></tr><tr><td>dbfs:/user/hive/warehouse/trip_db.db/trip_small_delta/vendor_name=CMT/part-00411-7f106c2f-f984-4855-a366-71b372df1781.c000.snappy.parquet</td></tr><tr><td>dbfs:/user/hive/warehouse/trip_db.db/trip_small_delta/vendor_name=CMT/part-00411-b651472e-c7ba-4fdd-bab3-ada1f11f911d.c000.snappy.parquet</td></tr><tr><td>dbfs:/user/hive/warehouse/trip_db.db/trip_small_delta/vendor_name=CMT/part-00412-29b13d76-888b-4b56-85e8-06a3daee3889.c000.snappy.parquet</td></tr><tr><td>dbfs:/user/hive/warehouse/trip_db.db/trip_small_delta/vendor_name=CMT/part-00412-66cd2d34-fb14-468c-91c5-0905fe1ca1e2.c000.snappy.parquet</td></tr><tr><td>dbfs:/user/hive/warehouse/trip_db.db/trip_small_delta/vendor_name=CMT/part-00413-bc5b2265-efd9-451c-bae9-69b3aa41caf3.c000.snappy.parquet</td></tr><tr><td>dbfs:/user/hive/warehouse/trip_db.db/trip_small_delta/vendor_name=CMT/part-00413-e9977757-3ea7-4bf8-858c-6fcca2e20e3c.c000.snappy.parquet</td></tr><tr><td>dbfs:/user/hive/warehouse/trip_db.db/trip_small_delta/vendor_name=CMT/part-00414-2f64235c-3261-437c-8621-1e9d995152d3.c000.snappy.parquet</td></tr><tr><td>dbfs:/user/hive/warehouse/trip_db.db/trip_small_delta/vendor_name=CMT/part-00414-55e96e5d-3837-46ed-ad93-680a6abfc756.c000.snappy.parquet</td></tr><tr><td>dbfs:/user/hive/warehouse/trip_db.db/trip_small_delta/vendor_name=CMT/part-00415-3480cf0b-0013-4247-ac2c-4dbe85e7d2d6.c000.snappy.parquet</td></tr><tr><td>dbfs:/user/hive/warehouse/trip_db.db/trip_small_delta/vendor_name=CMT/part-00415-ec9d44a4-9b5e-453c-a120-c02186af06d8.c000.snappy.parquet</td></tr><tr><td>dbfs:/user/hive/warehouse/trip_db.db/trip_small_delta/vendor_name=CMT/part-00416-4302a37e-2b18-491a-8e00-e66803ec809d.c000.snappy.parquet</td></tr><tr><td>dbfs:/user/hive/warehouse/trip_db.db/trip_small_delta/vendor_name=CMT/part-00416-f0559adc-bdf0-4a82-9d89-3d405b2e84c9.c000.snappy.parquet</td></tr><tr><td>dbfs:/user/hive/warehouse/trip_db.db/trip_small_delta/vendor_name=CMT/part-00417-5fbe974e-ce28-4a89-8f96-015c3379728a.c000.snappy.parquet</td></tr><tr><td>dbfs:/user/hive/warehouse/trip_db.db/trip_small_delta/vendor_name=CMT/part-00417-ddc7b96f-37a3-4247-b8aa-160b627e5536.c000.snappy.parquet</td></tr><tr><td>dbfs:/user/hive/warehouse/trip_db.db/trip_small_delta/vendor_name=CMT/part-00418-22843a87-4896-471f-8119-6f3278c3728f.c000.snappy.parquet</td></tr><tr><td>dbfs:/user/hive/warehouse/trip_db.db/trip_small_delta/vendor_name=CMT/part-00418-834fc568-f78c-4435-8c11-ce49d4e01517.c000.snappy.parquet</td></tr><tr><td>dbfs:/user/hive/warehouse/trip_db.db/trip_small_delta/vendor_name=CMT/part-00419-43631286-5183-40e3-a03f-d2e470b1af63.c000.snappy.parquet</td></tr><tr><td>dbfs:/user/hive/warehouse/trip_db.db/trip_small_delta/vendor_name=CMT/part-00419-cc9e9fb3-754e-4033-9c19-05ac07a37ae0.c000.snappy.parquet</td></tr><tr><td>dbfs:/user/hive/warehouse/trip_db.db/trip_small_delta/vendor_name=CMT/part-00420-b1b6f262-4270-45de-9e77-210b97e0f5f5.c000.snappy.parquet</td></tr><tr><td>dbfs:/user/hive/warehouse/trip_db.db/trip_small_delta/vendor_name=CMT/part-00420-f5d39a81-36ae-48ae-87db-8e2b35a267f7.c000.snappy.parquet</td></tr><tr><td>dbfs:/user/hive/warehouse/trip_db.db/trip_small_delta/vendor_name=CMT/part-00421-d5288e1f-1312-42bc-902b-c44b9cfa2493.c000.snappy.parquet</td></tr><tr><td>dbfs:/user/hive/warehouse/trip_db.db/trip_small_delta/vendor_name=CMT/part-00421-f827b8fd-a6fb-478f-8d4a-694b38c5c1dc.c000.snappy.parquet</td></tr><tr><td>dbfs:/user/hive/warehouse/trip_db.db/trip_small_delta/vendor_name=CMT/part-00422-454c76a1-5159-4dac-8681-d4b89b142bdf.c000.snappy.parquet</td></tr><tr><td>dbfs:/user/hive/warehouse/trip_db.db/trip_small_delta/vendor_name=CMT/part-00422-cfd3a91a-7e21-4e0f-8f5e-ac6c4ce4fa5f.c000.snappy.parquet</td></tr><tr><td>dbfs:/user/hive/warehouse/trip_db.db/trip_small_delta/vendor_name=CMT/part-00423-2ea46069-053f-4f9f-ba0b-f619f210ef60.c000.snappy.parquet</td></tr><tr><td>dbfs:/user/hive/warehouse/trip_db.db/trip_small_delta/vendor_name=CMT/part-00423-d3fd3f3d-a487-4b8e-a2bb-eafa3c2acf50.c000.snappy.parquet</td></tr><tr><td>dbfs:/user/hive/warehouse/trip_db.db/trip_small_delta/vendor_name=CMT/part-00424-c46c7a26-7343-4bf1-b901-1e71d505b87b.c000.snappy.parquet</td></tr><tr><td>dbfs:/user/hive/warehouse/trip_db.db/trip_small_delta/vendor_name=CMT/part-00424-f4abc4e2-c69b-4e4c-811a-cd60b069ae39.c000.snappy.parquet</td></tr><tr><td>dbfs:/user/hive/warehouse/trip_db.db/trip_small_delta/vendor_name=CMT/part-00425-803fa9c4-5f27-4d9e-9ca0-f7c3b1382f93.c000.snappy.parquet</td></tr><tr><td>dbfs:/user/hive/warehouse/trip_db.db/trip_small_delta/vendor_name=CMT/part-00425-9f3844dd-1f26-4154-a797-cf2c97a5433d.c000.snappy.parquet</td></tr><tr><td>dbfs:/user/hive/warehouse/trip_db.db/trip_small_delta/vendor_name=CMT/part-00426-9c956119-daa9-4938-a374-76c3afb6c099.c000.snappy.parquet</td></tr><tr><td>dbfs:/user/hive/warehouse/trip_db.db/trip_small_delta/vendor_name=CMT/part-00426-bba74a3a-f0fd-47a3-8ca9-20cfb000267a.c000.snappy.parquet</td></tr><tr><td>dbfs:/user/hive/warehouse/trip_db.db/trip_small_delta/vendor_name=CMT/part-00427-4c5adcf7-108d-47b5-9616-eb6231792795.c000.snappy.parquet</td></tr><tr><td>dbfs:/user/hive/warehouse/trip_db.db/trip_small_delta/vendor_name=CMT/part-00427-9783d5c7-281e-4238-8f84-e6827dcac131.c000.snappy.parquet</td></tr><tr><td>dbfs:/user/hive/warehouse/trip_db.db/trip_small_delta/vendor_name=CMT/part-00428-cd793d07-f185-43dd-867d-5ee772189f9f.c000.snappy.parquet</td></tr><tr><td>dbfs:/user/hive/warehouse/trip_db.db/trip_small_delta/vendor_name=CMT/part-00428-d844ce66-6f59-4675-9d98-4d5c4cd071fc.c000.snappy.parquet</td></tr><tr><td>dbfs:/user/hive/warehouse/trip_db.db/trip_small_delta/vendor_name=CMT/part-00429-b2ac9949-08f1-41e8-898f-cdc9f6b2ceef.c000.snappy.parquet</td></tr><tr><td>dbfs:/user/hive/warehouse/trip_db.db/trip_small_delta/vendor_name=CMT/part-00429-deed4250-d9e9-484c-9470-4f3b261f7869.c000.snappy.parquet</td></tr><tr><td>dbfs:/user/hive/warehouse/trip_db.db/trip_small_delta/vendor_name=CMT/part-00430-cb5c624a-1a69-4210-af5c-d56c76ca593a.c000.snappy.parquet</td></tr><tr><td>dbfs:/user/hive/warehouse/trip_db.db/trip_small_delta/vendor_name=CMT/part-00430-ecd10726-9378-48c2-931c-a7864361a482.c000.snappy.parquet</td></tr><tr><td>dbfs:/user/hive/warehouse/trip_db.db/trip_small_delta/vendor_name=CMT/part-00431-1c588dbd-300a-4028-b3a4-8c1f1691439a.c000.snappy.parquet</td></tr><tr><td>dbfs:/user/hive/warehouse/trip_db.db/trip_small_delta/vendor_name=CMT/part-00431-6cba1241-9edb-4a23-9dd4-a08bbcf3eaea.c000.snappy.parquet</td></tr><tr><td>dbfs:/user/hive/warehouse/trip_db.db/trip_small_delta/vendor_name=CMT/part-00432-26e52eda-2ba7-4249-9309-eec33a6b13ff.c000.snappy.parquet</td></tr><tr><td>dbfs:/user/hive/warehouse/trip_db.db/trip_small_delta/vendor_name=CMT/part-00432-a3f2e23e-a5b5-43e4-b2a4-2f8b76ffba2b.c000.snappy.parquet</td></tr><tr><td>dbfs:/user/hive/warehouse/trip_db.db/trip_small_delta/vendor_name=CMT/part-00433-3244d57d-3c4f-4697-bec9-4d4fb179bbdb.c000.snappy.parquet</td></tr><tr><td>dbfs:/user/hive/warehouse/trip_db.db/trip_small_delta/vendor_name=CMT/part-00433-a3918c65-2643-4d93-861a-5ec1da0456a6.c000.snappy.parquet</td></tr><tr><td>dbfs:/user/hive/warehouse/trip_db.db/trip_small_delta/vendor_name=CMT/part-00434-95e739ee-4873-4bb2-a17d-e61a7e102def.c000.snappy.parquet</td></tr><tr><td>dbfs:/user/hive/warehouse/trip_db.db/trip_small_delta/vendor_name=CMT/part-00434-e774975f-51f4-456c-9175-4d262d7ac68b.c000.snappy.parquet</td></tr><tr><td>dbfs:/user/hive/warehouse/trip_db.db/trip_small_delta/vendor_name=CMT/part-00435-4e68c7cd-88b9-43dd-b549-e140ebdc460e.c000.snappy.parquet</td></tr><tr><td>dbfs:/user/hive/warehouse/trip_db.db/trip_small_delta/vendor_name=CMT/part-00435-64c7e4bf-23d5-4c3e-ac32-798f2e3758a0.c000.snappy.parquet</td></tr><tr><td>dbfs:/user/hive/warehouse/trip_db.db/trip_small_delta/vendor_name=CMT/part-00436-3b2e97dc-3976-4546-8adb-564a69368ec6.c000.snappy.parquet</td></tr><tr><td>dbfs:/user/hive/warehouse/trip_db.db/trip_small_delta/vendor_name=CMT/part-00436-75ca89ca-0f89-4eaa-9ee4-6ef05f876d47.c000.snappy.parquet</td></tr><tr><td>dbfs:/user/hive/warehouse/trip_db.db/trip_small_delta/vendor_name=CMT/part-00437-070befb9-f0f8-4e30-be34-3e56f9844b17.c000.snappy.parquet</td></tr><tr><td>dbfs:/user/hive/warehouse/trip_db.db/trip_small_delta/vendor_name=CMT/part-00437-49d107bb-22f2-45ba-b4e5-f98c824a83f8.c000.snappy.parquet</td></tr><tr><td>dbfs:/user/hive/warehouse/trip_db.db/trip_small_delta/vendor_name=CMT/part-00438-c72a9fea-dc2a-4eed-ace4-1bac46f85216.c000.snappy.parquet</td></tr><tr><td>dbfs:/user/hive/warehouse/trip_db.db/trip_small_delta/vendor_name=CMT/part-00438-cad62deb-e3e4-4c5b-a41a-5066b2a27efe.c000.snappy.parquet</td></tr><tr><td>dbfs:/user/hive/warehouse/trip_db.db/trip_small_delta/vendor_name=CMT/part-00439-0f6231f6-6f6f-49c1-9395-1c6f233732e0.c000.snappy.parquet</td></tr><tr><td>dbfs:/user/hive/warehouse/trip_db.db/trip_small_delta/vendor_name=CMT/part-00439-8ce2fe1e-2548-40a5-8576-c0dde9ee5859.c000.snappy.parquet</td></tr><tr><td>dbfs:/user/hive/warehouse/trip_db.db/trip_small_delta/vendor_name=CMT/part-00440-871127af-f5c9-4530-928b-927f00eb13f7.c000.snappy.parquet</td></tr><tr><td>dbfs:/user/hive/warehouse/trip_db.db/trip_small_delta/vendor_name=CMT/part-00440-8bb15d75-8058-4807-9e93-9639dbeb3905.c000.snappy.parquet</td></tr><tr><td>dbfs:/user/hive/warehouse/trip_db.db/trip_small_delta/vendor_name=CMT/part-00441-4c18f6db-4612-494d-8d1c-a79cf299bce7.c000.snappy.parquet</td></tr><tr><td>dbfs:/user/hive/warehouse/trip_db.db/trip_small_delta/vendor_name=CMT/part-00441-c2c434d9-3f67-4a26-bddf-2965c98a6330.c000.snappy.parquet</td></tr><tr><td>dbfs:/user/hive/warehouse/trip_db.db/trip_small_delta/vendor_name=CMT/part-00442-1e6ae1d4-f3a4-4734-b95c-a863af17ac64.c000.snappy.parquet</td></tr><tr><td>dbfs:/user/hive/warehouse/trip_db.db/trip_small_delta/vendor_name=CMT/part-00442-e1d65899-0d3b-43fd-93ba-e21b76ae0bed.c000.snappy.parquet</td></tr><tr><td>dbfs:/user/hive/warehouse/trip_db.db/trip_small_delta/vendor_name=CMT/part-00443-48eebdc5-596d-49ae-942c-994f5ef471d1.c000.snappy.parquet</td></tr><tr><td>dbfs:/user/hive/warehouse/trip_db.db/trip_small_delta/vendor_name=CMT/part-00443-d549441b-7e74-40e7-93a1-147103d15227.c000.snappy.parquet</td></tr><tr><td>dbfs:/user/hive/warehouse/trip_db.db/trip_small_delta/vendor_name=CMT/part-00444-680516d1-2a22-4875-b8b3-3401c460cc50.c000.snappy.parquet</td></tr><tr><td>dbfs:/user/hive/warehouse/trip_db.db/trip_small_delta/vendor_name=CMT/part-00444-8fe98501-4069-4285-9acd-781c06d436d9.c000.snappy.parquet</td></tr><tr><td>dbfs:/user/hive/warehouse/trip_db.db/trip_small_delta/vendor_name=CMT/part-00445-1915f1ec-2c8b-49b4-98ea-aed7ed019f10.c000.snappy.parquet</td></tr><tr><td>dbfs:/user/hive/warehouse/trip_db.db/trip_small_delta/vendor_name=CMT/part-00445-25c4b72e-5907-4e2e-9709-765ce48c5dd6.c000.snappy.parquet</td></tr><tr><td>dbfs:/user/hive/warehouse/trip_db.db/trip_small_delta/vendor_name=CMT/part-00446-725e885f-4988-4597-b4b0-d0566bcf6c9e.c000.snappy.parquet</td></tr><tr><td>dbfs:/user/hive/warehouse/trip_db.db/trip_small_delta/vendor_name=CMT/part-00446-f9d595de-f795-4fe2-add3-301601ddad96.c000.snappy.parquet</td></tr><tr><td>dbfs:/user/hive/warehouse/trip_db.db/trip_small_delta/vendor_name=CMT/part-00447-302c438b-8917-4fe2-af68-5e6fcf70c0ce.c000.snappy.parquet</td></tr><tr><td>dbfs:/user/hive/warehouse/trip_db.db/trip_small_delta/vendor_name=CMT/part-00447-6b47dc09-d502-4105-866f-fb06e0cbfcda.c000.snappy.parquet</td></tr><tr><td>dbfs:/user/hive/warehouse/trip_db.db/trip_small_delta/vendor_name=CMT/part-00448-7e4e87eb-580e-4c6d-a3e1-8f93ad36902b.c000.snappy.parquet</td></tr><tr><td>dbfs:/user/hive/warehouse/trip_db.db/trip_small_delta/vendor_name=CMT/part-00448-9ed3bcc8-eed4-4bb8-87b5-a22f677146f6.c000.snappy.parquet</td></tr><tr><td>dbfs:/user/hive/warehouse/trip_db.db/trip_small_delta/vendor_name=CMT/part-00449-82785708-f93e-424c-9edb-a9d19e50aefd.c000.snappy.parquet</td></tr><tr><td>dbfs:/user/hive/warehouse/trip_db.db/trip_small_delta/vendor_name=CMT/part-00449-b14aa388-41d1-48cf-b477-6e1b91d0519b.c000.snappy.parquet</td></tr><tr><td>dbfs:/user/hive/warehouse/trip_db.db/trip_small_delta/vendor_name=CMT/part-00450-8667c4c5-4721-4bc9-8299-a7e5e2622b52.c000.snappy.parquet</td></tr><tr><td>dbfs:/user/hive/warehouse/trip_db.db/trip_small_delta/vendor_name=CMT/part-00450-982fc68e-4cba-44f4-9809-66131623e5e0.c000.snappy.parquet</td></tr><tr><td>dbfs:/user/hive/warehouse/trip_db.db/trip_small_delta/vendor_name=CMT/part-00451-1bd54bfb-5613-41d8-bda5-55154d4b7c36.c000.snappy.parquet</td></tr><tr><td>dbfs:/user/hive/warehouse/trip_db.db/trip_small_delta/vendor_name=CMT/part-00451-eb1f514a-0c48-434b-9fa4-123b7b052d9e.c000.snappy.parquet</td></tr><tr><td>dbfs:/user/hive/warehouse/trip_db.db/trip_small_delta/vendor_name=CMT/part-00452-54f053a4-05b5-4e1d-b958-141df3ed052f.c000.snappy.parquet</td></tr><tr><td>dbfs:/user/hive/warehouse/trip_db.db/trip_small_delta/vendor_name=CMT/part-00452-a7fe48ec-1ad7-45e0-9a1b-92e6ddcf95cc.c000.snappy.parquet</td></tr><tr><td>dbfs:/user/hive/warehouse/trip_db.db/trip_small_delta/vendor_name=CMT/part-00453-1429433f-5ca7-4280-ac03-385ce7ea7a12.c000.snappy.parquet</td></tr><tr><td>dbfs:/user/hive/warehouse/trip_db.db/trip_small_delta/vendor_name=CMT/part-00453-8467f2ca-1609-4695-b611-95a57acc6692.c000.snappy.parquet</td></tr><tr><td>dbfs:/user/hive/warehouse/trip_db.db/trip_small_delta/vendor_name=CMT/part-00454-3c834191-f475-4da5-be76-023222ec17a2.c000.snappy.parquet</td></tr><tr><td>dbfs:/user/hive/warehouse/trip_db.db/trip_small_delta/vendor_name=CMT/part-00454-46781b13-dc6e-404c-bc09-47c8327db4e7.c000.snappy.parquet</td></tr><tr><td>dbfs:/user/hive/warehouse/trip_db.db/trip_small_delta/vendor_name=CMT/part-00455-63de50d6-6744-43a4-9607-b9e1c26f61ca.c000.snappy.parquet</td></tr><tr><td>dbfs:/user/hive/warehouse/trip_db.db/trip_small_delta/vendor_name=CMT/part-00455-7430c668-9e07-45c4-bde4-fe4accb88afe.c000.snappy.parquet</td></tr><tr><td>dbfs:/user/hive/warehouse/trip_db.db/trip_small_delta/vendor_name=CMT/part-00456-3f72b29a-f1a8-463e-82f4-1318c3ce4a4d.c000.snappy.parquet</td></tr><tr><td>dbfs:/user/hive/warehouse/trip_db.db/trip_small_delta/vendor_name=CMT/part-00456-89c07982-e4f1-42c5-b73b-3b14c5a64289.c000.snappy.parquet</td></tr><tr><td>dbfs:/user/hive/warehouse/trip_db.db/trip_small_delta/vendor_name=CMT/part-00457-2c06e8c4-676f-44e6-95ca-125fda25e1b4.c000.snappy.parquet</td></tr><tr><td>dbfs:/user/hive/warehouse/trip_db.db/trip_small_delta/vendor_name=CMT/part-00457-84e5d5ba-f07d-4e0f-a9ec-035380a6bb82.c000.snappy.parquet</td></tr><tr><td>dbfs:/user/hive/warehouse/trip_db.db/trip_small_delta/vendor_name=CMT/part-00458-007e41be-c2ed-410e-bfcc-3a8a6098a6da.c000.snappy.parquet</td></tr><tr><td>dbfs:/user/hive/warehouse/trip_db.db/trip_small_delta/vendor_name=CMT/part-00458-a3c19208-f13c-4f1c-ad37-4e954c7f6297.c000.snappy.parquet</td></tr><tr><td>dbfs:/user/hive/warehouse/trip_db.db/trip_small_delta/vendor_name=CMT/part-00459-44e81e48-7185-4a84-b691-30a87d197d5b.c000.snappy.parquet</td></tr><tr><td>dbfs:/user/hive/warehouse/trip_db.db/trip_small_delta/vendor_name=CMT/part-00459-c3e45605-74f7-46e3-9616-5d7772f0d89c.c000.snappy.parquet</td></tr><tr><td>dbfs:/user/hive/warehouse/trip_db.db/trip_small_delta/vendor_name=CMT/part-00460-477369f4-a034-4ca7-82c9-7f3bc8f5ce17.c000.snappy.parquet</td></tr><tr><td>dbfs:/user/hive/warehouse/trip_db.db/trip_small_delta/vendor_name=CMT/part-00460-eb124eb4-87ce-411d-ad14-8a96402e31f1.c000.snappy.parquet</td></tr><tr><td>dbfs:/user/hive/warehouse/trip_db.db/trip_small_delta/vendor_name=CMT/part-00461-08e570a9-b43f-4ea1-9e51-ad0bcc6d707e.c000.snappy.parquet</td></tr><tr><td>dbfs:/user/hive/warehouse/trip_db.db/trip_small_delta/vendor_name=CMT/part-00461-7e61de36-b2b0-4edf-b322-6b218698b502.c000.snappy.parquet</td></tr><tr><td>dbfs:/user/hive/warehouse/trip_db.db/trip_small_delta/vendor_name=CMT/part-00462-2018133f-1f35-4d12-b813-edeb61011a89.c000.snappy.parquet</td></tr><tr><td>dbfs:/user/hive/warehouse/trip_db.db/trip_small_delta/vendor_name=CMT/part-00462-236cb757-09b4-4178-a586-1ebd36eaf643.c000.snappy.parquet</td></tr><tr><td>dbfs:/user/hive/warehouse/trip_db.db/trip_small_delta/vendor_name=CMT/part-00463-835ee371-1c1c-4e44-85e9-27726deec017.c000.snappy.parquet</td></tr><tr><td>dbfs:/user/hive/warehouse/trip_db.db/trip_small_delta/vendor_name=CMT/part-00463-eeced135-5567-4234-8d50-b4c71e5e033e.c000.snappy.parquet</td></tr><tr><td>dbfs:/user/hive/warehouse/trip_db.db/trip_small_delta/vendor_name=CMT/part-00464-050e31f1-5fb8-4ab7-b02f-324f2a15f0a8.c000.snappy.parquet</td></tr><tr><td>dbfs:/user/hive/warehouse/trip_db.db/trip_small_delta/vendor_name=CMT/part-00464-94a668ca-c075-4bbf-9f22-f768324ab74b.c000.snappy.parquet</td></tr><tr><td>dbfs:/user/hive/warehouse/trip_db.db/trip_small_delta/vendor_name=CMT/part-00465-ce2ab09d-6607-46a5-80c9-1bae6b07ec52.c000.snappy.parquet</td></tr><tr><td>dbfs:/user/hive/warehouse/trip_db.db/trip_small_delta/vendor_name=CMT/part-00465-f885fc5e-d20e-4868-a774-b0702bdbb7ab.c000.snappy.parquet</td></tr><tr><td>dbfs:/user/hive/warehouse/trip_db.db/trip_small_delta/vendor_name=CMT/part-00466-4c79f22f-c1a1-40f6-bbdc-87c81bf717f3.c000.snappy.parquet</td></tr><tr><td>dbfs:/user/hive/warehouse/trip_db.db/trip_small_delta/vendor_name=CMT/part-00466-92e719f5-aa98-498c-a711-8addcfa4874f.c000.snappy.parquet</td></tr><tr><td>dbfs:/user/hive/warehouse/trip_db.db/trip_small_delta/vendor_name=CMT/part-00467-1318656d-d1b5-4c9f-91f7-76b64a5ecce9.c000.snappy.parquet</td></tr><tr><td>dbfs:/user/hive/warehouse/trip_db.db/trip_small_delta/vendor_name=CMT/part-00467-f172a1a7-3375-4926-95fa-1001bf20323f.c000.snappy.parquet</td></tr><tr><td>dbfs:/user/hive/warehouse/trip_db.db/trip_small_delta/vendor_name=CMT/part-00468-7a120e29-f741-40b4-8b02-539063f22559.c000.snappy.parquet</td></tr><tr><td>dbfs:/user/hive/warehouse/trip_db.db/trip_small_delta/vendor_name=CMT/part-00468-d9e2466e-e34e-4200-a2cb-37a6e4f8b725.c000.snappy.parquet</td></tr><tr><td>dbfs:/user/hive/warehouse/trip_db.db/trip_small_delta/vendor_name=CMT/part-00469-2807a44a-2f57-4d7f-a4c2-76ac7a3746b6.c000.snappy.parquet</td></tr><tr><td>dbfs:/user/hive/warehouse/trip_db.db/trip_small_delta/vendor_name=CMT/part-00469-985b6eef-d145-4295-912e-6bf417de90c1.c000.snappy.parquet</td></tr><tr><td>dbfs:/user/hive/warehouse/trip_db.db/trip_small_delta/vendor_name=CMT/part-00470-25b7ef52-3556-459d-9d58-a6b9f433f715.c000.snappy.parquet</td></tr><tr><td>dbfs:/user/hive/warehouse/trip_db.db/trip_small_delta/vendor_name=CMT/part-00470-4fca7512-dee5-4f30-bd70-c5be789dfe80.c000.snappy.parquet</td></tr><tr><td>dbfs:/user/hive/warehouse/trip_db.db/trip_small_delta/vendor_name=CMT/part-00471-4483b113-9d83-46bd-9ed7-516e2e175243.c000.snappy.parquet</td></tr><tr><td>dbfs:/user/hive/warehouse/trip_db.db/trip_small_delta/vendor_name=CMT/part-00471-5c764859-741c-4e9d-96c4-9d185362cbeb.c000.snappy.parquet</td></tr><tr><td>dbfs:/user/hive/warehouse/trip_db.db/trip_small_delta/vendor_name=CMT/part-00472-388d949b-a9ec-458f-8ae7-7e00b6eac319.c000.snappy.parquet</td></tr><tr><td>dbfs:/user/hive/warehouse/trip_db.db/trip_small_delta/vendor_name=CMT/part-00472-7174be92-c462-4ab0-88ab-787025acd130.c000.snappy.parquet</td></tr><tr><td>dbfs:/user/hive/warehouse/trip_db.db/trip_small_delta/vendor_name=CMT/part-00473-9a5f1093-7de3-4c3b-9a02-fdbf0f1c48ce.c000.snappy.parquet</td></tr><tr><td>dbfs:/user/hive/warehouse/trip_db.db/trip_small_delta/vendor_name=CMT/part-00473-b577e074-fbf2-4c4e-b66f-d36a4026ebd5.c000.snappy.parquet</td></tr><tr><td>dbfs:/user/hive/warehouse/trip_db.db/trip_small_delta/vendor_name=CMT/part-00474-4d7fc068-6127-4a97-8573-5b80b2ca0790.c000.snappy.parquet</td></tr><tr><td>dbfs:/user/hive/warehouse/trip_db.db/trip_small_delta/vendor_name=CMT/part-00474-5f55f16c-0f02-4a3e-b3be-0e333245042a.c000.snappy.parquet</td></tr><tr><td>dbfs:/user/hive/warehouse/trip_db.db/trip_small_delta/vendor_name=CMT/part-00475-4885a358-7410-471b-8924-074331c8af16.c000.snappy.parquet</td></tr><tr><td>dbfs:/user/hive/warehouse/trip_db.db/trip_small_delta/vendor_name=CMT/part-00475-f06a0355-04bb-4f8e-a940-b8892281e71e.c000.snappy.parquet</td></tr><tr><td>dbfs:/user/hive/warehouse/trip_db.db/trip_small_delta/vendor_name=CMT/part-00476-9bdb93dc-4b7e-4fca-bdc5-29f5e8d5ab04.c000.snappy.parquet</td></tr><tr><td>dbfs:/user/hive/warehouse/trip_db.db/trip_small_delta/vendor_name=CMT/part-00476-d34c5dae-df7d-485d-9b00-7e11f8134cd6.c000.snappy.parquet</td></tr><tr><td>dbfs:/user/hive/warehouse/trip_db.db/trip_small_delta/vendor_name=CMT/part-00477-d55203a3-0df7-475f-bd76-d38acac4adae.c000.snappy.parquet</td></tr><tr><td>dbfs:/user/hive/warehouse/trip_db.db/trip_small_delta/vendor_name=CMT/part-00477-da62911a-9a78-459a-940c-f3b17e256ce1.c000.snappy.parquet</td></tr><tr><td>dbfs:/user/hive/warehouse/trip_db.db/trip_small_delta/vendor_name=CMT/part-00478-6062d21c-327a-43c3-ac41-de4f1c30a082.c000.snappy.parquet</td></tr><tr><td>dbfs:/user/hive/warehouse/trip_db.db/trip_small_delta/vendor_name=CMT/part-00478-b1dcde0a-1f6a-4087-a0c0-b9201302f2ac.c000.snappy.parquet</td></tr><tr><td>dbfs:/user/hive/warehouse/trip_db.db/trip_small_delta/vendor_name=CMT/part-00479-17af0aaf-fd2f-41b1-b2fa-c24977d87017.c000.snappy.parquet</td></tr><tr><td>dbfs:/user/hive/warehouse/trip_db.db/trip_small_delta/vendor_name=CMT/part-00479-56a171b1-97cc-46a5-a950-d7eb75cc20af.c000.snappy.parquet</td></tr><tr><td>dbfs:/user/hive/warehouse/trip_db.db/trip_small_delta/vendor_name=CMT/part-00480-06058a08-f643-4a14-bb09-4890ccd3584f.c000.snappy.parquet</td></tr><tr><td>dbfs:/user/hive/warehouse/trip_db.db/trip_small_delta/vendor_name=CMT/part-00480-26cee8fb-9b7f-4b15-9d43-3ed6f4d33d70.c000.snappy.parquet</td></tr><tr><td>dbfs:/user/hive/warehouse/trip_db.db/trip_small_delta/vendor_name=CMT/part-00481-b7ea0ee5-0fc9-4b3e-9ae6-f7cfca02d0d9.c000.snappy.parquet</td></tr><tr><td>dbfs:/user/hive/warehouse/trip_db.db/trip_small_delta/vendor_name=CMT/part-00481-fc8bad56-a664-4b80-b9df-575f9009d782.c000.snappy.parquet</td></tr><tr><td>dbfs:/user/hive/warehouse/trip_db.db/trip_small_delta/vendor_name=CMT/part-00482-6c2c673b-daeb-4946-a166-d80ebc216d5b.c000.snappy.parquet</td></tr><tr><td>dbfs:/user/hive/warehouse/trip_db.db/trip_small_delta/vendor_name=CMT/part-00482-c818c8e6-a542-4fa2-9c94-54c541c95ba2.c000.snappy.parquet</td></tr><tr><td>dbfs:/user/hive/warehouse/trip_db.db/trip_small_delta/vendor_name=CMT/part-00483-6f5768a7-437c-4d68-bbc1-70b52ab05a11.c000.snappy.parquet</td></tr><tr><td>dbfs:/user/hive/warehouse/trip_db.db/trip_small_delta/vendor_name=CMT/part-00483-a2400d7f-acec-40d9-afcb-215ce217266c.c000.snappy.parquet</td></tr><tr><td>dbfs:/user/hive/warehouse/trip_db.db/trip_small_delta/vendor_name=CMT/part-00484-d5546b12-ffd7-4ec9-ab3b-c7d4c1e308ab.c000.snappy.parquet</td></tr><tr><td>dbfs:/user/hive/warehouse/trip_db.db/trip_small_delta/vendor_name=CMT/part-00484-f177e8b7-1bf7-4622-a5d3-20fdd43a32e0.c000.snappy.parquet</td></tr><tr><td>dbfs:/user/hive/warehouse/trip_db.db/trip_small_delta/vendor_name=CMT/part-00485-03e46013-7565-4d49-8e94-47e0e03c0dec.c000.snappy.parquet</td></tr><tr><td>dbfs:/user/hive/warehouse/trip_db.db/trip_small_delta/vendor_name=CMT/part-00485-9b3298fc-7e14-4793-91e4-842ef52bf2e3.c000.snappy.parquet</td></tr><tr><td>dbfs:/user/hive/warehouse/trip_db.db/trip_small_delta/vendor_name=CMT/part-00486-85aa066f-78c4-44c5-a9e0-295a7a576274.c000.snappy.parquet</td></tr><tr><td>dbfs:/user/hive/warehouse/trip_db.db/trip_small_delta/vendor_name=CMT/part-00486-a77a3a15-17b7-4a59-a34a-c816ee2fa207.c000.snappy.parquet</td></tr><tr><td>dbfs:/user/hive/warehouse/trip_db.db/trip_small_delta/vendor_name=CMT/part-00487-a751acfe-4757-45c3-a7f3-447f17128c81.c000.snappy.parquet</td></tr><tr><td>dbfs:/user/hive/warehouse/trip_db.db/trip_small_delta/vendor_name=CMT/part-00487-cf8df507-c4e8-4ad2-a71a-2681a17e08a7.c000.snappy.parquet</td></tr><tr><td>dbfs:/user/hive/warehouse/trip_db.db/trip_small_delta/vendor_name=CMT/part-00488-17e29619-f873-447a-9843-1ae73b97fc1f.c000.snappy.parquet</td></tr><tr><td>dbfs:/user/hive/warehouse/trip_db.db/trip_small_delta/vendor_name=CMT/part-00488-30d6cf55-d0ab-49e8-a5f5-97d475806227.c000.snappy.parquet</td></tr><tr><td>dbfs:/user/hive/warehouse/trip_db.db/trip_small_delta/vendor_name=CMT/part-00489-5c4f7786-2200-4afe-83e3-af58a863b64e.c000.snappy.parquet</td></tr><tr><td>dbfs:/user/hive/warehouse/trip_db.db/trip_small_delta/vendor_name=CMT/part-00489-9c03e6bd-1bcf-4e6b-852b-0baf906d44d8.c000.snappy.parquet</td></tr><tr><td>dbfs:/user/hive/warehouse/trip_db.db/trip_small_delta/vendor_name=CMT/part-00490-a76b25da-2de2-4093-99b7-cbf107156161.c000.snappy.parquet</td></tr><tr><td>dbfs:/user/hive/warehouse/trip_db.db/trip_small_delta/vendor_name=CMT/part-00490-c06c5f4a-c4b4-477d-9986-b1e3575bb62f.c000.snappy.parquet</td></tr><tr><td>dbfs:/user/hive/warehouse/trip_db.db/trip_small_delta/vendor_name=CMT/part-00491-26d780b0-b2d7-4c56-8055-5896e38c1a82.c000.snappy.parquet</td></tr><tr><td>dbfs:/user/hive/warehouse/trip_db.db/trip_small_delta/vendor_name=CMT/part-00491-a1aa3994-1c01-4914-8a8f-1b0b8a24fec8.c000.snappy.parquet</td></tr><tr><td>dbfs:/user/hive/warehouse/trip_db.db/trip_small_delta/vendor_name=CMT/part-00492-adf45652-441f-44aa-b636-bedb021578e0.c000.snappy.parquet</td></tr><tr><td>dbfs:/user/hive/warehouse/trip_db.db/trip_small_delta/vendor_name=CMT/part-00492-e1f43ccc-a8fa-478e-b460-bacdc477ec40.c000.snappy.parquet</td></tr><tr><td>dbfs:/user/hive/warehouse/trip_db.db/trip_small_delta/vendor_name=CMT/part-00493-78b49c2d-7d76-41c8-8785-128774ad62f7.c000.snappy.parquet</td></tr><tr><td>dbfs:/user/hive/warehouse/trip_db.db/trip_small_delta/vendor_name=CMT/part-00493-a3f20af9-1806-42dc-8690-7f2af7855f42.c000.snappy.parquet</td></tr><tr><td>dbfs:/user/hive/warehouse/trip_db.db/trip_small_delta/vendor_name=CMT/part-00494-4df78608-83f9-44dd-bdce-488a9f22ec7a.c000.snappy.parquet</td></tr><tr><td>dbfs:/user/hive/warehouse/trip_db.db/trip_small_delta/vendor_name=CMT/part-00494-c2a2a926-3d8a-4f75-a339-faec9500a9d6.c000.snappy.parquet</td></tr><tr><td>dbfs:/user/hive/warehouse/trip_db.db/trip_small_delta/vendor_name=CMT/part-00495-72481d67-9d1b-4555-b84e-fad8f33f5247.c000.snappy.parquet</td></tr><tr><td>dbfs:/user/hive/warehouse/trip_db.db/trip_small_delta/vendor_name=CMT/part-00495-bfe0260f-26ed-4216-a19d-9c408dc621b7.c000.snappy.parquet</td></tr><tr><td>dbfs:/user/hive/warehouse/trip_db.db/trip_small_delta/vendor_name=CMT/part-00496-65faf053-d114-4bb5-a701-80e6e6fd29d9.c000.snappy.parquet</td></tr><tr><td>dbfs:/user/hive/warehouse/trip_db.db/trip_small_delta/vendor_name=CMT/part-00496-a5b5f92c-d780-4f54-b6be-e7a148a0f7d5.c000.snappy.parquet</td></tr><tr><td>dbfs:/user/hive/warehouse/trip_db.db/trip_small_delta/vendor_name=CMT/part-00497-817d855c-6dbc-47cc-a0e1-82ad7d481cde.c000.snappy.parquet</td></tr><tr><td>dbfs:/user/hive/warehouse/trip_db.db/trip_small_delta/vendor_name=CMT/part-00497-bf94ddba-10b7-4e92-be37-130b89722a88.c000.snappy.parquet</td></tr><tr><td>dbfs:/user/hive/warehouse/trip_db.db/trip_small_delta/vendor_name=CMT/part-00498-590651e9-f07b-4819-9e3e-0f2c902dde3c.c000.snappy.parquet</td></tr><tr><td>dbfs:/user/hive/warehouse/trip_db.db/trip_small_delta/vendor_name=CMT/part-00498-e095a18d-3bcd-4840-abfe-0cf5b69db652.c000.snappy.parquet</td></tr></tbody></table></div>"
      ]
     },
     "metadata": {
      "application/vnd.databricks.v1+output": {
       "addedWidgets": {},
       "aggData": [],
       "aggError": "",
       "aggOverflow": false,
       "aggSchema": [],
       "aggSeriesLimitReached": false,
       "aggType": "",
       "arguments": {},
       "columnCustomDisplayInfos": {},
       "data": [
        [
         "dbfs:/user/hive/warehouse/trip_db.db/trip_small_delta/vendor_name=CMT/part-00000-3044dc0c-a40a-4dfe-ac91-b237da7974b1.c000.snappy.parquet"
        ],
        [
         "dbfs:/user/hive/warehouse/trip_db.db/trip_small_delta/vendor_name=CMT/part-00000-37ac7b88-e1e0-40b8-a6c4-87cf9f8542d5.c000.snappy.parquet"
        ],
        [
         "dbfs:/user/hive/warehouse/trip_db.db/trip_small_delta/vendor_name=CMT/part-00000-7b74d20e-927b-4d97-8e4a-669f3f731237.c000.snappy.parquet"
        ],
        [
         "dbfs:/user/hive/warehouse/trip_db.db/trip_small_delta/vendor_name=CMT/part-00001-1c95e7f6-1e79-45cf-bdb4-ac0cb85b4fe8.c000.snappy.parquet"
        ],
        [
         "dbfs:/user/hive/warehouse/trip_db.db/trip_small_delta/vendor_name=CMT/part-00001-25c0da1e-ca4c-41a9-9efc-9b24708db462.c000.snappy.parquet"
        ],
        [
         "dbfs:/user/hive/warehouse/trip_db.db/trip_small_delta/vendor_name=CMT/part-00001-e8667c53-9daa-4d21-8fb1-5e7b625f22ba.c000.snappy.parquet"
        ],
        [
         "dbfs:/user/hive/warehouse/trip_db.db/trip_small_delta/vendor_name=CMT/part-00002-22ac9d9d-82e2-44e3-8e3e-36d8858463b9.c000.snappy.parquet"
        ],
        [
         "dbfs:/user/hive/warehouse/trip_db.db/trip_small_delta/vendor_name=CMT/part-00002-80cae795-43ca-4c85-83c5-f743dcd304e6.c000.snappy.parquet"
        ],
        [
         "dbfs:/user/hive/warehouse/trip_db.db/trip_small_delta/vendor_name=CMT/part-00003-601a0c92-8f47-4641-ab27-22c1ecaef033.c000.snappy.parquet"
        ],
        [
         "dbfs:/user/hive/warehouse/trip_db.db/trip_small_delta/vendor_name=CMT/part-00003-bc769f52-84ff-4bf6-8779-302237664f75.c000.snappy.parquet"
        ],
        [
         "dbfs:/user/hive/warehouse/trip_db.db/trip_small_delta/vendor_name=CMT/part-00004-0bdd8fa3-dcae-4a6d-aa5a-17aa9a6eb331.c000.snappy.parquet"
        ],
        [
         "dbfs:/user/hive/warehouse/trip_db.db/trip_small_delta/vendor_name=CMT/part-00004-aa8c8dc2-0b3d-4260-9085-9c6eec37db8f.c000.snappy.parquet"
        ],
        [
         "dbfs:/user/hive/warehouse/trip_db.db/trip_small_delta/vendor_name=CMT/part-00005-98384291-a135-4e7e-a957-9b29c94b560c.c000.snappy.parquet"
        ],
        [
         "dbfs:/user/hive/warehouse/trip_db.db/trip_small_delta/vendor_name=CMT/part-00005-d6018e79-2c75-481d-ad3e-7e6ba150fef6.c000.snappy.parquet"
        ],
        [
         "dbfs:/user/hive/warehouse/trip_db.db/trip_small_delta/vendor_name=CMT/part-00006-15f59fac-5b10-439a-81f8-8305857ec097.c000.snappy.parquet"
        ],
        [
         "dbfs:/user/hive/warehouse/trip_db.db/trip_small_delta/vendor_name=CMT/part-00006-b95798b0-4f0c-49b6-9396-0502c8a603da.c000.snappy.parquet"
        ],
        [
         "dbfs:/user/hive/warehouse/trip_db.db/trip_small_delta/vendor_name=CMT/part-00007-490207e8-f7b7-4e7e-9208-83ff50b103fb.c000.snappy.parquet"
        ],
        [
         "dbfs:/user/hive/warehouse/trip_db.db/trip_small_delta/vendor_name=CMT/part-00007-54ccd493-772a-4798-8ed2-f3dc02547647.c000.snappy.parquet"
        ],
        [
         "dbfs:/user/hive/warehouse/trip_db.db/trip_small_delta/vendor_name=CMT/part-00008-68ad7745-a3ff-4f95-bd7d-5668d104730d.c000.snappy.parquet"
        ],
        [
         "dbfs:/user/hive/warehouse/trip_db.db/trip_small_delta/vendor_name=CMT/part-00008-f70fcb4a-6774-4aca-b947-fcdf5243d518.c000.snappy.parquet"
        ],
        [
         "dbfs:/user/hive/warehouse/trip_db.db/trip_small_delta/vendor_name=CMT/part-00009-13bc3e0a-1a48-4c04-a97b-965ddc33d28f.c000.snappy.parquet"
        ],
        [
         "dbfs:/user/hive/warehouse/trip_db.db/trip_small_delta/vendor_name=CMT/part-00009-a779c3f4-f9b5-437f-ab10-94f5c5999589.c000.snappy.parquet"
        ],
        [
         "dbfs:/user/hive/warehouse/trip_db.db/trip_small_delta/vendor_name=CMT/part-00010-4303a3c2-db98-4b7b-909b-3cdd5e804322.c000.snappy.parquet"
        ],
        [
         "dbfs:/user/hive/warehouse/trip_db.db/trip_small_delta/vendor_name=CMT/part-00010-9c7a0e40-2a48-4c13-ab5d-b615e8ccefd2.c000.snappy.parquet"
        ],
        [
         "dbfs:/user/hive/warehouse/trip_db.db/trip_small_delta/vendor_name=CMT/part-00011-245a45a1-af36-489b-865f-d17ab08e0cf9.c000.snappy.parquet"
        ],
        [
         "dbfs:/user/hive/warehouse/trip_db.db/trip_small_delta/vendor_name=CMT/part-00011-24a6306b-4a9f-4118-8fd2-b791ff0a9598.c000.snappy.parquet"
        ],
        [
         "dbfs:/user/hive/warehouse/trip_db.db/trip_small_delta/vendor_name=CMT/part-00012-8990eecd-ebe6-470c-9aba-f46eec5f9e5b.c000.snappy.parquet"
        ],
        [
         "dbfs:/user/hive/warehouse/trip_db.db/trip_small_delta/vendor_name=CMT/part-00012-be848754-9adc-4f3f-84a3-8ace912fced4.c000.snappy.parquet"
        ],
        [
         "dbfs:/user/hive/warehouse/trip_db.db/trip_small_delta/vendor_name=CMT/part-00013-5af4d4c9-177c-4082-b3d7-6bc27b68ae05.c000.snappy.parquet"
        ],
        [
         "dbfs:/user/hive/warehouse/trip_db.db/trip_small_delta/vendor_name=CMT/part-00013-959af072-5786-49ed-8360-7b4fc33fc69e.c000.snappy.parquet"
        ],
        [
         "dbfs:/user/hive/warehouse/trip_db.db/trip_small_delta/vendor_name=CMT/part-00014-873eada8-3396-4503-84aa-896421afefdd.c000.snappy.parquet"
        ],
        [
         "dbfs:/user/hive/warehouse/trip_db.db/trip_small_delta/vendor_name=CMT/part-00014-b6b5b4d2-c055-4d95-9ba8-c3c06cb4faf2.c000.snappy.parquet"
        ],
        [
         "dbfs:/user/hive/warehouse/trip_db.db/trip_small_delta/vendor_name=CMT/part-00015-1d6c0b97-d55c-4b9d-be59-c7a606a51621.c000.snappy.parquet"
        ],
        [
         "dbfs:/user/hive/warehouse/trip_db.db/trip_small_delta/vendor_name=CMT/part-00015-b313d2dd-e817-4609-ba54-1d59356e6d37.c000.snappy.parquet"
        ],
        [
         "dbfs:/user/hive/warehouse/trip_db.db/trip_small_delta/vendor_name=CMT/part-00016-55aebaac-360c-4dd5-9078-578ae8df72c2.c000.snappy.parquet"
        ],
        [
         "dbfs:/user/hive/warehouse/trip_db.db/trip_small_delta/vendor_name=CMT/part-00016-70a1eb97-e1e2-484f-bd71-686df5a3a867.c000.snappy.parquet"
        ],
        [
         "dbfs:/user/hive/warehouse/trip_db.db/trip_small_delta/vendor_name=CMT/part-00017-4040ddb5-a8ae-442c-b237-bda4a8d8f3b5.c000.snappy.parquet"
        ],
        [
         "dbfs:/user/hive/warehouse/trip_db.db/trip_small_delta/vendor_name=CMT/part-00017-7593890e-5f18-4e51-b656-eae6bddb22a0.c000.snappy.parquet"
        ],
        [
         "dbfs:/user/hive/warehouse/trip_db.db/trip_small_delta/vendor_name=CMT/part-00018-2c47bc50-5b9e-4d44-b2c4-3fdd1dc5b766.c000.snappy.parquet"
        ],
        [
         "dbfs:/user/hive/warehouse/trip_db.db/trip_small_delta/vendor_name=CMT/part-00018-fb52682b-73d1-4340-9b9c-933e9080a61d.c000.snappy.parquet"
        ],
        [
         "dbfs:/user/hive/warehouse/trip_db.db/trip_small_delta/vendor_name=CMT/part-00019-97706a8f-b92c-449d-96af-0101fac57a69.c000.snappy.parquet"
        ],
        [
         "dbfs:/user/hive/warehouse/trip_db.db/trip_small_delta/vendor_name=CMT/part-00019-ecc267a3-0962-489c-8acb-96005c4e9887.c000.snappy.parquet"
        ],
        [
         "dbfs:/user/hive/warehouse/trip_db.db/trip_small_delta/vendor_name=CMT/part-00020-57fc4e07-a421-44a1-8f72-709c3d2013a1.c000.snappy.parquet"
        ],
        [
         "dbfs:/user/hive/warehouse/trip_db.db/trip_small_delta/vendor_name=CMT/part-00020-f79a1d27-43cd-4c6f-aa06-0f8d495c74a5.c000.snappy.parquet"
        ],
        [
         "dbfs:/user/hive/warehouse/trip_db.db/trip_small_delta/vendor_name=CMT/part-00021-13e96070-d052-4d93-928f-53db3202b942.c000.snappy.parquet"
        ],
        [
         "dbfs:/user/hive/warehouse/trip_db.db/trip_small_delta/vendor_name=CMT/part-00021-77842198-17f8-4f55-8366-6e4a2421ceb5.c000.snappy.parquet"
        ],
        [
         "dbfs:/user/hive/warehouse/trip_db.db/trip_small_delta/vendor_name=CMT/part-00022-1226acee-cd9d-4405-8556-7bc340092bc2.c000.snappy.parquet"
        ],
        [
         "dbfs:/user/hive/warehouse/trip_db.db/trip_small_delta/vendor_name=CMT/part-00022-3f7881e7-8de1-4443-bf5f-a0dea394180e.c000.snappy.parquet"
        ],
        [
         "dbfs:/user/hive/warehouse/trip_db.db/trip_small_delta/vendor_name=CMT/part-00023-0c01e66f-ca99-431e-9979-6f15ab254c9b.c000.snappy.parquet"
        ],
        [
         "dbfs:/user/hive/warehouse/trip_db.db/trip_small_delta/vendor_name=CMT/part-00023-e03df0fa-af10-484e-8405-fae3461e27eb.c000.snappy.parquet"
        ],
        [
         "dbfs:/user/hive/warehouse/trip_db.db/trip_small_delta/vendor_name=CMT/part-00024-e80a8e44-d69e-45d5-8a0e-51bc6577ad6a.c000.snappy.parquet"
        ],
        [
         "dbfs:/user/hive/warehouse/trip_db.db/trip_small_delta/vendor_name=CMT/part-00024-fd12ce8b-c399-439e-8a75-284b5bc6ffc4.c000.snappy.parquet"
        ],
        [
         "dbfs:/user/hive/warehouse/trip_db.db/trip_small_delta/vendor_name=CMT/part-00025-979ac859-b1bb-459a-8976-3bc94f659156.c000.snappy.parquet"
        ],
        [
         "dbfs:/user/hive/warehouse/trip_db.db/trip_small_delta/vendor_name=CMT/part-00025-d994399f-347b-4ffc-bd78-7af7eca5935e.c000.snappy.parquet"
        ],
        [
         "dbfs:/user/hive/warehouse/trip_db.db/trip_small_delta/vendor_name=CMT/part-00026-4707e3cd-8750-4b45-aa6b-a40f5a35bbc7.c000.snappy.parquet"
        ],
        [
         "dbfs:/user/hive/warehouse/trip_db.db/trip_small_delta/vendor_name=CMT/part-00026-d492feb2-9d2b-48e4-8db1-3bb396e45c19.c000.snappy.parquet"
        ],
        [
         "dbfs:/user/hive/warehouse/trip_db.db/trip_small_delta/vendor_name=CMT/part-00027-1110973d-fafd-4cdb-ab16-c7eb5ee0990e.c000.snappy.parquet"
        ],
        [
         "dbfs:/user/hive/warehouse/trip_db.db/trip_small_delta/vendor_name=CMT/part-00027-c42618c6-df83-45fa-aab5-c1ecdf4d98bf.c000.snappy.parquet"
        ],
        [
         "dbfs:/user/hive/warehouse/trip_db.db/trip_small_delta/vendor_name=CMT/part-00028-278b3b1d-386a-4232-95ad-1626060d660f.c000.snappy.parquet"
        ],
        [
         "dbfs:/user/hive/warehouse/trip_db.db/trip_small_delta/vendor_name=CMT/part-00028-cc42bab4-1f58-4b61-9e38-e5f6ee323591.c000.snappy.parquet"
        ],
        [
         "dbfs:/user/hive/warehouse/trip_db.db/trip_small_delta/vendor_name=CMT/part-00029-79854135-2aca-48a8-8314-36905d4b8576.c000.snappy.parquet"
        ],
        [
         "dbfs:/user/hive/warehouse/trip_db.db/trip_small_delta/vendor_name=CMT/part-00029-edfb5268-2f94-4212-9013-cab8a7f72547.c000.snappy.parquet"
        ],
        [
         "dbfs:/user/hive/warehouse/trip_db.db/trip_small_delta/vendor_name=CMT/part-00030-6ed424ae-3e29-42ca-ada3-5e22660af29b.c000.snappy.parquet"
        ],
        [
         "dbfs:/user/hive/warehouse/trip_db.db/trip_small_delta/vendor_name=CMT/part-00030-c8c3d611-e70c-4a24-a3db-13a91a028c25.c000.snappy.parquet"
        ],
        [
         "dbfs:/user/hive/warehouse/trip_db.db/trip_small_delta/vendor_name=CMT/part-00031-66db2ae4-e7b5-49f2-a58d-2adf3f6165e6.c000.snappy.parquet"
        ],
        [
         "dbfs:/user/hive/warehouse/trip_db.db/trip_small_delta/vendor_name=CMT/part-00031-cd363c22-816b-43e7-bdca-e62b8b6e9dfe.c000.snappy.parquet"
        ],
        [
         "dbfs:/user/hive/warehouse/trip_db.db/trip_small_delta/vendor_name=CMT/part-00032-0b16aa56-9221-4e98-9d93-18142ebee69d.c000.snappy.parquet"
        ],
        [
         "dbfs:/user/hive/warehouse/trip_db.db/trip_small_delta/vendor_name=CMT/part-00032-5a87e584-5cbe-4965-ad6f-220256f5e1c1.c000.snappy.parquet"
        ],
        [
         "dbfs:/user/hive/warehouse/trip_db.db/trip_small_delta/vendor_name=CMT/part-00033-b1426e95-c096-41a3-9f46-876fb72959dd.c000.snappy.parquet"
        ],
        [
         "dbfs:/user/hive/warehouse/trip_db.db/trip_small_delta/vendor_name=CMT/part-00033-d1dd6a45-8991-4842-a1ad-7961f991a224.c000.snappy.parquet"
        ],
        [
         "dbfs:/user/hive/warehouse/trip_db.db/trip_small_delta/vendor_name=CMT/part-00034-35b74be1-a9b6-4283-b89d-ba1721799818.c000.snappy.parquet"
        ],
        [
         "dbfs:/user/hive/warehouse/trip_db.db/trip_small_delta/vendor_name=CMT/part-00034-b28257b0-540a-49ff-9499-abf45f1342f2.c000.snappy.parquet"
        ],
        [
         "dbfs:/user/hive/warehouse/trip_db.db/trip_small_delta/vendor_name=CMT/part-00035-09843c60-edd5-4a62-a5e0-f2999f0e0e6e.c000.snappy.parquet"
        ],
        [
         "dbfs:/user/hive/warehouse/trip_db.db/trip_small_delta/vendor_name=CMT/part-00035-4684f394-d8ef-41ed-bda8-1f17a8994255.c000.snappy.parquet"
        ],
        [
         "dbfs:/user/hive/warehouse/trip_db.db/trip_small_delta/vendor_name=CMT/part-00036-9bb111c8-b387-4adf-a6f1-31cc11cf74d5.c000.snappy.parquet"
        ],
        [
         "dbfs:/user/hive/warehouse/trip_db.db/trip_small_delta/vendor_name=CMT/part-00036-aa1ec200-0ae0-48f9-b218-a42bb8b04b08.c000.snappy.parquet"
        ],
        [
         "dbfs:/user/hive/warehouse/trip_db.db/trip_small_delta/vendor_name=CMT/part-00037-97c71563-da38-4bee-8964-d389d3601e1c.c000.snappy.parquet"
        ],
        [
         "dbfs:/user/hive/warehouse/trip_db.db/trip_small_delta/vendor_name=CMT/part-00037-e90d6d45-a076-4644-a403-a430871b39e1.c000.snappy.parquet"
        ],
        [
         "dbfs:/user/hive/warehouse/trip_db.db/trip_small_delta/vendor_name=CMT/part-00038-7b680925-591b-469e-ab58-77ff1c31c9b5.c000.snappy.parquet"
        ],
        [
         "dbfs:/user/hive/warehouse/trip_db.db/trip_small_delta/vendor_name=CMT/part-00038-d9f3b7d6-c777-4b70-a31e-fa67f362ed37.c000.snappy.parquet"
        ],
        [
         "dbfs:/user/hive/warehouse/trip_db.db/trip_small_delta/vendor_name=CMT/part-00039-a8d9a777-dc57-4e23-b26f-7a651f4393d1.c000.snappy.parquet"
        ],
        [
         "dbfs:/user/hive/warehouse/trip_db.db/trip_small_delta/vendor_name=CMT/part-00039-ec11db85-6ccd-4329-a3d8-776ee98998c0.c000.snappy.parquet"
        ],
        [
         "dbfs:/user/hive/warehouse/trip_db.db/trip_small_delta/vendor_name=CMT/part-00040-01e928ce-135a-45c9-9335-cbfa11c37347.c000.snappy.parquet"
        ],
        [
         "dbfs:/user/hive/warehouse/trip_db.db/trip_small_delta/vendor_name=CMT/part-00040-8283d80d-a471-4782-8eec-1f1bcae4e4c9.c000.snappy.parquet"
        ],
        [
         "dbfs:/user/hive/warehouse/trip_db.db/trip_small_delta/vendor_name=CMT/part-00041-810e4ae3-d4ea-44b0-97a3-6fa8f1b147fb.c000.snappy.parquet"
        ],
        [
         "dbfs:/user/hive/warehouse/trip_db.db/trip_small_delta/vendor_name=CMT/part-00041-fb2e6091-3197-42eb-8bb6-3853611118de.c000.snappy.parquet"
        ],
        [
         "dbfs:/user/hive/warehouse/trip_db.db/trip_small_delta/vendor_name=CMT/part-00042-46922b50-9ee9-4b63-90d3-ba3383cf18a5.c000.snappy.parquet"
        ],
        [
         "dbfs:/user/hive/warehouse/trip_db.db/trip_small_delta/vendor_name=CMT/part-00042-90a810ec-e17c-4ce8-84ad-f66594a4f1b7.c000.snappy.parquet"
        ],
        [
         "dbfs:/user/hive/warehouse/trip_db.db/trip_small_delta/vendor_name=CMT/part-00043-11d0a232-4671-431f-8ac0-cf0706184446.c000.snappy.parquet"
        ],
        [
         "dbfs:/user/hive/warehouse/trip_db.db/trip_small_delta/vendor_name=CMT/part-00043-1fe0a654-2542-4e7f-8156-8ea3c26cd047.c000.snappy.parquet"
        ],
        [
         "dbfs:/user/hive/warehouse/trip_db.db/trip_small_delta/vendor_name=CMT/part-00044-a57ba6ac-549c-4a1b-a0ba-76b6cfbb0e2c.c000.snappy.parquet"
        ],
        [
         "dbfs:/user/hive/warehouse/trip_db.db/trip_small_delta/vendor_name=CMT/part-00044-d9cd0e35-75b9-4d18-8385-93155ae04880.c000.snappy.parquet"
        ],
        [
         "dbfs:/user/hive/warehouse/trip_db.db/trip_small_delta/vendor_name=CMT/part-00045-6c4974c3-c339-49bc-b833-4d1c6f808a6d.c000.snappy.parquet"
        ],
        [
         "dbfs:/user/hive/warehouse/trip_db.db/trip_small_delta/vendor_name=CMT/part-00045-96c9b8b4-dab4-4b5a-a97a-ef816996edc4.c000.snappy.parquet"
        ],
        [
         "dbfs:/user/hive/warehouse/trip_db.db/trip_small_delta/vendor_name=CMT/part-00046-5d1bad2d-5757-4ea4-8303-5ea3ef859e05.c000.snappy.parquet"
        ],
        [
         "dbfs:/user/hive/warehouse/trip_db.db/trip_small_delta/vendor_name=CMT/part-00046-74fd8f48-67bc-4a3e-89f7-38d07416f110.c000.snappy.parquet"
        ],
        [
         "dbfs:/user/hive/warehouse/trip_db.db/trip_small_delta/vendor_name=CMT/part-00047-1933c445-0e19-4289-b7dd-3d389c63004b.c000.snappy.parquet"
        ],
        [
         "dbfs:/user/hive/warehouse/trip_db.db/trip_small_delta/vendor_name=CMT/part-00047-e4ccf0d5-e4b0-4367-bf1e-0a8585195f12.c000.snappy.parquet"
        ],
        [
         "dbfs:/user/hive/warehouse/trip_db.db/trip_small_delta/vendor_name=CMT/part-00048-050152dc-1c87-4602-8f82-c8b4415941c3.c000.snappy.parquet"
        ],
        [
         "dbfs:/user/hive/warehouse/trip_db.db/trip_small_delta/vendor_name=CMT/part-00048-c5a6ad82-8967-4bcd-b103-f64a1642b862.c000.snappy.parquet"
        ],
        [
         "dbfs:/user/hive/warehouse/trip_db.db/trip_small_delta/vendor_name=CMT/part-00049-1ef7850e-d8cf-490c-98cc-fd83887bc95a.c000.snappy.parquet"
        ],
        [
         "dbfs:/user/hive/warehouse/trip_db.db/trip_small_delta/vendor_name=CMT/part-00049-5c888b43-4d1c-4e7d-9630-5b4ef36cb0ec.c000.snappy.parquet"
        ],
        [
         "dbfs:/user/hive/warehouse/trip_db.db/trip_small_delta/vendor_name=CMT/part-00050-6a67ae6d-0437-4078-8c0e-1e6820c281f4.c000.snappy.parquet"
        ],
        [
         "dbfs:/user/hive/warehouse/trip_db.db/trip_small_delta/vendor_name=CMT/part-00050-fca143bf-6e7c-4b1e-9d7a-4c67191c03e6.c000.snappy.parquet"
        ],
        [
         "dbfs:/user/hive/warehouse/trip_db.db/trip_small_delta/vendor_name=CMT/part-00051-3216156e-7ed5-4f92-99e9-e99be21d558d.c000.snappy.parquet"
        ],
        [
         "dbfs:/user/hive/warehouse/trip_db.db/trip_small_delta/vendor_name=CMT/part-00051-f0ab226e-582c-46df-8a9a-b7cabba56fba.c000.snappy.parquet"
        ],
        [
         "dbfs:/user/hive/warehouse/trip_db.db/trip_small_delta/vendor_name=CMT/part-00052-24d81fb2-e41f-4ad9-a0bc-2c7602c2a9f9.c000.snappy.parquet"
        ],
        [
         "dbfs:/user/hive/warehouse/trip_db.db/trip_small_delta/vendor_name=CMT/part-00052-7d3ecc65-34ad-45d3-a7d5-751dbe178665.c000.snappy.parquet"
        ],
        [
         "dbfs:/user/hive/warehouse/trip_db.db/trip_small_delta/vendor_name=CMT/part-00053-3f0a258a-e8f3-471e-b8d6-3bc786520153.c000.snappy.parquet"
        ],
        [
         "dbfs:/user/hive/warehouse/trip_db.db/trip_small_delta/vendor_name=CMT/part-00053-7f9225f2-4638-4578-86c2-9603e9668a05.c000.snappy.parquet"
        ],
        [
         "dbfs:/user/hive/warehouse/trip_db.db/trip_small_delta/vendor_name=CMT/part-00054-061f738c-34e3-4089-a43e-ca1df090fe34.c000.snappy.parquet"
        ],
        [
         "dbfs:/user/hive/warehouse/trip_db.db/trip_small_delta/vendor_name=CMT/part-00054-22c4e699-5f35-493b-a60c-6d2e1e5502fa.c000.snappy.parquet"
        ],
        [
         "dbfs:/user/hive/warehouse/trip_db.db/trip_small_delta/vendor_name=CMT/part-00055-b5964341-3cf6-4029-8e39-a640688e9d64.c000.snappy.parquet"
        ],
        [
         "dbfs:/user/hive/warehouse/trip_db.db/trip_small_delta/vendor_name=CMT/part-00055-e36f84a6-ada4-425c-89b0-9c2d1629736b.c000.snappy.parquet"
        ],
        [
         "dbfs:/user/hive/warehouse/trip_db.db/trip_small_delta/vendor_name=CMT/part-00056-1e270203-004d-4c39-a16d-81803fdbb3ef.c000.snappy.parquet"
        ],
        [
         "dbfs:/user/hive/warehouse/trip_db.db/trip_small_delta/vendor_name=CMT/part-00056-f4e15b0c-4077-4d65-9929-bdec5dca3e3c.c000.snappy.parquet"
        ],
        [
         "dbfs:/user/hive/warehouse/trip_db.db/trip_small_delta/vendor_name=CMT/part-00057-a217737c-c472-4ecb-ac85-6ddd973c02fb.c000.snappy.parquet"
        ],
        [
         "dbfs:/user/hive/warehouse/trip_db.db/trip_small_delta/vendor_name=CMT/part-00057-a7c007a0-e179-4518-bca0-f46bb9fdd132.c000.snappy.parquet"
        ],
        [
         "dbfs:/user/hive/warehouse/trip_db.db/trip_small_delta/vendor_name=CMT/part-00058-294eddab-c58f-4634-b940-e1cee17f2fb3.c000.snappy.parquet"
        ],
        [
         "dbfs:/user/hive/warehouse/trip_db.db/trip_small_delta/vendor_name=CMT/part-00058-d5d32edc-7561-46e6-85c8-967abf6cfb0f.c000.snappy.parquet"
        ],
        [
         "dbfs:/user/hive/warehouse/trip_db.db/trip_small_delta/vendor_name=CMT/part-00059-97ccb97e-a343-4341-874a-6c3c57e0c4ef.c000.snappy.parquet"
        ],
        [
         "dbfs:/user/hive/warehouse/trip_db.db/trip_small_delta/vendor_name=CMT/part-00059-f128fbfb-6fc6-4b4f-b22c-f15213eaefd2.c000.snappy.parquet"
        ],
        [
         "dbfs:/user/hive/warehouse/trip_db.db/trip_small_delta/vendor_name=CMT/part-00060-126fbd4a-c4a5-437e-9b53-da45b1c801ab.c000.snappy.parquet"
        ],
        [
         "dbfs:/user/hive/warehouse/trip_db.db/trip_small_delta/vendor_name=CMT/part-00060-b2ecdebd-7940-49dd-bd7f-32ad1c1925a4.c000.snappy.parquet"
        ],
        [
         "dbfs:/user/hive/warehouse/trip_db.db/trip_small_delta/vendor_name=CMT/part-00061-d70b81c5-6151-4cdd-a3e7-02438d06f967.c000.snappy.parquet"
        ],
        [
         "dbfs:/user/hive/warehouse/trip_db.db/trip_small_delta/vendor_name=CMT/part-00061-f68a874c-52cc-4e48-b07b-1e6779e6a317.c000.snappy.parquet"
        ],
        [
         "dbfs:/user/hive/warehouse/trip_db.db/trip_small_delta/vendor_name=CMT/part-00062-40f129e5-3216-403a-93cd-0e924f6700a9.c000.snappy.parquet"
        ],
        [
         "dbfs:/user/hive/warehouse/trip_db.db/trip_small_delta/vendor_name=CMT/part-00062-dd3bd0f2-8acf-4670-826f-8f43e57ec99e.c000.snappy.parquet"
        ],
        [
         "dbfs:/user/hive/warehouse/trip_db.db/trip_small_delta/vendor_name=CMT/part-00063-2ac3a7c6-200f-480f-b4d5-1eeae0aa98c4.c000.snappy.parquet"
        ],
        [
         "dbfs:/user/hive/warehouse/trip_db.db/trip_small_delta/vendor_name=CMT/part-00063-d4c23361-9b33-456d-a782-aa6098a1a86b.c000.snappy.parquet"
        ],
        [
         "dbfs:/user/hive/warehouse/trip_db.db/trip_small_delta/vendor_name=CMT/part-00064-477c3e81-ff18-452e-a19c-9cd8e90e4d59.c000.snappy.parquet"
        ],
        [
         "dbfs:/user/hive/warehouse/trip_db.db/trip_small_delta/vendor_name=CMT/part-00064-ecdcadc1-bfcc-4f8c-a66d-723633ad364e.c000.snappy.parquet"
        ],
        [
         "dbfs:/user/hive/warehouse/trip_db.db/trip_small_delta/vendor_name=CMT/part-00065-84f2b3e1-50c4-4d87-8f13-09505dbcc091.c000.snappy.parquet"
        ],
        [
         "dbfs:/user/hive/warehouse/trip_db.db/trip_small_delta/vendor_name=CMT/part-00065-ecb426ef-7ad4-41a2-96cb-624b65fed089.c000.snappy.parquet"
        ],
        [
         "dbfs:/user/hive/warehouse/trip_db.db/trip_small_delta/vendor_name=CMT/part-00066-4d06e46b-0e2a-41f8-a10d-d5a9bb505bdb.c000.snappy.parquet"
        ],
        [
         "dbfs:/user/hive/warehouse/trip_db.db/trip_small_delta/vendor_name=CMT/part-00066-6d1f47bc-4aba-4ce2-9b00-e4f65bc9578c.c000.snappy.parquet"
        ],
        [
         "dbfs:/user/hive/warehouse/trip_db.db/trip_small_delta/vendor_name=CMT/part-00067-acf027ac-0b8b-4fcd-b6c7-cd2ed274c892.c000.snappy.parquet"
        ],
        [
         "dbfs:/user/hive/warehouse/trip_db.db/trip_small_delta/vendor_name=CMT/part-00067-fdb6b1a7-068a-47d7-ada2-1e715a5a0274.c000.snappy.parquet"
        ],
        [
         "dbfs:/user/hive/warehouse/trip_db.db/trip_small_delta/vendor_name=CMT/part-00068-518fba8b-b786-4e5b-88c1-0649dd6b835c.c000.snappy.parquet"
        ],
        [
         "dbfs:/user/hive/warehouse/trip_db.db/trip_small_delta/vendor_name=CMT/part-00068-792089e5-ad31-40a0-8aa9-839aaac74c08.c000.snappy.parquet"
        ],
        [
         "dbfs:/user/hive/warehouse/trip_db.db/trip_small_delta/vendor_name=CMT/part-00069-2b48804c-82c3-4f80-8a0c-f2afd6df6e54.c000.snappy.parquet"
        ],
        [
         "dbfs:/user/hive/warehouse/trip_db.db/trip_small_delta/vendor_name=CMT/part-00069-7b240814-28fa-488a-8b6e-d55d0458f7fb.c000.snappy.parquet"
        ],
        [
         "dbfs:/user/hive/warehouse/trip_db.db/trip_small_delta/vendor_name=CMT/part-00070-66cf109b-1851-4b29-92d9-c116e9845fa2.c000.snappy.parquet"
        ],
        [
         "dbfs:/user/hive/warehouse/trip_db.db/trip_small_delta/vendor_name=CMT/part-00070-97a975f6-aa93-4828-b728-6a112e0fe618.c000.snappy.parquet"
        ],
        [
         "dbfs:/user/hive/warehouse/trip_db.db/trip_small_delta/vendor_name=CMT/part-00071-31975d87-9ccb-452a-9cd7-6ac34ca74554.c000.snappy.parquet"
        ],
        [
         "dbfs:/user/hive/warehouse/trip_db.db/trip_small_delta/vendor_name=CMT/part-00071-bab282f3-d759-4560-918d-b32df7f82c09.c000.snappy.parquet"
        ],
        [
         "dbfs:/user/hive/warehouse/trip_db.db/trip_small_delta/vendor_name=CMT/part-00072-1ea9572b-940b-4ad5-950e-33e928487c7e.c000.snappy.parquet"
        ],
        [
         "dbfs:/user/hive/warehouse/trip_db.db/trip_small_delta/vendor_name=CMT/part-00072-5898cfea-fb6e-47ea-b46b-b29c9a48b580.c000.snappy.parquet"
        ],
        [
         "dbfs:/user/hive/warehouse/trip_db.db/trip_small_delta/vendor_name=CMT/part-00073-71a601b9-fac0-48a7-b73d-9269ee92f3a1.c000.snappy.parquet"
        ],
        [
         "dbfs:/user/hive/warehouse/trip_db.db/trip_small_delta/vendor_name=CMT/part-00073-cbdb637b-85c2-4d2c-b1b4-053b95f21bbb.c000.snappy.parquet"
        ],
        [
         "dbfs:/user/hive/warehouse/trip_db.db/trip_small_delta/vendor_name=CMT/part-00074-255dc74a-b8d9-44f7-959a-44de098b67f8.c000.snappy.parquet"
        ],
        [
         "dbfs:/user/hive/warehouse/trip_db.db/trip_small_delta/vendor_name=CMT/part-00074-47e5df0f-a2f0-432c-b942-bc3bd2adb059.c000.snappy.parquet"
        ],
        [
         "dbfs:/user/hive/warehouse/trip_db.db/trip_small_delta/vendor_name=CMT/part-00075-215f79e1-470e-4c3d-adbe-19301f19fb4c.c000.snappy.parquet"
        ],
        [
         "dbfs:/user/hive/warehouse/trip_db.db/trip_small_delta/vendor_name=CMT/part-00075-c75a6e3d-dd21-4e67-821c-8132fd221166.c000.snappy.parquet"
        ],
        [
         "dbfs:/user/hive/warehouse/trip_db.db/trip_small_delta/vendor_name=CMT/part-00076-3360610b-f7c2-42f0-9592-a02511562697.c000.snappy.parquet"
        ],
        [
         "dbfs:/user/hive/warehouse/trip_db.db/trip_small_delta/vendor_name=CMT/part-00076-58c81315-49b9-4db8-a21e-e2b84fd7e654.c000.snappy.parquet"
        ],
        [
         "dbfs:/user/hive/warehouse/trip_db.db/trip_small_delta/vendor_name=CMT/part-00077-0b9bfe6a-76a8-48da-91a5-d1f0a3f51cca.c000.snappy.parquet"
        ],
        [
         "dbfs:/user/hive/warehouse/trip_db.db/trip_small_delta/vendor_name=CMT/part-00077-62741410-0cd8-411e-a766-afbbe8629716.c000.snappy.parquet"
        ],
        [
         "dbfs:/user/hive/warehouse/trip_db.db/trip_small_delta/vendor_name=CMT/part-00078-b51ab8a5-bcf3-4f2f-aae7-47cb7ca20401.c000.snappy.parquet"
        ],
        [
         "dbfs:/user/hive/warehouse/trip_db.db/trip_small_delta/vendor_name=CMT/part-00078-f057be68-686b-469d-a26b-e48d194fabeb.c000.snappy.parquet"
        ],
        [
         "dbfs:/user/hive/warehouse/trip_db.db/trip_small_delta/vendor_name=CMT/part-00079-d74881cd-4028-402f-ad04-a5d5b398a216.c000.snappy.parquet"
        ],
        [
         "dbfs:/user/hive/warehouse/trip_db.db/trip_small_delta/vendor_name=CMT/part-00079-f0584f1c-97a2-431d-b24b-e3efa46a5960.c000.snappy.parquet"
        ],
        [
         "dbfs:/user/hive/warehouse/trip_db.db/trip_small_delta/vendor_name=CMT/part-00080-2b579fa4-bf76-47e9-9f03-8de1749462f9.c000.snappy.parquet"
        ],
        [
         "dbfs:/user/hive/warehouse/trip_db.db/trip_small_delta/vendor_name=CMT/part-00080-40232af9-77eb-4f62-96cb-4208110ed3c3.c000.snappy.parquet"
        ],
        [
         "dbfs:/user/hive/warehouse/trip_db.db/trip_small_delta/vendor_name=CMT/part-00081-1569f310-fc08-46ab-957b-b12d975d3dce.c000.snappy.parquet"
        ],
        [
         "dbfs:/user/hive/warehouse/trip_db.db/trip_small_delta/vendor_name=CMT/part-00081-8267b8a4-5732-4dca-83aa-88c1737559c0.c000.snappy.parquet"
        ],
        [
         "dbfs:/user/hive/warehouse/trip_db.db/trip_small_delta/vendor_name=CMT/part-00082-60cddc53-77b7-4b0d-9551-c73317399af0.c000.snappy.parquet"
        ],
        [
         "dbfs:/user/hive/warehouse/trip_db.db/trip_small_delta/vendor_name=CMT/part-00082-ae4f0a99-60c4-480b-90ef-d6d84422861c.c000.snappy.parquet"
        ],
        [
         "dbfs:/user/hive/warehouse/trip_db.db/trip_small_delta/vendor_name=CMT/part-00083-022a3106-70b4-4b3e-a6a4-e4953a92e094.c000.snappy.parquet"
        ],
        [
         "dbfs:/user/hive/warehouse/trip_db.db/trip_small_delta/vendor_name=CMT/part-00083-e61882b8-385a-4c70-9506-3f4649befa44.c000.snappy.parquet"
        ],
        [
         "dbfs:/user/hive/warehouse/trip_db.db/trip_small_delta/vendor_name=CMT/part-00084-8cf0a467-4052-4571-8099-938466410fbe.c000.snappy.parquet"
        ],
        [
         "dbfs:/user/hive/warehouse/trip_db.db/trip_small_delta/vendor_name=CMT/part-00084-f2ef30bd-e4ce-4a3a-bed2-637e216e9640.c000.snappy.parquet"
        ],
        [
         "dbfs:/user/hive/warehouse/trip_db.db/trip_small_delta/vendor_name=CMT/part-00085-5a12da29-fe34-4165-a44e-281f22b5d919.c000.snappy.parquet"
        ],
        [
         "dbfs:/user/hive/warehouse/trip_db.db/trip_small_delta/vendor_name=CMT/part-00085-aa501742-4b07-44ce-8e00-4d775350c6b2.c000.snappy.parquet"
        ],
        [
         "dbfs:/user/hive/warehouse/trip_db.db/trip_small_delta/vendor_name=CMT/part-00086-3380d165-c70d-4895-8e25-820381fa2341.c000.snappy.parquet"
        ],
        [
         "dbfs:/user/hive/warehouse/trip_db.db/trip_small_delta/vendor_name=CMT/part-00086-80568ca2-97d6-4e8d-b10d-91633d3fde6d.c000.snappy.parquet"
        ],
        [
         "dbfs:/user/hive/warehouse/trip_db.db/trip_small_delta/vendor_name=CMT/part-00087-5fd37aa3-030f-430c-a236-0e0af1dfc7f4.c000.snappy.parquet"
        ],
        [
         "dbfs:/user/hive/warehouse/trip_db.db/trip_small_delta/vendor_name=CMT/part-00087-76dbc782-b901-42db-b85f-5ef7a2db6e2a.c000.snappy.parquet"
        ],
        [
         "dbfs:/user/hive/warehouse/trip_db.db/trip_small_delta/vendor_name=CMT/part-00088-20488149-cb41-47ee-af2d-3360f2b0d16a.c000.snappy.parquet"
        ],
        [
         "dbfs:/user/hive/warehouse/trip_db.db/trip_small_delta/vendor_name=CMT/part-00088-b9efd22b-e065-4cbc-862e-36b0a14cb9a4.c000.snappy.parquet"
        ],
        [
         "dbfs:/user/hive/warehouse/trip_db.db/trip_small_delta/vendor_name=CMT/part-00089-23546adb-1840-44f7-9623-0c779670fd8d.c000.snappy.parquet"
        ],
        [
         "dbfs:/user/hive/warehouse/trip_db.db/trip_small_delta/vendor_name=CMT/part-00089-31767fb5-5346-4e5c-b3b5-53766a3c74fb.c000.snappy.parquet"
        ],
        [
         "dbfs:/user/hive/warehouse/trip_db.db/trip_small_delta/vendor_name=CMT/part-00090-96c30d2e-70a6-4dab-bbd6-e0e2dbeb41d5.c000.snappy.parquet"
        ],
        [
         "dbfs:/user/hive/warehouse/trip_db.db/trip_small_delta/vendor_name=CMT/part-00090-e803b896-31a6-4630-9844-388a3b759d6b.c000.snappy.parquet"
        ],
        [
         "dbfs:/user/hive/warehouse/trip_db.db/trip_small_delta/vendor_name=CMT/part-00091-8ed59c5f-8685-4daf-aeff-c18db9ad551a.c000.snappy.parquet"
        ],
        [
         "dbfs:/user/hive/warehouse/trip_db.db/trip_small_delta/vendor_name=CMT/part-00091-cb437b6a-eb25-4ae1-8d7a-b59cc5213d91.c000.snappy.parquet"
        ],
        [
         "dbfs:/user/hive/warehouse/trip_db.db/trip_small_delta/vendor_name=CMT/part-00092-931f91d0-9019-4088-80ac-18e694cff1ae.c000.snappy.parquet"
        ],
        [
         "dbfs:/user/hive/warehouse/trip_db.db/trip_small_delta/vendor_name=CMT/part-00092-a555d512-43f7-44c8-83d6-fe4ac75a4aa5.c000.snappy.parquet"
        ],
        [
         "dbfs:/user/hive/warehouse/trip_db.db/trip_small_delta/vendor_name=CMT/part-00093-12a27b0f-b9e6-474e-854b-47c9323e9bcd.c000.snappy.parquet"
        ],
        [
         "dbfs:/user/hive/warehouse/trip_db.db/trip_small_delta/vendor_name=CMT/part-00093-dabfdbd8-6eef-474a-a8c4-a5ff59238dd7.c000.snappy.parquet"
        ],
        [
         "dbfs:/user/hive/warehouse/trip_db.db/trip_small_delta/vendor_name=CMT/part-00094-673eac44-0363-4e35-9666-243b1baf44d5.c000.snappy.parquet"
        ],
        [
         "dbfs:/user/hive/warehouse/trip_db.db/trip_small_delta/vendor_name=CMT/part-00094-818f8655-8d0d-46d1-9709-180a45f94d8a.c000.snappy.parquet"
        ],
        [
         "dbfs:/user/hive/warehouse/trip_db.db/trip_small_delta/vendor_name=CMT/part-00095-263d67df-9d5d-4527-8e67-d95c0f774bd8.c000.snappy.parquet"
        ],
        [
         "dbfs:/user/hive/warehouse/trip_db.db/trip_small_delta/vendor_name=CMT/part-00095-6f86c47c-c9ea-490e-96a8-1eb9c7d5d27c.c000.snappy.parquet"
        ],
        [
         "dbfs:/user/hive/warehouse/trip_db.db/trip_small_delta/vendor_name=CMT/part-00096-38aa1b9c-b99e-4ae3-900d-a712eb6a22c8.c000.snappy.parquet"
        ],
        [
         "dbfs:/user/hive/warehouse/trip_db.db/trip_small_delta/vendor_name=CMT/part-00096-71c918ba-5f7a-43ca-8ba8-7bf539de7837.c000.snappy.parquet"
        ],
        [
         "dbfs:/user/hive/warehouse/trip_db.db/trip_small_delta/vendor_name=CMT/part-00097-7f2607b4-f9ae-4a68-9213-e929c8a004a5.c000.snappy.parquet"
        ],
        [
         "dbfs:/user/hive/warehouse/trip_db.db/trip_small_delta/vendor_name=CMT/part-00097-c2988e75-1ea5-4364-ba38-f962da5755b7.c000.snappy.parquet"
        ],
        [
         "dbfs:/user/hive/warehouse/trip_db.db/trip_small_delta/vendor_name=CMT/part-00098-78c59b7c-4399-4cbe-8aa4-871addfc2f57.c000.snappy.parquet"
        ],
        [
         "dbfs:/user/hive/warehouse/trip_db.db/trip_small_delta/vendor_name=CMT/part-00098-7b42ce19-83c5-43e3-a9ff-c110f0225496.c000.snappy.parquet"
        ],
        [
         "dbfs:/user/hive/warehouse/trip_db.db/trip_small_delta/vendor_name=CMT/part-00099-b15eea71-fe91-43d1-8e0e-5f07ef6eb291.c000.snappy.parquet"
        ],
        [
         "dbfs:/user/hive/warehouse/trip_db.db/trip_small_delta/vendor_name=CMT/part-00099-ce047368-00a8-4041-abc9-73184edef963.c000.snappy.parquet"
        ],
        [
         "dbfs:/user/hive/warehouse/trip_db.db/trip_small_delta/vendor_name=CMT/part-00100-e83aaa8e-0ea5-4ad9-92de-c7475ab7e2f4.c000.snappy.parquet"
        ],
        [
         "dbfs:/user/hive/warehouse/trip_db.db/trip_small_delta/vendor_name=CMT/part-00100-f00a2fc7-ecfa-4053-b711-6fed45826271.c000.snappy.parquet"
        ],
        [
         "dbfs:/user/hive/warehouse/trip_db.db/trip_small_delta/vendor_name=CMT/part-00101-0e089078-f653-4451-a85b-d21736851e89.c000.snappy.parquet"
        ],
        [
         "dbfs:/user/hive/warehouse/trip_db.db/trip_small_delta/vendor_name=CMT/part-00101-609f9157-2a4e-4fc6-85cd-1831031d3ead.c000.snappy.parquet"
        ],
        [
         "dbfs:/user/hive/warehouse/trip_db.db/trip_small_delta/vendor_name=CMT/part-00102-739e0136-e2fd-4d48-b3a6-bf9af081ed07.c000.snappy.parquet"
        ],
        [
         "dbfs:/user/hive/warehouse/trip_db.db/trip_small_delta/vendor_name=CMT/part-00102-a14a775e-7565-4ebb-94ed-45f4fdfd876d.c000.snappy.parquet"
        ],
        [
         "dbfs:/user/hive/warehouse/trip_db.db/trip_small_delta/vendor_name=CMT/part-00103-8d457cea-6279-4abb-843e-402b6730c693.c000.snappy.parquet"
        ],
        [
         "dbfs:/user/hive/warehouse/trip_db.db/trip_small_delta/vendor_name=CMT/part-00103-fe09037a-6640-425a-bed0-57a1590c3428.c000.snappy.parquet"
        ],
        [
         "dbfs:/user/hive/warehouse/trip_db.db/trip_small_delta/vendor_name=CMT/part-00104-795dc7b0-8362-48ca-b6a6-51e0b9786b06.c000.snappy.parquet"
        ],
        [
         "dbfs:/user/hive/warehouse/trip_db.db/trip_small_delta/vendor_name=CMT/part-00104-fde189c8-b86e-4afc-8a02-a3f7893a370a.c000.snappy.parquet"
        ],
        [
         "dbfs:/user/hive/warehouse/trip_db.db/trip_small_delta/vendor_name=CMT/part-00105-206f39cb-0abb-46fe-9ac3-ca4123181406.c000.snappy.parquet"
        ],
        [
         "dbfs:/user/hive/warehouse/trip_db.db/trip_small_delta/vendor_name=CMT/part-00105-8514d492-f9f9-4cde-86ab-4f47309b652a.c000.snappy.parquet"
        ],
        [
         "dbfs:/user/hive/warehouse/trip_db.db/trip_small_delta/vendor_name=CMT/part-00106-9a3bc72c-0c93-4202-b2a1-fd9292f75cb8.c000.snappy.parquet"
        ],
        [
         "dbfs:/user/hive/warehouse/trip_db.db/trip_small_delta/vendor_name=CMT/part-00106-b0c583d9-6a82-4086-b760-b419e731401e.c000.snappy.parquet"
        ],
        [
         "dbfs:/user/hive/warehouse/trip_db.db/trip_small_delta/vendor_name=CMT/part-00107-4c9f9489-0aed-4fa8-b3e2-b04e14dc039a.c000.snappy.parquet"
        ],
        [
         "dbfs:/user/hive/warehouse/trip_db.db/trip_small_delta/vendor_name=CMT/part-00107-f84e2218-a9af-4c93-ac27-4a9a2ed8fdb6.c000.snappy.parquet"
        ],
        [
         "dbfs:/user/hive/warehouse/trip_db.db/trip_small_delta/vendor_name=CMT/part-00108-85cf68f5-8f16-4bf3-948f-12505a0f7d46.c000.snappy.parquet"
        ],
        [
         "dbfs:/user/hive/warehouse/trip_db.db/trip_small_delta/vendor_name=CMT/part-00108-a45b3e3c-c41b-409d-964f-ed7ff69808de.c000.snappy.parquet"
        ],
        [
         "dbfs:/user/hive/warehouse/trip_db.db/trip_small_delta/vendor_name=CMT/part-00109-64a82147-fdee-4c35-9310-6d47a3c5a57c.c000.snappy.parquet"
        ],
        [
         "dbfs:/user/hive/warehouse/trip_db.db/trip_small_delta/vendor_name=CMT/part-00109-bbdb0650-38f6-42fd-acdb-312fd135b30c.c000.snappy.parquet"
        ],
        [
         "dbfs:/user/hive/warehouse/trip_db.db/trip_small_delta/vendor_name=CMT/part-00110-364b758e-5b48-4200-b05f-1039018c11c5.c000.snappy.parquet"
        ],
        [
         "dbfs:/user/hive/warehouse/trip_db.db/trip_small_delta/vendor_name=CMT/part-00110-c815f276-1bf0-4c7f-9024-54345d117e37.c000.snappy.parquet"
        ],
        [
         "dbfs:/user/hive/warehouse/trip_db.db/trip_small_delta/vendor_name=CMT/part-00111-03ecb818-cd0b-41be-91be-484f5e4a2dfb.c000.snappy.parquet"
        ],
        [
         "dbfs:/user/hive/warehouse/trip_db.db/trip_small_delta/vendor_name=CMT/part-00111-b827ef79-67c9-4b73-96fd-a1c387cdd4a2.c000.snappy.parquet"
        ],
        [
         "dbfs:/user/hive/warehouse/trip_db.db/trip_small_delta/vendor_name=CMT/part-00112-12efa488-e35d-47a1-b000-39038caed90c.c000.snappy.parquet"
        ],
        [
         "dbfs:/user/hive/warehouse/trip_db.db/trip_small_delta/vendor_name=CMT/part-00112-9efaaec0-82ad-4719-9868-744613c3f855.c000.snappy.parquet"
        ],
        [
         "dbfs:/user/hive/warehouse/trip_db.db/trip_small_delta/vendor_name=CMT/part-00113-413a4d6d-997e-4f57-b0a4-f51b499cc269.c000.snappy.parquet"
        ],
        [
         "dbfs:/user/hive/warehouse/trip_db.db/trip_small_delta/vendor_name=CMT/part-00113-d33fddb5-3e7c-4bdf-8235-9424aba5f71c.c000.snappy.parquet"
        ],
        [
         "dbfs:/user/hive/warehouse/trip_db.db/trip_small_delta/vendor_name=CMT/part-00114-5a182504-e926-47ff-967a-761b09c0d791.c000.snappy.parquet"
        ],
        [
         "dbfs:/user/hive/warehouse/trip_db.db/trip_small_delta/vendor_name=CMT/part-00114-e0f32fda-d7ae-4379-8587-ed918f63c3c5.c000.snappy.parquet"
        ],
        [
         "dbfs:/user/hive/warehouse/trip_db.db/trip_small_delta/vendor_name=CMT/part-00115-43ea6b8f-6b28-4dd3-9678-3353edadd5fa.c000.snappy.parquet"
        ],
        [
         "dbfs:/user/hive/warehouse/trip_db.db/trip_small_delta/vendor_name=CMT/part-00115-7c7ad4e1-0a42-43e7-b8c6-af58333adf32.c000.snappy.parquet"
        ],
        [
         "dbfs:/user/hive/warehouse/trip_db.db/trip_small_delta/vendor_name=CMT/part-00116-24babb12-2048-4bb7-9fc2-cf3924ea4e6b.c000.snappy.parquet"
        ],
        [
         "dbfs:/user/hive/warehouse/trip_db.db/trip_small_delta/vendor_name=CMT/part-00116-4bc4361e-21bd-4680-9923-e40a5655b4aa.c000.snappy.parquet"
        ],
        [
         "dbfs:/user/hive/warehouse/trip_db.db/trip_small_delta/vendor_name=CMT/part-00117-80e718b9-f6c3-4894-8b95-4491af883f14.c000.snappy.parquet"
        ],
        [
         "dbfs:/user/hive/warehouse/trip_db.db/trip_small_delta/vendor_name=CMT/part-00117-916f4501-dba6-4d97-9fca-2756081bed68.c000.snappy.parquet"
        ],
        [
         "dbfs:/user/hive/warehouse/trip_db.db/trip_small_delta/vendor_name=CMT/part-00118-07d35c21-7be7-4904-8661-cb879f0ae095.c000.snappy.parquet"
        ],
        [
         "dbfs:/user/hive/warehouse/trip_db.db/trip_small_delta/vendor_name=CMT/part-00118-7ff546a8-5eeb-45f1-a2c8-2ec5a717f009.c000.snappy.parquet"
        ],
        [
         "dbfs:/user/hive/warehouse/trip_db.db/trip_small_delta/vendor_name=CMT/part-00119-11d44045-8958-4a0b-b911-5236f16d5898.c000.snappy.parquet"
        ],
        [
         "dbfs:/user/hive/warehouse/trip_db.db/trip_small_delta/vendor_name=CMT/part-00119-fb055868-8708-42f3-a68f-bb77a0c1c0ac.c000.snappy.parquet"
        ],
        [
         "dbfs:/user/hive/warehouse/trip_db.db/trip_small_delta/vendor_name=CMT/part-00120-638a9001-957a-4697-9963-ac5e9128b448.c000.snappy.parquet"
        ],
        [
         "dbfs:/user/hive/warehouse/trip_db.db/trip_small_delta/vendor_name=CMT/part-00120-a7b8b69a-d780-4a98-bb62-fedad2502eed.c000.snappy.parquet"
        ],
        [
         "dbfs:/user/hive/warehouse/trip_db.db/trip_small_delta/vendor_name=CMT/part-00121-c0c1bb5b-a40f-496b-b76b-8f7e8348211f.c000.snappy.parquet"
        ],
        [
         "dbfs:/user/hive/warehouse/trip_db.db/trip_small_delta/vendor_name=CMT/part-00121-cf55ca31-f23f-4824-83cc-ac8eadae9fe2.c000.snappy.parquet"
        ],
        [
         "dbfs:/user/hive/warehouse/trip_db.db/trip_small_delta/vendor_name=CMT/part-00122-46b435a1-74a3-40ec-87f5-00ccd835868d.c000.snappy.parquet"
        ],
        [
         "dbfs:/user/hive/warehouse/trip_db.db/trip_small_delta/vendor_name=CMT/part-00122-dbdef392-93ed-4b15-afa3-b2d628685b49.c000.snappy.parquet"
        ],
        [
         "dbfs:/user/hive/warehouse/trip_db.db/trip_small_delta/vendor_name=CMT/part-00123-0e3f53f9-eb03-4cc1-8848-fef90e2e1e2f.c000.snappy.parquet"
        ],
        [
         "dbfs:/user/hive/warehouse/trip_db.db/trip_small_delta/vendor_name=CMT/part-00123-bf8b5d1d-ddc4-451b-8b7f-f91d718b19c8.c000.snappy.parquet"
        ],
        [
         "dbfs:/user/hive/warehouse/trip_db.db/trip_small_delta/vendor_name=CMT/part-00124-46b5a50f-94cc-4f61-8c35-5f0c1cd71385.c000.snappy.parquet"
        ],
        [
         "dbfs:/user/hive/warehouse/trip_db.db/trip_small_delta/vendor_name=CMT/part-00124-85de580a-129d-4636-b6f6-f824275c914f.c000.snappy.parquet"
        ],
        [
         "dbfs:/user/hive/warehouse/trip_db.db/trip_small_delta/vendor_name=CMT/part-00125-a66c4b7f-35b9-4d90-9ef5-e59679a6b6aa.c000.snappy.parquet"
        ],
        [
         "dbfs:/user/hive/warehouse/trip_db.db/trip_small_delta/vendor_name=CMT/part-00125-c7963aa4-1dc1-4a9b-a009-331e720d11ed.c000.snappy.parquet"
        ],
        [
         "dbfs:/user/hive/warehouse/trip_db.db/trip_small_delta/vendor_name=CMT/part-00126-17f6bb1b-4d1a-4e9f-9612-f1fce03bfeef.c000.snappy.parquet"
        ],
        [
         "dbfs:/user/hive/warehouse/trip_db.db/trip_small_delta/vendor_name=CMT/part-00126-984d93b1-091c-44d2-9d34-7f7ab98fd7dd.c000.snappy.parquet"
        ],
        [
         "dbfs:/user/hive/warehouse/trip_db.db/trip_small_delta/vendor_name=CMT/part-00127-10033cea-e89d-45d3-807c-c743d508b2cd.c000.snappy.parquet"
        ],
        [
         "dbfs:/user/hive/warehouse/trip_db.db/trip_small_delta/vendor_name=CMT/part-00127-80f9d7b0-f99c-4792-996e-74e7d54a8e4f.c000.snappy.parquet"
        ],
        [
         "dbfs:/user/hive/warehouse/trip_db.db/trip_small_delta/vendor_name=CMT/part-00128-6be1dafa-b942-4c56-98fc-b46d2d616fea.c000.snappy.parquet"
        ],
        [
         "dbfs:/user/hive/warehouse/trip_db.db/trip_small_delta/vendor_name=CMT/part-00128-fd9a96aa-208d-4f59-9385-a5b412f60d1f.c000.snappy.parquet"
        ],
        [
         "dbfs:/user/hive/warehouse/trip_db.db/trip_small_delta/vendor_name=CMT/part-00129-748889d4-f3f9-40c9-a72f-4223ad124c01.c000.snappy.parquet"
        ],
        [
         "dbfs:/user/hive/warehouse/trip_db.db/trip_small_delta/vendor_name=CMT/part-00129-75572f11-2208-44cb-944a-d7083f8ad9b2.c000.snappy.parquet"
        ],
        [
         "dbfs:/user/hive/warehouse/trip_db.db/trip_small_delta/vendor_name=CMT/part-00130-15b59dfa-37ad-4899-96f2-d7b074d0b4ec.c000.snappy.parquet"
        ],
        [
         "dbfs:/user/hive/warehouse/trip_db.db/trip_small_delta/vendor_name=CMT/part-00130-a0dded22-e317-44ca-a814-4b03701c982d.c000.snappy.parquet"
        ],
        [
         "dbfs:/user/hive/warehouse/trip_db.db/trip_small_delta/vendor_name=CMT/part-00131-47570354-d459-42c2-87bf-b06d715a48e6.c000.snappy.parquet"
        ],
        [
         "dbfs:/user/hive/warehouse/trip_db.db/trip_small_delta/vendor_name=CMT/part-00131-9f9e61bb-579f-4dba-b64a-2f350259218d.c000.snappy.parquet"
        ],
        [
         "dbfs:/user/hive/warehouse/trip_db.db/trip_small_delta/vendor_name=CMT/part-00132-0cb84e04-50f1-44fc-8f4a-b638a65f50b8.c000.snappy.parquet"
        ],
        [
         "dbfs:/user/hive/warehouse/trip_db.db/trip_small_delta/vendor_name=CMT/part-00132-11a3ab46-c24c-48d3-8324-1e3efc0f0b9c.c000.snappy.parquet"
        ],
        [
         "dbfs:/user/hive/warehouse/trip_db.db/trip_small_delta/vendor_name=CMT/part-00133-972f4505-c3f9-4095-bde8-1889c35bf1a9.c000.snappy.parquet"
        ],
        [
         "dbfs:/user/hive/warehouse/trip_db.db/trip_small_delta/vendor_name=CMT/part-00133-a891b3bc-e2d2-4619-bc1d-480e54341b90.c000.snappy.parquet"
        ],
        [
         "dbfs:/user/hive/warehouse/trip_db.db/trip_small_delta/vendor_name=CMT/part-00134-956d1f4a-1e74-4104-ae08-2ac52fcf81b1.c000.snappy.parquet"
        ],
        [
         "dbfs:/user/hive/warehouse/trip_db.db/trip_small_delta/vendor_name=CMT/part-00134-be030e62-561e-4738-bc1b-c46c34086ff1.c000.snappy.parquet"
        ],
        [
         "dbfs:/user/hive/warehouse/trip_db.db/trip_small_delta/vendor_name=CMT/part-00135-193358be-4d52-48ba-9ace-146b761d2d67.c000.snappy.parquet"
        ],
        [
         "dbfs:/user/hive/warehouse/trip_db.db/trip_small_delta/vendor_name=CMT/part-00135-5f761b24-1c5a-4e8a-83fb-ce934c4053d8.c000.snappy.parquet"
        ],
        [
         "dbfs:/user/hive/warehouse/trip_db.db/trip_small_delta/vendor_name=CMT/part-00136-dd81ccc1-8adf-42b9-ae10-d5fc58d80d2f.c000.snappy.parquet"
        ],
        [
         "dbfs:/user/hive/warehouse/trip_db.db/trip_small_delta/vendor_name=CMT/part-00136-ea92f6e7-c1e1-4f52-8d60-c57fb557c327.c000.snappy.parquet"
        ],
        [
         "dbfs:/user/hive/warehouse/trip_db.db/trip_small_delta/vendor_name=CMT/part-00137-1f4547e0-cefc-4550-9013-b6f1cdc411e6.c000.snappy.parquet"
        ],
        [
         "dbfs:/user/hive/warehouse/trip_db.db/trip_small_delta/vendor_name=CMT/part-00137-481a8496-2e5f-4f79-8fe1-4106f0651c4e.c000.snappy.parquet"
        ],
        [
         "dbfs:/user/hive/warehouse/trip_db.db/trip_small_delta/vendor_name=CMT/part-00138-40051f60-d941-443d-9fcd-7e8918023b92.c000.snappy.parquet"
        ],
        [
         "dbfs:/user/hive/warehouse/trip_db.db/trip_small_delta/vendor_name=CMT/part-00138-817e73a3-d53a-4b2b-b61d-7e8786b1e970.c000.snappy.parquet"
        ],
        [
         "dbfs:/user/hive/warehouse/trip_db.db/trip_small_delta/vendor_name=CMT/part-00139-5a977442-3239-4e6d-8baa-a87d917b3182.c000.snappy.parquet"
        ],
        [
         "dbfs:/user/hive/warehouse/trip_db.db/trip_small_delta/vendor_name=CMT/part-00139-9054b44b-a04c-41cd-8168-edec6254d654.c000.snappy.parquet"
        ],
        [
         "dbfs:/user/hive/warehouse/trip_db.db/trip_small_delta/vendor_name=CMT/part-00140-bd5bda21-9aa8-4939-8a9e-6cb7060ee2a0.c000.snappy.parquet"
        ],
        [
         "dbfs:/user/hive/warehouse/trip_db.db/trip_small_delta/vendor_name=CMT/part-00140-f45647bf-f2ca-445d-aaa1-19fada1c646d.c000.snappy.parquet"
        ],
        [
         "dbfs:/user/hive/warehouse/trip_db.db/trip_small_delta/vendor_name=CMT/part-00141-07b3a72c-1634-4bce-9c23-33b5644b599d.c000.snappy.parquet"
        ],
        [
         "dbfs:/user/hive/warehouse/trip_db.db/trip_small_delta/vendor_name=CMT/part-00141-3722f83c-d223-40a0-af4a-b6f18ec8615a.c000.snappy.parquet"
        ],
        [
         "dbfs:/user/hive/warehouse/trip_db.db/trip_small_delta/vendor_name=CMT/part-00142-31c1b182-ec34-4e8b-b156-b14d4070864d.c000.snappy.parquet"
        ],
        [
         "dbfs:/user/hive/warehouse/trip_db.db/trip_small_delta/vendor_name=CMT/part-00142-4a908637-a75b-432d-bf0e-f0e248a85e46.c000.snappy.parquet"
        ],
        [
         "dbfs:/user/hive/warehouse/trip_db.db/trip_small_delta/vendor_name=CMT/part-00143-0dcd90d7-45e1-420d-add9-e3b5b24e0336.c000.snappy.parquet"
        ],
        [
         "dbfs:/user/hive/warehouse/trip_db.db/trip_small_delta/vendor_name=CMT/part-00143-d1af9e71-9a29-4cfa-ad76-d4cb2e7e8541.c000.snappy.parquet"
        ],
        [
         "dbfs:/user/hive/warehouse/trip_db.db/trip_small_delta/vendor_name=CMT/part-00144-77146814-ca67-410b-9442-866fc8218392.c000.snappy.parquet"
        ],
        [
         "dbfs:/user/hive/warehouse/trip_db.db/trip_small_delta/vendor_name=CMT/part-00144-adf33356-a71a-425c-aa11-402826eb9b87.c000.snappy.parquet"
        ],
        [
         "dbfs:/user/hive/warehouse/trip_db.db/trip_small_delta/vendor_name=CMT/part-00145-73f4055e-ac03-4e12-b7cd-69fff4f2b1a3.c000.snappy.parquet"
        ],
        [
         "dbfs:/user/hive/warehouse/trip_db.db/trip_small_delta/vendor_name=CMT/part-00145-9c4fda91-cde3-4293-b2a4-fc51a5322afd.c000.snappy.parquet"
        ],
        [
         "dbfs:/user/hive/warehouse/trip_db.db/trip_small_delta/vendor_name=CMT/part-00146-2d416079-65c6-4740-953a-43199a967c75.c000.snappy.parquet"
        ],
        [
         "dbfs:/user/hive/warehouse/trip_db.db/trip_small_delta/vendor_name=CMT/part-00146-2e6ab44e-3c40-446c-8328-e96ae28813d3.c000.snappy.parquet"
        ],
        [
         "dbfs:/user/hive/warehouse/trip_db.db/trip_small_delta/vendor_name=CMT/part-00147-0a01a797-c923-4986-b016-2e0bd418602e.c000.snappy.parquet"
        ],
        [
         "dbfs:/user/hive/warehouse/trip_db.db/trip_small_delta/vendor_name=CMT/part-00147-e85b8a77-8c37-4a16-8988-d8607ae286a6.c000.snappy.parquet"
        ],
        [
         "dbfs:/user/hive/warehouse/trip_db.db/trip_small_delta/vendor_name=CMT/part-00148-62e4f11a-ece0-48f9-ac16-e355a9429e7b.c000.snappy.parquet"
        ],
        [
         "dbfs:/user/hive/warehouse/trip_db.db/trip_small_delta/vendor_name=CMT/part-00148-b77c3242-c532-4fbc-bf1a-936e5e3f813b.c000.snappy.parquet"
        ],
        [
         "dbfs:/user/hive/warehouse/trip_db.db/trip_small_delta/vendor_name=CMT/part-00149-18d36e00-7e78-40bc-9739-a3b130803ad5.c000.snappy.parquet"
        ],
        [
         "dbfs:/user/hive/warehouse/trip_db.db/trip_small_delta/vendor_name=CMT/part-00149-509206f7-2cd5-4fa1-9690-670fd920ef9e.c000.snappy.parquet"
        ],
        [
         "dbfs:/user/hive/warehouse/trip_db.db/trip_small_delta/vendor_name=CMT/part-00150-2e737d41-f812-48af-ab2f-11766aa41d38.c000.snappy.parquet"
        ],
        [
         "dbfs:/user/hive/warehouse/trip_db.db/trip_small_delta/vendor_name=CMT/part-00150-f1e5c9aa-6333-44de-8e9f-3a555ab9b52b.c000.snappy.parquet"
        ],
        [
         "dbfs:/user/hive/warehouse/trip_db.db/trip_small_delta/vendor_name=CMT/part-00151-6511fcce-a9bb-413c-8d2e-1f2a4d0c4faa.c000.snappy.parquet"
        ],
        [
         "dbfs:/user/hive/warehouse/trip_db.db/trip_small_delta/vendor_name=CMT/part-00151-c11b4727-6e96-46f0-a2d1-cbe6147a6e69.c000.snappy.parquet"
        ],
        [
         "dbfs:/user/hive/warehouse/trip_db.db/trip_small_delta/vendor_name=CMT/part-00152-2a242075-3be6-4efd-857c-c04ea08b3c83.c000.snappy.parquet"
        ],
        [
         "dbfs:/user/hive/warehouse/trip_db.db/trip_small_delta/vendor_name=CMT/part-00152-75b0133a-6049-4630-bbd1-16e6a93a4f5d.c000.snappy.parquet"
        ],
        [
         "dbfs:/user/hive/warehouse/trip_db.db/trip_small_delta/vendor_name=CMT/part-00153-b9365472-681c-409f-a9dd-dfa978d3738d.c000.snappy.parquet"
        ],
        [
         "dbfs:/user/hive/warehouse/trip_db.db/trip_small_delta/vendor_name=CMT/part-00153-f649a258-2eec-40d3-828f-156d060381c4.c000.snappy.parquet"
        ],
        [
         "dbfs:/user/hive/warehouse/trip_db.db/trip_small_delta/vendor_name=CMT/part-00154-309840e2-18d3-4c7a-bdb8-58662eed8c4f.c000.snappy.parquet"
        ],
        [
         "dbfs:/user/hive/warehouse/trip_db.db/trip_small_delta/vendor_name=CMT/part-00154-5ba10017-b3c4-4e2a-b6af-9139addada0b.c000.snappy.parquet"
        ],
        [
         "dbfs:/user/hive/warehouse/trip_db.db/trip_small_delta/vendor_name=CMT/part-00155-c4341158-93d6-43b7-b3a1-891aa3d9b0bf.c000.snappy.parquet"
        ],
        [
         "dbfs:/user/hive/warehouse/trip_db.db/trip_small_delta/vendor_name=CMT/part-00155-c8a19291-5577-497b-9895-7ee9e20e6473.c000.snappy.parquet"
        ],
        [
         "dbfs:/user/hive/warehouse/trip_db.db/trip_small_delta/vendor_name=CMT/part-00156-b4ee11d4-5498-4329-b10b-909b4c41f69e.c000.snappy.parquet"
        ],
        [
         "dbfs:/user/hive/warehouse/trip_db.db/trip_small_delta/vendor_name=CMT/part-00156-dd84ddae-ba0e-4289-8a2c-67faba96d29a.c000.snappy.parquet"
        ],
        [
         "dbfs:/user/hive/warehouse/trip_db.db/trip_small_delta/vendor_name=CMT/part-00157-8e9c0ea7-86e3-4f8c-b483-0791aa11aab4.c000.snappy.parquet"
        ],
        [
         "dbfs:/user/hive/warehouse/trip_db.db/trip_small_delta/vendor_name=CMT/part-00157-abd8167f-ee9c-4ee9-82b9-175a782fe51c.c000.snappy.parquet"
        ],
        [
         "dbfs:/user/hive/warehouse/trip_db.db/trip_small_delta/vendor_name=CMT/part-00158-7acf00b5-ef03-4f8e-a9e9-d1ccd4c71499.c000.snappy.parquet"
        ],
        [
         "dbfs:/user/hive/warehouse/trip_db.db/trip_small_delta/vendor_name=CMT/part-00158-aae7cc8b-313a-46aa-951f-be3665004609.c000.snappy.parquet"
        ],
        [
         "dbfs:/user/hive/warehouse/trip_db.db/trip_small_delta/vendor_name=CMT/part-00159-1b7b350e-08b6-40cf-8b9f-12c21b3642f2.c000.snappy.parquet"
        ],
        [
         "dbfs:/user/hive/warehouse/trip_db.db/trip_small_delta/vendor_name=CMT/part-00159-32c9245c-4f39-4d46-be37-06dc2c9a8a0d.c000.snappy.parquet"
        ],
        [
         "dbfs:/user/hive/warehouse/trip_db.db/trip_small_delta/vendor_name=CMT/part-00160-2d69993d-bda7-4f81-81eb-f0241deeae79.c000.snappy.parquet"
        ],
        [
         "dbfs:/user/hive/warehouse/trip_db.db/trip_small_delta/vendor_name=CMT/part-00160-3a958f21-ad50-41e5-9360-81de5d30f3fc.c000.snappy.parquet"
        ],
        [
         "dbfs:/user/hive/warehouse/trip_db.db/trip_small_delta/vendor_name=CMT/part-00161-38ca9870-5f41-48d5-b553-bba5e5b09d26.c000.snappy.parquet"
        ],
        [
         "dbfs:/user/hive/warehouse/trip_db.db/trip_small_delta/vendor_name=CMT/part-00161-ddecb7cc-b051-45d4-bd42-ea8e649adda8.c000.snappy.parquet"
        ],
        [
         "dbfs:/user/hive/warehouse/trip_db.db/trip_small_delta/vendor_name=CMT/part-00162-08f5e3eb-01d1-4d58-97dc-4298e8bae7a4.c000.snappy.parquet"
        ],
        [
         "dbfs:/user/hive/warehouse/trip_db.db/trip_small_delta/vendor_name=CMT/part-00162-5b7b41b5-55a2-451f-ad3b-64c6cc5170d4.c000.snappy.parquet"
        ],
        [
         "dbfs:/user/hive/warehouse/trip_db.db/trip_small_delta/vendor_name=CMT/part-00163-a3eca39f-f542-4940-bf13-ee20ced94387.c000.snappy.parquet"
        ],
        [
         "dbfs:/user/hive/warehouse/trip_db.db/trip_small_delta/vendor_name=CMT/part-00163-aa8c0f7a-4bfb-4417-a43e-353efd9beb1f.c000.snappy.parquet"
        ],
        [
         "dbfs:/user/hive/warehouse/trip_db.db/trip_small_delta/vendor_name=CMT/part-00164-0b35565c-c6fc-4ffa-92af-4453cb37a954.c000.snappy.parquet"
        ],
        [
         "dbfs:/user/hive/warehouse/trip_db.db/trip_small_delta/vendor_name=CMT/part-00164-3a38f643-b2bd-4e63-9fcf-6a7192527ba6.c000.snappy.parquet"
        ],
        [
         "dbfs:/user/hive/warehouse/trip_db.db/trip_small_delta/vendor_name=CMT/part-00165-20daa067-7f7e-43e5-a466-f44a08c977c9.c000.snappy.parquet"
        ],
        [
         "dbfs:/user/hive/warehouse/trip_db.db/trip_small_delta/vendor_name=CMT/part-00165-b39a830b-b56e-4e2e-80e4-6e0ca322f256.c000.snappy.parquet"
        ],
        [
         "dbfs:/user/hive/warehouse/trip_db.db/trip_small_delta/vendor_name=CMT/part-00166-b3c198d5-32e6-424e-ba74-caa23e98f4d4.c000.snappy.parquet"
        ],
        [
         "dbfs:/user/hive/warehouse/trip_db.db/trip_small_delta/vendor_name=CMT/part-00166-bac92487-733d-4767-a5a6-d881db5182b0.c000.snappy.parquet"
        ],
        [
         "dbfs:/user/hive/warehouse/trip_db.db/trip_small_delta/vendor_name=CMT/part-00167-404cdc24-3be7-4ca6-a094-1aceda659d21.c000.snappy.parquet"
        ],
        [
         "dbfs:/user/hive/warehouse/trip_db.db/trip_small_delta/vendor_name=CMT/part-00167-559ec476-fe64-47ee-a8f9-f1c125e1c673.c000.snappy.parquet"
        ],
        [
         "dbfs:/user/hive/warehouse/trip_db.db/trip_small_delta/vendor_name=CMT/part-00168-d2d3275f-8eae-48d9-8f85-49b12d483f25.c000.snappy.parquet"
        ],
        [
         "dbfs:/user/hive/warehouse/trip_db.db/trip_small_delta/vendor_name=CMT/part-00168-efb7a9ac-fead-4bcc-98a8-12d7f58b0a34.c000.snappy.parquet"
        ],
        [
         "dbfs:/user/hive/warehouse/trip_db.db/trip_small_delta/vendor_name=CMT/part-00169-372364c7-0e14-4b35-b04e-3fccaab6112f.c000.snappy.parquet"
        ],
        [
         "dbfs:/user/hive/warehouse/trip_db.db/trip_small_delta/vendor_name=CMT/part-00169-f659a016-1aff-4d82-a945-caf30fb1e2ed.c000.snappy.parquet"
        ],
        [
         "dbfs:/user/hive/warehouse/trip_db.db/trip_small_delta/vendor_name=CMT/part-00170-92a4926d-e49a-46fe-8b42-2da93c2736aa.c000.snappy.parquet"
        ],
        [
         "dbfs:/user/hive/warehouse/trip_db.db/trip_small_delta/vendor_name=CMT/part-00170-a838d766-a358-4734-a099-101e7fb4f308.c000.snappy.parquet"
        ],
        [
         "dbfs:/user/hive/warehouse/trip_db.db/trip_small_delta/vendor_name=CMT/part-00171-4504ae99-86df-4afe-8c77-8eaa8dee5642.c000.snappy.parquet"
        ],
        [
         "dbfs:/user/hive/warehouse/trip_db.db/trip_small_delta/vendor_name=CMT/part-00171-554af90f-28d0-43cb-a73c-31d8442d1ab0.c000.snappy.parquet"
        ],
        [
         "dbfs:/user/hive/warehouse/trip_db.db/trip_small_delta/vendor_name=CMT/part-00172-97c5aa87-b20e-40e7-903a-104275e5a57b.c000.snappy.parquet"
        ],
        [
         "dbfs:/user/hive/warehouse/trip_db.db/trip_small_delta/vendor_name=CMT/part-00172-b90b4f97-ce50-4faa-ab90-4b37a88af13e.c000.snappy.parquet"
        ],
        [
         "dbfs:/user/hive/warehouse/trip_db.db/trip_small_delta/vendor_name=CMT/part-00173-1c595633-63c7-4d38-a3be-fc754367baa8.c000.snappy.parquet"
        ],
        [
         "dbfs:/user/hive/warehouse/trip_db.db/trip_small_delta/vendor_name=CMT/part-00173-d11df256-11a7-4ce0-bce7-21f0e77a58ce.c000.snappy.parquet"
        ],
        [
         "dbfs:/user/hive/warehouse/trip_db.db/trip_small_delta/vendor_name=CMT/part-00174-f5459132-cde5-417e-986d-d0d7aaf10b88.c000.snappy.parquet"
        ],
        [
         "dbfs:/user/hive/warehouse/trip_db.db/trip_small_delta/vendor_name=CMT/part-00174-f9ebbcd5-8677-482c-bebd-6432617afe00.c000.snappy.parquet"
        ],
        [
         "dbfs:/user/hive/warehouse/trip_db.db/trip_small_delta/vendor_name=CMT/part-00175-249f6802-5e4c-491e-b7de-00262f700c80.c000.snappy.parquet"
        ],
        [
         "dbfs:/user/hive/warehouse/trip_db.db/trip_small_delta/vendor_name=CMT/part-00175-5153b48c-75c6-47bb-9172-d81dd61a4d89.c000.snappy.parquet"
        ],
        [
         "dbfs:/user/hive/warehouse/trip_db.db/trip_small_delta/vendor_name=CMT/part-00176-07120b52-cfa4-44dd-9b51-6c5eb5322da6.c000.snappy.parquet"
        ],
        [
         "dbfs:/user/hive/warehouse/trip_db.db/trip_small_delta/vendor_name=CMT/part-00176-a39df856-d1a4-415b-b4ae-2a32e917ecd7.c000.snappy.parquet"
        ],
        [
         "dbfs:/user/hive/warehouse/trip_db.db/trip_small_delta/vendor_name=CMT/part-00177-7354b085-60a4-4043-b32d-c90341671070.c000.snappy.parquet"
        ],
        [
         "dbfs:/user/hive/warehouse/trip_db.db/trip_small_delta/vendor_name=CMT/part-00177-d603afce-a8a8-4037-a984-4c21800de38d.c000.snappy.parquet"
        ],
        [
         "dbfs:/user/hive/warehouse/trip_db.db/trip_small_delta/vendor_name=CMT/part-00178-8a8eb4c4-753d-47fe-acf3-2eababdca2d8.c000.snappy.parquet"
        ],
        [
         "dbfs:/user/hive/warehouse/trip_db.db/trip_small_delta/vendor_name=CMT/part-00178-97cce205-cffa-448d-bf2b-e3b185e80318.c000.snappy.parquet"
        ],
        [
         "dbfs:/user/hive/warehouse/trip_db.db/trip_small_delta/vendor_name=CMT/part-00179-17665268-ca1e-46e4-a139-447263127bec.c000.snappy.parquet"
        ],
        [
         "dbfs:/user/hive/warehouse/trip_db.db/trip_small_delta/vendor_name=CMT/part-00179-36ee2dd7-cf5f-4dc4-88cb-10f81bbb5489.c000.snappy.parquet"
        ],
        [
         "dbfs:/user/hive/warehouse/trip_db.db/trip_small_delta/vendor_name=CMT/part-00180-c2b7c145-cecd-4a01-a910-4b1d41ced45d.c000.snappy.parquet"
        ],
        [
         "dbfs:/user/hive/warehouse/trip_db.db/trip_small_delta/vendor_name=CMT/part-00180-c92aacfe-0300-4181-b686-a0b67b1a8304.c000.snappy.parquet"
        ],
        [
         "dbfs:/user/hive/warehouse/trip_db.db/trip_small_delta/vendor_name=CMT/part-00181-7ef54bc8-3a2b-4c10-991a-adf7e02be8cd.c000.snappy.parquet"
        ],
        [
         "dbfs:/user/hive/warehouse/trip_db.db/trip_small_delta/vendor_name=CMT/part-00181-aceb057d-fd5e-4712-b83c-21bc7ed510db.c000.snappy.parquet"
        ],
        [
         "dbfs:/user/hive/warehouse/trip_db.db/trip_small_delta/vendor_name=CMT/part-00182-ca5c2bd0-8af8-4d3d-8578-68c0fe25b948.c000.snappy.parquet"
        ],
        [
         "dbfs:/user/hive/warehouse/trip_db.db/trip_small_delta/vendor_name=CMT/part-00182-d50f19a2-a975-405e-9faf-be30cb83782a.c000.snappy.parquet"
        ],
        [
         "dbfs:/user/hive/warehouse/trip_db.db/trip_small_delta/vendor_name=CMT/part-00183-b004e1d7-1d89-4646-b90d-2585c14b6f7f.c000.snappy.parquet"
        ],
        [
         "dbfs:/user/hive/warehouse/trip_db.db/trip_small_delta/vendor_name=CMT/part-00183-f97b899c-5e4d-4d91-af5f-2046ea2a7dbb.c000.snappy.parquet"
        ],
        [
         "dbfs:/user/hive/warehouse/trip_db.db/trip_small_delta/vendor_name=CMT/part-00184-10043354-4e53-49ff-b833-d7276d4ca964.c000.snappy.parquet"
        ],
        [
         "dbfs:/user/hive/warehouse/trip_db.db/trip_small_delta/vendor_name=CMT/part-00184-f38e44a7-6b3d-4568-87bc-86e4dd2151f7.c000.snappy.parquet"
        ],
        [
         "dbfs:/user/hive/warehouse/trip_db.db/trip_small_delta/vendor_name=CMT/part-00185-1fb7ca86-1e98-42e9-9b8f-7554252cfef4.c000.snappy.parquet"
        ],
        [
         "dbfs:/user/hive/warehouse/trip_db.db/trip_small_delta/vendor_name=CMT/part-00185-cf4c62ea-ac8d-4cbb-b90a-200e7de49b55.c000.snappy.parquet"
        ],
        [
         "dbfs:/user/hive/warehouse/trip_db.db/trip_small_delta/vendor_name=CMT/part-00186-c7bbbefb-e29f-4137-abb0-f6d5e0a3cdc8.c000.snappy.parquet"
        ],
        [
         "dbfs:/user/hive/warehouse/trip_db.db/trip_small_delta/vendor_name=CMT/part-00186-ca115714-1b9e-432e-a24a-78c3a40a040e.c000.snappy.parquet"
        ],
        [
         "dbfs:/user/hive/warehouse/trip_db.db/trip_small_delta/vendor_name=CMT/part-00187-86d32837-5792-4059-90ee-c2c9614a21d0.c000.snappy.parquet"
        ],
        [
         "dbfs:/user/hive/warehouse/trip_db.db/trip_small_delta/vendor_name=CMT/part-00187-e2c02d36-a8af-4023-a97e-37a7a79ef4ff.c000.snappy.parquet"
        ],
        [
         "dbfs:/user/hive/warehouse/trip_db.db/trip_small_delta/vendor_name=CMT/part-00188-33096b4c-44ce-483b-92ed-48fc6e42f848.c000.snappy.parquet"
        ],
        [
         "dbfs:/user/hive/warehouse/trip_db.db/trip_small_delta/vendor_name=CMT/part-00188-70bda043-046a-4ba8-b0a0-b3910a999f2a.c000.snappy.parquet"
        ],
        [
         "dbfs:/user/hive/warehouse/trip_db.db/trip_small_delta/vendor_name=CMT/part-00189-4e1d32be-5a66-439d-abcf-9906c20c8e1f.c000.snappy.parquet"
        ],
        [
         "dbfs:/user/hive/warehouse/trip_db.db/trip_small_delta/vendor_name=CMT/part-00189-c4bfea1f-5181-42e6-9af5-69ee4f1e280d.c000.snappy.parquet"
        ],
        [
         "dbfs:/user/hive/warehouse/trip_db.db/trip_small_delta/vendor_name=CMT/part-00190-ccc44730-ca49-4331-81c2-0e2bd071dd0c.c000.snappy.parquet"
        ],
        [
         "dbfs:/user/hive/warehouse/trip_db.db/trip_small_delta/vendor_name=CMT/part-00190-f0796a41-a542-4d33-b473-a0ce20e295b7.c000.snappy.parquet"
        ],
        [
         "dbfs:/user/hive/warehouse/trip_db.db/trip_small_delta/vendor_name=CMT/part-00191-62b905cc-7af3-44d9-9a1e-5cca2ce853f3.c000.snappy.parquet"
        ],
        [
         "dbfs:/user/hive/warehouse/trip_db.db/trip_small_delta/vendor_name=CMT/part-00191-822988a6-1717-425f-9953-3c10b584c8a9.c000.snappy.parquet"
        ],
        [
         "dbfs:/user/hive/warehouse/trip_db.db/trip_small_delta/vendor_name=CMT/part-00192-2e045230-48e4-44c6-aeb2-c6fdeab4298e.c000.snappy.parquet"
        ],
        [
         "dbfs:/user/hive/warehouse/trip_db.db/trip_small_delta/vendor_name=CMT/part-00192-80632ad8-1e43-490d-b39d-a5c6734f18a0.c000.snappy.parquet"
        ],
        [
         "dbfs:/user/hive/warehouse/trip_db.db/trip_small_delta/vendor_name=CMT/part-00193-2747c57b-6b39-4190-a855-cbcf820da42c.c000.snappy.parquet"
        ],
        [
         "dbfs:/user/hive/warehouse/trip_db.db/trip_small_delta/vendor_name=CMT/part-00193-dc511861-d8f1-4670-a8c7-122c1aca4361.c000.snappy.parquet"
        ],
        [
         "dbfs:/user/hive/warehouse/trip_db.db/trip_small_delta/vendor_name=CMT/part-00194-d0bd91cd-75d3-458f-9996-317c58409320.c000.snappy.parquet"
        ],
        [
         "dbfs:/user/hive/warehouse/trip_db.db/trip_small_delta/vendor_name=CMT/part-00194-ed0cad85-eb08-4e03-8c84-205def5a900d.c000.snappy.parquet"
        ],
        [
         "dbfs:/user/hive/warehouse/trip_db.db/trip_small_delta/vendor_name=CMT/part-00195-460279bf-a5c4-4a52-8cc1-bc0513d2d23c.c000.snappy.parquet"
        ],
        [
         "dbfs:/user/hive/warehouse/trip_db.db/trip_small_delta/vendor_name=CMT/part-00195-9dd19bbc-ebcf-4cce-9993-3b5946813955.c000.snappy.parquet"
        ],
        [
         "dbfs:/user/hive/warehouse/trip_db.db/trip_small_delta/vendor_name=CMT/part-00196-df830e98-c6ca-46d3-aa31-f641c8bf253c.c000.snappy.parquet"
        ],
        [
         "dbfs:/user/hive/warehouse/trip_db.db/trip_small_delta/vendor_name=CMT/part-00196-f19da2f5-751c-4333-afa9-231881dd52d7.c000.snappy.parquet"
        ],
        [
         "dbfs:/user/hive/warehouse/trip_db.db/trip_small_delta/vendor_name=CMT/part-00197-0e37607d-e712-4778-b424-cd8a07b558b6.c000.snappy.parquet"
        ],
        [
         "dbfs:/user/hive/warehouse/trip_db.db/trip_small_delta/vendor_name=CMT/part-00197-c7013667-e828-4e3a-bbd1-48716b6ceb33.c000.snappy.parquet"
        ],
        [
         "dbfs:/user/hive/warehouse/trip_db.db/trip_small_delta/vendor_name=CMT/part-00198-04c4850f-137c-4be0-b5a3-c3c948f1977c.c000.snappy.parquet"
        ],
        [
         "dbfs:/user/hive/warehouse/trip_db.db/trip_small_delta/vendor_name=CMT/part-00198-8116f974-b8cd-4bdf-88dd-05d2b9a7d38c.c000.snappy.parquet"
        ],
        [
         "dbfs:/user/hive/warehouse/trip_db.db/trip_small_delta/vendor_name=CMT/part-00199-4b4d7016-652a-4d6e-b8ce-099cc3a6d38a.c000.snappy.parquet"
        ],
        [
         "dbfs:/user/hive/warehouse/trip_db.db/trip_small_delta/vendor_name=CMT/part-00199-9f4b44c7-f717-42ad-8827-2f21f45ed4d8.c000.snappy.parquet"
        ],
        [
         "dbfs:/user/hive/warehouse/trip_db.db/trip_small_delta/vendor_name=CMT/part-00200-673abf68-9852-4d7d-8c5d-2cf0f2c9da6a.c000.snappy.parquet"
        ],
        [
         "dbfs:/user/hive/warehouse/trip_db.db/trip_small_delta/vendor_name=CMT/part-00200-b8cf5c1e-d121-4b47-9c25-c0fc3a5065b3.c000.snappy.parquet"
        ],
        [
         "dbfs:/user/hive/warehouse/trip_db.db/trip_small_delta/vendor_name=CMT/part-00201-70611391-b6f3-4c54-aca7-ba547743dd44.c000.snappy.parquet"
        ],
        [
         "dbfs:/user/hive/warehouse/trip_db.db/trip_small_delta/vendor_name=CMT/part-00201-da6c7cc6-90b6-4274-b628-36e3de045f61.c000.snappy.parquet"
        ],
        [
         "dbfs:/user/hive/warehouse/trip_db.db/trip_small_delta/vendor_name=CMT/part-00202-2d1e5d63-7e66-4aea-abdd-ca08f4270c5a.c000.snappy.parquet"
        ],
        [
         "dbfs:/user/hive/warehouse/trip_db.db/trip_small_delta/vendor_name=CMT/part-00202-78c95b94-3b61-4217-ae9e-96e4b54863a3.c000.snappy.parquet"
        ],
        [
         "dbfs:/user/hive/warehouse/trip_db.db/trip_small_delta/vendor_name=CMT/part-00203-978ffe37-c60f-4eb2-b72b-1f1deec4cd76.c000.snappy.parquet"
        ],
        [
         "dbfs:/user/hive/warehouse/trip_db.db/trip_small_delta/vendor_name=CMT/part-00203-da3ecd2b-9f30-46ba-a97e-939dd62025f9.c000.snappy.parquet"
        ],
        [
         "dbfs:/user/hive/warehouse/trip_db.db/trip_small_delta/vendor_name=CMT/part-00204-479c08f7-50d4-48b5-ac0a-1188a380a619.c000.snappy.parquet"
        ],
        [
         "dbfs:/user/hive/warehouse/trip_db.db/trip_small_delta/vendor_name=CMT/part-00204-9902b468-e0a3-4950-8966-c65c131ff061.c000.snappy.parquet"
        ],
        [
         "dbfs:/user/hive/warehouse/trip_db.db/trip_small_delta/vendor_name=CMT/part-00205-097cf985-7167-4ce4-8138-27528ad36e77.c000.snappy.parquet"
        ],
        [
         "dbfs:/user/hive/warehouse/trip_db.db/trip_small_delta/vendor_name=CMT/part-00205-a7604117-891c-4a5c-880d-0c3fc6a9c318.c000.snappy.parquet"
        ],
        [
         "dbfs:/user/hive/warehouse/trip_db.db/trip_small_delta/vendor_name=CMT/part-00206-04ea9930-1cce-42c1-939f-393ae5669dfd.c000.snappy.parquet"
        ],
        [
         "dbfs:/user/hive/warehouse/trip_db.db/trip_small_delta/vendor_name=CMT/part-00206-82ea5abd-9368-4b4a-9d55-af30bc60967b.c000.snappy.parquet"
        ],
        [
         "dbfs:/user/hive/warehouse/trip_db.db/trip_small_delta/vendor_name=CMT/part-00207-a611d29b-88e9-4246-bfa3-c73af1df7990.c000.snappy.parquet"
        ],
        [
         "dbfs:/user/hive/warehouse/trip_db.db/trip_small_delta/vendor_name=CMT/part-00207-ab733205-5616-4f61-8902-f8a66b9dc30a.c000.snappy.parquet"
        ],
        [
         "dbfs:/user/hive/warehouse/trip_db.db/trip_small_delta/vendor_name=CMT/part-00208-1d6d6627-7131-4fbb-ad53-40797cfce7cc.c000.snappy.parquet"
        ],
        [
         "dbfs:/user/hive/warehouse/trip_db.db/trip_small_delta/vendor_name=CMT/part-00208-4ffad34f-1181-47ac-b30b-3b15798397fc.c000.snappy.parquet"
        ],
        [
         "dbfs:/user/hive/warehouse/trip_db.db/trip_small_delta/vendor_name=CMT/part-00209-2c6c0d26-0e8c-452c-b8c9-325dbb9d7446.c000.snappy.parquet"
        ],
        [
         "dbfs:/user/hive/warehouse/trip_db.db/trip_small_delta/vendor_name=CMT/part-00209-32687eff-e9cf-4dde-97c5-9c931de36e3f.c000.snappy.parquet"
        ],
        [
         "dbfs:/user/hive/warehouse/trip_db.db/trip_small_delta/vendor_name=CMT/part-00210-10653ef9-0120-4541-a327-7d48c767b573.c000.snappy.parquet"
        ],
        [
         "dbfs:/user/hive/warehouse/trip_db.db/trip_small_delta/vendor_name=CMT/part-00210-965cedee-8647-4e0f-9384-131d92472d36.c000.snappy.parquet"
        ],
        [
         "dbfs:/user/hive/warehouse/trip_db.db/trip_small_delta/vendor_name=CMT/part-00211-6bec7c8b-95f3-429f-9ae8-d77faf508afa.c000.snappy.parquet"
        ],
        [
         "dbfs:/user/hive/warehouse/trip_db.db/trip_small_delta/vendor_name=CMT/part-00211-84f23c79-9631-4a7f-bd6f-8c97f8ee7f3d.c000.snappy.parquet"
        ],
        [
         "dbfs:/user/hive/warehouse/trip_db.db/trip_small_delta/vendor_name=CMT/part-00212-84fef163-b64d-47a6-8c8d-d71c593fad9c.c000.snappy.parquet"
        ],
        [
         "dbfs:/user/hive/warehouse/trip_db.db/trip_small_delta/vendor_name=CMT/part-00212-d50f96ad-f47a-4faf-8b0c-684226e09b52.c000.snappy.parquet"
        ],
        [
         "dbfs:/user/hive/warehouse/trip_db.db/trip_small_delta/vendor_name=CMT/part-00213-6b0b2b6d-034e-4577-90b0-61ccbf3431bc.c000.snappy.parquet"
        ],
        [
         "dbfs:/user/hive/warehouse/trip_db.db/trip_small_delta/vendor_name=CMT/part-00213-d859736a-5a08-41e4-8fd6-307e4be92a0c.c000.snappy.parquet"
        ],
        [
         "dbfs:/user/hive/warehouse/trip_db.db/trip_small_delta/vendor_name=CMT/part-00214-6cc6e66b-e783-4488-be8e-f5df35ac6832.c000.snappy.parquet"
        ],
        [
         "dbfs:/user/hive/warehouse/trip_db.db/trip_small_delta/vendor_name=CMT/part-00214-a17a6658-07ee-47b9-97f5-f796f64eec0d.c000.snappy.parquet"
        ],
        [
         "dbfs:/user/hive/warehouse/trip_db.db/trip_small_delta/vendor_name=CMT/part-00215-9104cde8-efc7-4a08-9cca-dfc6e41fdbd0.c000.snappy.parquet"
        ],
        [
         "dbfs:/user/hive/warehouse/trip_db.db/trip_small_delta/vendor_name=CMT/part-00215-e6e63d13-e013-49c5-8e76-353cc6211f08.c000.snappy.parquet"
        ],
        [
         "dbfs:/user/hive/warehouse/trip_db.db/trip_small_delta/vendor_name=CMT/part-00216-78f6e7c9-7b92-43bc-9e90-f939ee63e2a1.c000.snappy.parquet"
        ],
        [
         "dbfs:/user/hive/warehouse/trip_db.db/trip_small_delta/vendor_name=CMT/part-00216-e9d17e8a-dd37-4b39-bfc4-1ced99db143f.c000.snappy.parquet"
        ],
        [
         "dbfs:/user/hive/warehouse/trip_db.db/trip_small_delta/vendor_name=CMT/part-00217-ac15a697-9c0d-46e6-a091-adea4f44eded.c000.snappy.parquet"
        ],
        [
         "dbfs:/user/hive/warehouse/trip_db.db/trip_small_delta/vendor_name=CMT/part-00217-ec549c8c-1e98-43e2-8666-0712628350b5.c000.snappy.parquet"
        ],
        [
         "dbfs:/user/hive/warehouse/trip_db.db/trip_small_delta/vendor_name=CMT/part-00218-434605a9-6c45-4b88-b13b-61edc24d9ffc.c000.snappy.parquet"
        ],
        [
         "dbfs:/user/hive/warehouse/trip_db.db/trip_small_delta/vendor_name=CMT/part-00218-d5ef7f90-8c93-4f78-9a64-a23db5a045ae.c000.snappy.parquet"
        ],
        [
         "dbfs:/user/hive/warehouse/trip_db.db/trip_small_delta/vendor_name=CMT/part-00219-0f9363cc-f0ff-42d7-a099-1eb92683b4cd.c000.snappy.parquet"
        ],
        [
         "dbfs:/user/hive/warehouse/trip_db.db/trip_small_delta/vendor_name=CMT/part-00219-8cf90ee7-1142-4072-b218-9095641ac692.c000.snappy.parquet"
        ],
        [
         "dbfs:/user/hive/warehouse/trip_db.db/trip_small_delta/vendor_name=CMT/part-00220-be6cd3f7-9d3f-473d-b0df-a3fd584352c9.c000.snappy.parquet"
        ],
        [
         "dbfs:/user/hive/warehouse/trip_db.db/trip_small_delta/vendor_name=CMT/part-00220-dcccf180-98a9-46f0-98b4-0bdce149e2b7.c000.snappy.parquet"
        ],
        [
         "dbfs:/user/hive/warehouse/trip_db.db/trip_small_delta/vendor_name=CMT/part-00221-0e86a433-1009-4963-b148-2dade59d60c5.c000.snappy.parquet"
        ],
        [
         "dbfs:/user/hive/warehouse/trip_db.db/trip_small_delta/vendor_name=CMT/part-00221-48787ea9-1ceb-4b33-b9d7-f645d8356519.c000.snappy.parquet"
        ],
        [
         "dbfs:/user/hive/warehouse/trip_db.db/trip_small_delta/vendor_name=CMT/part-00222-77f83c59-c7a4-438c-b45a-51a753870f4e.c000.snappy.parquet"
        ],
        [
         "dbfs:/user/hive/warehouse/trip_db.db/trip_small_delta/vendor_name=CMT/part-00222-ebf10d2f-6a8b-4e72-a5fa-e1f24d377453.c000.snappy.parquet"
        ],
        [
         "dbfs:/user/hive/warehouse/trip_db.db/trip_small_delta/vendor_name=CMT/part-00223-35a140fd-613a-405f-ac12-f93dd1d860d2.c000.snappy.parquet"
        ],
        [
         "dbfs:/user/hive/warehouse/trip_db.db/trip_small_delta/vendor_name=CMT/part-00223-87ef54a2-34ae-47da-addb-fae0c41532f7.c000.snappy.parquet"
        ],
        [
         "dbfs:/user/hive/warehouse/trip_db.db/trip_small_delta/vendor_name=CMT/part-00224-6ef39341-fdb4-44e5-8ea3-42a994cbefef.c000.snappy.parquet"
        ],
        [
         "dbfs:/user/hive/warehouse/trip_db.db/trip_small_delta/vendor_name=CMT/part-00224-f3957d11-1835-498c-9b88-ab0e0f56cd6c.c000.snappy.parquet"
        ],
        [
         "dbfs:/user/hive/warehouse/trip_db.db/trip_small_delta/vendor_name=CMT/part-00225-00f694de-7dd6-4511-baaf-d799172d0e06.c000.snappy.parquet"
        ],
        [
         "dbfs:/user/hive/warehouse/trip_db.db/trip_small_delta/vendor_name=CMT/part-00225-6637b366-613d-4291-aabf-8cfa4b0e91bc.c000.snappy.parquet"
        ],
        [
         "dbfs:/user/hive/warehouse/trip_db.db/trip_small_delta/vendor_name=CMT/part-00226-2cc50f5e-4407-4a12-83f2-9e4d5b7ab47e.c000.snappy.parquet"
        ],
        [
         "dbfs:/user/hive/warehouse/trip_db.db/trip_small_delta/vendor_name=CMT/part-00226-6dbd81c5-8c85-47c7-a728-6b427841822b.c000.snappy.parquet"
        ],
        [
         "dbfs:/user/hive/warehouse/trip_db.db/trip_small_delta/vendor_name=CMT/part-00227-38f1c707-2bda-4f1a-8de2-60facdabafda.c000.snappy.parquet"
        ],
        [
         "dbfs:/user/hive/warehouse/trip_db.db/trip_small_delta/vendor_name=CMT/part-00227-e90131fc-4a61-415b-946e-b23363483a05.c000.snappy.parquet"
        ],
        [
         "dbfs:/user/hive/warehouse/trip_db.db/trip_small_delta/vendor_name=CMT/part-00228-22444172-8ece-4083-87c4-6327e6b2597e.c000.snappy.parquet"
        ],
        [
         "dbfs:/user/hive/warehouse/trip_db.db/trip_small_delta/vendor_name=CMT/part-00228-648f3943-bde4-4645-862c-6ce893182483.c000.snappy.parquet"
        ],
        [
         "dbfs:/user/hive/warehouse/trip_db.db/trip_small_delta/vendor_name=CMT/part-00229-7581c54b-2f27-4805-a8fb-8907a209ba49.c000.snappy.parquet"
        ],
        [
         "dbfs:/user/hive/warehouse/trip_db.db/trip_small_delta/vendor_name=CMT/part-00229-79e82f28-bbb2-4ee4-bdc9-f142d2ad2db0.c000.snappy.parquet"
        ],
        [
         "dbfs:/user/hive/warehouse/trip_db.db/trip_small_delta/vendor_name=CMT/part-00230-39b4e13e-8f18-4005-a486-1f96ca82df6b.c000.snappy.parquet"
        ],
        [
         "dbfs:/user/hive/warehouse/trip_db.db/trip_small_delta/vendor_name=CMT/part-00230-c2f675d4-5ac2-44e0-a611-3970dfbff5c6.c000.snappy.parquet"
        ],
        [
         "dbfs:/user/hive/warehouse/trip_db.db/trip_small_delta/vendor_name=CMT/part-00231-54a739ae-7b1a-4b52-b814-cd0d30c58fb0.c000.snappy.parquet"
        ],
        [
         "dbfs:/user/hive/warehouse/trip_db.db/trip_small_delta/vendor_name=CMT/part-00231-cb6c0dd4-2eb2-4d64-bbe2-3106dca392de.c000.snappy.parquet"
        ],
        [
         "dbfs:/user/hive/warehouse/trip_db.db/trip_small_delta/vendor_name=CMT/part-00232-775fc95e-3a41-4cde-b3cc-a90ef76ba72b.c000.snappy.parquet"
        ],
        [
         "dbfs:/user/hive/warehouse/trip_db.db/trip_small_delta/vendor_name=CMT/part-00232-f91a27b8-69f5-4d89-9f10-3662d38d3ea4.c000.snappy.parquet"
        ],
        [
         "dbfs:/user/hive/warehouse/trip_db.db/trip_small_delta/vendor_name=CMT/part-00233-5b262fae-cfde-42be-ab33-5a340fdf8f31.c000.snappy.parquet"
        ],
        [
         "dbfs:/user/hive/warehouse/trip_db.db/trip_small_delta/vendor_name=CMT/part-00233-7abbf91c-8425-41d0-a9c5-223242d06411.c000.snappy.parquet"
        ],
        [
         "dbfs:/user/hive/warehouse/trip_db.db/trip_small_delta/vendor_name=CMT/part-00234-4a074abe-7cab-4d49-bae2-dea613ee66aa.c000.snappy.parquet"
        ],
        [
         "dbfs:/user/hive/warehouse/trip_db.db/trip_small_delta/vendor_name=CMT/part-00234-fb3fd7a3-662d-4d09-bf34-3aa101ac405f.c000.snappy.parquet"
        ],
        [
         "dbfs:/user/hive/warehouse/trip_db.db/trip_small_delta/vendor_name=CMT/part-00235-bb87b182-a34c-40ef-a216-ec77fda31398.c000.snappy.parquet"
        ],
        [
         "dbfs:/user/hive/warehouse/trip_db.db/trip_small_delta/vendor_name=CMT/part-00235-dd3aca7c-53a6-43b7-8bef-13eb7d6dc7cb.c000.snappy.parquet"
        ],
        [
         "dbfs:/user/hive/warehouse/trip_db.db/trip_small_delta/vendor_name=CMT/part-00236-bd476081-af23-4b2d-8034-f5faca07334f.c000.snappy.parquet"
        ],
        [
         "dbfs:/user/hive/warehouse/trip_db.db/trip_small_delta/vendor_name=CMT/part-00236-ebcd9363-c52d-4707-b6a9-d9c42d5ff7dd.c000.snappy.parquet"
        ],
        [
         "dbfs:/user/hive/warehouse/trip_db.db/trip_small_delta/vendor_name=CMT/part-00237-aaac2496-d885-4eaf-ad89-60c139e761c1.c000.snappy.parquet"
        ],
        [
         "dbfs:/user/hive/warehouse/trip_db.db/trip_small_delta/vendor_name=CMT/part-00237-f21b06df-4cfe-4ccd-9ba8-2aaec4e70b8a.c000.snappy.parquet"
        ],
        [
         "dbfs:/user/hive/warehouse/trip_db.db/trip_small_delta/vendor_name=CMT/part-00238-6bc0944f-b635-403e-a102-cf8fbb9975fa.c000.snappy.parquet"
        ],
        [
         "dbfs:/user/hive/warehouse/trip_db.db/trip_small_delta/vendor_name=CMT/part-00238-ad249599-bd47-4a3f-9ef5-0ef110217672.c000.snappy.parquet"
        ],
        [
         "dbfs:/user/hive/warehouse/trip_db.db/trip_small_delta/vendor_name=CMT/part-00239-8c4e462a-d828-4f88-bbfd-0ee5ca2e462f.c000.snappy.parquet"
        ],
        [
         "dbfs:/user/hive/warehouse/trip_db.db/trip_small_delta/vendor_name=CMT/part-00239-c8e524a5-7dd7-48cb-89e8-a03cbbe6c88f.c000.snappy.parquet"
        ],
        [
         "dbfs:/user/hive/warehouse/trip_db.db/trip_small_delta/vendor_name=CMT/part-00240-7de89fb5-1e94-4e0f-827e-61a0cec216dc.c000.snappy.parquet"
        ],
        [
         "dbfs:/user/hive/warehouse/trip_db.db/trip_small_delta/vendor_name=CMT/part-00240-9a591264-643b-4ab8-9680-c703ecfb5b0f.c000.snappy.parquet"
        ],
        [
         "dbfs:/user/hive/warehouse/trip_db.db/trip_small_delta/vendor_name=CMT/part-00241-a72111d9-2f0d-44bb-99b6-0ca2d3475ba3.c000.snappy.parquet"
        ],
        [
         "dbfs:/user/hive/warehouse/trip_db.db/trip_small_delta/vendor_name=CMT/part-00241-d8cb3c3f-6f52-48e8-8710-717bd1bfa884.c000.snappy.parquet"
        ],
        [
         "dbfs:/user/hive/warehouse/trip_db.db/trip_small_delta/vendor_name=CMT/part-00242-42a0cb1b-4c95-47b6-83f6-8cd08fc0e15e.c000.snappy.parquet"
        ],
        [
         "dbfs:/user/hive/warehouse/trip_db.db/trip_small_delta/vendor_name=CMT/part-00242-a613ea59-df74-465d-a2a8-2d0233deda03.c000.snappy.parquet"
        ],
        [
         "dbfs:/user/hive/warehouse/trip_db.db/trip_small_delta/vendor_name=CMT/part-00243-0bffdb97-97d9-4fef-8de8-1668db877ac6.c000.snappy.parquet"
        ],
        [
         "dbfs:/user/hive/warehouse/trip_db.db/trip_small_delta/vendor_name=CMT/part-00243-e8b9b7b7-e39a-4ce9-b913-d9d85786548a.c000.snappy.parquet"
        ],
        [
         "dbfs:/user/hive/warehouse/trip_db.db/trip_small_delta/vendor_name=CMT/part-00244-dcbb40cf-3c1f-40f2-a473-9b12d2935883.c000.snappy.parquet"
        ],
        [
         "dbfs:/user/hive/warehouse/trip_db.db/trip_small_delta/vendor_name=CMT/part-00244-f75d5ade-ff9f-4209-a2a1-4c0ba173aa8f.c000.snappy.parquet"
        ],
        [
         "dbfs:/user/hive/warehouse/trip_db.db/trip_small_delta/vendor_name=CMT/part-00245-74774c7e-5460-452c-9331-23390f45f2c8.c000.snappy.parquet"
        ],
        [
         "dbfs:/user/hive/warehouse/trip_db.db/trip_small_delta/vendor_name=CMT/part-00245-7f55b904-0005-4277-8fe5-8917d257d700.c000.snappy.parquet"
        ],
        [
         "dbfs:/user/hive/warehouse/trip_db.db/trip_small_delta/vendor_name=CMT/part-00246-5d5349cf-491e-4db7-8c71-5c14059e6edb.c000.snappy.parquet"
        ],
        [
         "dbfs:/user/hive/warehouse/trip_db.db/trip_small_delta/vendor_name=CMT/part-00246-78b50b22-8236-48dc-8056-ef8bb58229c0.c000.snappy.parquet"
        ],
        [
         "dbfs:/user/hive/warehouse/trip_db.db/trip_small_delta/vendor_name=CMT/part-00247-842616e3-a4c5-4e4f-8f4a-477123ecef72.c000.snappy.parquet"
        ],
        [
         "dbfs:/user/hive/warehouse/trip_db.db/trip_small_delta/vendor_name=CMT/part-00247-de26eef5-252c-4f5b-b1ab-b3da0f7b009b.c000.snappy.parquet"
        ],
        [
         "dbfs:/user/hive/warehouse/trip_db.db/trip_small_delta/vendor_name=CMT/part-00248-29a814c5-3906-411e-918c-5bf49fa0c1c4.c000.snappy.parquet"
        ],
        [
         "dbfs:/user/hive/warehouse/trip_db.db/trip_small_delta/vendor_name=CMT/part-00248-dcd15a6f-a750-418f-bf96-16c59c3ca6ed.c000.snappy.parquet"
        ],
        [
         "dbfs:/user/hive/warehouse/trip_db.db/trip_small_delta/vendor_name=CMT/part-00249-bb26e2e5-c2bf-49c7-ba99-2caef1d20a26.c000.snappy.parquet"
        ],
        [
         "dbfs:/user/hive/warehouse/trip_db.db/trip_small_delta/vendor_name=CMT/part-00249-e1f7e281-cc20-4ebb-82f5-b39def519042.c000.snappy.parquet"
        ],
        [
         "dbfs:/user/hive/warehouse/trip_db.db/trip_small_delta/vendor_name=CMT/part-00250-1408fdb3-eda5-4d13-a19c-69910abfd356.c000.snappy.parquet"
        ],
        [
         "dbfs:/user/hive/warehouse/trip_db.db/trip_small_delta/vendor_name=CMT/part-00250-4753e70b-a64a-48e6-b045-cb124c4693b5.c000.snappy.parquet"
        ],
        [
         "dbfs:/user/hive/warehouse/trip_db.db/trip_small_delta/vendor_name=CMT/part-00251-206184c7-d664-4838-8012-b659e2f6a91e.c000.snappy.parquet"
        ],
        [
         "dbfs:/user/hive/warehouse/trip_db.db/trip_small_delta/vendor_name=CMT/part-00251-24e52ca1-504e-46b6-9911-015611045ac3.c000.snappy.parquet"
        ],
        [
         "dbfs:/user/hive/warehouse/trip_db.db/trip_small_delta/vendor_name=CMT/part-00252-69adb462-a316-4b0f-aed0-14ec117f141d.c000.snappy.parquet"
        ],
        [
         "dbfs:/user/hive/warehouse/trip_db.db/trip_small_delta/vendor_name=CMT/part-00252-d07132c9-0a28-4b43-a615-af44e724f6af.c000.snappy.parquet"
        ],
        [
         "dbfs:/user/hive/warehouse/trip_db.db/trip_small_delta/vendor_name=CMT/part-00253-5b5b8f3c-f7e6-4e7c-8a14-e46d40fa26bf.c000.snappy.parquet"
        ],
        [
         "dbfs:/user/hive/warehouse/trip_db.db/trip_small_delta/vendor_name=CMT/part-00253-c225efea-f5bc-4fd3-b386-775e22692e42.c000.snappy.parquet"
        ],
        [
         "dbfs:/user/hive/warehouse/trip_db.db/trip_small_delta/vendor_name=CMT/part-00254-8bb0fd8d-7f34-43a8-a5bf-e4d40f1c0487.c000.snappy.parquet"
        ],
        [
         "dbfs:/user/hive/warehouse/trip_db.db/trip_small_delta/vendor_name=CMT/part-00254-b2051832-fab0-4309-ad9e-fa3207d0aee7.c000.snappy.parquet"
        ],
        [
         "dbfs:/user/hive/warehouse/trip_db.db/trip_small_delta/vendor_name=CMT/part-00255-5e782b48-deb7-4280-b196-08bffbc4ef29.c000.snappy.parquet"
        ],
        [
         "dbfs:/user/hive/warehouse/trip_db.db/trip_small_delta/vendor_name=CMT/part-00255-c8361427-60f8-4d5d-a642-b0baa6dde8fc.c000.snappy.parquet"
        ],
        [
         "dbfs:/user/hive/warehouse/trip_db.db/trip_small_delta/vendor_name=CMT/part-00256-330e569b-2e4c-4584-8a3a-3841443219ef.c000.snappy.parquet"
        ],
        [
         "dbfs:/user/hive/warehouse/trip_db.db/trip_small_delta/vendor_name=CMT/part-00256-c3f0dd56-183a-413e-a8cb-d768fc4d9d6b.c000.snappy.parquet"
        ],
        [
         "dbfs:/user/hive/warehouse/trip_db.db/trip_small_delta/vendor_name=CMT/part-00257-caf335b0-6beb-4580-83b5-87f02d6e56f2.c000.snappy.parquet"
        ],
        [
         "dbfs:/user/hive/warehouse/trip_db.db/trip_small_delta/vendor_name=CMT/part-00257-d60c84fc-49a2-46ac-9ca0-27772d91222c.c000.snappy.parquet"
        ],
        [
         "dbfs:/user/hive/warehouse/trip_db.db/trip_small_delta/vendor_name=CMT/part-00258-af06e63d-32d2-4389-99ac-8c3d71b55a9a.c000.snappy.parquet"
        ],
        [
         "dbfs:/user/hive/warehouse/trip_db.db/trip_small_delta/vendor_name=CMT/part-00258-f6320f6b-78ba-4b72-b169-6c29dd22be56.c000.snappy.parquet"
        ],
        [
         "dbfs:/user/hive/warehouse/trip_db.db/trip_small_delta/vendor_name=CMT/part-00259-92ebd0b4-2a4a-4cef-b467-a29fc2c6d8cc.c000.snappy.parquet"
        ],
        [
         "dbfs:/user/hive/warehouse/trip_db.db/trip_small_delta/vendor_name=CMT/part-00259-d872c094-bce8-4333-858a-9186682701fe.c000.snappy.parquet"
        ],
        [
         "dbfs:/user/hive/warehouse/trip_db.db/trip_small_delta/vendor_name=CMT/part-00260-4a5279ae-e653-4485-a602-4159d3950155.c000.snappy.parquet"
        ],
        [
         "dbfs:/user/hive/warehouse/trip_db.db/trip_small_delta/vendor_name=CMT/part-00260-807a0b5f-37d3-454a-a9cb-be89afa42f95.c000.snappy.parquet"
        ],
        [
         "dbfs:/user/hive/warehouse/trip_db.db/trip_small_delta/vendor_name=CMT/part-00261-79bc607e-b40b-4ea8-8414-36a9049a10c0.c000.snappy.parquet"
        ],
        [
         "dbfs:/user/hive/warehouse/trip_db.db/trip_small_delta/vendor_name=CMT/part-00261-d482d49c-760d-4d58-8434-0e204f03b7a6.c000.snappy.parquet"
        ],
        [
         "dbfs:/user/hive/warehouse/trip_db.db/trip_small_delta/vendor_name=CMT/part-00262-62bbe85a-6e79-4e1c-9ecb-92cacf159227.c000.snappy.parquet"
        ],
        [
         "dbfs:/user/hive/warehouse/trip_db.db/trip_small_delta/vendor_name=CMT/part-00262-7fb7cd41-6853-4427-adcf-35cd23f8e862.c000.snappy.parquet"
        ],
        [
         "dbfs:/user/hive/warehouse/trip_db.db/trip_small_delta/vendor_name=CMT/part-00263-35e09347-ded4-4c2d-8ac3-873318080302.c000.snappy.parquet"
        ],
        [
         "dbfs:/user/hive/warehouse/trip_db.db/trip_small_delta/vendor_name=CMT/part-00263-7d53cf9e-7d7c-4a8d-b068-5e2c0d0fed12.c000.snappy.parquet"
        ],
        [
         "dbfs:/user/hive/warehouse/trip_db.db/trip_small_delta/vendor_name=CMT/part-00264-56c84023-2bbe-4fc3-9994-256030f69fe2.c000.snappy.parquet"
        ],
        [
         "dbfs:/user/hive/warehouse/trip_db.db/trip_small_delta/vendor_name=CMT/part-00264-a7642a9b-7339-40aa-b368-f76f02a6276e.c000.snappy.parquet"
        ],
        [
         "dbfs:/user/hive/warehouse/trip_db.db/trip_small_delta/vendor_name=CMT/part-00265-b1e648aa-e632-4ea8-ae7d-36481ad63f43.c000.snappy.parquet"
        ],
        [
         "dbfs:/user/hive/warehouse/trip_db.db/trip_small_delta/vendor_name=CMT/part-00265-ea6cab27-b8e8-49df-ac5d-258698694a11.c000.snappy.parquet"
        ],
        [
         "dbfs:/user/hive/warehouse/trip_db.db/trip_small_delta/vendor_name=CMT/part-00266-3f5554aa-821f-41e5-83ff-4232ce2cde11.c000.snappy.parquet"
        ],
        [
         "dbfs:/user/hive/warehouse/trip_db.db/trip_small_delta/vendor_name=CMT/part-00266-c12391fd-2ebe-4e87-8cb6-3b74996d1b31.c000.snappy.parquet"
        ],
        [
         "dbfs:/user/hive/warehouse/trip_db.db/trip_small_delta/vendor_name=CMT/part-00267-9b416c18-400f-4408-a683-8f93e88c92d4.c000.snappy.parquet"
        ],
        [
         "dbfs:/user/hive/warehouse/trip_db.db/trip_small_delta/vendor_name=CMT/part-00267-c46d4df6-21a2-4096-80cf-43e68dd8eb1f.c000.snappy.parquet"
        ],
        [
         "dbfs:/user/hive/warehouse/trip_db.db/trip_small_delta/vendor_name=CMT/part-00268-a1583443-30d0-4274-a4d0-d4a73b2df642.c000.snappy.parquet"
        ],
        [
         "dbfs:/user/hive/warehouse/trip_db.db/trip_small_delta/vendor_name=CMT/part-00268-da9b620b-0794-4dcb-8f6c-1a46c0dde241.c000.snappy.parquet"
        ],
        [
         "dbfs:/user/hive/warehouse/trip_db.db/trip_small_delta/vendor_name=CMT/part-00269-4b00bc1e-eb81-41ea-9ed1-551bcecfe0cf.c000.snappy.parquet"
        ],
        [
         "dbfs:/user/hive/warehouse/trip_db.db/trip_small_delta/vendor_name=CMT/part-00269-a1908b17-1c65-4052-89a6-d47d8e91b0ca.c000.snappy.parquet"
        ],
        [
         "dbfs:/user/hive/warehouse/trip_db.db/trip_small_delta/vendor_name=CMT/part-00270-5eacad96-2a4d-434e-9f0a-2a27253435ba.c000.snappy.parquet"
        ],
        [
         "dbfs:/user/hive/warehouse/trip_db.db/trip_small_delta/vendor_name=CMT/part-00270-c60401bf-a684-4215-ae6e-0b82fa4f8e07.c000.snappy.parquet"
        ],
        [
         "dbfs:/user/hive/warehouse/trip_db.db/trip_small_delta/vendor_name=CMT/part-00271-0203a78c-562b-4896-8bb6-6d4889a094a3.c000.snappy.parquet"
        ],
        [
         "dbfs:/user/hive/warehouse/trip_db.db/trip_small_delta/vendor_name=CMT/part-00271-2d08084a-e377-476e-9313-8c34ad4d7cfe.c000.snappy.parquet"
        ],
        [
         "dbfs:/user/hive/warehouse/trip_db.db/trip_small_delta/vendor_name=CMT/part-00272-4881de32-6f51-4180-a47f-0e7ee7dfff9f.c000.snappy.parquet"
        ],
        [
         "dbfs:/user/hive/warehouse/trip_db.db/trip_small_delta/vendor_name=CMT/part-00272-f676d2d4-dc35-4c27-85b0-edc9196e36ef.c000.snappy.parquet"
        ],
        [
         "dbfs:/user/hive/warehouse/trip_db.db/trip_small_delta/vendor_name=CMT/part-00273-66350296-d8bb-4b2f-a299-4213bb3587f4.c000.snappy.parquet"
        ],
        [
         "dbfs:/user/hive/warehouse/trip_db.db/trip_small_delta/vendor_name=CMT/part-00273-e2c2b938-7a49-4d68-a155-7bd16adbe193.c000.snappy.parquet"
        ],
        [
         "dbfs:/user/hive/warehouse/trip_db.db/trip_small_delta/vendor_name=CMT/part-00274-b0134ff5-4e34-45bc-b14f-c55490619ba4.c000.snappy.parquet"
        ],
        [
         "dbfs:/user/hive/warehouse/trip_db.db/trip_small_delta/vendor_name=CMT/part-00274-fe944ba7-0a6e-4348-b763-e9c4271f5f07.c000.snappy.parquet"
        ],
        [
         "dbfs:/user/hive/warehouse/trip_db.db/trip_small_delta/vendor_name=CMT/part-00275-bf708ac0-4ad2-4f78-9ac7-e1bc08c84faa.c000.snappy.parquet"
        ],
        [
         "dbfs:/user/hive/warehouse/trip_db.db/trip_small_delta/vendor_name=CMT/part-00275-fe94db22-e693-4ebb-aace-de57fe939652.c000.snappy.parquet"
        ],
        [
         "dbfs:/user/hive/warehouse/trip_db.db/trip_small_delta/vendor_name=CMT/part-00276-18267318-2e1e-4b83-aa4b-9352143133ac.c000.snappy.parquet"
        ],
        [
         "dbfs:/user/hive/warehouse/trip_db.db/trip_small_delta/vendor_name=CMT/part-00276-96dd0717-4128-49a7-bf3e-5bfcf7f5a99e.c000.snappy.parquet"
        ],
        [
         "dbfs:/user/hive/warehouse/trip_db.db/trip_small_delta/vendor_name=CMT/part-00277-30119e8c-c632-438d-b86b-e6ba26aafe34.c000.snappy.parquet"
        ],
        [
         "dbfs:/user/hive/warehouse/trip_db.db/trip_small_delta/vendor_name=CMT/part-00277-aee9e9b0-e1cd-4838-8a58-e1d75f076b13.c000.snappy.parquet"
        ],
        [
         "dbfs:/user/hive/warehouse/trip_db.db/trip_small_delta/vendor_name=CMT/part-00278-74d51dc5-3ee2-49dc-a325-f8c59a466164.c000.snappy.parquet"
        ],
        [
         "dbfs:/user/hive/warehouse/trip_db.db/trip_small_delta/vendor_name=CMT/part-00278-b6a2ad7e-1c41-45dd-ab02-e848a289e1c7.c000.snappy.parquet"
        ],
        [
         "dbfs:/user/hive/warehouse/trip_db.db/trip_small_delta/vendor_name=CMT/part-00279-4ac20d7e-9ee0-4c7a-8001-2624f5d3687e.c000.snappy.parquet"
        ],
        [
         "dbfs:/user/hive/warehouse/trip_db.db/trip_small_delta/vendor_name=CMT/part-00279-d6591346-c729-4265-9194-135ce65c8e37.c000.snappy.parquet"
        ],
        [
         "dbfs:/user/hive/warehouse/trip_db.db/trip_small_delta/vendor_name=CMT/part-00280-b4a21bed-e35f-448b-8413-d9fcb45d40b3.c000.snappy.parquet"
        ],
        [
         "dbfs:/user/hive/warehouse/trip_db.db/trip_small_delta/vendor_name=CMT/part-00280-bed26b9b-8cb6-4dce-9491-c4539ccdcf59.c000.snappy.parquet"
        ],
        [
         "dbfs:/user/hive/warehouse/trip_db.db/trip_small_delta/vendor_name=CMT/part-00281-567bf08e-6c02-4566-b51a-d456fd523e0b.c000.snappy.parquet"
        ],
        [
         "dbfs:/user/hive/warehouse/trip_db.db/trip_small_delta/vendor_name=CMT/part-00281-f0c5bea3-6617-480f-94d1-2f01a63ea4a5.c000.snappy.parquet"
        ],
        [
         "dbfs:/user/hive/warehouse/trip_db.db/trip_small_delta/vendor_name=CMT/part-00282-95a50add-4a12-49c5-bf44-d9a19b49c996.c000.snappy.parquet"
        ],
        [
         "dbfs:/user/hive/warehouse/trip_db.db/trip_small_delta/vendor_name=CMT/part-00282-ef87c665-bb75-46ec-a1f0-23698bd40403.c000.snappy.parquet"
        ],
        [
         "dbfs:/user/hive/warehouse/trip_db.db/trip_small_delta/vendor_name=CMT/part-00283-1f022475-ba84-43c8-adfd-256376ab17a1.c000.snappy.parquet"
        ],
        [
         "dbfs:/user/hive/warehouse/trip_db.db/trip_small_delta/vendor_name=CMT/part-00283-88d1245d-dd85-43ac-ab62-5142d94d70da.c000.snappy.parquet"
        ],
        [
         "dbfs:/user/hive/warehouse/trip_db.db/trip_small_delta/vendor_name=CMT/part-00284-077a0772-ae9b-4e16-bf9e-be39771c0a81.c000.snappy.parquet"
        ],
        [
         "dbfs:/user/hive/warehouse/trip_db.db/trip_small_delta/vendor_name=CMT/part-00284-98ff4962-e715-4c94-88d2-8b081a660b83.c000.snappy.parquet"
        ],
        [
         "dbfs:/user/hive/warehouse/trip_db.db/trip_small_delta/vendor_name=CMT/part-00285-25c0965f-171a-4cc6-97f1-541476cee8b1.c000.snappy.parquet"
        ],
        [
         "dbfs:/user/hive/warehouse/trip_db.db/trip_small_delta/vendor_name=CMT/part-00285-f18b5e48-a157-4ec8-835d-d33025d06cc7.c000.snappy.parquet"
        ],
        [
         "dbfs:/user/hive/warehouse/trip_db.db/trip_small_delta/vendor_name=CMT/part-00286-29b98ed7-4d56-473d-9888-e58724236a1c.c000.snappy.parquet"
        ],
        [
         "dbfs:/user/hive/warehouse/trip_db.db/trip_small_delta/vendor_name=CMT/part-00286-3e5218b8-dc92-4398-83f7-d4f9960d4e75.c000.snappy.parquet"
        ],
        [
         "dbfs:/user/hive/warehouse/trip_db.db/trip_small_delta/vendor_name=CMT/part-00287-0643466f-3390-4dff-ac1d-f067041834b2.c000.snappy.parquet"
        ],
        [
         "dbfs:/user/hive/warehouse/trip_db.db/trip_small_delta/vendor_name=CMT/part-00287-3e217b5a-6728-4c65-8163-aff8bbc5d04a.c000.snappy.parquet"
        ],
        [
         "dbfs:/user/hive/warehouse/trip_db.db/trip_small_delta/vendor_name=CMT/part-00288-559f7bd0-45dd-40ab-97a2-6097bf67feb7.c000.snappy.parquet"
        ],
        [
         "dbfs:/user/hive/warehouse/trip_db.db/trip_small_delta/vendor_name=CMT/part-00288-85eae051-924c-4e8d-ae2c-72214ec0c3e6.c000.snappy.parquet"
        ],
        [
         "dbfs:/user/hive/warehouse/trip_db.db/trip_small_delta/vendor_name=CMT/part-00289-6cf3fdc5-8396-4e94-8bbf-dc2770589406.c000.snappy.parquet"
        ],
        [
         "dbfs:/user/hive/warehouse/trip_db.db/trip_small_delta/vendor_name=CMT/part-00289-c84d12c8-c55c-46e2-9af0-db646df8301f.c000.snappy.parquet"
        ],
        [
         "dbfs:/user/hive/warehouse/trip_db.db/trip_small_delta/vendor_name=CMT/part-00290-8feff8f5-7ac4-44f2-90ff-2b59eb9eb927.c000.snappy.parquet"
        ],
        [
         "dbfs:/user/hive/warehouse/trip_db.db/trip_small_delta/vendor_name=CMT/part-00290-ed611685-b44a-4f5f-aa1f-150146210f3a.c000.snappy.parquet"
        ],
        [
         "dbfs:/user/hive/warehouse/trip_db.db/trip_small_delta/vendor_name=CMT/part-00291-89e7107f-c06f-4593-a330-fdd15389a39e.c000.snappy.parquet"
        ],
        [
         "dbfs:/user/hive/warehouse/trip_db.db/trip_small_delta/vendor_name=CMT/part-00291-a044ae74-a3bb-4093-bfd9-289843c196fb.c000.snappy.parquet"
        ],
        [
         "dbfs:/user/hive/warehouse/trip_db.db/trip_small_delta/vendor_name=CMT/part-00292-4dc2a4bb-f95b-4f73-b64f-44024004b085.c000.snappy.parquet"
        ],
        [
         "dbfs:/user/hive/warehouse/trip_db.db/trip_small_delta/vendor_name=CMT/part-00292-556b3390-ef3d-4aed-9f7c-a319c8492138.c000.snappy.parquet"
        ],
        [
         "dbfs:/user/hive/warehouse/trip_db.db/trip_small_delta/vendor_name=CMT/part-00293-494998ed-ab06-41ab-a5fb-456bb7f4af64.c000.snappy.parquet"
        ],
        [
         "dbfs:/user/hive/warehouse/trip_db.db/trip_small_delta/vendor_name=CMT/part-00293-c736304c-91d7-43b2-9b47-2c66ba15c445.c000.snappy.parquet"
        ],
        [
         "dbfs:/user/hive/warehouse/trip_db.db/trip_small_delta/vendor_name=CMT/part-00294-71155091-a948-44a5-9f90-c1e42d883c22.c000.snappy.parquet"
        ],
        [
         "dbfs:/user/hive/warehouse/trip_db.db/trip_small_delta/vendor_name=CMT/part-00294-b4d5471f-d861-4317-8529-b5896464ab90.c000.snappy.parquet"
        ],
        [
         "dbfs:/user/hive/warehouse/trip_db.db/trip_small_delta/vendor_name=CMT/part-00295-618a86b3-e00b-4925-affd-9f235408d10c.c000.snappy.parquet"
        ],
        [
         "dbfs:/user/hive/warehouse/trip_db.db/trip_small_delta/vendor_name=CMT/part-00295-a0b4b96f-0740-4e4e-8378-99d73459d70c.c000.snappy.parquet"
        ],
        [
         "dbfs:/user/hive/warehouse/trip_db.db/trip_small_delta/vendor_name=CMT/part-00296-1d36c40d-bd56-4a87-88be-f65c88083c5c.c000.snappy.parquet"
        ],
        [
         "dbfs:/user/hive/warehouse/trip_db.db/trip_small_delta/vendor_name=CMT/part-00296-35c54dd3-b67d-41e6-8503-a3499bc0a378.c000.snappy.parquet"
        ],
        [
         "dbfs:/user/hive/warehouse/trip_db.db/trip_small_delta/vendor_name=CMT/part-00297-2d9a04b5-406f-43dd-8d56-89250bfe648b.c000.snappy.parquet"
        ],
        [
         "dbfs:/user/hive/warehouse/trip_db.db/trip_small_delta/vendor_name=CMT/part-00297-e53b39ca-508a-4511-aa95-f29751c2d6de.c000.snappy.parquet"
        ],
        [
         "dbfs:/user/hive/warehouse/trip_db.db/trip_small_delta/vendor_name=CMT/part-00298-ca9040bf-6778-47e6-8123-91c79f513bd5.c000.snappy.parquet"
        ],
        [
         "dbfs:/user/hive/warehouse/trip_db.db/trip_small_delta/vendor_name=CMT/part-00298-d3b0a50d-75ef-4239-ac52-3119fcea9b80.c000.snappy.parquet"
        ],
        [
         "dbfs:/user/hive/warehouse/trip_db.db/trip_small_delta/vendor_name=CMT/part-00299-78045f72-dae6-4b7d-ad4d-01122e1d8481.c000.snappy.parquet"
        ],
        [
         "dbfs:/user/hive/warehouse/trip_db.db/trip_small_delta/vendor_name=CMT/part-00299-d90f0cca-52b4-43fa-bc15-db3dd38859e9.c000.snappy.parquet"
        ],
        [
         "dbfs:/user/hive/warehouse/trip_db.db/trip_small_delta/vendor_name=CMT/part-00300-7e53504b-3334-41d0-910c-0ceda255e483.c000.snappy.parquet"
        ],
        [
         "dbfs:/user/hive/warehouse/trip_db.db/trip_small_delta/vendor_name=CMT/part-00300-eb260561-147e-44b5-beac-8f6f0f6f770b.c000.snappy.parquet"
        ],
        [
         "dbfs:/user/hive/warehouse/trip_db.db/trip_small_delta/vendor_name=CMT/part-00301-0c20a670-a0a2-4539-bb58-4e0beb62394d.c000.snappy.parquet"
        ],
        [
         "dbfs:/user/hive/warehouse/trip_db.db/trip_small_delta/vendor_name=CMT/part-00301-58c40337-4466-4c3c-a19a-163e1c1d30de.c000.snappy.parquet"
        ],
        [
         "dbfs:/user/hive/warehouse/trip_db.db/trip_small_delta/vendor_name=CMT/part-00302-05d5ede8-6214-4c03-8c93-c8bcb613b59a.c000.snappy.parquet"
        ],
        [
         "dbfs:/user/hive/warehouse/trip_db.db/trip_small_delta/vendor_name=CMT/part-00302-9685bc4d-e0e9-43b1-ae36-35bad3a13bf2.c000.snappy.parquet"
        ],
        [
         "dbfs:/user/hive/warehouse/trip_db.db/trip_small_delta/vendor_name=CMT/part-00303-5590a5d6-1d58-43b9-a850-7d75bae90067.c000.snappy.parquet"
        ],
        [
         "dbfs:/user/hive/warehouse/trip_db.db/trip_small_delta/vendor_name=CMT/part-00303-b5f34fdc-0141-446b-b399-65805ade14be.c000.snappy.parquet"
        ],
        [
         "dbfs:/user/hive/warehouse/trip_db.db/trip_small_delta/vendor_name=CMT/part-00304-23929e23-ecdf-47a3-a1b1-5d298e71d3b0.c000.snappy.parquet"
        ],
        [
         "dbfs:/user/hive/warehouse/trip_db.db/trip_small_delta/vendor_name=CMT/part-00304-982cb743-ca24-45b1-a037-ecd0feb2b1ad.c000.snappy.parquet"
        ],
        [
         "dbfs:/user/hive/warehouse/trip_db.db/trip_small_delta/vendor_name=CMT/part-00305-d6150af9-914a-4393-bfb7-4994e21d5bf5.c000.snappy.parquet"
        ],
        [
         "dbfs:/user/hive/warehouse/trip_db.db/trip_small_delta/vendor_name=CMT/part-00305-f4a65d76-463b-4c5f-bd6d-6dd80038162b.c000.snappy.parquet"
        ],
        [
         "dbfs:/user/hive/warehouse/trip_db.db/trip_small_delta/vendor_name=CMT/part-00306-017fcf29-4888-4ce9-bc2e-5d3a8744d3cd.c000.snappy.parquet"
        ],
        [
         "dbfs:/user/hive/warehouse/trip_db.db/trip_small_delta/vendor_name=CMT/part-00306-bfb5f6e6-deb9-4cb2-a9db-ae210c760792.c000.snappy.parquet"
        ],
        [
         "dbfs:/user/hive/warehouse/trip_db.db/trip_small_delta/vendor_name=CMT/part-00307-5b4211f2-583b-4852-b52d-351f54755d17.c000.snappy.parquet"
        ],
        [
         "dbfs:/user/hive/warehouse/trip_db.db/trip_small_delta/vendor_name=CMT/part-00307-6b1f2d50-6017-4b42-b505-25b8f9ade88d.c000.snappy.parquet"
        ],
        [
         "dbfs:/user/hive/warehouse/trip_db.db/trip_small_delta/vendor_name=CMT/part-00308-060f7906-abe6-41b5-bd01-0ebcd0cd4131.c000.snappy.parquet"
        ],
        [
         "dbfs:/user/hive/warehouse/trip_db.db/trip_small_delta/vendor_name=CMT/part-00308-913c1a00-ed53-4681-81c8-725d376ecce9.c000.snappy.parquet"
        ],
        [
         "dbfs:/user/hive/warehouse/trip_db.db/trip_small_delta/vendor_name=CMT/part-00309-4519a574-ac7d-494e-844b-5020899e57a2.c000.snappy.parquet"
        ],
        [
         "dbfs:/user/hive/warehouse/trip_db.db/trip_small_delta/vendor_name=CMT/part-00309-dcb9ef3d-abc7-4188-b879-a032e5eeaf87.c000.snappy.parquet"
        ],
        [
         "dbfs:/user/hive/warehouse/trip_db.db/trip_small_delta/vendor_name=CMT/part-00310-99825764-e1e0-4021-a2d3-b60203e79875.c000.snappy.parquet"
        ],
        [
         "dbfs:/user/hive/warehouse/trip_db.db/trip_small_delta/vendor_name=CMT/part-00310-c54dc14d-7774-498b-8c5a-f142af03a769.c000.snappy.parquet"
        ],
        [
         "dbfs:/user/hive/warehouse/trip_db.db/trip_small_delta/vendor_name=CMT/part-00311-ce895564-3a03-4b00-80cc-7d208e994aa1.c000.snappy.parquet"
        ],
        [
         "dbfs:/user/hive/warehouse/trip_db.db/trip_small_delta/vendor_name=CMT/part-00311-ef975b59-b400-496d-b468-90c2a15cd3d7.c000.snappy.parquet"
        ],
        [
         "dbfs:/user/hive/warehouse/trip_db.db/trip_small_delta/vendor_name=CMT/part-00312-5cb3df05-19f1-449b-acea-7b9258f987f8.c000.snappy.parquet"
        ],
        [
         "dbfs:/user/hive/warehouse/trip_db.db/trip_small_delta/vendor_name=CMT/part-00312-a5268350-4375-482f-86c2-4449f188908e.c000.snappy.parquet"
        ],
        [
         "dbfs:/user/hive/warehouse/trip_db.db/trip_small_delta/vendor_name=CMT/part-00313-124db0ee-6b46-4844-84ef-4a4301a3ed8c.c000.snappy.parquet"
        ],
        [
         "dbfs:/user/hive/warehouse/trip_db.db/trip_small_delta/vendor_name=CMT/part-00313-47b3914b-87e1-4dff-baed-d588044bf0b8.c000.snappy.parquet"
        ],
        [
         "dbfs:/user/hive/warehouse/trip_db.db/trip_small_delta/vendor_name=CMT/part-00314-49eb1dda-1c03-46ad-9cdd-57c03a9e637c.c000.snappy.parquet"
        ],
        [
         "dbfs:/user/hive/warehouse/trip_db.db/trip_small_delta/vendor_name=CMT/part-00314-e9fad0ab-025d-492e-b447-148cf9ca8e36.c000.snappy.parquet"
        ],
        [
         "dbfs:/user/hive/warehouse/trip_db.db/trip_small_delta/vendor_name=CMT/part-00315-957db6f6-0ea0-4377-811a-0cbf85b70569.c000.snappy.parquet"
        ],
        [
         "dbfs:/user/hive/warehouse/trip_db.db/trip_small_delta/vendor_name=CMT/part-00315-ac70eb5c-6a4b-4a44-b228-c21c86b04637.c000.snappy.parquet"
        ],
        [
         "dbfs:/user/hive/warehouse/trip_db.db/trip_small_delta/vendor_name=CMT/part-00316-1b0f4ea3-ddc2-4697-bb63-d6bc239831bc.c000.snappy.parquet"
        ],
        [
         "dbfs:/user/hive/warehouse/trip_db.db/trip_small_delta/vendor_name=CMT/part-00316-97a8b511-f3a2-4845-aac9-3be280e4bc42.c000.snappy.parquet"
        ],
        [
         "dbfs:/user/hive/warehouse/trip_db.db/trip_small_delta/vendor_name=CMT/part-00317-0391e4f7-6bf8-4b2d-85ee-6801775bb005.c000.snappy.parquet"
        ],
        [
         "dbfs:/user/hive/warehouse/trip_db.db/trip_small_delta/vendor_name=CMT/part-00317-045ab222-29e7-463a-8aff-1484b7c59b6c.c000.snappy.parquet"
        ],
        [
         "dbfs:/user/hive/warehouse/trip_db.db/trip_small_delta/vendor_name=CMT/part-00318-176c1a36-2bd8-41d1-b2f9-dde654a2fdf6.c000.snappy.parquet"
        ],
        [
         "dbfs:/user/hive/warehouse/trip_db.db/trip_small_delta/vendor_name=CMT/part-00318-2fc75141-1d7e-4dc0-8f29-cc94b93d27e8.c000.snappy.parquet"
        ],
        [
         "dbfs:/user/hive/warehouse/trip_db.db/trip_small_delta/vendor_name=CMT/part-00319-027a9839-9c61-4882-902f-8cdfcf34b3a7.c000.snappy.parquet"
        ],
        [
         "dbfs:/user/hive/warehouse/trip_db.db/trip_small_delta/vendor_name=CMT/part-00319-949d84dd-dbbd-4e3d-a3f7-6c81ff0d2bba.c000.snappy.parquet"
        ],
        [
         "dbfs:/user/hive/warehouse/trip_db.db/trip_small_delta/vendor_name=CMT/part-00320-2f64771c-868f-4dbd-8efc-e2813cb3d4ae.c000.snappy.parquet"
        ],
        [
         "dbfs:/user/hive/warehouse/trip_db.db/trip_small_delta/vendor_name=CMT/part-00320-e242caba-4bf3-4024-9b05-b824ef68e4e5.c000.snappy.parquet"
        ],
        [
         "dbfs:/user/hive/warehouse/trip_db.db/trip_small_delta/vendor_name=CMT/part-00321-2b65aaa1-5ecd-4ce1-a76c-67a8b03d2a7f.c000.snappy.parquet"
        ],
        [
         "dbfs:/user/hive/warehouse/trip_db.db/trip_small_delta/vendor_name=CMT/part-00321-74d8e298-45cc-4b47-a602-8947b7c710b5.c000.snappy.parquet"
        ],
        [
         "dbfs:/user/hive/warehouse/trip_db.db/trip_small_delta/vendor_name=CMT/part-00322-430a50e2-a18f-410f-b58e-471d40a4d1b5.c000.snappy.parquet"
        ],
        [
         "dbfs:/user/hive/warehouse/trip_db.db/trip_small_delta/vendor_name=CMT/part-00322-7f8a6f81-e07d-4502-b5a4-68738422766c.c000.snappy.parquet"
        ],
        [
         "dbfs:/user/hive/warehouse/trip_db.db/trip_small_delta/vendor_name=CMT/part-00323-2fb12b0c-d85e-4a2a-8041-8a2e4061b5c5.c000.snappy.parquet"
        ],
        [
         "dbfs:/user/hive/warehouse/trip_db.db/trip_small_delta/vendor_name=CMT/part-00323-67c8d738-72a1-478d-a4a5-fb031a2637d1.c000.snappy.parquet"
        ],
        [
         "dbfs:/user/hive/warehouse/trip_db.db/trip_small_delta/vendor_name=CMT/part-00324-8f1e2c53-894f-437a-941f-3d786ae5ab05.c000.snappy.parquet"
        ],
        [
         "dbfs:/user/hive/warehouse/trip_db.db/trip_small_delta/vendor_name=CMT/part-00324-f40b6f5e-524e-4538-80ce-fe260e6aa9fc.c000.snappy.parquet"
        ],
        [
         "dbfs:/user/hive/warehouse/trip_db.db/trip_small_delta/vendor_name=CMT/part-00325-8e853cb2-0a7d-4abb-aec6-4e6985bbf03b.c000.snappy.parquet"
        ],
        [
         "dbfs:/user/hive/warehouse/trip_db.db/trip_small_delta/vendor_name=CMT/part-00325-de619b1e-00b3-4995-9855-d1b5c90c4605.c000.snappy.parquet"
        ],
        [
         "dbfs:/user/hive/warehouse/trip_db.db/trip_small_delta/vendor_name=CMT/part-00326-4c40ef3d-de41-43d8-991f-b4f7e498865b.c000.snappy.parquet"
        ],
        [
         "dbfs:/user/hive/warehouse/trip_db.db/trip_small_delta/vendor_name=CMT/part-00326-9884df23-f3ac-4248-9244-0e5d1da18f05.c000.snappy.parquet"
        ],
        [
         "dbfs:/user/hive/warehouse/trip_db.db/trip_small_delta/vendor_name=CMT/part-00327-1624ca7d-e863-4170-a325-7aec5b91118f.c000.snappy.parquet"
        ],
        [
         "dbfs:/user/hive/warehouse/trip_db.db/trip_small_delta/vendor_name=CMT/part-00327-9e4631fa-721f-4193-ac5b-1b0768f81477.c000.snappy.parquet"
        ],
        [
         "dbfs:/user/hive/warehouse/trip_db.db/trip_small_delta/vendor_name=CMT/part-00328-12337190-dd42-49e0-a686-11192aa5c2b3.c000.snappy.parquet"
        ],
        [
         "dbfs:/user/hive/warehouse/trip_db.db/trip_small_delta/vendor_name=CMT/part-00328-a0f658b1-6826-4299-818d-d1bfaa6e6785.c000.snappy.parquet"
        ],
        [
         "dbfs:/user/hive/warehouse/trip_db.db/trip_small_delta/vendor_name=CMT/part-00329-0c5443c9-4343-4d72-b143-6480b215e985.c000.snappy.parquet"
        ],
        [
         "dbfs:/user/hive/warehouse/trip_db.db/trip_small_delta/vendor_name=CMT/part-00329-a4597007-c643-4f6f-a4aa-237849c2767f.c000.snappy.parquet"
        ],
        [
         "dbfs:/user/hive/warehouse/trip_db.db/trip_small_delta/vendor_name=CMT/part-00330-1b861aac-5608-4662-b763-4c24f9e4fde8.c000.snappy.parquet"
        ],
        [
         "dbfs:/user/hive/warehouse/trip_db.db/trip_small_delta/vendor_name=CMT/part-00330-f152f885-b80e-4b3b-aef4-2fbc313412aa.c000.snappy.parquet"
        ],
        [
         "dbfs:/user/hive/warehouse/trip_db.db/trip_small_delta/vendor_name=CMT/part-00331-00d6b532-01ab-4349-98be-c5d963c69818.c000.snappy.parquet"
        ],
        [
         "dbfs:/user/hive/warehouse/trip_db.db/trip_small_delta/vendor_name=CMT/part-00331-a951d1e9-143a-4c7d-99ea-5fecd610f163.c000.snappy.parquet"
        ],
        [
         "dbfs:/user/hive/warehouse/trip_db.db/trip_small_delta/vendor_name=CMT/part-00332-8a81074d-1a4f-46b7-8ff1-16c515641f03.c000.snappy.parquet"
        ],
        [
         "dbfs:/user/hive/warehouse/trip_db.db/trip_small_delta/vendor_name=CMT/part-00332-d6807945-78cb-43f5-838b-41f4d01fbf2b.c000.snappy.parquet"
        ],
        [
         "dbfs:/user/hive/warehouse/trip_db.db/trip_small_delta/vendor_name=CMT/part-00333-24e89973-aefa-478a-9397-f63319ca8dc7.c000.snappy.parquet"
        ],
        [
         "dbfs:/user/hive/warehouse/trip_db.db/trip_small_delta/vendor_name=CMT/part-00333-2cabad42-5079-456d-9c49-8b7fd64099e7.c000.snappy.parquet"
        ],
        [
         "dbfs:/user/hive/warehouse/trip_db.db/trip_small_delta/vendor_name=CMT/part-00334-cb57dbc6-b658-4372-b562-48041c6cbae9.c000.snappy.parquet"
        ],
        [
         "dbfs:/user/hive/warehouse/trip_db.db/trip_small_delta/vendor_name=CMT/part-00334-cd15ef00-f679-4087-8712-92e8b95ea379.c000.snappy.parquet"
        ],
        [
         "dbfs:/user/hive/warehouse/trip_db.db/trip_small_delta/vendor_name=CMT/part-00335-c1ca5981-3ebf-4cf3-bda9-dea92ca7f103.c000.snappy.parquet"
        ],
        [
         "dbfs:/user/hive/warehouse/trip_db.db/trip_small_delta/vendor_name=CMT/part-00335-e5d355ee-cdbd-46f5-8f8c-893dac162f18.c000.snappy.parquet"
        ],
        [
         "dbfs:/user/hive/warehouse/trip_db.db/trip_small_delta/vendor_name=CMT/part-00336-17fafad6-8f33-4fae-99b4-c4e3cc1f9ba1.c000.snappy.parquet"
        ],
        [
         "dbfs:/user/hive/warehouse/trip_db.db/trip_small_delta/vendor_name=CMT/part-00336-bf35fb40-2949-490d-9c25-b6d37f668015.c000.snappy.parquet"
        ],
        [
         "dbfs:/user/hive/warehouse/trip_db.db/trip_small_delta/vendor_name=CMT/part-00337-8971d502-ba78-47c8-814a-8ed53303eaee.c000.snappy.parquet"
        ],
        [
         "dbfs:/user/hive/warehouse/trip_db.db/trip_small_delta/vendor_name=CMT/part-00337-fc46e134-677d-4956-a36c-9d089af1e519.c000.snappy.parquet"
        ],
        [
         "dbfs:/user/hive/warehouse/trip_db.db/trip_small_delta/vendor_name=CMT/part-00338-3088e446-b14d-4c45-9d53-8732aa772bbe.c000.snappy.parquet"
        ],
        [
         "dbfs:/user/hive/warehouse/trip_db.db/trip_small_delta/vendor_name=CMT/part-00338-e96ee312-13c4-449f-bcc8-79bcb8ca157a.c000.snappy.parquet"
        ],
        [
         "dbfs:/user/hive/warehouse/trip_db.db/trip_small_delta/vendor_name=CMT/part-00339-7ccbe747-1db2-4084-b74f-7b5e78105bb6.c000.snappy.parquet"
        ],
        [
         "dbfs:/user/hive/warehouse/trip_db.db/trip_small_delta/vendor_name=CMT/part-00339-88e4ca4d-5b26-4f78-b563-0665c56b64c8.c000.snappy.parquet"
        ],
        [
         "dbfs:/user/hive/warehouse/trip_db.db/trip_small_delta/vendor_name=CMT/part-00340-31be92fc-9339-4d72-87f0-7821e422a083.c000.snappy.parquet"
        ],
        [
         "dbfs:/user/hive/warehouse/trip_db.db/trip_small_delta/vendor_name=CMT/part-00340-557fffc0-a8e6-4427-8f5a-84b3d8a45ad6.c000.snappy.parquet"
        ],
        [
         "dbfs:/user/hive/warehouse/trip_db.db/trip_small_delta/vendor_name=CMT/part-00341-b5bc5009-696f-4cfb-afa4-35cc5039352c.c000.snappy.parquet"
        ],
        [
         "dbfs:/user/hive/warehouse/trip_db.db/trip_small_delta/vendor_name=CMT/part-00341-c98428a7-1279-441e-8586-f83cf3e300e5.c000.snappy.parquet"
        ],
        [
         "dbfs:/user/hive/warehouse/trip_db.db/trip_small_delta/vendor_name=CMT/part-00342-2a59df64-8ab5-480f-b764-cc07bb2fd6fb.c000.snappy.parquet"
        ],
        [
         "dbfs:/user/hive/warehouse/trip_db.db/trip_small_delta/vendor_name=CMT/part-00342-ba1552ec-abe0-42b4-80dc-aad38c526267.c000.snappy.parquet"
        ],
        [
         "dbfs:/user/hive/warehouse/trip_db.db/trip_small_delta/vendor_name=CMT/part-00343-0464cd2f-fa68-4edf-bd6a-95a3a508f971.c000.snappy.parquet"
        ],
        [
         "dbfs:/user/hive/warehouse/trip_db.db/trip_small_delta/vendor_name=CMT/part-00343-fac5cf4c-723e-436a-86fa-6567f71d4d5d.c000.snappy.parquet"
        ],
        [
         "dbfs:/user/hive/warehouse/trip_db.db/trip_small_delta/vendor_name=CMT/part-00344-30a466f7-d17e-4674-99d7-e5eb6460bd93.c000.snappy.parquet"
        ],
        [
         "dbfs:/user/hive/warehouse/trip_db.db/trip_small_delta/vendor_name=CMT/part-00344-a74dcd29-9bad-48ca-a494-f505debbb9b8.c000.snappy.parquet"
        ],
        [
         "dbfs:/user/hive/warehouse/trip_db.db/trip_small_delta/vendor_name=CMT/part-00345-1af0c000-8b5a-479d-95ef-57eae8f63c58.c000.snappy.parquet"
        ],
        [
         "dbfs:/user/hive/warehouse/trip_db.db/trip_small_delta/vendor_name=CMT/part-00345-7b2bde4a-55d4-4cb1-a2be-76154f3a9ef6.c000.snappy.parquet"
        ],
        [
         "dbfs:/user/hive/warehouse/trip_db.db/trip_small_delta/vendor_name=CMT/part-00346-23a49d46-b763-4be2-9b40-0ab609363edf.c000.snappy.parquet"
        ],
        [
         "dbfs:/user/hive/warehouse/trip_db.db/trip_small_delta/vendor_name=CMT/part-00346-bb59ec0e-caab-4660-be2e-d471108d0faa.c000.snappy.parquet"
        ],
        [
         "dbfs:/user/hive/warehouse/trip_db.db/trip_small_delta/vendor_name=CMT/part-00347-451c5746-253c-4c7b-b3f3-a073277fe314.c000.snappy.parquet"
        ],
        [
         "dbfs:/user/hive/warehouse/trip_db.db/trip_small_delta/vendor_name=CMT/part-00347-51356486-76e7-4db3-ab63-282debdf228c.c000.snappy.parquet"
        ],
        [
         "dbfs:/user/hive/warehouse/trip_db.db/trip_small_delta/vendor_name=CMT/part-00348-5180e379-d2b8-46e6-a3a5-89ca7bedd13f.c000.snappy.parquet"
        ],
        [
         "dbfs:/user/hive/warehouse/trip_db.db/trip_small_delta/vendor_name=CMT/part-00348-598d9d2b-430f-45f8-964d-50fc2f51e264.c000.snappy.parquet"
        ],
        [
         "dbfs:/user/hive/warehouse/trip_db.db/trip_small_delta/vendor_name=CMT/part-00349-07d3d700-78c4-40b1-8b4d-606d0399cb10.c000.snappy.parquet"
        ],
        [
         "dbfs:/user/hive/warehouse/trip_db.db/trip_small_delta/vendor_name=CMT/part-00349-e6c5ba4c-f5d0-40d7-8aff-b2a032a33ac3.c000.snappy.parquet"
        ],
        [
         "dbfs:/user/hive/warehouse/trip_db.db/trip_small_delta/vendor_name=CMT/part-00350-bc097ef0-d260-4cb4-9abe-1c07c98ad2e0.c000.snappy.parquet"
        ],
        [
         "dbfs:/user/hive/warehouse/trip_db.db/trip_small_delta/vendor_name=CMT/part-00350-f4cb0f08-56b9-4588-b1b9-45afb351763a.c000.snappy.parquet"
        ],
        [
         "dbfs:/user/hive/warehouse/trip_db.db/trip_small_delta/vendor_name=CMT/part-00351-262820c1-74fc-488f-bd81-4223918a5574.c000.snappy.parquet"
        ],
        [
         "dbfs:/user/hive/warehouse/trip_db.db/trip_small_delta/vendor_name=CMT/part-00351-7bebefae-6ad1-4a4c-9e04-7e98d8da6aac.c000.snappy.parquet"
        ],
        [
         "dbfs:/user/hive/warehouse/trip_db.db/trip_small_delta/vendor_name=CMT/part-00352-846fbd71-c7a4-4abc-84e9-23c7958075f2.c000.snappy.parquet"
        ],
        [
         "dbfs:/user/hive/warehouse/trip_db.db/trip_small_delta/vendor_name=CMT/part-00352-9840e370-42f5-411b-ae45-8ad3dac2ca93.c000.snappy.parquet"
        ],
        [
         "dbfs:/user/hive/warehouse/trip_db.db/trip_small_delta/vendor_name=CMT/part-00353-0fe2bb45-03a7-459a-bcb6-e33d8a469480.c000.snappy.parquet"
        ],
        [
         "dbfs:/user/hive/warehouse/trip_db.db/trip_small_delta/vendor_name=CMT/part-00353-e5c5e2eb-6a58-4468-bfe3-ec62f1714383.c000.snappy.parquet"
        ],
        [
         "dbfs:/user/hive/warehouse/trip_db.db/trip_small_delta/vendor_name=CMT/part-00354-223fd749-771b-4ef7-b9c9-196b0b51881d.c000.snappy.parquet"
        ],
        [
         "dbfs:/user/hive/warehouse/trip_db.db/trip_small_delta/vendor_name=CMT/part-00354-abaafb69-43b3-4c36-8126-1629409796c9.c000.snappy.parquet"
        ],
        [
         "dbfs:/user/hive/warehouse/trip_db.db/trip_small_delta/vendor_name=CMT/part-00355-0f0ca22e-cd88-40d3-a02c-2c213642542a.c000.snappy.parquet"
        ],
        [
         "dbfs:/user/hive/warehouse/trip_db.db/trip_small_delta/vendor_name=CMT/part-00355-740198f7-92e8-401f-aa10-79f3b5ad8113.c000.snappy.parquet"
        ],
        [
         "dbfs:/user/hive/warehouse/trip_db.db/trip_small_delta/vendor_name=CMT/part-00356-86270b06-5d23-48e4-a1f5-00de94df336e.c000.snappy.parquet"
        ],
        [
         "dbfs:/user/hive/warehouse/trip_db.db/trip_small_delta/vendor_name=CMT/part-00356-bfd03c93-f05e-4c54-b919-74794a4d2714.c000.snappy.parquet"
        ],
        [
         "dbfs:/user/hive/warehouse/trip_db.db/trip_small_delta/vendor_name=CMT/part-00357-8acd548c-23d7-403f-8723-8668012e046a.c000.snappy.parquet"
        ],
        [
         "dbfs:/user/hive/warehouse/trip_db.db/trip_small_delta/vendor_name=CMT/part-00357-b7313542-23b1-46c2-bc52-a676ced8785c.c000.snappy.parquet"
        ],
        [
         "dbfs:/user/hive/warehouse/trip_db.db/trip_small_delta/vendor_name=CMT/part-00358-4900514d-178d-48e2-a1a4-d0f8b4b9c1cb.c000.snappy.parquet"
        ],
        [
         "dbfs:/user/hive/warehouse/trip_db.db/trip_small_delta/vendor_name=CMT/part-00358-a84042f2-cf0c-450e-903a-a7bff8d93730.c000.snappy.parquet"
        ],
        [
         "dbfs:/user/hive/warehouse/trip_db.db/trip_small_delta/vendor_name=CMT/part-00359-b8104907-aa83-4108-a16e-6e50ef640e29.c000.snappy.parquet"
        ],
        [
         "dbfs:/user/hive/warehouse/trip_db.db/trip_small_delta/vendor_name=CMT/part-00359-e21c4c45-f6af-4243-84ec-df01ec3b2961.c000.snappy.parquet"
        ],
        [
         "dbfs:/user/hive/warehouse/trip_db.db/trip_small_delta/vendor_name=CMT/part-00360-7dba8ca6-d772-4959-bf71-202519a4d616.c000.snappy.parquet"
        ],
        [
         "dbfs:/user/hive/warehouse/trip_db.db/trip_small_delta/vendor_name=CMT/part-00360-c93c60cf-944d-42a6-865e-b8a899ab6d93.c000.snappy.parquet"
        ],
        [
         "dbfs:/user/hive/warehouse/trip_db.db/trip_small_delta/vendor_name=CMT/part-00361-2dfd9381-4f20-4341-813d-91017e1e105d.c000.snappy.parquet"
        ],
        [
         "dbfs:/user/hive/warehouse/trip_db.db/trip_small_delta/vendor_name=CMT/part-00361-dcedbca8-7d12-4137-9f16-661949f6e689.c000.snappy.parquet"
        ],
        [
         "dbfs:/user/hive/warehouse/trip_db.db/trip_small_delta/vendor_name=CMT/part-00362-9fe2adbb-566e-4453-b01d-644c79c82446.c000.snappy.parquet"
        ],
        [
         "dbfs:/user/hive/warehouse/trip_db.db/trip_small_delta/vendor_name=CMT/part-00362-f719deb8-f72e-4074-a920-08f160452250.c000.snappy.parquet"
        ],
        [
         "dbfs:/user/hive/warehouse/trip_db.db/trip_small_delta/vendor_name=CMT/part-00363-0acc2382-d76b-45c5-bee6-9d56dad49ffa.c000.snappy.parquet"
        ],
        [
         "dbfs:/user/hive/warehouse/trip_db.db/trip_small_delta/vendor_name=CMT/part-00363-fc424cad-a21c-4a2f-9ae3-b60e32000f48.c000.snappy.parquet"
        ],
        [
         "dbfs:/user/hive/warehouse/trip_db.db/trip_small_delta/vendor_name=CMT/part-00364-6e1663c8-5b2a-4e90-8a19-355960ee9104.c000.snappy.parquet"
        ],
        [
         "dbfs:/user/hive/warehouse/trip_db.db/trip_small_delta/vendor_name=CMT/part-00364-cdbe3d7e-28b9-4746-9b2f-4bffe96f722f.c000.snappy.parquet"
        ],
        [
         "dbfs:/user/hive/warehouse/trip_db.db/trip_small_delta/vendor_name=CMT/part-00365-8c9f6221-d9f3-499c-8cde-7d7a9235d56a.c000.snappy.parquet"
        ],
        [
         "dbfs:/user/hive/warehouse/trip_db.db/trip_small_delta/vendor_name=CMT/part-00365-e761109a-d76f-4fff-9661-bb908a33a67c.c000.snappy.parquet"
        ],
        [
         "dbfs:/user/hive/warehouse/trip_db.db/trip_small_delta/vendor_name=CMT/part-00366-6d0712d9-35ae-44fc-96a4-8b7099eb731c.c000.snappy.parquet"
        ],
        [
         "dbfs:/user/hive/warehouse/trip_db.db/trip_small_delta/vendor_name=CMT/part-00366-ca7e41e9-fe68-4107-8149-fcf01835d652.c000.snappy.parquet"
        ],
        [
         "dbfs:/user/hive/warehouse/trip_db.db/trip_small_delta/vendor_name=CMT/part-00367-aee60867-0e2f-4fd3-8715-ccda393ec8c6.c000.snappy.parquet"
        ],
        [
         "dbfs:/user/hive/warehouse/trip_db.db/trip_small_delta/vendor_name=CMT/part-00367-dcb9a2b6-f348-40c8-b6e0-80b1eee233ec.c000.snappy.parquet"
        ],
        [
         "dbfs:/user/hive/warehouse/trip_db.db/trip_small_delta/vendor_name=CMT/part-00368-b597a452-00e2-41be-a6b0-86d8510074e4.c000.snappy.parquet"
        ],
        [
         "dbfs:/user/hive/warehouse/trip_db.db/trip_small_delta/vendor_name=CMT/part-00368-e4830054-5edd-46b1-af42-336112c48457.c000.snappy.parquet"
        ],
        [
         "dbfs:/user/hive/warehouse/trip_db.db/trip_small_delta/vendor_name=CMT/part-00369-20532e83-f1f7-4b22-9ab3-1e9bcbf89644.c000.snappy.parquet"
        ],
        [
         "dbfs:/user/hive/warehouse/trip_db.db/trip_small_delta/vendor_name=CMT/part-00369-ff1896d9-de62-4c00-8d38-a8fb60ee3ac8.c000.snappy.parquet"
        ],
        [
         "dbfs:/user/hive/warehouse/trip_db.db/trip_small_delta/vendor_name=CMT/part-00370-29c14a1c-dd3c-4038-9b74-c77396911639.c000.snappy.parquet"
        ],
        [
         "dbfs:/user/hive/warehouse/trip_db.db/trip_small_delta/vendor_name=CMT/part-00370-68e1d76f-4100-4b96-9ee5-d7b37093b0a8.c000.snappy.parquet"
        ],
        [
         "dbfs:/user/hive/warehouse/trip_db.db/trip_small_delta/vendor_name=CMT/part-00371-6a31ea5c-fee6-49d5-bab5-dc2c80a41001.c000.snappy.parquet"
        ],
        [
         "dbfs:/user/hive/warehouse/trip_db.db/trip_small_delta/vendor_name=CMT/part-00371-c1368a09-7cea-4f2b-a023-0cfded30f91d.c000.snappy.parquet"
        ],
        [
         "dbfs:/user/hive/warehouse/trip_db.db/trip_small_delta/vendor_name=CMT/part-00372-7f088762-1e0d-426d-99a7-0a94f022640a.c000.snappy.parquet"
        ],
        [
         "dbfs:/user/hive/warehouse/trip_db.db/trip_small_delta/vendor_name=CMT/part-00372-bac7cebf-7976-4806-9ee8-a629b2fff3ef.c000.snappy.parquet"
        ],
        [
         "dbfs:/user/hive/warehouse/trip_db.db/trip_small_delta/vendor_name=CMT/part-00373-9596d688-4f33-49df-a3ed-8ab615b18436.c000.snappy.parquet"
        ],
        [
         "dbfs:/user/hive/warehouse/trip_db.db/trip_small_delta/vendor_name=CMT/part-00373-bdc8acba-8283-4422-bb78-8b0b89b72599.c000.snappy.parquet"
        ],
        [
         "dbfs:/user/hive/warehouse/trip_db.db/trip_small_delta/vendor_name=CMT/part-00374-b69901be-0747-4df8-ba0c-13ad6f14f7db.c000.snappy.parquet"
        ],
        [
         "dbfs:/user/hive/warehouse/trip_db.db/trip_small_delta/vendor_name=CMT/part-00374-ce8150bd-1ec0-4fc3-9c7d-fa2dccf87bee.c000.snappy.parquet"
        ],
        [
         "dbfs:/user/hive/warehouse/trip_db.db/trip_small_delta/vendor_name=CMT/part-00375-2c13578a-9763-4e66-8f53-8e9c7b82bae8.c000.snappy.parquet"
        ],
        [
         "dbfs:/user/hive/warehouse/trip_db.db/trip_small_delta/vendor_name=CMT/part-00375-61aa2235-c62a-450a-ada9-365a06718042.c000.snappy.parquet"
        ],
        [
         "dbfs:/user/hive/warehouse/trip_db.db/trip_small_delta/vendor_name=CMT/part-00376-6233501a-31a1-4729-bffe-f7b1b3b4906b.c000.snappy.parquet"
        ],
        [
         "dbfs:/user/hive/warehouse/trip_db.db/trip_small_delta/vendor_name=CMT/part-00376-bab0b43e-d069-44bd-8b00-b19bb2ed53f5.c000.snappy.parquet"
        ],
        [
         "dbfs:/user/hive/warehouse/trip_db.db/trip_small_delta/vendor_name=CMT/part-00377-34b74ea2-9517-451a-8772-bf95664f43ac.c000.snappy.parquet"
        ],
        [
         "dbfs:/user/hive/warehouse/trip_db.db/trip_small_delta/vendor_name=CMT/part-00377-7def5dc2-7277-4fa9-b4f6-eec01b426102.c000.snappy.parquet"
        ],
        [
         "dbfs:/user/hive/warehouse/trip_db.db/trip_small_delta/vendor_name=CMT/part-00378-c8931ee5-01db-4605-b7c0-f74ebae84aa6.c000.snappy.parquet"
        ],
        [
         "dbfs:/user/hive/warehouse/trip_db.db/trip_small_delta/vendor_name=CMT/part-00378-cfbd8053-35d4-4500-a0e7-0130041ff890.c000.snappy.parquet"
        ],
        [
         "dbfs:/user/hive/warehouse/trip_db.db/trip_small_delta/vendor_name=CMT/part-00379-3777a463-2d22-4520-8190-e6677942a096.c000.snappy.parquet"
        ],
        [
         "dbfs:/user/hive/warehouse/trip_db.db/trip_small_delta/vendor_name=CMT/part-00379-4b871196-c9a7-4817-a348-a046d8d25f81.c000.snappy.parquet"
        ],
        [
         "dbfs:/user/hive/warehouse/trip_db.db/trip_small_delta/vendor_name=CMT/part-00380-74431462-5b82-470a-b143-433c9a38eee7.c000.snappy.parquet"
        ],
        [
         "dbfs:/user/hive/warehouse/trip_db.db/trip_small_delta/vendor_name=CMT/part-00380-ad6aa20e-0d4d-4b22-9344-6ca3044dc763.c000.snappy.parquet"
        ],
        [
         "dbfs:/user/hive/warehouse/trip_db.db/trip_small_delta/vendor_name=CMT/part-00381-79207ab0-cd3e-499f-8448-4ccbf30be7f1.c000.snappy.parquet"
        ],
        [
         "dbfs:/user/hive/warehouse/trip_db.db/trip_small_delta/vendor_name=CMT/part-00381-f9df56fe-a97c-4360-b1a9-b4186f409d97.c000.snappy.parquet"
        ],
        [
         "dbfs:/user/hive/warehouse/trip_db.db/trip_small_delta/vendor_name=CMT/part-00382-01099dab-ad9f-449b-8e82-9d2398b3d727.c000.snappy.parquet"
        ],
        [
         "dbfs:/user/hive/warehouse/trip_db.db/trip_small_delta/vendor_name=CMT/part-00382-16f87516-1b79-4353-87f2-8f29f9a09ff5.c000.snappy.parquet"
        ],
        [
         "dbfs:/user/hive/warehouse/trip_db.db/trip_small_delta/vendor_name=CMT/part-00383-2e4ee2ed-30d9-48a0-a70c-9c6dae6eac13.c000.snappy.parquet"
        ],
        [
         "dbfs:/user/hive/warehouse/trip_db.db/trip_small_delta/vendor_name=CMT/part-00383-e052cef1-6ba3-425e-9b7d-44cecf52db8f.c000.snappy.parquet"
        ],
        [
         "dbfs:/user/hive/warehouse/trip_db.db/trip_small_delta/vendor_name=CMT/part-00384-3ae9352e-f7ed-419b-b850-39fb2d56dce0.c000.snappy.parquet"
        ],
        [
         "dbfs:/user/hive/warehouse/trip_db.db/trip_small_delta/vendor_name=CMT/part-00384-b6bbaa9d-972f-428f-9b78-c519ccaf8cba.c000.snappy.parquet"
        ],
        [
         "dbfs:/user/hive/warehouse/trip_db.db/trip_small_delta/vendor_name=CMT/part-00385-9db96e50-4f66-4012-96ea-7d294db45cf3.c000.snappy.parquet"
        ],
        [
         "dbfs:/user/hive/warehouse/trip_db.db/trip_small_delta/vendor_name=CMT/part-00385-ed0551e7-74ca-4908-9aae-31c12308b0ae.c000.snappy.parquet"
        ],
        [
         "dbfs:/user/hive/warehouse/trip_db.db/trip_small_delta/vendor_name=CMT/part-00386-98f2ea45-086d-44b5-82fc-5b7f63d959fd.c000.snappy.parquet"
        ],
        [
         "dbfs:/user/hive/warehouse/trip_db.db/trip_small_delta/vendor_name=CMT/part-00386-d0e37333-2f34-48dc-b21a-8900f85c2c07.c000.snappy.parquet"
        ],
        [
         "dbfs:/user/hive/warehouse/trip_db.db/trip_small_delta/vendor_name=CMT/part-00387-ad91de68-0fec-4d95-b420-ef7cfd3bd662.c000.snappy.parquet"
        ],
        [
         "dbfs:/user/hive/warehouse/trip_db.db/trip_small_delta/vendor_name=CMT/part-00387-f40e1926-d626-4da4-9bd6-621026ffcfa4.c000.snappy.parquet"
        ],
        [
         "dbfs:/user/hive/warehouse/trip_db.db/trip_small_delta/vendor_name=CMT/part-00388-e3f819c9-b6d7-4f69-9c08-e51758eeed0a.c000.snappy.parquet"
        ],
        [
         "dbfs:/user/hive/warehouse/trip_db.db/trip_small_delta/vendor_name=CMT/part-00388-e8494ffd-c32a-4263-b3b4-57c6203c477e.c000.snappy.parquet"
        ],
        [
         "dbfs:/user/hive/warehouse/trip_db.db/trip_small_delta/vendor_name=CMT/part-00389-7eb87c66-1daa-4909-bd77-0385cef3f8c0.c000.snappy.parquet"
        ],
        [
         "dbfs:/user/hive/warehouse/trip_db.db/trip_small_delta/vendor_name=CMT/part-00389-a20234c8-f745-4250-835e-686530c44e78.c000.snappy.parquet"
        ],
        [
         "dbfs:/user/hive/warehouse/trip_db.db/trip_small_delta/vendor_name=CMT/part-00390-633ad642-fa21-4756-a842-d0bfa0befb94.c000.snappy.parquet"
        ],
        [
         "dbfs:/user/hive/warehouse/trip_db.db/trip_small_delta/vendor_name=CMT/part-00390-78eec371-759f-49cc-b1df-2e4a75fa9566.c000.snappy.parquet"
        ],
        [
         "dbfs:/user/hive/warehouse/trip_db.db/trip_small_delta/vendor_name=CMT/part-00391-640e6490-7a2d-4b73-a322-bc244b49e5ab.c000.snappy.parquet"
        ],
        [
         "dbfs:/user/hive/warehouse/trip_db.db/trip_small_delta/vendor_name=CMT/part-00391-d65c98df-8782-41ba-8d4f-e38ffd6f03f7.c000.snappy.parquet"
        ],
        [
         "dbfs:/user/hive/warehouse/trip_db.db/trip_small_delta/vendor_name=CMT/part-00392-08a4f20a-e17a-4c5f-99d7-dae9e9053348.c000.snappy.parquet"
        ],
        [
         "dbfs:/user/hive/warehouse/trip_db.db/trip_small_delta/vendor_name=CMT/part-00392-377982e4-5737-4b46-b003-fbc062f96767.c000.snappy.parquet"
        ],
        [
         "dbfs:/user/hive/warehouse/trip_db.db/trip_small_delta/vendor_name=CMT/part-00393-87437825-5fd8-4cec-bc7b-77555d7ca44e.c000.snappy.parquet"
        ],
        [
         "dbfs:/user/hive/warehouse/trip_db.db/trip_small_delta/vendor_name=CMT/part-00393-926f7c5d-fbb7-4dc3-b8e6-a82b3a189cca.c000.snappy.parquet"
        ],
        [
         "dbfs:/user/hive/warehouse/trip_db.db/trip_small_delta/vendor_name=CMT/part-00394-3a526ee8-bfaf-44d2-9666-6fe88b9689af.c000.snappy.parquet"
        ],
        [
         "dbfs:/user/hive/warehouse/trip_db.db/trip_small_delta/vendor_name=CMT/part-00394-fd2d2b18-cf81-4191-a2bf-443ec957abb0.c000.snappy.parquet"
        ],
        [
         "dbfs:/user/hive/warehouse/trip_db.db/trip_small_delta/vendor_name=CMT/part-00395-18486931-b772-4e61-9593-85b32a279c65.c000.snappy.parquet"
        ],
        [
         "dbfs:/user/hive/warehouse/trip_db.db/trip_small_delta/vendor_name=CMT/part-00395-2e944b37-7d9c-432a-8499-6251de693303.c000.snappy.parquet"
        ],
        [
         "dbfs:/user/hive/warehouse/trip_db.db/trip_small_delta/vendor_name=CMT/part-00396-2e4de736-3306-4f5a-bfdf-b5feb6e933c5.c000.snappy.parquet"
        ],
        [
         "dbfs:/user/hive/warehouse/trip_db.db/trip_small_delta/vendor_name=CMT/part-00396-aade6dc3-dfad-43db-b39d-b987c57eab3f.c000.snappy.parquet"
        ],
        [
         "dbfs:/user/hive/warehouse/trip_db.db/trip_small_delta/vendor_name=CMT/part-00397-354cf777-2a6b-42ea-b811-f5e30a8c5564.c000.snappy.parquet"
        ],
        [
         "dbfs:/user/hive/warehouse/trip_db.db/trip_small_delta/vendor_name=CMT/part-00397-b9af0176-7263-4ce9-84cb-c10e0b742039.c000.snappy.parquet"
        ],
        [
         "dbfs:/user/hive/warehouse/trip_db.db/trip_small_delta/vendor_name=CMT/part-00398-73bb03bd-54ba-4ab2-932c-def85943c9cf.c000.snappy.parquet"
        ],
        [
         "dbfs:/user/hive/warehouse/trip_db.db/trip_small_delta/vendor_name=CMT/part-00398-a211c64c-884d-4252-ba3c-c3b069f68bc4.c000.snappy.parquet"
        ],
        [
         "dbfs:/user/hive/warehouse/trip_db.db/trip_small_delta/vendor_name=CMT/part-00399-1796936b-f61f-4672-b8b8-9962476e1bf4.c000.snappy.parquet"
        ],
        [
         "dbfs:/user/hive/warehouse/trip_db.db/trip_small_delta/vendor_name=CMT/part-00399-a5fe515b-fbab-410e-9b4b-814b04c91c32.c000.snappy.parquet"
        ],
        [
         "dbfs:/user/hive/warehouse/trip_db.db/trip_small_delta/vendor_name=CMT/part-00400-10d9e4c6-680e-4c16-a08e-7541afb85efc.c000.snappy.parquet"
        ],
        [
         "dbfs:/user/hive/warehouse/trip_db.db/trip_small_delta/vendor_name=CMT/part-00400-a32144fc-b648-45c8-8523-93992db5863a.c000.snappy.parquet"
        ],
        [
         "dbfs:/user/hive/warehouse/trip_db.db/trip_small_delta/vendor_name=CMT/part-00401-4dcae846-04ca-4413-a8f5-fcbbcc7b24e3.c000.snappy.parquet"
        ],
        [
         "dbfs:/user/hive/warehouse/trip_db.db/trip_small_delta/vendor_name=CMT/part-00401-8f663135-c4e7-40cc-83be-f76302209986.c000.snappy.parquet"
        ],
        [
         "dbfs:/user/hive/warehouse/trip_db.db/trip_small_delta/vendor_name=CMT/part-00402-5b6bd7b2-3da3-41d0-b2bf-6efb586ad473.c000.snappy.parquet"
        ],
        [
         "dbfs:/user/hive/warehouse/trip_db.db/trip_small_delta/vendor_name=CMT/part-00402-eaeae116-b619-4f56-a998-248e61ee4cb0.c000.snappy.parquet"
        ],
        [
         "dbfs:/user/hive/warehouse/trip_db.db/trip_small_delta/vendor_name=CMT/part-00403-4d682610-8927-4c44-a546-6227554d09e7.c000.snappy.parquet"
        ],
        [
         "dbfs:/user/hive/warehouse/trip_db.db/trip_small_delta/vendor_name=CMT/part-00403-d8e52b52-a33c-4ea1-a3ec-5fad88b70128.c000.snappy.parquet"
        ],
        [
         "dbfs:/user/hive/warehouse/trip_db.db/trip_small_delta/vendor_name=CMT/part-00404-6c5bef3d-3393-4938-936f-573b3bf4e4d8.c000.snappy.parquet"
        ],
        [
         "dbfs:/user/hive/warehouse/trip_db.db/trip_small_delta/vendor_name=CMT/part-00404-d186a4cd-e3fa-4f49-81df-d4b2e1a46f21.c000.snappy.parquet"
        ],
        [
         "dbfs:/user/hive/warehouse/trip_db.db/trip_small_delta/vendor_name=CMT/part-00405-20021897-c6c0-40cf-8560-c2bdf81fe5c3.c000.snappy.parquet"
        ],
        [
         "dbfs:/user/hive/warehouse/trip_db.db/trip_small_delta/vendor_name=CMT/part-00405-8e91b0d2-dc98-48cd-978f-f4ddea0a5457.c000.snappy.parquet"
        ],
        [
         "dbfs:/user/hive/warehouse/trip_db.db/trip_small_delta/vendor_name=CMT/part-00406-9535b4ff-d948-4880-93a4-78c011409651.c000.snappy.parquet"
        ],
        [
         "dbfs:/user/hive/warehouse/trip_db.db/trip_small_delta/vendor_name=CMT/part-00406-965e744f-11da-40ff-bbcc-8715c4f14039.c000.snappy.parquet"
        ],
        [
         "dbfs:/user/hive/warehouse/trip_db.db/trip_small_delta/vendor_name=CMT/part-00407-35af53e2-0510-41e3-9e5c-3b5eaf7bfc51.c000.snappy.parquet"
        ],
        [
         "dbfs:/user/hive/warehouse/trip_db.db/trip_small_delta/vendor_name=CMT/part-00407-68bc6e03-3572-4621-9e3b-806d3d42a039.c000.snappy.parquet"
        ],
        [
         "dbfs:/user/hive/warehouse/trip_db.db/trip_small_delta/vendor_name=CMT/part-00408-8a2c76b8-7bbe-4402-88b5-02c14018b1d8.c000.snappy.parquet"
        ],
        [
         "dbfs:/user/hive/warehouse/trip_db.db/trip_small_delta/vendor_name=CMT/part-00408-f2593f50-9df4-41dc-8313-46497db228c3.c000.snappy.parquet"
        ],
        [
         "dbfs:/user/hive/warehouse/trip_db.db/trip_small_delta/vendor_name=CMT/part-00409-56dcc124-033d-4959-83a1-7d53ae0bb693.c000.snappy.parquet"
        ],
        [
         "dbfs:/user/hive/warehouse/trip_db.db/trip_small_delta/vendor_name=CMT/part-00409-e292ad3f-8971-4ff5-bc5a-8102377b358b.c000.snappy.parquet"
        ],
        [
         "dbfs:/user/hive/warehouse/trip_db.db/trip_small_delta/vendor_name=CMT/part-00410-18bcc9cf-17fa-4a2a-a040-39ebfb3a717b.c000.snappy.parquet"
        ],
        [
         "dbfs:/user/hive/warehouse/trip_db.db/trip_small_delta/vendor_name=CMT/part-00410-4d2180a5-6c54-4e1f-82ce-3b009f13bf24.c000.snappy.parquet"
        ],
        [
         "dbfs:/user/hive/warehouse/trip_db.db/trip_small_delta/vendor_name=CMT/part-00411-7f106c2f-f984-4855-a366-71b372df1781.c000.snappy.parquet"
        ],
        [
         "dbfs:/user/hive/warehouse/trip_db.db/trip_small_delta/vendor_name=CMT/part-00411-b651472e-c7ba-4fdd-bab3-ada1f11f911d.c000.snappy.parquet"
        ],
        [
         "dbfs:/user/hive/warehouse/trip_db.db/trip_small_delta/vendor_name=CMT/part-00412-29b13d76-888b-4b56-85e8-06a3daee3889.c000.snappy.parquet"
        ],
        [
         "dbfs:/user/hive/warehouse/trip_db.db/trip_small_delta/vendor_name=CMT/part-00412-66cd2d34-fb14-468c-91c5-0905fe1ca1e2.c000.snappy.parquet"
        ],
        [
         "dbfs:/user/hive/warehouse/trip_db.db/trip_small_delta/vendor_name=CMT/part-00413-bc5b2265-efd9-451c-bae9-69b3aa41caf3.c000.snappy.parquet"
        ],
        [
         "dbfs:/user/hive/warehouse/trip_db.db/trip_small_delta/vendor_name=CMT/part-00413-e9977757-3ea7-4bf8-858c-6fcca2e20e3c.c000.snappy.parquet"
        ],
        [
         "dbfs:/user/hive/warehouse/trip_db.db/trip_small_delta/vendor_name=CMT/part-00414-2f64235c-3261-437c-8621-1e9d995152d3.c000.snappy.parquet"
        ],
        [
         "dbfs:/user/hive/warehouse/trip_db.db/trip_small_delta/vendor_name=CMT/part-00414-55e96e5d-3837-46ed-ad93-680a6abfc756.c000.snappy.parquet"
        ],
        [
         "dbfs:/user/hive/warehouse/trip_db.db/trip_small_delta/vendor_name=CMT/part-00415-3480cf0b-0013-4247-ac2c-4dbe85e7d2d6.c000.snappy.parquet"
        ],
        [
         "dbfs:/user/hive/warehouse/trip_db.db/trip_small_delta/vendor_name=CMT/part-00415-ec9d44a4-9b5e-453c-a120-c02186af06d8.c000.snappy.parquet"
        ],
        [
         "dbfs:/user/hive/warehouse/trip_db.db/trip_small_delta/vendor_name=CMT/part-00416-4302a37e-2b18-491a-8e00-e66803ec809d.c000.snappy.parquet"
        ],
        [
         "dbfs:/user/hive/warehouse/trip_db.db/trip_small_delta/vendor_name=CMT/part-00416-f0559adc-bdf0-4a82-9d89-3d405b2e84c9.c000.snappy.parquet"
        ],
        [
         "dbfs:/user/hive/warehouse/trip_db.db/trip_small_delta/vendor_name=CMT/part-00417-5fbe974e-ce28-4a89-8f96-015c3379728a.c000.snappy.parquet"
        ],
        [
         "dbfs:/user/hive/warehouse/trip_db.db/trip_small_delta/vendor_name=CMT/part-00417-ddc7b96f-37a3-4247-b8aa-160b627e5536.c000.snappy.parquet"
        ],
        [
         "dbfs:/user/hive/warehouse/trip_db.db/trip_small_delta/vendor_name=CMT/part-00418-22843a87-4896-471f-8119-6f3278c3728f.c000.snappy.parquet"
        ],
        [
         "dbfs:/user/hive/warehouse/trip_db.db/trip_small_delta/vendor_name=CMT/part-00418-834fc568-f78c-4435-8c11-ce49d4e01517.c000.snappy.parquet"
        ],
        [
         "dbfs:/user/hive/warehouse/trip_db.db/trip_small_delta/vendor_name=CMT/part-00419-43631286-5183-40e3-a03f-d2e470b1af63.c000.snappy.parquet"
        ],
        [
         "dbfs:/user/hive/warehouse/trip_db.db/trip_small_delta/vendor_name=CMT/part-00419-cc9e9fb3-754e-4033-9c19-05ac07a37ae0.c000.snappy.parquet"
        ],
        [
         "dbfs:/user/hive/warehouse/trip_db.db/trip_small_delta/vendor_name=CMT/part-00420-b1b6f262-4270-45de-9e77-210b97e0f5f5.c000.snappy.parquet"
        ],
        [
         "dbfs:/user/hive/warehouse/trip_db.db/trip_small_delta/vendor_name=CMT/part-00420-f5d39a81-36ae-48ae-87db-8e2b35a267f7.c000.snappy.parquet"
        ],
        [
         "dbfs:/user/hive/warehouse/trip_db.db/trip_small_delta/vendor_name=CMT/part-00421-d5288e1f-1312-42bc-902b-c44b9cfa2493.c000.snappy.parquet"
        ],
        [
         "dbfs:/user/hive/warehouse/trip_db.db/trip_small_delta/vendor_name=CMT/part-00421-f827b8fd-a6fb-478f-8d4a-694b38c5c1dc.c000.snappy.parquet"
        ],
        [
         "dbfs:/user/hive/warehouse/trip_db.db/trip_small_delta/vendor_name=CMT/part-00422-454c76a1-5159-4dac-8681-d4b89b142bdf.c000.snappy.parquet"
        ],
        [
         "dbfs:/user/hive/warehouse/trip_db.db/trip_small_delta/vendor_name=CMT/part-00422-cfd3a91a-7e21-4e0f-8f5e-ac6c4ce4fa5f.c000.snappy.parquet"
        ],
        [
         "dbfs:/user/hive/warehouse/trip_db.db/trip_small_delta/vendor_name=CMT/part-00423-2ea46069-053f-4f9f-ba0b-f619f210ef60.c000.snappy.parquet"
        ],
        [
         "dbfs:/user/hive/warehouse/trip_db.db/trip_small_delta/vendor_name=CMT/part-00423-d3fd3f3d-a487-4b8e-a2bb-eafa3c2acf50.c000.snappy.parquet"
        ],
        [
         "dbfs:/user/hive/warehouse/trip_db.db/trip_small_delta/vendor_name=CMT/part-00424-c46c7a26-7343-4bf1-b901-1e71d505b87b.c000.snappy.parquet"
        ],
        [
         "dbfs:/user/hive/warehouse/trip_db.db/trip_small_delta/vendor_name=CMT/part-00424-f4abc4e2-c69b-4e4c-811a-cd60b069ae39.c000.snappy.parquet"
        ],
        [
         "dbfs:/user/hive/warehouse/trip_db.db/trip_small_delta/vendor_name=CMT/part-00425-803fa9c4-5f27-4d9e-9ca0-f7c3b1382f93.c000.snappy.parquet"
        ],
        [
         "dbfs:/user/hive/warehouse/trip_db.db/trip_small_delta/vendor_name=CMT/part-00425-9f3844dd-1f26-4154-a797-cf2c97a5433d.c000.snappy.parquet"
        ],
        [
         "dbfs:/user/hive/warehouse/trip_db.db/trip_small_delta/vendor_name=CMT/part-00426-9c956119-daa9-4938-a374-76c3afb6c099.c000.snappy.parquet"
        ],
        [
         "dbfs:/user/hive/warehouse/trip_db.db/trip_small_delta/vendor_name=CMT/part-00426-bba74a3a-f0fd-47a3-8ca9-20cfb000267a.c000.snappy.parquet"
        ],
        [
         "dbfs:/user/hive/warehouse/trip_db.db/trip_small_delta/vendor_name=CMT/part-00427-4c5adcf7-108d-47b5-9616-eb6231792795.c000.snappy.parquet"
        ],
        [
         "dbfs:/user/hive/warehouse/trip_db.db/trip_small_delta/vendor_name=CMT/part-00427-9783d5c7-281e-4238-8f84-e6827dcac131.c000.snappy.parquet"
        ],
        [
         "dbfs:/user/hive/warehouse/trip_db.db/trip_small_delta/vendor_name=CMT/part-00428-cd793d07-f185-43dd-867d-5ee772189f9f.c000.snappy.parquet"
        ],
        [
         "dbfs:/user/hive/warehouse/trip_db.db/trip_small_delta/vendor_name=CMT/part-00428-d844ce66-6f59-4675-9d98-4d5c4cd071fc.c000.snappy.parquet"
        ],
        [
         "dbfs:/user/hive/warehouse/trip_db.db/trip_small_delta/vendor_name=CMT/part-00429-b2ac9949-08f1-41e8-898f-cdc9f6b2ceef.c000.snappy.parquet"
        ],
        [
         "dbfs:/user/hive/warehouse/trip_db.db/trip_small_delta/vendor_name=CMT/part-00429-deed4250-d9e9-484c-9470-4f3b261f7869.c000.snappy.parquet"
        ],
        [
         "dbfs:/user/hive/warehouse/trip_db.db/trip_small_delta/vendor_name=CMT/part-00430-cb5c624a-1a69-4210-af5c-d56c76ca593a.c000.snappy.parquet"
        ],
        [
         "dbfs:/user/hive/warehouse/trip_db.db/trip_small_delta/vendor_name=CMT/part-00430-ecd10726-9378-48c2-931c-a7864361a482.c000.snappy.parquet"
        ],
        [
         "dbfs:/user/hive/warehouse/trip_db.db/trip_small_delta/vendor_name=CMT/part-00431-1c588dbd-300a-4028-b3a4-8c1f1691439a.c000.snappy.parquet"
        ],
        [
         "dbfs:/user/hive/warehouse/trip_db.db/trip_small_delta/vendor_name=CMT/part-00431-6cba1241-9edb-4a23-9dd4-a08bbcf3eaea.c000.snappy.parquet"
        ],
        [
         "dbfs:/user/hive/warehouse/trip_db.db/trip_small_delta/vendor_name=CMT/part-00432-26e52eda-2ba7-4249-9309-eec33a6b13ff.c000.snappy.parquet"
        ],
        [
         "dbfs:/user/hive/warehouse/trip_db.db/trip_small_delta/vendor_name=CMT/part-00432-a3f2e23e-a5b5-43e4-b2a4-2f8b76ffba2b.c000.snappy.parquet"
        ],
        [
         "dbfs:/user/hive/warehouse/trip_db.db/trip_small_delta/vendor_name=CMT/part-00433-3244d57d-3c4f-4697-bec9-4d4fb179bbdb.c000.snappy.parquet"
        ],
        [
         "dbfs:/user/hive/warehouse/trip_db.db/trip_small_delta/vendor_name=CMT/part-00433-a3918c65-2643-4d93-861a-5ec1da0456a6.c000.snappy.parquet"
        ],
        [
         "dbfs:/user/hive/warehouse/trip_db.db/trip_small_delta/vendor_name=CMT/part-00434-95e739ee-4873-4bb2-a17d-e61a7e102def.c000.snappy.parquet"
        ],
        [
         "dbfs:/user/hive/warehouse/trip_db.db/trip_small_delta/vendor_name=CMT/part-00434-e774975f-51f4-456c-9175-4d262d7ac68b.c000.snappy.parquet"
        ],
        [
         "dbfs:/user/hive/warehouse/trip_db.db/trip_small_delta/vendor_name=CMT/part-00435-4e68c7cd-88b9-43dd-b549-e140ebdc460e.c000.snappy.parquet"
        ],
        [
         "dbfs:/user/hive/warehouse/trip_db.db/trip_small_delta/vendor_name=CMT/part-00435-64c7e4bf-23d5-4c3e-ac32-798f2e3758a0.c000.snappy.parquet"
        ],
        [
         "dbfs:/user/hive/warehouse/trip_db.db/trip_small_delta/vendor_name=CMT/part-00436-3b2e97dc-3976-4546-8adb-564a69368ec6.c000.snappy.parquet"
        ],
        [
         "dbfs:/user/hive/warehouse/trip_db.db/trip_small_delta/vendor_name=CMT/part-00436-75ca89ca-0f89-4eaa-9ee4-6ef05f876d47.c000.snappy.parquet"
        ],
        [
         "dbfs:/user/hive/warehouse/trip_db.db/trip_small_delta/vendor_name=CMT/part-00437-070befb9-f0f8-4e30-be34-3e56f9844b17.c000.snappy.parquet"
        ],
        [
         "dbfs:/user/hive/warehouse/trip_db.db/trip_small_delta/vendor_name=CMT/part-00437-49d107bb-22f2-45ba-b4e5-f98c824a83f8.c000.snappy.parquet"
        ],
        [
         "dbfs:/user/hive/warehouse/trip_db.db/trip_small_delta/vendor_name=CMT/part-00438-c72a9fea-dc2a-4eed-ace4-1bac46f85216.c000.snappy.parquet"
        ],
        [
         "dbfs:/user/hive/warehouse/trip_db.db/trip_small_delta/vendor_name=CMT/part-00438-cad62deb-e3e4-4c5b-a41a-5066b2a27efe.c000.snappy.parquet"
        ],
        [
         "dbfs:/user/hive/warehouse/trip_db.db/trip_small_delta/vendor_name=CMT/part-00439-0f6231f6-6f6f-49c1-9395-1c6f233732e0.c000.snappy.parquet"
        ],
        [
         "dbfs:/user/hive/warehouse/trip_db.db/trip_small_delta/vendor_name=CMT/part-00439-8ce2fe1e-2548-40a5-8576-c0dde9ee5859.c000.snappy.parquet"
        ],
        [
         "dbfs:/user/hive/warehouse/trip_db.db/trip_small_delta/vendor_name=CMT/part-00440-871127af-f5c9-4530-928b-927f00eb13f7.c000.snappy.parquet"
        ],
        [
         "dbfs:/user/hive/warehouse/trip_db.db/trip_small_delta/vendor_name=CMT/part-00440-8bb15d75-8058-4807-9e93-9639dbeb3905.c000.snappy.parquet"
        ],
        [
         "dbfs:/user/hive/warehouse/trip_db.db/trip_small_delta/vendor_name=CMT/part-00441-4c18f6db-4612-494d-8d1c-a79cf299bce7.c000.snappy.parquet"
        ],
        [
         "dbfs:/user/hive/warehouse/trip_db.db/trip_small_delta/vendor_name=CMT/part-00441-c2c434d9-3f67-4a26-bddf-2965c98a6330.c000.snappy.parquet"
        ],
        [
         "dbfs:/user/hive/warehouse/trip_db.db/trip_small_delta/vendor_name=CMT/part-00442-1e6ae1d4-f3a4-4734-b95c-a863af17ac64.c000.snappy.parquet"
        ],
        [
         "dbfs:/user/hive/warehouse/trip_db.db/trip_small_delta/vendor_name=CMT/part-00442-e1d65899-0d3b-43fd-93ba-e21b76ae0bed.c000.snappy.parquet"
        ],
        [
         "dbfs:/user/hive/warehouse/trip_db.db/trip_small_delta/vendor_name=CMT/part-00443-48eebdc5-596d-49ae-942c-994f5ef471d1.c000.snappy.parquet"
        ],
        [
         "dbfs:/user/hive/warehouse/trip_db.db/trip_small_delta/vendor_name=CMT/part-00443-d549441b-7e74-40e7-93a1-147103d15227.c000.snappy.parquet"
        ],
        [
         "dbfs:/user/hive/warehouse/trip_db.db/trip_small_delta/vendor_name=CMT/part-00444-680516d1-2a22-4875-b8b3-3401c460cc50.c000.snappy.parquet"
        ],
        [
         "dbfs:/user/hive/warehouse/trip_db.db/trip_small_delta/vendor_name=CMT/part-00444-8fe98501-4069-4285-9acd-781c06d436d9.c000.snappy.parquet"
        ],
        [
         "dbfs:/user/hive/warehouse/trip_db.db/trip_small_delta/vendor_name=CMT/part-00445-1915f1ec-2c8b-49b4-98ea-aed7ed019f10.c000.snappy.parquet"
        ],
        [
         "dbfs:/user/hive/warehouse/trip_db.db/trip_small_delta/vendor_name=CMT/part-00445-25c4b72e-5907-4e2e-9709-765ce48c5dd6.c000.snappy.parquet"
        ],
        [
         "dbfs:/user/hive/warehouse/trip_db.db/trip_small_delta/vendor_name=CMT/part-00446-725e885f-4988-4597-b4b0-d0566bcf6c9e.c000.snappy.parquet"
        ],
        [
         "dbfs:/user/hive/warehouse/trip_db.db/trip_small_delta/vendor_name=CMT/part-00446-f9d595de-f795-4fe2-add3-301601ddad96.c000.snappy.parquet"
        ],
        [
         "dbfs:/user/hive/warehouse/trip_db.db/trip_small_delta/vendor_name=CMT/part-00447-302c438b-8917-4fe2-af68-5e6fcf70c0ce.c000.snappy.parquet"
        ],
        [
         "dbfs:/user/hive/warehouse/trip_db.db/trip_small_delta/vendor_name=CMT/part-00447-6b47dc09-d502-4105-866f-fb06e0cbfcda.c000.snappy.parquet"
        ],
        [
         "dbfs:/user/hive/warehouse/trip_db.db/trip_small_delta/vendor_name=CMT/part-00448-7e4e87eb-580e-4c6d-a3e1-8f93ad36902b.c000.snappy.parquet"
        ],
        [
         "dbfs:/user/hive/warehouse/trip_db.db/trip_small_delta/vendor_name=CMT/part-00448-9ed3bcc8-eed4-4bb8-87b5-a22f677146f6.c000.snappy.parquet"
        ],
        [
         "dbfs:/user/hive/warehouse/trip_db.db/trip_small_delta/vendor_name=CMT/part-00449-82785708-f93e-424c-9edb-a9d19e50aefd.c000.snappy.parquet"
        ],
        [
         "dbfs:/user/hive/warehouse/trip_db.db/trip_small_delta/vendor_name=CMT/part-00449-b14aa388-41d1-48cf-b477-6e1b91d0519b.c000.snappy.parquet"
        ],
        [
         "dbfs:/user/hive/warehouse/trip_db.db/trip_small_delta/vendor_name=CMT/part-00450-8667c4c5-4721-4bc9-8299-a7e5e2622b52.c000.snappy.parquet"
        ],
        [
         "dbfs:/user/hive/warehouse/trip_db.db/trip_small_delta/vendor_name=CMT/part-00450-982fc68e-4cba-44f4-9809-66131623e5e0.c000.snappy.parquet"
        ],
        [
         "dbfs:/user/hive/warehouse/trip_db.db/trip_small_delta/vendor_name=CMT/part-00451-1bd54bfb-5613-41d8-bda5-55154d4b7c36.c000.snappy.parquet"
        ],
        [
         "dbfs:/user/hive/warehouse/trip_db.db/trip_small_delta/vendor_name=CMT/part-00451-eb1f514a-0c48-434b-9fa4-123b7b052d9e.c000.snappy.parquet"
        ],
        [
         "dbfs:/user/hive/warehouse/trip_db.db/trip_small_delta/vendor_name=CMT/part-00452-54f053a4-05b5-4e1d-b958-141df3ed052f.c000.snappy.parquet"
        ],
        [
         "dbfs:/user/hive/warehouse/trip_db.db/trip_small_delta/vendor_name=CMT/part-00452-a7fe48ec-1ad7-45e0-9a1b-92e6ddcf95cc.c000.snappy.parquet"
        ],
        [
         "dbfs:/user/hive/warehouse/trip_db.db/trip_small_delta/vendor_name=CMT/part-00453-1429433f-5ca7-4280-ac03-385ce7ea7a12.c000.snappy.parquet"
        ],
        [
         "dbfs:/user/hive/warehouse/trip_db.db/trip_small_delta/vendor_name=CMT/part-00453-8467f2ca-1609-4695-b611-95a57acc6692.c000.snappy.parquet"
        ],
        [
         "dbfs:/user/hive/warehouse/trip_db.db/trip_small_delta/vendor_name=CMT/part-00454-3c834191-f475-4da5-be76-023222ec17a2.c000.snappy.parquet"
        ],
        [
         "dbfs:/user/hive/warehouse/trip_db.db/trip_small_delta/vendor_name=CMT/part-00454-46781b13-dc6e-404c-bc09-47c8327db4e7.c000.snappy.parquet"
        ],
        [
         "dbfs:/user/hive/warehouse/trip_db.db/trip_small_delta/vendor_name=CMT/part-00455-63de50d6-6744-43a4-9607-b9e1c26f61ca.c000.snappy.parquet"
        ],
        [
         "dbfs:/user/hive/warehouse/trip_db.db/trip_small_delta/vendor_name=CMT/part-00455-7430c668-9e07-45c4-bde4-fe4accb88afe.c000.snappy.parquet"
        ],
        [
         "dbfs:/user/hive/warehouse/trip_db.db/trip_small_delta/vendor_name=CMT/part-00456-3f72b29a-f1a8-463e-82f4-1318c3ce4a4d.c000.snappy.parquet"
        ],
        [
         "dbfs:/user/hive/warehouse/trip_db.db/trip_small_delta/vendor_name=CMT/part-00456-89c07982-e4f1-42c5-b73b-3b14c5a64289.c000.snappy.parquet"
        ],
        [
         "dbfs:/user/hive/warehouse/trip_db.db/trip_small_delta/vendor_name=CMT/part-00457-2c06e8c4-676f-44e6-95ca-125fda25e1b4.c000.snappy.parquet"
        ],
        [
         "dbfs:/user/hive/warehouse/trip_db.db/trip_small_delta/vendor_name=CMT/part-00457-84e5d5ba-f07d-4e0f-a9ec-035380a6bb82.c000.snappy.parquet"
        ],
        [
         "dbfs:/user/hive/warehouse/trip_db.db/trip_small_delta/vendor_name=CMT/part-00458-007e41be-c2ed-410e-bfcc-3a8a6098a6da.c000.snappy.parquet"
        ],
        [
         "dbfs:/user/hive/warehouse/trip_db.db/trip_small_delta/vendor_name=CMT/part-00458-a3c19208-f13c-4f1c-ad37-4e954c7f6297.c000.snappy.parquet"
        ],
        [
         "dbfs:/user/hive/warehouse/trip_db.db/trip_small_delta/vendor_name=CMT/part-00459-44e81e48-7185-4a84-b691-30a87d197d5b.c000.snappy.parquet"
        ],
        [
         "dbfs:/user/hive/warehouse/trip_db.db/trip_small_delta/vendor_name=CMT/part-00459-c3e45605-74f7-46e3-9616-5d7772f0d89c.c000.snappy.parquet"
        ],
        [
         "dbfs:/user/hive/warehouse/trip_db.db/trip_small_delta/vendor_name=CMT/part-00460-477369f4-a034-4ca7-82c9-7f3bc8f5ce17.c000.snappy.parquet"
        ],
        [
         "dbfs:/user/hive/warehouse/trip_db.db/trip_small_delta/vendor_name=CMT/part-00460-eb124eb4-87ce-411d-ad14-8a96402e31f1.c000.snappy.parquet"
        ],
        [
         "dbfs:/user/hive/warehouse/trip_db.db/trip_small_delta/vendor_name=CMT/part-00461-08e570a9-b43f-4ea1-9e51-ad0bcc6d707e.c000.snappy.parquet"
        ],
        [
         "dbfs:/user/hive/warehouse/trip_db.db/trip_small_delta/vendor_name=CMT/part-00461-7e61de36-b2b0-4edf-b322-6b218698b502.c000.snappy.parquet"
        ],
        [
         "dbfs:/user/hive/warehouse/trip_db.db/trip_small_delta/vendor_name=CMT/part-00462-2018133f-1f35-4d12-b813-edeb61011a89.c000.snappy.parquet"
        ],
        [
         "dbfs:/user/hive/warehouse/trip_db.db/trip_small_delta/vendor_name=CMT/part-00462-236cb757-09b4-4178-a586-1ebd36eaf643.c000.snappy.parquet"
        ],
        [
         "dbfs:/user/hive/warehouse/trip_db.db/trip_small_delta/vendor_name=CMT/part-00463-835ee371-1c1c-4e44-85e9-27726deec017.c000.snappy.parquet"
        ],
        [
         "dbfs:/user/hive/warehouse/trip_db.db/trip_small_delta/vendor_name=CMT/part-00463-eeced135-5567-4234-8d50-b4c71e5e033e.c000.snappy.parquet"
        ],
        [
         "dbfs:/user/hive/warehouse/trip_db.db/trip_small_delta/vendor_name=CMT/part-00464-050e31f1-5fb8-4ab7-b02f-324f2a15f0a8.c000.snappy.parquet"
        ],
        [
         "dbfs:/user/hive/warehouse/trip_db.db/trip_small_delta/vendor_name=CMT/part-00464-94a668ca-c075-4bbf-9f22-f768324ab74b.c000.snappy.parquet"
        ],
        [
         "dbfs:/user/hive/warehouse/trip_db.db/trip_small_delta/vendor_name=CMT/part-00465-ce2ab09d-6607-46a5-80c9-1bae6b07ec52.c000.snappy.parquet"
        ],
        [
         "dbfs:/user/hive/warehouse/trip_db.db/trip_small_delta/vendor_name=CMT/part-00465-f885fc5e-d20e-4868-a774-b0702bdbb7ab.c000.snappy.parquet"
        ],
        [
         "dbfs:/user/hive/warehouse/trip_db.db/trip_small_delta/vendor_name=CMT/part-00466-4c79f22f-c1a1-40f6-bbdc-87c81bf717f3.c000.snappy.parquet"
        ],
        [
         "dbfs:/user/hive/warehouse/trip_db.db/trip_small_delta/vendor_name=CMT/part-00466-92e719f5-aa98-498c-a711-8addcfa4874f.c000.snappy.parquet"
        ],
        [
         "dbfs:/user/hive/warehouse/trip_db.db/trip_small_delta/vendor_name=CMT/part-00467-1318656d-d1b5-4c9f-91f7-76b64a5ecce9.c000.snappy.parquet"
        ],
        [
         "dbfs:/user/hive/warehouse/trip_db.db/trip_small_delta/vendor_name=CMT/part-00467-f172a1a7-3375-4926-95fa-1001bf20323f.c000.snappy.parquet"
        ],
        [
         "dbfs:/user/hive/warehouse/trip_db.db/trip_small_delta/vendor_name=CMT/part-00468-7a120e29-f741-40b4-8b02-539063f22559.c000.snappy.parquet"
        ],
        [
         "dbfs:/user/hive/warehouse/trip_db.db/trip_small_delta/vendor_name=CMT/part-00468-d9e2466e-e34e-4200-a2cb-37a6e4f8b725.c000.snappy.parquet"
        ],
        [
         "dbfs:/user/hive/warehouse/trip_db.db/trip_small_delta/vendor_name=CMT/part-00469-2807a44a-2f57-4d7f-a4c2-76ac7a3746b6.c000.snappy.parquet"
        ],
        [
         "dbfs:/user/hive/warehouse/trip_db.db/trip_small_delta/vendor_name=CMT/part-00469-985b6eef-d145-4295-912e-6bf417de90c1.c000.snappy.parquet"
        ],
        [
         "dbfs:/user/hive/warehouse/trip_db.db/trip_small_delta/vendor_name=CMT/part-00470-25b7ef52-3556-459d-9d58-a6b9f433f715.c000.snappy.parquet"
        ],
        [
         "dbfs:/user/hive/warehouse/trip_db.db/trip_small_delta/vendor_name=CMT/part-00470-4fca7512-dee5-4f30-bd70-c5be789dfe80.c000.snappy.parquet"
        ],
        [
         "dbfs:/user/hive/warehouse/trip_db.db/trip_small_delta/vendor_name=CMT/part-00471-4483b113-9d83-46bd-9ed7-516e2e175243.c000.snappy.parquet"
        ],
        [
         "dbfs:/user/hive/warehouse/trip_db.db/trip_small_delta/vendor_name=CMT/part-00471-5c764859-741c-4e9d-96c4-9d185362cbeb.c000.snappy.parquet"
        ],
        [
         "dbfs:/user/hive/warehouse/trip_db.db/trip_small_delta/vendor_name=CMT/part-00472-388d949b-a9ec-458f-8ae7-7e00b6eac319.c000.snappy.parquet"
        ],
        [
         "dbfs:/user/hive/warehouse/trip_db.db/trip_small_delta/vendor_name=CMT/part-00472-7174be92-c462-4ab0-88ab-787025acd130.c000.snappy.parquet"
        ],
        [
         "dbfs:/user/hive/warehouse/trip_db.db/trip_small_delta/vendor_name=CMT/part-00473-9a5f1093-7de3-4c3b-9a02-fdbf0f1c48ce.c000.snappy.parquet"
        ],
        [
         "dbfs:/user/hive/warehouse/trip_db.db/trip_small_delta/vendor_name=CMT/part-00473-b577e074-fbf2-4c4e-b66f-d36a4026ebd5.c000.snappy.parquet"
        ],
        [
         "dbfs:/user/hive/warehouse/trip_db.db/trip_small_delta/vendor_name=CMT/part-00474-4d7fc068-6127-4a97-8573-5b80b2ca0790.c000.snappy.parquet"
        ],
        [
         "dbfs:/user/hive/warehouse/trip_db.db/trip_small_delta/vendor_name=CMT/part-00474-5f55f16c-0f02-4a3e-b3be-0e333245042a.c000.snappy.parquet"
        ],
        [
         "dbfs:/user/hive/warehouse/trip_db.db/trip_small_delta/vendor_name=CMT/part-00475-4885a358-7410-471b-8924-074331c8af16.c000.snappy.parquet"
        ],
        [
         "dbfs:/user/hive/warehouse/trip_db.db/trip_small_delta/vendor_name=CMT/part-00475-f06a0355-04bb-4f8e-a940-b8892281e71e.c000.snappy.parquet"
        ],
        [
         "dbfs:/user/hive/warehouse/trip_db.db/trip_small_delta/vendor_name=CMT/part-00476-9bdb93dc-4b7e-4fca-bdc5-29f5e8d5ab04.c000.snappy.parquet"
        ],
        [
         "dbfs:/user/hive/warehouse/trip_db.db/trip_small_delta/vendor_name=CMT/part-00476-d34c5dae-df7d-485d-9b00-7e11f8134cd6.c000.snappy.parquet"
        ],
        [
         "dbfs:/user/hive/warehouse/trip_db.db/trip_small_delta/vendor_name=CMT/part-00477-d55203a3-0df7-475f-bd76-d38acac4adae.c000.snappy.parquet"
        ],
        [
         "dbfs:/user/hive/warehouse/trip_db.db/trip_small_delta/vendor_name=CMT/part-00477-da62911a-9a78-459a-940c-f3b17e256ce1.c000.snappy.parquet"
        ],
        [
         "dbfs:/user/hive/warehouse/trip_db.db/trip_small_delta/vendor_name=CMT/part-00478-6062d21c-327a-43c3-ac41-de4f1c30a082.c000.snappy.parquet"
        ],
        [
         "dbfs:/user/hive/warehouse/trip_db.db/trip_small_delta/vendor_name=CMT/part-00478-b1dcde0a-1f6a-4087-a0c0-b9201302f2ac.c000.snappy.parquet"
        ],
        [
         "dbfs:/user/hive/warehouse/trip_db.db/trip_small_delta/vendor_name=CMT/part-00479-17af0aaf-fd2f-41b1-b2fa-c24977d87017.c000.snappy.parquet"
        ],
        [
         "dbfs:/user/hive/warehouse/trip_db.db/trip_small_delta/vendor_name=CMT/part-00479-56a171b1-97cc-46a5-a950-d7eb75cc20af.c000.snappy.parquet"
        ],
        [
         "dbfs:/user/hive/warehouse/trip_db.db/trip_small_delta/vendor_name=CMT/part-00480-06058a08-f643-4a14-bb09-4890ccd3584f.c000.snappy.parquet"
        ],
        [
         "dbfs:/user/hive/warehouse/trip_db.db/trip_small_delta/vendor_name=CMT/part-00480-26cee8fb-9b7f-4b15-9d43-3ed6f4d33d70.c000.snappy.parquet"
        ],
        [
         "dbfs:/user/hive/warehouse/trip_db.db/trip_small_delta/vendor_name=CMT/part-00481-b7ea0ee5-0fc9-4b3e-9ae6-f7cfca02d0d9.c000.snappy.parquet"
        ],
        [
         "dbfs:/user/hive/warehouse/trip_db.db/trip_small_delta/vendor_name=CMT/part-00481-fc8bad56-a664-4b80-b9df-575f9009d782.c000.snappy.parquet"
        ],
        [
         "dbfs:/user/hive/warehouse/trip_db.db/trip_small_delta/vendor_name=CMT/part-00482-6c2c673b-daeb-4946-a166-d80ebc216d5b.c000.snappy.parquet"
        ],
        [
         "dbfs:/user/hive/warehouse/trip_db.db/trip_small_delta/vendor_name=CMT/part-00482-c818c8e6-a542-4fa2-9c94-54c541c95ba2.c000.snappy.parquet"
        ],
        [
         "dbfs:/user/hive/warehouse/trip_db.db/trip_small_delta/vendor_name=CMT/part-00483-6f5768a7-437c-4d68-bbc1-70b52ab05a11.c000.snappy.parquet"
        ],
        [
         "dbfs:/user/hive/warehouse/trip_db.db/trip_small_delta/vendor_name=CMT/part-00483-a2400d7f-acec-40d9-afcb-215ce217266c.c000.snappy.parquet"
        ],
        [
         "dbfs:/user/hive/warehouse/trip_db.db/trip_small_delta/vendor_name=CMT/part-00484-d5546b12-ffd7-4ec9-ab3b-c7d4c1e308ab.c000.snappy.parquet"
        ],
        [
         "dbfs:/user/hive/warehouse/trip_db.db/trip_small_delta/vendor_name=CMT/part-00484-f177e8b7-1bf7-4622-a5d3-20fdd43a32e0.c000.snappy.parquet"
        ],
        [
         "dbfs:/user/hive/warehouse/trip_db.db/trip_small_delta/vendor_name=CMT/part-00485-03e46013-7565-4d49-8e94-47e0e03c0dec.c000.snappy.parquet"
        ],
        [
         "dbfs:/user/hive/warehouse/trip_db.db/trip_small_delta/vendor_name=CMT/part-00485-9b3298fc-7e14-4793-91e4-842ef52bf2e3.c000.snappy.parquet"
        ],
        [
         "dbfs:/user/hive/warehouse/trip_db.db/trip_small_delta/vendor_name=CMT/part-00486-85aa066f-78c4-44c5-a9e0-295a7a576274.c000.snappy.parquet"
        ],
        [
         "dbfs:/user/hive/warehouse/trip_db.db/trip_small_delta/vendor_name=CMT/part-00486-a77a3a15-17b7-4a59-a34a-c816ee2fa207.c000.snappy.parquet"
        ],
        [
         "dbfs:/user/hive/warehouse/trip_db.db/trip_small_delta/vendor_name=CMT/part-00487-a751acfe-4757-45c3-a7f3-447f17128c81.c000.snappy.parquet"
        ],
        [
         "dbfs:/user/hive/warehouse/trip_db.db/trip_small_delta/vendor_name=CMT/part-00487-cf8df507-c4e8-4ad2-a71a-2681a17e08a7.c000.snappy.parquet"
        ],
        [
         "dbfs:/user/hive/warehouse/trip_db.db/trip_small_delta/vendor_name=CMT/part-00488-17e29619-f873-447a-9843-1ae73b97fc1f.c000.snappy.parquet"
        ],
        [
         "dbfs:/user/hive/warehouse/trip_db.db/trip_small_delta/vendor_name=CMT/part-00488-30d6cf55-d0ab-49e8-a5f5-97d475806227.c000.snappy.parquet"
        ],
        [
         "dbfs:/user/hive/warehouse/trip_db.db/trip_small_delta/vendor_name=CMT/part-00489-5c4f7786-2200-4afe-83e3-af58a863b64e.c000.snappy.parquet"
        ],
        [
         "dbfs:/user/hive/warehouse/trip_db.db/trip_small_delta/vendor_name=CMT/part-00489-9c03e6bd-1bcf-4e6b-852b-0baf906d44d8.c000.snappy.parquet"
        ],
        [
         "dbfs:/user/hive/warehouse/trip_db.db/trip_small_delta/vendor_name=CMT/part-00490-a76b25da-2de2-4093-99b7-cbf107156161.c000.snappy.parquet"
        ],
        [
         "dbfs:/user/hive/warehouse/trip_db.db/trip_small_delta/vendor_name=CMT/part-00490-c06c5f4a-c4b4-477d-9986-b1e3575bb62f.c000.snappy.parquet"
        ],
        [
         "dbfs:/user/hive/warehouse/trip_db.db/trip_small_delta/vendor_name=CMT/part-00491-26d780b0-b2d7-4c56-8055-5896e38c1a82.c000.snappy.parquet"
        ],
        [
         "dbfs:/user/hive/warehouse/trip_db.db/trip_small_delta/vendor_name=CMT/part-00491-a1aa3994-1c01-4914-8a8f-1b0b8a24fec8.c000.snappy.parquet"
        ],
        [
         "dbfs:/user/hive/warehouse/trip_db.db/trip_small_delta/vendor_name=CMT/part-00492-adf45652-441f-44aa-b636-bedb021578e0.c000.snappy.parquet"
        ],
        [
         "dbfs:/user/hive/warehouse/trip_db.db/trip_small_delta/vendor_name=CMT/part-00492-e1f43ccc-a8fa-478e-b460-bacdc477ec40.c000.snappy.parquet"
        ],
        [
         "dbfs:/user/hive/warehouse/trip_db.db/trip_small_delta/vendor_name=CMT/part-00493-78b49c2d-7d76-41c8-8785-128774ad62f7.c000.snappy.parquet"
        ],
        [
         "dbfs:/user/hive/warehouse/trip_db.db/trip_small_delta/vendor_name=CMT/part-00493-a3f20af9-1806-42dc-8690-7f2af7855f42.c000.snappy.parquet"
        ],
        [
         "dbfs:/user/hive/warehouse/trip_db.db/trip_small_delta/vendor_name=CMT/part-00494-4df78608-83f9-44dd-bdce-488a9f22ec7a.c000.snappy.parquet"
        ],
        [
         "dbfs:/user/hive/warehouse/trip_db.db/trip_small_delta/vendor_name=CMT/part-00494-c2a2a926-3d8a-4f75-a339-faec9500a9d6.c000.snappy.parquet"
        ],
        [
         "dbfs:/user/hive/warehouse/trip_db.db/trip_small_delta/vendor_name=CMT/part-00495-72481d67-9d1b-4555-b84e-fad8f33f5247.c000.snappy.parquet"
        ],
        [
         "dbfs:/user/hive/warehouse/trip_db.db/trip_small_delta/vendor_name=CMT/part-00495-bfe0260f-26ed-4216-a19d-9c408dc621b7.c000.snappy.parquet"
        ],
        [
         "dbfs:/user/hive/warehouse/trip_db.db/trip_small_delta/vendor_name=CMT/part-00496-65faf053-d114-4bb5-a701-80e6e6fd29d9.c000.snappy.parquet"
        ],
        [
         "dbfs:/user/hive/warehouse/trip_db.db/trip_small_delta/vendor_name=CMT/part-00496-a5b5f92c-d780-4f54-b6be-e7a148a0f7d5.c000.snappy.parquet"
        ],
        [
         "dbfs:/user/hive/warehouse/trip_db.db/trip_small_delta/vendor_name=CMT/part-00497-817d855c-6dbc-47cc-a0e1-82ad7d481cde.c000.snappy.parquet"
        ],
        [
         "dbfs:/user/hive/warehouse/trip_db.db/trip_small_delta/vendor_name=CMT/part-00497-bf94ddba-10b7-4e92-be37-130b89722a88.c000.snappy.parquet"
        ],
        [
         "dbfs:/user/hive/warehouse/trip_db.db/trip_small_delta/vendor_name=CMT/part-00498-590651e9-f07b-4819-9e3e-0f2c902dde3c.c000.snappy.parquet"
        ],
        [
         "dbfs:/user/hive/warehouse/trip_db.db/trip_small_delta/vendor_name=CMT/part-00498-e095a18d-3bcd-4840-abfe-0cf5b69db652.c000.snappy.parquet"
        ]
       ],
       "datasetInfos": [],
       "dbfsResultPath": null,
       "isJsonSchema": true,
       "metadata": {},
       "overflow": false,
       "plotOptions": {
        "customPlotOptions": {},
        "displayType": "table",
        "pivotAggregation": null,
        "pivotColumns": null,
        "xColumns": null,
        "yColumns": null
       },
       "removedWidgets": [],
       "schema": [
        {
         "metadata": "{}",
         "name": "path",
         "type": "\"string\""
        }
       ],
       "type": "table"
      }
     },
     "output_type": "display_data"
    }
   ],
   "source": [
    "%sql\n",
    "VACUUM trip_db.trip_small_delta RETAIN 1 HOURS DRY RUN"
   ]
  },
  {
   "cell_type": "code",
   "execution_count": 0,
   "metadata": {
    "application/vnd.databricks.v1+cell": {
     "cellMetadata": {
      "byteLimit": 2048000,
      "implicitDf": true,
      "rowLimit": 10000
     },
     "inputWidgets": {},
     "nuid": "101ebeac-6d73-4ab8-9c29-ff0ce61970cb",
     "showTitle": false,
     "title": ""
    }
   },
   "outputs": [
    {
     "output_type": "display_data",
     "data": {
      "text/html": [
       "<style scoped>\n",
       "  .table-result-container {\n",
       "    max-height: 300px;\n",
       "    overflow: auto;\n",
       "  }\n",
       "  table, th, td {\n",
       "    border: 1px solid black;\n",
       "    border-collapse: collapse;\n",
       "  }\n",
       "  th, td {\n",
       "    padding: 5px;\n",
       "  }\n",
       "  th {\n",
       "    text-align: left;\n",
       "  }\n",
       "</style><div class='table-result-container'><table class='table-result'><thead style='background-color: white'><tr><th>path</th></tr></thead><tbody><tr><td>dbfs:/user/hive/warehouse/trip_db.db/trip_small_delta</td></tr></tbody></table></div>"
      ]
     },
     "metadata": {
      "application/vnd.databricks.v1+output": {
       "addedWidgets": {},
       "aggData": [],
       "aggError": "",
       "aggOverflow": false,
       "aggSchema": [],
       "aggSeriesLimitReached": false,
       "aggType": "",
       "arguments": {},
       "columnCustomDisplayInfos": {},
       "data": [
        [
         "dbfs:/user/hive/warehouse/trip_db.db/trip_small_delta"
        ]
       ],
       "datasetInfos": [],
       "dbfsResultPath": null,
       "isJsonSchema": true,
       "metadata": {},
       "overflow": false,
       "plotOptions": {
        "customPlotOptions": {},
        "displayType": "table",
        "pivotAggregation": null,
        "pivotColumns": null,
        "xColumns": null,
        "yColumns": null
       },
       "removedWidgets": [],
       "schema": [
        {
         "metadata": "{}",
         "name": "path",
         "type": "\"string\""
        }
       ],
       "type": "table"
      }
     },
     "output_type": "display_data"
    }
   ],
   "source": [
    "%sql\n",
    "VACUUM trip_db.trip_small_delta RETAIN 1 HOURS"
   ]
  },
  {
   "cell_type": "code",
   "execution_count": 0,
   "metadata": {
    "application/vnd.databricks.v1+cell": {
     "cellMetadata": {},
     "inputWidgets": {},
     "nuid": "cb27903e-e89a-4d68-a239-bf2a6baef08a",
     "showTitle": false,
     "title": ""
    }
   },
   "outputs": [],
   "source": []
  },
  {
   "cell_type": "code",
   "execution_count": 0,
   "metadata": {
    "application/vnd.databricks.v1+cell": {
     "cellMetadata": {},
     "inputWidgets": {},
     "nuid": "eff94112-b7a5-4990-8b1d-d3a4b5dc6d4c",
     "showTitle": false,
     "title": ""
    }
   },
   "outputs": [],
   "source": []
  }
 ],
 "metadata": {
  "application/vnd.databricks.v1+notebook": {
   "dashboards": [],
   "language": "python",
   "notebookMetadata": {
    "mostRecentlyExecutedCommandWithImplicitDF": {
     "commandId": 1091856922490358,
     "dataframes": [
      "_sqldf"
     ]
    },
    "pythonIndentUnit": 4
   },
   "notebookName": "Delta_Optimizations_01",
   "widgets": {}
  }
 },
 "nbformat": 4,
 "nbformat_minor": 0
}
