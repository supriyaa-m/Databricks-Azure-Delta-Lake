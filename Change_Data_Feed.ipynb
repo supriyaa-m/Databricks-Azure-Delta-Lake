{
 "cells": [
  {
   "cell_type": "code",
   "execution_count": 0,
   "metadata": {
    "application/vnd.databricks.v1+cell": {
     "cellMetadata": {
      "byteLimit": 2048000,
      "implicitDf": true,
      "rowLimit": 10000
     },
     "inputWidgets": {},
     "nuid": "feadde12-d5cb-4e6d-a54c-f8f97d843ca7",
     "showTitle": false,
     "title": ""
    }
   },
   "outputs": [
    {
     "output_type": "display_data",
     "data": {
      "text/html": [
       "<style scoped>\n",
       "  .table-result-container {\n",
       "    max-height: 300px;\n",
       "    overflow: auto;\n",
       "  }\n",
       "  table, th, td {\n",
       "    border: 1px solid black;\n",
       "    border-collapse: collapse;\n",
       "  }\n",
       "  th, td {\n",
       "    padding: 5px;\n",
       "  }\n",
       "  th {\n",
       "    text-align: left;\n",
       "  }\n",
       "</style><div class='table-result-container'><table class='table-result'><thead style='background-color: white'><tr></tr></thead><tbody></tbody></table></div>"
      ]
     },
     "metadata": {
      "application/vnd.databricks.v1+output": {
       "addedWidgets": {},
       "aggData": [],
       "aggError": "",
       "aggOverflow": false,
       "aggSchema": [],
       "aggSeriesLimitReached": false,
       "aggType": "",
       "arguments": {},
       "columnCustomDisplayInfos": {},
       "data": [],
       "datasetInfos": [],
       "dbfsResultPath": null,
       "isJsonSchema": true,
       "metadata": {},
       "overflow": false,
       "plotOptions": {
        "customPlotOptions": {},
        "displayType": "table",
        "pivotAggregation": null,
        "pivotColumns": null,
        "xColumns": null,
        "yColumns": null
       },
       "removedWidgets": [],
       "schema": [],
       "type": "table"
      }
     },
     "output_type": "display_data"
    }
   ],
   "source": [
    "%sql\n",
    "create table orders \n",
    "(\n",
    "  order_id int,\n",
    "order_date string,\n",
    "customer_id int,\n",
    "order_status string\n",
    ")\n",
    "using delta \n",
    "TBLPROPERTIES(delta.enableChangeDataFeed=true)"
   ]
  },
  {
   "cell_type": "code",
   "execution_count": 0,
   "metadata": {
    "application/vnd.databricks.v1+cell": {
     "cellMetadata": {},
     "inputWidgets": {},
     "nuid": "67921520-4282-48bd-91b2-332e13c63e2e",
     "showTitle": false,
     "title": ""
    }
   },
   "outputs": [],
   "source": [
    "%sql\n",
    "alter table orders set TBLPROPERTIES(delta.enableChangeDataFeed=true)"
   ]
  },
  {
   "cell_type": "code",
   "execution_count": 0,
   "metadata": {
    "application/vnd.databricks.v1+cell": {
     "cellMetadata": {},
     "inputWidgets": {},
     "nuid": "74c8475b-be4f-40cf-bbb1-a31f51d48eca",
     "showTitle": false,
     "title": ""
    }
   },
   "outputs": [],
   "source": [
    "set spark.databricks.delta.properties.defaults.enableChangeDataFeed = true"
   ]
  },
  {
   "cell_type": "code",
   "execution_count": 0,
   "metadata": {
    "application/vnd.databricks.v1+cell": {
     "cellMetadata": {
      "byteLimit": 2048000,
      "implicitDf": true,
      "rowLimit": 10000
     },
     "inputWidgets": {},
     "nuid": "97c772a8-17b8-4b64-969b-24e505111265",
     "showTitle": false,
     "title": ""
    }
   },
   "outputs": [
    {
     "output_type": "display_data",
     "data": {
      "text/html": [
       "<style scoped>\n",
       "  .table-result-container {\n",
       "    max-height: 300px;\n",
       "    overflow: auto;\n",
       "  }\n",
       "  table, th, td {\n",
       "    border: 1px solid black;\n",
       "    border-collapse: collapse;\n",
       "  }\n",
       "  th, td {\n",
       "    padding: 5px;\n",
       "  }\n",
       "  th {\n",
       "    text-align: left;\n",
       "  }\n",
       "</style><div class='table-result-container'><table class='table-result'><thead style='background-color: white'><tr><th>version</th><th>timestamp</th><th>userId</th><th>userName</th><th>operation</th><th>operationParameters</th><th>job</th><th>notebook</th><th>clusterId</th><th>readVersion</th><th>isolationLevel</th><th>isBlindAppend</th><th>operationMetrics</th><th>userMetadata</th><th>engineInfo</th></tr></thead><tbody><tr><td>0</td><td>2024-01-20T14:04:07.000+0000</td><td>2035466439901047</td><td>supriyaamshenoy@outlook.com</td><td>CREATE TABLE</td><td>Map(isManaged -> true, description -> null, partitionBy -> [], properties -> {\"delta.enableChangeDataFeed\":\"true\"})</td><td>null</td><td>List(255109713963747)</td><td>0120-123653-8exxn4nq</td><td>null</td><td>WriteSerializable</td><td>true</td><td>Map()</td><td>null</td><td>Databricks-Runtime/10.4.x-scala2.12</td></tr></tbody></table></div>"
      ]
     },
     "metadata": {
      "application/vnd.databricks.v1+output": {
       "addedWidgets": {},
       "aggData": [],
       "aggError": "",
       "aggOverflow": false,
       "aggSchema": [],
       "aggSeriesLimitReached": false,
       "aggType": "",
       "arguments": {},
       "columnCustomDisplayInfos": {},
       "data": [
        [
         0,
         "2024-01-20T14:04:07.000+0000",
         "2035466439901047",
         "supriyaamshenoy@outlook.com",
         "CREATE TABLE",
         {
          "description": null,
          "isManaged": "true",
          "partitionBy": "[]",
          "properties": "{\"delta.enableChangeDataFeed\":\"true\"}"
         },
         null,
         [
          "255109713963747"
         ],
         "0120-123653-8exxn4nq",
         null,
         "WriteSerializable",
         true,
         {},
         null,
         "Databricks-Runtime/10.4.x-scala2.12"
        ]
       ],
       "datasetInfos": [],
       "dbfsResultPath": null,
       "isJsonSchema": true,
       "metadata": {},
       "overflow": false,
       "plotOptions": {
        "customPlotOptions": {},
        "displayType": "table",
        "pivotAggregation": null,
        "pivotColumns": null,
        "xColumns": null,
        "yColumns": null
       },
       "removedWidgets": [],
       "schema": [
        {
         "metadata": "{}",
         "name": "version",
         "type": "\"long\""
        },
        {
         "metadata": "{}",
         "name": "timestamp",
         "type": "\"timestamp\""
        },
        {
         "metadata": "{}",
         "name": "userId",
         "type": "\"string\""
        },
        {
         "metadata": "{}",
         "name": "userName",
         "type": "\"string\""
        },
        {
         "metadata": "{}",
         "name": "operation",
         "type": "\"string\""
        },
        {
         "metadata": "{}",
         "name": "operationParameters",
         "type": "{\"type\":\"map\",\"keyType\":\"string\",\"valueType\":\"string\",\"valueContainsNull\":true}"
        },
        {
         "metadata": "{}",
         "name": "job",
         "type": "{\"type\":\"struct\",\"fields\":[{\"name\":\"jobId\",\"type\":\"string\",\"nullable\":true,\"metadata\":{}},{\"name\":\"jobName\",\"type\":\"string\",\"nullable\":true,\"metadata\":{}},{\"name\":\"runId\",\"type\":\"string\",\"nullable\":true,\"metadata\":{}},{\"name\":\"jobOwnerId\",\"type\":\"string\",\"nullable\":true,\"metadata\":{}},{\"name\":\"triggerType\",\"type\":\"string\",\"nullable\":true,\"metadata\":{}}]}"
        },
        {
         "metadata": "{}",
         "name": "notebook",
         "type": "{\"type\":\"struct\",\"fields\":[{\"name\":\"notebookId\",\"type\":\"string\",\"nullable\":true,\"metadata\":{}}]}"
        },
        {
         "metadata": "{}",
         "name": "clusterId",
         "type": "\"string\""
        },
        {
         "metadata": "{}",
         "name": "readVersion",
         "type": "\"long\""
        },
        {
         "metadata": "{}",
         "name": "isolationLevel",
         "type": "\"string\""
        },
        {
         "metadata": "{}",
         "name": "isBlindAppend",
         "type": "\"boolean\""
        },
        {
         "metadata": "{}",
         "name": "operationMetrics",
         "type": "{\"type\":\"map\",\"keyType\":\"string\",\"valueType\":\"string\",\"valueContainsNull\":true}"
        },
        {
         "metadata": "{}",
         "name": "userMetadata",
         "type": "\"string\""
        },
        {
         "metadata": "{}",
         "name": "engineInfo",
         "type": "\"string\""
        }
       ],
       "type": "table"
      }
     },
     "output_type": "display_data"
    }
   ],
   "source": [
    "%sql\n",
    "describe history orders"
   ]
  },
  {
   "cell_type": "code",
   "execution_count": 0,
   "metadata": {
    "application/vnd.databricks.v1+cell": {
     "cellMetadata": {
      "byteLimit": 2048000,
      "implicitDf": true,
      "rowLimit": 10000
     },
     "inputWidgets": {},
     "nuid": "5ee200b8-89ca-4600-94df-ae3b7debb323",
     "showTitle": false,
     "title": ""
    }
   },
   "outputs": [
    {
     "output_type": "display_data",
     "data": {
      "text/html": [
       "<style scoped>\n",
       "  .table-result-container {\n",
       "    max-height: 300px;\n",
       "    overflow: auto;\n",
       "  }\n",
       "  table, th, td {\n",
       "    border: 1px solid black;\n",
       "    border-collapse: collapse;\n",
       "  }\n",
       "  th, td {\n",
       "    padding: 5px;\n",
       "  }\n",
       "  th {\n",
       "    text-align: left;\n",
       "  }\n",
       "</style><div class='table-result-container'><table class='table-result'><thead style='background-color: white'><tr><th>num_affected_rows</th><th>num_inserted_rows</th></tr></thead><tbody><tr><td>5</td><td>5</td></tr></tbody></table></div>"
      ]
     },
     "metadata": {
      "application/vnd.databricks.v1+output": {
       "addedWidgets": {},
       "aggData": [],
       "aggError": "",
       "aggOverflow": false,
       "aggSchema": [],
       "aggSeriesLimitReached": false,
       "aggType": "",
       "arguments": {},
       "columnCustomDisplayInfos": {},
       "data": [
        [
         5,
         5
        ]
       ],
       "datasetInfos": [],
       "dbfsResultPath": null,
       "isJsonSchema": true,
       "metadata": {},
       "overflow": false,
       "plotOptions": {
        "customPlotOptions": {},
        "displayType": "table",
        "pivotAggregation": null,
        "pivotColumns": null,
        "xColumns": null,
        "yColumns": null
       },
       "removedWidgets": [],
       "schema": [
        {
         "metadata": "{}",
         "name": "num_affected_rows",
         "type": "\"long\""
        },
        {
         "metadata": "{}",
         "name": "num_inserted_rows",
         "type": "\"long\""
        }
       ],
       "type": "table"
      }
     },
     "output_type": "display_data"
    }
   ],
   "source": [
    "%sql\n",
    "insert into orders values(1, '2013-07-2500:00:00.0', 11599, 'CLOSED'),(2, '2013-07-2500:00:00.0', 256, 'PENDING_PAYMENT'),(3, '2013-07-2500:00:00.0', 12111, 'COMPLETE'),(4, '2013-07-2500:00:00.0', 8827, 'CLOSED'),(5, '2013-07-2500:00:00.0', 11318, 'COMPLETE')"
   ]
  },
  {
   "cell_type": "code",
   "execution_count": 0,
   "metadata": {
    "application/vnd.databricks.v1+cell": {
     "cellMetadata": {
      "byteLimit": 2048000,
      "implicitDf": true,
      "rowLimit": 10000
     },
     "inputWidgets": {},
     "nuid": "e4074331-e2ec-49ee-8d69-b5f5b3f9929a",
     "showTitle": false,
     "title": ""
    }
   },
   "outputs": [
    {
     "output_type": "display_data",
     "data": {
      "text/html": [
       "<style scoped>\n",
       "  .table-result-container {\n",
       "    max-height: 300px;\n",
       "    overflow: auto;\n",
       "  }\n",
       "  table, th, td {\n",
       "    border: 1px solid black;\n",
       "    border-collapse: collapse;\n",
       "  }\n",
       "  th, td {\n",
       "    padding: 5px;\n",
       "  }\n",
       "  th {\n",
       "    text-align: left;\n",
       "  }\n",
       "</style><div class='table-result-container'><table class='table-result'><thead style='background-color: white'><tr><th>version</th><th>timestamp</th><th>userId</th><th>userName</th><th>operation</th><th>operationParameters</th><th>job</th><th>notebook</th><th>clusterId</th><th>readVersion</th><th>isolationLevel</th><th>isBlindAppend</th><th>operationMetrics</th><th>userMetadata</th><th>engineInfo</th></tr></thead><tbody><tr><td>1</td><td>2024-01-20T14:21:27.000+0000</td><td>2035466439901047</td><td>supriyaamshenoy@outlook.com</td><td>WRITE</td><td>Map(mode -> Append, partitionBy -> [])</td><td>null</td><td>List(255109713963747)</td><td>0120-123653-8exxn4nq</td><td>0</td><td>WriteSerializable</td><td>true</td><td>Map(numFiles -> 4, numOutputRows -> 5, numOutputBytes -> 6014)</td><td>null</td><td>Databricks-Runtime/10.4.x-scala2.12</td></tr><tr><td>0</td><td>2024-01-20T14:04:07.000+0000</td><td>2035466439901047</td><td>supriyaamshenoy@outlook.com</td><td>CREATE TABLE</td><td>Map(isManaged -> true, description -> null, partitionBy -> [], properties -> {\"delta.enableChangeDataFeed\":\"true\"})</td><td>null</td><td>List(255109713963747)</td><td>0120-123653-8exxn4nq</td><td>null</td><td>WriteSerializable</td><td>true</td><td>Map()</td><td>null</td><td>Databricks-Runtime/10.4.x-scala2.12</td></tr></tbody></table></div>"
      ]
     },
     "metadata": {
      "application/vnd.databricks.v1+output": {
       "addedWidgets": {},
       "aggData": [],
       "aggError": "",
       "aggOverflow": false,
       "aggSchema": [],
       "aggSeriesLimitReached": false,
       "aggType": "",
       "arguments": {},
       "columnCustomDisplayInfos": {},
       "data": [
        [
         1,
         "2024-01-20T14:21:27.000+0000",
         "2035466439901047",
         "supriyaamshenoy@outlook.com",
         "WRITE",
         {
          "mode": "Append",
          "partitionBy": "[]"
         },
         null,
         [
          "255109713963747"
         ],
         "0120-123653-8exxn4nq",
         0,
         "WriteSerializable",
         true,
         {
          "numFiles": "4",
          "numOutputBytes": "6014",
          "numOutputRows": "5"
         },
         null,
         "Databricks-Runtime/10.4.x-scala2.12"
        ],
        [
         0,
         "2024-01-20T14:04:07.000+0000",
         "2035466439901047",
         "supriyaamshenoy@outlook.com",
         "CREATE TABLE",
         {
          "description": null,
          "isManaged": "true",
          "partitionBy": "[]",
          "properties": "{\"delta.enableChangeDataFeed\":\"true\"}"
         },
         null,
         [
          "255109713963747"
         ],
         "0120-123653-8exxn4nq",
         null,
         "WriteSerializable",
         true,
         {},
         null,
         "Databricks-Runtime/10.4.x-scala2.12"
        ]
       ],
       "datasetInfos": [],
       "dbfsResultPath": null,
       "isJsonSchema": true,
       "metadata": {},
       "overflow": false,
       "plotOptions": {
        "customPlotOptions": {},
        "displayType": "table",
        "pivotAggregation": null,
        "pivotColumns": null,
        "xColumns": null,
        "yColumns": null
       },
       "removedWidgets": [],
       "schema": [
        {
         "metadata": "{}",
         "name": "version",
         "type": "\"long\""
        },
        {
         "metadata": "{}",
         "name": "timestamp",
         "type": "\"timestamp\""
        },
        {
         "metadata": "{}",
         "name": "userId",
         "type": "\"string\""
        },
        {
         "metadata": "{}",
         "name": "userName",
         "type": "\"string\""
        },
        {
         "metadata": "{}",
         "name": "operation",
         "type": "\"string\""
        },
        {
         "metadata": "{}",
         "name": "operationParameters",
         "type": "{\"type\":\"map\",\"keyType\":\"string\",\"valueType\":\"string\",\"valueContainsNull\":true}"
        },
        {
         "metadata": "{}",
         "name": "job",
         "type": "{\"type\":\"struct\",\"fields\":[{\"name\":\"jobId\",\"type\":\"string\",\"nullable\":true,\"metadata\":{}},{\"name\":\"jobName\",\"type\":\"string\",\"nullable\":true,\"metadata\":{}},{\"name\":\"runId\",\"type\":\"string\",\"nullable\":true,\"metadata\":{}},{\"name\":\"jobOwnerId\",\"type\":\"string\",\"nullable\":true,\"metadata\":{}},{\"name\":\"triggerType\",\"type\":\"string\",\"nullable\":true,\"metadata\":{}}]}"
        },
        {
         "metadata": "{}",
         "name": "notebook",
         "type": "{\"type\":\"struct\",\"fields\":[{\"name\":\"notebookId\",\"type\":\"string\",\"nullable\":true,\"metadata\":{}}]}"
        },
        {
         "metadata": "{}",
         "name": "clusterId",
         "type": "\"string\""
        },
        {
         "metadata": "{}",
         "name": "readVersion",
         "type": "\"long\""
        },
        {
         "metadata": "{}",
         "name": "isolationLevel",
         "type": "\"string\""
        },
        {
         "metadata": "{}",
         "name": "isBlindAppend",
         "type": "\"boolean\""
        },
        {
         "metadata": "{}",
         "name": "operationMetrics",
         "type": "{\"type\":\"map\",\"keyType\":\"string\",\"valueType\":\"string\",\"valueContainsNull\":true}"
        },
        {
         "metadata": "{}",
         "name": "userMetadata",
         "type": "\"string\""
        },
        {
         "metadata": "{}",
         "name": "engineInfo",
         "type": "\"string\""
        }
       ],
       "type": "table"
      }
     },
     "output_type": "display_data"
    }
   ],
   "source": [
    "%sql\n",
    "describe history orders"
   ]
  },
  {
   "cell_type": "code",
   "execution_count": 0,
   "metadata": {
    "application/vnd.databricks.v1+cell": {
     "cellMetadata": {
      "byteLimit": 2048000,
      "implicitDf": true,
      "rowLimit": 10000
     },
     "inputWidgets": {},
     "nuid": "9a6f6414-7997-4227-9040-2779a2a8a422",
     "showTitle": false,
     "title": ""
    }
   },
   "outputs": [
    {
     "output_type": "display_data",
     "data": {
      "text/html": [
       "<style scoped>\n",
       "  .table-result-container {\n",
       "    max-height: 300px;\n",
       "    overflow: auto;\n",
       "  }\n",
       "  table, th, td {\n",
       "    border: 1px solid black;\n",
       "    border-collapse: collapse;\n",
       "  }\n",
       "  th, td {\n",
       "    padding: 5px;\n",
       "  }\n",
       "  th {\n",
       "    text-align: left;\n",
       "  }\n",
       "</style><div class='table-result-container'><table class='table-result'><thead style='background-color: white'><tr><th>order_id</th><th>order_date</th><th>customer_id</th><th>order_status</th><th>_change_type</th><th>_commit_version</th><th>_commit_timestamp</th></tr></thead><tbody><tr><td>2</td><td>2013-07-2500:00:00.0</td><td>256</td><td>PENDING_PAYMENT</td><td>insert</td><td>1</td><td>2024-01-20T14:21:27.000+0000</td></tr><tr><td>4</td><td>2013-07-2500:00:00.0</td><td>8827</td><td>CLOSED</td><td>insert</td><td>1</td><td>2024-01-20T14:21:27.000+0000</td></tr><tr><td>5</td><td>2013-07-2500:00:00.0</td><td>11318</td><td>COMPLETE</td><td>insert</td><td>1</td><td>2024-01-20T14:21:27.000+0000</td></tr><tr><td>3</td><td>2013-07-2500:00:00.0</td><td>12111</td><td>COMPLETE</td><td>insert</td><td>1</td><td>2024-01-20T14:21:27.000+0000</td></tr><tr><td>1</td><td>2013-07-2500:00:00.0</td><td>11599</td><td>CLOSED</td><td>insert</td><td>1</td><td>2024-01-20T14:21:27.000+0000</td></tr></tbody></table></div>"
      ]
     },
     "metadata": {
      "application/vnd.databricks.v1+output": {
       "addedWidgets": {},
       "aggData": [],
       "aggError": "",
       "aggOverflow": false,
       "aggSchema": [],
       "aggSeriesLimitReached": false,
       "aggType": "",
       "arguments": {},
       "columnCustomDisplayInfos": {},
       "data": [
        [
         2,
         "2013-07-2500:00:00.0",
         256,
         "PENDING_PAYMENT",
         "insert",
         1,
         "2024-01-20T14:21:27.000+0000"
        ],
        [
         4,
         "2013-07-2500:00:00.0",
         8827,
         "CLOSED",
         "insert",
         1,
         "2024-01-20T14:21:27.000+0000"
        ],
        [
         5,
         "2013-07-2500:00:00.0",
         11318,
         "COMPLETE",
         "insert",
         1,
         "2024-01-20T14:21:27.000+0000"
        ],
        [
         3,
         "2013-07-2500:00:00.0",
         12111,
         "COMPLETE",
         "insert",
         1,
         "2024-01-20T14:21:27.000+0000"
        ],
        [
         1,
         "2013-07-2500:00:00.0",
         11599,
         "CLOSED",
         "insert",
         1,
         "2024-01-20T14:21:27.000+0000"
        ]
       ],
       "datasetInfos": [],
       "dbfsResultPath": null,
       "isJsonSchema": true,
       "metadata": {},
       "overflow": false,
       "plotOptions": {
        "customPlotOptions": {},
        "displayType": "table",
        "pivotAggregation": null,
        "pivotColumns": null,
        "xColumns": null,
        "yColumns": null
       },
       "removedWidgets": [],
       "schema": [
        {
         "metadata": "{}",
         "name": "order_id",
         "type": "\"integer\""
        },
        {
         "metadata": "{}",
         "name": "order_date",
         "type": "\"string\""
        },
        {
         "metadata": "{}",
         "name": "customer_id",
         "type": "\"integer\""
        },
        {
         "metadata": "{}",
         "name": "order_status",
         "type": "\"string\""
        },
        {
         "metadata": "{}",
         "name": "_change_type",
         "type": "\"string\""
        },
        {
         "metadata": "{}",
         "name": "_commit_version",
         "type": "\"long\""
        },
        {
         "metadata": "{}",
         "name": "_commit_timestamp",
         "type": "\"timestamp\""
        }
       ],
       "type": "table"
      }
     },
     "output_type": "display_data"
    }
   ],
   "source": [
    "%sql\n",
    "select * from table_changes('orders', 1)"
   ]
  },
  {
   "cell_type": "code",
   "execution_count": 0,
   "metadata": {
    "application/vnd.databricks.v1+cell": {
     "cellMetadata": {
      "byteLimit": 2048000,
      "implicitDf": true,
      "rowLimit": 10000
     },
     "inputWidgets": {},
     "nuid": "58e51649-5dee-4954-b14b-a695cdeda9fb",
     "showTitle": false,
     "title": ""
    }
   },
   "outputs": [
    {
     "output_type": "display_data",
     "data": {
      "text/html": [
       "<style scoped>\n",
       "  .table-result-container {\n",
       "    max-height: 300px;\n",
       "    overflow: auto;\n",
       "  }\n",
       "  table, th, td {\n",
       "    border: 1px solid black;\n",
       "    border-collapse: collapse;\n",
       "  }\n",
       "  th, td {\n",
       "    padding: 5px;\n",
       "  }\n",
       "  th {\n",
       "    text-align: left;\n",
       "  }\n",
       "</style><div class='table-result-container'><table class='table-result'><thead style='background-color: white'><tr><th>num_affected_rows</th></tr></thead><tbody><tr><td>1</td></tr></tbody></table></div>"
      ]
     },
     "metadata": {
      "application/vnd.databricks.v1+output": {
       "addedWidgets": {},
       "aggData": [],
       "aggError": "",
       "aggOverflow": false,
       "aggSchema": [],
       "aggSeriesLimitReached": false,
       "aggType": "",
       "arguments": {},
       "columnCustomDisplayInfos": {},
       "data": [
        [
         1
        ]
       ],
       "datasetInfos": [],
       "dbfsResultPath": null,
       "isJsonSchema": true,
       "metadata": {},
       "overflow": false,
       "plotOptions": {
        "customPlotOptions": {},
        "displayType": "table",
        "pivotAggregation": null,
        "pivotColumns": null,
        "xColumns": null,
        "yColumns": null
       },
       "removedWidgets": [],
       "schema": [
        {
         "metadata": "{}",
         "name": "num_affected_rows",
         "type": "\"long\""
        }
       ],
       "type": "table"
      }
     },
     "output_type": "display_data"
    }
   ],
   "source": [
    "%sql\n",
    "delete from orders where order_id=3"
   ]
  },
  {
   "cell_type": "code",
   "execution_count": 0,
   "metadata": {
    "application/vnd.databricks.v1+cell": {
     "cellMetadata": {
      "byteLimit": 2048000,
      "implicitDf": true,
      "rowLimit": 10000
     },
     "inputWidgets": {},
     "nuid": "00002007-b191-4873-9cb3-7be5c3c081aa",
     "showTitle": false,
     "title": ""
    }
   },
   "outputs": [
    {
     "output_type": "display_data",
     "data": {
      "text/html": [
       "<style scoped>\n",
       "  .table-result-container {\n",
       "    max-height: 300px;\n",
       "    overflow: auto;\n",
       "  }\n",
       "  table, th, td {\n",
       "    border: 1px solid black;\n",
       "    border-collapse: collapse;\n",
       "  }\n",
       "  th, td {\n",
       "    padding: 5px;\n",
       "  }\n",
       "  th {\n",
       "    text-align: left;\n",
       "  }\n",
       "</style><div class='table-result-container'><table class='table-result'><thead style='background-color: white'><tr><th>version</th><th>timestamp</th><th>userId</th><th>userName</th><th>operation</th><th>operationParameters</th><th>job</th><th>notebook</th><th>clusterId</th><th>readVersion</th><th>isolationLevel</th><th>isBlindAppend</th><th>operationMetrics</th><th>userMetadata</th><th>engineInfo</th></tr></thead><tbody><tr><td>2</td><td>2024-01-20T14:23:18.000+0000</td><td>2035466439901047</td><td>supriyaamshenoy@outlook.com</td><td>DELETE</td><td>Map(predicate -> [\"(order_id#5381 = 3)\"])</td><td>null</td><td>List(255109713963747)</td><td>0120-123653-8exxn4nq</td><td>1</td><td>WriteSerializable</td><td>false</td><td>Map(numRemovedFiles -> 1, numCopiedRows -> 1, numAddedChangeFiles -> 1, executionTimeMs -> 1536, numDeletedRows -> 1, scanTimeMs -> 822, numAddedFiles -> 0, rewriteTimeMs -> 704)</td><td>null</td><td>Databricks-Runtime/10.4.x-scala2.12</td></tr><tr><td>1</td><td>2024-01-20T14:21:27.000+0000</td><td>2035466439901047</td><td>supriyaamshenoy@outlook.com</td><td>WRITE</td><td>Map(mode -> Append, partitionBy -> [])</td><td>null</td><td>List(255109713963747)</td><td>0120-123653-8exxn4nq</td><td>0</td><td>WriteSerializable</td><td>true</td><td>Map(numFiles -> 4, numOutputRows -> 5, numOutputBytes -> 6014)</td><td>null</td><td>Databricks-Runtime/10.4.x-scala2.12</td></tr><tr><td>0</td><td>2024-01-20T14:04:07.000+0000</td><td>2035466439901047</td><td>supriyaamshenoy@outlook.com</td><td>CREATE TABLE</td><td>Map(isManaged -> true, description -> null, partitionBy -> [], properties -> {\"delta.enableChangeDataFeed\":\"true\"})</td><td>null</td><td>List(255109713963747)</td><td>0120-123653-8exxn4nq</td><td>null</td><td>WriteSerializable</td><td>true</td><td>Map()</td><td>null</td><td>Databricks-Runtime/10.4.x-scala2.12</td></tr></tbody></table></div>"
      ]
     },
     "metadata": {
      "application/vnd.databricks.v1+output": {
       "addedWidgets": {},
       "aggData": [],
       "aggError": "",
       "aggOverflow": false,
       "aggSchema": [],
       "aggSeriesLimitReached": false,
       "aggType": "",
       "arguments": {},
       "columnCustomDisplayInfos": {},
       "data": [
        [
         2,
         "2024-01-20T14:23:18.000+0000",
         "2035466439901047",
         "supriyaamshenoy@outlook.com",
         "DELETE",
         {
          "predicate": "[\"(order_id#5381 = 3)\"]"
         },
         null,
         [
          "255109713963747"
         ],
         "0120-123653-8exxn4nq",
         1,
         "WriteSerializable",
         false,
         {
          "executionTimeMs": "1536",
          "numAddedChangeFiles": "1",
          "numAddedFiles": "0",
          "numCopiedRows": "1",
          "numDeletedRows": "1",
          "numRemovedFiles": "1",
          "rewriteTimeMs": "704",
          "scanTimeMs": "822"
         },
         null,
         "Databricks-Runtime/10.4.x-scala2.12"
        ],
        [
         1,
         "2024-01-20T14:21:27.000+0000",
         "2035466439901047",
         "supriyaamshenoy@outlook.com",
         "WRITE",
         {
          "mode": "Append",
          "partitionBy": "[]"
         },
         null,
         [
          "255109713963747"
         ],
         "0120-123653-8exxn4nq",
         0,
         "WriteSerializable",
         true,
         {
          "numFiles": "4",
          "numOutputBytes": "6014",
          "numOutputRows": "5"
         },
         null,
         "Databricks-Runtime/10.4.x-scala2.12"
        ],
        [
         0,
         "2024-01-20T14:04:07.000+0000",
         "2035466439901047",
         "supriyaamshenoy@outlook.com",
         "CREATE TABLE",
         {
          "description": null,
          "isManaged": "true",
          "partitionBy": "[]",
          "properties": "{\"delta.enableChangeDataFeed\":\"true\"}"
         },
         null,
         [
          "255109713963747"
         ],
         "0120-123653-8exxn4nq",
         null,
         "WriteSerializable",
         true,
         {},
         null,
         "Databricks-Runtime/10.4.x-scala2.12"
        ]
       ],
       "datasetInfos": [],
       "dbfsResultPath": null,
       "isJsonSchema": true,
       "metadata": {},
       "overflow": false,
       "plotOptions": {
        "customPlotOptions": {},
        "displayType": "table",
        "pivotAggregation": null,
        "pivotColumns": null,
        "xColumns": null,
        "yColumns": null
       },
       "removedWidgets": [],
       "schema": [
        {
         "metadata": "{}",
         "name": "version",
         "type": "\"long\""
        },
        {
         "metadata": "{}",
         "name": "timestamp",
         "type": "\"timestamp\""
        },
        {
         "metadata": "{}",
         "name": "userId",
         "type": "\"string\""
        },
        {
         "metadata": "{}",
         "name": "userName",
         "type": "\"string\""
        },
        {
         "metadata": "{}",
         "name": "operation",
         "type": "\"string\""
        },
        {
         "metadata": "{}",
         "name": "operationParameters",
         "type": "{\"type\":\"map\",\"keyType\":\"string\",\"valueType\":\"string\",\"valueContainsNull\":true}"
        },
        {
         "metadata": "{}",
         "name": "job",
         "type": "{\"type\":\"struct\",\"fields\":[{\"name\":\"jobId\",\"type\":\"string\",\"nullable\":true,\"metadata\":{}},{\"name\":\"jobName\",\"type\":\"string\",\"nullable\":true,\"metadata\":{}},{\"name\":\"runId\",\"type\":\"string\",\"nullable\":true,\"metadata\":{}},{\"name\":\"jobOwnerId\",\"type\":\"string\",\"nullable\":true,\"metadata\":{}},{\"name\":\"triggerType\",\"type\":\"string\",\"nullable\":true,\"metadata\":{}}]}"
        },
        {
         "metadata": "{}",
         "name": "notebook",
         "type": "{\"type\":\"struct\",\"fields\":[{\"name\":\"notebookId\",\"type\":\"string\",\"nullable\":true,\"metadata\":{}}]}"
        },
        {
         "metadata": "{}",
         "name": "clusterId",
         "type": "\"string\""
        },
        {
         "metadata": "{}",
         "name": "readVersion",
         "type": "\"long\""
        },
        {
         "metadata": "{}",
         "name": "isolationLevel",
         "type": "\"string\""
        },
        {
         "metadata": "{}",
         "name": "isBlindAppend",
         "type": "\"boolean\""
        },
        {
         "metadata": "{}",
         "name": "operationMetrics",
         "type": "{\"type\":\"map\",\"keyType\":\"string\",\"valueType\":\"string\",\"valueContainsNull\":true}"
        },
        {
         "metadata": "{}",
         "name": "userMetadata",
         "type": "\"string\""
        },
        {
         "metadata": "{}",
         "name": "engineInfo",
         "type": "\"string\""
        }
       ],
       "type": "table"
      }
     },
     "output_type": "display_data"
    }
   ],
   "source": [
    "%sql\n",
    "describe history orders"
   ]
  },
  {
   "cell_type": "code",
   "execution_count": 0,
   "metadata": {
    "application/vnd.databricks.v1+cell": {
     "cellMetadata": {
      "byteLimit": 2048000,
      "implicitDf": true,
      "rowLimit": 10000
     },
     "inputWidgets": {},
     "nuid": "884fbc9a-10ce-4460-b8db-ea869341d7bc",
     "showTitle": false,
     "title": ""
    }
   },
   "outputs": [
    {
     "output_type": "display_data",
     "data": {
      "text/html": [
       "<style scoped>\n",
       "  .table-result-container {\n",
       "    max-height: 300px;\n",
       "    overflow: auto;\n",
       "  }\n",
       "  table, th, td {\n",
       "    border: 1px solid black;\n",
       "    border-collapse: collapse;\n",
       "  }\n",
       "  th, td {\n",
       "    padding: 5px;\n",
       "  }\n",
       "  th {\n",
       "    text-align: left;\n",
       "  }\n",
       "</style><div class='table-result-container'><table class='table-result'><thead style='background-color: white'><tr><th>order_id</th><th>order_date</th><th>customer_id</th><th>order_status</th><th>_change_type</th><th>_commit_version</th><th>_commit_timestamp</th></tr></thead><tbody><tr><td>3</td><td>2013-07-2500:00:00.0</td><td>12111</td><td>COMPLETE</td><td>delete</td><td>2</td><td>2024-01-20T14:23:18.000+0000</td></tr></tbody></table></div>"
      ]
     },
     "metadata": {
      "application/vnd.databricks.v1+output": {
       "addedWidgets": {},
       "aggData": [],
       "aggError": "",
       "aggOverflow": false,
       "aggSchema": [],
       "aggSeriesLimitReached": false,
       "aggType": "",
       "arguments": {},
       "columnCustomDisplayInfos": {},
       "data": [
        [
         3,
         "2013-07-2500:00:00.0",
         12111,
         "COMPLETE",
         "delete",
         2,
         "2024-01-20T14:23:18.000+0000"
        ]
       ],
       "datasetInfos": [],
       "dbfsResultPath": null,
       "isJsonSchema": true,
       "metadata": {},
       "overflow": false,
       "plotOptions": {
        "customPlotOptions": {},
        "displayType": "table",
        "pivotAggregation": null,
        "pivotColumns": null,
        "xColumns": null,
        "yColumns": null
       },
       "removedWidgets": [],
       "schema": [
        {
         "metadata": "{}",
         "name": "order_id",
         "type": "\"integer\""
        },
        {
         "metadata": "{}",
         "name": "order_date",
         "type": "\"string\""
        },
        {
         "metadata": "{}",
         "name": "customer_id",
         "type": "\"integer\""
        },
        {
         "metadata": "{}",
         "name": "order_status",
         "type": "\"string\""
        },
        {
         "metadata": "{}",
         "name": "_change_type",
         "type": "\"string\""
        },
        {
         "metadata": "{}",
         "name": "_commit_version",
         "type": "\"long\""
        },
        {
         "metadata": "{}",
         "name": "_commit_timestamp",
         "type": "\"timestamp\""
        }
       ],
       "type": "table"
      }
     },
     "output_type": "display_data"
    }
   ],
   "source": [
    "%sql\n",
    "select * from table_changes('orders', 2)"
   ]
  },
  {
   "cell_type": "code",
   "execution_count": 0,
   "metadata": {
    "application/vnd.databricks.v1+cell": {
     "cellMetadata": {
      "byteLimit": 2048000,
      "implicitDf": true,
      "rowLimit": 10000
     },
     "inputWidgets": {},
     "nuid": "e3672fe0-5661-48fa-b44e-e68df296e277",
     "showTitle": false,
     "title": ""
    }
   },
   "outputs": [
    {
     "output_type": "display_data",
     "data": {
      "text/html": [
       "<style scoped>\n",
       "  .table-result-container {\n",
       "    max-height: 300px;\n",
       "    overflow: auto;\n",
       "  }\n",
       "  table, th, td {\n",
       "    border: 1px solid black;\n",
       "    border-collapse: collapse;\n",
       "  }\n",
       "  th, td {\n",
       "    padding: 5px;\n",
       "  }\n",
       "  th {\n",
       "    text-align: left;\n",
       "  }\n",
       "</style><div class='table-result-container'><table class='table-result'><thead style='background-color: white'><tr><th>num_affected_rows</th></tr></thead><tbody><tr><td>1</td></tr></tbody></table></div>"
      ]
     },
     "metadata": {
      "application/vnd.databricks.v1+output": {
       "addedWidgets": {},
       "aggData": [],
       "aggError": "",
       "aggOverflow": false,
       "aggSchema": [],
       "aggSeriesLimitReached": false,
       "aggType": "",
       "arguments": {},
       "columnCustomDisplayInfos": {},
       "data": [
        [
         1
        ]
       ],
       "datasetInfos": [],
       "dbfsResultPath": null,
       "isJsonSchema": true,
       "metadata": {},
       "overflow": false,
       "plotOptions": {
        "customPlotOptions": {},
        "displayType": "table",
        "pivotAggregation": null,
        "pivotColumns": null,
        "xColumns": null,
        "yColumns": null
       },
       "removedWidgets": [],
       "schema": [
        {
         "metadata": "{}",
         "name": "num_affected_rows",
         "type": "\"long\""
        }
       ],
       "type": "table"
      }
     },
     "output_type": "display_data"
    }
   ],
   "source": [
    "%sql\n",
    "update orders set order_status='COMPLETE' where order_id=4"
   ]
  },
  {
   "cell_type": "code",
   "execution_count": 0,
   "metadata": {
    "application/vnd.databricks.v1+cell": {
     "cellMetadata": {
      "byteLimit": 2048000,
      "implicitDf": true,
      "rowLimit": 10000
     },
     "inputWidgets": {},
     "nuid": "33f8c670-4754-4739-b581-e23479baf486",
     "showTitle": false,
     "title": ""
    }
   },
   "outputs": [
    {
     "output_type": "display_data",
     "data": {
      "text/html": [
       "<style scoped>\n",
       "  .table-result-container {\n",
       "    max-height: 300px;\n",
       "    overflow: auto;\n",
       "  }\n",
       "  table, th, td {\n",
       "    border: 1px solid black;\n",
       "    border-collapse: collapse;\n",
       "  }\n",
       "  th, td {\n",
       "    padding: 5px;\n",
       "  }\n",
       "  th {\n",
       "    text-align: left;\n",
       "  }\n",
       "</style><div class='table-result-container'><table class='table-result'><thead style='background-color: white'><tr><th>version</th><th>timestamp</th><th>userId</th><th>userName</th><th>operation</th><th>operationParameters</th><th>job</th><th>notebook</th><th>clusterId</th><th>readVersion</th><th>isolationLevel</th><th>isBlindAppend</th><th>operationMetrics</th><th>userMetadata</th><th>engineInfo</th></tr></thead><tbody><tr><td>3</td><td>2024-01-20T14:24:44.000+0000</td><td>2035466439901047</td><td>supriyaamshenoy@outlook.com</td><td>UPDATE</td><td>Map(predicate -> [\"(order_id#6518 = 4)\"])</td><td>null</td><td>List(255109713963747)</td><td>0120-123653-8exxn4nq</td><td>2</td><td>WriteSerializable</td><td>false</td><td>Map(numRemovedFiles -> 1, numCopiedRows -> 1, numAddedChangeFiles -> 1, executionTimeMs -> 1307, scanTimeMs -> 178, numAddedFiles -> 1, numUpdatedRows -> 1, rewriteTimeMs -> 1120)</td><td>null</td><td>Databricks-Runtime/10.4.x-scala2.12</td></tr><tr><td>2</td><td>2024-01-20T14:23:18.000+0000</td><td>2035466439901047</td><td>supriyaamshenoy@outlook.com</td><td>DELETE</td><td>Map(predicate -> [\"(order_id#5381 = 3)\"])</td><td>null</td><td>List(255109713963747)</td><td>0120-123653-8exxn4nq</td><td>1</td><td>WriteSerializable</td><td>false</td><td>Map(numRemovedFiles -> 1, numCopiedRows -> 1, numAddedChangeFiles -> 1, executionTimeMs -> 1536, numDeletedRows -> 1, scanTimeMs -> 822, numAddedFiles -> 0, rewriteTimeMs -> 704)</td><td>null</td><td>Databricks-Runtime/10.4.x-scala2.12</td></tr><tr><td>1</td><td>2024-01-20T14:21:27.000+0000</td><td>2035466439901047</td><td>supriyaamshenoy@outlook.com</td><td>WRITE</td><td>Map(mode -> Append, partitionBy -> [])</td><td>null</td><td>List(255109713963747)</td><td>0120-123653-8exxn4nq</td><td>0</td><td>WriteSerializable</td><td>true</td><td>Map(numFiles -> 4, numOutputRows -> 5, numOutputBytes -> 6014)</td><td>null</td><td>Databricks-Runtime/10.4.x-scala2.12</td></tr><tr><td>0</td><td>2024-01-20T14:04:07.000+0000</td><td>2035466439901047</td><td>supriyaamshenoy@outlook.com</td><td>CREATE TABLE</td><td>Map(isManaged -> true, description -> null, partitionBy -> [], properties -> {\"delta.enableChangeDataFeed\":\"true\"})</td><td>null</td><td>List(255109713963747)</td><td>0120-123653-8exxn4nq</td><td>null</td><td>WriteSerializable</td><td>true</td><td>Map()</td><td>null</td><td>Databricks-Runtime/10.4.x-scala2.12</td></tr></tbody></table></div>"
      ]
     },
     "metadata": {
      "application/vnd.databricks.v1+output": {
       "addedWidgets": {},
       "aggData": [],
       "aggError": "",
       "aggOverflow": false,
       "aggSchema": [],
       "aggSeriesLimitReached": false,
       "aggType": "",
       "arguments": {},
       "columnCustomDisplayInfos": {},
       "data": [
        [
         3,
         "2024-01-20T14:24:44.000+0000",
         "2035466439901047",
         "supriyaamshenoy@outlook.com",
         "UPDATE",
         {
          "predicate": "[\"(order_id#6518 = 4)\"]"
         },
         null,
         [
          "255109713963747"
         ],
         "0120-123653-8exxn4nq",
         2,
         "WriteSerializable",
         false,
         {
          "executionTimeMs": "1307",
          "numAddedChangeFiles": "1",
          "numAddedFiles": "1",
          "numCopiedRows": "1",
          "numRemovedFiles": "1",
          "numUpdatedRows": "1",
          "rewriteTimeMs": "1120",
          "scanTimeMs": "178"
         },
         null,
         "Databricks-Runtime/10.4.x-scala2.12"
        ],
        [
         2,
         "2024-01-20T14:23:18.000+0000",
         "2035466439901047",
         "supriyaamshenoy@outlook.com",
         "DELETE",
         {
          "predicate": "[\"(order_id#5381 = 3)\"]"
         },
         null,
         [
          "255109713963747"
         ],
         "0120-123653-8exxn4nq",
         1,
         "WriteSerializable",
         false,
         {
          "executionTimeMs": "1536",
          "numAddedChangeFiles": "1",
          "numAddedFiles": "0",
          "numCopiedRows": "1",
          "numDeletedRows": "1",
          "numRemovedFiles": "1",
          "rewriteTimeMs": "704",
          "scanTimeMs": "822"
         },
         null,
         "Databricks-Runtime/10.4.x-scala2.12"
        ],
        [
         1,
         "2024-01-20T14:21:27.000+0000",
         "2035466439901047",
         "supriyaamshenoy@outlook.com",
         "WRITE",
         {
          "mode": "Append",
          "partitionBy": "[]"
         },
         null,
         [
          "255109713963747"
         ],
         "0120-123653-8exxn4nq",
         0,
         "WriteSerializable",
         true,
         {
          "numFiles": "4",
          "numOutputBytes": "6014",
          "numOutputRows": "5"
         },
         null,
         "Databricks-Runtime/10.4.x-scala2.12"
        ],
        [
         0,
         "2024-01-20T14:04:07.000+0000",
         "2035466439901047",
         "supriyaamshenoy@outlook.com",
         "CREATE TABLE",
         {
          "description": null,
          "isManaged": "true",
          "partitionBy": "[]",
          "properties": "{\"delta.enableChangeDataFeed\":\"true\"}"
         },
         null,
         [
          "255109713963747"
         ],
         "0120-123653-8exxn4nq",
         null,
         "WriteSerializable",
         true,
         {},
         null,
         "Databricks-Runtime/10.4.x-scala2.12"
        ]
       ],
       "datasetInfos": [],
       "dbfsResultPath": null,
       "isJsonSchema": true,
       "metadata": {},
       "overflow": false,
       "plotOptions": {
        "customPlotOptions": {},
        "displayType": "table",
        "pivotAggregation": null,
        "pivotColumns": null,
        "xColumns": null,
        "yColumns": null
       },
       "removedWidgets": [],
       "schema": [
        {
         "metadata": "{}",
         "name": "version",
         "type": "\"long\""
        },
        {
         "metadata": "{}",
         "name": "timestamp",
         "type": "\"timestamp\""
        },
        {
         "metadata": "{}",
         "name": "userId",
         "type": "\"string\""
        },
        {
         "metadata": "{}",
         "name": "userName",
         "type": "\"string\""
        },
        {
         "metadata": "{}",
         "name": "operation",
         "type": "\"string\""
        },
        {
         "metadata": "{}",
         "name": "operationParameters",
         "type": "{\"type\":\"map\",\"keyType\":\"string\",\"valueType\":\"string\",\"valueContainsNull\":true}"
        },
        {
         "metadata": "{}",
         "name": "job",
         "type": "{\"type\":\"struct\",\"fields\":[{\"name\":\"jobId\",\"type\":\"string\",\"nullable\":true,\"metadata\":{}},{\"name\":\"jobName\",\"type\":\"string\",\"nullable\":true,\"metadata\":{}},{\"name\":\"runId\",\"type\":\"string\",\"nullable\":true,\"metadata\":{}},{\"name\":\"jobOwnerId\",\"type\":\"string\",\"nullable\":true,\"metadata\":{}},{\"name\":\"triggerType\",\"type\":\"string\",\"nullable\":true,\"metadata\":{}}]}"
        },
        {
         "metadata": "{}",
         "name": "notebook",
         "type": "{\"type\":\"struct\",\"fields\":[{\"name\":\"notebookId\",\"type\":\"string\",\"nullable\":true,\"metadata\":{}}]}"
        },
        {
         "metadata": "{}",
         "name": "clusterId",
         "type": "\"string\""
        },
        {
         "metadata": "{}",
         "name": "readVersion",
         "type": "\"long\""
        },
        {
         "metadata": "{}",
         "name": "isolationLevel",
         "type": "\"string\""
        },
        {
         "metadata": "{}",
         "name": "isBlindAppend",
         "type": "\"boolean\""
        },
        {
         "metadata": "{}",
         "name": "operationMetrics",
         "type": "{\"type\":\"map\",\"keyType\":\"string\",\"valueType\":\"string\",\"valueContainsNull\":true}"
        },
        {
         "metadata": "{}",
         "name": "userMetadata",
         "type": "\"string\""
        },
        {
         "metadata": "{}",
         "name": "engineInfo",
         "type": "\"string\""
        }
       ],
       "type": "table"
      }
     },
     "output_type": "display_data"
    }
   ],
   "source": [
    "%sql\n",
    "describe history orders"
   ]
  },
  {
   "cell_type": "code",
   "execution_count": 0,
   "metadata": {
    "application/vnd.databricks.v1+cell": {
     "cellMetadata": {
      "byteLimit": 2048000,
      "implicitDf": true,
      "rowLimit": 10000
     },
     "inputWidgets": {},
     "nuid": "5eafbed3-06af-483b-b650-141a10e16089",
     "showTitle": false,
     "title": ""
    }
   },
   "outputs": [
    {
     "output_type": "display_data",
     "data": {
      "text/html": [
       "<style scoped>\n",
       "  .table-result-container {\n",
       "    max-height: 300px;\n",
       "    overflow: auto;\n",
       "  }\n",
       "  table, th, td {\n",
       "    border: 1px solid black;\n",
       "    border-collapse: collapse;\n",
       "  }\n",
       "  th, td {\n",
       "    padding: 5px;\n",
       "  }\n",
       "  th {\n",
       "    text-align: left;\n",
       "  }\n",
       "</style><div class='table-result-container'><table class='table-result'><thead style='background-color: white'><tr><th>order_id</th><th>order_date</th><th>customer_id</th><th>order_status</th><th>_change_type</th><th>_commit_version</th><th>_commit_timestamp</th></tr></thead><tbody><tr><td>4</td><td>2013-07-2500:00:00.0</td><td>8827</td><td>CLOSED</td><td>update_preimage</td><td>3</td><td>2024-01-20T14:24:44.000+0000</td></tr><tr><td>4</td><td>2013-07-2500:00:00.0</td><td>8827</td><td>COMPLETE</td><td>update_postimage</td><td>3</td><td>2024-01-20T14:24:44.000+0000</td></tr></tbody></table></div>"
      ]
     },
     "metadata": {
      "application/vnd.databricks.v1+output": {
       "addedWidgets": {},
       "aggData": [],
       "aggError": "",
       "aggOverflow": false,
       "aggSchema": [],
       "aggSeriesLimitReached": false,
       "aggType": "",
       "arguments": {},
       "columnCustomDisplayInfos": {},
       "data": [
        [
         4,
         "2013-07-2500:00:00.0",
         8827,
         "CLOSED",
         "update_preimage",
         3,
         "2024-01-20T14:24:44.000+0000"
        ],
        [
         4,
         "2013-07-2500:00:00.0",
         8827,
         "COMPLETE",
         "update_postimage",
         3,
         "2024-01-20T14:24:44.000+0000"
        ]
       ],
       "datasetInfos": [],
       "dbfsResultPath": null,
       "isJsonSchema": true,
       "metadata": {},
       "overflow": false,
       "plotOptions": {
        "customPlotOptions": {},
        "displayType": "table",
        "pivotAggregation": null,
        "pivotColumns": null,
        "xColumns": null,
        "yColumns": null
       },
       "removedWidgets": [],
       "schema": [
        {
         "metadata": "{}",
         "name": "order_id",
         "type": "\"integer\""
        },
        {
         "metadata": "{}",
         "name": "order_date",
         "type": "\"string\""
        },
        {
         "metadata": "{}",
         "name": "customer_id",
         "type": "\"integer\""
        },
        {
         "metadata": "{}",
         "name": "order_status",
         "type": "\"string\""
        },
        {
         "metadata": "{}",
         "name": "_change_type",
         "type": "\"string\""
        },
        {
         "metadata": "{}",
         "name": "_commit_version",
         "type": "\"long\""
        },
        {
         "metadata": "{}",
         "name": "_commit_timestamp",
         "type": "\"timestamp\""
        }
       ],
       "type": "table"
      }
     },
     "output_type": "display_data"
    }
   ],
   "source": [
    "%sql\n",
    "select * from table_changes('orders', 3)"
   ]
  },
  {
   "cell_type": "code",
   "execution_count": 0,
   "metadata": {
    "application/vnd.databricks.v1+cell": {
     "cellMetadata": {
      "byteLimit": 2048000,
      "implicitDf": true,
      "rowLimit": 10000
     },
     "inputWidgets": {},
     "nuid": "5e9b2e1e-b5b5-4047-baa7-8ee8c5031e8d",
     "showTitle": false,
     "title": ""
    }
   },
   "outputs": [
    {
     "output_type": "display_data",
     "data": {
      "text/html": [
       "<style scoped>\n",
       "  .table-result-container {\n",
       "    max-height: 300px;\n",
       "    overflow: auto;\n",
       "  }\n",
       "  table, th, td {\n",
       "    border: 1px solid black;\n",
       "    border-collapse: collapse;\n",
       "  }\n",
       "  th, td {\n",
       "    padding: 5px;\n",
       "  }\n",
       "  th {\n",
       "    text-align: left;\n",
       "  }\n",
       "</style><div class='table-result-container'><table class='table-result'><thead style='background-color: white'><tr></tr></thead><tbody></tbody></table></div>"
      ]
     },
     "metadata": {
      "application/vnd.databricks.v1+output": {
       "addedWidgets": {},
       "aggData": [],
       "aggError": "",
       "aggOverflow": false,
       "aggSchema": [],
       "aggSeriesLimitReached": false,
       "aggType": "",
       "arguments": {},
       "columnCustomDisplayInfos": {},
       "data": [],
       "datasetInfos": [],
       "dbfsResultPath": null,
       "isJsonSchema": true,
       "metadata": {},
       "overflow": false,
       "plotOptions": {
        "customPlotOptions": {},
        "displayType": "table",
        "pivotAggregation": null,
        "pivotColumns": null,
        "xColumns": null,
        "yColumns": null
       },
       "removedWidgets": [],
       "schema": [],
       "type": "table"
      }
     },
     "output_type": "display_data"
    }
   ],
   "source": [
    "%sql\n",
    "DROP DATABASE retaildb CASCADE; ----to drop a non empty database"
   ]
  },
  {
   "cell_type": "code",
   "execution_count": 0,
   "metadata": {
    "application/vnd.databricks.v1+cell": {
     "cellMetadata": {
      "byteLimit": 2048000,
      "implicitDf": true,
      "rowLimit": 10000
     },
     "inputWidgets": {},
     "nuid": "7d97769e-ac5d-44c7-9339-d966d62af804",
     "showTitle": false,
     "title": ""
    }
   },
   "outputs": [
    {
     "output_type": "display_data",
     "data": {
      "text/html": [
       "<style scoped>\n",
       "  .table-result-container {\n",
       "    max-height: 300px;\n",
       "    overflow: auto;\n",
       "  }\n",
       "  table, th, td {\n",
       "    border: 1px solid black;\n",
       "    border-collapse: collapse;\n",
       "  }\n",
       "  th, td {\n",
       "    padding: 5px;\n",
       "  }\n",
       "  th {\n",
       "    text-align: left;\n",
       "  }\n",
       "</style><div class='table-result-container'><table class='table-result'><thead style='background-color: white'><tr></tr></thead><tbody></tbody></table></div>"
      ]
     },
     "metadata": {
      "application/vnd.databricks.v1+output": {
       "addedWidgets": {},
       "aggData": [],
       "aggError": "",
       "aggOverflow": false,
       "aggSchema": [],
       "aggSeriesLimitReached": false,
       "aggType": "",
       "arguments": {},
       "columnCustomDisplayInfos": {},
       "data": [],
       "datasetInfos": [],
       "dbfsResultPath": null,
       "isJsonSchema": true,
       "metadata": {},
       "overflow": false,
       "plotOptions": {
        "customPlotOptions": {},
        "displayType": "table",
        "pivotAggregation": null,
        "pivotColumns": null,
        "xColumns": null,
        "yColumns": null
       },
       "removedWidgets": [],
       "schema": [],
       "type": "table"
      }
     },
     "output_type": "display_data"
    }
   ],
   "source": [
    "%sql\n",
    "create database retaildb"
   ]
  },
  {
   "cell_type": "code",
   "execution_count": 0,
   "metadata": {
    "application/vnd.databricks.v1+cell": {
     "cellMetadata": {
      "byteLimit": 2048000,
      "implicitDf": true,
      "rowLimit": 10000
     },
     "inputWidgets": {},
     "nuid": "6711049e-e4f1-4987-a6ab-0316b0635283",
     "showTitle": false,
     "title": ""
    }
   },
   "outputs": [
    {
     "output_type": "display_data",
     "data": {
      "text/html": [
       "<style scoped>\n",
       "  .table-result-container {\n",
       "    max-height: 300px;\n",
       "    overflow: auto;\n",
       "  }\n",
       "  table, th, td {\n",
       "    border: 1px solid black;\n",
       "    border-collapse: collapse;\n",
       "  }\n",
       "  th, td {\n",
       "    padding: 5px;\n",
       "  }\n",
       "  th {\n",
       "    text-align: left;\n",
       "  }\n",
       "</style><div class='table-result-container'><table class='table-result'><thead style='background-color: white'><tr></tr></thead><tbody></tbody></table></div>"
      ]
     },
     "metadata": {
      "application/vnd.databricks.v1+output": {
       "addedWidgets": {},
       "aggData": [],
       "aggError": "",
       "aggOverflow": false,
       "aggSchema": [],
       "aggSeriesLimitReached": false,
       "aggType": "",
       "arguments": {},
       "columnCustomDisplayInfos": {},
       "data": [],
       "datasetInfos": [],
       "dbfsResultPath": null,
       "isJsonSchema": true,
       "metadata": {},
       "overflow": false,
       "plotOptions": {
        "customPlotOptions": {},
        "displayType": "table",
        "pivotAggregation": null,
        "pivotColumns": null,
        "xColumns": null,
        "yColumns": null
       },
       "removedWidgets": [],
       "schema": [],
       "type": "table"
      }
     },
     "output_type": "display_data"
    }
   ],
   "source": [
    "%sql\n",
    "create table retaildb.orders_bronze\n",
    "(\n",
    "  order_id int,\n",
    "  order_date string,\n",
    "customer_id int,\n",
    "order_status string,\n",
    "filename string,\n",
    "createdon timestamp\n",
    ")\n",
    "using delta location\"dbfs:/FileStore/data/orders_bronze.delta\" partitioned by(order_status) \n",
    "TBLPROPERTIES(delta.enableChangeDataFeed=true)"
   ]
  },
  {
   "cell_type": "code",
   "execution_count": 0,
   "metadata": {
    "application/vnd.databricks.v1+cell": {
     "cellMetadata": {
      "byteLimit": 2048000,
      "implicitDf": true,
      "rowLimit": 10000
     },
     "inputWidgets": {},
     "nuid": "37e18a6e-d17b-4e7e-85e3-43d07816fb95",
     "showTitle": false,
     "title": ""
    }
   },
   "outputs": [
    {
     "output_type": "display_data",
     "data": {
      "text/html": [
       "<style scoped>\n",
       "  .table-result-container {\n",
       "    max-height: 300px;\n",
       "    overflow: auto;\n",
       "  }\n",
       "  table, th, td {\n",
       "    border: 1px solid black;\n",
       "    border-collapse: collapse;\n",
       "  }\n",
       "  th, td {\n",
       "    padding: 5px;\n",
       "  }\n",
       "  th {\n",
       "    text-align: left;\n",
       "  }\n",
       "</style><div class='table-result-container'><table class='table-result'><thead style='background-color: white'><tr></tr></thead><tbody></tbody></table></div>"
      ]
     },
     "metadata": {
      "application/vnd.databricks.v1+output": {
       "addedWidgets": {},
       "aggData": [],
       "aggError": "",
       "aggOverflow": false,
       "aggSchema": [],
       "aggSeriesLimitReached": false,
       "aggType": "",
       "arguments": {},
       "columnCustomDisplayInfos": {},
       "data": [],
       "datasetInfos": [],
       "dbfsResultPath": null,
       "isJsonSchema": true,
       "metadata": {},
       "overflow": false,
       "plotOptions": {
        "customPlotOptions": {},
        "displayType": "table",
        "pivotAggregation": null,
        "pivotColumns": null,
        "xColumns": null,
        "yColumns": null
       },
       "removedWidgets": [],
       "schema": [],
       "type": "table"
      }
     },
     "output_type": "display_data"
    }
   ],
   "source": [
    "%sql\n",
    "create table retaildb.orders_silver\n",
    "(\n",
    "  order_id int,\n",
    "  order_date date,\n",
    "  customer_id int,\n",
    "  order_status string,\n",
    "  order_year int GENERATED ALWAYS AS (YEAR(order_date)),\n",
    "  order_month int GENERATED ALWAYS AS (MONTH(order_date)),\n",
    "  createdon timestamp,\n",
    "  modifiedon timestamp\n",
    "  )\n",
    "  using delta location\"dbfs:/FileStore/data/orders_silver.delta\" partitioned by(order_status)\n",
    "  TBLPROPERTIES(delta.enableChangeDataFeed=true)"
   ]
  },
  {
   "cell_type": "code",
   "execution_count": 0,
   "metadata": {
    "application/vnd.databricks.v1+cell": {
     "cellMetadata": {
      "byteLimit": 2048000,
      "implicitDf": true,
      "rowLimit": 10000
     },
     "inputWidgets": {},
     "nuid": "f61c56a8-4e46-4041-a6b0-6e021dd27853",
     "showTitle": false,
     "title": ""
    }
   },
   "outputs": [
    {
     "output_type": "display_data",
     "data": {
      "text/html": [
       "<style scoped>\n",
       "  .table-result-container {\n",
       "    max-height: 300px;\n",
       "    overflow: auto;\n",
       "  }\n",
       "  table, th, td {\n",
       "    border: 1px solid black;\n",
       "    border-collapse: collapse;\n",
       "  }\n",
       "  th, td {\n",
       "    padding: 5px;\n",
       "  }\n",
       "  th {\n",
       "    text-align: left;\n",
       "  }\n",
       "</style><div class='table-result-container'><table class='table-result'><thead style='background-color: white'><tr></tr></thead><tbody></tbody></table></div>"
      ]
     },
     "metadata": {
      "application/vnd.databricks.v1+output": {
       "addedWidgets": {},
       "aggData": [],
       "aggError": "",
       "aggOverflow": false,
       "aggSchema": [],
       "aggSeriesLimitReached": false,
       "aggType": "",
       "arguments": {},
       "columnCustomDisplayInfos": {},
       "data": [],
       "datasetInfos": [],
       "dbfsResultPath": null,
       "isJsonSchema": true,
       "metadata": {},
       "overflow": false,
       "plotOptions": {
        "customPlotOptions": {},
        "displayType": "table",
        "pivotAggregation": null,
        "pivotColumns": null,
        "xColumns": null,
        "yColumns": null
       },
       "removedWidgets": [],
       "schema": [],
       "type": "table"
      }
     },
     "output_type": "display_data"
    }
   ],
   "source": [
    "%sql\n",
    "create table retaildb.orders_gold\n",
    "(\n",
    "  customer_id int,\n",
    "  order_status string,\n",
    "  order_year int,\n",
    "  num_orders int\n",
    "  )\n",
    "  using delta location\"dbfs:/FileStore/data/orders_gold.delta\"\n",
    "  TBLPROPERTIES(delta.enableChangeDataFeed=true)"
   ]
  },
  {
   "cell_type": "code",
   "execution_count": 0,
   "metadata": {
    "application/vnd.databricks.v1+cell": {
     "cellMetadata": {
      "byteLimit": 2048000,
      "rowLimit": 10000
     },
     "inputWidgets": {},
     "nuid": "3a1d8c09-18d7-4982-8558-2df2816ee81a",
     "showTitle": false,
     "title": ""
    }
   },
   "outputs": [
    {
     "output_type": "display_data",
     "data": {
      "text/html": [
       "<style scoped>\n",
       "  .ansiout {\n",
       "    display: block;\n",
       "    unicode-bidi: embed;\n",
       "    white-space: pre-wrap;\n",
       "    word-wrap: break-word;\n",
       "    word-break: break-all;\n",
       "    font-family: \"Menlo\", \"Monaco\", \"Consolas\", \"Ubuntu Mono\", \"Source Code Pro\", monospace;\n",
       "    font-size: 13px;\n",
       "    color: #555;\n",
       "    margin-left: 4px;\n",
       "    line-height: 19px;\n",
       "  }\n",
       "</style>\n",
       "<div class=\"ansiout\"></div>"
      ]
     },
     "metadata": {
      "application/vnd.databricks.v1+output": {
       "addedWidgets": {},
       "arguments": {},
       "data": "<div class=\"ansiout\"></div>",
       "datasetInfos": [],
       "metadata": {},
       "removedWidgets": [],
       "type": "html"
      }
     },
     "output_type": "display_data"
    }
   ],
   "source": [
    "containername = 'inputdatasets'\n",
    "storageaccountname = 'san17'\n",
    "scopename = 'supscope17'\n",
    "keyname = 'supsecret17'"
   ]
  },
  {
   "cell_type": "code",
   "execution_count": 0,
   "metadata": {
    "application/vnd.databricks.v1+cell": {
     "cellMetadata": {
      "byteLimit": 2048000,
      "rowLimit": 10000
     },
     "inputWidgets": {},
     "nuid": "f9bb7e08-8bdd-48b9-9cec-f79c08a57280",
     "showTitle": false,
     "title": ""
    }
   },
   "outputs": [
    {
     "output_type": "display_data",
     "data": {
      "text/html": [
       "<style scoped>\n",
       "  .ansiout {\n",
       "    display: block;\n",
       "    unicode-bidi: embed;\n",
       "    white-space: pre-wrap;\n",
       "    word-wrap: break-word;\n",
       "    word-break: break-all;\n",
       "    font-family: \"Menlo\", \"Monaco\", \"Consolas\", \"Ubuntu Mono\", \"Source Code Pro\", monospace;\n",
       "    font-size: 13px;\n",
       "    color: #555;\n",
       "    margin-left: 4px;\n",
       "    line-height: 19px;\n",
       "  }\n",
       "</style>\n",
       "<div class=\"ansiout\">Out[13]: True</div>"
      ]
     },
     "metadata": {
      "application/vnd.databricks.v1+output": {
       "addedWidgets": {},
       "arguments": {},
       "data": "<div class=\"ansiout\">Out[13]: True</div>",
       "datasetInfos": [],
       "metadata": {},
       "removedWidgets": [],
       "type": "html"
      }
     },
     "output_type": "display_data"
    }
   ],
   "source": [
    "dbutils.fs.mount(\n",
    "    source=f'wasbs://{containername}@{storageaccountname}.blob.core.windows.net',\n",
    "    mount_point = '/mnt/orders',\n",
    "    extra_configs = {f'fs.azure.account.key.{storageaccountname}.blob.core.windows.net': dbutils.secrets.get(f'{scopename}',f'{keyname}')}              \n",
    "                )"
   ]
  },
  {
   "cell_type": "code",
   "execution_count": 0,
   "metadata": {
    "application/vnd.databricks.v1+cell": {
     "cellMetadata": {
      "byteLimit": 2048000,
      "rowLimit": 10000
     },
     "inputWidgets": {},
     "nuid": "9787b783-2883-4b7e-b9dc-fcb1dfcd49d1",
     "showTitle": false,
     "title": ""
    }
   },
   "outputs": [
    {
     "output_type": "display_data",
     "data": {
      "text/html": [
       "<style scoped>\n",
       "  .table-result-container {\n",
       "    max-height: 300px;\n",
       "    overflow: auto;\n",
       "  }\n",
       "  table, th, td {\n",
       "    border: 1px solid black;\n",
       "    border-collapse: collapse;\n",
       "  }\n",
       "  th, td {\n",
       "    padding: 5px;\n",
       "  }\n",
       "  th {\n",
       "    text-align: left;\n",
       "  }\n",
       "</style><div class='table-result-container'><table class='table-result'><thead style='background-color: white'><tr><th>path</th><th>name</th><th>size</th><th>modificationTime</th></tr></thead><tbody><tr><td>dbfs:/mnt/orders/customers-230715-163711.csv</td><td>customers-230715-163711.csv</td><td>953719</td><td>1705147198000</td></tr><tr><td>dbfs:/mnt/orders/orders.csv</td><td>orders.csv</td><td>417</td><td>1705823618000</td></tr><tr><td>dbfs:/mnt/orders/orders_new.csv</td><td>orders_new.csv</td><td>291</td><td>1705823397000</td></tr></tbody></table></div>"
      ]
     },
     "metadata": {
      "application/vnd.databricks.v1+output": {
       "addedWidgets": {},
       "aggData": [],
       "aggError": "",
       "aggOverflow": false,
       "aggSchema": [],
       "aggSeriesLimitReached": false,
       "aggType": "",
       "arguments": {},
       "columnCustomDisplayInfos": {},
       "data": [
        [
         "dbfs:/mnt/orders/customers-230715-163711.csv",
         "customers-230715-163711.csv",
         953719,
         1705147198000
        ],
        [
         "dbfs:/mnt/orders/orders.csv",
         "orders.csv",
         417,
         1705823618000
        ],
        [
         "dbfs:/mnt/orders/orders_new.csv",
         "orders_new.csv",
         291,
         1705823397000
        ]
       ],
       "datasetInfos": [],
       "dbfsResultPath": null,
       "isJsonSchema": true,
       "metadata": {
        "isDbfsCommandResult": false
       },
       "overflow": false,
       "plotOptions": {
        "customPlotOptions": {},
        "displayType": "table",
        "pivotAggregation": null,
        "pivotColumns": null,
        "xColumns": null,
        "yColumns": null
       },
       "removedWidgets": [],
       "schema": [
        {
         "metadata": "{}",
         "name": "path",
         "type": "\"string\""
        },
        {
         "metadata": "{}",
         "name": "name",
         "type": "\"string\""
        },
        {
         "metadata": "{}",
         "name": "size",
         "type": "\"long\""
        },
        {
         "metadata": "{}",
         "name": "modificationTime",
         "type": "\"long\""
        }
       ],
       "type": "table"
      }
     },
     "output_type": "display_data"
    }
   ],
   "source": [
    "%fs\n",
    "ls /mnt/orders"
   ]
  },
  {
   "cell_type": "code",
   "execution_count": 0,
   "metadata": {
    "application/vnd.databricks.v1+cell": {
     "cellMetadata": {
      "byteLimit": 2048000,
      "implicitDf": true,
      "rowLimit": 10000
     },
     "inputWidgets": {},
     "nuid": "235eb291-244e-40cf-bb45-98617da70c65",
     "showTitle": false,
     "title": ""
    }
   },
   "outputs": [
    {
     "output_type": "display_data",
     "data": {
      "text/html": [
       "<style scoped>\n",
       "  .table-result-container {\n",
       "    max-height: 300px;\n",
       "    overflow: auto;\n",
       "  }\n",
       "  table, th, td {\n",
       "    border: 1px solid black;\n",
       "    border-collapse: collapse;\n",
       "  }\n",
       "  th, td {\n",
       "    padding: 5px;\n",
       "  }\n",
       "  th {\n",
       "    text-align: left;\n",
       "  }\n",
       "</style><div class='table-result-container'><table class='table-result'><thead style='background-color: white'><tr><th>num_affected_rows</th><th>num_inserted_rows</th></tr></thead><tbody><tr><td>9</td><td>9</td></tr></tbody></table></div>"
      ]
     },
     "metadata": {
      "application/vnd.databricks.v1+output": {
       "addedWidgets": {},
       "aggData": [],
       "aggError": "",
       "aggOverflow": false,
       "aggSchema": [],
       "aggSeriesLimitReached": false,
       "aggType": "",
       "arguments": {},
       "columnCustomDisplayInfos": {},
       "data": [
        [
         9,
         9
        ]
       ],
       "datasetInfos": [],
       "dbfsResultPath": null,
       "isJsonSchema": true,
       "metadata": {},
       "overflow": false,
       "plotOptions": {
        "customPlotOptions": {},
        "displayType": "table",
        "pivotAggregation": null,
        "pivotColumns": null,
        "xColumns": null,
        "yColumns": null
       },
       "removedWidgets": [],
       "schema": [
        {
         "metadata": "{}",
         "name": "num_affected_rows",
         "type": "\"long\""
        },
        {
         "metadata": "{}",
         "name": "num_inserted_rows",
         "type": "\"long\""
        }
       ],
       "type": "table"
      }
     },
     "output_type": "display_data"
    }
   ],
   "source": [
    "%sql\n",
    "copy into retaildb.orders_bronze from\n",
    "(\n",
    "  select\n",
    "  order_id:: int,\n",
    "  order_date:: string,\n",
    "  customer_id:: int,\n",
    "  order_status:: string,\n",
    "  INPUT_FILE_NAME() as filename,\n",
    "  CURRENT_TIMESTAMP() as createdon \n",
    "  FROM 'dbfs:/mnt/orders/orders.csv'\n",
    "  )\n",
    "  fileformat=CSV\n",
    "  format_options('header'='true')"
   ]
  },
  {
   "cell_type": "code",
   "execution_count": 0,
   "metadata": {
    "application/vnd.databricks.v1+cell": {
     "cellMetadata": {
      "byteLimit": 2048000,
      "implicitDf": true,
      "rowLimit": 10000
     },
     "inputWidgets": {},
     "nuid": "a5076947-19f1-4aed-bf97-2f14e9178b0a",
     "showTitle": false,
     "title": ""
    }
   },
   "outputs": [
    {
     "output_type": "display_data",
     "data": {
      "text/html": [
       "<style scoped>\n",
       "  .table-result-container {\n",
       "    max-height: 300px;\n",
       "    overflow: auto;\n",
       "  }\n",
       "  table, th, td {\n",
       "    border: 1px solid black;\n",
       "    border-collapse: collapse;\n",
       "  }\n",
       "  th, td {\n",
       "    padding: 5px;\n",
       "  }\n",
       "  th {\n",
       "    text-align: left;\n",
       "  }\n",
       "</style><div class='table-result-container'><table class='table-result'><thead style='background-color: white'><tr><th>num_affected_rows</th><th>num_inserted_rows</th></tr></thead><tbody><tr><td>0</td><td>0</td></tr></tbody></table></div>"
      ]
     },
     "metadata": {
      "application/vnd.databricks.v1+output": {
       "addedWidgets": {},
       "aggData": [],
       "aggError": "",
       "aggOverflow": false,
       "aggSchema": [],
       "aggSeriesLimitReached": false,
       "aggType": "",
       "arguments": {},
       "columnCustomDisplayInfos": {},
       "data": [
        [
         0,
         0
        ]
       ],
       "datasetInfos": [],
       "dbfsResultPath": null,
       "isJsonSchema": true,
       "metadata": {},
       "overflow": false,
       "plotOptions": {
        "customPlotOptions": {},
        "displayType": "table",
        "pivotAggregation": null,
        "pivotColumns": null,
        "xColumns": null,
        "yColumns": null
       },
       "removedWidgets": [],
       "schema": [
        {
         "metadata": "{}",
         "name": "num_affected_rows",
         "type": "\"long\""
        },
        {
         "metadata": "{}",
         "name": "num_inserted_rows",
         "type": "\"long\""
        }
       ],
       "type": "table"
      }
     },
     "output_type": "display_data"
    }
   ],
   "source": [
    "%sql\n",
    "copy into retaildb.orders_bronze from   ---would not load the same file again since it keeps a track of all the files loaded/copied\n",
    "(\n",
    "  select\n",
    "  order_id:: int,\n",
    "  order_date:: string,\n",
    "  customer_id:: int,\n",
    "  order_status:: string,\n",
    "  INPUT_FILE_NAME() as filename,\n",
    "  CURRENT_TIMESTAMP() as createdon \n",
    "  FROM 'dbfs:/mnt/orders/orders.csv'\n",
    "  )\n",
    "  fileformat=CSV\n",
    "  format_options('header'='true')"
   ]
  },
  {
   "cell_type": "code",
   "execution_count": 0,
   "metadata": {
    "application/vnd.databricks.v1+cell": {
     "cellMetadata": {
      "byteLimit": 2048000,
      "implicitDf": true,
      "rowLimit": 10000
     },
     "inputWidgets": {},
     "nuid": "21ab23b5-79e0-4f6f-8def-805a34e90bc1",
     "showTitle": false,
     "title": ""
    }
   },
   "outputs": [
    {
     "output_type": "display_data",
     "data": {
      "text/html": [
       "<style scoped>\n",
       "  .table-result-container {\n",
       "    max-height: 300px;\n",
       "    overflow: auto;\n",
       "  }\n",
       "  table, th, td {\n",
       "    border: 1px solid black;\n",
       "    border-collapse: collapse;\n",
       "  }\n",
       "  th, td {\n",
       "    padding: 5px;\n",
       "  }\n",
       "  th {\n",
       "    text-align: left;\n",
       "  }\n",
       "</style><div class='table-result-container'><table class='table-result'><thead style='background-color: white'><tr><th>order_id</th><th>order_date</th><th>customer_id</th><th>order_status</th><th>filename</th><th>createdon</th></tr></thead><tbody><tr><td>3</td><td>2013-07-25 00:00:00.0</td><td>12111</td><td>COMPLETE</td><td>dbfs:/mnt/orders/orders.csv</td><td>2024-01-21T09:26:34.592+0000</td></tr><tr><td>5</td><td>2013-07-25 00:00:00.0</td><td>11318</td><td>COMPLETE</td><td>dbfs:/mnt/orders/orders.csv</td><td>2024-01-21T09:26:34.592+0000</td></tr><tr><td>6</td><td>2013-07-25 00:00:00.0</td><td>7130</td><td>COMPLETE</td><td>dbfs:/mnt/orders/orders.csv</td><td>2024-01-21T09:26:34.592+0000</td></tr><tr><td>7</td><td>2013-07-25 00:00:00.0</td><td>4530</td><td>COMPLETE</td><td>dbfs:/mnt/orders/orders.csv</td><td>2024-01-21T09:26:34.592+0000</td></tr><tr><td>2</td><td>2013-07-25 00:00:00.0</td><td>256</td><td>PENDING_PAYMENT</td><td>dbfs:/mnt/orders/orders.csv</td><td>2024-01-21T09:26:34.592+0000</td></tr><tr><td>9</td><td>2013-07-25 00:00:00.0</td><td>5657</td><td>PENDING_PAYMENT</td><td>dbfs:/mnt/orders/orders.csv</td><td>2024-01-21T09:26:34.592+0000</td></tr><tr><td>1</td><td>2013-07-25 00:00:00.0</td><td>11599</td><td>CLOSED</td><td>dbfs:/mnt/orders/orders.csv</td><td>2024-01-21T09:26:34.592+0000</td></tr><tr><td>4</td><td>2013-07-25 00:00:00.0</td><td>8827</td><td>CLOSED</td><td>dbfs:/mnt/orders/orders.csv</td><td>2024-01-21T09:26:34.592+0000</td></tr><tr><td>8</td><td>2013-07-25 00:00:00.0</td><td>2911</td><td>PROCESSING</td><td>dbfs:/mnt/orders/orders.csv</td><td>2024-01-21T09:26:34.592+0000</td></tr></tbody></table></div>"
      ]
     },
     "metadata": {
      "application/vnd.databricks.v1+output": {
       "addedWidgets": {},
       "aggData": [],
       "aggError": "",
       "aggOverflow": false,
       "aggSchema": [],
       "aggSeriesLimitReached": false,
       "aggType": "",
       "arguments": {},
       "columnCustomDisplayInfos": {},
       "data": [
        [
         3,
         "2013-07-25 00:00:00.0",
         12111,
         "COMPLETE",
         "dbfs:/mnt/orders/orders.csv",
         "2024-01-21T09:26:34.592+0000"
        ],
        [
         5,
         "2013-07-25 00:00:00.0",
         11318,
         "COMPLETE",
         "dbfs:/mnt/orders/orders.csv",
         "2024-01-21T09:26:34.592+0000"
        ],
        [
         6,
         "2013-07-25 00:00:00.0",
         7130,
         "COMPLETE",
         "dbfs:/mnt/orders/orders.csv",
         "2024-01-21T09:26:34.592+0000"
        ],
        [
         7,
         "2013-07-25 00:00:00.0",
         4530,
         "COMPLETE",
         "dbfs:/mnt/orders/orders.csv",
         "2024-01-21T09:26:34.592+0000"
        ],
        [
         2,
         "2013-07-25 00:00:00.0",
         256,
         "PENDING_PAYMENT",
         "dbfs:/mnt/orders/orders.csv",
         "2024-01-21T09:26:34.592+0000"
        ],
        [
         9,
         "2013-07-25 00:00:00.0",
         5657,
         "PENDING_PAYMENT",
         "dbfs:/mnt/orders/orders.csv",
         "2024-01-21T09:26:34.592+0000"
        ],
        [
         1,
         "2013-07-25 00:00:00.0",
         11599,
         "CLOSED",
         "dbfs:/mnt/orders/orders.csv",
         "2024-01-21T09:26:34.592+0000"
        ],
        [
         4,
         "2013-07-25 00:00:00.0",
         8827,
         "CLOSED",
         "dbfs:/mnt/orders/orders.csv",
         "2024-01-21T09:26:34.592+0000"
        ],
        [
         8,
         "2013-07-25 00:00:00.0",
         2911,
         "PROCESSING",
         "dbfs:/mnt/orders/orders.csv",
         "2024-01-21T09:26:34.592+0000"
        ]
       ],
       "datasetInfos": [],
       "dbfsResultPath": null,
       "isJsonSchema": true,
       "metadata": {},
       "overflow": false,
       "plotOptions": {
        "customPlotOptions": {},
        "displayType": "table",
        "pivotAggregation": null,
        "pivotColumns": null,
        "xColumns": null,
        "yColumns": null
       },
       "removedWidgets": [],
       "schema": [
        {
         "metadata": "{}",
         "name": "order_id",
         "type": "\"integer\""
        },
        {
         "metadata": "{}",
         "name": "order_date",
         "type": "\"string\""
        },
        {
         "metadata": "{}",
         "name": "customer_id",
         "type": "\"integer\""
        },
        {
         "metadata": "{}",
         "name": "order_status",
         "type": "\"string\""
        },
        {
         "metadata": "{}",
         "name": "filename",
         "type": "\"string\""
        },
        {
         "metadata": "{}",
         "name": "createdon",
         "type": "\"timestamp\""
        }
       ],
       "type": "table"
      }
     },
     "output_type": "display_data"
    }
   ],
   "source": [
    "%sql\n",
    "select * from retaildb.orders_bronze"
   ]
  },
  {
   "cell_type": "code",
   "execution_count": 0,
   "metadata": {
    "application/vnd.databricks.v1+cell": {
     "cellMetadata": {
      "byteLimit": 2048000,
      "implicitDf": true,
      "rowLimit": 10000
     },
     "inputWidgets": {},
     "nuid": "d055fc5b-34ee-455b-9e0f-e577c0f8a132",
     "showTitle": false,
     "title": ""
    }
   },
   "outputs": [
    {
     "output_type": "display_data",
     "data": {
      "text/html": [
       "<style scoped>\n",
       "  .table-result-container {\n",
       "    max-height: 300px;\n",
       "    overflow: auto;\n",
       "  }\n",
       "  table, th, td {\n",
       "    border: 1px solid black;\n",
       "    border-collapse: collapse;\n",
       "  }\n",
       "  th, td {\n",
       "    padding: 5px;\n",
       "  }\n",
       "  th {\n",
       "    text-align: left;\n",
       "  }\n",
       "</style><div class='table-result-container'><table class='table-result'><thead style='background-color: white'><tr><th>version</th><th>timestamp</th><th>userId</th><th>userName</th><th>operation</th><th>operationParameters</th><th>job</th><th>notebook</th><th>clusterId</th><th>readVersion</th><th>isolationLevel</th><th>isBlindAppend</th><th>operationMetrics</th><th>userMetadata</th><th>engineInfo</th></tr></thead><tbody><tr><td>2</td><td>2024-01-21T09:28:23.000+0000</td><td>2035466439901047</td><td>supriyaamshenoy@outlook.com</td><td>COPY INTO</td><td>Map()</td><td>null</td><td>List(255109713963747)</td><td>0120-123653-8exxn4nq</td><td>1</td><td>WriteSerializable</td><td>true</td><td>Map(numFiles -> 0, numOutputRows -> 0, numOutputBytes -> 0)</td><td>null</td><td>Databricks-Runtime/10.4.x-scala2.12</td></tr><tr><td>1</td><td>2024-01-21T09:26:37.000+0000</td><td>2035466439901047</td><td>supriyaamshenoy@outlook.com</td><td>COPY INTO</td><td>Map()</td><td>null</td><td>List(255109713963747)</td><td>0120-123653-8exxn4nq</td><td>0</td><td>WriteSerializable</td><td>true</td><td>Map(numFiles -> 4, numOutputRows -> 9, numOutputBytes -> 7867)</td><td>null</td><td>Databricks-Runtime/10.4.x-scala2.12</td></tr><tr><td>0</td><td>2024-01-21T06:56:32.000+0000</td><td>2035466439901047</td><td>supriyaamshenoy@outlook.com</td><td>CREATE TABLE</td><td>Map(isManaged -> false, description -> null, partitionBy -> [\"order_status\"], properties -> {\"delta.enableChangeDataFeed\":\"true\"})</td><td>null</td><td>List(255109713963747)</td><td>0120-123653-8exxn4nq</td><td>null</td><td>WriteSerializable</td><td>true</td><td>Map()</td><td>null</td><td>Databricks-Runtime/10.4.x-scala2.12</td></tr></tbody></table></div>"
      ]
     },
     "metadata": {
      "application/vnd.databricks.v1+output": {
       "addedWidgets": {},
       "aggData": [],
       "aggError": "",
       "aggOverflow": false,
       "aggSchema": [],
       "aggSeriesLimitReached": false,
       "aggType": "",
       "arguments": {},
       "columnCustomDisplayInfos": {},
       "data": [
        [
         2,
         "2024-01-21T09:28:23.000+0000",
         "2035466439901047",
         "supriyaamshenoy@outlook.com",
         "COPY INTO",
         {},
         null,
         [
          "255109713963747"
         ],
         "0120-123653-8exxn4nq",
         1,
         "WriteSerializable",
         true,
         {
          "numFiles": "0",
          "numOutputBytes": "0",
          "numOutputRows": "0"
         },
         null,
         "Databricks-Runtime/10.4.x-scala2.12"
        ],
        [
         1,
         "2024-01-21T09:26:37.000+0000",
         "2035466439901047",
         "supriyaamshenoy@outlook.com",
         "COPY INTO",
         {},
         null,
         [
          "255109713963747"
         ],
         "0120-123653-8exxn4nq",
         0,
         "WriteSerializable",
         true,
         {
          "numFiles": "4",
          "numOutputBytes": "7867",
          "numOutputRows": "9"
         },
         null,
         "Databricks-Runtime/10.4.x-scala2.12"
        ],
        [
         0,
         "2024-01-21T06:56:32.000+0000",
         "2035466439901047",
         "supriyaamshenoy@outlook.com",
         "CREATE TABLE",
         {
          "description": null,
          "isManaged": "false",
          "partitionBy": "[\"order_status\"]",
          "properties": "{\"delta.enableChangeDataFeed\":\"true\"}"
         },
         null,
         [
          "255109713963747"
         ],
         "0120-123653-8exxn4nq",
         null,
         "WriteSerializable",
         true,
         {},
         null,
         "Databricks-Runtime/10.4.x-scala2.12"
        ]
       ],
       "datasetInfos": [],
       "dbfsResultPath": null,
       "isJsonSchema": true,
       "metadata": {},
       "overflow": false,
       "plotOptions": {
        "customPlotOptions": {},
        "displayType": "table",
        "pivotAggregation": null,
        "pivotColumns": null,
        "xColumns": null,
        "yColumns": null
       },
       "removedWidgets": [],
       "schema": [
        {
         "metadata": "{}",
         "name": "version",
         "type": "\"long\""
        },
        {
         "metadata": "{}",
         "name": "timestamp",
         "type": "\"timestamp\""
        },
        {
         "metadata": "{}",
         "name": "userId",
         "type": "\"string\""
        },
        {
         "metadata": "{}",
         "name": "userName",
         "type": "\"string\""
        },
        {
         "metadata": "{}",
         "name": "operation",
         "type": "\"string\""
        },
        {
         "metadata": "{}",
         "name": "operationParameters",
         "type": "{\"type\":\"map\",\"keyType\":\"string\",\"valueType\":\"string\",\"valueContainsNull\":true}"
        },
        {
         "metadata": "{}",
         "name": "job",
         "type": "{\"type\":\"struct\",\"fields\":[{\"name\":\"jobId\",\"type\":\"string\",\"nullable\":true,\"metadata\":{}},{\"name\":\"jobName\",\"type\":\"string\",\"nullable\":true,\"metadata\":{}},{\"name\":\"runId\",\"type\":\"string\",\"nullable\":true,\"metadata\":{}},{\"name\":\"jobOwnerId\",\"type\":\"string\",\"nullable\":true,\"metadata\":{}},{\"name\":\"triggerType\",\"type\":\"string\",\"nullable\":true,\"metadata\":{}}]}"
        },
        {
         "metadata": "{}",
         "name": "notebook",
         "type": "{\"type\":\"struct\",\"fields\":[{\"name\":\"notebookId\",\"type\":\"string\",\"nullable\":true,\"metadata\":{}}]}"
        },
        {
         "metadata": "{}",
         "name": "clusterId",
         "type": "\"string\""
        },
        {
         "metadata": "{}",
         "name": "readVersion",
         "type": "\"long\""
        },
        {
         "metadata": "{}",
         "name": "isolationLevel",
         "type": "\"string\""
        },
        {
         "metadata": "{}",
         "name": "isBlindAppend",
         "type": "\"boolean\""
        },
        {
         "metadata": "{}",
         "name": "operationMetrics",
         "type": "{\"type\":\"map\",\"keyType\":\"string\",\"valueType\":\"string\",\"valueContainsNull\":true}"
        },
        {
         "metadata": "{}",
         "name": "userMetadata",
         "type": "\"string\""
        },
        {
         "metadata": "{}",
         "name": "engineInfo",
         "type": "\"string\""
        }
       ],
       "type": "table"
      }
     },
     "output_type": "display_data"
    }
   ],
   "source": [
    "%sql\n",
    "describe history retaildb.orders_bronze"
   ]
  },
  {
   "cell_type": "code",
   "execution_count": 0,
   "metadata": {
    "application/vnd.databricks.v1+cell": {
     "cellMetadata": {
      "byteLimit": 2048000,
      "implicitDf": true,
      "rowLimit": 10000
     },
     "inputWidgets": {},
     "nuid": "1834b4cb-60bf-4752-8721-e8f63fa34f2c",
     "showTitle": false,
     "title": ""
    }
   },
   "outputs": [
    {
     "output_type": "display_data",
     "data": {
      "text/html": [
       "<style scoped>\n",
       "  .table-result-container {\n",
       "    max-height: 300px;\n",
       "    overflow: auto;\n",
       "  }\n",
       "  table, th, td {\n",
       "    border: 1px solid black;\n",
       "    border-collapse: collapse;\n",
       "  }\n",
       "  th, td {\n",
       "    padding: 5px;\n",
       "  }\n",
       "  th {\n",
       "    text-align: left;\n",
       "  }\n",
       "</style><div class='table-result-container'><table class='table-result'><thead style='background-color: white'><tr><th>order_id</th><th>order_date</th><th>customer_id</th><th>order_status</th><th>filename</th><th>createdon</th><th>_change_type</th><th>_commit_version</th><th>_commit_timestamp</th></tr></thead><tbody><tr><td>3</td><td>2013-07-25 00:00:00.0</td><td>12111</td><td>COMPLETE</td><td>dbfs:/mnt/orders/orders.csv</td><td>2024-01-21T09:26:34.592+0000</td><td>insert</td><td>1</td><td>2024-01-21T09:26:37.000+0000</td></tr><tr><td>5</td><td>2013-07-25 00:00:00.0</td><td>11318</td><td>COMPLETE</td><td>dbfs:/mnt/orders/orders.csv</td><td>2024-01-21T09:26:34.592+0000</td><td>insert</td><td>1</td><td>2024-01-21T09:26:37.000+0000</td></tr><tr><td>6</td><td>2013-07-25 00:00:00.0</td><td>7130</td><td>COMPLETE</td><td>dbfs:/mnt/orders/orders.csv</td><td>2024-01-21T09:26:34.592+0000</td><td>insert</td><td>1</td><td>2024-01-21T09:26:37.000+0000</td></tr><tr><td>7</td><td>2013-07-25 00:00:00.0</td><td>4530</td><td>COMPLETE</td><td>dbfs:/mnt/orders/orders.csv</td><td>2024-01-21T09:26:34.592+0000</td><td>insert</td><td>1</td><td>2024-01-21T09:26:37.000+0000</td></tr><tr><td>2</td><td>2013-07-25 00:00:00.0</td><td>256</td><td>PENDING_PAYMENT</td><td>dbfs:/mnt/orders/orders.csv</td><td>2024-01-21T09:26:34.592+0000</td><td>insert</td><td>1</td><td>2024-01-21T09:26:37.000+0000</td></tr><tr><td>9</td><td>2013-07-25 00:00:00.0</td><td>5657</td><td>PENDING_PAYMENT</td><td>dbfs:/mnt/orders/orders.csv</td><td>2024-01-21T09:26:34.592+0000</td><td>insert</td><td>1</td><td>2024-01-21T09:26:37.000+0000</td></tr><tr><td>1</td><td>2013-07-25 00:00:00.0</td><td>11599</td><td>CLOSED</td><td>dbfs:/mnt/orders/orders.csv</td><td>2024-01-21T09:26:34.592+0000</td><td>insert</td><td>1</td><td>2024-01-21T09:26:37.000+0000</td></tr><tr><td>4</td><td>2013-07-25 00:00:00.0</td><td>8827</td><td>CLOSED</td><td>dbfs:/mnt/orders/orders.csv</td><td>2024-01-21T09:26:34.592+0000</td><td>insert</td><td>1</td><td>2024-01-21T09:26:37.000+0000</td></tr><tr><td>8</td><td>2013-07-25 00:00:00.0</td><td>2911</td><td>PROCESSING</td><td>dbfs:/mnt/orders/orders.csv</td><td>2024-01-21T09:26:34.592+0000</td><td>insert</td><td>1</td><td>2024-01-21T09:26:37.000+0000</td></tr></tbody></table></div>"
      ]
     },
     "metadata": {
      "application/vnd.databricks.v1+output": {
       "addedWidgets": {},
       "aggData": [],
       "aggError": "",
       "aggOverflow": false,
       "aggSchema": [],
       "aggSeriesLimitReached": false,
       "aggType": "",
       "arguments": {},
       "columnCustomDisplayInfos": {},
       "data": [
        [
         3,
         "2013-07-25 00:00:00.0",
         12111,
         "COMPLETE",
         "dbfs:/mnt/orders/orders.csv",
         "2024-01-21T09:26:34.592+0000",
         "insert",
         1,
         "2024-01-21T09:26:37.000+0000"
        ],
        [
         5,
         "2013-07-25 00:00:00.0",
         11318,
         "COMPLETE",
         "dbfs:/mnt/orders/orders.csv",
         "2024-01-21T09:26:34.592+0000",
         "insert",
         1,
         "2024-01-21T09:26:37.000+0000"
        ],
        [
         6,
         "2013-07-25 00:00:00.0",
         7130,
         "COMPLETE",
         "dbfs:/mnt/orders/orders.csv",
         "2024-01-21T09:26:34.592+0000",
         "insert",
         1,
         "2024-01-21T09:26:37.000+0000"
        ],
        [
         7,
         "2013-07-25 00:00:00.0",
         4530,
         "COMPLETE",
         "dbfs:/mnt/orders/orders.csv",
         "2024-01-21T09:26:34.592+0000",
         "insert",
         1,
         "2024-01-21T09:26:37.000+0000"
        ],
        [
         2,
         "2013-07-25 00:00:00.0",
         256,
         "PENDING_PAYMENT",
         "dbfs:/mnt/orders/orders.csv",
         "2024-01-21T09:26:34.592+0000",
         "insert",
         1,
         "2024-01-21T09:26:37.000+0000"
        ],
        [
         9,
         "2013-07-25 00:00:00.0",
         5657,
         "PENDING_PAYMENT",
         "dbfs:/mnt/orders/orders.csv",
         "2024-01-21T09:26:34.592+0000",
         "insert",
         1,
         "2024-01-21T09:26:37.000+0000"
        ],
        [
         1,
         "2013-07-25 00:00:00.0",
         11599,
         "CLOSED",
         "dbfs:/mnt/orders/orders.csv",
         "2024-01-21T09:26:34.592+0000",
         "insert",
         1,
         "2024-01-21T09:26:37.000+0000"
        ],
        [
         4,
         "2013-07-25 00:00:00.0",
         8827,
         "CLOSED",
         "dbfs:/mnt/orders/orders.csv",
         "2024-01-21T09:26:34.592+0000",
         "insert",
         1,
         "2024-01-21T09:26:37.000+0000"
        ],
        [
         8,
         "2013-07-25 00:00:00.0",
         2911,
         "PROCESSING",
         "dbfs:/mnt/orders/orders.csv",
         "2024-01-21T09:26:34.592+0000",
         "insert",
         1,
         "2024-01-21T09:26:37.000+0000"
        ]
       ],
       "datasetInfos": [],
       "dbfsResultPath": null,
       "isJsonSchema": true,
       "metadata": {},
       "overflow": false,
       "plotOptions": {
        "customPlotOptions": {},
        "displayType": "table",
        "pivotAggregation": null,
        "pivotColumns": null,
        "xColumns": null,
        "yColumns": null
       },
       "removedWidgets": [],
       "schema": [
        {
         "metadata": "{}",
         "name": "order_id",
         "type": "\"integer\""
        },
        {
         "metadata": "{}",
         "name": "order_date",
         "type": "\"string\""
        },
        {
         "metadata": "{}",
         "name": "customer_id",
         "type": "\"integer\""
        },
        {
         "metadata": "{}",
         "name": "order_status",
         "type": "\"string\""
        },
        {
         "metadata": "{}",
         "name": "filename",
         "type": "\"string\""
        },
        {
         "metadata": "{}",
         "name": "createdon",
         "type": "\"timestamp\""
        },
        {
         "metadata": "{}",
         "name": "_change_type",
         "type": "\"string\""
        },
        {
         "metadata": "{}",
         "name": "_commit_version",
         "type": "\"long\""
        },
        {
         "metadata": "{}",
         "name": "_commit_timestamp",
         "type": "\"timestamp\""
        }
       ],
       "type": "table"
      }
     },
     "output_type": "display_data"
    }
   ],
   "source": [
    "%sql\n",
    "select * from table_changes('retaildb.orders_bronze',1)"
   ]
  },
  {
   "cell_type": "code",
   "execution_count": 0,
   "metadata": {
    "application/vnd.databricks.v1+cell": {
     "cellMetadata": {
      "byteLimit": 2048000,
      "implicitDf": true,
      "rowLimit": 10000
     },
     "inputWidgets": {},
     "nuid": "89713a2b-97a5-476f-9528-9005af34484c",
     "showTitle": false,
     "title": ""
    }
   },
   "outputs": [
    {
     "output_type": "display_data",
     "data": {
      "text/html": [
       "<style scoped>\n",
       "  .table-result-container {\n",
       "    max-height: 300px;\n",
       "    overflow: auto;\n",
       "  }\n",
       "  table, th, td {\n",
       "    border: 1px solid black;\n",
       "    border-collapse: collapse;\n",
       "  }\n",
       "  th, td {\n",
       "    padding: 5px;\n",
       "  }\n",
       "  th {\n",
       "    text-align: left;\n",
       "  }\n",
       "</style><div class='table-result-container'><table class='table-result'><thead style='background-color: white'><tr></tr></thead><tbody></tbody></table></div>"
      ]
     },
     "metadata": {
      "application/vnd.databricks.v1+output": {
       "addedWidgets": {},
       "aggData": [],
       "aggError": "",
       "aggOverflow": false,
       "aggSchema": [],
       "aggSeriesLimitReached": false,
       "aggType": "",
       "arguments": {},
       "columnCustomDisplayInfos": {},
       "data": [],
       "datasetInfos": [],
       "dbfsResultPath": null,
       "isJsonSchema": true,
       "metadata": {},
       "overflow": false,
       "plotOptions": {
        "customPlotOptions": {},
        "displayType": "table",
        "pivotAggregation": null,
        "pivotColumns": null,
        "xColumns": null,
        "yColumns": null
       },
       "removedWidgets": [],
       "schema": [],
       "type": "table"
      }
     },
     "output_type": "display_data"
    }
   ],
   "source": [
    "%sql\n",
    "create or replace temporary view orders_bronze_changes as select * from table_changes('retaildb.orders_bronze',1)\n",
    "where order_id > 0 and customer_id > 0 and order_status in ('PAYMENT_REVIEW','PROCESSING','CLOSED','SUSPECTED_FRAUD','COMPLETE','PENDING','CANCELLED','PENDING_PAYMENT')"
   ]
  },
  {
   "cell_type": "code",
   "execution_count": 0,
   "metadata": {
    "application/vnd.databricks.v1+cell": {
     "cellMetadata": {
      "byteLimit": 2048000,
      "implicitDf": true,
      "rowLimit": 10000
     },
     "inputWidgets": {},
     "nuid": "c753b7b3-8fbd-43a1-a796-541c7bcb79e3",
     "showTitle": false,
     "title": ""
    }
   },
   "outputs": [
    {
     "output_type": "display_data",
     "data": {
      "text/html": [
       "<style scoped>\n",
       "  .table-result-container {\n",
       "    max-height: 300px;\n",
       "    overflow: auto;\n",
       "  }\n",
       "  table, th, td {\n",
       "    border: 1px solid black;\n",
       "    border-collapse: collapse;\n",
       "  }\n",
       "  th, td {\n",
       "    padding: 5px;\n",
       "  }\n",
       "  th {\n",
       "    text-align: left;\n",
       "  }\n",
       "</style><div class='table-result-container'><table class='table-result'><thead style='background-color: white'><tr><th>order_id</th><th>order_date</th><th>customer_id</th><th>order_status</th><th>filename</th><th>createdon</th><th>_change_type</th><th>_commit_version</th><th>_commit_timestamp</th></tr></thead><tbody><tr><td>3</td><td>2013-07-25 00:00:00.0</td><td>12111</td><td>COMPLETE</td><td>dbfs:/mnt/orders/orders.csv</td><td>2024-01-21T09:26:34.592+0000</td><td>insert</td><td>1</td><td>2024-01-21T09:26:37.000+0000</td></tr><tr><td>5</td><td>2013-07-25 00:00:00.0</td><td>11318</td><td>COMPLETE</td><td>dbfs:/mnt/orders/orders.csv</td><td>2024-01-21T09:26:34.592+0000</td><td>insert</td><td>1</td><td>2024-01-21T09:26:37.000+0000</td></tr><tr><td>6</td><td>2013-07-25 00:00:00.0</td><td>7130</td><td>COMPLETE</td><td>dbfs:/mnt/orders/orders.csv</td><td>2024-01-21T09:26:34.592+0000</td><td>insert</td><td>1</td><td>2024-01-21T09:26:37.000+0000</td></tr><tr><td>7</td><td>2013-07-25 00:00:00.0</td><td>4530</td><td>COMPLETE</td><td>dbfs:/mnt/orders/orders.csv</td><td>2024-01-21T09:26:34.592+0000</td><td>insert</td><td>1</td><td>2024-01-21T09:26:37.000+0000</td></tr><tr><td>2</td><td>2013-07-25 00:00:00.0</td><td>256</td><td>PENDING_PAYMENT</td><td>dbfs:/mnt/orders/orders.csv</td><td>2024-01-21T09:26:34.592+0000</td><td>insert</td><td>1</td><td>2024-01-21T09:26:37.000+0000</td></tr><tr><td>9</td><td>2013-07-25 00:00:00.0</td><td>5657</td><td>PENDING_PAYMENT</td><td>dbfs:/mnt/orders/orders.csv</td><td>2024-01-21T09:26:34.592+0000</td><td>insert</td><td>1</td><td>2024-01-21T09:26:37.000+0000</td></tr><tr><td>1</td><td>2013-07-25 00:00:00.0</td><td>11599</td><td>CLOSED</td><td>dbfs:/mnt/orders/orders.csv</td><td>2024-01-21T09:26:34.592+0000</td><td>insert</td><td>1</td><td>2024-01-21T09:26:37.000+0000</td></tr><tr><td>4</td><td>2013-07-25 00:00:00.0</td><td>8827</td><td>CLOSED</td><td>dbfs:/mnt/orders/orders.csv</td><td>2024-01-21T09:26:34.592+0000</td><td>insert</td><td>1</td><td>2024-01-21T09:26:37.000+0000</td></tr><tr><td>8</td><td>2013-07-25 00:00:00.0</td><td>2911</td><td>PROCESSING</td><td>dbfs:/mnt/orders/orders.csv</td><td>2024-01-21T09:26:34.592+0000</td><td>insert</td><td>1</td><td>2024-01-21T09:26:37.000+0000</td></tr></tbody></table></div>"
      ]
     },
     "metadata": {
      "application/vnd.databricks.v1+output": {
       "addedWidgets": {},
       "aggData": [],
       "aggError": "",
       "aggOverflow": false,
       "aggSchema": [],
       "aggSeriesLimitReached": false,
       "aggType": "",
       "arguments": {},
       "columnCustomDisplayInfos": {},
       "data": [
        [
         3,
         "2013-07-25 00:00:00.0",
         12111,
         "COMPLETE",
         "dbfs:/mnt/orders/orders.csv",
         "2024-01-21T09:26:34.592+0000",
         "insert",
         1,
         "2024-01-21T09:26:37.000+0000"
        ],
        [
         5,
         "2013-07-25 00:00:00.0",
         11318,
         "COMPLETE",
         "dbfs:/mnt/orders/orders.csv",
         "2024-01-21T09:26:34.592+0000",
         "insert",
         1,
         "2024-01-21T09:26:37.000+0000"
        ],
        [
         6,
         "2013-07-25 00:00:00.0",
         7130,
         "COMPLETE",
         "dbfs:/mnt/orders/orders.csv",
         "2024-01-21T09:26:34.592+0000",
         "insert",
         1,
         "2024-01-21T09:26:37.000+0000"
        ],
        [
         7,
         "2013-07-25 00:00:00.0",
         4530,
         "COMPLETE",
         "dbfs:/mnt/orders/orders.csv",
         "2024-01-21T09:26:34.592+0000",
         "insert",
         1,
         "2024-01-21T09:26:37.000+0000"
        ],
        [
         2,
         "2013-07-25 00:00:00.0",
         256,
         "PENDING_PAYMENT",
         "dbfs:/mnt/orders/orders.csv",
         "2024-01-21T09:26:34.592+0000",
         "insert",
         1,
         "2024-01-21T09:26:37.000+0000"
        ],
        [
         9,
         "2013-07-25 00:00:00.0",
         5657,
         "PENDING_PAYMENT",
         "dbfs:/mnt/orders/orders.csv",
         "2024-01-21T09:26:34.592+0000",
         "insert",
         1,
         "2024-01-21T09:26:37.000+0000"
        ],
        [
         1,
         "2013-07-25 00:00:00.0",
         11599,
         "CLOSED",
         "dbfs:/mnt/orders/orders.csv",
         "2024-01-21T09:26:34.592+0000",
         "insert",
         1,
         "2024-01-21T09:26:37.000+0000"
        ],
        [
         4,
         "2013-07-25 00:00:00.0",
         8827,
         "CLOSED",
         "dbfs:/mnt/orders/orders.csv",
         "2024-01-21T09:26:34.592+0000",
         "insert",
         1,
         "2024-01-21T09:26:37.000+0000"
        ],
        [
         8,
         "2013-07-25 00:00:00.0",
         2911,
         "PROCESSING",
         "dbfs:/mnt/orders/orders.csv",
         "2024-01-21T09:26:34.592+0000",
         "insert",
         1,
         "2024-01-21T09:26:37.000+0000"
        ]
       ],
       "datasetInfos": [],
       "dbfsResultPath": null,
       "isJsonSchema": true,
       "metadata": {},
       "overflow": false,
       "plotOptions": {
        "customPlotOptions": {},
        "displayType": "table",
        "pivotAggregation": null,
        "pivotColumns": null,
        "xColumns": null,
        "yColumns": null
       },
       "removedWidgets": [],
       "schema": [
        {
         "metadata": "{}",
         "name": "order_id",
         "type": "\"integer\""
        },
        {
         "metadata": "{}",
         "name": "order_date",
         "type": "\"string\""
        },
        {
         "metadata": "{}",
         "name": "customer_id",
         "type": "\"integer\""
        },
        {
         "metadata": "{}",
         "name": "order_status",
         "type": "\"string\""
        },
        {
         "metadata": "{}",
         "name": "filename",
         "type": "\"string\""
        },
        {
         "metadata": "{}",
         "name": "createdon",
         "type": "\"timestamp\""
        },
        {
         "metadata": "{}",
         "name": "_change_type",
         "type": "\"string\""
        },
        {
         "metadata": "{}",
         "name": "_commit_version",
         "type": "\"long\""
        },
        {
         "metadata": "{}",
         "name": "_commit_timestamp",
         "type": "\"timestamp\""
        }
       ],
       "type": "table"
      }
     },
     "output_type": "display_data"
    }
   ],
   "source": [
    "%sql\n",
    "select * from orders_bronze_changes"
   ]
  },
  {
   "cell_type": "code",
   "execution_count": 0,
   "metadata": {
    "application/vnd.databricks.v1+cell": {
     "cellMetadata": {
      "byteLimit": 2048000,
      "implicitDf": true,
      "rowLimit": 10000
     },
     "inputWidgets": {},
     "nuid": "9e464210-2aa1-48b7-81e8-58c77417f818",
     "showTitle": false,
     "title": ""
    }
   },
   "outputs": [
    {
     "output_type": "display_data",
     "data": {
      "text/html": [
       "<style scoped>\n",
       "  .table-result-container {\n",
       "    max-height: 300px;\n",
       "    overflow: auto;\n",
       "  }\n",
       "  table, th, td {\n",
       "    border: 1px solid black;\n",
       "    border-collapse: collapse;\n",
       "  }\n",
       "  th, td {\n",
       "    padding: 5px;\n",
       "  }\n",
       "  th {\n",
       "    text-align: left;\n",
       "  }\n",
       "</style><div class='table-result-container'><table class='table-result'><thead style='background-color: white'><tr><th>num_affected_rows</th><th>num_updated_rows</th><th>num_deleted_rows</th><th>num_inserted_rows</th></tr></thead><tbody><tr><td>9</td><td>0</td><td>0</td><td>9</td></tr></tbody></table></div>"
      ]
     },
     "metadata": {
      "application/vnd.databricks.v1+output": {
       "addedWidgets": {},
       "aggData": [],
       "aggError": "",
       "aggOverflow": false,
       "aggSchema": [],
       "aggSeriesLimitReached": false,
       "aggType": "",
       "arguments": {},
       "columnCustomDisplayInfos": {},
       "data": [
        [
         9,
         0,
         0,
         9
        ]
       ],
       "datasetInfos": [],
       "dbfsResultPath": null,
       "isJsonSchema": true,
       "metadata": {},
       "overflow": false,
       "plotOptions": {
        "customPlotOptions": {},
        "displayType": "table",
        "pivotAggregation": null,
        "pivotColumns": null,
        "xColumns": null,
        "yColumns": null
       },
       "removedWidgets": [],
       "schema": [
        {
         "metadata": "{}",
         "name": "num_affected_rows",
         "type": "\"long\""
        },
        {
         "metadata": "{}",
         "name": "num_updated_rows",
         "type": "\"long\""
        },
        {
         "metadata": "{}",
         "name": "num_deleted_rows",
         "type": "\"long\""
        },
        {
         "metadata": "{}",
         "name": "num_inserted_rows",
         "type": "\"long\""
        }
       ],
       "type": "table"
      }
     },
     "output_type": "display_data"
    }
   ],
   "source": [
    "%sql\n",
    "merge into retaildb.orders_silver tgt using orders_bronze_changes src on tgt.order_id = src.order_id\n",
    "when matched then \n",
    "update set \n",
    "tgt.order_status=src.order_status,\n",
    "tgt.customer_id=src.customer_id,\n",
    "tgt.modifiedon=CURRENT_TIMESTAMP()\n",
    "when not matched then \n",
    "insert(order_id,order_date,customer_id,order_status,createdon,modifiedon) values(order_id,order_date,customer_id,order_status,CURRENT_TIMESTAMP(),CURRENT_TIMESTAMP())"
   ]
  },
  {
   "cell_type": "code",
   "execution_count": 0,
   "metadata": {
    "application/vnd.databricks.v1+cell": {
     "cellMetadata": {
      "byteLimit": 2048000,
      "implicitDf": true,
      "rowLimit": 10000
     },
     "inputWidgets": {},
     "nuid": "623b6995-769c-4f71-9503-56471816682d",
     "showTitle": false,
     "title": ""
    }
   },
   "outputs": [
    {
     "output_type": "display_data",
     "data": {
      "text/html": [
       "<style scoped>\n",
       "  .table-result-container {\n",
       "    max-height: 300px;\n",
       "    overflow: auto;\n",
       "  }\n",
       "  table, th, td {\n",
       "    border: 1px solid black;\n",
       "    border-collapse: collapse;\n",
       "  }\n",
       "  th, td {\n",
       "    padding: 5px;\n",
       "  }\n",
       "  th {\n",
       "    text-align: left;\n",
       "  }\n",
       "</style><div class='table-result-container'><table class='table-result'><thead style='background-color: white'><tr><th>order_id</th><th>order_date</th><th>customer_id</th><th>order_status</th><th>order_year</th><th>order_month</th><th>createdon</th><th>modifiedon</th></tr></thead><tbody><tr><td>3</td><td>2013-07-25</td><td>12111</td><td>COMPLETE</td><td>2013</td><td>7</td><td>2024-01-21T09:36:18.798+0000</td><td>2024-01-21T09:36:18.798+0000</td></tr><tr><td>5</td><td>2013-07-25</td><td>11318</td><td>COMPLETE</td><td>2013</td><td>7</td><td>2024-01-21T09:36:18.798+0000</td><td>2024-01-21T09:36:18.798+0000</td></tr><tr><td>6</td><td>2013-07-25</td><td>7130</td><td>COMPLETE</td><td>2013</td><td>7</td><td>2024-01-21T09:36:18.798+0000</td><td>2024-01-21T09:36:18.798+0000</td></tr><tr><td>7</td><td>2013-07-25</td><td>4530</td><td>COMPLETE</td><td>2013</td><td>7</td><td>2024-01-21T09:36:18.798+0000</td><td>2024-01-21T09:36:18.798+0000</td></tr><tr><td>2</td><td>2013-07-25</td><td>256</td><td>PENDING_PAYMENT</td><td>2013</td><td>7</td><td>2024-01-21T09:36:18.798+0000</td><td>2024-01-21T09:36:18.798+0000</td></tr><tr><td>9</td><td>2013-07-25</td><td>5657</td><td>PENDING_PAYMENT</td><td>2013</td><td>7</td><td>2024-01-21T09:36:18.798+0000</td><td>2024-01-21T09:36:18.798+0000</td></tr><tr><td>1</td><td>2013-07-25</td><td>11599</td><td>CLOSED</td><td>2013</td><td>7</td><td>2024-01-21T09:36:18.798+0000</td><td>2024-01-21T09:36:18.798+0000</td></tr><tr><td>4</td><td>2013-07-25</td><td>8827</td><td>CLOSED</td><td>2013</td><td>7</td><td>2024-01-21T09:36:18.798+0000</td><td>2024-01-21T09:36:18.798+0000</td></tr><tr><td>8</td><td>2013-07-25</td><td>2911</td><td>PROCESSING</td><td>2013</td><td>7</td><td>2024-01-21T09:36:18.798+0000</td><td>2024-01-21T09:36:18.798+0000</td></tr></tbody></table></div>"
      ]
     },
     "metadata": {
      "application/vnd.databricks.v1+output": {
       "addedWidgets": {},
       "aggData": [],
       "aggError": "",
       "aggOverflow": false,
       "aggSchema": [],
       "aggSeriesLimitReached": false,
       "aggType": "",
       "arguments": {},
       "columnCustomDisplayInfos": {},
       "data": [
        [
         3,
         "2013-07-25",
         12111,
         "COMPLETE",
         2013,
         7,
         "2024-01-21T09:36:18.798+0000",
         "2024-01-21T09:36:18.798+0000"
        ],
        [
         5,
         "2013-07-25",
         11318,
         "COMPLETE",
         2013,
         7,
         "2024-01-21T09:36:18.798+0000",
         "2024-01-21T09:36:18.798+0000"
        ],
        [
         6,
         "2013-07-25",
         7130,
         "COMPLETE",
         2013,
         7,
         "2024-01-21T09:36:18.798+0000",
         "2024-01-21T09:36:18.798+0000"
        ],
        [
         7,
         "2013-07-25",
         4530,
         "COMPLETE",
         2013,
         7,
         "2024-01-21T09:36:18.798+0000",
         "2024-01-21T09:36:18.798+0000"
        ],
        [
         2,
         "2013-07-25",
         256,
         "PENDING_PAYMENT",
         2013,
         7,
         "2024-01-21T09:36:18.798+0000",
         "2024-01-21T09:36:18.798+0000"
        ],
        [
         9,
         "2013-07-25",
         5657,
         "PENDING_PAYMENT",
         2013,
         7,
         "2024-01-21T09:36:18.798+0000",
         "2024-01-21T09:36:18.798+0000"
        ],
        [
         1,
         "2013-07-25",
         11599,
         "CLOSED",
         2013,
         7,
         "2024-01-21T09:36:18.798+0000",
         "2024-01-21T09:36:18.798+0000"
        ],
        [
         4,
         "2013-07-25",
         8827,
         "CLOSED",
         2013,
         7,
         "2024-01-21T09:36:18.798+0000",
         "2024-01-21T09:36:18.798+0000"
        ],
        [
         8,
         "2013-07-25",
         2911,
         "PROCESSING",
         2013,
         7,
         "2024-01-21T09:36:18.798+0000",
         "2024-01-21T09:36:18.798+0000"
        ]
       ],
       "datasetInfos": [],
       "dbfsResultPath": null,
       "isJsonSchema": true,
       "metadata": {},
       "overflow": false,
       "plotOptions": {
        "customPlotOptions": {},
        "displayType": "table",
        "pivotAggregation": null,
        "pivotColumns": null,
        "xColumns": null,
        "yColumns": null
       },
       "removedWidgets": [],
       "schema": [
        {
         "metadata": "{}",
         "name": "order_id",
         "type": "\"integer\""
        },
        {
         "metadata": "{}",
         "name": "order_date",
         "type": "\"date\""
        },
        {
         "metadata": "{}",
         "name": "customer_id",
         "type": "\"integer\""
        },
        {
         "metadata": "{}",
         "name": "order_status",
         "type": "\"string\""
        },
        {
         "metadata": "{}",
         "name": "order_year",
         "type": "\"integer\""
        },
        {
         "metadata": "{}",
         "name": "order_month",
         "type": "\"integer\""
        },
        {
         "metadata": "{}",
         "name": "createdon",
         "type": "\"timestamp\""
        },
        {
         "metadata": "{}",
         "name": "modifiedon",
         "type": "\"timestamp\""
        }
       ],
       "type": "table"
      }
     },
     "output_type": "display_data"
    }
   ],
   "source": [
    "%sql\n",
    "select * from retaildb.orders_silver"
   ]
  },
  {
   "cell_type": "code",
   "execution_count": 0,
   "metadata": {
    "application/vnd.databricks.v1+cell": {
     "cellMetadata": {
      "byteLimit": 2048000,
      "implicitDf": true,
      "rowLimit": 10000
     },
     "inputWidgets": {},
     "nuid": "678b0e9c-b888-499d-ae5f-f6e55fe7ef1b",
     "showTitle": false,
     "title": ""
    }
   },
   "outputs": [
    {
     "output_type": "display_data",
     "data": {
      "text/html": [
       "<style scoped>\n",
       "  .table-result-container {\n",
       "    max-height: 300px;\n",
       "    overflow: auto;\n",
       "  }\n",
       "  table, th, td {\n",
       "    border: 1px solid black;\n",
       "    border-collapse: collapse;\n",
       "  }\n",
       "  th, td {\n",
       "    padding: 5px;\n",
       "  }\n",
       "  th {\n",
       "    text-align: left;\n",
       "  }\n",
       "</style><div class='table-result-container'><table class='table-result'><thead style='background-color: white'><tr><th>num_affected_rows</th><th>num_inserted_rows</th></tr></thead><tbody><tr><td>9</td><td>9</td></tr></tbody></table></div>"
      ]
     },
     "metadata": {
      "application/vnd.databricks.v1+output": {
       "addedWidgets": {},
       "aggData": [],
       "aggError": "",
       "aggOverflow": false,
       "aggSchema": [],
       "aggSeriesLimitReached": false,
       "aggType": "",
       "arguments": {},
       "columnCustomDisplayInfos": {},
       "data": [
        [
         9,
         9
        ]
       ],
       "datasetInfos": [],
       "dbfsResultPath": null,
       "isJsonSchema": true,
       "metadata": {},
       "overflow": false,
       "plotOptions": {
        "customPlotOptions": {},
        "displayType": "table",
        "pivotAggregation": null,
        "pivotColumns": null,
        "xColumns": null,
        "yColumns": null
       },
       "removedWidgets": [],
       "schema": [
        {
         "metadata": "{}",
         "name": "num_affected_rows",
         "type": "\"long\""
        },
        {
         "metadata": "{}",
         "name": "num_inserted_rows",
         "type": "\"long\""
        }
       ],
       "type": "table"
      }
     },
     "output_type": "display_data"
    }
   ],
   "source": [
    "%sql\n",
    "insert overwrite table retaildb.orders_gold \n",
    "select customer_id,order_status,order_year,count(order_id) as num_orders\n",
    "from retaildb.orders_silver\n",
    "group by customer_id,order_status,order_year"
   ]
  },
  {
   "cell_type": "code",
   "execution_count": 0,
   "metadata": {
    "application/vnd.databricks.v1+cell": {
     "cellMetadata": {
      "byteLimit": 2048000,
      "implicitDf": true,
      "rowLimit": 10000
     },
     "inputWidgets": {},
     "nuid": "b09e9080-d53d-48cb-94ab-d8e0c8379833",
     "showTitle": false,
     "title": ""
    }
   },
   "outputs": [
    {
     "output_type": "display_data",
     "data": {
      "text/html": [
       "<style scoped>\n",
       "  .table-result-container {\n",
       "    max-height: 300px;\n",
       "    overflow: auto;\n",
       "  }\n",
       "  table, th, td {\n",
       "    border: 1px solid black;\n",
       "    border-collapse: collapse;\n",
       "  }\n",
       "  th, td {\n",
       "    padding: 5px;\n",
       "  }\n",
       "  th {\n",
       "    text-align: left;\n",
       "  }\n",
       "</style><div class='table-result-container'><table class='table-result'><thead style='background-color: white'><tr><th>customer_id</th><th>order_status</th><th>order_year</th><th>num_orders</th></tr></thead><tbody><tr><td>4530</td><td>COMPLETE</td><td>2013</td><td>1</td></tr><tr><td>12111</td><td>COMPLETE</td><td>2013</td><td>1</td></tr><tr><td>7130</td><td>COMPLETE</td><td>2013</td><td>1</td></tr><tr><td>11318</td><td>COMPLETE</td><td>2013</td><td>1</td></tr><tr><td>5657</td><td>PENDING_PAYMENT</td><td>2013</td><td>1</td></tr><tr><td>256</td><td>PENDING_PAYMENT</td><td>2013</td><td>1</td></tr><tr><td>11599</td><td>CLOSED</td><td>2013</td><td>1</td></tr><tr><td>8827</td><td>CLOSED</td><td>2013</td><td>1</td></tr><tr><td>2911</td><td>PROCESSING</td><td>2013</td><td>1</td></tr></tbody></table></div>"
      ]
     },
     "metadata": {
      "application/vnd.databricks.v1+output": {
       "addedWidgets": {},
       "aggData": [],
       "aggError": "",
       "aggOverflow": false,
       "aggSchema": [],
       "aggSeriesLimitReached": false,
       "aggType": "",
       "arguments": {},
       "columnCustomDisplayInfos": {},
       "data": [
        [
         4530,
         "COMPLETE",
         2013,
         1
        ],
        [
         12111,
         "COMPLETE",
         2013,
         1
        ],
        [
         7130,
         "COMPLETE",
         2013,
         1
        ],
        [
         11318,
         "COMPLETE",
         2013,
         1
        ],
        [
         5657,
         "PENDING_PAYMENT",
         2013,
         1
        ],
        [
         256,
         "PENDING_PAYMENT",
         2013,
         1
        ],
        [
         11599,
         "CLOSED",
         2013,
         1
        ],
        [
         8827,
         "CLOSED",
         2013,
         1
        ],
        [
         2911,
         "PROCESSING",
         2013,
         1
        ]
       ],
       "datasetInfos": [],
       "dbfsResultPath": null,
       "isJsonSchema": true,
       "metadata": {},
       "overflow": false,
       "plotOptions": {
        "customPlotOptions": {},
        "displayType": "table",
        "pivotAggregation": null,
        "pivotColumns": null,
        "xColumns": null,
        "yColumns": null
       },
       "removedWidgets": [],
       "schema": [
        {
         "metadata": "{}",
         "name": "customer_id",
         "type": "\"integer\""
        },
        {
         "metadata": "{}",
         "name": "order_status",
         "type": "\"string\""
        },
        {
         "metadata": "{}",
         "name": "order_year",
         "type": "\"integer\""
        },
        {
         "metadata": "{}",
         "name": "num_orders",
         "type": "\"integer\""
        }
       ],
       "type": "table"
      }
     },
     "output_type": "display_data"
    }
   ],
   "source": [
    "%sql\n",
    "select * from retaildb.orders_gold "
   ]
  },
  {
   "cell_type": "code",
   "execution_count": 0,
   "metadata": {
    "application/vnd.databricks.v1+cell": {
     "cellMetadata": {
      "byteLimit": 2048000,
      "implicitDf": true,
      "rowLimit": 10000
     },
     "inputWidgets": {},
     "nuid": "609b9d63-d859-4666-b994-6c49b6b35256",
     "showTitle": false,
     "title": ""
    }
   },
   "outputs": [
    {
     "output_type": "display_data",
     "data": {
      "text/html": [
       "<style scoped>\n",
       "  .table-result-container {\n",
       "    max-height: 300px;\n",
       "    overflow: auto;\n",
       "  }\n",
       "  table, th, td {\n",
       "    border: 1px solid black;\n",
       "    border-collapse: collapse;\n",
       "  }\n",
       "  th, td {\n",
       "    padding: 5px;\n",
       "  }\n",
       "  th {\n",
       "    text-align: left;\n",
       "  }\n",
       "</style><div class='table-result-container'><table class='table-result'><thead style='background-color: white'><tr><th>num_affected_rows</th><th>num_inserted_rows</th></tr></thead><tbody><tr><td>6</td><td>6</td></tr></tbody></table></div>"
      ]
     },
     "metadata": {
      "application/vnd.databricks.v1+output": {
       "addedWidgets": {},
       "aggData": [],
       "aggError": "",
       "aggOverflow": false,
       "aggSchema": [],
       "aggSeriesLimitReached": false,
       "aggType": "",
       "arguments": {},
       "columnCustomDisplayInfos": {},
       "data": [
        [
         6,
         6
        ]
       ],
       "datasetInfos": [],
       "dbfsResultPath": null,
       "isJsonSchema": true,
       "metadata": {},
       "overflow": false,
       "plotOptions": {
        "customPlotOptions": {},
        "displayType": "table",
        "pivotAggregation": null,
        "pivotColumns": null,
        "xColumns": null,
        "yColumns": null
       },
       "removedWidgets": [],
       "schema": [
        {
         "metadata": "{}",
         "name": "num_affected_rows",
         "type": "\"long\""
        },
        {
         "metadata": "{}",
         "name": "num_inserted_rows",
         "type": "\"long\""
        }
       ],
       "type": "table"
      }
     },
     "output_type": "display_data"
    }
   ],
   "source": [
    "%sql\n",
    "copy into retaildb.orders_bronze from   ---would not load the same file again since it keeps a track of all the files loaded/copied\n",
    "(\n",
    "  select\n",
    "  order_id:: int,\n",
    "  order_date:: string,\n",
    "  customer_id:: int,\n",
    "  order_status:: string,\n",
    "  INPUT_FILE_NAME() as filename,\n",
    "  CURRENT_TIMESTAMP() as createdon \n",
    "  FROM 'dbfs:/mnt/orders/orders_new.csv'\n",
    "  )\n",
    "  fileformat=CSV\n",
    "  format_options('header'='true')"
   ]
  },
  {
   "cell_type": "code",
   "execution_count": 0,
   "metadata": {
    "application/vnd.databricks.v1+cell": {
     "cellMetadata": {
      "byteLimit": 2048000,
      "implicitDf": true,
      "rowLimit": 10000
     },
     "inputWidgets": {},
     "nuid": "c5b059c2-232a-4de6-80ca-8b02a2ba8f08",
     "showTitle": false,
     "title": ""
    }
   },
   "outputs": [
    {
     "output_type": "display_data",
     "data": {
      "text/html": [
       "<style scoped>\n",
       "  .table-result-container {\n",
       "    max-height: 300px;\n",
       "    overflow: auto;\n",
       "  }\n",
       "  table, th, td {\n",
       "    border: 1px solid black;\n",
       "    border-collapse: collapse;\n",
       "  }\n",
       "  th, td {\n",
       "    padding: 5px;\n",
       "  }\n",
       "  th {\n",
       "    text-align: left;\n",
       "  }\n",
       "</style><div class='table-result-container'><table class='table-result'><thead style='background-color: white'><tr><th>order_id</th><th>order_date</th><th>customer_id</th><th>order_status</th><th>filename</th><th>createdon</th><th>_change_type</th><th>_commit_version</th><th>_commit_timestamp</th></tr></thead><tbody><tr><td>3</td><td>2013-07-25 00:00:00.0</td><td>12111</td><td>COMPLETE</td><td>dbfs:/mnt/orders/orders_new.csv</td><td>2024-01-21T09:54:14.459+0000</td><td>insert</td><td>3</td><td>2024-01-21T09:54:15.000+0000</td></tr><tr><td>5</td><td>2013-07-25 00:00:00.0</td><td>11318</td><td>COMPLETE</td><td>dbfs:/mnt/orders/orders_new.csv</td><td>2024-01-21T09:54:14.459+0000</td><td>insert</td><td>3</td><td>2024-01-21T09:54:15.000+0000</td></tr><tr><td>6</td><td>2013-07-25 00:00:00.0</td><td>7130</td><td>COMPLETE</td><td>dbfs:/mnt/orders/orders_new.csv</td><td>2024-01-21T09:54:14.459+0000</td><td>insert</td><td>3</td><td>2024-01-21T09:54:15.000+0000</td></tr><tr><td>1</td><td>2013-07-25 00:00:00.0</td><td>11599</td><td>CLOSED</td><td>dbfs:/mnt/orders/orders_new.csv</td><td>2024-01-21T09:54:14.459+0000</td><td>insert</td><td>3</td><td>2024-01-21T09:54:15.000+0000</td></tr><tr><td>4</td><td>2013-07-25 00:00:00.0</td><td>8827</td><td>CLOSED</td><td>dbfs:/mnt/orders/orders_new.csv</td><td>2024-01-21T09:54:14.459+0000</td><td>insert</td><td>3</td><td>2024-01-21T09:54:15.000+0000</td></tr><tr><td>2</td><td>2013-07-25 00:00:00.0</td><td>256</td><td>PENDING_PAYMENT</td><td>dbfs:/mnt/orders/orders_new.csv</td><td>2024-01-21T09:54:14.459+0000</td><td>insert</td><td>3</td><td>2024-01-21T09:54:15.000+0000</td></tr></tbody></table></div>"
      ]
     },
     "metadata": {
      "application/vnd.databricks.v1+output": {
       "addedWidgets": {},
       "aggData": [],
       "aggError": "",
       "aggOverflow": false,
       "aggSchema": [],
       "aggSeriesLimitReached": false,
       "aggType": "",
       "arguments": {},
       "columnCustomDisplayInfos": {},
       "data": [
        [
         3,
         "2013-07-25 00:00:00.0",
         12111,
         "COMPLETE",
         "dbfs:/mnt/orders/orders_new.csv",
         "2024-01-21T09:54:14.459+0000",
         "insert",
         3,
         "2024-01-21T09:54:15.000+0000"
        ],
        [
         5,
         "2013-07-25 00:00:00.0",
         11318,
         "COMPLETE",
         "dbfs:/mnt/orders/orders_new.csv",
         "2024-01-21T09:54:14.459+0000",
         "insert",
         3,
         "2024-01-21T09:54:15.000+0000"
        ],
        [
         6,
         "2013-07-25 00:00:00.0",
         7130,
         "COMPLETE",
         "dbfs:/mnt/orders/orders_new.csv",
         "2024-01-21T09:54:14.459+0000",
         "insert",
         3,
         "2024-01-21T09:54:15.000+0000"
        ],
        [
         1,
         "2013-07-25 00:00:00.0",
         11599,
         "CLOSED",
         "dbfs:/mnt/orders/orders_new.csv",
         "2024-01-21T09:54:14.459+0000",
         "insert",
         3,
         "2024-01-21T09:54:15.000+0000"
        ],
        [
         4,
         "2013-07-25 00:00:00.0",
         8827,
         "CLOSED",
         "dbfs:/mnt/orders/orders_new.csv",
         "2024-01-21T09:54:14.459+0000",
         "insert",
         3,
         "2024-01-21T09:54:15.000+0000"
        ],
        [
         2,
         "2013-07-25 00:00:00.0",
         256,
         "PENDING_PAYMENT",
         "dbfs:/mnt/orders/orders_new.csv",
         "2024-01-21T09:54:14.459+0000",
         "insert",
         3,
         "2024-01-21T09:54:15.000+0000"
        ]
       ],
       "datasetInfos": [],
       "dbfsResultPath": null,
       "isJsonSchema": true,
       "metadata": {},
       "overflow": false,
       "plotOptions": {
        "customPlotOptions": {},
        "displayType": "table",
        "pivotAggregation": null,
        "pivotColumns": null,
        "xColumns": null,
        "yColumns": null
       },
       "removedWidgets": [],
       "schema": [
        {
         "metadata": "{}",
         "name": "order_id",
         "type": "\"integer\""
        },
        {
         "metadata": "{}",
         "name": "order_date",
         "type": "\"string\""
        },
        {
         "metadata": "{}",
         "name": "customer_id",
         "type": "\"integer\""
        },
        {
         "metadata": "{}",
         "name": "order_status",
         "type": "\"string\""
        },
        {
         "metadata": "{}",
         "name": "filename",
         "type": "\"string\""
        },
        {
         "metadata": "{}",
         "name": "createdon",
         "type": "\"timestamp\""
        },
        {
         "metadata": "{}",
         "name": "_change_type",
         "type": "\"string\""
        },
        {
         "metadata": "{}",
         "name": "_commit_version",
         "type": "\"long\""
        },
        {
         "metadata": "{}",
         "name": "_commit_timestamp",
         "type": "\"timestamp\""
        }
       ],
       "type": "table"
      }
     },
     "output_type": "display_data"
    }
   ],
   "source": [
    "%sql\n",
    "select * from table_changes('retaildb.orders_bronze',2)"
   ]
  },
  {
   "cell_type": "code",
   "execution_count": 0,
   "metadata": {
    "application/vnd.databricks.v1+cell": {
     "cellMetadata": {
      "byteLimit": 2048000,
      "implicitDf": true,
      "rowLimit": 10000
     },
     "inputWidgets": {},
     "nuid": "e1414e41-6d08-4cca-9387-4f4435d3e430",
     "showTitle": false,
     "title": ""
    }
   },
   "outputs": [
    {
     "output_type": "display_data",
     "data": {
      "text/html": [
       "<style scoped>\n",
       "  .table-result-container {\n",
       "    max-height: 300px;\n",
       "    overflow: auto;\n",
       "  }\n",
       "  table, th, td {\n",
       "    border: 1px solid black;\n",
       "    border-collapse: collapse;\n",
       "  }\n",
       "  th, td {\n",
       "    padding: 5px;\n",
       "  }\n",
       "  th {\n",
       "    text-align: left;\n",
       "  }\n",
       "</style><div class='table-result-container'><table class='table-result'><thead style='background-color: white'><tr></tr></thead><tbody></tbody></table></div>"
      ]
     },
     "metadata": {
      "application/vnd.databricks.v1+output": {
       "addedWidgets": {},
       "aggData": [],
       "aggError": "",
       "aggOverflow": false,
       "aggSchema": [],
       "aggSeriesLimitReached": false,
       "aggType": "",
       "arguments": {},
       "columnCustomDisplayInfos": {},
       "data": [],
       "datasetInfos": [],
       "dbfsResultPath": null,
       "isJsonSchema": true,
       "metadata": {},
       "overflow": false,
       "plotOptions": {
        "customPlotOptions": {},
        "displayType": "table",
        "pivotAggregation": null,
        "pivotColumns": null,
        "xColumns": null,
        "yColumns": null
       },
       "removedWidgets": [],
       "schema": [],
       "type": "table"
      }
     },
     "output_type": "display_data"
    }
   ],
   "source": [
    "%sql\n",
    "create or replace temporary view orders_bronze_changes as select * from table_changes('retaildb.orders_bronze',2)\n",
    "where order_id > 0 and customer_id > 0 and order_status in ('PAYMENT_REVIEW','PROCESSING','CLOSED','SUSPECTED_FRAUD','COMPLETE','PENDING','CANCELLED','PENDING_PAYMENT')"
   ]
  },
  {
   "cell_type": "code",
   "execution_count": 0,
   "metadata": {
    "application/vnd.databricks.v1+cell": {
     "cellMetadata": {
      "byteLimit": 2048000,
      "implicitDf": true,
      "rowLimit": 10000
     },
     "inputWidgets": {},
     "nuid": "ce7056f6-7c7f-4de6-b35b-e95067b68bb9",
     "showTitle": false,
     "title": ""
    }
   },
   "outputs": [
    {
     "output_type": "display_data",
     "data": {
      "text/html": [
       "<style scoped>\n",
       "  .table-result-container {\n",
       "    max-height: 300px;\n",
       "    overflow: auto;\n",
       "  }\n",
       "  table, th, td {\n",
       "    border: 1px solid black;\n",
       "    border-collapse: collapse;\n",
       "  }\n",
       "  th, td {\n",
       "    padding: 5px;\n",
       "  }\n",
       "  th {\n",
       "    text-align: left;\n",
       "  }\n",
       "</style><div class='table-result-container'><table class='table-result'><thead style='background-color: white'><tr><th>num_affected_rows</th><th>num_updated_rows</th><th>num_deleted_rows</th><th>num_inserted_rows</th></tr></thead><tbody><tr><td>6</td><td>6</td><td>0</td><td>0</td></tr></tbody></table></div>"
      ]
     },
     "metadata": {
      "application/vnd.databricks.v1+output": {
       "addedWidgets": {},
       "aggData": [],
       "aggError": "",
       "aggOverflow": false,
       "aggSchema": [],
       "aggSeriesLimitReached": false,
       "aggType": "",
       "arguments": {},
       "columnCustomDisplayInfos": {},
       "data": [
        [
         6,
         6,
         0,
         0
        ]
       ],
       "datasetInfos": [],
       "dbfsResultPath": null,
       "isJsonSchema": true,
       "metadata": {},
       "overflow": false,
       "plotOptions": {
        "customPlotOptions": {},
        "displayType": "table",
        "pivotAggregation": null,
        "pivotColumns": null,
        "xColumns": null,
        "yColumns": null
       },
       "removedWidgets": [],
       "schema": [
        {
         "metadata": "{}",
         "name": "num_affected_rows",
         "type": "\"long\""
        },
        {
         "metadata": "{}",
         "name": "num_updated_rows",
         "type": "\"long\""
        },
        {
         "metadata": "{}",
         "name": "num_deleted_rows",
         "type": "\"long\""
        },
        {
         "metadata": "{}",
         "name": "num_inserted_rows",
         "type": "\"long\""
        }
       ],
       "type": "table"
      }
     },
     "output_type": "display_data"
    }
   ],
   "source": [
    "%sql\n",
    "merge into retaildb.orders_silver tgt using orders_bronze_changes src on tgt.order_id = src.order_id\n",
    "when matched then \n",
    "update set \n",
    "tgt.order_status=src.order_status,\n",
    "tgt.customer_id=src.customer_id,\n",
    "tgt.modifiedon=CURRENT_TIMESTAMP()\n",
    "when not matched then \n",
    "insert(order_id,order_date,customer_id,order_status,createdon,modifiedon) values(order_id,order_date,customer_id,order_status,CURRENT_TIMESTAMP(),CURRENT_TIMESTAMP())"
   ]
  },
  {
   "cell_type": "code",
   "execution_count": 0,
   "metadata": {
    "application/vnd.databricks.v1+cell": {
     "cellMetadata": {
      "byteLimit": 2048000,
      "implicitDf": true,
      "rowLimit": 10000
     },
     "inputWidgets": {},
     "nuid": "03df800a-2ad3-4929-945d-1f7db14f1ee3",
     "showTitle": false,
     "title": ""
    }
   },
   "outputs": [
    {
     "output_type": "display_data",
     "data": {
      "text/html": [
       "<style scoped>\n",
       "  .table-result-container {\n",
       "    max-height: 300px;\n",
       "    overflow: auto;\n",
       "  }\n",
       "  table, th, td {\n",
       "    border: 1px solid black;\n",
       "    border-collapse: collapse;\n",
       "  }\n",
       "  th, td {\n",
       "    padding: 5px;\n",
       "  }\n",
       "  th {\n",
       "    text-align: left;\n",
       "  }\n",
       "</style><div class='table-result-container'><table class='table-result'><thead style='background-color: white'><tr><th>num_affected_rows</th><th>num_inserted_rows</th></tr></thead><tbody><tr><td>9</td><td>9</td></tr></tbody></table></div>"
      ]
     },
     "metadata": {
      "application/vnd.databricks.v1+output": {
       "addedWidgets": {},
       "aggData": [],
       "aggError": "",
       "aggOverflow": false,
       "aggSchema": [],
       "aggSeriesLimitReached": false,
       "aggType": "",
       "arguments": {},
       "columnCustomDisplayInfos": {},
       "data": [
        [
         9,
         9
        ]
       ],
       "datasetInfos": [],
       "dbfsResultPath": null,
       "isJsonSchema": true,
       "metadata": {},
       "overflow": false,
       "plotOptions": {
        "customPlotOptions": {},
        "displayType": "table",
        "pivotAggregation": null,
        "pivotColumns": null,
        "xColumns": null,
        "yColumns": null
       },
       "removedWidgets": [],
       "schema": [
        {
         "metadata": "{}",
         "name": "num_affected_rows",
         "type": "\"long\""
        },
        {
         "metadata": "{}",
         "name": "num_inserted_rows",
         "type": "\"long\""
        }
       ],
       "type": "table"
      }
     },
     "output_type": "display_data"
    }
   ],
   "source": [
    "%sql\n",
    "insert overwrite table retaildb.orders_gold \n",
    "select customer_id,order_status,order_year,count(order_id) as num_orders\n",
    "from retaildb.orders_silver\n",
    "group by customer_id,order_status,order_year"
   ]
  },
  {
   "cell_type": "code",
   "execution_count": 0,
   "metadata": {
    "application/vnd.databricks.v1+cell": {
     "cellMetadata": {},
     "inputWidgets": {},
     "nuid": "4801aaaa-bcb2-477e-8bac-23ce9ddabf11",
     "showTitle": false,
     "title": ""
    }
   },
   "outputs": [],
   "source": []
  },
  {
   "cell_type": "code",
   "execution_count": 0,
   "metadata": {
    "application/vnd.databricks.v1+cell": {
     "cellMetadata": {},
     "inputWidgets": {},
     "nuid": "3184ec47-0fa3-4cda-a344-f99773742727",
     "showTitle": false,
     "title": ""
    }
   },
   "outputs": [],
   "source": []
  },
  {
   "cell_type": "code",
   "execution_count": 0,
   "metadata": {
    "application/vnd.databricks.v1+cell": {
     "cellMetadata": {},
     "inputWidgets": {},
     "nuid": "2a509f98-7a99-498b-93a9-a076188f3412",
     "showTitle": false,
     "title": ""
    }
   },
   "outputs": [],
   "source": []
  }
 ],
 "metadata": {
  "application/vnd.databricks.v1+notebook": {
   "dashboards": [],
   "language": "python",
   "notebookMetadata": {
    "mostRecentlyExecutedCommandWithImplicitDF": {
     "commandId": 3391189732409634,
     "dataframes": [
      "_sqldf"
     ]
    },
    "pythonIndentUnit": 4
   },
   "notebookName": "Change_Data_Feed",
   "widgets": {}
  }
 },
 "nbformat": 4,
 "nbformat_minor": 0
}
