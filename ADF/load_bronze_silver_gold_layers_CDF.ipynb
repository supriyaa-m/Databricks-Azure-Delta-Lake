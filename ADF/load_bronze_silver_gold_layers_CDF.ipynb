{
 "cells": [
  {
   "cell_type": "code",
   "execution_count": 0,
   "metadata": {
    "application/vnd.databricks.v1+cell": {
     "cellMetadata": {
      "byteLimit": 2048000,
      "rowLimit": 10000
     },
     "inputWidgets": {},
     "nuid": "26f9668b-5041-443d-8d8b-f3627b00274c",
     "showTitle": false,
     "title": ""
    }
   },
   "outputs": [],
   "source": [
    "storage_account = 'stgbus'\n",
    "container_name = 'buscontain'\n",
    "scope_name = 'bus-scope'\n",
    "secret_name = 'busas'"
   ]
  },
  {
   "cell_type": "code",
   "execution_count": 0,
   "metadata": {
    "application/vnd.databricks.v1+cell": {
     "cellMetadata": {
      "byteLimit": 2048000,
      "rowLimit": 10000
     },
     "inputWidgets": {},
     "nuid": "d78c464d-889e-4ddc-bd86-14a959df4263",
     "showTitle": false,
     "title": ""
    }
   },
   "outputs": [],
   "source": [
    "spark.conf.set(f\"fs.azure.account.auth.type.{storage_account}.dfs.core.windows.net\",\"SAS\")"
   ]
  },
  {
   "cell_type": "code",
   "execution_count": 0,
   "metadata": {
    "application/vnd.databricks.v1+cell": {
     "cellMetadata": {
      "byteLimit": 2048000,
      "rowLimit": 10000
     },
     "inputWidgets": {},
     "nuid": "af7c166d-1673-4c01-8dc8-9606a6a1cd41",
     "showTitle": false,
     "title": ""
    }
   },
   "outputs": [],
   "source": [
    "spark.conf.set(f\"fs.azure.sas.token.provider.type.{storage_account}.dfs.core.windows.net\",\"org.apache.hadoop.fs.azurebfs.sas.FixedSASTokenProvider\")"
   ]
  },
  {
   "cell_type": "code",
   "execution_count": 0,
   "metadata": {
    "application/vnd.databricks.v1+cell": {
     "cellMetadata": {
      "byteLimit": 2048000,
      "rowLimit": 10000
     },
     "inputWidgets": {},
     "nuid": "0cbe8390-63ad-47cd-9945-483b0546d5bc",
     "showTitle": false,
     "title": ""
    }
   },
   "outputs": [],
   "source": [
    "spark.conf.set(f\"fs.azure.sas.fixed.token.{storage_account}.dfs.core.windows.net\",dbutils.secrets.get(f'{scope_name}',f'{secret_name}'))"
   ]
  },
  {
   "cell_type": "code",
   "execution_count": 0,
   "metadata": {
    "application/vnd.databricks.v1+cell": {
     "cellMetadata": {
      "byteLimit": 2048000,
      "implicitDf": true,
      "rowLimit": 10000
     },
     "inputWidgets": {},
     "nuid": "110f7f92-c088-4b61-9833-4186e1235a4f",
     "showTitle": false,
     "title": ""
    }
   },
   "outputs": [
    {
     "output_type": "display_data",
     "data": {
      "text/html": [
       "<style scoped>\n",
       "  .table-result-container {\n",
       "    max-height: 300px;\n",
       "    overflow: auto;\n",
       "  }\n",
       "  table, th, td {\n",
       "    border: 1px solid black;\n",
       "    border-collapse: collapse;\n",
       "  }\n",
       "  th, td {\n",
       "    padding: 5px;\n",
       "  }\n",
       "  th {\n",
       "    text-align: left;\n",
       "  }\n",
       "</style><div class='table-result-container'><table class='table-result'><thead style='background-color: white'><tr></tr></thead><tbody></tbody></table></div>"
      ]
     },
     "metadata": {
      "application/vnd.databricks.v1+output": {
       "addedWidgets": {},
       "aggData": [],
       "aggError": "",
       "aggOverflow": false,
       "aggSchema": [],
       "aggSeriesLimitReached": false,
       "aggType": "",
       "arguments": {},
       "columnCustomDisplayInfos": {},
       "data": [],
       "datasetInfos": [],
       "dbfsResultPath": null,
       "isJsonSchema": true,
       "metadata": {
        "dataframeName": null
       },
       "overflow": false,
       "plotOptions": {
        "customPlotOptions": {},
        "displayType": "table",
        "pivotAggregation": null,
        "pivotColumns": null,
        "xColumns": null,
        "yColumns": null
       },
       "removedWidgets": [],
       "schema": [],
       "type": "table"
      }
     },
     "output_type": "display_data"
    }
   ],
   "source": [
    "%sql\n",
    "CREATE TABLE business_db.business_bronze\n",
    "(\n",
    "  user_id string, \n",
    "  user_name string, \n",
    "  average_business_count int,\n",
    "  business_id string,\n",
    "  review_id string,\n",
    "  state string,\n",
    "  city string,\n",
    "  stars double,\n",
    "  categories string,\n",
    "  availability int,\n",
    "  business_name string,\n",
    "  start_date string,\n",
    "  fans string,\n",
    "  reviews string,\n",
    "  filename string,\n",
    "  createdon timestamp\n",
    ")\n",
    "USING delta \n",
    "LOCATION 'dbfs:/FileStore/data/business_bronze.delta' \n",
    "TBLPROPERTIES (\n",
    "  delta.enableChangeDataFeed = true\n",
    ")"
   ]
  },
  {
   "cell_type": "code",
   "execution_count": 0,
   "metadata": {
    "application/vnd.databricks.v1+cell": {
     "cellMetadata": {
      "byteLimit": 2048000,
      "implicitDf": true,
      "rowLimit": 10000
     },
     "inputWidgets": {},
     "nuid": "1b07abae-58d2-4fc8-9e58-759fe2a214e1",
     "showTitle": false,
     "title": ""
    }
   },
   "outputs": [
    {
     "output_type": "display_data",
     "data": {
      "text/html": [
       "<style scoped>\n",
       "  .table-result-container {\n",
       "    max-height: 300px;\n",
       "    overflow: auto;\n",
       "  }\n",
       "  table, th, td {\n",
       "    border: 1px solid black;\n",
       "    border-collapse: collapse;\n",
       "  }\n",
       "  th, td {\n",
       "    padding: 5px;\n",
       "  }\n",
       "  th {\n",
       "    text-align: left;\n",
       "  }\n",
       "</style><div class='table-result-container'><table class='table-result'><thead style='background-color: white'><tr><th>num_affected_rows</th><th>num_inserted_rows</th><th>num_skipped_corrupt_files</th></tr></thead><tbody><tr><td>14448419</td><td>14448419</td><td>0</td></tr></tbody></table></div>"
      ]
     },
     "metadata": {
      "application/vnd.databricks.v1+output": {
       "addedWidgets": {},
       "aggData": [],
       "aggError": "",
       "aggOverflow": false,
       "aggSchema": [],
       "aggSeriesLimitReached": false,
       "aggType": "",
       "arguments": {},
       "columnCustomDisplayInfos": {},
       "data": [
        [
         14448419,
         14448419,
         0
        ]
       ],
       "datasetInfos": [],
       "dbfsResultPath": null,
       "isJsonSchema": true,
       "metadata": {
        "dataframeName": "_sqldf",
        "executionCount": 5
       },
       "overflow": false,
       "plotOptions": {
        "customPlotOptions": {},
        "displayType": "table",
        "pivotAggregation": null,
        "pivotColumns": null,
        "xColumns": null,
        "yColumns": null
       },
       "removedWidgets": [],
       "schema": [
        {
         "metadata": "{}",
         "name": "num_affected_rows",
         "type": "\"long\""
        },
        {
         "metadata": "{}",
         "name": "num_inserted_rows",
         "type": "\"long\""
        },
        {
         "metadata": "{}",
         "name": "num_skipped_corrupt_files",
         "type": "\"integer\""
        }
       ],
       "type": "table"
      }
     },
     "output_type": "display_data"
    }
   ],
   "source": [
    "%sql\n",
    "copy into business_db.business_bronze from\n",
    "(\n",
    "  select\n",
    "  user_id :: string, \n",
    "  user_name :: string, \n",
    "  average_business_count :: int,\n",
    "  business_id :: string,\n",
    "  review_id :: string,\n",
    "  state :: string,\n",
    "  city :: string,\n",
    "  stars :: double,\n",
    "  categories :: string,\n",
    "  availability :: int,\n",
    "  business_name :: string,\n",
    "  start_date :: string,\n",
    "  fans :: string,\n",
    "  reviews :: string,\n",
    "  INPUT_FILE_NAME() as filename,\n",
    "  CURRENT_TIMESTAMP() as createdon \n",
    "  FROM \"abfs://buscontain@stgbus.dfs.core.windows.net/source/bronze_data.csv\"\n",
    "  )\n",
    "  fileformat=CSV\n",
    "  format_options('header'='true')\n"
   ]
  },
  {
   "cell_type": "code",
   "execution_count": 0,
   "metadata": {
    "application/vnd.databricks.v1+cell": {
     "cellMetadata": {
      "byteLimit": 2048000,
      "implicitDf": true,
      "rowLimit": 10000
     },
     "inputWidgets": {},
     "nuid": "f4af98b9-c51f-461a-aa6c-5039e4a71ed4",
     "showTitle": false,
     "title": ""
    }
   },
   "outputs": [
    {
     "output_type": "display_data",
     "data": {
      "text/html": [
       "<style scoped>\n",
       "  .table-result-container {\n",
       "    max-height: 300px;\n",
       "    overflow: auto;\n",
       "  }\n",
       "  table, th, td {\n",
       "    border: 1px solid black;\n",
       "    border-collapse: collapse;\n",
       "  }\n",
       "  th, td {\n",
       "    padding: 5px;\n",
       "  }\n",
       "  th {\n",
       "    text-align: left;\n",
       "  }\n",
       "</style><div class='table-result-container'><table class='table-result'><thead style='background-color: white'><tr><th>user_id</th><th>user_name</th><th>average_business_count</th><th>business_id</th><th>review_id</th><th>state</th><th>city</th><th>stars</th><th>categories</th><th>availability</th><th>business_name</th><th>start_date</th><th>fans</th><th>reviews</th><th>filename</th><th>createdon</th></tr></thead><tbody><tr><td>vBFtIlBirAvgbTrxE6w30A</td><td>Vikki</td><td>1</td><td>-DGsnMlRrR_tv8avrpQLQw</td><td>eQMbAv02qGnar20BzGKnrQ</td><td>Pennsylvania</td><td>Philadelphia</td><td>5.0</td><td>Breakfast & Brunch, Restaurants, Diners</td><td>1</td><td>Sam's Morning Glory Diner</td><td>2010-04-12 16:15:25</td><td>1</td><td>Not sure why this place only has an average of 3.5 stars. It was fantastic. We had an early lunch/brunch and I ordered a breakfast platter with the famed biscuit. DELICIOUS!! The biscuit was savory (and square!) and didn't even need butter. I could have ordered a pan of these to go. Eggs, sausage and potatoes were also perfect and plentiful. Will definitely return when I'm in the area.</td><td>abfs://buscontain@stgbus.dfs.core.windows.net/source/bronze_data.csv/part-00000-tid-7799268684431025758-56c52a07-9e47-43f4-bcf0-71f8e6afbed7-853-1-c000.csv</td><td>2024-02-04T11:43:17.57Z</td></tr><tr><td>vBFtIlBirAvgbTrxE6w30A</td><td>Vikki</td><td>1</td><td>aDvsKgUSTQaZ_yM-ZcWWcg</td><td>YW2q4p8OwP84d--fHrUTrQ</td><td>Pennsylvania</td><td>Bryn Mawr</td><td>4.0</td><td>Food, Juice Bars & Smoothies, Restaurants, Sandwiches, Salad, Vegan, Vegetarian</td><td>1</td><td>Naked Lunch</td><td>2010-04-12 16:15:25</td><td>1</td><td>I keep forgetting about Naked Lunch as an eatery option because it's inside Mom's Organic Market, and I rarely shop at Mom's because I don't live in Bryn Mawr. But, when I do go to Mom's, I try to grab a quick meal at Naked Lunch because it's so darn... organic and quite healthy. I've had the Moler Bowl twice, but I tried the Jammed Yam on my last visit, and it's now my new favorite. Large baked yam stuffed with quinoa (I think I asked for quinoa instead of what it's supposed to come with), black beans, and avocado. It's served with some kind of mild jalepeno dressing. It was kind of bland, but when I added salt and pepper it was delicious, and it's very filling. I wish Naked Lunch were in Suburban Square, or somewhere in Ardmore with its own storefront. It's kinda pricey (isn't all organic food?), but for $8.50 it's a filling meal and a great alternative to Sweetgreen and Honeygrow.</td><td>abfs://buscontain@stgbus.dfs.core.windows.net/source/bronze_data.csv/part-00000-tid-7799268684431025758-56c52a07-9e47-43f4-bcf0-71f8e6afbed7-853-1-c000.csv</td><td>2024-02-04T11:43:17.57Z</td></tr><tr><td>vBFtIlBirAvgbTrxE6w30A</td><td>Vikki</td><td>1</td><td>KvfKuEE9vdMha3F15zbsnA</td><td>6Nbc29KSLuses46gGiQmNw</td><td>Pennsylvania</td><td>Wynnewood</td><td>4.0</td><td>Ice Cream & Frozen Yogurt, Food</td><td>1</td><td>Yapple Yogurt</td><td>2010-04-12 16:15:25</td><td>1</td><td>Given that SweetGreen recently opened in nearby Ardmore and serves fat-free plain soft serve yogurt with healthy toppings,  I was doubtful that YY would make much of an impact or serve a purpose. But I guess I'm wrong since, at 2:37 on a Tuesday afternoon, the place is humming. Ok, so it's mostly moms and tots, and high school kids, but I am surprised to see it so busy. \n",
       "</td><td>abfs://buscontain@stgbus.dfs.core.windows.net/source/bronze_data.csv/part-00000-tid-7799268684431025758-56c52a07-9e47-43f4-bcf0-71f8e6afbed7-853-1-c000.csv</td><td>2024-02-04T11:43:17.57Z</td></tr></tbody></table></div>"
      ]
     },
     "metadata": {
      "application/vnd.databricks.v1+output": {
       "addedWidgets": {},
       "aggData": [],
       "aggError": "",
       "aggOverflow": false,
       "aggSchema": [],
       "aggSeriesLimitReached": false,
       "aggType": "",
       "arguments": {},
       "columnCustomDisplayInfos": {},
       "data": [
        [
         "vBFtIlBirAvgbTrxE6w30A",
         "Vikki",
         1,
         "-DGsnMlRrR_tv8avrpQLQw",
         "eQMbAv02qGnar20BzGKnrQ",
         "Pennsylvania",
         "Philadelphia",
         5.0,
         "Breakfast & Brunch, Restaurants, Diners",
         1,
         "Sam's Morning Glory Diner",
         "2010-04-12 16:15:25",
         "1",
         "Not sure why this place only has an average of 3.5 stars. It was fantastic. We had an early lunch/brunch and I ordered a breakfast platter with the famed biscuit. DELICIOUS!! The biscuit was savory (and square!) and didn't even need butter. I could have ordered a pan of these to go. Eggs, sausage and potatoes were also perfect and plentiful. Will definitely return when I'm in the area.",
         "abfs://buscontain@stgbus.dfs.core.windows.net/source/bronze_data.csv/part-00000-tid-7799268684431025758-56c52a07-9e47-43f4-bcf0-71f8e6afbed7-853-1-c000.csv",
         "2024-02-04T11:43:17.57Z"
        ],
        [
         "vBFtIlBirAvgbTrxE6w30A",
         "Vikki",
         1,
         "aDvsKgUSTQaZ_yM-ZcWWcg",
         "YW2q4p8OwP84d--fHrUTrQ",
         "Pennsylvania",
         "Bryn Mawr",
         4.0,
         "Food, Juice Bars & Smoothies, Restaurants, Sandwiches, Salad, Vegan, Vegetarian",
         1,
         "Naked Lunch",
         "2010-04-12 16:15:25",
         "1",
         "I keep forgetting about Naked Lunch as an eatery option because it's inside Mom's Organic Market, and I rarely shop at Mom's because I don't live in Bryn Mawr. But, when I do go to Mom's, I try to grab a quick meal at Naked Lunch because it's so darn... organic and quite healthy. I've had the Moler Bowl twice, but I tried the Jammed Yam on my last visit, and it's now my new favorite. Large baked yam stuffed with quinoa (I think I asked for quinoa instead of what it's supposed to come with), black beans, and avocado. It's served with some kind of mild jalepeno dressing. It was kind of bland, but when I added salt and pepper it was delicious, and it's very filling. I wish Naked Lunch were in Suburban Square, or somewhere in Ardmore with its own storefront. It's kinda pricey (isn't all organic food?), but for $8.50 it's a filling meal and a great alternative to Sweetgreen and Honeygrow.",
         "abfs://buscontain@stgbus.dfs.core.windows.net/source/bronze_data.csv/part-00000-tid-7799268684431025758-56c52a07-9e47-43f4-bcf0-71f8e6afbed7-853-1-c000.csv",
         "2024-02-04T11:43:17.57Z"
        ],
        [
         "vBFtIlBirAvgbTrxE6w30A",
         "Vikki",
         1,
         "KvfKuEE9vdMha3F15zbsnA",
         "6Nbc29KSLuses46gGiQmNw",
         "Pennsylvania",
         "Wynnewood",
         4.0,
         "Ice Cream & Frozen Yogurt, Food",
         1,
         "Yapple Yogurt",
         "2010-04-12 16:15:25",
         "1",
         "Given that SweetGreen recently opened in nearby Ardmore and serves fat-free plain soft serve yogurt with healthy toppings,  I was doubtful that YY would make much of an impact or serve a purpose. But I guess I'm wrong since, at 2:37 on a Tuesday afternoon, the place is humming. Ok, so it's mostly moms and tots, and high school kids, but I am surprised to see it so busy. \n",
         "abfs://buscontain@stgbus.dfs.core.windows.net/source/bronze_data.csv/part-00000-tid-7799268684431025758-56c52a07-9e47-43f4-bcf0-71f8e6afbed7-853-1-c000.csv",
         "2024-02-04T11:43:17.57Z"
        ]
       ],
       "datasetInfos": [],
       "dbfsResultPath": null,
       "isJsonSchema": true,
       "metadata": {
        "dataframeName": "_sqldf",
        "executionCount": 9
       },
       "overflow": false,
       "plotOptions": {
        "customPlotOptions": {},
        "displayType": "table",
        "pivotAggregation": null,
        "pivotColumns": null,
        "xColumns": null,
        "yColumns": null
       },
       "removedWidgets": [],
       "schema": [
        {
         "metadata": "{}",
         "name": "user_id",
         "type": "\"string\""
        },
        {
         "metadata": "{}",
         "name": "user_name",
         "type": "\"string\""
        },
        {
         "metadata": "{}",
         "name": "average_business_count",
         "type": "\"integer\""
        },
        {
         "metadata": "{}",
         "name": "business_id",
         "type": "\"string\""
        },
        {
         "metadata": "{}",
         "name": "review_id",
         "type": "\"string\""
        },
        {
         "metadata": "{}",
         "name": "state",
         "type": "\"string\""
        },
        {
         "metadata": "{}",
         "name": "city",
         "type": "\"string\""
        },
        {
         "metadata": "{}",
         "name": "stars",
         "type": "\"double\""
        },
        {
         "metadata": "{}",
         "name": "categories",
         "type": "\"string\""
        },
        {
         "metadata": "{}",
         "name": "availability",
         "type": "\"integer\""
        },
        {
         "metadata": "{}",
         "name": "business_name",
         "type": "\"string\""
        },
        {
         "metadata": "{}",
         "name": "start_date",
         "type": "\"string\""
        },
        {
         "metadata": "{}",
         "name": "fans",
         "type": "\"string\""
        },
        {
         "metadata": "{}",
         "name": "reviews",
         "type": "\"string\""
        },
        {
         "metadata": "{}",
         "name": "filename",
         "type": "\"string\""
        },
        {
         "metadata": "{}",
         "name": "createdon",
         "type": "\"timestamp\""
        }
       ],
       "type": "table"
      }
     },
     "output_type": "display_data"
    }
   ],
   "source": [
    "%sql\n",
    "SELECT *\n",
    "FROM business_db.business_bronze\n",
    "limit 3"
   ]
  },
  {
   "cell_type": "code",
   "execution_count": 0,
   "metadata": {
    "application/vnd.databricks.v1+cell": {
     "cellMetadata": {
      "byteLimit": 2048000,
      "implicitDf": true,
      "rowLimit": 10000
     },
     "inputWidgets": {},
     "nuid": "a2a2cad6-d117-4933-8c47-026c35fb5c13",
     "showTitle": false,
     "title": ""
    }
   },
   "outputs": [
    {
     "output_type": "display_data",
     "data": {
      "text/html": [
       "<style scoped>\n",
       "  .table-result-container {\n",
       "    max-height: 300px;\n",
       "    overflow: auto;\n",
       "  }\n",
       "  table, th, td {\n",
       "    border: 1px solid black;\n",
       "    border-collapse: collapse;\n",
       "  }\n",
       "  th, td {\n",
       "    padding: 5px;\n",
       "  }\n",
       "  th {\n",
       "    text-align: left;\n",
       "  }\n",
       "</style><div class='table-result-container'><table class='table-result'><thead style='background-color: white'><tr></tr></thead><tbody></tbody></table></div>"
      ]
     },
     "metadata": {
      "application/vnd.databricks.v1+output": {
       "addedWidgets": {},
       "aggData": [],
       "aggError": "",
       "aggOverflow": false,
       "aggSchema": [],
       "aggSeriesLimitReached": false,
       "aggType": "",
       "arguments": {},
       "columnCustomDisplayInfos": {},
       "data": [],
       "datasetInfos": [],
       "dbfsResultPath": null,
       "isJsonSchema": true,
       "metadata": {
        "dataframeName": null
       },
       "overflow": false,
       "plotOptions": {
        "customPlotOptions": {},
        "displayType": "table",
        "pivotAggregation": null,
        "pivotColumns": null,
        "xColumns": null,
        "yColumns": null
       },
       "removedWidgets": [],
       "schema": [],
       "type": "table"
      }
     },
     "output_type": "display_data"
    }
   ],
   "source": [
    "%sql\n",
    "CREATE TABLE business_db.business_silver\n",
    "(\n",
    "  user_id string, \n",
    "  user_name string,\n",
    "  user_count int, \n",
    "  average_business_count int,\n",
    "  business_id string,\n",
    "  review_id string,\n",
    "  state string,\n",
    "  city string,\n",
    "  stars double,\n",
    "  categories string,\n",
    "  availability string,\n",
    "  business_name string,\n",
    "  start_date TIMESTAMP,\n",
    "  fans string,\n",
    "  reviews string,\n",
    "  modifiedon timestamp,\n",
    "  createdon timestamp\n",
    ")\n",
    "USING delta \n",
    "LOCATION 'dbfs:/FileStore/data/business_silver.delta' \n",
    "TBLPROPERTIES (\n",
    "  delta.enableChangeDataFeed = true\n",
    ")"
   ]
  },
  {
   "cell_type": "code",
   "execution_count": 0,
   "metadata": {
    "application/vnd.databricks.v1+cell": {
     "cellMetadata": {
      "byteLimit": 2048000,
      "implicitDf": true,
      "rowLimit": 10000
     },
     "inputWidgets": {},
     "nuid": "43a50c63-a842-4f0d-9a4f-01c442b4f499",
     "showTitle": false,
     "title": ""
    }
   },
   "outputs": [
    {
     "output_type": "display_data",
     "data": {
      "text/html": [
       "<style scoped>\n",
       "  .table-result-container {\n",
       "    max-height: 300px;\n",
       "    overflow: auto;\n",
       "  }\n",
       "  table, th, td {\n",
       "    border: 1px solid black;\n",
       "    border-collapse: collapse;\n",
       "  }\n",
       "  th, td {\n",
       "    padding: 5px;\n",
       "  }\n",
       "  th {\n",
       "    text-align: left;\n",
       "  }\n",
       "</style><div class='table-result-container'><table class='table-result'><thead style='background-color: white'><tr></tr></thead><tbody></tbody></table></div>"
      ]
     },
     "metadata": {
      "application/vnd.databricks.v1+output": {
       "addedWidgets": {},
       "aggData": [],
       "aggError": "",
       "aggOverflow": false,
       "aggSchema": [],
       "aggSeriesLimitReached": false,
       "aggType": "",
       "arguments": {},
       "columnCustomDisplayInfos": {},
       "data": [],
       "datasetInfos": [],
       "dbfsResultPath": null,
       "isJsonSchema": true,
       "metadata": {
        "dataframeName": null
       },
       "overflow": false,
       "plotOptions": {
        "customPlotOptions": {},
        "displayType": "table",
        "pivotAggregation": null,
        "pivotColumns": null,
        "xColumns": null,
        "yColumns": null
       },
       "removedWidgets": [],
       "schema": [],
       "type": "table"
      }
     },
     "output_type": "display_data"
    }
   ],
   "source": [
    "%sql\n",
    "create or replace temporary view business_bronze_changes \n",
    "as \n",
    "select user_id , \n",
    "user_name , \n",
    "count(*) over (partition by user_id) as user_count,\n",
    "average_business_count ,\n",
    "business_id ,\n",
    "review_id ,\n",
    "state ,\n",
    "city ,\n",
    "stars,\n",
    "categories ,\n",
    "case when availability= 1 then 'Open' else NULL end as availability,\n",
    "business_name ,\n",
    "start_date ,\n",
    "reviews  \n",
    "from table_changes('business_db.business_bronze',1) \n",
    "where 1=1\n",
    "and availability = 1 "
   ]
  },
  {
   "cell_type": "code",
   "execution_count": 0,
   "metadata": {
    "application/vnd.databricks.v1+cell": {
     "cellMetadata": {
      "byteLimit": 2048000,
      "implicitDf": true,
      "rowLimit": 10000
     },
     "inputWidgets": {},
     "nuid": "3c1d1812-fbc6-4b4a-b544-fa27b7c84ef2",
     "showTitle": false,
     "title": ""
    }
   },
   "outputs": [
    {
     "output_type": "display_data",
     "data": {
      "text/html": [
       "<style scoped>\n",
       "  .table-result-container {\n",
       "    max-height: 300px;\n",
       "    overflow: auto;\n",
       "  }\n",
       "  table, th, td {\n",
       "    border: 1px solid black;\n",
       "    border-collapse: collapse;\n",
       "  }\n",
       "  th, td {\n",
       "    padding: 5px;\n",
       "  }\n",
       "  th {\n",
       "    text-align: left;\n",
       "  }\n",
       "</style><div class='table-result-container'><table class='table-result'><thead style='background-color: white'><tr><th>user_id</th><th>user_name</th><th>user_count</th><th>average_business_count</th><th>business_id</th><th>review_id</th><th>state</th><th>city</th><th>stars</th><th>categories</th><th>availability</th><th>business_name</th><th>start_date</th><th>reviews</th></tr></thead><tbody><tr><td>--6RLpoufvX9f5gQs_LOuw</td><td>Megan</td><td>1</td><td>1</td><td>AB5mv5gMXGq5xjhdNuFSMg</td><td>qF1f98xRf9f6k7JdfIrk4Q</td><td>Pennsylvania</td><td>Philadelphia</td><td>5.0</td><td>Food, Ice Cream & Frozen Yogurt</td><td>Open</td><td>Frozen Rolled Ice Cream</td><td>2014-02-10 00:14:04</td><td>Amazing ice cream and beverages! My girls and my husband got their hand rolled ice cream and it was so delicious and fresh tasting.\n",
       "</td></tr><tr><td>--Kwhcbkh7jxkhVVQZo2uQ</td><td>Larz</td><td>3</td><td>1</td><td>ORL4JE6tz3rJxVqkdKfegA</td><td>bSz0fCiKRJAB0qI9lB519A</td><td>Tennessee</td><td>Nashville</td><td>4.0</td><td>Venues & Event Spaces, Performing Arts, Arts & Entertainment, Hotels & Travel, Food, Convenience Stores, American (New), Beauty & Spas, Restaurants, Museums, Event Planning & Services, Hotels, Cinema, Resorts, Day Spas</td><td>Open</td><td>Gaylord Opryland Resort & Convention Center</td><td>2014-05-30 16:58:11</td><td>The place is absolutely huge! That's the attraction. Bring some comfortable shoes because it can take several minutes to walk from one end to the other. It's a small town with a river and waterfalls inside a gigantic building. You will get lost the entire first day. You can spend a couple days lounging around and taking in the trees, plants, fish and waterfalls.\n",
       "</td></tr><tr><td>--Kwhcbkh7jxkhVVQZo2uQ</td><td>Larz</td><td>3</td><td>1</td><td>tIvfmgT1qMeAEQf8CI5fPQ</td><td>G4YEeMu4Sj1XUEmlJwGe4A</td><td>Tennessee</td><td>Nashville</td><td>4.0</td><td>Bars, Nightlife, American (Traditional), Barbeque, Seafood, Beer Bar, Sports Bars, Restaurants, Burgers, Steakhouses, Southern</td><td>Open</td><td>Caney Fork River Valley Grille</td><td>2014-05-30 16:58:11</td><td>Ate dinner there tonight. Service was pretty fast and very nice. In fact, she might have tried a little hard to be nice and flirty. \n",
       "</td></tr></tbody></table></div>"
      ]
     },
     "metadata": {
      "application/vnd.databricks.v1+output": {
       "addedWidgets": {},
       "aggData": [],
       "aggError": "",
       "aggOverflow": false,
       "aggSchema": [],
       "aggSeriesLimitReached": false,
       "aggType": "",
       "arguments": {},
       "columnCustomDisplayInfos": {},
       "data": [
        [
         "--6RLpoufvX9f5gQs_LOuw",
         "Megan",
         1,
         1,
         "AB5mv5gMXGq5xjhdNuFSMg",
         "qF1f98xRf9f6k7JdfIrk4Q",
         "Pennsylvania",
         "Philadelphia",
         5.0,
         "Food, Ice Cream & Frozen Yogurt",
         "Open",
         "Frozen Rolled Ice Cream",
         "2014-02-10 00:14:04",
         "Amazing ice cream and beverages! My girls and my husband got their hand rolled ice cream and it was so delicious and fresh tasting.\n"
        ],
        [
         "--Kwhcbkh7jxkhVVQZo2uQ",
         "Larz",
         3,
         1,
         "ORL4JE6tz3rJxVqkdKfegA",
         "bSz0fCiKRJAB0qI9lB519A",
         "Tennessee",
         "Nashville",
         4.0,
         "Venues & Event Spaces, Performing Arts, Arts & Entertainment, Hotels & Travel, Food, Convenience Stores, American (New), Beauty & Spas, Restaurants, Museums, Event Planning & Services, Hotels, Cinema, Resorts, Day Spas",
         "Open",
         "Gaylord Opryland Resort & Convention Center",
         "2014-05-30 16:58:11",
         "The place is absolutely huge! That's the attraction. Bring some comfortable shoes because it can take several minutes to walk from one end to the other. It's a small town with a river and waterfalls inside a gigantic building. You will get lost the entire first day. You can spend a couple days lounging around and taking in the trees, plants, fish and waterfalls.\n"
        ],
        [
         "--Kwhcbkh7jxkhVVQZo2uQ",
         "Larz",
         3,
         1,
         "tIvfmgT1qMeAEQf8CI5fPQ",
         "G4YEeMu4Sj1XUEmlJwGe4A",
         "Tennessee",
         "Nashville",
         4.0,
         "Bars, Nightlife, American (Traditional), Barbeque, Seafood, Beer Bar, Sports Bars, Restaurants, Burgers, Steakhouses, Southern",
         "Open",
         "Caney Fork River Valley Grille",
         "2014-05-30 16:58:11",
         "Ate dinner there tonight. Service was pretty fast and very nice. In fact, she might have tried a little hard to be nice and flirty. \n"
        ]
       ],
       "datasetInfos": [],
       "dbfsResultPath": null,
       "isJsonSchema": true,
       "metadata": {
        "dataframeName": "_sqldf",
        "executionCount": 11
       },
       "overflow": false,
       "plotOptions": {
        "customPlotOptions": {},
        "displayType": "table",
        "pivotAggregation": null,
        "pivotColumns": null,
        "xColumns": null,
        "yColumns": null
       },
       "removedWidgets": [],
       "schema": [
        {
         "metadata": "{}",
         "name": "user_id",
         "type": "\"string\""
        },
        {
         "metadata": "{}",
         "name": "user_name",
         "type": "\"string\""
        },
        {
         "metadata": "{}",
         "name": "user_count",
         "type": "\"long\""
        },
        {
         "metadata": "{}",
         "name": "average_business_count",
         "type": "\"integer\""
        },
        {
         "metadata": "{}",
         "name": "business_id",
         "type": "\"string\""
        },
        {
         "metadata": "{}",
         "name": "review_id",
         "type": "\"string\""
        },
        {
         "metadata": "{}",
         "name": "state",
         "type": "\"string\""
        },
        {
         "metadata": "{}",
         "name": "city",
         "type": "\"string\""
        },
        {
         "metadata": "{}",
         "name": "stars",
         "type": "\"double\""
        },
        {
         "metadata": "{}",
         "name": "categories",
         "type": "\"string\""
        },
        {
         "metadata": "{}",
         "name": "availability",
         "type": "\"string\""
        },
        {
         "metadata": "{}",
         "name": "business_name",
         "type": "\"string\""
        },
        {
         "metadata": "{}",
         "name": "start_date",
         "type": "\"string\""
        },
        {
         "metadata": "{}",
         "name": "reviews",
         "type": "\"string\""
        }
       ],
       "type": "table"
      }
     },
     "output_type": "display_data"
    }
   ],
   "source": [
    "%sql\n",
    "select * from business_bronze_changes limit 3"
   ]
  },
  {
   "cell_type": "code",
   "execution_count": 0,
   "metadata": {
    "application/vnd.databricks.v1+cell": {
     "cellMetadata": {
      "byteLimit": 2048000,
      "implicitDf": true,
      "rowLimit": 10000
     },
     "inputWidgets": {},
     "nuid": "328f15e6-a7c6-40e5-b6ff-e8643a17639c",
     "showTitle": false,
     "title": ""
    }
   },
   "outputs": [
    {
     "output_type": "display_data",
     "data": {
      "text/html": [
       "<style scoped>\n",
       "  .table-result-container {\n",
       "    max-height: 300px;\n",
       "    overflow: auto;\n",
       "  }\n",
       "  table, th, td {\n",
       "    border: 1px solid black;\n",
       "    border-collapse: collapse;\n",
       "  }\n",
       "  th, td {\n",
       "    padding: 5px;\n",
       "  }\n",
       "  th {\n",
       "    text-align: left;\n",
       "  }\n",
       "</style><div class='table-result-container'><table class='table-result'><thead style='background-color: white'><tr><th>num_affected_rows</th><th>num_updated_rows</th><th>num_deleted_rows</th><th>num_inserted_rows</th></tr></thead><tbody><tr><td>5790989</td><td>0</td><td>0</td><td>5790989</td></tr></tbody></table></div>"
      ]
     },
     "metadata": {
      "application/vnd.databricks.v1+output": {
       "addedWidgets": {},
       "aggData": [],
       "aggError": "",
       "aggOverflow": false,
       "aggSchema": [],
       "aggSeriesLimitReached": false,
       "aggType": "",
       "arguments": {},
       "columnCustomDisplayInfos": {},
       "data": [
        [
         5790989,
         0,
         0,
         5790989
        ]
       ],
       "datasetInfos": [],
       "dbfsResultPath": null,
       "isJsonSchema": true,
       "metadata": {
        "dataframeName": "_sqldf",
        "executionCount": 12
       },
       "overflow": false,
       "plotOptions": {
        "customPlotOptions": {},
        "displayType": "table",
        "pivotAggregation": null,
        "pivotColumns": null,
        "xColumns": null,
        "yColumns": null
       },
       "removedWidgets": [],
       "schema": [
        {
         "metadata": "{}",
         "name": "num_affected_rows",
         "type": "\"long\""
        },
        {
         "metadata": "{}",
         "name": "num_updated_rows",
         "type": "\"long\""
        },
        {
         "metadata": "{}",
         "name": "num_deleted_rows",
         "type": "\"long\""
        },
        {
         "metadata": "{}",
         "name": "num_inserted_rows",
         "type": "\"long\""
        }
       ],
       "type": "table"
      }
     },
     "output_type": "display_data"
    }
   ],
   "source": [
    "%sql\n",
    "merge into business_db.business_silver tgt using business_bronze_changes src on tgt.user_id = src.user_id\n",
    "when matched then \n",
    "update set \n",
    "tgt.user_id                = src.user_id  ,\n",
    "tgt.user_name              = src.user_name ,\n",
    "tgt.user_count             = src.user_count ,   \n",
    "tgt.average_business_count = src.average_business_count ,\n",
    "tgt.business_id            = src.business_id  ,\n",
    "tgt.review_id              = src.review_id  ,\n",
    "tgt.state                  = src.state,\n",
    "tgt.city                   = src.city ,\n",
    "tgt.stars                  = src.stars , \n",
    "tgt.categories             = src.categories, \n",
    "tgt.availability           = src.availability,\n",
    "tgt.business_name          = src.business_name ,  \n",
    "tgt.start_date             = src.start_date, \n",
    "tgt.reviews                = src.reviews ,\n",
    "tgt.modifiedon             = CURRENT_TIMESTAMP() , \n",
    "tgt.createdon              = CURRENT_TIMESTAMP() \n",
    "when not matched then \n",
    "insert(user_id  ,             \n",
    "user_name  ,           \n",
    "user_count  ,          \n",
    "average_business_count,\n",
    "business_id  ,         \n",
    "review_id,             \n",
    "state ,                \n",
    "city ,                 \n",
    "stars,                 \n",
    "categories ,           \n",
    "availability ,         \n",
    "business_name  ,       \n",
    "start_date ,                       \n",
    "reviews ,              \n",
    "modifiedon ,           \n",
    "createdon  ) \n",
    "values(user_id   ,            \n",
    "user_name ,            \n",
    "user_count ,           \n",
    "average_business_count,\n",
    "business_id,           \n",
    "review_id ,            \n",
    "state ,                \n",
    "city  ,                \n",
    "stars ,                \n",
    "categories ,           \n",
    "availability,          \n",
    "business_name ,        \n",
    "start_date ,             \n",
    "reviews ,            \n",
    "CURRENT_TIMESTAMP(),\n",
    "CURRENT_TIMESTAMP()\n",
    ")\n"
   ]
  },
  {
   "cell_type": "code",
   "execution_count": 0,
   "metadata": {
    "application/vnd.databricks.v1+cell": {
     "cellMetadata": {
      "byteLimit": 2048000,
      "implicitDf": true,
      "rowLimit": 10000
     },
     "inputWidgets": {},
     "nuid": "a0945025-b8f1-4d8d-a555-9c215918b430",
     "showTitle": false,
     "title": ""
    }
   },
   "outputs": [
    {
     "output_type": "display_data",
     "data": {
      "text/html": [
       "<style scoped>\n",
       "  .table-result-container {\n",
       "    max-height: 300px;\n",
       "    overflow: auto;\n",
       "  }\n",
       "  table, th, td {\n",
       "    border: 1px solid black;\n",
       "    border-collapse: collapse;\n",
       "  }\n",
       "  th, td {\n",
       "    padding: 5px;\n",
       "  }\n",
       "  th {\n",
       "    text-align: left;\n",
       "  }\n",
       "</style><div class='table-result-container'><table class='table-result'><thead style='background-color: white'><tr></tr></thead><tbody></tbody></table></div>"
      ]
     },
     "metadata": {
      "application/vnd.databricks.v1+output": {
       "addedWidgets": {},
       "aggData": [],
       "aggError": "",
       "aggOverflow": false,
       "aggSchema": [],
       "aggSeriesLimitReached": false,
       "aggType": "",
       "arguments": {},
       "columnCustomDisplayInfos": {},
       "data": [],
       "datasetInfos": [],
       "dbfsResultPath": null,
       "isJsonSchema": true,
       "metadata": {
        "dataframeName": null
       },
       "overflow": false,
       "plotOptions": {
        "customPlotOptions": {},
        "displayType": "table",
        "pivotAggregation": null,
        "pivotColumns": null,
        "xColumns": null,
        "yColumns": null
       },
       "removedWidgets": [],
       "schema": [],
       "type": "table"
      }
     },
     "output_type": "display_data"
    }
   ],
   "source": [
    "%sql\n",
    "CREATE TABLE business_db.business_gold\n",
    "(\n",
    "  user_id string, \n",
    "  user_count int, \n",
    "  average_business_count int,\n",
    "  business_id string,\n",
    "  state string,\n",
    "  city string,\n",
    "  stars double,\n",
    "  business_name string,\n",
    "  start_date TIMESTAMP,\n",
    "  modifiedon timestamp,\n",
    "  createdon timestamp\n",
    ")\n",
    "USING delta \n",
    "LOCATION 'dbfs:/FileStore/data/business_gold.delta' \n",
    "TBLPROPERTIES (\n",
    "  delta.enableChangeDataFeed = true\n",
    ")"
   ]
  },
  {
   "cell_type": "code",
   "execution_count": 0,
   "metadata": {
    "application/vnd.databricks.v1+cell": {
     "cellMetadata": {},
     "inputWidgets": {},
     "nuid": "48511b5f-f510-4fe2-865a-f4d611051635",
     "showTitle": false,
     "title": ""
    }
   },
   "outputs": [],
   "source": [
    "%sql\n",
    "insert overwrite table business_db.business_gold\n",
    "select user_id, \n",
    "user_count ,\n",
    "average_business_count, \n",
    "business_id ,\n",
    "state ,\n",
    "stars ,\n",
    "business_name ,\n",
    "start_date ,\n",
    "modifiedon ,\n",
    "current_timestamp() as createdon,\n",
    "count(*) over (partition by business_name) as business_cnt\n",
    "from business_db.business_silver"
   ]
  },
  {
   "cell_type": "code",
   "execution_count": 0,
   "metadata": {
    "application/vnd.databricks.v1+cell": {
     "cellMetadata": {},
     "inputWidgets": {},
     "nuid": "e3887bdd-64fb-4bab-a41c-87e9ef45043e",
     "showTitle": false,
     "title": ""
    }
   },
   "outputs": [],
   "source": []
  },
  {
   "cell_type": "code",
   "execution_count": 0,
   "metadata": {
    "application/vnd.databricks.v1+cell": {
     "cellMetadata": {},
     "inputWidgets": {},
     "nuid": "60a9bfae-103c-45d8-8745-a3129640680f",
     "showTitle": false,
     "title": ""
    }
   },
   "outputs": [],
   "source": []
  },
  {
   "cell_type": "code",
   "execution_count": 0,
   "metadata": {
    "application/vnd.databricks.v1+cell": {
     "cellMetadata": {},
     "inputWidgets": {},
     "nuid": "c97bc327-2251-478f-8dbb-1cc5248d44b7",
     "showTitle": false,
     "title": ""
    }
   },
   "outputs": [],
   "source": []
  }
 ],
 "metadata": {
  "application/vnd.databricks.v1+notebook": {
   "dashboards": [],
   "language": "python",
   "notebookMetadata": {
    "mostRecentlyExecutedCommandWithImplicitDF": {
     "commandId": 2334840478625965,
     "dataframes": [
      "_sqldf"
     ]
    },
    "pythonIndentUnit": 4
   },
   "notebookName": "load_bronze_silver_gold_layers_CDF",
   "widgets": {}
  }
 },
 "nbformat": 4,
 "nbformat_minor": 0
}
